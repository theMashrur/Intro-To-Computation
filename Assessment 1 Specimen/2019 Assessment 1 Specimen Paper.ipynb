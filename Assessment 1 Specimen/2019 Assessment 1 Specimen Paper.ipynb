{
 "cells": [
  {
   "cell_type": "markdown",
   "metadata": {},
   "source": [
    "# M40006 In-Course Assessment\n",
    "\n",
    "# Specimen Paper\n",
    "\n",
    "## Two Hours\n",
    "\n",
    "### Answer all questions, submitting your answers as a single Jupyter notebook."
   ]
  },
  {
   "cell_type": "markdown",
   "metadata": {},
   "source": [
    "## Question 1 (20 marks)\n",
    "\n",
    "Using Python, and showing your code, calculate:"
   ]
  },
  {
   "cell_type": "markdown",
   "metadata": {},
   "source": [
    "(a) $5^{2+8}$ as an int."
   ]
  },
  {
   "cell_type": "code",
   "execution_count": 1,
   "metadata": {},
   "outputs": [
    {
     "data": {
      "text/plain": [
       "9765625"
      ]
     },
     "execution_count": 1,
     "metadata": {},
     "output_type": "execute_result"
    }
   ],
   "source": [
    "int(5**(2+8))"
   ]
  },
  {
   "cell_type": "markdown",
   "metadata": {},
   "source": [
    "(b) $\\displaystyle{\\sin\\left(\\frac{\\pi}{12}\\right)}$ as a float."
   ]
  },
  {
   "cell_type": "code",
   "execution_count": 2,
   "metadata": {},
   "outputs": [
    {
     "data": {
      "text/plain": [
       "0.25881904510252074"
      ]
     },
     "execution_count": 2,
     "metadata": {},
     "output_type": "execute_result"
    }
   ],
   "source": [
    "from math import sin, pi\n",
    "\n",
    "sin(pi/12)"
   ]
  },
  {
   "cell_type": "markdown",
   "metadata": {},
   "source": [
    "(c) The residue of $19207812^{41506412}$ modulo $32271881$ as an int."
   ]
  },
  {
   "cell_type": "code",
   "execution_count": 3,
   "metadata": {},
   "outputs": [
    {
     "data": {
      "text/plain": [
       "8333554"
      ]
     },
     "execution_count": 3,
     "metadata": {},
     "output_type": "execute_result"
    }
   ],
   "source": [
    "pow(19207812, 41506412, 32271881)"
   ]
  },
  {
   "cell_type": "markdown",
   "metadata": {},
   "source": [
    "(d) As floats, the two roots of $12\\,x^2 + 11\\,x - 15 = 0$ (you may use the quadratic formula)."
   ]
  },
  {
   "cell_type": "code",
   "execution_count": 4,
   "metadata": {},
   "outputs": [
    {
     "name": "stdout",
     "output_type": "stream",
     "text": [
      "0.75\n",
      "-1.6666666666666667\n"
     ]
    }
   ],
   "source": [
    "from math import sqrt\n",
    "\n",
    "print((-11 + sqrt((11**2) - (4*12*-15)))/(2*12))\n",
    "\n",
    "print((-11 - sqrt(11**2 - 4*12*-15))/(2*12))"
   ]
  },
  {
   "cell_type": "markdown",
   "metadata": {},
   "source": [
    "(e) As complexes, the two roots of $9\\,z^2 - 12\\,z + 5 = 0$ (you may use the quadratic formula)."
   ]
  },
  {
   "cell_type": "code",
   "execution_count": 5,
   "metadata": {},
   "outputs": [
    {
     "name": "stdout",
     "output_type": "stream",
     "text": [
      "(0.6666666666666666+0.3333333333333333j)\n",
      "(0.6666666666666666-0.3333333333333333j)\n"
     ]
    }
   ],
   "source": [
    "from cmath import sqrt as csqrt\n",
    "\n",
    "print((12 + csqrt((12**2) - (4*9*5)))/(2*9))\n",
    "\n",
    "print((12 - csqrt((12**2) - (4*9*5)))/(2*9))"
   ]
  },
  {
   "cell_type": "markdown",
   "metadata": {},
   "source": [
    "(f) As a complex, the value of $\\ln (-e)$."
   ]
  },
  {
   "cell_type": "code",
   "execution_count": 6,
   "metadata": {},
   "outputs": [
    {
     "data": {
      "text/plain": [
       "(1+3.141592653589793j)"
      ]
     },
     "execution_count": 6,
     "metadata": {},
     "output_type": "execute_result"
    }
   ],
   "source": [
    "from cmath import log, e\n",
    "\n",
    "log(-e)"
   ]
  },
  {
   "cell_type": "markdown",
   "metadata": {},
   "source": [
    "## Question 2 (20 marks)\n",
    "\n",
    "(a) Assigning in each case an appropriate variable name, create:"
   ]
  },
  {
   "cell_type": "markdown",
   "metadata": {},
   "source": [
    "(i) A <code>range</code> object containing the numbers $5, 9, 13, \\dots, 101, 105$."
   ]
  },
  {
   "cell_type": "code",
   "execution_count": 7,
   "metadata": {},
   "outputs": [],
   "source": [
    "range5 = range(5, 106, 4)"
   ]
  },
  {
   "cell_type": "markdown",
   "metadata": {},
   "source": [
    "(ii) A list containing the numbers $5, 9, 13, \\dots, 101, 105$."
   ]
  },
  {
   "cell_type": "code",
   "execution_count": 8,
   "metadata": {},
   "outputs": [],
   "source": [
    "list5 = [x for x in range5]"
   ]
  },
  {
   "cell_type": "markdown",
   "metadata": {},
   "source": [
    "(iii) A tuple containing the numbers $5, 9, 13, \\dots, 101, 105$."
   ]
  },
  {
   "cell_type": "code",
   "execution_count": 9,
   "metadata": {},
   "outputs": [],
   "source": [
    "tuple5 = tuple([x for x in range5])"
   ]
  },
  {
   "cell_type": "markdown",
   "metadata": {},
   "source": [
    "(b) By slicing your <code>range</code> object from part (a)(i), create a <code>range</code> object containing its fifth, sixth, seventh and eighth elements."
   ]
  },
  {
   "cell_type": "code",
   "execution_count": 10,
   "metadata": {},
   "outputs": [
    {
     "data": {
      "text/plain": [
       "range(25, 41, 4)"
      ]
     },
     "execution_count": 10,
     "metadata": {},
     "output_type": "execute_result"
    }
   ],
   "source": [
    "range5[5:9]"
   ]
  },
  {
   "cell_type": "markdown",
   "metadata": {},
   "source": [
    "(c) Append the number $109$ to your list from part (a)(ii)."
   ]
  },
  {
   "cell_type": "code",
   "execution_count": 11,
   "metadata": {},
   "outputs": [],
   "source": [
    "list5.append(109)"
   ]
  },
  {
   "cell_type": "markdown",
   "metadata": {},
   "source": [
    "(d) Create a tuple consisting of your tuple from part (a)(iii), repeated five times."
   ]
  },
  {
   "cell_type": "code",
   "execution_count": 12,
   "metadata": {},
   "outputs": [
    {
     "data": {
      "text/plain": [
       "(5,\n",
       " 9,\n",
       " 13,\n",
       " 17,\n",
       " 21,\n",
       " 25,\n",
       " 29,\n",
       " 33,\n",
       " 37,\n",
       " 41,\n",
       " 45,\n",
       " 49,\n",
       " 53,\n",
       " 57,\n",
       " 61,\n",
       " 65,\n",
       " 69,\n",
       " 73,\n",
       " 77,\n",
       " 81,\n",
       " 85,\n",
       " 89,\n",
       " 93,\n",
       " 97,\n",
       " 101,\n",
       " 105,\n",
       " 5,\n",
       " 9,\n",
       " 13,\n",
       " 17,\n",
       " 21,\n",
       " 25,\n",
       " 29,\n",
       " 33,\n",
       " 37,\n",
       " 41,\n",
       " 45,\n",
       " 49,\n",
       " 53,\n",
       " 57,\n",
       " 61,\n",
       " 65,\n",
       " 69,\n",
       " 73,\n",
       " 77,\n",
       " 81,\n",
       " 85,\n",
       " 89,\n",
       " 93,\n",
       " 97,\n",
       " 101,\n",
       " 105,\n",
       " 5,\n",
       " 9,\n",
       " 13,\n",
       " 17,\n",
       " 21,\n",
       " 25,\n",
       " 29,\n",
       " 33,\n",
       " 37,\n",
       " 41,\n",
       " 45,\n",
       " 49,\n",
       " 53,\n",
       " 57,\n",
       " 61,\n",
       " 65,\n",
       " 69,\n",
       " 73,\n",
       " 77,\n",
       " 81,\n",
       " 85,\n",
       " 89,\n",
       " 93,\n",
       " 97,\n",
       " 101,\n",
       " 105,\n",
       " 5,\n",
       " 9,\n",
       " 13,\n",
       " 17,\n",
       " 21,\n",
       " 25,\n",
       " 29,\n",
       " 33,\n",
       " 37,\n",
       " 41,\n",
       " 45,\n",
       " 49,\n",
       " 53,\n",
       " 57,\n",
       " 61,\n",
       " 65,\n",
       " 69,\n",
       " 73,\n",
       " 77,\n",
       " 81,\n",
       " 85,\n",
       " 89,\n",
       " 93,\n",
       " 97,\n",
       " 101,\n",
       " 105,\n",
       " 5,\n",
       " 9,\n",
       " 13,\n",
       " 17,\n",
       " 21,\n",
       " 25,\n",
       " 29,\n",
       " 33,\n",
       " 37,\n",
       " 41,\n",
       " 45,\n",
       " 49,\n",
       " 53,\n",
       " 57,\n",
       " 61,\n",
       " 65,\n",
       " 69,\n",
       " 73,\n",
       " 77,\n",
       " 81,\n",
       " 85,\n",
       " 89,\n",
       " 93,\n",
       " 97,\n",
       " 101,\n",
       " 105)"
      ]
     },
     "execution_count": 12,
     "metadata": {},
     "output_type": "execute_result"
    }
   ],
   "source": [
    "tuple5*5"
   ]
  },
  {
   "cell_type": "markdown",
   "metadata": {},
   "source": [
    "## Question 3 (30 marks)\n",
    "\n",
    "Kepler's equation links two quantities useful in astronomy: a planet's <b>mean anomaly</b>, $M$, and its <b>eccentric anomaly</b>, $E$. Kepler's equation is\n",
    "$$M = E - e\\, \\sin E,$$\n",
    "where (lower-case) $e$ is the planet's orbital <b>eccentricity</b>."
   ]
  },
  {
   "cell_type": "markdown",
   "metadata": {},
   "source": [
    "(a) For a planet with orbital eccentricity $e=0.5$, find the mean anomaly if the eccentric anomaly is $E = 0.6$ radians."
   ]
  },
  {
   "cell_type": "code",
   "execution_count": 13,
   "metadata": {},
   "outputs": [
    {
     "data": {
      "text/plain": [
       "0.3176787633024823"
      ]
     },
     "execution_count": 13,
     "metadata": {},
     "output_type": "execute_result"
    }
   ],
   "source": [
    "(0.6 - 0.5*sin(0.6))"
   ]
  },
  {
   "cell_type": "markdown",
   "metadata": {},
   "source": [
    "(b) For a planet with orbital eccentricity $e=0.5$, find the eccentric anomaly if the mean anomaly is $M = \\pi/2$ radians. Do this by using a <code>for</code> loop to iterate\n",
    "$$E_{n+1} = M + e\\,\\sin E_n$$\n",
    "ten times, with $E_0 = M = \\pi/2$. Print your answer at the end."
   ]
  },
  {
   "cell_type": "code",
   "execution_count": 14,
   "metadata": {},
   "outputs": [
    {
     "name": "stdout",
     "output_type": "stream",
     "text": [
      "2.020979881456128\n"
     ]
    }
   ],
   "source": [
    "e, M = 0.5, pi/2\n",
    "\n",
    "E = M\n",
    "\n",
    "for num in range(10):\n",
    "    E = M + e*sin(E)\n",
    "    \n",
    "print(E)"
   ]
  },
  {
   "cell_type": "markdown",
   "metadata": {},
   "source": [
    "(c) For a planet with orbital eccentricity $e=0.5$, find the eccentric anomaly if the mean anomaly is $M = \\pi/2$ radians. Do this by using a <code>while</code> loop to iterate\n",
    "$$E_{n+1} = M + e\\,\\sin E_n$$\n",
    "until successive iterates lie within $5.0 \\times 10^{-7}$ of one another. Print your answer at the end."
   ]
  },
  {
   "cell_type": "code",
   "execution_count": 15,
   "metadata": {},
   "outputs": [
    {
     "name": "stdout",
     "output_type": "stream",
     "text": [
      "2.020979881456128\n"
     ]
    }
   ],
   "source": [
    "e, M = 0.5, pi/2\n",
    "\n",
    "oldE = M\n",
    "newE = M + e*sin(oldE)\n",
    "count1 = 1\n",
    "\n",
    "while abs(oldE - newE) > 5*(10**-7):\n",
    "    oldE = newE\n",
    "    newE = M + e*sin(oldE)\n",
    "    count1 += 1\n",
    "    \n",
    "print(newE)"
   ]
  },
  {
   "cell_type": "markdown",
   "metadata": {},
   "source": [
    "(d) For a planet with orbital eccentricity $e=0.5$, find the eccentric anomaly if the mean anomaly is $M = \\pi/2$ radians. Do this by using a <code>while</code> loop to iterate\n",
    "$$E_{n+1} = E_n - \\frac{E_n - e\\,\\sin E_n - M}{1 - e\\,\\cos E_n}$$\n",
    "until successive iterates lie within $5.0 \\times 10^{-7}$ of one another. Print your answer at the end."
   ]
  },
  {
   "cell_type": "code",
   "execution_count": 16,
   "metadata": {},
   "outputs": [
    {
     "name": "stdout",
     "output_type": "stream",
     "text": [
      "2.0209799380897704\n"
     ]
    }
   ],
   "source": [
    "from math import cos\n",
    "e, M = 0.5, pi/2\n",
    "\n",
    "oldE = M\n",
    "newE = oldE - (oldE - e*sin(oldE) - M)/(1 - e*cos(oldE))\n",
    "count2 = 1\n",
    "\n",
    "while abs(newE - oldE) > 5*(10**-7):\n",
    "    oldE = newE\n",
    "    newE = newE = oldE - (oldE - e*sin(oldE) - M)/(1 - e*cos(oldE))\n",
    "    count2 += 1\n",
    "    \n",
    "print(newE)"
   ]
  },
  {
   "cell_type": "markdown",
   "metadata": {},
   "source": [
    "(e) By counting the number of iterations necessary in each case, compare the speeds of convergence of the methods you used in parts (c) and (d)."
   ]
  },
  {
   "cell_type": "code",
   "execution_count": 17,
   "metadata": {},
   "outputs": [
    {
     "name": "stdout",
     "output_type": "stream",
     "text": [
      "10 4\n",
      "The second method converges first\n"
     ]
    }
   ],
   "source": [
    "print(count1, count2)\n",
    "\n",
    "if count2 < count1:\n",
    "    print(\"The second method converges first\")\n",
    "else:\n",
    "    print(\"The first one converges first\")"
   ]
  },
  {
   "cell_type": "markdown",
   "metadata": {},
   "source": [
    "## Question 4 (30 marks)"
   ]
  },
  {
   "cell_type": "markdown",
   "metadata": {},
   "source": [
    "(a) Write a Python function called <code>eccentric_anomaly</code>, which \n",
    "<ul>\n",
    "    <li>takes as its arguments a value for the mean anomaly, $M$, the eccentricity, $e$ and a <code>tolerance</code>, and</li>\n",
    "    <li>returns an estimate for the eccentric anomaly.\n",
    "</ul>\n",
    "\n",
    "This estimate should based on iterating one or other of the two iterations in Question 4 parts (c) and (d) (you may choose which) until successive iterates lie within <code>tolerance</code> of one another."
   ]
  },
  {
   "cell_type": "code",
   "execution_count": 18,
   "metadata": {},
   "outputs": [],
   "source": [
    "def eccentric_anomaly(M, e, tolerance):\n",
    "    oldE = M\n",
    "    newE = oldE - (oldE - e*sin(oldE) - M)/(1 - e*cos(oldE))\n",
    "\n",
    "    while abs(newE - oldE) > tolerance:\n",
    "        oldE = newE\n",
    "        newE = newE = oldE - (oldE - e*sin(oldE) - M)/(1 - e*cos(oldE))\n",
    "    return newE"
   ]
  },
  {
   "cell_type": "markdown",
   "metadata": {},
   "source": [
    "(b) Test your function on the case $e=0.5$, $M=\\pi/2$, using a tolerance of $5.0\\times 10^{-7}$. Test it, too, on the edge cases $M=\\pi, e=0.5$ and $M=\\pi/2, e=0.0,$ for which the mean anomaly and the eccentric anomaly ought to be equal. Comment <b>briefly</b> on the results of your tests."
   ]
  },
  {
   "cell_type": "code",
   "execution_count": 19,
   "metadata": {},
   "outputs": [
    {
     "name": "stdout",
     "output_type": "stream",
     "text": [
      "2.0209799380897704\n",
      "3.141592653589793\n",
      "1.5707963267948966\n"
     ]
    }
   ],
   "source": [
    "print(eccentric_anomaly(pi/2, 0.5, 5*(10**-7)))\n",
    "print(eccentric_anomaly(pi, 0.5, 5*(10**-7)))\n",
    "print(eccentric_anomaly(pi/2, 0, 5*(10**-7)))\n",
    "\n",
    "#using pi as my Mean, and 0.000005 as my tolerance, it appears I get a very, very good approximation of pi\n",
    "#the same can be seen with pi/2 and an e of 0."
   ]
  },
  {
   "cell_type": "markdown",
   "metadata": {},
   "source": [
    "(c) Using in each case an eccentricity of $e=0.5$ and a tolerance of $5.0 \\times 10^{-7}$, calculate the eccentric anomaly for values of the mean anomaly between $0$ and $2\\pi$ radians in steps of $\\pi/12$. For full marks, do this using a single-line <b>comprehension</b>."
   ]
  },
  {
   "cell_type": "code",
   "execution_count": 20,
   "metadata": {},
   "outputs": [
    {
     "name": "stdout",
     "output_type": "stream",
     "text": [
      "[0.0, 0.5026929134381675, 0.9220066053171304, 1.2617030552531017, 1.547056664927008, 1.796333948665306, 2.0209799380897704, 2.2283427923432857, 2.4234054584753126, 2.609753954400032, 2.7901297186092244, 2.9667633089091923, 3.141592653589793, 3.3164219982703935, 3.4930555885703614, 3.673431352779554, 3.859779848704273, 4.0548425148363, 4.262205369089816, 4.48685135851428, 4.736128642252577, 5.021482251926485, 5.361178701862456, 5.780492393741418, 6.283185307179586]\n"
     ]
    }
   ],
   "source": [
    "e, tol = 0.5, 5*(10**-7)\n",
    "\n",
    "ecclist = [eccentric_anomaly(M1*(pi/12), e, tol) for M1 in range(0, 25)]\n",
    "print(ecclist)"
   ]
  },
  {
   "cell_type": "code",
   "execution_count": null,
   "metadata": {},
   "outputs": [],
   "source": []
  }
 ],
 "metadata": {
  "kernelspec": {
   "display_name": "Python 3",
   "language": "python",
   "name": "python3"
  },
  "language_info": {
   "codemirror_mode": {
    "name": "ipython",
    "version": 3
   },
   "file_extension": ".py",
   "mimetype": "text/x-python",
   "name": "python",
   "nbconvert_exporter": "python",
   "pygments_lexer": "ipython3",
   "version": "3.7.4"
  }
 },
 "nbformat": 4,
 "nbformat_minor": 2
}
