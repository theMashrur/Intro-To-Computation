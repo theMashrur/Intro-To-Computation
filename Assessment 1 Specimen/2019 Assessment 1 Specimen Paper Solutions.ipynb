{
 "cells": [
  {
   "cell_type": "markdown",
   "metadata": {},
   "source": [
    "# M40006 In-Course Assessment\n",
    "\n",
    "# Specimen Paper Solutions"
   ]
  },
  {
   "cell_type": "markdown",
   "metadata": {},
   "source": [
    "## Question 1 (20 marks)\n",
    "\n",
    "Using Python, and showing your code, calculate:"
   ]
  },
  {
   "cell_type": "markdown",
   "metadata": {},
   "source": [
    "(a) $5^{2+8}$ as an int."
   ]
  },
  {
   "cell_type": "code",
   "execution_count": 1,
   "metadata": {},
   "outputs": [
    {
     "data": {
      "text/plain": [
       "9765625"
      ]
     },
     "execution_count": 1,
     "metadata": {},
     "output_type": "execute_result"
    }
   ],
   "source": [
    "5**(2+8)"
   ]
  },
  {
   "cell_type": "markdown",
   "metadata": {},
   "source": [
    "(b) $\\displaystyle{\\sin\\left(\\frac{\\pi}{12}\\right)}$ as a float."
   ]
  },
  {
   "cell_type": "code",
   "execution_count": 2,
   "metadata": {},
   "outputs": [
    {
     "data": {
      "text/plain": [
       "0.25881904510252074"
      ]
     },
     "execution_count": 2,
     "metadata": {},
     "output_type": "execute_result"
    }
   ],
   "source": [
    "from math import sin, pi\n",
    "sin(pi/12)"
   ]
  },
  {
   "cell_type": "markdown",
   "metadata": {},
   "source": [
    "(c) The residue of $19207812^{41506412}$ modulo $32271881$ as an int."
   ]
  },
  {
   "cell_type": "code",
   "execution_count": 3,
   "metadata": {},
   "outputs": [
    {
     "data": {
      "text/plain": [
       "8333554"
      ]
     },
     "execution_count": 3,
     "metadata": {},
     "output_type": "execute_result"
    }
   ],
   "source": [
    "pow(19207812, 41506412, 32271881)"
   ]
  },
  {
   "cell_type": "markdown",
   "metadata": {},
   "source": [
    "(d) As floats, the two roots of $12\\,x^2 + 11\\,x - 15 = 0$ (you may use the quadratic formula)."
   ]
  },
  {
   "cell_type": "code",
   "execution_count": 4,
   "metadata": {},
   "outputs": [
    {
     "name": "stdout",
     "output_type": "stream",
     "text": [
      "0.75\n",
      "-1.6666666666666667\n"
     ]
    }
   ],
   "source": [
    "from math import sqrt\n",
    "a, b, c = 12, 11, -15\n",
    "print((-b + sqrt(b**2-4*a*c))/(2*a))\n",
    "print((-b - sqrt(b**2-4*a*c))/(2*a))"
   ]
  },
  {
   "cell_type": "markdown",
   "metadata": {},
   "source": [
    "(e) As complexes, the two roots of $9\\,z^2 - 12\\,z + 5 = 0$ (you may use the quadratic formula)."
   ]
  },
  {
   "cell_type": "code",
   "execution_count": 5,
   "metadata": {},
   "outputs": [
    {
     "name": "stdout",
     "output_type": "stream",
     "text": [
      "(0.6666666666666666+0.3333333333333333j)\n",
      "(0.6666666666666666-0.3333333333333333j)\n"
     ]
    }
   ],
   "source": [
    "from cmath import sqrt\n",
    "a, b, c = 9, -12, 5\n",
    "print((-b + sqrt(b**2-4*a*c))/(2*a))\n",
    "print((-b - sqrt(b**2-4*a*c))/(2*a))"
   ]
  },
  {
   "cell_type": "markdown",
   "metadata": {},
   "source": [
    "(f) As a complex, the value of $\\ln (-e)$."
   ]
  },
  {
   "cell_type": "code",
   "execution_count": 6,
   "metadata": {},
   "outputs": [
    {
     "data": {
      "text/plain": [
       "(1-3.141592653589793j)"
      ]
     },
     "execution_count": 6,
     "metadata": {},
     "output_type": "execute_result"
    }
   ],
   "source": [
    "from cmath import log, exp\n",
    "log(-exp(1))"
   ]
  },
  {
   "cell_type": "markdown",
   "metadata": {},
   "source": [
    "## Question 2 (20 marks)\n",
    "\n",
    "(a) Assigning in each case an appropriate variable name, create:"
   ]
  },
  {
   "cell_type": "markdown",
   "metadata": {},
   "source": [
    "(i) A <code>range</code> object containing the numbers $5, 9, 13, \\dots, 101, 105$."
   ]
  },
  {
   "cell_type": "code",
   "execution_count": 7,
   "metadata": {},
   "outputs": [],
   "source": [
    "myrange = range(5,109,4)"
   ]
  },
  {
   "cell_type": "markdown",
   "metadata": {},
   "source": [
    "(ii) A list containing the numbers $5, 9, 13, \\dots, 101, 105$."
   ]
  },
  {
   "cell_type": "code",
   "execution_count": 8,
   "metadata": {},
   "outputs": [],
   "source": [
    "mylist = list(myrange)"
   ]
  },
  {
   "cell_type": "markdown",
   "metadata": {},
   "source": [
    "(iii) A tuple containing the numbers $5, 9, 13, \\dots, 101, 105$."
   ]
  },
  {
   "cell_type": "code",
   "execution_count": 9,
   "metadata": {},
   "outputs": [],
   "source": [
    "mytuple = tuple(myrange)"
   ]
  },
  {
   "cell_type": "markdown",
   "metadata": {},
   "source": [
    "(b) By slicing your <code>range</code> object from part (a)(i), create a <code>range</code> object containing its fifth, sixth, seventh and eighth elements."
   ]
  },
  {
   "cell_type": "code",
   "execution_count": 10,
   "metadata": {},
   "outputs": [
    {
     "data": {
      "text/plain": [
       "range(25, 41, 4)"
      ]
     },
     "execution_count": 10,
     "metadata": {},
     "output_type": "execute_result"
    }
   ],
   "source": [
    "myrange[5:9]"
   ]
  },
  {
   "cell_type": "markdown",
   "metadata": {},
   "source": [
    "(c) Append the number $109$ to your list from part (a)(ii)."
   ]
  },
  {
   "cell_type": "code",
   "execution_count": 11,
   "metadata": {},
   "outputs": [
    {
     "name": "stdout",
     "output_type": "stream",
     "text": [
      "[5, 9, 13, 17, 21, 25, 29, 33, 37, 41, 45, 49, 53, 57, 61, 65, 69, 73, 77, 81, 85, 89, 93, 97, 101, 105, 109]\n"
     ]
    }
   ],
   "source": [
    "mylist.append(109)\n",
    "print(mylist)"
   ]
  },
  {
   "cell_type": "markdown",
   "metadata": {},
   "source": [
    "(d) Create a tuple consisting of your tuple from part (a)(iii), repeated five times."
   ]
  },
  {
   "cell_type": "code",
   "execution_count": 13,
   "metadata": {},
   "outputs": [
    {
     "name": "stdout",
     "output_type": "stream",
     "text": [
      "(5, 9, 13, 17, 21, 25, 29, 33, 37, 41, 45, 49, 53, 57, 61, 65, 69, 73, 77, 81, 85, 89, 93, 97, 101, 105, 5, 9, 13, 17, 21, 25, 29, 33, 37, 41, 45, 49, 53, 57, 61, 65, 69, 73, 77, 81, 85, 89, 93, 97, 101, 105, 5, 9, 13, 17, 21, 25, 29, 33, 37, 41, 45, 49, 53, 57, 61, 65, 69, 73, 77, 81, 85, 89, 93, 97, 101, 105, 5, 9, 13, 17, 21, 25, 29, 33, 37, 41, 45, 49, 53, 57, 61, 65, 69, 73, 77, 81, 85, 89, 93, 97, 101, 105, 5, 9, 13, 17, 21, 25, 29, 33, 37, 41, 45, 49, 53, 57, 61, 65, 69, 73, 77, 81, 85, 89, 93, 97, 101, 105)\n"
     ]
    }
   ],
   "source": [
    "print(5*mytuple)"
   ]
  },
  {
   "cell_type": "markdown",
   "metadata": {},
   "source": [
    "## Question 3 (30 marks)\n",
    "\n",
    "Kepler's equation links two quantities useful in astronomy: a planet's <b>mean anomaly</b>, $M$, and its <b>eccentric anomaly</b>, $E$. Kepler's equation is\n",
    "$$M = E - e\\, \\sin E,$$\n",
    "where (lower-case) $e$ is the planet's <b>orbital eccentricity</b>."
   ]
  },
  {
   "cell_type": "markdown",
   "metadata": {},
   "source": [
    "(a) For a planet with orbital eccentricity $e=0.5$, find the mean anomaly if the eccentric anomaly is $E = 0.6$ radians."
   ]
  },
  {
   "cell_type": "code",
   "execution_count": 14,
   "metadata": {},
   "outputs": [
    {
     "name": "stdout",
     "output_type": "stream",
     "text": [
      "0.3176787633024823\n"
     ]
    }
   ],
   "source": [
    "from math import sin\n",
    "e, E = 0.5, 0.6\n",
    "print(E - e*sin(E))"
   ]
  },
  {
   "cell_type": "markdown",
   "metadata": {},
   "source": [
    "(b) For a planet with orbital eccentricity $e=0.5$, find the eccentric anomaly if the mean anomaly is $M = \\pi/2$ radians. Do this by using a <code>for</code> loop to iterate\n",
    "$$E_{n+1} = M + e\\,\\sin E_n$$\n",
    "ten times, with $E_0 = M = \\pi/2$. Print your answer at the end."
   ]
  },
  {
   "cell_type": "code",
   "execution_count": 16,
   "metadata": {},
   "outputs": [
    {
     "name": "stdout",
     "output_type": "stream",
     "text": [
      "2.020979881456128\n"
     ]
    }
   ],
   "source": [
    "from math import pi\n",
    "# eccentricity, mean anomaly\n",
    "e, M = 0.5, pi/2\n",
    "\n",
    "# initialize eccentric anomaly\n",
    "E = M\n",
    "\n",
    "# loop 10 times\n",
    "for n in range(10):\n",
    "    # update estimate\n",
    "    E = M + e * sin(E)\n",
    "\n",
    "print(E)"
   ]
  },
  {
   "cell_type": "markdown",
   "metadata": {},
   "source": [
    "(c) For a planet with orbital eccentricity $e=0.5$, find the eccentric anomaly if the mean anomaly is $M = \\pi/2$ radians. Do this by using a <code>while</code> loop to iterate\n",
    "$$E_{n+1} = M + e\\,\\sin E_n$$\n",
    "until successive iterates lie within $5.0 \\times 10^{-7}$ of one another. Print your answer at the end."
   ]
  },
  {
   "cell_type": "code",
   "execution_count": 32,
   "metadata": {},
   "outputs": [
    {
     "name": "stdout",
     "output_type": "stream",
     "text": [
      "2.020979881456128\n"
     ]
    }
   ],
   "source": [
    "# eccentricity, mean anomaly\n",
    "e, M = 0.5, pi/2\n",
    "\n",
    "# initialize eccentric anomaly\n",
    "oldE = M\n",
    "newE = M + e * sin(oldE)\n",
    "\n",
    "# while loop\n",
    "while abs(oldE-newE) > 5e-7:\n",
    "    # update estimate\n",
    "    oldE = newE\n",
    "    newE = M + e * sin(oldE)\n",
    "\n",
    "print(newE)"
   ]
  },
  {
   "cell_type": "markdown",
   "metadata": {},
   "source": [
    "(d) For a planet with orbital eccentricity $e=0.5$, find the eccentric anomaly if the mean anomaly is $M = \\pi/2$ radians. Do this by using a <code>while</code> loop to iterate\n",
    "$$E_{n+1} = E_n - \\frac{E_n - e\\,\\sin E_n - M}{1 - e\\,\\cos E_n}$$\n",
    "until successive iterates lie within $5.0 \\times 10^{-7}$ of one another. Print your answer at the end."
   ]
  },
  {
   "cell_type": "code",
   "execution_count": 31,
   "metadata": {},
   "outputs": [
    {
     "name": "stdout",
     "output_type": "stream",
     "text": [
      "2.0209799380897704\n"
     ]
    }
   ],
   "source": [
    "from math import cos\n",
    "# eccentricity, mean anomaly\n",
    "e, M = 0.5, pi/2\n",
    "\n",
    "# initialize eccentric anomaly\n",
    "oldE = M\n",
    "newE = oldE - (oldE - e*sin(oldE) - M)/(1- e*cos(oldE))\n",
    "\n",
    "# while loop\n",
    "while abs(oldE-newE) > 5e-7:\n",
    "    # update estimate\n",
    "    oldE = newE\n",
    "    newE = oldE - (oldE - e*sin(oldE) - M)/(1- e*cos(oldE))\n",
    "\n",
    "print(newE)"
   ]
  },
  {
   "cell_type": "markdown",
   "metadata": {},
   "source": [
    "(e) By counting the number of iterations necessary in each case, compare the speeds of convergence of the methods you used in parts (c) and (d)."
   ]
  },
  {
   "cell_type": "code",
   "execution_count": 34,
   "metadata": {},
   "outputs": [
    {
     "name": "stdout",
     "output_type": "stream",
     "text": [
      "10\n"
     ]
    }
   ],
   "source": [
    "# eccentricity, mean anomaly\n",
    "e, M = 0.5, pi/2\n",
    "\n",
    "# initialize eccentric anomaly\n",
    "oldE = M\n",
    "newE = M + e * sin(oldE)\n",
    "n = 1\n",
    "\n",
    "# while loop\n",
    "while abs(oldE-newE) > 5e-7:\n",
    "    # update estimate\n",
    "    oldE = newE\n",
    "    newE = M + e * sin(oldE)\n",
    "    n += 1\n",
    "\n",
    "print(n)"
   ]
  },
  {
   "cell_type": "code",
   "execution_count": 35,
   "metadata": {},
   "outputs": [
    {
     "name": "stdout",
     "output_type": "stream",
     "text": [
      "4\n"
     ]
    }
   ],
   "source": [
    "from math import cos\n",
    "# eccentricity, mean anomaly\n",
    "e, M = 0.5, pi/2\n",
    "\n",
    "# initialize eccentric anomaly\n",
    "oldE = M\n",
    "newE = oldE - (oldE - e*sin(oldE) - M)/(1- e*cos(oldE))\n",
    "n = 1\n",
    "\n",
    "# while loop\n",
    "while abs(oldE-newE) > 5e-7:\n",
    "    # update estimate\n",
    "    oldE = newE\n",
    "    newE = oldE - (oldE - e*sin(oldE) - M)/(1- e*cos(oldE))\n",
    "    n += 1\n",
    "\n",
    "print(n)"
   ]
  },
  {
   "cell_type": "markdown",
   "metadata": {},
   "source": [
    "The second converges significantly more rapidly."
   ]
  },
  {
   "cell_type": "markdown",
   "metadata": {},
   "source": [
    "## Question 4 (30 marks)"
   ]
  },
  {
   "cell_type": "markdown",
   "metadata": {},
   "source": [
    "(a) Write a Python function called <code>eccentric_anomaly</code>, which \n",
    "<ul>\n",
    "    <li>takes as its arguments a value for the mean anomaly, $M$, the eccentricity, $e$ and a <code>tolerance</code>, and</li>\n",
    "    <li>returns an estimate for the eccentric anomaly.\n",
    "</ul>\n",
    "\n",
    "This estimate should based on iterating one or other of the two iterations in Question 4 parts (c) and (d) (you may choose which) until successive iterates lie within <code>tolerance</code> of one another, using the initial value $E_0 = M$."
   ]
  },
  {
   "cell_type": "code",
   "execution_count": 36,
   "metadata": {},
   "outputs": [],
   "source": [
    "def eccentric_anomaly(M, e, tolerance):\n",
    "    from math import sin, cos, pi\n",
    "\n",
    "    # initialize eccentric anomaly\n",
    "    oldE = M\n",
    "    newE = oldE - (oldE - e*sin(oldE) - M)/(1- e*cos(oldE))\n",
    "\n",
    "    # while loop\n",
    "    while abs(oldE-newE) > tolerance:\n",
    "        # update estimate\n",
    "        oldE = newE\n",
    "        newE = oldE - (oldE - e*sin(oldE) - M)/(1- e*cos(oldE))\n",
    "\n",
    "    return newE"
   ]
  },
  {
   "cell_type": "markdown",
   "metadata": {},
   "source": [
    "(b) Test your function on the case $e=0.5$, $M=\\pi/2$, using a tolerance of $5.0\\times 10^{-7}$. Test it, too, on the edge cases $M=\\pi, e=0.5$ and $M=\\pi/2, e=0.0,$ for which the mean anomaly and the eccentric anomaly ought to be equal. Comment <b>briefly</b> on the results of your tests."
   ]
  },
  {
   "cell_type": "code",
   "execution_count": 40,
   "metadata": {},
   "outputs": [
    {
     "name": "stdout",
     "output_type": "stream",
     "text": [
      "2.0209799380897704\n",
      "(3.141592653589793, 3.141592653589793)\n",
      "(1.5707963267948966, 1.5707963267948966)\n"
     ]
    }
   ],
   "source": [
    "print(eccentric_anomaly(pi/2, 0.5, 5.0e-7))\n",
    "print((pi, eccentric_anomaly(pi, 0.5, 5.0e-7)))\n",
    "print((pi/2, eccentric_anomaly(pi/2, 0.0, 5.0e-7)))"
   ]
  },
  {
   "cell_type": "markdown",
   "metadata": {},
   "source": [
    "All as expected."
   ]
  },
  {
   "cell_type": "markdown",
   "metadata": {},
   "source": [
    "(c) Using in each case an eccentricity of $e=0.5$ and a tolerance of $5.0 \\times 10^{-7}$, calculate the eccentric anomaly for values of the mean anomaly between $0$ and $2\\pi$ radians in steps of $\\pi/12$. For full marks, do this using a single-line <b>comprehension</b>."
   ]
  },
  {
   "cell_type": "code",
   "execution_count": 43,
   "metadata": {},
   "outputs": [
    {
     "name": "stdout",
     "output_type": "stream",
     "text": [
      "[0.0, 0.5026929134381675, 0.9220066053171304, 1.2617030552531017, 1.547056664927008, 1.7963339486653063, 2.0209799380897704, 2.2283427923432857, 2.4234054584753126, 2.609753954400032, 2.790129718609225, 2.9667633089091923, 3.141592653589793, 3.316421998270394, 3.4930555885703614, 3.673431352779554, 3.859779848704273, 4.0548425148363005, 4.262205369089816, 4.48685135851428, 4.736128642252578, 5.021482251926485, 5.361178701862456, 5.780492393741418, 6.283185307179586]\n"
     ]
    }
   ],
   "source": [
    "print([eccentric_anomaly(n*pi/12, 0.5, 5.0e-7) for n in range(0,25)])"
   ]
  },
  {
   "cell_type": "code",
   "execution_count": null,
   "metadata": {},
   "outputs": [],
   "source": []
  }
 ],
 "metadata": {
  "kernelspec": {
   "display_name": "Python 3",
   "language": "python",
   "name": "python3"
  },
  "language_info": {
   "codemirror_mode": {
    "name": "ipython",
    "version": 3
   },
   "file_extension": ".py",
   "mimetype": "text/x-python",
   "name": "python",
   "nbconvert_exporter": "python",
   "pygments_lexer": "ipython3",
   "version": "3.7.4"
  }
 },
 "nbformat": 4,
 "nbformat_minor": 2
}
