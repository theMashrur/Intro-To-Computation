{
 "cells": [
  {
   "cell_type": "code",
   "execution_count": 3,
   "metadata": {},
   "outputs": [
    {
     "name": "stdout",
     "output_type": "stream",
     "text": [
      "Autograder loaded successfully!\n",
      "Remember to always restart and run all from the Kernel menu before submitting!\n"
     ]
    }
   ],
   "source": [
    "from autograder import *\n",
    "import math\n",
    "_globals = globals()"
   ]
  },
  {
   "cell_type": "markdown",
   "metadata": {
    "deletable": false,
    "editable": false,
    "nbgrader": {
     "cell_type": "markdown",
     "checksum": "fec4c420398c4017bb00a2e3546bbfec",
     "grade": false,
     "grade_id": "cell-08705352561fd721",
     "locked": true,
     "schema_version": 3,
     "solution": false,
     "task": false
    }
   },
   "source": [
    "# <center> Introduction to Mathematical Computing </center>\n",
    "### <center> Phil Ramsden </center>\n",
    "\n",
    "# <center> Worksheet 2: Data types and data structures </center>\n",
    "\n",
    "**NOTE:** When answering a question, remember to remove the `raise NotImplementedError()` line."
   ]
  },
  {
   "cell_type": "markdown",
   "metadata": {
    "deletable": false,
    "editable": false,
    "nbgrader": {
     "cell_type": "markdown",
     "checksum": "694462461922a6fb34178e60a4f4a558",
     "grade": false,
     "grade_id": "cell-03d0b1d10842dd6e",
     "locked": true,
     "schema_version": 3,
     "solution": false,
     "task": false
    }
   },
   "source": [
    "## Question 1(i)\n",
    "\n",
    "(a) Define ints <code>int1</code>, <code>int2</code> and <code>int3</code> equal to, respectively, 123, 456 and 789."
   ]
  },
  {
   "cell_type": "code",
   "execution_count": null,
   "metadata": {
    "deletable": false,
    "nbgrader": {
     "cell_type": "code",
     "checksum": "e05f1eaa7b310cc0fd5194f4d1730dec",
     "grade": false,
     "grade_id": "cell-f6b69f6c0f33441a",
     "locked": false,
     "schema_version": 3,
     "solution": true,
     "task": false
    }
   },
   "outputs": [],
   "source": [
    "int1 = 123\n",
    "int2 = 456\n",
    "int3 = 789"
   ]
  },
  {
   "cell_type": "code",
   "execution_count": null,
   "metadata": {
    "deletable": false,
    "editable": false,
    "nbgrader": {
     "cell_type": "code",
     "checksum": "6fadf00084a78aa026fc7367e5a2585d",
     "grade": true,
     "grade_id": "cell-54797219db211091",
     "locked": true,
     "points": 3,
     "schema_version": 3,
     "solution": false,
     "task": false
    }
   },
   "outputs": [],
   "source": [
    "# 3 Marks\n",
    "# Do not try to delete this cell\n",
    "# Run this cell for grading\n",
    "_globals = globals()\n",
    "question1_i_a(_globals)# 3 Marks\n"
   ]
  },
  {
   "cell_type": "markdown",
   "metadata": {
    "deletable": false,
    "editable": false,
    "nbgrader": {
     "cell_type": "markdown",
     "checksum": "f3adc7b8651850aca1b1d1f904df52b1",
     "grade": false,
     "grade_id": "cell-cdddae7e3789b0ab",
     "locked": true,
     "schema_version": 3,
     "solution": false,
     "task": false
    }
   },
   "source": [
    "(b) Define <b>floats</b> <code>float1</code>, <code>float2</code> and <code>float3</code> with the same numerical values as <code>int1</code>, <code>int2</code> and <code>int3</code>, respectively."
   ]
  },
  {
   "cell_type": "code",
   "execution_count": null,
   "metadata": {
    "deletable": false,
    "nbgrader": {
     "cell_type": "code",
     "checksum": "ce1056fe6f42b68561950ba483cbb9b9",
     "grade": false,
     "grade_id": "cell-b54f78cd269916a2",
     "locked": false,
     "schema_version": 3,
     "solution": true,
     "task": false
    }
   },
   "outputs": [],
   "source": [
    "float1 = float(123)\n",
    "float2 = float(456)\n",
    "float3 = float(789)"
   ]
  },
  {
   "cell_type": "code",
   "execution_count": null,
   "metadata": {
    "deletable": false,
    "editable": false,
    "nbgrader": {
     "cell_type": "code",
     "checksum": "39f87fb170ffb1ab1d4e449223a5ddfb",
     "grade": true,
     "grade_id": "cell-0ebff7f8b80df518",
     "locked": true,
     "points": 3,
     "schema_version": 3,
     "solution": false,
     "task": false
    }
   },
   "outputs": [],
   "source": [
    "# 3 Marks\n",
    "# Do not try to delete this cell\n",
    "# Run this cell for grading\n",
    "_globals = globals()\n",
    "question1_i_b(_globals)"
   ]
  },
  {
   "cell_type": "markdown",
   "metadata": {
    "deletable": false,
    "editable": false,
    "nbgrader": {
     "cell_type": "markdown",
     "checksum": "c7b1a78c03213d5ea00cff604176bfb5",
     "grade": false,
     "grade_id": "cell-9e4a3cb954c1db8c",
     "locked": true,
     "schema_version": 3,
     "solution": false,
     "task": false
    }
   },
   "source": [
    "(c) By experimenting with your six variables, answer the following multiple-choice question.\n",
    "\n",
    "If <code>x</code> is an int, and <code>y</code> is a float with the same numerical value, then \n",
    "\n",
    "<ol>\n",
    "    <li>the command <code>x == y</code> returns <code>True</code>, and <code>type(x)</code> and <code>type(y)</code> have the same value;</li>\n",
    "    <li>the command <code>x == y</code> returns <code>False</code>, and <code>type(x)</code> and <code>type(y)</code> have different values;</li>\n",
    "    <li>the command <code>x == y</code> returns <code>True</code>, but <code>type(x)</code> and <code>type(y)</code> have different values;</li>\n",
    "    <li>the command <code>x == y</code> returns <code>False</code>, but <code>type(x)</code> and <code>type(y)</code> have the same value.</li>\n",
    "</ol>\n",
    "\n",
    "Fill in the correct numerical value, 1, 2, 3 or 4, below."
   ]
  },
  {
   "cell_type": "code",
   "execution_count": null,
   "metadata": {
    "deletable": false,
    "nbgrader": {
     "cell_type": "code",
     "checksum": "f3d62919104ccc931bbb192004a7ad6b",
     "grade": false,
     "grade_id": "cell-e5759f3ce7494418",
     "locked": false,
     "schema_version": 3,
     "solution": true,
     "task": false
    }
   },
   "outputs": [],
   "source": [
    "question1ic_answer = 3\n",
    "print(int1==float1)"
   ]
  },
  {
   "cell_type": "code",
   "execution_count": null,
   "metadata": {
    "deletable": false,
    "editable": false,
    "nbgrader": {
     "cell_type": "code",
     "checksum": "67ee8d19f37fc9557d32c9f33bc10cc2",
     "grade": true,
     "grade_id": "cell-4ac01a582155b515",
     "locked": true,
     "points": 1,
     "schema_version": 3,
     "solution": false,
     "task": false
    }
   },
   "outputs": [],
   "source": [
    "# 1 Mark\n",
    "assert(question1ic_answer == question1_i_c())\n",
    "print('test case passed!')"
   ]
  },
  {
   "cell_type": "markdown",
   "metadata": {
    "deletable": false,
    "editable": false,
    "nbgrader": {
     "cell_type": "markdown",
     "checksum": "4f8b7466cac971787a5fa883802d2213",
     "grade": false,
     "grade_id": "cell-3bdbe7f4d8104d5c",
     "locked": true,
     "schema_version": 3,
     "solution": false,
     "task": false
    }
   },
   "source": [
    "(d) By experimenting with adding, subtracting, multiplying and dividing your variables, answer the following multiple-choice question.\n",
    "\n",
    "If we add, subtract, multiply or divide an int and a float, the result is\n",
    "\n",
    "<ol>\n",
    "    <li>always an int;</li>\n",
    "    <li>always a float;</li>\n",
    "    <li>an int or a float, depending on the operation we choose;</li>\n",
    "    <li>an int or a float, depending on whether the int or the float comes first in the expression.</li>\n",
    "</ol>\n",
    "\n",
    "Fill in the correct numerical value, 1, 2, 3 or 4, below."
   ]
  },
  {
   "cell_type": "code",
   "execution_count": null,
   "metadata": {
    "deletable": false,
    "nbgrader": {
     "cell_type": "code",
     "checksum": "ca7f63a1c13ee8e235d025efe2a4abbd",
     "grade": false,
     "grade_id": "cell-5479e40c5e2b9e62",
     "locked": false,
     "schema_version": 3,
     "solution": true,
     "task": false
    }
   },
   "outputs": [],
   "source": [
    "question1id_answer = 2\n",
    "experiment = float1/int1\n",
    "print(type(experiment))"
   ]
  },
  {
   "cell_type": "code",
   "execution_count": null,
   "metadata": {
    "deletable": false,
    "editable": false,
    "nbgrader": {
     "cell_type": "code",
     "checksum": "fa516329eb98092bddde1483539e29ca",
     "grade": true,
     "grade_id": "cell-33e61bed96005469",
     "locked": true,
     "points": 1,
     "schema_version": 3,
     "solution": false,
     "task": false
    }
   },
   "outputs": [],
   "source": [
    "# 1 Mark\n",
    "assert(question1id_answer == question1_i_d())\n",
    "print('test case passed!')"
   ]
  },
  {
   "cell_type": "markdown",
   "metadata": {
    "deletable": false,
    "editable": false,
    "nbgrader": {
     "cell_type": "markdown",
     "checksum": "f159de7db0400cb920842d4e9a20e753",
     "grade": false,
     "grade_id": "cell-36b4414b241f8c68",
     "locked": true,
     "schema_version": 3,
     "solution": false,
     "task": false
    }
   },
   "source": [
    "(e) By experimenting with raising one of your variables to the power of another, choose the true statement from the following:\n",
    "\n",
    "<ol>\n",
    "    <li>Large ints are represented as exact quantities in Python, no matter how many digits they have.</li>\n",
    "    <li>Ints above a certain size have to be represented in the form $a\\times10^r$, but if they're very large, there's an overflow error.</li>\n",
    "    <li>Ints above a certain size have to be represented in the form $a\\times10^r$, with no danger of an overflow error.</li>\n",
    "</ol>\n",
    "\n",
    "Fill in the correct numerical value, 1, 2 or 3, below."
   ]
  },
  {
   "cell_type": "code",
   "execution_count": null,
   "metadata": {
    "deletable": false,
    "nbgrader": {
     "cell_type": "code",
     "checksum": "1c3d05810d70e89eb0b3556182a3cdd7",
     "grade": false,
     "grade_id": "cell-c07c6f59097c20c6",
     "locked": false,
     "schema_version": 3,
     "solution": true,
     "task": false
    }
   },
   "outputs": [],
   "source": [
    "question1ie_answer = 1\n",
    "bigint = 1500**456\n",
    "print(bigint)"
   ]
  },
  {
   "cell_type": "code",
   "execution_count": null,
   "metadata": {
    "deletable": false,
    "editable": false,
    "nbgrader": {
     "cell_type": "code",
     "checksum": "2d22152a57344c115665f51ca22967f9",
     "grade": true,
     "grade_id": "cell-8bc067badf04cc2c",
     "locked": true,
     "points": 1,
     "schema_version": 3,
     "solution": false,
     "task": false
    }
   },
   "outputs": [],
   "source": [
    "# 1 Mark\n",
    "assert(question1ie_answer == question1_i_e())\n",
    "print('test case passed!')"
   ]
  },
  {
   "cell_type": "markdown",
   "metadata": {
    "deletable": false,
    "editable": false,
    "nbgrader": {
     "cell_type": "markdown",
     "checksum": "d81f40547b893eaaacb10cedcfb9b661",
     "grade": false,
     "grade_id": "cell-b6602575afe71f0d",
     "locked": true,
     "schema_version": 3,
     "solution": false,
     "task": false
    }
   },
   "source": [
    "(f) By experimenting with raising one of your variables to the power of another, choose the true statement from the following:\n",
    "\n",
    "<ol>\n",
    "    <li>Large floats are represented as exact quantities in Python, no matter how many digits they have.</li>\n",
    "    <li>Floats above a certain size have to be represented in the form $a\\times10^r$, but if they're very large, there's an overflow error.</li>\n",
    "    <li>Floats above a certain size have to be represented in the form $a\\times10^r$, with no danger of an overflow error.</li>\n",
    "</ol>\n",
    "\n",
    "Fill in the correct numerical value, 1, 2 or 3, below."
   ]
  },
  {
   "cell_type": "code",
   "execution_count": null,
   "metadata": {
    "deletable": false,
    "nbgrader": {
     "cell_type": "code",
     "checksum": "5aceeb66aa886a43d4f63eb4a54399cc",
     "grade": false,
     "grade_id": "cell-de4b5e500d5a3858",
     "locked": false,
     "schema_version": 3,
     "solution": true,
     "task": false
    }
   },
   "outputs": [],
   "source": [
    "question1if_answer = 2"
   ]
  },
  {
   "cell_type": "code",
   "execution_count": null,
   "metadata": {
    "deletable": false,
    "editable": false,
    "nbgrader": {
     "cell_type": "code",
     "checksum": "4eca18e710707c39db5c33dc5ab58fdc",
     "grade": true,
     "grade_id": "cell-fb8aa4e27ae298fb",
     "locked": true,
     "points": 1,
     "schema_version": 3,
     "solution": false,
     "task": false
    }
   },
   "outputs": [],
   "source": [
    "# 1 Mark\n",
    "assert(question1if_answer == question1_i_f())\n",
    "print('test case passed!')"
   ]
  },
  {
   "cell_type": "markdown",
   "metadata": {
    "deletable": false,
    "editable": false,
    "nbgrader": {
     "cell_type": "markdown",
     "checksum": "e893fae696cdc6a1a30f42f06511689d",
     "grade": false,
     "grade_id": "cell-db6beeee9158a3fb",
     "locked": true,
     "schema_version": 3,
     "solution": false,
     "task": false
    }
   },
   "source": [
    "(g) Import the <code>math</code> module, and experiment with mathematical functions of ints and floats. Answer the following question.\n",
    "\n",
    "The sine, cosine, exponential and logarithmic functions in the <code>math</code> module:\n",
    "\n",
    "<ol>\n",
    "    <li>all return an int if the argument is an int, and a float if the argument is a float;</li>\n",
    "    <li>all always return an int;</li>\n",
    "    <li>all always return a float;</li>\n",
    "    <li>behave differently from one another.</li>\n",
    "</ol>\n",
    "\n",
    "Fill in the correct numerical value, 1, 2, 3 or 4, below."
   ]
  },
  {
   "cell_type": "code",
   "execution_count": null,
   "metadata": {
    "deletable": false,
    "nbgrader": {
     "cell_type": "code",
     "checksum": "4c836fbb632c0154b48f6d75527212c8",
     "grade": false,
     "grade_id": "cell-a63c3f2e5f3a1b41",
     "locked": false,
     "schema_version": 3,
     "solution": true,
     "task": false
    }
   },
   "outputs": [],
   "source": [
    "question1ig_answer = 3\n",
    "print(type(math.cos(30)), type(math.sin(30)), type(math.log(30)), type(math.exp(30)))"
   ]
  },
  {
   "cell_type": "code",
   "execution_count": null,
   "metadata": {
    "deletable": false,
    "editable": false,
    "nbgrader": {
     "cell_type": "code",
     "checksum": "b99882a9de639e8e1866bc9a6b54396d",
     "grade": true,
     "grade_id": "cell-f6f2200d21835569",
     "locked": true,
     "points": 1,
     "schema_version": 3,
     "solution": false,
     "task": false
    }
   },
   "outputs": [],
   "source": [
    "# 1 Mark\n",
    "assert(question1ig_answer == question1_i_g())\n",
    "print('test case passed!')"
   ]
  },
  {
   "cell_type": "markdown",
   "metadata": {
    "deletable": false,
    "editable": false,
    "nbgrader": {
     "cell_type": "markdown",
     "checksum": "120722607e8070c174d1b577aa0a3748",
     "grade": false,
     "grade_id": "cell-ffc11169ded6fd3b",
     "locked": true,
     "schema_version": 3,
     "solution": false,
     "task": false
    }
   },
   "source": [
    "## Question 1(ii)\n",
    "\n",
    "(a) Define the complex numbers <code>complex1</code>, <code>complex2</code> and <code>complex3</code> with the same numerical values as, respectively, <code>int1</code>, <code>int2</code> and <code>int3</code>.\n",
    "\n",
    "Using the <code>complex</code> constructor function, define <code>complex4</code>, using <code>int1</code> and <code>int2</code> as real and imaginary part, and <code>complex5</code>, using <code>float1</code> and <code>float2</code> as real and imaginary part,"
   ]
  },
  {
   "cell_type": "code",
   "execution_count": null,
   "metadata": {
    "deletable": false,
    "nbgrader": {
     "cell_type": "code",
     "checksum": "b1d166d1093ee91e3d232f7b728dd357",
     "grade": false,
     "grade_id": "cell-ea86d15e54090326",
     "locked": false,
     "schema_version": 3,
     "solution": true,
     "task": false
    }
   },
   "outputs": [],
   "source": [
    "complex1 = int1 + 0j\n",
    "complex2 = int2 + 0j\n",
    "complex3 = int3 + 0j\n",
    "complex4 = complex(int1, int2)\n",
    "complex5 = complex(float1, float2)\n"
   ]
  },
  {
   "cell_type": "code",
   "execution_count": null,
   "metadata": {
    "deletable": false,
    "editable": false,
    "nbgrader": {
     "cell_type": "code",
     "checksum": "ef9608432f2ad9c0fb3986f14fbe3391",
     "grade": true,
     "grade_id": "cell-d7d5868f5f17ec70",
     "locked": true,
     "points": 10,
     "schema_version": 3,
     "solution": false,
     "task": false
    }
   },
   "outputs": [],
   "source": [
    "# 10 Marks\n",
    "# Do not try to delete this cell\n",
    "# Run this cell for grading\n",
    "_globals = globals()\n",
    "question1_ii_a(_globals)"
   ]
  },
  {
   "cell_type": "markdown",
   "metadata": {
    "deletable": false,
    "editable": false,
    "nbgrader": {
     "cell_type": "markdown",
     "checksum": "1f28d3cbe80af2747a7a20c42aed5c2b",
     "grade": false,
     "grade_id": "cell-3dd6f118eed48a6e",
     "locked": true,
     "schema_version": 3,
     "solution": false,
     "task": false
    }
   },
   "source": [
    "(b) By experimenting, answer the following multiple-choice question.\n",
    "\n",
    "If <code>x</code> is an int, and <code>z</code> is a complex with the same numerical value, then \n",
    "\n",
    "<ol>\n",
    "    <li>the command <code>x == z</code> returns <code>True</code>, and <code>type(x)</code> and <code>type(z)</code> have the same value;</li>\n",
    "    <li>the command <code>x == z</code> returns <code>False</code>, and <code>type(x)</code> and <code>type(z)</code> have different values;</li>\n",
    "    <li>the command <code>x == z</code> returns <code>True</code>, but <code>type(x)</code> and <code>type(z)</code> have different values;</li>\n",
    "    <li>the command <code>x == z</code> returns <code>False</code>, but <code>type(x)</code> and <code>type(z)</code> have the same value.</li>\n",
    "</ol>\n",
    "\n",
    "Fill in the correct numerical value, 1, 2, 3 or 4, below."
   ]
  },
  {
   "cell_type": "code",
   "execution_count": null,
   "metadata": {
    "deletable": false,
    "nbgrader": {
     "cell_type": "code",
     "checksum": "58270c98f9d090ead763f27cd51ac501",
     "grade": false,
     "grade_id": "cell-0b6aca3c14ba42ba",
     "locked": false,
     "schema_version": 3,
     "solution": true,
     "task": false
    }
   },
   "outputs": [],
   "source": [
    "question1iib_answer = 3"
   ]
  },
  {
   "cell_type": "code",
   "execution_count": null,
   "metadata": {
    "deletable": false,
    "editable": false,
    "nbgrader": {
     "cell_type": "code",
     "checksum": "9a6e12b3272161678d1050dbc08b5e93",
     "grade": true,
     "grade_id": "cell-cee4552ab0535602",
     "locked": true,
     "points": 1,
     "schema_version": 3,
     "solution": false,
     "task": false
    }
   },
   "outputs": [],
   "source": [
    "# 1 Mark\n",
    "assert(question1iib_answer == question1_ii_b())\n",
    "print('test case passed!')"
   ]
  },
  {
   "cell_type": "markdown",
   "metadata": {
    "deletable": false,
    "editable": false,
    "nbgrader": {
     "cell_type": "markdown",
     "checksum": "a7257f1d433a2f86656577ed8b521568",
     "grade": false,
     "grade_id": "cell-b7ba90142fd16815",
     "locked": true,
     "schema_version": 3,
     "solution": false,
     "task": false
    }
   },
   "source": [
    "(c) By experimenting, answer the following multiple-choice question.\n",
    "\n",
    "If <code>y</code> is a float, and <code>z</code> is a complex with the same numerical value, then \n",
    "\n",
    "<ol>\n",
    "    <li>the command <code>y == z</code> returns <code>True</code>, and <code>type(y)</code> and <code>type(z)</code> have the same value;</li>\n",
    "    <li>the command <code>y == z</code> returns <code>False</code>, and <code>type(y)</code> and <code>type(z)</code> have different values;</li>\n",
    "    <li>the command <code>y == z</code> returns <code>True</code>, but <code>type(y)</code> and <code>type(z)</code> have different values;</li>\n",
    "    <li>the command <code>y == z</code> returns <code>False</code>, but <code>type(y)</code> and <code>type(z)</code> have the same value.</li>\n",
    "</ol>\n",
    "\n",
    "Fill in the correct numerical value, 1, 2, 3 or 4, below."
   ]
  },
  {
   "cell_type": "code",
   "execution_count": null,
   "metadata": {
    "deletable": false,
    "nbgrader": {
     "cell_type": "code",
     "checksum": "cf8f61a3809c280aa9a02eb5ac314000",
     "grade": false,
     "grade_id": "cell-851a99484184f3d8",
     "locked": false,
     "schema_version": 3,
     "solution": true,
     "task": false
    }
   },
   "outputs": [],
   "source": [
    "question1iic_answer = 3"
   ]
  },
  {
   "cell_type": "code",
   "execution_count": null,
   "metadata": {
    "deletable": false,
    "editable": false,
    "nbgrader": {
     "cell_type": "code",
     "checksum": "514948e6918b8c519c24dd31124730e6",
     "grade": true,
     "grade_id": "cell-cb59d57abf447995",
     "locked": true,
     "points": 1,
     "schema_version": 3,
     "solution": false,
     "task": false
    }
   },
   "outputs": [],
   "source": [
    "# 1 Mark\n",
    "assert(question1iic_answer == question1_ii_c())\n",
    "print('test case passed!')"
   ]
  },
  {
   "cell_type": "markdown",
   "metadata": {
    "deletable": false,
    "editable": false,
    "nbgrader": {
     "cell_type": "markdown",
     "checksum": "49a3d064f20805a319338d38c44c0db8",
     "grade": false,
     "grade_id": "cell-0097d8e066317086",
     "locked": true,
     "schema_version": 3,
     "solution": false,
     "task": false
    }
   },
   "source": [
    "(d) By experimenting, answer the following multiple-choice question.\n",
    "\n",
    "If we add, subtract, multiply or divide an int and a complex, the result is\n",
    "\n",
    "<ol>\n",
    "    <li>always an int;</li>\n",
    "    <li>always a complex;</li>\n",
    "    <li>an int or a complex, depending on the operation we choose;</li>\n",
    "    <li>an int or a complex, depending on whether the int or the complex comes first in the expression.</li>\n",
    "</ol>\n",
    "\n",
    "Fill in the correct numerical value, 1, 2, 3 or 4, below.\n",
    "\n"
   ]
  },
  {
   "cell_type": "code",
   "execution_count": null,
   "metadata": {
    "deletable": false,
    "nbgrader": {
     "cell_type": "code",
     "checksum": "c66bcd5d365a6fdab4b86284e414cadd",
     "grade": false,
     "grade_id": "cell-21c341b2ccad6e5c",
     "locked": false,
     "schema_version": 3,
     "solution": true,
     "task": false
    }
   },
   "outputs": [],
   "source": [
    "question1iid_answer = 2"
   ]
  },
  {
   "cell_type": "code",
   "execution_count": null,
   "metadata": {
    "deletable": false,
    "editable": false,
    "nbgrader": {
     "cell_type": "code",
     "checksum": "683604d9058405e31b7be5132e8b34bd",
     "grade": true,
     "grade_id": "cell-4aa901bc8a543643",
     "locked": true,
     "points": 1,
     "schema_version": 3,
     "solution": false,
     "task": false
    }
   },
   "outputs": [],
   "source": [
    "# 1 Mark\n",
    "assert(question1iid_answer == question1_ii_d())\n",
    "print('test case passed!')"
   ]
  },
  {
   "cell_type": "markdown",
   "metadata": {
    "deletable": false,
    "editable": false,
    "nbgrader": {
     "cell_type": "markdown",
     "checksum": "02ac050d17d70affef6d2e5b455ba40a",
     "grade": false,
     "grade_id": "cell-af0862fd096cb8a8",
     "locked": true,
     "schema_version": 3,
     "solution": false,
     "task": false
    }
   },
   "source": [
    "(e) By experimenting, answer the following multiple-choice question.\n",
    "\n",
    "If we add, subtract, multiply or divide a float and a complex, the result is\n",
    "\n",
    "<ol>\n",
    "    <li>always a float;</li>\n",
    "    <li>always a complex;</li>\n",
    "    <li>a float or a complex, depending on the operation we choose;</li>\n",
    "    <li>a float or a complex, depending on whether the float or the complex comes first in the expression.</li>\n",
    "</ol>\n",
    "\n",
    "Fill in the correct numerical value, 1, 2, 3 or 4, below."
   ]
  },
  {
   "cell_type": "code",
   "execution_count": null,
   "metadata": {
    "deletable": false,
    "nbgrader": {
     "cell_type": "code",
     "checksum": "3c5b47e0b9ecdd1d00481b768348f3b2",
     "grade": false,
     "grade_id": "cell-020ae20e70e4982a",
     "locked": false,
     "schema_version": 3,
     "solution": true,
     "task": false
    }
   },
   "outputs": [],
   "source": [
    "question1iie_answer = 2\n",
    "print(type(5.3/3+1j), type((5.0+1j)-3.0), type(3.2+(4.5+0.5j)))"
   ]
  },
  {
   "cell_type": "code",
   "execution_count": null,
   "metadata": {
    "deletable": false,
    "editable": false,
    "nbgrader": {
     "cell_type": "code",
     "checksum": "e1015d1e5fd570275e443cbc12fc7172",
     "grade": true,
     "grade_id": "cell-284978c168e50d93",
     "locked": true,
     "points": 1,
     "schema_version": 3,
     "solution": false,
     "task": false
    }
   },
   "outputs": [],
   "source": [
    "# 1 Mark\n",
    "assert(question1iie_answer == question1_ii_e())\n",
    "print('test case passed!')"
   ]
  },
  {
   "cell_type": "markdown",
   "metadata": {
    "deletable": false,
    "editable": false,
    "nbgrader": {
     "cell_type": "markdown",
     "checksum": "5bfc297afabcf095d98c6b878b307a67",
     "grade": false,
     "grade_id": "cell-cd893683eee56fca",
     "locked": true,
     "schema_version": 3,
     "solution": false,
     "task": false
    }
   },
   "source": [
    "(f) By experimenting with commands like\n",
    "\n",
    "```python\n",
    "complex1.real\n",
    "```\n",
    "\n",
    "and\n",
    "\n",
    "```python\n",
    "complex1.imag\n",
    "```\n",
    "\n",
    "answer the following multiple choice question.\n",
    "\n",
    "The real and imaginary parts of a complex are\n",
    "\n",
    "<ol>\n",
    "    <li>always ints;</li>\n",
    "    <li>always floats;</li>    \n",
    "    <li>sometimes ints and sometimes floats.</li>\n",
    "</ol>\n",
    "\n",
    "Fill in the correct numerical value, 1, 2 or 3, below."
   ]
  },
  {
   "cell_type": "code",
   "execution_count": null,
   "metadata": {
    "deletable": false,
    "nbgrader": {
     "cell_type": "code",
     "checksum": "ff686dbca5467ae1475e612afd5eb59b",
     "grade": false,
     "grade_id": "cell-647289a9bef34648",
     "locked": false,
     "schema_version": 3,
     "solution": true,
     "task": false
    }
   },
   "outputs": [],
   "source": [
    "question1iif_answer = 2\n",
    "comp1 = 5+3j\n",
    "print(type(comp1.real), type(comp1.real))"
   ]
  },
  {
   "cell_type": "code",
   "execution_count": null,
   "metadata": {
    "deletable": false,
    "editable": false,
    "nbgrader": {
     "cell_type": "code",
     "checksum": "8a4eb241d0340c4fbfffb42fc222bf12",
     "grade": true,
     "grade_id": "cell-06ca8da159c442f9",
     "locked": true,
     "points": 1,
     "schema_version": 3,
     "solution": false,
     "task": false
    }
   },
   "outputs": [],
   "source": [
    "# 1 Mark\n",
    "assert(question1iif_answer == question1_ii_f())\n",
    "print('test case passed!')"
   ]
  },
  {
   "cell_type": "markdown",
   "metadata": {
    "deletable": false,
    "editable": false,
    "nbgrader": {
     "cell_type": "markdown",
     "checksum": "99d01fda59ca55c77e3c017791b8492b",
     "grade": false,
     "grade_id": "cell-58983d8f22127d2b",
     "locked": true,
     "schema_version": 3,
     "solution": false,
     "task": false
    }
   },
   "source": [
    "(g) Experiment with doing arithmetic with `True` and `False`, via code like\n",
    "```python\n",
    "2 + True\n",
    "5 * False\n",
    "7 ** False\n",
    "exp(True)\n",
    "```\n",
    "\n",
    "Which of the following statements is true?\n",
    "\n",
    "<ol>\n",
    "    <li>It is not possible to do arithmetic with Boolean data;</li>\n",
    "    <li>It is possible to do arithmetic with Boolean data, and <code>False</code> and <code>True</code> are treated like <code>0</code> and <code>1</code> respectively;</li>\n",
    "    <li>It is possible to do arithmetic with Boolean data, and <code>False</code> and <code>True</code> are treated like <code>-1</code> and <code>1</code> respectively.</li>\n",
    "</ol>\n",
    "\n",
    "Fill in the correct numerical value, 1, 2 or 3, below."
   ]
  },
  {
   "cell_type": "code",
   "execution_count": null,
   "metadata": {
    "deletable": false,
    "nbgrader": {
     "cell_type": "code",
     "checksum": "0862efb9bc77aeaf91071662a0ffa0ec",
     "grade": false,
     "grade_id": "cell-83aa3cd1875fed96",
     "locked": false,
     "schema_version": 3,
     "solution": true,
     "task": false
    }
   },
   "outputs": [],
   "source": [
    "question1iig_answer = 2\n",
    "print(2+True, 5*False, 7**False, math.exp(True))"
   ]
  },
  {
   "cell_type": "code",
   "execution_count": null,
   "metadata": {
    "deletable": false,
    "editable": false,
    "nbgrader": {
     "cell_type": "code",
     "checksum": "e5f4f8c4c9b6df44eae20af91c966f3c",
     "grade": true,
     "grade_id": "cell-26cf1638c93c2fb9",
     "locked": true,
     "points": 1,
     "schema_version": 3,
     "solution": false,
     "task": false
    }
   },
   "outputs": [],
   "source": [
    "# 1 Mark\n",
    "assert(question1iig_answer == question1_ii_g())\n",
    "print('test case passed!')"
   ]
  },
  {
   "cell_type": "markdown",
   "metadata": {
    "deletable": false,
    "editable": false,
    "nbgrader": {
     "cell_type": "markdown",
     "checksum": "908163ed34f92b6613950b024c22644e",
     "grade": false,
     "grade_id": "cell-64b450881b0656b2",
     "locked": true,
     "schema_version": 3,
     "solution": false,
     "task": false
    }
   },
   "source": [
    "(h) Investigate the `^` operator when used on Boolean data, via code such as\n",
    "```python\n",
    "True ^ False\n",
    "3<4 ^ 2==2\n",
    "``` \n",
    "and so on. Which of the following is true?\n",
    "\n",
    "<ol>\n",
    "    <li>For any Boolean expressions <code>p</code> and <code>q</code>, <code>p ^ q</code> is the same as <code>p or q</code>;</li>\n",
    "    <li>For any Boolean expressions <code>p</code> and <code>q</code>, <code>p ^ q</code> is the same as <code>p and q</code>;</li>\n",
    "    <li>For any Boolean expressions <code>p</code> and <code>q</code>, <code>p ^ q</code> is the same as <code>not (p or q)</code>;</li>\n",
    "    <li>For any Boolean expressions <code>p</code> and <code>q</code>, <code>p ^ q</code> is the same as <code>not (p and q)</code>;</li>\n",
    "    <li>For any Boolean expressions <code>p</code> and <code>q</code>, <code>p ^ q</code> is the same as <code>(p or q) and not (p and q)</code>.</li>\n",
    "</ol>\n",
    "\n",
    "Fill in the correct numerical value, 1, 2, 3, 4 or 5, below."
   ]
  },
  {
   "cell_type": "code",
   "execution_count": null,
   "metadata": {
    "deletable": false,
    "nbgrader": {
     "cell_type": "code",
     "checksum": "f472bbc7892b5e4307edd8ddd3fcd4fa",
     "grade": false,
     "grade_id": "cell-2ebab91f303381ef",
     "locked": false,
     "schema_version": 3,
     "solution": true,
     "task": false
    }
   },
   "outputs": [],
   "source": [
    "question1iih_answer = 5\n",
    "print(True^False)"
   ]
  },
  {
   "cell_type": "code",
   "execution_count": null,
   "metadata": {
    "deletable": false,
    "editable": false,
    "nbgrader": {
     "cell_type": "code",
     "checksum": "f094348f8ba999f107eb7e453fec55f7",
     "grade": true,
     "grade_id": "cell-7a82b8797fa34f56",
     "locked": true,
     "points": 1,
     "schema_version": 3,
     "solution": false,
     "task": false
    }
   },
   "outputs": [],
   "source": [
    "# 1 Mark\n",
    "assert(question1iih_answer == question1_ii_h())\n",
    "print('test case passed!')"
   ]
  },
  {
   "cell_type": "markdown",
   "metadata": {
    "deletable": false,
    "editable": false,
    "nbgrader": {
     "cell_type": "markdown",
     "checksum": "6fa9a69cf82d73a382c13b59ac8c4762",
     "grade": false,
     "grade_id": "cell-bced17510431f761",
     "locked": true,
     "schema_version": 3,
     "solution": false,
     "task": false
    }
   },
   "source": [
    "(i) Investigate the `^` operator when used with ints, via code such as\n",
    "```python\n",
    "4 ^ 5\n",
    "4 ^ 8\n",
    "```\n",
    "and so on. Write down a short description of what it does. (Autograding can't help here.)"
   ]
  },
  {
   "cell_type": "code",
   "execution_count": null,
   "metadata": {},
   "outputs": [],
   "source": [
    "# The ^ operator is a binary xor (exclusive or) operator. So when used in ints (say a and b),\n",
    "# it returns the number corresponding to the binary translation of the binary number that\n",
    "# has the bits in a or b, but not ones in both."
   ]
  },
  {
   "cell_type": "markdown",
   "metadata": {
    "deletable": false,
    "editable": false,
    "nbgrader": {
     "cell_type": "markdown",
     "checksum": "d731aa91e0ca8c907c0fa07f3e0fd12a",
     "grade": false,
     "grade_id": "cell-db6e60221190327d",
     "locked": true,
     "schema_version": 3,
     "solution": false,
     "task": false
    }
   },
   "source": [
    "## Question 2(i)\n",
    "\n",
    "For the given string <code>string1</code>, calculate\n",
    "\n",
    "(a) A string containing all the characters of <code>string1</code> between the first and the 15th inclusive.\n",
    "\n",
    "(b) A string containing the first, third, fifth characters, etc, of <code>string1</code>, up to the 15th, inclusive.\n",
    "\n",
    "(c) A version of <code>string1</code> entirely in upper case.\n",
    "\n",
    "(d) A single string consisting of three copies of <code>string1</code> one after the other. "
   ]
  },
  {
   "cell_type": "code",
   "execution_count": null,
   "metadata": {
    "deletable": false,
    "nbgrader": {
     "cell_type": "code",
     "checksum": "ec50e70bbc4761e160f2a129b2c9f62c",
     "grade": false,
     "grade_id": "cell-2d7d7363cf1d2a85",
     "locked": false,
     "schema_version": 3,
     "solution": true,
     "task": false
    }
   },
   "outputs": [],
   "source": [
    "string1 = 'The quick brown fox jumps over the lazy dog'\n",
    "\n",
    "q2ia_answer = string1[0:15]\n",
    "q2ib_answer = string1[0:16:2]\n",
    "q2ic_answer = string1.upper()\n",
    "q2id_answer = 3*string1\n",
    "print(q2ia_answer)\n",
    "print(q2ib_answer)\n",
    "print(q2ic_answer)\n",
    "print(q2id_answer)"
   ]
  },
  {
   "cell_type": "code",
   "execution_count": null,
   "metadata": {
    "deletable": false,
    "editable": false,
    "nbgrader": {
     "cell_type": "code",
     "checksum": "aa0f1d8e80129dd6de8cd62b1ad8159c",
     "grade": true,
     "grade_id": "cell-0708126b0ea18264",
     "locked": true,
     "points": 4,
     "schema_version": 3,
     "solution": false,
     "task": false
    }
   },
   "outputs": [],
   "source": [
    "# 4 Marks\n",
    "# Do not try to delete this cell\n",
    "# Run this cell for grading\n",
    "_globals = globals()\n",
    "question2_i(_globals)"
   ]
  },
  {
   "cell_type": "markdown",
   "metadata": {
    "deletable": false,
    "editable": false,
    "nbgrader": {
     "cell_type": "markdown",
     "checksum": "433c407ceec30871642d55b194f93e29",
     "grade": false,
     "grade_id": "cell-109abd18f8e5c3e3",
     "locked": true,
     "schema_version": 3,
     "solution": false,
     "task": false
    }
   },
   "source": [
    "## Question 2(ii)\n",
    "\n",
    "For the given list <code>list1</code>, calculate\n",
    "\n",
    "(a) A list containing all the elements of <code>list1</code> between the first and the 11th inclusive.\n",
    "\n",
    "(b) A list containing the first, third, fifth elements, etc, of <code>list1</code>, up to the 11th, inclusive.\n",
    "\n",
    "(c) A single list consisting of three copies of <code>list1</code>, one after the other. "
   ]
  },
  {
   "cell_type": "code",
   "execution_count": 5,
   "metadata": {
    "deletable": false,
    "nbgrader": {
     "cell_type": "code",
     "checksum": "b9eac7c13ff096c3e325c77af9d2e89c",
     "grade": false,
     "grade_id": "cell-4b61ddd6fa75232e",
     "locked": false,
     "schema_version": 3,
     "solution": true,
     "task": false
    }
   },
   "outputs": [
    {
     "name": "stdout",
     "output_type": "stream",
     "text": [
      "[0j, 'one', 2, 3.0, (4+0j), 'five', 6, 7.0, (8+0j), 'nine', 10]\n",
      "[0j, 2, (4+0j), 6, (8+0j), 10]\n",
      "[0j, 'one', 2, 3.0, (4+0j), 'five', 6, 7.0, (8+0j), 'nine', 10, 11.0, (12+0j), 'thirteen', 14, 15.0, 0j, 'one', 2, 3.0, (4+0j), 'five', 6, 7.0, (8+0j), 'nine', 10, 11.0, (12+0j), 'thirteen', 14, 15.0, 0j, 'one', 2, 3.0, (4+0j), 'five', 6, 7.0, (8+0j), 'nine', 10, 11.0, (12+0j), 'thirteen', 14, 15.0]\n"
     ]
    }
   ],
   "source": [
    "list1 = [0+0j, 'one', 2, 3.0, 4+0j, 'five', 6, 7.0, 8+0j, 'nine', 10, 11.0, 12+0j, 'thirteen', 14, 15.0]\n",
    "q2iia_answer = list1[0:11]\n",
    "q2iib_answer = list1[0:12:2]\n",
    "q2iic_answer = 3*list1\n",
    "print(q2iia_answer)\n",
    "print(q2iib_answer)\n",
    "print(q2iic_answer)"
   ]
  },
  {
   "cell_type": "code",
   "execution_count": 3,
   "metadata": {
    "deletable": false,
    "editable": false,
    "nbgrader": {
     "cell_type": "code",
     "checksum": "5175a7c357b0796ad016c82e0b59a02a",
     "grade": true,
     "grade_id": "cell-1b662e29550d694b",
     "locked": true,
     "points": 3,
     "schema_version": 3,
     "solution": false,
     "task": false
    }
   },
   "outputs": [
    {
     "name": "stdout",
     "output_type": "stream",
     "text": [
      "All tests passed!!\n"
     ]
    },
    {
     "data": {
      "text/plain": [
       "3"
      ]
     },
     "execution_count": 3,
     "metadata": {},
     "output_type": "execute_result"
    }
   ],
   "source": [
    "# 3 Marks\n",
    "# Do not try to delete this cell\n",
    "# Run this cell for grading\n",
    "_globals = globals()\n",
    "question2_ii(_globals)"
   ]
  },
  {
   "cell_type": "markdown",
   "metadata": {
    "deletable": false,
    "editable": false,
    "nbgrader": {
     "cell_type": "markdown",
     "checksum": "8bf01e1bb03a35b3b15dc3bd09826ba4",
     "grade": false,
     "grade_id": "cell-03199112fac280b7",
     "locked": true,
     "schema_version": 3,
     "solution": false,
     "task": false
    }
   },
   "source": [
    "## Question 2(iii)\n",
    "\n",
    "For the given tuple <code>tuple1</code>, calculate\n",
    "\n",
    "(a) A tuple containing all the elements of <code>tuple1</code> between the first and the 11th inclusive.\n",
    "\n",
    "(b) A tuple containing the first, third, fifth elements, etc, of <code>tuple1</code>, up to the 11th, inclusive.\n",
    "\n",
    "(c) A single tuple consisting of three copies of <code>tuple1</code>, one after the other. "
   ]
  },
  {
   "cell_type": "code",
   "execution_count": 6,
   "metadata": {
    "deletable": false,
    "nbgrader": {
     "cell_type": "code",
     "checksum": "af83ab879dccc779ebcd9b348b919517",
     "grade": false,
     "grade_id": "cell-b8aa41567b78e5e8",
     "locked": false,
     "schema_version": 3,
     "solution": true,
     "task": false
    }
   },
   "outputs": [
    {
     "name": "stdout",
     "output_type": "stream",
     "text": [
      "(0j, 'one', 2, 3.0, (4+0j), 'five', 6, 7.0, (8+0j), 'nine', 10)\n",
      "(0j, 2, (4+0j), 6, (8+0j), 10)\n",
      "(0j, 'one', 2, 3.0, (4+0j), 'five', 6, 7.0, (8+0j), 'nine', 10, 11.0, (12+0j), 'thirteen', 14, 15.0, 0j, 'one', 2, 3.0, (4+0j), 'five', 6, 7.0, (8+0j), 'nine', 10, 11.0, (12+0j), 'thirteen', 14, 15.0, 0j, 'one', 2, 3.0, (4+0j), 'five', 6, 7.0, (8+0j), 'nine', 10, 11.0, (12+0j), 'thirteen', 14, 15.0)\n"
     ]
    }
   ],
   "source": [
    "tuple1 = (0+0j, 'one', 2, 3.0, 4+0j, 'five', 6, 7.0, 8+0j, 'nine', 10, 11.0, 12+0j, 'thirteen', 14, 15.0)\n",
    "\n",
    "q2iiia_answer = tuple1[0:11]\n",
    "q2iiib_answer = tuple1[0:12:2]\n",
    "q2iiic_answer = 3*tuple1\n",
    "print(q2iiia_answer)\n",
    "print(q2iiib_answer)\n",
    "print(q2iiic_answer)\n",
    "# YOUR CODE HERE"
   ]
  },
  {
   "cell_type": "code",
   "execution_count": 5,
   "metadata": {
    "deletable": false,
    "editable": false,
    "nbgrader": {
     "cell_type": "code",
     "checksum": "061ba7f04692382a7a78a3391bc8e6ed",
     "grade": true,
     "grade_id": "cell-e604802244cecd7a",
     "locked": true,
     "points": 3,
     "schema_version": 3,
     "solution": false,
     "task": false
    }
   },
   "outputs": [
    {
     "name": "stdout",
     "output_type": "stream",
     "text": [
      "All tests passed!!\n"
     ]
    },
    {
     "data": {
      "text/plain": [
       "3"
      ]
     },
     "execution_count": 5,
     "metadata": {},
     "output_type": "execute_result"
    }
   ],
   "source": [
    "# 3 Marks\n",
    "# Do not try to delete this cell\n",
    "# Run this cell for grading\n",
    "_globals = globals()\n",
    "question2_iii(_globals)"
   ]
  },
  {
   "cell_type": "markdown",
   "metadata": {
    "deletable": false,
    "editable": false,
    "nbgrader": {
     "cell_type": "markdown",
     "checksum": "e2f9658fb5efe133b643547d9e97dcaf",
     "grade": false,
     "grade_id": "cell-9dd49b4b210a1005",
     "locked": true,
     "schema_version": 3,
     "solution": false,
     "task": false
    }
   },
   "source": [
    "## Question 2(iv)\n",
    "\n",
    "(a) By means of a single use of the `extend` method (which you should look up), append the elements `16+0j`, `'seventeen'`, `18` and `19.0` to `list1`, so that the value of `list1` is now\n",
    "```python\n",
    "[0+0j, 'one', 2, 3.0, 4+0j, 'five', 6, 7.0, 8+0j, 'nine', 10, 11.0, 12+0j, 'thirteen', 14, 15.0, 16+0j, 'seventeen', 18, 19.0]\n",
    "```\n",
    "Autograding won't be able to tell whether you've used `extend`, and there are other ways of doing it, but please try to do so!"
   ]
  },
  {
   "cell_type": "code",
   "execution_count": 9,
   "metadata": {
    "deletable": false,
    "nbgrader": {
     "cell_type": "code",
     "checksum": "10a9167aa71fd5dd531fe83dae49b64a",
     "grade": false,
     "grade_id": "cell-8e4ccb1216d7534d",
     "locked": false,
     "schema_version": 3,
     "solution": true,
     "task": false
    }
   },
   "outputs": [
    {
     "name": "stdout",
     "output_type": "stream",
     "text": [
      "[0j, 'one', 2, 3.0, (4+0j), 'five', 6, 7.0, (8+0j), 'nine', 10, 11.0, (12+0j), 'thirteen', 14, 15.0, (16+0j), 'seventeen', 18, 19.0]\n"
     ]
    }
   ],
   "source": [
    "list1.extend([16+0j, 'seventeen', 18, 19.0])\n",
    "\n",
    "print(list1)\n"
   ]
  },
  {
   "cell_type": "code",
   "execution_count": 7,
   "metadata": {
    "deletable": false,
    "editable": false,
    "nbgrader": {
     "cell_type": "code",
     "checksum": "b8a397cf07cd0d0a6a013e1a8241a9ea",
     "grade": true,
     "grade_id": "cell-d2633add38b13ebb",
     "locked": true,
     "points": 1,
     "schema_version": 3,
     "solution": false,
     "task": false
    }
   },
   "outputs": [
    {
     "name": "stdout",
     "output_type": "stream",
     "text": [
      "test case passed!\n"
     ]
    }
   ],
   "source": [
    "# 1 Mark\n",
    "assert(list1 == question2_iv_a())\n",
    "print('test case passed!')"
   ]
  },
  {
   "cell_type": "markdown",
   "metadata": {
    "deletable": false,
    "editable": false,
    "nbgrader": {
     "cell_type": "markdown",
     "checksum": "70f5ba222beed8edaac3ab3c5ef85f8b",
     "grade": false,
     "grade_id": "cell-2e6260e906f345f5",
     "locked": true,
     "schema_version": 3,
     "solution": false,
     "task": false
    }
   },
   "source": [
    "(b) Change the five strings in `list1` to `'uno'`, `'cinco'`, `'nueve'`, `'trece'` and `'diecisiete'` respectively. Try to do this with a <b>single command</b>."
   ]
  },
  {
   "cell_type": "code",
   "execution_count": 10,
   "metadata": {
    "deletable": false,
    "nbgrader": {
     "cell_type": "code",
     "checksum": "d9ef766d8e2c58cc552ceb0cad704f41",
     "grade": false,
     "grade_id": "cell-6fd9bacae9d3f248",
     "locked": false,
     "schema_version": 3,
     "solution": true,
     "task": false
    }
   },
   "outputs": [
    {
     "name": "stdout",
     "output_type": "stream",
     "text": [
      "[0j, 'uno', 2, 3.0, (4+0j), 'cinco', 6, 7.0, (8+0j), 'nueve', 10, 11.0, (12+0j), 'trece', 14, 15.0, (16+0j), 'diecisiete', 18, 19.0]\n"
     ]
    }
   ],
   "source": [
    "list1[1:18:4] = 'uno', 'cinco', 'nueve', 'trece', 'diecisiete'\n",
    "\n",
    "print(list1)"
   ]
  },
  {
   "cell_type": "code",
   "execution_count": 9,
   "metadata": {
    "deletable": false,
    "editable": false,
    "nbgrader": {
     "cell_type": "code",
     "checksum": "4c436fdc438302dab0ba3eba5b34d72c",
     "grade": true,
     "grade_id": "cell-16f100ca6ae8e956",
     "locked": true,
     "points": 1,
     "schema_version": 3,
     "solution": false,
     "task": false
    }
   },
   "outputs": [
    {
     "name": "stdout",
     "output_type": "stream",
     "text": [
      "test case passed!\n"
     ]
    }
   ],
   "source": [
    "# 1 Mark\n",
    "assert(list1 == question2_iv_b())\n",
    "print('test case passed!')"
   ]
  },
  {
   "cell_type": "markdown",
   "metadata": {
    "deletable": false,
    "editable": false,
    "nbgrader": {
     "cell_type": "markdown",
     "checksum": "f3b40d1092c916237f8ddb7461ccc8a4",
     "grade": false,
     "grade_id": "cell-9c37922b130f19e4",
     "locked": true,
     "schema_version": 3,
     "solution": false,
     "task": false
    }
   },
   "source": [
    "(c) Try to find a way to do the equivalent of part (a) with `tuple1`, so that `tuple1` becomes\n",
    "```python\n",
    "(0+0j, 'one', 2, 3.0, 4+0j, 'five', 6, 7.0, 8+0j, 'nine', 10, 11.0, 12+0j, 'thirteen', 14, 15.0, 16+0j, 'seventeen', 18, 19.0)\n",
    "```\n",
    "There's no terribly elegant way to do this, but if you can, avoid simply typing out (or, worse, copying and pasting) all twenty elements!"
   ]
  },
  {
   "cell_type": "code",
   "execution_count": 11,
   "metadata": {
    "deletable": false,
    "nbgrader": {
     "cell_type": "code",
     "checksum": "be40ef0d71da5b225a1d2469e71fab14",
     "grade": false,
     "grade_id": "cell-f35cddbe5f0f0eee",
     "locked": false,
     "schema_version": 3,
     "solution": true,
     "task": false
    }
   },
   "outputs": [
    {
     "name": "stdout",
     "output_type": "stream",
     "text": [
      "[0j, 'one', 2, 3.0, (4+0j), 'five', 6, 7.0, (8+0j), 'nine', 10, 11.0, (12+0j), 'thirteen', 14, 15.0, (16+0j), 'seventeen', 18, 19.0]\n",
      "(0j, 'one', 2, 3.0, (4+0j), 'five', 6, 7.0, (8+0j), 'nine', 10, 11.0, (12+0j), 'thirteen', 14, 15.0, (16+0j), 'seventeen', 18, 19.0)\n"
     ]
    }
   ],
   "source": [
    "list3 = list(tuple1)\n",
    "list3.extend([16+0j, 'seventeen', 18, 19.0])\n",
    "print(list3)\n",
    "tuple1 = tuple(list3)\n",
    "print(tuple1)"
   ]
  },
  {
   "cell_type": "code",
   "execution_count": 15,
   "metadata": {
    "deletable": false,
    "editable": false,
    "nbgrader": {
     "cell_type": "code",
     "checksum": "d45223621148a28bf3e8b3bcd16d8a64",
     "grade": true,
     "grade_id": "cell-ecd565c6e8540ff4",
     "locked": true,
     "points": 1,
     "schema_version": 3,
     "solution": false,
     "task": false
    }
   },
   "outputs": [
    {
     "name": "stdout",
     "output_type": "stream",
     "text": [
      "test case passed!\n"
     ]
    }
   ],
   "source": [
    "# 1 Mark\n",
    "assert(tuple1 == question2_iv_c())\n",
    "print('test case passed!')"
   ]
  },
  {
   "cell_type": "markdown",
   "metadata": {
    "deletable": false,
    "editable": false,
    "nbgrader": {
     "cell_type": "markdown",
     "checksum": "8f792051d6ea5b1705f5edb430a7c778",
     "grade": false,
     "grade_id": "cell-7b3591f43063bf9b",
     "locked": true,
     "schema_version": 3,
     "solution": false,
     "task": false
    }
   },
   "source": [
    "(d) Try to find a way to do the equivalent of part (b) with `tuple1`, so that `tuple1` becomes\n",
    "```python\n",
    "(0j, 'uno', 2, 3.0, (4+0j), 'cinco', 6, 7.0, (8+0j), 'nueve', 10, 11.0, (12+0j), 'trece', 14, 15.0, (16+0j), 'diecisiete', 18, 19.0)\n",
    "```\n",
    "Again, try to avoid simply typing out (or, worse, copying and pasting) all twenty elements."
   ]
  },
  {
   "cell_type": "code",
   "execution_count": 16,
   "metadata": {
    "deletable": false,
    "nbgrader": {
     "cell_type": "code",
     "checksum": "50a8ed66cde9ceaab32d303b97b5e24b",
     "grade": false,
     "grade_id": "cell-3b1228a905d86fbc",
     "locked": false,
     "schema_version": 3,
     "solution": true,
     "task": false
    }
   },
   "outputs": [
    {
     "name": "stdout",
     "output_type": "stream",
     "text": [
      "(0j, 'one', 2, 3.0, (4+0j), 'five', 6, 7.0, (8+0j), 'nine', 10, 11.0, (12+0j), 'thirteen', 14, 15.0, (16+0j), 'seventeen', 18, 19.0)\n"
     ]
    }
   ],
   "source": [
    "print(tuple1)\n",
    "list4 = list(tuple1)\n",
    "list4[1:18:4] = 'uno', 'cinco', 'nueve', 'trece', 'diecisiete'\n",
    "tuple1 = tuple(list4)"
   ]
  },
  {
   "cell_type": "code",
   "execution_count": 17,
   "metadata": {
    "deletable": false,
    "editable": false,
    "nbgrader": {
     "cell_type": "code",
     "checksum": "9b115e39e3e5601c9065892b6f786fb5",
     "grade": true,
     "grade_id": "cell-bb186a18e242fcb4",
     "locked": true,
     "points": 1,
     "schema_version": 3,
     "solution": false,
     "task": false
    }
   },
   "outputs": [
    {
     "name": "stdout",
     "output_type": "stream",
     "text": [
      "test case passed!\n"
     ]
    }
   ],
   "source": [
    "# 1 Mark\n",
    "assert(tuple1 == question2_iv_d())\n",
    "print('test case passed!')"
   ]
  },
  {
   "cell_type": "markdown",
   "metadata": {
    "deletable": false,
    "editable": false,
    "nbgrader": {
     "cell_type": "markdown",
     "checksum": "cb54742dbe4d6f23fb9f5b4dcb816007",
     "grade": false,
     "grade_id": "cell-2d5be5c403896b0e",
     "locked": true,
     "schema_version": 3,
     "solution": false,
     "task": false
    }
   },
   "source": [
    "## Question 3\n",
    "\n",
    "(a) For the given string <code>string1</code>, use the <code>split</code> method to create a list <code>words1</code> consisting of all the words of <code>string1</code> in order."
   ]
  },
  {
   "cell_type": "code",
   "execution_count": 19,
   "metadata": {
    "deletable": false,
    "nbgrader": {
     "cell_type": "code",
     "checksum": "f2c1e2805a3962045e14118c3713717e",
     "grade": false,
     "grade_id": "cell-77c4f8c0334919ba",
     "locked": false,
     "schema_version": 3,
     "solution": true,
     "task": false
    }
   },
   "outputs": [],
   "source": [
    "string1 = \"The quick brown fox jumps over the lazy dog\"\n",
    "\n",
    "words1 = string1.split(\" \")"
   ]
  },
  {
   "cell_type": "code",
   "execution_count": 20,
   "metadata": {
    "deletable": false,
    "editable": false,
    "nbgrader": {
     "cell_type": "code",
     "checksum": "3ffd22f2d2005d0e605364c0bf6b395d",
     "grade": true,
     "grade_id": "cell-816895ca5f596490",
     "locked": true,
     "points": 1,
     "schema_version": 3,
     "solution": false,
     "task": false
    }
   },
   "outputs": [
    {
     "name": "stdout",
     "output_type": "stream",
     "text": [
      "test case passed!\n"
     ]
    }
   ],
   "source": [
    "# 1 Mark\n",
    "assert(words1 == question3_a())\n",
    "print('test case passed!')"
   ]
  },
  {
   "cell_type": "markdown",
   "metadata": {
    "deletable": false,
    "editable": false,
    "nbgrader": {
     "cell_type": "markdown",
     "checksum": "b6a67b9d863e1bcbf16110e7703bf88e",
     "grade": false,
     "grade_id": "cell-a39594b568c56b62",
     "locked": true,
     "schema_version": 3,
     "solution": false,
     "task": false
    }
   },
   "source": [
    "(b) Use the <code>join</code> method to create, from <code>words1</code>, a string <code>string2</code> identical to <code>string1</code>."
   ]
  },
  {
   "cell_type": "code",
   "execution_count": 21,
   "metadata": {
    "deletable": false,
    "nbgrader": {
     "cell_type": "code",
     "checksum": "d76d28046d28a34bce37a82638fcf03c",
     "grade": false,
     "grade_id": "cell-2bd5ec6af751e194",
     "locked": false,
     "schema_version": 3,
     "solution": true,
     "task": false
    }
   },
   "outputs": [],
   "source": [
    "string2 = \" \".join(words1)"
   ]
  },
  {
   "cell_type": "code",
   "execution_count": 22,
   "metadata": {
    "deletable": false,
    "editable": false,
    "nbgrader": {
     "cell_type": "code",
     "checksum": "edf0a82f74bc78978489b8d47d3d797c",
     "grade": true,
     "grade_id": "cell-ff5c25cf76611791",
     "locked": true,
     "points": 1,
     "schema_version": 3,
     "solution": false,
     "task": false
    }
   },
   "outputs": [
    {
     "name": "stdout",
     "output_type": "stream",
     "text": [
      "test case passed!\n"
     ]
    }
   ],
   "source": [
    "# 1 Mark\n",
    "assert(string2 == question3_b())\n",
    "print('test case passed!')"
   ]
  },
  {
   "cell_type": "markdown",
   "metadata": {
    "deletable": false,
    "editable": false,
    "nbgrader": {
     "cell_type": "markdown",
     "checksum": "638acc4096ba6a0d7f118b289ab7cdb3",
     "grade": false,
     "grade_id": "cell-40edae2d13df9d7a",
     "locked": true,
     "schema_version": 3,
     "solution": false,
     "task": false
    }
   },
   "source": [
    "(c) Use the <code>lower</code> method, the <code>split</code> method, the <code>join</code> method and the <code>sort</code> method to create a string <code>string3</code> consisting of all the words in <code>string1</code>, rendered in lower case, in alphabetical order. Words should be separated by a comma and a space, like so:\n",
    "\n",
    "```python\n",
    "'brown, dog, ...'\n",
    "```"
   ]
  },
  {
   "cell_type": "code",
   "execution_count": 31,
   "metadata": {
    "deletable": false,
    "nbgrader": {
     "cell_type": "code",
     "checksum": "f560e0231d4b3966a80c918a8d347f52",
     "grade": false,
     "grade_id": "cell-8be204034cff30b1",
     "locked": false,
     "schema_version": 3,
     "solution": true,
     "task": false
    }
   },
   "outputs": [],
   "source": [
    "words2 = string1.lower().split(\" \")\n",
    "words2.sort()\n",
    "string3 = \", \".join(words2)"
   ]
  },
  {
   "cell_type": "code",
   "execution_count": 32,
   "metadata": {
    "deletable": false,
    "editable": false,
    "nbgrader": {
     "cell_type": "code",
     "checksum": "213aa01857435f55efcfd5df3847783e",
     "grade": true,
     "grade_id": "cell-1328bc4b570e5f94",
     "locked": true,
     "points": 1,
     "schema_version": 3,
     "solution": false,
     "task": false
    }
   },
   "outputs": [
    {
     "name": "stdout",
     "output_type": "stream",
     "text": [
      "test case passed!\n"
     ]
    }
   ],
   "source": [
    "# 1 Mark\n",
    "assert(string3 == question3_c())\n",
    "print('test case passed!')"
   ]
  },
  {
   "cell_type": "markdown",
   "metadata": {
    "deletable": false,
    "editable": false,
    "nbgrader": {
     "cell_type": "markdown",
     "checksum": "73978ef35d63d72f28d8f12f1fa2d659",
     "grade": false,
     "grade_id": "cell-402bdfef0755d411",
     "locked": true,
     "schema_version": 3,
     "solution": false,
     "task": false
    }
   },
   "source": [
    "(d) Use the <code>replace</code> method to create a string <code>string4</code>, which is identical to <code>string1</code>, except that the word 'dog' has been replaced with the word 'cat'."
   ]
  },
  {
   "cell_type": "code",
   "execution_count": 33,
   "metadata": {
    "deletable": false,
    "nbgrader": {
     "cell_type": "code",
     "checksum": "eb0fdb1bbda88c9f586a06f013be0168",
     "grade": false,
     "grade_id": "cell-0474845fee817e64",
     "locked": false,
     "schema_version": 3,
     "solution": true,
     "task": false
    }
   },
   "outputs": [],
   "source": [
    "string4 = string1.replace(\"dog\", \"cat\")"
   ]
  },
  {
   "cell_type": "code",
   "execution_count": 34,
   "metadata": {
    "deletable": false,
    "editable": false,
    "nbgrader": {
     "cell_type": "code",
     "checksum": "7896b742697365d36c15180326a22348",
     "grade": true,
     "grade_id": "cell-8b747e7833b7a9e3",
     "locked": true,
     "points": 1,
     "schema_version": 3,
     "solution": false,
     "task": false
    }
   },
   "outputs": [
    {
     "name": "stdout",
     "output_type": "stream",
     "text": [
      "test case passed!\n"
     ]
    }
   ],
   "source": [
    "# 1 Mark\n",
    "assert(string4 == question3_d())\n",
    "print('test case passed!')"
   ]
  },
  {
   "cell_type": "markdown",
   "metadata": {
    "deletable": false,
    "editable": false,
    "nbgrader": {
     "cell_type": "markdown",
     "checksum": "aaa0ab5334d5a46e2e6390579ea3c23d",
     "grade": false,
     "grade_id": "cell-c465a7ea82927141",
     "locked": true,
     "schema_version": 3,
     "solution": false,
     "task": false
    }
   },
   "source": [
    "(e) Use the <code>replace</code> method to create a string <code>string5</code>, which is identical to <code>string1</code>, except that the words 'fox' and 'dog' have been swapped. (This may need a little thought.)"
   ]
  },
  {
   "cell_type": "code",
   "execution_count": 39,
   "metadata": {
    "deletable": false,
    "nbgrader": {
     "cell_type": "code",
     "checksum": "20f56e2543b34412b100cdf217a1c829",
     "grade": false,
     "grade_id": "cell-1ac7e30bd9651e4e",
     "locked": false,
     "schema_version": 3,
     "solution": true,
     "task": false
    }
   },
   "outputs": [
    {
     "name": "stdout",
     "output_type": "stream",
     "text": [
      "The quick brown dog jumps over the lazy fox\n"
     ]
    }
   ],
   "source": [
    "string5 = string1.replace(\"dog\", \"fox\"); string5 = string5.replace(\"fox\", \"dog\", 1)\n",
    "print(string5)"
   ]
  },
  {
   "cell_type": "code",
   "execution_count": 40,
   "metadata": {
    "deletable": false,
    "editable": false,
    "nbgrader": {
     "cell_type": "code",
     "checksum": "d65a20fa83f43fc354e998b1fef11779",
     "grade": true,
     "grade_id": "cell-d26a3fdceb860e6c",
     "locked": true,
     "points": 1,
     "schema_version": 3,
     "solution": false,
     "task": false
    }
   },
   "outputs": [
    {
     "name": "stdout",
     "output_type": "stream",
     "text": [
      "test case passed!\n"
     ]
    }
   ],
   "source": [
    "# 1 Mark\n",
    "assert(string5 == question3_e())\n",
    "print('test case passed!')"
   ]
  },
  {
   "cell_type": "markdown",
   "metadata": {
    "deletable": false,
    "editable": false,
    "nbgrader": {
     "cell_type": "markdown",
     "checksum": "a2a0762919fff1e46c6e68d4c30d6159",
     "grade": false,
     "grade_id": "cell-2b673ded35c70ee7",
     "locked": true,
     "schema_version": 3,
     "solution": false,
     "task": false
    }
   },
   "source": [
    "## Question 4\n",
    "\n",
    "The following code uses a template, and the <code>format</code> method, to create a string, <code>polyhedron1</code>, that represents a true statement about the tetrahedron."
   ]
  },
  {
   "cell_type": "code",
   "execution_count": 42,
   "metadata": {
    "deletable": false,
    "editable": false,
    "nbgrader": {
     "cell_type": "code",
     "checksum": "83af64483e03f79ce713000306c3b8d5",
     "grade": false,
     "grade_id": "cell-6810745c4501e3c0",
     "locked": true,
     "schema_version": 3,
     "solution": false,
     "task": false
    }
   },
   "outputs": [
    {
     "name": "stdout",
     "output_type": "stream",
     "text": [
      "The regular solid known as the tetrahedron has 4 triangular faces, 6 edges and 4 vertices.\n"
     ]
    }
   ],
   "source": [
    "polyhedron_template = 'The regular solid known as the {} has {} {} faces, {} edges and {} vertices.'\n",
    "\n",
    "polyhedron1 = polyhedron_template.format('tetrahedron', 4, 'triangular', 6, 4)\n",
    "\n",
    "print(polyhedron1)"
   ]
  },
  {
   "cell_type": "markdown",
   "metadata": {
    "deletable": false,
    "editable": false,
    "nbgrader": {
     "cell_type": "markdown",
     "checksum": "da1e151ad65ed426f2807d63af423b8b",
     "grade": false,
     "grade_id": "cell-634e880692ffe29e",
     "locked": true,
     "schema_version": 3,
     "solution": false,
     "task": false
    }
   },
   "source": [
    "(a) Using the same template, but different arguments to the <code>format</code> method, create strings <code>polyhedron2</code> and <code>polyhedron3</code> representing true statements about the cube and the octahedron respectively."
   ]
  },
  {
   "cell_type": "code",
   "execution_count": 43,
   "metadata": {
    "deletable": false,
    "nbgrader": {
     "cell_type": "code",
     "checksum": "50d7f135714e9a98154cf8133830c88b",
     "grade": false,
     "grade_id": "cell-900127b037e04dbb",
     "locked": false,
     "schema_version": 3,
     "solution": true,
     "task": false
    }
   },
   "outputs": [
    {
     "name": "stdout",
     "output_type": "stream",
     "text": [
      "The regular solid known as the cube has 6 square faces, 12 edges and 8 vertices.\n",
      "The regular solid known as the octahedron has 8 triangular faces, 12 edges and 6 vertices.\n"
     ]
    }
   ],
   "source": [
    "pht = polyhedron_template\n",
    "polyhedron2 = pht.format(\"cube\", 6, 'square', 12, 8)\n",
    "polyhedron3 = pht.format(\"octahedron\", 8, 'triangular', 12, 6)\n",
    "print(polyhedron2)\n",
    "print(polyhedron3)"
   ]
  },
  {
   "cell_type": "code",
   "execution_count": 44,
   "metadata": {
    "deletable": false,
    "editable": false,
    "nbgrader": {
     "cell_type": "code",
     "checksum": "b88c3dcbfeb72f54e4693a11788c2baa",
     "grade": true,
     "grade_id": "cell-0373209931e68134",
     "locked": true,
     "points": 2,
     "schema_version": 3,
     "solution": false,
     "task": false
    }
   },
   "outputs": [
    {
     "name": "stdout",
     "output_type": "stream",
     "text": [
      "2 tests passed!\n"
     ]
    },
    {
     "data": {
      "text/plain": [
       "2"
      ]
     },
     "execution_count": 44,
     "metadata": {},
     "output_type": "execute_result"
    }
   ],
   "source": [
    "# 2 Marks\n",
    "# Do not try to delete this cell\n",
    "# Run this cell for grading\n",
    "_globals = globals()\n",
    "question4_a(_globals)"
   ]
  },
  {
   "cell_type": "markdown",
   "metadata": {
    "deletable": false,
    "editable": false,
    "nbgrader": {
     "cell_type": "markdown",
     "checksum": "c13083e95a980198db840e0fa9d75a53",
     "grade": false,
     "grade_id": "cell-d2409930218830bd",
     "locked": true,
     "schema_version": 3,
     "solution": false,
     "task": false
    }
   },
   "source": [
    "(b) The data we need to use in a call to <code>format</code> doesn't always come in a convenient order. Write a new template called <code>polyhedron_template2</code>, written so that the input\n",
    "```python\n",
    "polyhedron_template2.format(8,12,6,'square','cube')\n",
    "```\n",
    "creates a string identical to <code>polyhedron2</code>. Test it on the other two examples."
   ]
  },
  {
   "cell_type": "code",
   "execution_count": 45,
   "metadata": {
    "deletable": false,
    "nbgrader": {
     "cell_type": "code",
     "checksum": "9929f3ca71893341739ad34d9f5822a0",
     "grade": false,
     "grade_id": "cell-98df2ff7aaa91555",
     "locked": false,
     "schema_version": 3,
     "solution": true,
     "task": false
    }
   },
   "outputs": [
    {
     "data": {
      "text/plain": [
       "'The regular solid known as the cube has 6 square faces, 12 edges and 8 vertices.'"
      ]
     },
     "execution_count": 45,
     "metadata": {},
     "output_type": "execute_result"
    }
   ],
   "source": [
    "polyhedron_template2 = 'The regular solid known as the {4} has {2} {3} faces, {1} edges and {0} vertices.'\n",
    "polyhedron_template2.format(8,12,6,'square','cube')"
   ]
  },
  {
   "cell_type": "code",
   "execution_count": 46,
   "metadata": {
    "deletable": false,
    "editable": false,
    "nbgrader": {
     "cell_type": "code",
     "checksum": "7e7b98b53ce296ba791a0332e38209ac",
     "grade": true,
     "grade_id": "cell-c330f1df1757c6bf",
     "locked": true,
     "points": 1,
     "schema_version": 3,
     "solution": false,
     "task": false
    }
   },
   "outputs": [
    {
     "name": "stdout",
     "output_type": "stream",
     "text": [
      "test case passed!\n"
     ]
    }
   ],
   "source": [
    "# 1 Mark\n",
    "assert(polyhedron_template2.format(8,12,6,'square','cube') == question4_b())\n",
    "print('test case passed!')"
   ]
  },
  {
   "cell_type": "markdown",
   "metadata": {
    "deletable": false,
    "editable": false,
    "nbgrader": {
     "cell_type": "markdown",
     "checksum": "43420f236b0c6b4d39d7cb438e432c00",
     "grade": false,
     "grade_id": "cell-983c796eeadf7369",
     "locked": true,
     "schema_version": 3,
     "solution": false,
     "task": false
    }
   },
   "source": [
    "(c) Sometimes we need to work with <em>lists</em> of data. Write a third template called <code>polyhedron_template3</code>, written so that the following code...\n",
    "```python\n",
    "cube_data = [8, 12, 6, 'square', 'cube']\n",
    "polyhedron_template3.format(cube_data)\n",
    "```\n",
    "... creates a string identical to <code>polyhedron2</code>. Test it on the other two examples."
   ]
  },
  {
   "cell_type": "code",
   "execution_count": 1,
   "metadata": {
    "deletable": false,
    "nbgrader": {
     "cell_type": "code",
     "checksum": "f9056151f4d7de2a1439e83acaca36c5",
     "grade": false,
     "grade_id": "cell-404d63938f8efa3f",
     "locked": false,
     "schema_version": 3,
     "solution": true,
     "task": false
    }
   },
   "outputs": [
    {
     "data": {
      "text/plain": [
       "'The regular solid known as the cube has 6 square faces, 12 edges and 8 vertices.'"
      ]
     },
     "execution_count": 1,
     "metadata": {},
     "output_type": "execute_result"
    }
   ],
   "source": [
    "polyhedron_template3 = 'The regular solid known as the {0[4]} has {0[2]} {0[3]} faces, {0[1]} edges and {0[0]} vertices.'\n",
    "cube_data = [8, 12, 6, 'square', 'cube']\n",
    "polyhedron_template3.format(cube_data)"
   ]
  },
  {
   "cell_type": "code",
   "execution_count": 4,
   "metadata": {
    "deletable": false,
    "editable": false,
    "nbgrader": {
     "cell_type": "code",
     "checksum": "fb399381b10a5c0dfc47f4e9a52dcc1d",
     "grade": true,
     "grade_id": "cell-9ea07bfd55d9cb07",
     "locked": true,
     "points": 1,
     "schema_version": 3,
     "solution": false,
     "task": false
    }
   },
   "outputs": [
    {
     "name": "stdout",
     "output_type": "stream",
     "text": [
      "test case passed!\n"
     ]
    }
   ],
   "source": [
    "# 1 Mark\n",
    "cube_data = [8, 12, 6, 'square', 'cube']\n",
    "assert(polyhedron_template3.format(cube_data) == question4_c())\n",
    "print('test case passed!')"
   ]
  },
  {
   "cell_type": "code",
   "execution_count": null,
   "metadata": {},
   "outputs": [],
   "source": []
  }
 ],
 "metadata": {
  "kernelspec": {
   "display_name": "Python 3",
   "language": "python",
   "name": "python3"
  },
  "language_info": {
   "codemirror_mode": {
    "name": "ipython",
    "version": 3
   },
   "file_extension": ".py",
   "mimetype": "text/x-python",
   "name": "python",
   "nbconvert_exporter": "python",
   "pygments_lexer": "ipython3",
   "version": "3.7.4"
  }
 },
 "nbformat": 4,
 "nbformat_minor": 4
}
