{
 "cells": [
  {
   "cell_type": "code",
   "execution_count": null,
   "metadata": {},
   "outputs": [],
   "source": [
    "from autograder_week9 import *\n",
    "_globals = globals()"
   ]
  },
  {
   "cell_type": "markdown",
   "metadata": {
    "deletable": false,
    "editable": false,
    "nbgrader": {
     "cell_type": "markdown",
     "checksum": "fdf0f5b0271041c84f70664ef4631f80",
     "grade": false,
     "grade_id": "cell-65ac750104dd09d6",
     "locked": true,
     "schema_version": 3,
     "solution": false
    }
   },
   "source": [
    "# <center> Introduction to Mathematical Computing </center>\n",
    "### <center>Phil Ramsden, Matt Woolway, Boumediene Hamzi</center>\n",
    "\n",
    "# <center> Worksheet 4: Branching; iterable objects; comprehensions</center>\n",
    "\n",
    "**NOTE:** When answering a question, remember to remove the `raise NotImplementedError()` line."
   ]
  },
  {
   "cell_type": "markdown",
   "metadata": {
    "deletable": false,
    "editable": false,
    "nbgrader": {
     "cell_type": "markdown",
     "checksum": "4a5cf6a63ebc4916d10ecfa08fc7e892",
     "grade": false,
     "grade_id": "cell-9bae1d80783c55d4",
     "locked": true,
     "schema_version": 3,
     "solution": false
    }
   },
   "source": [
    "## Question 1\n",
    "\n",
    "These questions are all about branching using <code>if</code>.\n",
    "\n",
    "(a) Write a <code>for</code> loop that, starting with $a=36$, performs the following operation 30 times: if $a$ is even, make the new value of $a$ equal to $a/2$; otherwise, make it equal to $3a+1$. Your code should create a list of all the $a$-values, including the initial value, which you should call <code>alist</code>."
   ]
  },
  {
   "cell_type": "code",
   "execution_count": null,
   "metadata": {
    "deletable": false,
    "nbgrader": {
     "cell_type": "code",
     "checksum": "8e279f16fb4d34e3592d33ae7e20264b",
     "grade": false,
     "grade_id": "cell-9fd6022d0f8e0c0f",
     "locked": false,
     "schema_version": 3,
     "solution": true
    }
   },
   "outputs": [],
   "source": [
    "# initialize a and alist\n",
    "a = 36\n",
    "alist = [a]\n",
    "\n",
    "# for loop\n",
    "for num in range(30):\n",
    "    if a%2 == 0:\n",
    "        a /= 2\n",
    "    else:\n",
    "        a = 3*a + 1\n",
    "    alist.append(a)\n",
    "\n",
    "# print final value of alist\n",
    "print(alist)"
   ]
  },
  {
   "cell_type": "code",
   "execution_count": null,
   "metadata": {
    "deletable": false,
    "editable": false,
    "nbgrader": {
     "cell_type": "code",
     "checksum": "83f6fa44c9abc8137ee124f514843253",
     "grade": true,
     "grade_id": "cell-eedcaa365a51095f",
     "locked": true,
     "points": 1,
     "schema_version": 3,
     "solution": false
    }
   },
   "outputs": [],
   "source": [
    "# 1 Mark\n",
    "# Do not try to delete this cell\n",
    "# Run this cell for grading\n",
    "_globals = globals()\n",
    "question1a(_globals)"
   ]
  },
  {
   "cell_type": "markdown",
   "metadata": {
    "deletable": false,
    "editable": false,
    "nbgrader": {
     "cell_type": "markdown",
     "checksum": "880b80f9de138f031eafefa4a2208642",
     "grade": false,
     "grade_id": "cell-e8955963e667df59",
     "locked": true,
     "schema_version": 3,
     "solution": false
    }
   },
   "source": [
    "(b) Once this sequence hits 1, we know what it's going to do, so there's really no point continuing. Write a new version, which instead of a <code>for</code> loop with a set number of iterations, uses a <code>while</code> loop that stops as soon as the value of $a$ becomes 1. The final value of <code>alist</code> should include 1."
   ]
  },
  {
   "cell_type": "code",
   "execution_count": null,
   "metadata": {
    "deletable": false,
    "nbgrader": {
     "cell_type": "code",
     "checksum": "f128397ad297b0ac205b8930ec56bfd6",
     "grade": false,
     "grade_id": "cell-d0812eeba6b267a9",
     "locked": false,
     "schema_version": 3,
     "solution": true
    }
   },
   "outputs": [],
   "source": [
    "# initialize a and alist\n",
    "a = 36\n",
    "alist = [a]\n",
    "\n",
    "# while loop\n",
    "while a != 1:\n",
    "    if a%2 == 0:\n",
    "        a /= 2\n",
    "    else:\n",
    "        a = 3*a + 1\n",
    "    alist.append(a)\n",
    "\n",
    "\n",
    "# print final value of alist\n",
    "print(alist)"
   ]
  },
  {
   "cell_type": "code",
   "execution_count": null,
   "metadata": {
    "deletable": false,
    "editable": false,
    "nbgrader": {
     "cell_type": "code",
     "checksum": "b32aae29113f4d2529df1332673be8bb",
     "grade": true,
     "grade_id": "cell-47bc7c560477788e",
     "locked": true,
     "points": 1,
     "schema_version": 3,
     "solution": false
    }
   },
   "outputs": [],
   "source": [
    "# 1 Mark\n",
    "# Do not try to delete this cell\n",
    "# Run this cell for grading\n",
    "_globals = globals()\n",
    "question1b(_globals)"
   ]
  },
  {
   "cell_type": "markdown",
   "metadata": {
    "deletable": false,
    "editable": false,
    "nbgrader": {
     "cell_type": "markdown",
     "checksum": "d69b9598ea5193d828b943536cf6dce1",
     "grade": false,
     "grade_id": "cell-6e8d352855576c6e",
     "locked": true,
     "schema_version": 3,
     "solution": false
    }
   },
   "source": [
    "c) The following is a piece of code that adds up all the factors of 24:"
   ]
  },
  {
   "cell_type": "code",
   "execution_count": null,
   "metadata": {
    "deletable": false,
    "editable": false,
    "nbgrader": {
     "cell_type": "code",
     "checksum": "75a917f4c7fb985a6b52f8353dc35258",
     "grade": false,
     "grade_id": "cell-6f4ed064dea2fbdc",
     "locked": true,
     "schema_version": 3,
     "solution": false
    }
   },
   "outputs": [],
   "source": [
    "# value of a\n",
    "a = 24\n",
    "\n",
    "# initialize factor sum\n",
    "factor_sum = 0\n",
    "\n",
    "# for loop\n",
    "for r in range(1, a+1):\n",
    "    # if r is a factor, add it to the factor sum\n",
    "    if a % r == 0:\n",
    "        factor_sum += r\n",
    "\n",
    "# print the final value of the factor sum and the count variable\n",
    "print(factor_sum)\n",
    "print(r)"
   ]
  },
  {
   "cell_type": "markdown",
   "metadata": {
    "deletable": false,
    "editable": false,
    "nbgrader": {
     "cell_type": "markdown",
     "checksum": "52daff171ffa1392492c64c52dbd4728",
     "grade": false,
     "grade_id": "cell-03b472a82b5889f3",
     "locked": true,
     "schema_version": 3,
     "solution": false
    }
   },
   "source": [
    "This is quite inefficient, though, because it uses 24 iterations where far fewer are needed. That's because once we know, say, 3 is a factor, we also know that 24/3 = 8 is a factor, so we might as well add that at the same time.\n",
    "\n",
    "Write a new version of the code that uses this trick so that instead of 23, only about 4 iterations are needed."
   ]
  },
  {
   "cell_type": "code",
   "execution_count": null,
   "metadata": {
    "deletable": false,
    "nbgrader": {
     "cell_type": "code",
     "checksum": "e5f99173c19139c9f4eba114f7c35549",
     "grade": false,
     "grade_id": "cell-e0d25c1168019f27",
     "locked": false,
     "schema_version": 3,
     "solution": true
    }
   },
   "outputs": [],
   "source": [
    "from math import sqrt, ceil\n",
    "\n",
    "a=24\n",
    "factor_sum=0\n",
    "\n",
    "for r in range(1, ceil(sqrt(a))):\n",
    "    if a % r == 0:\n",
    "        factor_sum += r + (a/r)\n",
    "\n",
    "print(factor_sum)\n",
    "print(r)"
   ]
  },
  {
   "cell_type": "code",
   "execution_count": null,
   "metadata": {
    "deletable": false,
    "editable": false,
    "nbgrader": {
     "cell_type": "code",
     "checksum": "f03b573b7ebee4453310339dbd4ae1e7",
     "grade": true,
     "grade_id": "cell-4f9293c192941e67",
     "locked": true,
     "points": 1,
     "schema_version": 3,
     "solution": false
    }
   },
   "outputs": [],
   "source": [
    "# 1 Mark\n",
    "# Do not try to delete this cell\n",
    "# Run this cell for grading\n",
    "_globals = globals()\n",
    "question1c(_globals)"
   ]
  },
  {
   "cell_type": "markdown",
   "metadata": {
    "deletable": false,
    "editable": false,
    "nbgrader": {
     "cell_type": "markdown",
     "checksum": "ec7bd3283706a6df9dd7e278c7d9cc54",
     "grade": false,
     "grade_id": "cell-0e340cd9d79948ba",
     "locked": true,
     "schema_version": 3,
     "solution": false
    }
   },
   "source": [
    "(d) Does your new code work if you change the value of $a$ to 36? Check the value it produces against the one produced by the old, inefficient code (which, though inefficient, is correct). If there is a bug, what's causing it?\n",
    "\n",
    "Write a new version of your code from part (c), with any bugs removed; your new code should work both for $a=24$ and for $a=36$, and you should run the grading test with both values in turn. \n",
    "\n",
    "IMPORTANT: When you <em>submit</em>, make sure the value of `a` is set to 24 in question 1(c) and 36 here."
   ]
  },
  {
   "cell_type": "code",
   "execution_count": null,
   "metadata": {
    "deletable": false,
    "nbgrader": {
     "cell_type": "code",
     "checksum": "1e3e3f6e4550b412d72146cfcbf0ed8b",
     "grade": false,
     "grade_id": "cell-764d0f595f14ce23",
     "locked": false,
     "schema_version": 3,
     "solution": true
    }
   },
   "outputs": [],
   "source": [
    "a = 36\n",
    "factor_sum = 0\n",
    "for r in range(1, ceil(sqrt(a)+1)):\n",
    "    if a % r == 0:\n",
    "        print(r)\n",
    "        print(a/r)\n",
    "        factor_sum += r + (a/r)\n",
    "\n",
    "factor_sum -= 6\n",
    "# print the final value of the factor sum and the count variable\n",
    "print(factor_sum)\n",
    "print(r)"
   ]
  },
  {
   "cell_type": "code",
   "execution_count": null,
   "metadata": {
    "deletable": false,
    "editable": false,
    "nbgrader": {
     "cell_type": "code",
     "checksum": "dc615a2498cda12c10fbace9570e4b6a",
     "grade": true,
     "grade_id": "cell-7f30e64e3dbda7b7",
     "locked": true,
     "points": 1,
     "schema_version": 3,
     "solution": false
    }
   },
   "outputs": [],
   "source": [
    "# 1 Mark\n",
    "# Do not try to delete this cell\n",
    "# Run this cell for grading\n",
    "_globals = globals()\n",
    "question1d(_globals)"
   ]
  },
  {
   "cell_type": "markdown",
   "metadata": {
    "deletable": false,
    "editable": false,
    "nbgrader": {
     "cell_type": "markdown",
     "checksum": "b6a79e945ad20b1a51a6f972f97e76ed",
     "grade": false,
     "grade_id": "cell-afd952cf98ca8c91",
     "locked": true,
     "schema_version": 3,
     "solution": false
    }
   },
   "source": [
    "## Question 2(i)\n",
    "\n",
    "The function <code>ord</code> assigns a numerical code to each character; each character's code is unique:"
   ]
  },
  {
   "cell_type": "code",
   "execution_count": null,
   "metadata": {},
   "outputs": [],
   "source": [
    "print(ord('A'))\n",
    "print(ord('d'))\n",
    "print(ord('?'))"
   ]
  },
  {
   "cell_type": "markdown",
   "metadata": {
    "deletable": false,
    "editable": false,
    "nbgrader": {
     "cell_type": "markdown",
     "checksum": "d4273765f2894be274509af58428c544",
     "grade": false,
     "grade_id": "cell-95512d686334f79d",
     "locked": true,
     "schema_version": 3,
     "solution": false
    }
   },
   "source": [
    "(a) Using a single, one-line command, create a list consisting of all the character codes of the characters in the given string, <code>string1</code>. (Hint: use a <b>comprehension</b>.)\n",
    "\n",
    "(b) Using a single, one-line command, create a list consisting of all the square roots of numbers in the list from part (a). (Remember, you may need to import a square root function.)\n",
    "\n",
    "(c) Using the <code>zip</code> function, create a list, each of whose elements is a tuple of length 2. The first element of each tuple should be a value from the list from part (a), and the second should be the corresponding value from the list from part (b).\n",
    "\n",
    "(d) Without using <code>zip</code>, but instead using a single-line comprehension over the list from part (a), create the same list of tuples as in part (c)."
   ]
  },
  {
   "cell_type": "code",
   "execution_count": null,
   "metadata": {
    "deletable": false,
    "nbgrader": {
     "cell_type": "code",
     "checksum": "f8b9323971f9b1b5c62a1a96637231d0",
     "grade": false,
     "grade_id": "cell-8e9d6b72facb2dc9",
     "locked": false,
     "schema_version": 3,
     "solution": true
    }
   },
   "outputs": [],
   "source": [
    "from math import sqrt\n",
    "\n",
    "string1 = 'The quick brown fox jumps over the lazy dog'\n",
    "\n",
    "s1list = [ord(char) for char in string1]\n",
    "s1list2 = [sqrt(item) for item in s1list]\n",
    "zip1 = list(zip(s1list, s1list2))\n",
    "zip2 = [(s1list[i], s1list2[i]) for i in range(len(s1list))]\n",
    "\n",
    "\n",
    "q2ia_answer = s1list\n",
    "q2ib_answer = s1list2\n",
    "q2ic_answer = zip1\n",
    "q2id_answer = zip2\n",
    "\n",
    "print(q2ia_answer)\n",
    "print(q2ib_answer)\n",
    "print(q2ic_answer)\n",
    "print(q2id_answer)"
   ]
  },
  {
   "cell_type": "code",
   "execution_count": null,
   "metadata": {
    "deletable": false,
    "editable": false,
    "nbgrader": {
     "cell_type": "code",
     "checksum": "e53ac35ce7c49d3b1d9782c7a66ae025",
     "grade": true,
     "grade_id": "cell-dd0ddb84d57eaced",
     "locked": true,
     "points": 4,
     "schema_version": 3,
     "solution": false
    }
   },
   "outputs": [],
   "source": [
    "# 4 Marks\n",
    "# Do not try to delete this cell\n",
    "# Run this cell for grading\n",
    "_globals = globals()\n",
    "question2i(_globals)"
   ]
  },
  {
   "cell_type": "markdown",
   "metadata": {
    "deletable": false,
    "editable": false,
    "nbgrader": {
     "cell_type": "markdown",
     "checksum": "7c301e9037beacb0cccefae10b611234",
     "grade": false,
     "grade_id": "cell-a1656e627aff093b",
     "locked": true,
     "schema_version": 3,
     "solution": false
    }
   },
   "source": [
    "## Question 2(ii)\n",
    "\n",
    "The operator <code>in</code> can be used to check whether a particular character belongs to a particular string, or whether a particular element belongs to a particular list:"
   ]
  },
  {
   "cell_type": "code",
   "execution_count": null,
   "metadata": {
    "deletable": false,
    "editable": false,
    "nbgrader": {
     "cell_type": "code",
     "checksum": "1cc8bb4282bc21304fc42124603a4b1b",
     "grade": false,
     "grade_id": "cell-fe906e07501fe614",
     "locked": true,
     "schema_version": 3,
     "solution": false
    }
   },
   "outputs": [],
   "source": [
    "no_e_string = 'This longish string, I think possibly slightly oddly, is missing a particular symbol, which ordinarily you would bank on occurring.'\n",
    "\n",
    "print(no_e_string)\n",
    "print('e' in no_e_string)\n",
    "print('a' in no_e_string)"
   ]
  },
  {
   "cell_type": "code",
   "execution_count": null,
   "metadata": {
    "deletable": false,
    "editable": false,
    "nbgrader": {
     "cell_type": "code",
     "checksum": "ceab5a54886515f896266730c0ea99d8",
     "grade": false,
     "grade_id": "cell-7f0dd27e37b1b53a",
     "locked": true,
     "schema_version": 3,
     "solution": false
    }
   },
   "outputs": [],
   "source": [
    "odd_list = list(range(1,100,2))\n",
    "\n",
    "print(odd_list)\n",
    "print(64 in odd_list)\n",
    "print(65 in odd_list)"
   ]
  },
  {
   "cell_type": "markdown",
   "metadata": {
    "deletable": false,
    "editable": false,
    "nbgrader": {
     "cell_type": "markdown",
     "checksum": "e77d2996f91300db62c4965a114a421b",
     "grade": false,
     "grade_id": "cell-180017cf6fa268ba",
     "locked": true,
     "schema_version": 3,
     "solution": false
    }
   },
   "source": [
    "(a) Using a single-line comprehension, find out exactly which <i>lower-case</i> letters of the alphabet are in <code>no_e_string</code>. Do this by creating a list of 26 2-tuples; the first element of each tuple should be a lower-case letter of the alphabet, and the second should either be <code>True</code> or <code>False</code>. \n",
    "\n",
    "(b) Using a single-line comprehension based on the <code>pow</code> function, create a list of the residues of $2^n$ modulo $95$ for $n=0, 1, 2, \\dots, 94$.\n",
    "\n",
    "(c) Find out which of the integers between $0$ and $94$ inclusive belong to your list from part (b). Do this by creating a list of 95 lists of length 2; the first element should be an integer between $0$ and $94$, and the second should either be <code>True</code> or <code>False</code>."
   ]
  },
  {
   "cell_type": "code",
   "execution_count": null,
   "metadata": {
    "deletable": false,
    "nbgrader": {
     "cell_type": "code",
     "checksum": "baf46bebc2e14eb28c8fbdd2cf9803e5",
     "grade": false,
     "grade_id": "cell-3a14546de16db48d",
     "locked": false,
     "schema_version": 3,
     "solution": true
    }
   },
   "outputs": [],
   "source": [
    "no_e_string = 'This longish string, I think possibly slightly oddly, is missing a particular symbol, which ordinarily you would bank on occurring.'\n",
    "alphabet = 'abcdefghijklmnopqrstuvwxyz'\n",
    "\n",
    "alist = [(alphabet[i], alphabet[i] in no_e_string) for i in range(len(alphabet))]\n",
    "powlist = [pow(2, n, 95) for n in range(95)]\n",
    "powlist2 = [(n , n in powlist) for n in range(95)]\n",
    "\n",
    "q2iia_answer = alist\n",
    "q2iib_answer = powlist\n",
    "q2iic_answer = powlist2\n",
    "\n",
    "print(q2iia_answer)\n",
    "print(q2iib_answer)\n",
    "print(q2iic_answer)"
   ]
  },
  {
   "cell_type": "code",
   "execution_count": null,
   "metadata": {
    "deletable": false,
    "editable": false,
    "nbgrader": {
     "cell_type": "code",
     "checksum": "47c4c150f3600d9664aa78793ef9d4bb",
     "grade": true,
     "grade_id": "cell-53cf9a2d252b9b17",
     "locked": true,
     "points": 3,
     "schema_version": 3,
     "solution": false
    }
   },
   "outputs": [],
   "source": [
    "# 3 Marks\n",
    "# Do not try to delete this cell\n",
    "# Run this cell for grading\n",
    "_globals = globals()\n",
    "question2ii(_globals)"
   ]
  },
  {
   "cell_type": "markdown",
   "metadata": {
    "deletable": false,
    "editable": false,
    "nbgrader": {
     "cell_type": "markdown",
     "checksum": "ed7a8ef67063178065b762d9b7d82592",
     "grade": false,
     "grade_id": "cell-a039f28ca5340acc",
     "locked": true,
     "schema_version": 3,
     "solution": false
    }
   },
   "source": [
    "## Question 3\n",
    "\n",
    "Suppose Alice wants to send a message to Bob, but their enemy Chuck is listening in. They might want to use a \"secret code\"; technically a <b>cipher</b>.\n",
    "\n",
    "One of the simplest kinds is called a <b>Caesar cipher</b>. This works by shifting every character along by the same amount: for example, A goes to L, B goes to M, C goes to N, etc.\n",
    "\n",
    "It's quite good to work not with a 26-letter alphabet but with a fairly full set of keyboard characters. There are about 95 of these, with character codes between 32 and 126:"
   ]
  },
  {
   "cell_type": "code",
   "execution_count": null,
   "metadata": {
    "deletable": false,
    "editable": false,
    "nbgrader": {
     "cell_type": "code",
     "checksum": "d57a78297646395d21687bd91258b2b4",
     "grade": false,
     "grade_id": "cell-946665cdaf075eef",
     "locked": true,
     "schema_version": 3,
     "solution": false
    }
   },
   "outputs": [],
   "source": [
    "\"\".join([chr(x) for x in range(32,95)])"
   ]
  },
  {
   "cell_type": "markdown",
   "metadata": {
    "deletable": false,
    "editable": false,
    "nbgrader": {
     "cell_type": "markdown",
     "checksum": "5464a555f86838557f9310506c4a1ced",
     "grade": false,
     "grade_id": "cell-2a9169691383545f",
     "locked": true,
     "schema_version": 3,
     "solution": false
    }
   },
   "source": [
    "Then a Caesar cipher might consist of an encryption rule along the lines of\n",
    "\n",
    "\"Shift each character along by 37, wrapping round cyclically when you get to 95.\"\n",
    "\n",
    "If we let each character in the original message (the <b>plaintext</b>) be represented by a number $p$ between 0 and 94, this rule can be written\n",
    "\n",
    "$$c = (p + 37) \\mod 95,$$\n",
    "\n",
    "where $c$ is the corresponding number in the encrypted message (the <b>ciphertext</b>). \n",
    "\n",
    "A complete encryption in Python might look like this:"
   ]
  },
  {
   "cell_type": "code",
   "execution_count": null,
   "metadata": {
    "deletable": false,
    "editable": false,
    "nbgrader": {
     "cell_type": "code",
     "checksum": "f6b5ddc76cae02ca153d0ca2b58c70bf",
     "grade": false,
     "grade_id": "cell-5cfccd0301288a88",
     "locked": true,
     "schema_version": 3,
     "solution": false
    }
   },
   "outputs": [],
   "source": [
    "# The original message\n",
    "plaintext = 'My name is Bond, James Bond.'\n",
    "\n",
    "# The encryption key\n",
    "n = 95\n",
    "e = 37\n",
    "\n",
    "# Replacing every character with a number between 0 and 94\n",
    "plaintext_numbers = [ord(x) - 32 for x in plaintext]\n",
    "\n",
    "# Shifting along by 37, wrapping round at 95\n",
    "ciphertext_numbers = [(x + e) % n for x in plaintext_numbers]\n",
    "\n",
    "# Converting back into characters\n",
    "ciphertext = \"\".join([chr(x+32) for x in ciphertext_numbers])\n",
    "\n",
    "print(plaintext_numbers)\n",
    "print(ciphertext_numbers)\n",
    "print(ciphertext)"
   ]
  },
  {
   "cell_type": "markdown",
   "metadata": {
    "deletable": false,
    "editable": false,
    "nbgrader": {
     "cell_type": "markdown",
     "checksum": "1f753b32d1f87e278b048655a4969474",
     "grade": false,
     "grade_id": "cell-5c8283f178882c91",
     "locked": true,
     "schema_version": 3,
     "solution": false
    }
   },
   "source": [
    "That's what Alice does. Bob's problem is then to recover the original message: to <b>decrypt</b> the ciphertext. Because this is modular arithmetic, he can undo this addition of a positive integer by addition of another positive integer!"
   ]
  },
  {
   "cell_type": "markdown",
   "metadata": {
    "deletable": false,
    "editable": false,
    "nbgrader": {
     "cell_type": "markdown",
     "checksum": "40c20c188c1d2def8f9d9b44cd5ef750",
     "grade": false,
     "grade_id": "cell-b1707fbdcbefa3c7",
     "locked": true,
     "schema_version": 3,
     "solution": false
    }
   },
   "source": [
    "## 3 (i)\n",
    "\n",
    "Play the role of Bob. \n",
    "\n",
    "(a) Starting with the ciphertext 'r?E4'3+E/9Eg54\\*QEo'3+9Eg54\\*S', begin by converting this into a list of integers between 0 and 94.\n",
    "\n",
    "(b) Now, undo the addition of 37, modulo 95, by addition of another positive integer. \n",
    "\n",
    "(c) Finally, convert this list of integers into a string of characters."
   ]
  },
  {
   "cell_type": "code",
   "execution_count": null,
   "metadata": {
    "deletable": false,
    "nbgrader": {
     "cell_type": "code",
     "checksum": "dc55ed69f9ee43f32b973a8fc6de6a8b",
     "grade": false,
     "grade_id": "cell-2a3d027244b05804",
     "locked": false,
     "schema_version": 3,
     "solution": true
    }
   },
   "outputs": [],
   "source": [
    "# Slightly complicated code; this deletes all previous definitions, but only if they exist\n",
    "# You needn't try to understand this yet\n",
    "try:\n",
    "    del plaintext, plaintext_numbers, ciphertext_numbers, ciphertext\n",
    "except NameError:\n",
    "    pass\n",
    "\n",
    "ciphertext = \"r?E4'3+E/9Eg54*QEo'3+9Eg54*S\"\n",
    "\n",
    "# Part (a)\n",
    "ciphertext_numbers = [ord(x)-32 for x in ciphertext]\n",
    "\n",
    "# Part (b)\n",
    "# decryption key; fill in the correct values, making sure d is positive\n",
    "n = 95\n",
    "d = 58\n",
    "\n",
    "decrypt_numbers = [(x + d) % n for x in ciphertext_numbers]\n",
    "\n",
    "# Part (c)\n",
    "decrypt = \"\".join([chr(num+32) for num in decrypt_numbers])\n",
    "\n",
    "print(ciphertext_numbers)\n",
    "print(decrypt_numbers)\n",
    "print(decrypt)"
   ]
  },
  {
   "cell_type": "code",
   "execution_count": null,
   "metadata": {
    "deletable": false,
    "editable": false,
    "nbgrader": {
     "cell_type": "code",
     "checksum": "9c0dbcdddfd8e3217068ab4bf0a6293a",
     "grade": true,
     "grade_id": "cell-5a29c97b2d547b00",
     "locked": true,
     "points": 4,
     "schema_version": 3,
     "solution": false
    }
   },
   "outputs": [],
   "source": [
    "# 4 Marks\n",
    "# Do not try to delete this cell\n",
    "# Run this cell for grading\n",
    "_globals = globals()\n",
    "question3i(_globals)"
   ]
  },
  {
   "cell_type": "markdown",
   "metadata": {
    "deletable": false,
    "editable": false,
    "nbgrader": {
     "cell_type": "markdown",
     "checksum": "7a079ed0e8f3994505423634df55dda7",
     "grade": false,
     "grade_id": "cell-eef864620d6600a1",
     "locked": true,
     "schema_version": 3,
     "solution": false
    }
   },
   "source": [
    "The Caesar cipher is based on modular addition. It's possible to base a cipher on modular multiplication instead, using an algorithm such as \n",
    "\n",
    "$$c = p * 37 \\mod 95.$$\n",
    "\n",
    "## 3 (ii)\n",
    "(a) Play the role of Alice: encrypt the message 'Good evening, Mr Bond, I've been expecting you.' using the above linear cipher."
   ]
  },
  {
   "cell_type": "code",
   "execution_count": null,
   "metadata": {
    "deletable": false,
    "nbgrader": {
     "cell_type": "code",
     "checksum": "7f8b5a161d574aeb5df99e68f0a9ce46",
     "grade": false,
     "grade_id": "cell-7c83b77d2c6cdcf1",
     "locked": false,
     "schema_version": 3,
     "solution": true
    }
   },
   "outputs": [],
   "source": [
    "plaintext = \"Good evening, Mr Bond, I've been expecting you.\"\n",
    "\n",
    "# The encryption key\n",
    "n = 95\n",
    "e = 37\n",
    "\n",
    "# Replacing every character with a number between 0 and 94\n",
    "plaintext_numbers = [ord(char)-32 for char in plaintext]\n",
    "\n",
    "# Multiplying by 37, wrapping round at 95\n",
    "ciphertext_numbers = [(num*e)%n for num in plaintext_numbers]\n",
    "\n",
    "# Converting back into characters\n",
    "ciphertext = \"\".join([chr(num+32) for num in ciphertext_numbers])\n",
    "\n",
    "print(plaintext_numbers)\n",
    "print(ciphertext_numbers)\n",
    "print(ciphertext)"
   ]
  },
  {
   "cell_type": "code",
   "execution_count": null,
   "metadata": {
    "deletable": false,
    "editable": false,
    "nbgrader": {
     "cell_type": "code",
     "checksum": "45b38a72b1090da28e2c8df392189a3b",
     "grade": true,
     "grade_id": "cell-9a79b700b170b800",
     "locked": true,
     "points": 3,
     "schema_version": 3,
     "solution": false
    }
   },
   "outputs": [],
   "source": [
    "# 3 Marks\n",
    "# Do not try to delete this cell\n",
    "# Run this cell for grading\n",
    "_globals = globals()\n",
    "question3iia(_globals)"
   ]
  },
  {
   "cell_type": "markdown",
   "metadata": {
    "deletable": false,
    "editable": false,
    "nbgrader": {
     "cell_type": "markdown",
     "checksum": "cd7f9c86f1e2dcf262fc283cf529c133",
     "grade": false,
     "grade_id": "cell-4fd590b1c5d28427",
     "locked": true,
     "schema_version": 3,
     "solution": false
    }
   },
   "source": [
    "Now to play the role of Bob. This is a little tricky, because you first have to work out what Bob's decryption algorithm ought to be. \n",
    "\n",
    "It turns out that we can undo multiplication by $e$, modulo 95, using multiplication by another number $d$, modulo 95. This number has the property that the residue of $ed$, modulo 95, is 1.\n",
    "\n",
    "(b) Generate a list of 94 2-tuples; the first element of each tuple should be a number $x$ between 0 and 94, and the second should be the residue of $37*d$, modulo 95.\n",
    "\n",
    "(c) By eye, find the tuple whose second element is 1, and hence find the decryption key, $d$.\n",
    "\n",
    "(d) Decrypt Alice's message using multiplication by $d$, modulo 95."
   ]
  },
  {
   "cell_type": "code",
   "execution_count": null,
   "metadata": {
    "deletable": false,
    "nbgrader": {
     "cell_type": "code",
     "checksum": "5217a0c786c2bc78773169034714e79b",
     "grade": false,
     "grade_id": "cell-0c134f764924d2a4",
     "locked": false,
     "schema_version": 3,
     "solution": true
    }
   },
   "outputs": [],
   "source": [
    "# redefine e and n in case they've been cleared\n",
    "e = 37\n",
    "n = 95\n",
    "\n",
    "# Part (b)\n",
    "residue_tuples = [(x, (x*37)%95) for x in range(95)]\n",
    "print(residue_tuples)\n",
    "\n",
    "# Part (c)\n",
    "d = 18\n",
    "print(d)\n",
    "\n",
    "# Part (d)\n",
    "# Slightly complicated code; this deletes all previous definitions, but only if they exist\n",
    "# You needn't try to understand this yet\n",
    "try:\n",
    "    del plaintext, plaintext_numbers, ciphertext_numbers, ciphertext\n",
    "except NameError:\n",
    "    pass\n",
    "\n",
    "# the ciphertext\n",
    "ciphertext = '2iiN sOsDID^` Ry 7iDN` |eOs cssD s:/s)dID^ _i*K'\n",
    "# convert into a list of integers between 0 and 94\n",
    "ciphertext_numbers = [ord(char)-32 for char in ciphertext]\n",
    "# decrypt, using multiplication by d, modulo n (where n is 95)\n",
    "decrypt_numbers = [(x*d)%n for x in ciphertext_numbers]\n",
    "# convert into a string\n",
    "decrypt = \"\".join([chr(x+32) for x in decrypt_numbers])\n",
    "\n",
    "print(ciphertext_numbers)\n",
    "print(decrypt_numbers)\n",
    "print(decrypt)"
   ]
  },
  {
   "cell_type": "code",
   "execution_count": null,
   "metadata": {
    "deletable": false,
    "editable": false,
    "nbgrader": {
     "cell_type": "code",
     "checksum": "89cbf552984f618d7fa8cd164069da78",
     "grade": true,
     "grade_id": "cell-03fba32d87f9f597",
     "locked": true,
     "points": 5,
     "schema_version": 3,
     "solution": false
    }
   },
   "outputs": [],
   "source": [
    "# 5 Marks\n",
    "# Do not try to delete this cell\n",
    "# Run this cell for grading\n",
    "_globals = globals()\n",
    "question3iibcd(_globals)"
   ]
  },
  {
   "cell_type": "markdown",
   "metadata": {
    "deletable": false,
    "editable": false,
    "nbgrader": {
     "cell_type": "markdown",
     "checksum": "18cb37db090b5088f3cf0defb2e2acb2",
     "grade": false,
     "grade_id": "cell-af721e0128a327d0",
     "locked": true,
     "schema_version": 3,
     "solution": false
    }
   },
   "source": [
    "(e) What would have happened if Alice had used $e=38$ instead of $e=37$? Select one of the following:\n",
    "\n",
    "<ol>\n",
    "    <li>Bob could have decrypted the message using the same decryption key.</li>\n",
    "    <li>Bob could have decrypted the message, but would need to calculate a new decryption key.</li>\n",
    "    <li>Bob could not have reliably decrypted the message, because there would have been ambiguities.</li>\n",
    "</ol>"
   ]
  },
  {
   "cell_type": "code",
   "execution_count": null,
   "metadata": {
    "deletable": false,
    "nbgrader": {
     "cell_type": "code",
     "checksum": "615b8b28e221b29ad9a8cd565b0349d8",
     "grade": false,
     "grade_id": "cell-0a1a90d175332d71",
     "locked": false,
     "schema_version": 3,
     "solution": true
    }
   },
   "outputs": [],
   "source": [
    "q3e_answer = 3"
   ]
  },
  {
   "cell_type": "code",
   "execution_count": null,
   "metadata": {
    "deletable": false,
    "editable": false,
    "nbgrader": {
     "cell_type": "code",
     "checksum": "26e5239d7417e0df5bd11e1d626eba44",
     "grade": true,
     "grade_id": "cell-a3a2773c75b62ad2",
     "locked": true,
     "points": 1,
     "schema_version": 3,
     "solution": false
    }
   },
   "outputs": [],
   "source": [
    "#1 Mark\n",
    "assert(q3e_answer == question3e())\n",
    "print(\"Question 3e passed!\")"
   ]
  },
  {
   "cell_type": "markdown",
   "metadata": {
    "deletable": false,
    "editable": false,
    "nbgrader": {
     "cell_type": "markdown",
     "checksum": "9301668d00062bdfe4b0c55b69bf9065",
     "grade": false,
     "grade_id": "cell-4e865d06c9a511a1",
     "locked": true,
     "schema_version": 3,
     "solution": false
    }
   },
   "source": [
    "## 3 (iii)\n",
    "\n",
    "(a) Encrypt the message \n",
    "\n",
    "\"Vodka Martini, shaken not stirred.\" \n",
    "\n",
    "using the algorithm\n",
    "\n",
    "$$c = p^{13}\\mod 95.$$\n",
    "\n",
    "(Don't forget about the <code>pow</code> function.)\n",
    "\n",
    "(b) Now to find the decryption key. It turns out that because 95 is the product of the primes 5 and 19, we want as our $d$ a number with the property that the residue of $d*e$ modulo 72 is 1. (Why 72? It has to do with the fact that $72 = (5 - 1) \\times (19 - 1)$; more about this in one of your other modules.)\n",
    "\n",
    "Find a number between 0 and 71 with this property, and assign its value to the variable $d$.\n",
    "\n",
    "(c) Finally, decrypt the message using the decryption algorithm\n",
    "\n",
    "$$p = c^d \\mod n.$$"
   ]
  },
  {
   "cell_type": "code",
   "execution_count": null,
   "metadata": {
    "deletable": false,
    "nbgrader": {
     "cell_type": "code",
     "checksum": "d8c3522217fd4b5d4383255561f21764",
     "grade": false,
     "grade_id": "cell-256adea0bb7003ae",
     "locked": false,
     "schema_version": 3,
     "solution": true
    }
   },
   "outputs": [],
   "source": [
    "# Part(a)\n",
    "\n",
    "# Fill in your own code here, ending with...\n",
    "\n",
    "plaintext = 'Vodka Martini, shaken not stirred'\n",
    "p_numbers = [ord(char)-32 for char in plaintext]\n",
    "c_numbers = [pow(x, 13, 95) for x in p_numbers]\n",
    "ciphertext = \"\".join(chr(x+32) for x in c_numbers)\n",
    "\n",
    "print(ciphertext)\n",
    "\n",
    "# Part (b)\n",
    "\n",
    "decrypt_keys = [(x, (x*13)%72) for x in range(72)]\n",
    "print(decrypt_keys)\n",
    "\n",
    "d = 61\n",
    "\n",
    "print(d)\n",
    "\n",
    "# Part (c)\n",
    "c_numbers2 = [ord(char)-32 for char in ciphertext]\n",
    "decrypt_numbers = [pow(x, d, 95) for x in c_numbers2]\n",
    "decrypt = \"\".join([chr(x+32) for x in decrypt_numbers])\n",
    "\n",
    "print(decrypt)"
   ]
  },
  {
   "cell_type": "code",
   "execution_count": null,
   "metadata": {
    "deletable": false,
    "editable": false,
    "nbgrader": {
     "cell_type": "code",
     "checksum": "436baae71cf623f5264417205d901afe",
     "grade": true,
     "grade_id": "cell-6bf2533d39eb367a",
     "locked": true,
     "points": 4,
     "schema_version": 3,
     "solution": false
    }
   },
   "outputs": [],
   "source": [
    "# 4 Marks\n",
    "# Do not try to delete this cell\n",
    "# Run this cell for grading\n",
    "_globals = globals()\n",
    "question3iii(_globals)"
   ]
  },
  {
   "cell_type": "markdown",
   "metadata": {
    "deletable": false,
    "editable": false,
    "nbgrader": {
     "cell_type": "markdown",
     "checksum": "bb33a6d5f2b64bcf3403dbb1f834911d",
     "grade": false,
     "grade_id": "cell-20e96db8f8fc6135",
     "locked": true,
     "schema_version": 3,
     "solution": false
    }
   },
   "source": [
    "## Question 4\n",
    "\n",
    "(a) First, create four objects called <code>myrange</code>, <code>mylist</code>, <code>mytuple</code> and <code>myslice</code>, which should be defined as follows.\n",
    "\n",
    "<ul>\n",
    "    <li><code>myrange</code> should be a range, containing all the integers between 97 and 102 inclusive.</li>\n",
    "    <li><code>mylist</code> should be a list, again containing all the integers between 97 and 102 inclusive.</li>\n",
    "    <li><code>mytuple</code> should be a tuple, again containing all the integers between 97 and 102 inclusive.</li>\n",
    "    <li><code>myslice</code> should be an object created using the <code>count</code> and <code>islice</code> functions from the <code>itertools</code> module, again containing all the integers between 97 and 102 inclusive.</li>\n",
    "</ul>"
   ]
  },
  {
   "cell_type": "code",
   "execution_count": null,
   "metadata": {
    "deletable": false,
    "nbgrader": {
     "cell_type": "code",
     "checksum": "aca1efd9b35f5e2d0f04f6391993386e",
     "grade": false,
     "grade_id": "cell-c4c91cf440f21ed4",
     "locked": false,
     "schema_version": 3,
     "solution": true
    }
   },
   "outputs": [],
   "source": [
    "from itertools import count, islice\n",
    "\n",
    "myrange = range(97, 103)\n",
    "mylist = [x for x in myrange]\n",
    "mytuple = tuple(mylist)\n",
    "myslice = islice(count(97, 1), 6)\n",
    "\n",
    "print(myrange)\n",
    "print(mylist)\n",
    "print(mytuple)\n",
    "print(myslice)"
   ]
  },
  {
   "cell_type": "code",
   "execution_count": null,
   "metadata": {
    "deletable": false,
    "editable": false,
    "nbgrader": {
     "cell_type": "code",
     "checksum": "bb4c473c55a38bcf691faca57700425e",
     "grade": true,
     "grade_id": "cell-584f73de5583f23f",
     "locked": true,
     "points": 4,
     "schema_version": 3,
     "solution": false
    }
   },
   "outputs": [],
   "source": [
    "# 4 Marks\n",
    "# Do not try to delete this cell\n",
    "# Run this cell for grading\n",
    "_globals = globals()\n",
    "question4a(_globals)"
   ]
  },
  {
   "cell_type": "markdown",
   "metadata": {
    "deletable": false,
    "editable": false,
    "nbgrader": {
     "cell_type": "markdown",
     "checksum": "bd9a93a289fdc5fa17a2d8939fbf9d58",
     "grade": false,
     "grade_id": "cell-a91da59c7ef68428",
     "locked": true,
     "schema_version": 3,
     "solution": false
    }
   },
   "source": [
    "(b) Run the following code:"
   ]
  },
  {
   "cell_type": "code",
   "execution_count": null,
   "metadata": {
    "deletable": false,
    "editable": false,
    "nbgrader": {
     "cell_type": "code",
     "checksum": "cf9a71c772f015656654032e19ca082f",
     "grade": false,
     "grade_id": "cell-0b4ba83e229f3d27",
     "locked": true,
     "schema_version": 3,
     "solution": false
    }
   },
   "outputs": [],
   "source": [
    "print([n**2 for n in myrange])\n",
    "print(list(myrange))"
   ]
  },
  {
   "cell_type": "markdown",
   "metadata": {
    "deletable": false,
    "editable": false,
    "nbgrader": {
     "cell_type": "markdown",
     "checksum": "b4bc7196696e2346a95e082fff007bd2",
     "grade": false,
     "grade_id": "cell-3ea6db67063f0408",
     "locked": true,
     "schema_version": 3,
     "solution": false
    }
   },
   "source": [
    "Repeat for the other three objects, and then choose one of the following:\n",
    "\n",
    "<ol>\n",
    "    <li>Running a comprehension on all four objects works, and leaves each object unchanged.</li>\n",
    "    <li>Running a comprehension on all four objects works, and leaves three of the objects unchanged while changing the other one.</li>\n",
    "    <li>Running a comprehension on all four objects works, and leaves two of the objects unchanged while changing the other two.</li>\n",
    "    <li>Running a comprehension on all three objects works, and leaves one of the objects unchanged while changing the other three.</li>\n",
    "    <li>Running a comprehension does not work on all of the objects.</li>\n",
    "</ol>"
   ]
  },
  {
   "cell_type": "code",
   "execution_count": null,
   "metadata": {
    "deletable": false,
    "nbgrader": {
     "cell_type": "code",
     "checksum": "48917f264f9a1fe4ceae154b69be82b2",
     "grade": false,
     "grade_id": "cell-54054268baec99be",
     "locked": false,
     "schema_version": 3,
     "solution": true
    }
   },
   "outputs": [],
   "source": [
    "print([n**2 for n in mylist])\n",
    "print(mylist)\n",
    "print([n**2 for n in mytuple])\n",
    "print(mytuple)\n",
    "print([n**2 for n in myslice])\n",
    "print(myslice)\n",
    "\n",
    "q4b_answer = 2\n"
   ]
  },
  {
   "cell_type": "code",
   "execution_count": null,
   "metadata": {
    "deletable": false,
    "editable": false,
    "nbgrader": {
     "cell_type": "code",
     "checksum": "152026b5ec5992981d9beb7059508a20",
     "grade": true,
     "grade_id": "cell-a1d96c5ad00f6a61",
     "locked": true,
     "points": 1,
     "schema_version": 3,
     "solution": false
    }
   },
   "outputs": [],
   "source": [
    "#1 Mark\n",
    "assert(q4b_answer == question4b())\n",
    "print(\"Question 4b passed!\")"
   ]
  },
  {
   "cell_type": "markdown",
   "metadata": {
    "deletable": false,
    "editable": false,
    "nbgrader": {
     "cell_type": "markdown",
     "checksum": "aca3d3adad1fc20e786f40fe40543bfc",
     "grade": false,
     "grade_id": "cell-72d51b0742e90818",
     "locked": true,
     "schema_version": 3,
     "solution": false
    }
   },
   "source": [
    "(c) In the video lectures, we checked that ranges, lists, tuples and islice objects all belonged to the class Iterable, and that the first three belonged to the class Sequence. Find out which of them belong to the class Iterator (this class, like the other two, can be found in the module collections.abc).\n",
    "\n",
    "Give your answers enclosed in curly brackets; for example, if you think ranges and tuples belong to the class Iterator, then your answer would be {1, 3}."
   ]
  },
  {
   "cell_type": "code",
   "execution_count": null,
   "metadata": {
    "deletable": false,
    "nbgrader": {
     "cell_type": "code",
     "checksum": "f6e0728a7dc65248150ebc1de93ff980",
     "grade": false,
     "grade_id": "cell-feb9b634c72d96eb",
     "locked": false,
     "schema_version": 3,
     "solution": true
    }
   },
   "outputs": [],
   "source": [
    "q4c_answer = # enter your selections in curly brackets\n",
    "# YOUR CODE HERE\n",
    "raise NotImplementedError()"
   ]
  },
  {
   "cell_type": "code",
   "execution_count": null,
   "metadata": {
    "deletable": false,
    "editable": false,
    "nbgrader": {
     "cell_type": "code",
     "checksum": "f9560cb620af4452c3df89228ae5849f",
     "grade": true,
     "grade_id": "cell-a14716840a76e732",
     "locked": true,
     "points": 1,
     "schema_version": 3,
     "solution": false
    }
   },
   "outputs": [],
   "source": [
    "#1 Mark\n",
    "assert(q4c_answer == question4c())\n",
    "print(\"Question 4c passed!\")"
   ]
  },
  {
   "cell_type": "markdown",
   "metadata": {
    "deletable": false,
    "editable": false,
    "nbgrader": {
     "cell_type": "markdown",
     "checksum": "e500c6ab93ab5ec44f2164d40dd17472",
     "grade": false,
     "grade_id": "cell-9b8aa3f9c1ce8668",
     "locked": true,
     "schema_version": 3,
     "solution": false
    }
   },
   "source": [
    "## Question 5\n",
    "\n",
    "(a) Create a list called <code>ints</code>, consisting of all the integers between 2 and 400 inclusive. (Hint: use the <code>range</code> function, and wrap your <code>range</code> object in <code>list</code>.)"
   ]
  },
  {
   "cell_type": "code",
   "execution_count": null,
   "metadata": {
    "deletable": false,
    "nbgrader": {
     "cell_type": "code",
     "checksum": "5136a805592781a785165c10beb69650",
     "grade": false,
     "grade_id": "cell-abd9e74afe06dfd9",
     "locked": false,
     "schema_version": 3,
     "solution": true
    }
   },
   "outputs": [],
   "source": [
    "ints = list(range(2, 401))\n",
    "ints_old = list(range(2, 401))"
   ]
  },
  {
   "cell_type": "code",
   "execution_count": null,
   "metadata": {
    "deletable": false,
    "editable": false,
    "nbgrader": {
     "cell_type": "code",
     "checksum": "b169311275e142f6118b973ac12a72a2",
     "grade": true,
     "grade_id": "cell-e446afec6056fc52",
     "locked": true,
     "points": 1,
     "schema_version": 3,
     "solution": false
    }
   },
   "outputs": [],
   "source": [
    "# 1 Mark\n",
    "# Do not try to delete this cell\n",
    "# Run this cell for grading\n",
    "_globals = globals()\n",
    "question5a(_globals)"
   ]
  },
  {
   "cell_type": "markdown",
   "metadata": {
    "deletable": false,
    "editable": false,
    "nbgrader": {
     "cell_type": "markdown",
     "checksum": "726c7853397aa4033248111d00114a5f",
     "grade": false,
     "grade_id": "cell-da18dd77cea3ff7f",
     "locked": true,
     "schema_version": 3,
     "solution": false
    }
   },
   "source": [
    "(b) Run the following code:"
   ]
  },
  {
   "cell_type": "code",
   "execution_count": null,
   "metadata": {
    "deletable": false,
    "editable": false,
    "nbgrader": {
     "cell_type": "code",
     "checksum": "53aae3801889c7544610508d11928bc9",
     "grade": false,
     "grade_id": "cell-770820aa072d0e0e",
     "locked": true,
     "schema_version": 3,
     "solution": false
    }
   },
   "outputs": [],
   "source": [
    "a = 2\n",
    "ints = [n for n in ints if n == a or n % a > 0]\n",
    "print(ints)"
   ]
  },
  {
   "cell_type": "markdown",
   "metadata": {
    "deletable": false,
    "editable": false,
    "nbgrader": {
     "cell_type": "markdown",
     "checksum": "583dbe874582adef4f805e7658acf853",
     "grade": false,
     "grade_id": "cell-0abe582a3e97ab75",
     "locked": true,
     "schema_version": 3,
     "solution": false
    }
   },
   "source": [
    "Which of the following is true?\n",
    "\n",
    "<ol>\n",
    "    <li>This code leaves the contents of the list <code>ints</code> unchanged.</li>\n",
    "    <li>This code removes all the even numbers from <code>ints</code>.</li>\n",
    "    <li>This code removes all the odd numbers from <code>ints</code>.</li>\n",
    "    <li>This code removes <em>nearly</em> all the even numbers from <code>ints</code>.</li>\n",
    "    <li>This code removes <em>nearly</em> all the odd numbers from <code>ints</code>.</li>\n",
    "</ol>"
   ]
  },
  {
   "cell_type": "code",
   "execution_count": null,
   "metadata": {
    "deletable": false,
    "nbgrader": {
     "cell_type": "code",
     "checksum": "a900d717dd6c0c0bbf9cf1ef6cdaaf56",
     "grade": false,
     "grade_id": "cell-a7626d40c088979e",
     "locked": false,
     "schema_version": 3,
     "solution": true
    }
   },
   "outputs": [],
   "source": [
    "q5b_answer = 4"
   ]
  },
  {
   "cell_type": "code",
   "execution_count": null,
   "metadata": {
    "deletable": false,
    "editable": false,
    "nbgrader": {
     "cell_type": "code",
     "checksum": "bec563c33c4c121ea702210b716613af",
     "grade": true,
     "grade_id": "cell-e30a08bf39bd9c38",
     "locked": true,
     "points": 1,
     "schema_version": 3,
     "solution": false
    }
   },
   "outputs": [],
   "source": [
    "#1 Mark\n",
    "assert(q5b_answer == question5b())\n",
    "print(\"Question 5b passed!\")"
   ]
  },
  {
   "cell_type": "markdown",
   "metadata": {
    "deletable": false,
    "editable": false,
    "nbgrader": {
     "cell_type": "markdown",
     "checksum": "942b88d606bbb33d433e4e4f9fcaff99",
     "grade": false,
     "grade_id": "cell-ad8ef54fe2856cb0",
     "locked": true,
     "schema_version": 3,
     "solution": false
    }
   },
   "source": [
    "(c) Repeat, this time setting <code>a = 3</code>. Then again, using <code>a = 5</code>. Carry on until the contents of the list <code>ints</code> no longer change."
   ]
  },
  {
   "cell_type": "code",
   "execution_count": null,
   "metadata": {
    "deletable": false,
    "nbgrader": {
     "cell_type": "code",
     "checksum": "c35aba6281a0115fa0909d2eff5158de",
     "grade": false,
     "grade_id": "cell-87aab97af2a51212",
     "locked": false,
     "schema_version": 3,
     "solution": true
    }
   },
   "outputs": [],
   "source": [
    "a = 3\n",
    "while ints_old != ints:\n",
    "    ints_old = ints\n",
    "    ints = [n for n in ints if n==a or n % a > 0]\n",
    "    a += 2"
   ]
  },
  {
   "cell_type": "code",
   "execution_count": null,
   "metadata": {
    "deletable": false,
    "nbgrader": {
     "cell_type": "code",
     "checksum": "f5bc597c0a42f6b52e4e2c56c235a812",
     "grade": false,
     "grade_id": "cell-6bbdc5c3f5ac35c7",
     "locked": false,
     "schema_version": 3,
     "solution": true
    }
   },
   "outputs": [],
   "source": [
    "print(ints)"
   ]
  },
  {
   "cell_type": "markdown",
   "metadata": {
    "deletable": false,
    "editable": false,
    "nbgrader": {
     "cell_type": "markdown",
     "checksum": "1cba4f4e03e20cb82127ce1279079f1f",
     "grade": false,
     "grade_id": "cell-887879f760398bff",
     "locked": true,
     "schema_version": 3,
     "solution": false
    }
   },
   "source": [
    "(d) What single word in English describes the numbers that form the contents of <code>ints</code> at the end of this process? They are all... what?"
   ]
  },
  {
   "cell_type": "code",
   "execution_count": null,
   "metadata": {
    "deletable": false,
    "nbgrader": {
     "cell_type": "code",
     "checksum": "73f70e5079cf19ce5518a1f1de9a632b",
     "grade": false,
     "grade_id": "cell-5ca5d9f319bc4f1b",
     "locked": false,
     "schema_version": 3,
     "solution": true
    }
   },
   "outputs": [],
   "source": [
    "q5d_answer = 'primes'"
   ]
  },
  {
   "cell_type": "code",
   "execution_count": null,
   "metadata": {
    "deletable": false,
    "editable": false,
    "nbgrader": {
     "cell_type": "code",
     "checksum": "58107c47d18c4b2f58fab57d92356b74",
     "grade": true,
     "grade_id": "cell-04e772337ae73e99",
     "locked": true,
     "points": 1,
     "schema_version": 3,
     "solution": false
    }
   },
   "outputs": [],
   "source": [
    "# 1 Mark\n",
    "# Do not try to delete this cell\n",
    "# Run this cell for grading\n",
    "_globals = globals()\n",
    "question5d(_globals)"
   ]
  },
  {
   "cell_type": "markdown",
   "metadata": {
    "deletable": false,
    "editable": false,
    "nbgrader": {
     "cell_type": "markdown",
     "checksum": "3c9ec346dd14bfdd1e8ab2446c491a9f",
     "grade": false,
     "grade_id": "cell-e58978992832371d",
     "locked": true,
     "schema_version": 3,
     "solution": false,
     "task": false
    }
   },
   "source": [
    "## Question 6 (Bonus Question)\n",
    "\n",
    "The following question is a bonus question, and is for enrichment only. Please do not worry if it seems challenging for now; as it assumes knowledge of functions. You can always come back to it at a later stage in the course.\n",
    "\n",
    "\n",
    "\n",
    "Reconsider **Question 1**, recall that the following iterative sequence is defined for the set of positive integers:\n",
    "$$\n",
    "\\begin{cases}\n",
    "a \\rightarrow a/2\\ \\ (n\\ \\ \\text{is even}) \\\\\n",
    "a \\rightarrow 3a + 1\\ \\ (n\\ \\ \\text{is odd})\n",
    "\\end{cases}\n",
    "$$\n",
    "Using this rule and starting with 13, we generate the following sequence:\n",
    "$$\n",
    "13 \\rightarrow 40 \\rightarrow 20 \\rightarrow 10 \\rightarrow 5 \\rightarrow 16 \\rightarrow 8 \\rightarrow 4 \\rightarrow 2 \\rightarrow 1\n",
    "$$\n",
    "It can be seen that this sequence (starting at 13 and finishing at 1) contains 10 terms. Although it has not been proven, it is thought that all starting numbers finish at 1. \n",
    "Write a function `longest_sequence` which takes in a upper bound integer `start` and finds which integer less than or equal to `start` that produces the longest sequence. The function should return two outputs, namely the length of the longest sequence and the integer which yields it."
   ]
  },
  {
   "cell_type": "code",
   "execution_count": null,
   "metadata": {
    "deletable": false,
    "nbgrader": {
     "cell_type": "code",
     "checksum": "3280a9c8c8e2489e66e8fd93e03a7fe0",
     "grade": false,
     "grade_id": "cell-e7c5cf586b8cdd14",
     "locked": false,
     "schema_version": 3,
     "solution": true,
     "task": false
    }
   },
   "outputs": [],
   "source": [
    "def gen_seq_count(first):\n",
    "    if not isinstance(first, int):\n",
    "        return \"no\"\n",
    "    count = 0\n",
    "    print(first)\n",
    "    while first != 1:\n",
    "        if first%2 == 0:\n",
    "            first /= 2\n",
    "        else:\n",
    "            first = 3*first + 1\n",
    "        count += 1\n",
    "        print(first)\n",
    "    return count+1\n",
    "\n",
    "def longest_sequence(start):\n",
    "    maxlen = 0\n",
    "    maxnum = 0\n",
    "    for num in range(1, start+1):\n",
    "        len1 = gen_seq_count(num)\n",
    "        if len1 > maxlen:\n",
    "            maxlen = len1\n",
    "            maxnum = num\n",
    "    return maxlen, maxnum\n",
    "\n",
    "longest_sequence(3)\n",
    "longest_sequence(2)"
   ]
  },
  {
   "cell_type": "code",
   "execution_count": null,
   "metadata": {
    "deletable": false,
    "editable": false,
    "nbgrader": {
     "cell_type": "code",
     "checksum": "1b34511996cab076d92a222f7a614475",
     "grade": true,
     "grade_id": "cell-3c77a49e00ded13e",
     "locked": true,
     "points": 1,
     "schema_version": 3,
     "solution": false,
     "task": false
    }
   },
   "outputs": [],
   "source": [
    "# 1 Mark\n",
    "# unit tests\n",
    "n1 = longest_sequence(10)\n",
    "n2 = longest_sequence(1000)\n",
    "question6(n1, n2)"
   ]
  },
  {
   "cell_type": "code",
   "execution_count": null,
   "metadata": {
    "deletable": false,
    "editable": false,
    "nbgrader": {
     "cell_type": "code",
     "checksum": "500888e43623d5b2ff939162481b3cd8",
     "grade": true,
     "grade_id": "cell-74d5278dbfc0e7d0",
     "locked": true,
     "points": 2,
     "schema_version": 3,
     "solution": false,
     "task": false
    }
   },
   "outputs": [],
   "source": [
    "# Run this cell to see if your implementation is fast enough\n",
    "# 2 Marks\n",
    "# 15 second time limit\n",
    "question6_timed(_globals)"
   ]
  },
  {
   "cell_type": "code",
   "execution_count": null,
   "metadata": {},
   "outputs": [],
   "source": []
  }
 ],
 "metadata": {
  "kernelspec": {
   "display_name": "Python 3",
   "language": "python",
   "name": "python3"
  },
  "language_info": {
   "codemirror_mode": {
    "name": "ipython",
    "version": 3
   },
   "file_extension": ".py",
   "mimetype": "text/x-python",
   "name": "python",
   "nbconvert_exporter": "python",
   "pygments_lexer": "ipython3",
   "version": "3.7.4"
  }
 },
 "nbformat": 4,
 "nbformat_minor": 4
}
