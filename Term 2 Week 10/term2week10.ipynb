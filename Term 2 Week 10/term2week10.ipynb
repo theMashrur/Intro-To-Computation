{
 "cells": [
  {
   "cell_type": "code",
   "execution_count": 1,
   "id": "lightweight-reunion",
   "metadata": {},
   "outputs": [
    {
     "name": "stdout",
     "output_type": "stream",
     "text": [
      "Autograder loaded successfully!\n",
      "Remember to always restart and run all from the Kernel menu before submitting!\n"
     ]
    }
   ],
   "source": [
    "from autograder_term2week10 import *\n",
    "_globals = globals()\n",
    "import math\n",
    "from copy import copy\n",
    "import pickle"
   ]
  },
  {
   "cell_type": "markdown",
   "id": "minor-reviewer",
   "metadata": {
    "deletable": false,
    "editable": false,
    "nbgrader": {
     "cell_type": "markdown",
     "checksum": "093f60dcd6483701290d0eaa3d90da6b",
     "grade": false,
     "grade_id": "cell-e530836b0256fc73",
     "locked": true,
     "schema_version": 3,
     "solution": false,
     "task": false
    }
   },
   "source": [
    "# <center> Introduction to Mathematical Computing </center>\n",
    "### <center>Phil Ramsden, Boumediene Hamzi, Sam Brzezicki, Matt Woolway</center>\n",
    "\n",
    "# <center> Worksheet 12: Sets, Frozensets, Dictionaries; Files; Objects</center>"
   ]
  },
  {
   "cell_type": "markdown",
   "id": "scheduled-electronics",
   "metadata": {
    "deletable": false,
    "editable": false,
    "nbgrader": {
     "cell_type": "markdown",
     "checksum": "2238fee83d2cf28b1d35d36dc8913d30",
     "grade": false,
     "grade_id": "cell-15a4fdea8e29d5af",
     "locked": true,
     "schema_version": 3,
     "solution": false,
     "task": false
    }
   },
   "source": [
    "## Question 1\n",
    "\n",
    "### (i)\n",
    "\n",
    "(a) Create a list, a tuple, a set and a frozenset, each containing the odd integers between 13 and 103 inclusive."
   ]
  },
  {
   "cell_type": "code",
   "execution_count": 2,
   "id": "spoken-muscle",
   "metadata": {
    "deletable": false,
    "nbgrader": {
     "cell_type": "code",
     "checksum": "99108031195c1a1efa6f7d88bf88cef1",
     "grade": false,
     "grade_id": "cell-5bad39258340d53f",
     "locked": false,
     "schema_version": 3,
     "solution": true,
     "task": false
    }
   },
   "outputs": [
    {
     "name": "stdout",
     "output_type": "stream",
     "text": [
      "[13, 15, 17, 19, 21, 23, 25, 27, 29, 31, 33, 35, 37, 39, 41, 43, 45, 47, 49, 51, 53, 55, 57, 59, 61, 63, 65, 67, 69, 71, 73, 75, 77, 79, 81, 83, 85, 87, 89, 91, 93, 95, 97, 99, 101, 103]\n",
      "(13, 15, 17, 19, 21, 23, 25, 27, 29, 31, 33, 35, 37, 39, 41, 43, 45, 47, 49, 51, 53, 55, 57, 59, 61, 63, 65, 67, 69, 71, 73, 75, 77, 79, 81, 83, 85, 87, 89, 91, 93, 95, 97, 99, 101, 103)\n",
      "{13, 15, 17, 19, 21, 23, 25, 27, 29, 31, 33, 35, 37, 39, 41, 43, 45, 47, 49, 51, 53, 55, 57, 59, 61, 63, 65, 67, 69, 71, 73, 75, 77, 79, 81, 83, 85, 87, 89, 91, 93, 95, 97, 99, 101, 103}\n",
      "frozenset({13, 15, 17, 19, 21, 23, 25, 27, 29, 31, 33, 35, 37, 39, 41, 43, 45, 47, 49, 51, 53, 55, 57, 59, 61, 63, 65, 67, 69, 71, 73, 75, 77, 79, 81, 83, 85, 87, 89, 91, 93, 95, 97, 99, 101, 103})\n"
     ]
    }
   ],
   "source": [
    "# YOUR CODE HERE\n",
    "list1 = [num for num in range(13, 104) if num%2 != 0]\n",
    "tuple1 = tuple(list1)\n",
    "set1 = {num for num in range(13, 104) if num%2 != 0}\n",
    "fs1 = frozenset(set1)\n",
    "\n",
    "print(list1)\n",
    "print(tuple1)\n",
    "print(set1)\n",
    "print(fs1)"
   ]
  },
  {
   "cell_type": "code",
   "execution_count": 3,
   "id": "vanilla-discharge",
   "metadata": {
    "deletable": false,
    "editable": false,
    "nbgrader": {
     "cell_type": "code",
     "checksum": "90b17d66c1528a1965fe95b44e1ed4ab",
     "grade": true,
     "grade_id": "cell-985d45de372b4792",
     "locked": true,
     "points": 2,
     "schema_version": 3,
     "solution": false,
     "task": false
    }
   },
   "outputs": [
    {
     "name": "stdout",
     "output_type": "stream",
     "text": [
      "list1 contains the correct data\n",
      "tuple1 contains the correct data\n",
      "set1 contains the correct data\n",
      "fs1 contains the correct data\n",
      "\n",
      "list1 is a list\n",
      "tuple1 is a tuple\n",
      "set1 is a set\n",
      "fs1 is a frozenset\n",
      "\n",
      "2 out of 2\n"
     ]
    },
    {
     "data": {
      "text/plain": [
       "2"
      ]
     },
     "execution_count": 3,
     "metadata": {},
     "output_type": "execute_result"
    }
   ],
   "source": [
    "# 2 Marks\n",
    "# Do not try to delete this cell\n",
    "# Run this cell for grading\n",
    "_globals = globals()\n",
    "question1ia(_globals)"
   ]
  },
  {
   "cell_type": "markdown",
   "id": "known-berry",
   "metadata": {
    "deletable": false,
    "editable": false,
    "nbgrader": {
     "cell_type": "markdown",
     "checksum": "2c7046dc3096d8ab800f57a9bca97bee",
     "grade": false,
     "grade_id": "cell-9c6eb76015336018",
     "locked": true,
     "schema_version": 3,
     "solution": false,
     "task": false
    }
   },
   "source": [
    "(b) Set up `list2`, identically equal to `list1`, and `list3`, a copy of `list1` created using the `copy` function.\n",
    "Also set up `set2`, identically equal to `set1`, and `set3`, a copy of `set1` created using the `copy` function."
   ]
  },
  {
   "cell_type": "code",
   "execution_count": 4,
   "id": "exclusive-brass",
   "metadata": {
    "deletable": false,
    "nbgrader": {
     "cell_type": "code",
     "checksum": "885c3f79d3fdcc441338279e30f2dc05",
     "grade": false,
     "grade_id": "cell-2c5a79c99b279f52",
     "locked": false,
     "schema_version": 3,
     "solution": true,
     "task": false
    }
   },
   "outputs": [
    {
     "name": "stdout",
     "output_type": "stream",
     "text": [
      "[13, 15, 17, 19, 21, 23, 25, 27, 29, 31, 33, 35, 37, 39, 41, 43, 45, 47, 49, 51, 53, 55, 57, 59, 61, 63, 65, 67, 69, 71, 73, 75, 77, 79, 81, 83, 85, 87, 89, 91, 93, 95, 97, 99, 101, 103]\n",
      "[13, 15, 17, 19, 21, 23, 25, 27, 29, 31, 33, 35, 37, 39, 41, 43, 45, 47, 49, 51, 53, 55, 57, 59, 61, 63, 65, 67, 69, 71, 73, 75, 77, 79, 81, 83, 85, 87, 89, 91, 93, 95, 97, 99, 101, 103]\n",
      "{13, 15, 17, 19, 21, 23, 25, 27, 29, 31, 33, 35, 37, 39, 41, 43, 45, 47, 49, 51, 53, 55, 57, 59, 61, 63, 65, 67, 69, 71, 73, 75, 77, 79, 81, 83, 85, 87, 89, 91, 93, 95, 97, 99, 101, 103}\n",
      "{13, 15, 17, 19, 21, 23, 25, 27, 29, 31, 33, 35, 37, 39, 41, 43, 45, 47, 49, 51, 53, 55, 57, 59, 61, 63, 65, 67, 69, 71, 73, 75, 77, 79, 81, 83, 85, 87, 89, 91, 93, 95, 97, 99, 101, 103}\n"
     ]
    }
   ],
   "source": [
    "# YOUR CODE HERE\n",
    "list2 = list1\n",
    "list3 = copy(list1)\n",
    "set2 = set1\n",
    "set3 = copy(set1)\n",
    "\n",
    "print(list2)\n",
    "print(list3)\n",
    "print(set2)\n",
    "print(set3)"
   ]
  },
  {
   "cell_type": "code",
   "execution_count": 5,
   "id": "written-observer",
   "metadata": {
    "deletable": false,
    "editable": false,
    "nbgrader": {
     "cell_type": "code",
     "checksum": "1f2f5fc363208c87bd230d5487fa3021",
     "grade": true,
     "grade_id": "cell-e2dc6aa11630389b",
     "locked": true,
     "points": 2,
     "schema_version": 3,
     "solution": false,
     "task": false
    }
   },
   "outputs": [
    {
     "name": "stdout",
     "output_type": "stream",
     "text": [
      "list2 contains the same elements as list1\n",
      "list2 is the same object as list1, which is correct\n",
      "\n",
      "list3 contains the same elements as list1\n",
      "list3 is not the same object as list1, which is correct\n",
      "\n",
      "2 out of 2\n"
     ]
    },
    {
     "data": {
      "text/plain": [
       "2"
      ]
     },
     "execution_count": 5,
     "metadata": {},
     "output_type": "execute_result"
    }
   ],
   "source": [
    "# 2 Marks\n",
    "# Do not try to delete this cell\n",
    "# Run this cell for grading\n",
    "_globals = globals()\n",
    "question1ib(_globals)"
   ]
  },
  {
   "cell_type": "markdown",
   "id": "daily-veteran",
   "metadata": {
    "deletable": false,
    "editable": false,
    "nbgrader": {
     "cell_type": "markdown",
     "checksum": "b237ea6d7dbdbe8d30e19d2f775679a5",
     "grade": false,
     "grade_id": "cell-c776f2bff06a399c",
     "locked": true,
     "schema_version": 3,
     "solution": false,
     "task": false
    }
   },
   "source": [
    "(c) Introduce the element 105 to `list1` using the `append` method, and introduce the element 105 to `set1` using the `add` method. "
   ]
  },
  {
   "cell_type": "code",
   "execution_count": 6,
   "id": "nervous-sharing",
   "metadata": {
    "deletable": false,
    "nbgrader": {
     "cell_type": "code",
     "checksum": "203b5767cc20750a49a21eda1782dc7d",
     "grade": false,
     "grade_id": "cell-db56a67357ca11dd",
     "locked": false,
     "schema_version": 3,
     "solution": true,
     "task": false
    }
   },
   "outputs": [
    {
     "name": "stdout",
     "output_type": "stream",
     "text": [
      "[13, 15, 17, 19, 21, 23, 25, 27, 29, 31, 33, 35, 37, 39, 41, 43, 45, 47, 49, 51, 53, 55, 57, 59, 61, 63, 65, 67, 69, 71, 73, 75, 77, 79, 81, 83, 85, 87, 89, 91, 93, 95, 97, 99, 101, 103, 105]\n",
      "{13, 15, 17, 19, 21, 23, 25, 27, 29, 31, 33, 35, 37, 39, 41, 43, 45, 47, 49, 51, 53, 55, 57, 59, 61, 63, 65, 67, 69, 71, 73, 75, 77, 79, 81, 83, 85, 87, 89, 91, 93, 95, 97, 99, 101, 103, 105}\n"
     ]
    }
   ],
   "source": [
    "# YOUR CODE HERE\n",
    "list1.append(105)\n",
    "set1.add(105)\n",
    "\n",
    "print(list1)\n",
    "print(set1)"
   ]
  },
  {
   "cell_type": "code",
   "execution_count": 7,
   "id": "active-services",
   "metadata": {
    "deletable": false,
    "editable": false,
    "nbgrader": {
     "cell_type": "code",
     "checksum": "767c6f26aec9e7430ecb39edb72a860f",
     "grade": true,
     "grade_id": "cell-6dcd5a8637a9e567",
     "locked": true,
     "points": 2,
     "schema_version": 3,
     "solution": false,
     "task": false
    }
   },
   "outputs": [
    {
     "name": "stdout",
     "output_type": "stream",
     "text": [
      "list1 is correct\n",
      "set1 is correct\n",
      "2 out of 2\n"
     ]
    },
    {
     "data": {
      "text/plain": [
       "2"
      ]
     },
     "execution_count": 7,
     "metadata": {},
     "output_type": "execute_result"
    }
   ],
   "source": [
    "# 2 Marks\n",
    "# Do not try to delete this cell\n",
    "# Run this cell for grading\n",
    "_globals = globals()\n",
    "question1ic(_globals)"
   ]
  },
  {
   "cell_type": "markdown",
   "id": "friendly-murder",
   "metadata": {
    "deletable": false,
    "editable": false,
    "nbgrader": {
     "cell_type": "markdown",
     "checksum": "4a886b7feb5cb2281f8df49c7d5ebeba",
     "grade": false,
     "grade_id": "cell-7d2d3d37364f39ba",
     "locked": true,
     "schema_version": 3,
     "solution": false,
     "task": false
    }
   },
   "source": [
    "(d) Check the values of `list2`, `list3`, `set2` and `set3`. Which of the following is true?\n",
    "\n",
    "<ol>\n",
    "    <li>The values of <code>list2</code>, <code>list3</code>, <code>set2</code> and <code>set3</code> have all changed.</li>\n",
    "    <li>The values of <code>list2</code>, <code>list3</code>, <code>set2</code> and <code>set3</code> have all stayed the same.</li>\n",
    "    <li>The values of <code>list2</code> and <code>set2</code> have changed, but the values of <code>list3</code> and <code>set3</code> have stayed the same.</li>\n",
    "    <li>The values of <code>list3</code> and <code>set3</code> have changed, but the values of <code>list2</code> and <code>set2</code> have stayed the same.</li>\n",
    "    <li>Only<code>list2</code> has changed; the rest have have stayed the same.</li>\n",
    "    <li>Only<code>set2</code> has changed; the rest have have stayed the same.</li>\n",
    "</ol>"
   ]
  },
  {
   "cell_type": "code",
   "execution_count": 8,
   "id": "floral-preliminary",
   "metadata": {
    "deletable": false,
    "nbgrader": {
     "cell_type": "code",
     "checksum": "4c70cf30f4f4f55d30e425abf57461cc",
     "grade": false,
     "grade_id": "cell-6db2e1ccdd6aed11",
     "locked": false,
     "schema_version": 3,
     "solution": true,
     "task": false
    }
   },
   "outputs": [
    {
     "name": "stdout",
     "output_type": "stream",
     "text": [
      "[13, 15, 17, 19, 21, 23, 25, 27, 29, 31, 33, 35, 37, 39, 41, 43, 45, 47, 49, 51, 53, 55, 57, 59, 61, 63, 65, 67, 69, 71, 73, 75, 77, 79, 81, 83, 85, 87, 89, 91, 93, 95, 97, 99, 101, 103, 105]\n",
      "[13, 15, 17, 19, 21, 23, 25, 27, 29, 31, 33, 35, 37, 39, 41, 43, 45, 47, 49, 51, 53, 55, 57, 59, 61, 63, 65, 67, 69, 71, 73, 75, 77, 79, 81, 83, 85, 87, 89, 91, 93, 95, 97, 99, 101, 103]\n",
      "{13, 15, 17, 19, 21, 23, 25, 27, 29, 31, 33, 35, 37, 39, 41, 43, 45, 47, 49, 51, 53, 55, 57, 59, 61, 63, 65, 67, 69, 71, 73, 75, 77, 79, 81, 83, 85, 87, 89, 91, 93, 95, 97, 99, 101, 103, 105}\n",
      "{13, 15, 17, 19, 21, 23, 25, 27, 29, 31, 33, 35, 37, 39, 41, 43, 45, 47, 49, 51, 53, 55, 57, 59, 61, 63, 65, 67, 69, 71, 73, 75, 77, 79, 81, 83, 85, 87, 89, 91, 93, 95, 97, 99, 101, 103}\n"
     ]
    }
   ],
   "source": [
    "print(list2)\n",
    "print(list3)\n",
    "print(set2)\n",
    "print(set3)\n",
    "\n",
    "# YOUR CODE HERE\n",
    "\n",
    "question1id_answer = 3"
   ]
  },
  {
   "cell_type": "code",
   "execution_count": 9,
   "id": "voluntary-whale",
   "metadata": {
    "deletable": false,
    "editable": false,
    "nbgrader": {
     "cell_type": "code",
     "checksum": "18f27a24a15df0c6fe5093782ba8db45",
     "grade": true,
     "grade_id": "cell-79f6b308a520727c",
     "locked": true,
     "points": 1,
     "schema_version": 3,
     "solution": false,
     "task": false
    }
   },
   "outputs": [
    {
     "name": "stdout",
     "output_type": "stream",
     "text": [
      "test case passed!\n"
     ]
    }
   ],
   "source": [
    "# 1 Mark\n",
    "assert(question1id_answer == question1id())\n",
    "print('test case passed!')"
   ]
  },
  {
   "cell_type": "markdown",
   "id": "gothic-retail",
   "metadata": {
    "deletable": false,
    "editable": false,
    "nbgrader": {
     "cell_type": "markdown",
     "checksum": "1cf7a0e2de951c8e00af4a5abb6f07d5",
     "grade": false,
     "grade_id": "cell-d7b037ff997517ab",
     "locked": true,
     "schema_version": 3,
     "solution": false,
     "task": false
    }
   },
   "source": [
    "(e) Again, introduce the element 105 to `list1` using the `append` method, and introduce the element 105 to `set1` using the `add` method."
   ]
  },
  {
   "cell_type": "code",
   "execution_count": 10,
   "id": "occupied-sheet",
   "metadata": {
    "deletable": false,
    "nbgrader": {
     "cell_type": "code",
     "checksum": "6a4504425fec82e6ee2c0bc2d91640a9",
     "grade": false,
     "grade_id": "cell-53dbb31f38cee238",
     "locked": false,
     "schema_version": 3,
     "solution": true,
     "task": false
    }
   },
   "outputs": [
    {
     "name": "stdout",
     "output_type": "stream",
     "text": [
      "[13, 15, 17, 19, 21, 23, 25, 27, 29, 31, 33, 35, 37, 39, 41, 43, 45, 47, 49, 51, 53, 55, 57, 59, 61, 63, 65, 67, 69, 71, 73, 75, 77, 79, 81, 83, 85, 87, 89, 91, 93, 95, 97, 99, 101, 103, 105, 105]\n",
      "{13, 15, 17, 19, 21, 23, 25, 27, 29, 31, 33, 35, 37, 39, 41, 43, 45, 47, 49, 51, 53, 55, 57, 59, 61, 63, 65, 67, 69, 71, 73, 75, 77, 79, 81, 83, 85, 87, 89, 91, 93, 95, 97, 99, 101, 103, 105}\n"
     ]
    }
   ],
   "source": [
    "# YOUR CODE HERE\n",
    "list1.append(105)\n",
    "set1.add(105)\n",
    "\n",
    "print(list1)\n",
    "print(set1)"
   ]
  },
  {
   "cell_type": "code",
   "execution_count": 11,
   "id": "republican-airline",
   "metadata": {
    "deletable": false,
    "editable": false,
    "nbgrader": {
     "cell_type": "code",
     "checksum": "cd3a817667f867bcb13b5a5ef9428116",
     "grade": true,
     "grade_id": "cell-2b3879d9477c0181",
     "locked": true,
     "points": 2,
     "schema_version": 3,
     "solution": false,
     "task": false
    }
   },
   "outputs": [
    {
     "name": "stdout",
     "output_type": "stream",
     "text": [
      "list1 is correct\n",
      "set1 is correct\n",
      "2 out of 2\n"
     ]
    },
    {
     "data": {
      "text/plain": [
       "2"
      ]
     },
     "execution_count": 11,
     "metadata": {},
     "output_type": "execute_result"
    }
   ],
   "source": [
    "# 2 Marks\n",
    "# Do not try to delete this cell\n",
    "# Run this cell for grading\n",
    "_globals = globals()\n",
    "question1ie(_globals)"
   ]
  },
  {
   "cell_type": "markdown",
   "id": "genuine-commodity",
   "metadata": {
    "deletable": false,
    "editable": false,
    "nbgrader": {
     "cell_type": "markdown",
     "checksum": "99836498a6f48ce053736b9efae96c8b",
     "grade": false,
     "grade_id": "cell-2ca37bff4def768c",
     "locked": true,
     "schema_version": 3,
     "solution": false,
     "task": false
    }
   },
   "source": [
    "(f) Once more, check the values of `list2`, `list3`, `set2` and `set3`. Which of the following is true?\n",
    "\n",
    "<ol>\n",
    "    <li>The values of <code>list2</code>, <code>list3</code>, <code>set2</code> and <code>set3</code> have all changed.</li>\n",
    "    <li>The values of <code>list2</code>, <code>list3</code>, <code>set2</code> and <code>set3</code> have all stayed the same.</li>\n",
    "    <li>The values of <code>list2</code> and <code>set2</code> have changed, but the values of <code>list3</code> and <code>set3</code> have stayed the same.</li>\n",
    "    <li>The values of <code>list3</code> and <code>set3</code> have changed, but the values of <code>list2</code> and <code>set2</code> have stayed the same.</li>\n",
    "    <li>Only<code>list2</code> has changed; the rest have have stayed the same.</li>\n",
    "    <li>Only<code>set2</code> has changed; the rest have have stayed the same.</li>\n",
    "</ol>"
   ]
  },
  {
   "cell_type": "code",
   "execution_count": 12,
   "id": "crazy-northwest",
   "metadata": {
    "deletable": false,
    "nbgrader": {
     "cell_type": "code",
     "checksum": "7cf6a4a8ae108a2884a1fef6b27fdb53",
     "grade": false,
     "grade_id": "cell-27214580e10d517e",
     "locked": false,
     "schema_version": 3,
     "solution": true,
     "task": false
    }
   },
   "outputs": [
    {
     "name": "stdout",
     "output_type": "stream",
     "text": [
      "[13, 15, 17, 19, 21, 23, 25, 27, 29, 31, 33, 35, 37, 39, 41, 43, 45, 47, 49, 51, 53, 55, 57, 59, 61, 63, 65, 67, 69, 71, 73, 75, 77, 79, 81, 83, 85, 87, 89, 91, 93, 95, 97, 99, 101, 103, 105, 105]\n",
      "[13, 15, 17, 19, 21, 23, 25, 27, 29, 31, 33, 35, 37, 39, 41, 43, 45, 47, 49, 51, 53, 55, 57, 59, 61, 63, 65, 67, 69, 71, 73, 75, 77, 79, 81, 83, 85, 87, 89, 91, 93, 95, 97, 99, 101, 103]\n",
      "{13, 15, 17, 19, 21, 23, 25, 27, 29, 31, 33, 35, 37, 39, 41, 43, 45, 47, 49, 51, 53, 55, 57, 59, 61, 63, 65, 67, 69, 71, 73, 75, 77, 79, 81, 83, 85, 87, 89, 91, 93, 95, 97, 99, 101, 103, 105}\n",
      "{13, 15, 17, 19, 21, 23, 25, 27, 29, 31, 33, 35, 37, 39, 41, 43, 45, 47, 49, 51, 53, 55, 57, 59, 61, 63, 65, 67, 69, 71, 73, 75, 77, 79, 81, 83, 85, 87, 89, 91, 93, 95, 97, 99, 101, 103}\n"
     ]
    }
   ],
   "source": [
    "print(list2)\n",
    "print(list3)\n",
    "print(set2)\n",
    "print(set3)\n",
    "\n",
    "\n",
    "question1if_answer = 5"
   ]
  },
  {
   "cell_type": "code",
   "execution_count": 13,
   "id": "smoking-pulse",
   "metadata": {
    "deletable": false,
    "editable": false,
    "nbgrader": {
     "cell_type": "code",
     "checksum": "ebee80794dc52001c172ef2f7b863a26",
     "grade": true,
     "grade_id": "cell-bcc127bfac5cdadc",
     "locked": true,
     "points": 1,
     "schema_version": 3,
     "solution": false,
     "task": false
    }
   },
   "outputs": [
    {
     "name": "stdout",
     "output_type": "stream",
     "text": [
      "test case passed!\n"
     ]
    }
   ],
   "source": [
    "# 1 Mark\n",
    "assert(question1if_answer == question1if())\n",
    "print('test case passed!')"
   ]
  },
  {
   "cell_type": "markdown",
   "id": "protected-infrared",
   "metadata": {
    "deletable": false,
    "editable": false,
    "nbgrader": {
     "cell_type": "markdown",
     "checksum": "43a030916d91156566e60c8436b41f5b",
     "grade": false,
     "grade_id": "cell-1e88e3393cb313b4",
     "locked": true,
     "schema_version": 3,
     "solution": false,
     "task": false
    }
   },
   "source": [
    "(g) Redefine `list1` as the list of multiples of 5 between 1005 and 1305 inclusive, and redefine `set1` as the set of multiples of 5 between 1005 and 1305 inclusive."
   ]
  },
  {
   "cell_type": "code",
   "execution_count": 14,
   "id": "controversial-criminal",
   "metadata": {
    "deletable": false,
    "nbgrader": {
     "cell_type": "code",
     "checksum": "6fa75ffe5b4fc161a48fe483c95113c3",
     "grade": false,
     "grade_id": "cell-b4e82724652a1d66",
     "locked": false,
     "schema_version": 3,
     "solution": true,
     "task": false
    }
   },
   "outputs": [
    {
     "name": "stdout",
     "output_type": "stream",
     "text": [
      "[1005, 1010, 1015, 1020, 1025, 1030, 1035, 1040, 1045, 1050, 1055, 1060, 1065, 1070, 1075, 1080, 1085, 1090, 1095, 1100, 1105, 1110, 1115, 1120, 1125, 1130, 1135, 1140, 1145, 1150, 1155, 1160, 1165, 1170, 1175, 1180, 1185, 1190, 1195, 1200, 1205, 1210, 1215, 1220, 1225, 1230, 1235, 1240, 1245, 1250, 1255, 1260, 1265, 1270, 1275, 1280, 1285, 1290, 1295, 1300, 1305]\n",
      "{1280, 1025, 1155, 1285, 1030, 1160, 1290, 1035, 1165, 1295, 1040, 1170, 1300, 1045, 1175, 1305, 1050, 1180, 1055, 1185, 1060, 1190, 1065, 1195, 1070, 1200, 1075, 1205, 1080, 1210, 1085, 1215, 1090, 1220, 1095, 1225, 1100, 1230, 1105, 1235, 1110, 1240, 1115, 1245, 1120, 1250, 1125, 1255, 1130, 1260, 1005, 1135, 1265, 1010, 1140, 1270, 1015, 1145, 1275, 1020, 1150}\n"
     ]
    }
   ],
   "source": [
    "# YOUR CODE HERE\n",
    "list1 = [num for num in range(1005, 1306) if num%5 == 0]\n",
    "set1 = {num for num in range(1005, 1306) if num%5 ==0}\n",
    "\n",
    "print(list1)\n",
    "print(set1)"
   ]
  },
  {
   "cell_type": "code",
   "execution_count": 15,
   "id": "floral-frank",
   "metadata": {
    "deletable": false,
    "editable": false,
    "nbgrader": {
     "cell_type": "code",
     "checksum": "760e01f715da5be6ebd8e3c8c18fb702",
     "grade": true,
     "grade_id": "cell-352b4f20ea015272",
     "locked": true,
     "points": 2,
     "schema_version": 3,
     "solution": false,
     "task": false
    }
   },
   "outputs": [
    {
     "name": "stdout",
     "output_type": "stream",
     "text": [
      "list1 is correct\n",
      "set1 is correct\n",
      "2 out of 2\n"
     ]
    },
    {
     "data": {
      "text/plain": [
       "2"
      ]
     },
     "execution_count": 15,
     "metadata": {},
     "output_type": "execute_result"
    }
   ],
   "source": [
    "# 2 Marks\n",
    "# Do not try to delete this cell\n",
    "# Run this cell for grading\n",
    "_globals = globals()\n",
    "question1ig(_globals)"
   ]
  },
  {
   "cell_type": "markdown",
   "id": "global-bargain",
   "metadata": {
    "deletable": false,
    "editable": false,
    "nbgrader": {
     "cell_type": "markdown",
     "checksum": "b1301730ef35bd9146248d7084d1921e",
     "grade": false,
     "grade_id": "cell-b1641ca376a4fe60",
     "locked": true,
     "schema_version": 3,
     "solution": false,
     "task": false
    }
   },
   "source": [
    "(h) For a third time, check the values of `list2`, `list3`, `set2` and `set3`. Which of the following is true?\n",
    "\n",
    "<ol>\n",
    "    <li>The values of <code>list2</code>, <code>list3</code>, <code>set2</code> and <code>set3</code> have all changed.</li>\n",
    "    <li>The values of <code>list2</code>, <code>list3</code>, <code>set2</code> and <code>set3</code> have all stayed the same.</li>\n",
    "    <li>The values of <code>list2</code> and <code>set2</code> have changed, but the values of <code>list3</code> and <code>set3</code> have stayed the same.</li>\n",
    "    <li>The values of <code>list3</code> and <code>set3</code> have changed, but the values of <code>list2</code> and <code>set2</code> have stayed the same.</li>\n",
    "    <li>Only<code>list2</code> has changed; the rest have have stayed the same.</li>\n",
    "    <li>Only<code>set2</code> has changed; the rest have have stayed the same.</li>\n",
    "</ol>"
   ]
  },
  {
   "cell_type": "code",
   "execution_count": 16,
   "id": "choice-alpha",
   "metadata": {
    "deletable": false,
    "nbgrader": {
     "cell_type": "code",
     "checksum": "3593741ec62ae461927f7df7dc49c3dd",
     "grade": false,
     "grade_id": "cell-f483f5b86d2c05d2",
     "locked": false,
     "schema_version": 3,
     "solution": true,
     "task": false
    }
   },
   "outputs": [
    {
     "name": "stdout",
     "output_type": "stream",
     "text": [
      "[13, 15, 17, 19, 21, 23, 25, 27, 29, 31, 33, 35, 37, 39, 41, 43, 45, 47, 49, 51, 53, 55, 57, 59, 61, 63, 65, 67, 69, 71, 73, 75, 77, 79, 81, 83, 85, 87, 89, 91, 93, 95, 97, 99, 101, 103, 105, 105]\n",
      "[13, 15, 17, 19, 21, 23, 25, 27, 29, 31, 33, 35, 37, 39, 41, 43, 45, 47, 49, 51, 53, 55, 57, 59, 61, 63, 65, 67, 69, 71, 73, 75, 77, 79, 81, 83, 85, 87, 89, 91, 93, 95, 97, 99, 101, 103]\n",
      "{13, 15, 17, 19, 21, 23, 25, 27, 29, 31, 33, 35, 37, 39, 41, 43, 45, 47, 49, 51, 53, 55, 57, 59, 61, 63, 65, 67, 69, 71, 73, 75, 77, 79, 81, 83, 85, 87, 89, 91, 93, 95, 97, 99, 101, 103, 105}\n",
      "{13, 15, 17, 19, 21, 23, 25, 27, 29, 31, 33, 35, 37, 39, 41, 43, 45, 47, 49, 51, 53, 55, 57, 59, 61, 63, 65, 67, 69, 71, 73, 75, 77, 79, 81, 83, 85, 87, 89, 91, 93, 95, 97, 99, 101, 103}\n"
     ]
    }
   ],
   "source": [
    "print(list2)\n",
    "print(list3)\n",
    "print(set2)\n",
    "print(set3)\n",
    "\n",
    "# YOUR CODE HERE\n",
    "\n",
    "\n",
    "question1ih_answer = 2"
   ]
  },
  {
   "cell_type": "code",
   "execution_count": 17,
   "id": "velvet-penguin",
   "metadata": {
    "deletable": false,
    "editable": false,
    "nbgrader": {
     "cell_type": "code",
     "checksum": "da99c6239b1f5403e8b05821fae7c6e2",
     "grade": true,
     "grade_id": "cell-881cc6b1f89ed9af",
     "locked": true,
     "points": 1,
     "schema_version": 3,
     "solution": false,
     "task": false
    }
   },
   "outputs": [
    {
     "name": "stdout",
     "output_type": "stream",
     "text": [
      "test case passed!\n"
     ]
    }
   ],
   "source": [
    "# 1 Mark\n",
    "assert(question1ih_answer == question1ih())\n",
    "print('test case passed!')"
   ]
  },
  {
   "cell_type": "markdown",
   "id": "republican-encounter",
   "metadata": {
    "deletable": false,
    "editable": false,
    "nbgrader": {
     "cell_type": "markdown",
     "checksum": "07e0cf54c36de34390e621a85fd35ae2",
     "grade": false,
     "grade_id": "cell-f69c9e20c2644684",
     "locked": true,
     "schema_version": 3,
     "solution": false,
     "task": false
    }
   },
   "source": [
    "### (ii)\n",
    "\n",
    "(a) Define `row1` as `[1, 3, 5]`, `row2` as `[1, 4, 7]` and `row3` as `[1, 5, 9]`, and define `list_of_lists1` as `[row1, row2, row3]`.\n",
    "\n",
    "Set up `list_of_lists2` as identical to `list_of_lists1`, and `list_of_lists3` as a copy of it."
   ]
  },
  {
   "cell_type": "code",
   "execution_count": 18,
   "id": "narrative-yellow",
   "metadata": {
    "deletable": false,
    "nbgrader": {
     "cell_type": "code",
     "checksum": "eaa5c4e517aa8d084fd14c709eea6d8a",
     "grade": false,
     "grade_id": "cell-3385361e6bb5e74d",
     "locked": false,
     "schema_version": 3,
     "solution": true,
     "task": false
    }
   },
   "outputs": [
    {
     "name": "stdout",
     "output_type": "stream",
     "text": [
      "[[1, 3, 5], [1, 4, 7], [1, 5, 9]]\n",
      "[[1, 3, 5], [1, 4, 7], [1, 5, 9]]\n",
      "[[1, 3, 5], [1, 4, 7], [1, 5, 9]]\n"
     ]
    }
   ],
   "source": [
    "# YOUR CODE HERE\n",
    "row1 = [1, 3, 5]\n",
    "row2 = [1, 4, 7]\n",
    "row3 = [1, 5, 9]\n",
    "list_of_lists1 = [row1, row2, row3]\n",
    "list_of_lists2 = list_of_lists1\n",
    "list_of_lists3 = copy(list_of_lists1)\n",
    "\n",
    "print(list_of_lists1)\n",
    "print(list_of_lists2)\n",
    "print(list_of_lists3)"
   ]
  },
  {
   "cell_type": "code",
   "execution_count": 19,
   "id": "cognitive-pursuit",
   "metadata": {
    "deletable": false,
    "editable": false,
    "nbgrader": {
     "cell_type": "code",
     "checksum": "cb984e679502198863288746588fbe8c",
     "grade": true,
     "grade_id": "cell-5ed214164dad5d2a",
     "locked": true,
     "points": 3,
     "schema_version": 3,
     "solution": false,
     "task": false
    }
   },
   "outputs": [
    {
     "name": "stdout",
     "output_type": "stream",
     "text": [
      "list_of_lists1 contains the right values\n",
      "\n",
      "list_of_lists2 contains the right values\n",
      "list_of_lists2 is the same object as list_of_lists1, which is correct\n",
      "\n",
      "list_of_lists3 contains the right values\n",
      "list_of_lists3 is not the same object as list_of_lists1, which is correct\n",
      "3 out of 3\n"
     ]
    },
    {
     "data": {
      "text/plain": [
       "3"
      ]
     },
     "execution_count": 19,
     "metadata": {},
     "output_type": "execute_result"
    }
   ],
   "source": [
    "# 3 Marks\n",
    "# Do not try to delete this cell\n",
    "# Run this cell for grading\n",
    "_globals = globals()\n",
    "question1iia(_globals)"
   ]
  },
  {
   "cell_type": "markdown",
   "id": "matched-tomorrow",
   "metadata": {
    "deletable": false,
    "editable": false,
    "nbgrader": {
     "cell_type": "markdown",
     "checksum": "b1c88daebbdf34db2ebab8b7b26a17c9",
     "grade": false,
     "grade_id": "cell-66f03d4d7c66a961",
     "locked": true,
     "schema_version": 3,
     "solution": false,
     "task": false
    }
   },
   "source": [
    "(b) Type \n",
    "```python\n",
    "list_of_lists1[1][1] = 400\n",
    "```\n",
    "\n",
    "Check the values of `list_of_lists2` and `list_of_lists3`. Which of the following is true?\n",
    "\n",
    "<ol>\n",
    "    <li>The values of <code>list_of_lists2</code> and <code>list_of_lists3</code> have both changed.</li>\n",
    "    <li>The values of <code>list_of_lists2</code> and <code>list_of_lists3</code> have both stayed the same.</li>\n",
    "    <li>The value of <code>list_of_lists2</code> has changed, but that of <code>list_of_lists3</code> has stayed the same.</li>\n",
    "    <li>The value of <code>list_of_lists3</code> has changed, but that of <code>list_of_lists2</code> has stayed the same.</li>\n",
    "</ol>"
   ]
  },
  {
   "cell_type": "code",
   "execution_count": 20,
   "id": "extra-administrator",
   "metadata": {
    "deletable": false,
    "nbgrader": {
     "cell_type": "code",
     "checksum": "06c813284ed6e760b46fd6b21567190a",
     "grade": false,
     "grade_id": "cell-24d681b71db986bf",
     "locked": false,
     "schema_version": 3,
     "solution": true,
     "task": false
    }
   },
   "outputs": [
    {
     "name": "stdout",
     "output_type": "stream",
     "text": [
      "[[1, 3, 5], [1, 400, 7], [1, 5, 9]] [[1, 3, 5], [1, 400, 7], [1, 5, 9]]\n"
     ]
    }
   ],
   "source": [
    "# YOUR CODE HERE\n",
    "list_of_lists1[1][1] = 400\n",
    "\n",
    "question1iib_answer = 1\n",
    "print(list_of_lists2, list_of_lists3)"
   ]
  },
  {
   "cell_type": "code",
   "execution_count": 21,
   "id": "round-funeral",
   "metadata": {
    "deletable": false,
    "editable": false,
    "nbgrader": {
     "cell_type": "code",
     "checksum": "7a9f0424622e5199fa19c9edeb33907e",
     "grade": true,
     "grade_id": "cell-cf69c20d7081cea7",
     "locked": true,
     "points": 1,
     "schema_version": 3,
     "solution": false,
     "task": false
    }
   },
   "outputs": [
    {
     "name": "stdout",
     "output_type": "stream",
     "text": [
      "test case passed!\n"
     ]
    }
   ],
   "source": [
    "# 1 Mark\n",
    "assert(question1iib_answer == question1iib())\n",
    "print('test case passed!')"
   ]
  },
  {
   "cell_type": "markdown",
   "id": "isolated-denver",
   "metadata": {
    "deletable": false,
    "editable": false,
    "nbgrader": {
     "cell_type": "markdown",
     "checksum": "04501ec70e4d97ac0efc63614e03a851",
     "grade": false,
     "grade_id": "cell-0c1fde0b8feb9ef3",
     "locked": true,
     "schema_version": 3,
     "solution": false,
     "task": false
    }
   },
   "source": [
    "(c) Redefine `row1`, `row2`, `row3` and `list_of_lists1` as in (a) above. \n",
    "\n",
    "Create an object, `list_of_lists4`, that is a <b>deep</b> copy of `list_of_lists1`: that is, not only is it itself a copy, but all three of the elements that make it up are copies of the corresponding elements of `list_of_lists1`. It should remain the same in the face of changes to any of the numbers that form part of `list_of_lists1`.\n",
    "\n",
    "<b>Note</b>: don't do this just by repeating the definition of `list_of_lists1`; find a smarter way! There are at least two ways of doing this task. One uses a comprehension, and the other uses another function from the `copy` module, whose name you might be able to guess (and which is in any case available on the Internet...)"
   ]
  },
  {
   "cell_type": "code",
   "execution_count": 22,
   "id": "burning-nudist",
   "metadata": {
    "deletable": false,
    "nbgrader": {
     "cell_type": "code",
     "checksum": "154164124bf7ddb3b7910a25d17ec474",
     "grade": false,
     "grade_id": "cell-49d7b1d42a394359",
     "locked": false,
     "schema_version": 3,
     "solution": true,
     "task": false
    }
   },
   "outputs": [
    {
     "name": "stdout",
     "output_type": "stream",
     "text": [
      "[[1, 3, 5], [1, 400, 7], [1, 5, 9]]\n",
      "[[1, 3, 5], [1, 400, 7], [1, 5, 9]]\n"
     ]
    }
   ],
   "source": [
    "from copy import deepcopy\n",
    "list_of_lists4 = deepcopy(list_of_lists1)\n",
    "\n",
    "print(list_of_lists1)\n",
    "print(list_of_lists4)"
   ]
  },
  {
   "cell_type": "code",
   "execution_count": 23,
   "id": "controlled-seventh",
   "metadata": {
    "deletable": false,
    "editable": false,
    "nbgrader": {
     "cell_type": "code",
     "checksum": "272e9333937b6b8d1b0bf7d319cde058",
     "grade": true,
     "grade_id": "cell-9d44c0503ab37154",
     "locked": true,
     "points": 4,
     "schema_version": 3,
     "solution": false,
     "task": false
    }
   },
   "outputs": [
    {
     "name": "stdout",
     "output_type": "stream",
     "text": [
      "list_of_lists1 does not contain the right values\n",
      "\n",
      "list_of_lists4 does not contain the right values\n",
      "\n",
      "list_of_lists4 is not the same object as list_of_lists1, which is correct\n",
      "\n",
      "list_of_lists4 is a deep copy: its rows are separate objects from those of list_of_lists1\n",
      "2 out of 4\n"
     ]
    },
    {
     "data": {
      "text/plain": [
       "2"
      ]
     },
     "execution_count": 23,
     "metadata": {},
     "output_type": "execute_result"
    }
   ],
   "source": [
    "# 4 Marks\n",
    "# Do not try to delete this cell\n",
    "# Run this cell for grading\n",
    "_globals = globals()\n",
    "question1iic(_globals)"
   ]
  },
  {
   "cell_type": "markdown",
   "id": "recovered-beverage",
   "metadata": {
    "deletable": false,
    "editable": false,
    "nbgrader": {
     "cell_type": "markdown",
     "checksum": "a30cc0f01bb25f34e300f8083147e9ca",
     "grade": false,
     "grade_id": "cell-47dbbcf3caa94a49",
     "locked": true,
     "schema_version": 3,
     "solution": false,
     "task": false
    }
   },
   "source": [
    "(d) Can you find the other method, calling your second deep copy `list_of_lists5?` (Autograding won't be able to tell if you've \"cheated\" here by doing the same thing twice; but you'll know!)"
   ]
  },
  {
   "cell_type": "code",
   "execution_count": 26,
   "id": "treated-programmer",
   "metadata": {
    "deletable": false,
    "nbgrader": {
     "cell_type": "code",
     "checksum": "5144278939fa89cd978f88da5d4041e4",
     "grade": false,
     "grade_id": "cell-8797c7cf90bbc928",
     "locked": false,
     "schema_version": 3,
     "solution": true,
     "task": false
    }
   },
   "outputs": [
    {
     "name": "stdout",
     "output_type": "stream",
     "text": [
      "[[1, 3, 5], [1, 4, 7], [1, 5, 9]]\n",
      "[[1, 3, 5], [1, 4, 7], [1, 5, 9]]\n"
     ]
    }
   ],
   "source": [
    "# YOUR CODE HERE\n",
    "row1 = [1, 3, 5]\n",
    "row2 = [1, 4, 7]\n",
    "row3 = [1, 5, 9]\n",
    "\n",
    "list_of_lists1 = [row1, row2, row3]\n",
    "list_of_lists5 = [copy(row) for row in list_of_lists1]\n",
    "\n",
    "print(list_of_lists1)\n",
    "print(list_of_lists5)"
   ]
  },
  {
   "cell_type": "code",
   "execution_count": 27,
   "id": "extra-cabinet",
   "metadata": {
    "deletable": false,
    "editable": false,
    "nbgrader": {
     "cell_type": "code",
     "checksum": "a4561c4e55ad688bcb1b7a139bd4cb83",
     "grade": true,
     "grade_id": "cell-4e03943b224f0325",
     "locked": true,
     "points": 4,
     "schema_version": 3,
     "solution": false,
     "task": false
    }
   },
   "outputs": [
    {
     "name": "stdout",
     "output_type": "stream",
     "text": [
      "list_of_lists1 contains the right values\n",
      "\n",
      "list_of_lists5 contains the right values\n",
      "\n",
      "list_of_lists5 is not the same object as list_of_lists1, which is correct\n",
      "\n",
      "list_of_lists5 is a deep copy: its rows are separate objects from those of list_of_lists1\n",
      "4 out of 4\n"
     ]
    },
    {
     "data": {
      "text/plain": [
       "4"
      ]
     },
     "execution_count": 27,
     "metadata": {},
     "output_type": "execute_result"
    }
   ],
   "source": [
    "# 4 Marks\n",
    "# Do not try to delete this cell\n",
    "# Run this cell for grading\n",
    "_globals = globals()\n",
    "question1iid(_globals)"
   ]
  },
  {
   "cell_type": "markdown",
   "id": "funny-liquid",
   "metadata": {
    "deletable": false,
    "editable": false,
    "nbgrader": {
     "cell_type": "markdown",
     "checksum": "0e4fd331472cdfd23cb458f9bc4452f6",
     "grade": false,
     "grade_id": "cell-221bc9193be12a80",
     "locked": true,
     "schema_version": 3,
     "solution": false,
     "task": false
    }
   },
   "source": [
    "## Question 2\n",
    "\n",
    "### (i)\n",
    "\n",
    "The following data consists of:\n",
    "<ul>\n",
    "    <li>Eight dictionaries, each with the same three keys: <code>'radius'</code>,  <code>'mass'</code> and <code>'escape_velocity'</code>; the value associated with each key is a float.</li>\n",
    "    <li>One \"master dictionary\", consisting of eight keys corresponding to the names of the planets in our solar system; the value associated with each key is a dictionary.</li>\n",
    "</ul>"
   ]
  },
  {
   "cell_type": "code",
   "execution_count": 28,
   "id": "yellow-teach",
   "metadata": {
    "deletable": false,
    "editable": false,
    "nbgrader": {
     "cell_type": "code",
     "checksum": "4aa616be11ae3744749637fd7f0a1278",
     "grade": false,
     "grade_id": "cell-1f0d6373a702142b",
     "locked": true,
     "schema_version": 3,
     "solution": false,
     "task": false
    }
   },
   "outputs": [],
   "source": [
    "mercury_data = {'radius' : 2.4e6, 'mass' : 3.3e23, \n",
    "    'escape_velocity' : 4.3e3}\n",
    "venus_data = {'radius' : 6.1e6, 'mass' : 4.9e24, \n",
    "    'escape_velocity' : 1.0e4}\n",
    "earth_data = {'radius' : 6.3e6, 'mass' : 6.0e24, \n",
    "    'escape_velocity' : 1.1e4}\n",
    "mars_data = {'radius' : 3.4e6, 'mass' : 6.4e23, \n",
    "    'escape_velocity' : 5.0e3}\n",
    "jupiter_data = {'radius' : 6.9e7, 'mass' : 1.9e27, \n",
    "    'escape_velocity' : 6.0e4}\n",
    "saturn_data = {'radius' : 5.7e7, 'mass' : 5.6e26, \n",
    "    'escape_velocity' : 3.6e4}\n",
    "uranus_data = {'radius' : 2.5e7, 'mass' : 8.7e25, \n",
    "    'escape_velocity' : 2.2e4}\n",
    "neptune_data = {'radius' : 2.5e7, 'mass' : 1.0e26, \n",
    "    'escape_velocity' : 2.4e4}\n",
    "planet_data = {\n",
    "    'mercury': mercury_data,\n",
    "    'venus': venus_data,\n",
    "    'earth': earth_data,\n",
    "    'mars': mars_data,\n",
    "    'jupiter': jupiter_data,\n",
    "    'saturn': saturn_data,\n",
    "    'uranus': uranus_data,\n",
    "    'neptune': neptune_data,\n",
    "}"
   ]
  },
  {
   "cell_type": "markdown",
   "id": "normal-psychology",
   "metadata": {
    "deletable": false,
    "editable": false,
    "nbgrader": {
     "cell_type": "markdown",
     "checksum": "fb20fcb56b219dee84c9056f73a19d20",
     "grade": false,
     "grade_id": "cell-b822e63b69238f72",
     "locked": true,
     "schema_version": 3,
     "solution": false,
     "task": false
    }
   },
   "source": [
    "(a) Using a comprehension, create a <b>list</b> `radius_list` containing all the planetary radii."
   ]
  },
  {
   "cell_type": "code",
   "execution_count": 29,
   "id": "ordered-character",
   "metadata": {
    "deletable": false,
    "nbgrader": {
     "cell_type": "code",
     "checksum": "58e8e0393a4016283504e0b1e0a52f21",
     "grade": false,
     "grade_id": "cell-feef8e594c7c7108",
     "locked": false,
     "schema_version": 3,
     "solution": true,
     "task": false
    }
   },
   "outputs": [
    {
     "name": "stdout",
     "output_type": "stream",
     "text": [
      "[2400000.0, 6100000.0, 6300000.0, 3400000.0, 69000000.0, 57000000.0, 25000000.0, 25000000.0]\n"
     ]
    }
   ],
   "source": [
    "# YOUR CODE HERE\n",
    "radius_list = [planet_data[key]['radius'] for key in planet_data.keys()]\n",
    "\n",
    "print(radius_list)"
   ]
  },
  {
   "cell_type": "code",
   "execution_count": 30,
   "id": "excess-breeding",
   "metadata": {
    "deletable": false,
    "editable": false,
    "nbgrader": {
     "cell_type": "code",
     "checksum": "be2dff206aca62585416ea8407a27a36",
     "grade": true,
     "grade_id": "cell-b930ad8d3f909ab9",
     "locked": true,
     "points": 1,
     "schema_version": 3,
     "solution": false,
     "task": false
    }
   },
   "outputs": [
    {
     "name": "stdout",
     "output_type": "stream",
     "text": [
      "radius_list is correct\n",
      "Test passed!\n"
     ]
    },
    {
     "data": {
      "text/plain": [
       "1"
      ]
     },
     "execution_count": 30,
     "metadata": {},
     "output_type": "execute_result"
    }
   ],
   "source": [
    "# 1 Mark\n",
    "# Do not try to delete this cell\n",
    "# Run this cell for grading\n",
    "_globals = globals()\n",
    "question2ia(_globals)"
   ]
  },
  {
   "cell_type": "markdown",
   "id": "prepared-foster",
   "metadata": {
    "deletable": false,
    "editable": false,
    "nbgrader": {
     "cell_type": "markdown",
     "checksum": "224db65cb53eb81191f785822e537588",
     "grade": false,
     "grade_id": "cell-c8ed6a2921a5f9ac",
     "locked": true,
     "schema_version": 3,
     "solution": false,
     "task": false
    }
   },
   "source": [
    "(b) Using a comprehension, create a <b>set</b> `mass_set` containing all the planetary masses."
   ]
  },
  {
   "cell_type": "code",
   "execution_count": 31,
   "id": "identical-password",
   "metadata": {
    "deletable": false,
    "nbgrader": {
     "cell_type": "code",
     "checksum": "59cbc82f7305e77971f2ef3b0a66a199",
     "grade": false,
     "grade_id": "cell-d57b551cbb142ba2",
     "locked": false,
     "schema_version": 3,
     "solution": true,
     "task": false
    }
   },
   "outputs": [
    {
     "name": "stdout",
     "output_type": "stream",
     "text": [
      "{6e+24, 5.6e+26, 3.3e+23, 4.9e+24, 1.9e+27, 6.4e+23, 1e+26, 8.7e+25}\n"
     ]
    }
   ],
   "source": [
    "# YOUR CODE HERE\n",
    "mass_set = {planet_data[key]['mass'] for key in planet_data.keys()}\n",
    "\n",
    "print(mass_set)"
   ]
  },
  {
   "cell_type": "code",
   "execution_count": 32,
   "id": "focal-falls",
   "metadata": {
    "deletable": false,
    "editable": false,
    "nbgrader": {
     "cell_type": "code",
     "checksum": "696a36dc613504473191f9614d7ba27a",
     "grade": true,
     "grade_id": "cell-ab71aab9394ec18c",
     "locked": true,
     "points": 1,
     "schema_version": 3,
     "solution": false,
     "task": false
    }
   },
   "outputs": [
    {
     "name": "stdout",
     "output_type": "stream",
     "text": [
      "mass_set is correct\n",
      "Test passed!\n"
     ]
    },
    {
     "data": {
      "text/plain": [
       "1"
      ]
     },
     "execution_count": 32,
     "metadata": {},
     "output_type": "execute_result"
    }
   ],
   "source": [
    "# 1 Mark\n",
    "# Do not try to delete this cell\n",
    "# Run this cell for grading\n",
    "_globals = globals()\n",
    "question2ib(_globals)"
   ]
  },
  {
   "cell_type": "markdown",
   "id": "adaptive-bryan",
   "metadata": {
    "deletable": false,
    "editable": false,
    "nbgrader": {
     "cell_type": "markdown",
     "checksum": "4bb1a22ce689ca481f1ee9b82e4c0623",
     "grade": false,
     "grade_id": "cell-9a0a34c1781ac172",
     "locked": true,
     "schema_version": 3,
     "solution": false,
     "task": false
    }
   },
   "source": [
    "(c) Create a <b>set</b> `name_set` containing all the names of the planets; this can be done without using a comprehension."
   ]
  },
  {
   "cell_type": "code",
   "execution_count": 33,
   "id": "sitting-ceremony",
   "metadata": {
    "deletable": false,
    "nbgrader": {
     "cell_type": "code",
     "checksum": "205aba2134989edbaafc9bdab968cf5f",
     "grade": false,
     "grade_id": "cell-121cbc171d4dbdbe",
     "locked": false,
     "schema_version": 3,
     "solution": true,
     "task": false
    }
   },
   "outputs": [
    {
     "name": "stdout",
     "output_type": "stream",
     "text": [
      "{'jupiter', 'mars', 'venus', 'saturn', 'mercury', 'earth', 'uranus', 'neptune'}\n"
     ]
    }
   ],
   "source": [
    "# YOUR CODE HERE\n",
    "name_set = {key for key in planet_data.keys()}\n",
    "\n",
    "print(name_set)"
   ]
  },
  {
   "cell_type": "code",
   "execution_count": 34,
   "id": "incorrect-jersey",
   "metadata": {
    "deletable": false,
    "editable": false,
    "nbgrader": {
     "cell_type": "code",
     "checksum": "cdbff1db2992c9074b0a78d204999baf",
     "grade": true,
     "grade_id": "cell-487b52adfcefaaf2",
     "locked": true,
     "points": 1,
     "schema_version": 3,
     "solution": false,
     "task": false
    }
   },
   "outputs": [
    {
     "name": "stdout",
     "output_type": "stream",
     "text": [
      "name_set is correct\n",
      "Test passed!\n"
     ]
    },
    {
     "data": {
      "text/plain": [
       "1"
      ]
     },
     "execution_count": 34,
     "metadata": {},
     "output_type": "execute_result"
    }
   ],
   "source": [
    "# 1 Mark\n",
    "# Do not try to delete this cell\n",
    "# Run this cell for grading\n",
    "_globals = globals()\n",
    "question2ic(_globals)"
   ]
  },
  {
   "cell_type": "markdown",
   "id": "casual-karen",
   "metadata": {
    "deletable": false,
    "editable": false,
    "nbgrader": {
     "cell_type": "markdown",
     "checksum": "37302d335bc2b59c6ee7661cd6dda026",
     "grade": false,
     "grade_id": "cell-9e2077d9a80f1188",
     "locked": true,
     "schema_version": 3,
     "solution": false,
     "task": false
    }
   },
   "source": [
    "(d) Using a comprehension, create a <b>dictionary</b> `ev_dict`, the keys of which are the names of the planets and the associated values of which are the escape velocities."
   ]
  },
  {
   "cell_type": "code",
   "execution_count": 36,
   "id": "assigned-sunset",
   "metadata": {
    "deletable": false,
    "nbgrader": {
     "cell_type": "code",
     "checksum": "333c12a1ce9aa460754310bf1303a2f6",
     "grade": false,
     "grade_id": "cell-c7f53923a0d38513",
     "locked": false,
     "schema_version": 3,
     "solution": true,
     "task": false
    }
   },
   "outputs": [
    {
     "name": "stdout",
     "output_type": "stream",
     "text": [
      "{'mercury': 4300.0, 'venus': 10000.0, 'earth': 11000.0, 'mars': 5000.0, 'jupiter': 60000.0, 'saturn': 36000.0, 'uranus': 22000.0, 'neptune': 24000.0}\n"
     ]
    }
   ],
   "source": [
    "# YOUR CODE HERE\n",
    "ev_dict = {planet:data['escape_velocity'] for planet, data in planet_data.items()}\n",
    "\n",
    "print(ev_dict)"
   ]
  },
  {
   "cell_type": "code",
   "execution_count": 37,
   "id": "stunning-telescope",
   "metadata": {
    "deletable": false,
    "editable": false,
    "nbgrader": {
     "cell_type": "code",
     "checksum": "57b9aac03e0680f4c4bc49c36c4ac799",
     "grade": true,
     "grade_id": "cell-0ceb196e018d19cc",
     "locked": true,
     "points": 1,
     "schema_version": 3,
     "solution": false,
     "task": false
    }
   },
   "outputs": [
    {
     "name": "stdout",
     "output_type": "stream",
     "text": [
      "ev_dict is correct\n",
      "Test passed!\n"
     ]
    },
    {
     "data": {
      "text/plain": [
       "1"
      ]
     },
     "execution_count": 37,
     "metadata": {},
     "output_type": "execute_result"
    }
   ],
   "source": [
    "# 1 Mark\n",
    "# Do not try to delete this cell\n",
    "# Run this cell for grading\n",
    "_globals = globals()\n",
    "question2id(_globals)"
   ]
  },
  {
   "cell_type": "markdown",
   "id": "nervous-genius",
   "metadata": {
    "deletable": false,
    "editable": false,
    "nbgrader": {
     "cell_type": "markdown",
     "checksum": "5157d7e404cc42d296bac146d4beed68",
     "grade": false,
     "grade_id": "cell-39ff7dc68a6572b7",
     "locked": true,
     "schema_version": 3,
     "solution": false,
     "task": false
    }
   },
   "source": [
    "### (ii)\n",
    "\n",
    "The following is an attempt to set up a little dictionary linking the IUPAC systematic and preferred designations of the isomers of xylene (dimethylbenzene). "
   ]
  },
  {
   "cell_type": "code",
   "execution_count": 38,
   "id": "limited-treasury",
   "metadata": {
    "deletable": false,
    "editable": false,
    "nbgrader": {
     "cell_type": "code",
     "checksum": "de76b152c69b1bfd7a918d414a137419",
     "grade": false,
     "grade_id": "cell-5ddbc0c2f19ba205",
     "locked": true,
     "schema_version": 3,
     "solution": false,
     "task": false
    }
   },
   "outputs": [
    {
     "ename": "TypeError",
     "evalue": "unhashable type: 'list'",
     "output_type": "error",
     "traceback": [
      "\u001b[1;31m---------------------------------------------------------------------------\u001b[0m",
      "\u001b[1;31mTypeError\u001b[0m                                 Traceback (most recent call last)",
      "\u001b[1;32m<ipython-input-38-a722a788d42f>\u001b[0m in \u001b[0;36m<module>\u001b[1;34m\u001b[0m\n\u001b[0;32m      2\u001b[0m     \u001b[1;33m[\u001b[0m\u001b[1;36m1\u001b[0m\u001b[1;33m,\u001b[0m \u001b[1;36m2\u001b[0m\u001b[1;33m]\u001b[0m \u001b[1;33m:\u001b[0m \u001b[1;34m'orthoxylene'\u001b[0m\u001b[1;33m,\u001b[0m\u001b[1;33m\u001b[0m\u001b[1;33m\u001b[0m\u001b[0m\n\u001b[0;32m      3\u001b[0m     \u001b[1;33m[\u001b[0m\u001b[1;36m1\u001b[0m\u001b[1;33m,\u001b[0m \u001b[1;36m3\u001b[0m\u001b[1;33m]\u001b[0m \u001b[1;33m:\u001b[0m \u001b[1;34m'metaxylene'\u001b[0m\u001b[1;33m,\u001b[0m\u001b[1;33m\u001b[0m\u001b[1;33m\u001b[0m\u001b[0m\n\u001b[1;32m----> 4\u001b[1;33m     [1, 4] : 'paraxylene'}\n\u001b[0m",
      "\u001b[1;31mTypeError\u001b[0m: unhashable type: 'list'"
     ]
    }
   ],
   "source": [
    "xylene_isomers = {\n",
    "    [1, 2] : 'orthoxylene', \n",
    "    [1, 3] : 'metaxylene',\n",
    "    [1, 4] : 'paraxylene'}"
   ]
  },
  {
   "cell_type": "markdown",
   "id": "finite-grill",
   "metadata": {
    "deletable": false,
    "editable": false,
    "nbgrader": {
     "cell_type": "markdown",
     "checksum": "6f8c89f30bf2e267cd924631aef5f203",
     "grade": false,
     "grade_id": "cell-33e24c85931a2abb",
     "locked": true,
     "schema_version": 3,
     "solution": false,
     "task": false
    }
   },
   "source": [
    "The way it's meant to work is that since, for example, 1,2-dimethylbenzene is also known as orthoxylene, I can type\n",
    "```python\n",
    "xylene_isomers([1, 2])\n",
    "```\n",
    "and get the output `'orthoxylene'`.\n",
    "\n",
    "(a) However, it doesn't work. Fix it! Write a new version of `xylene_isomers` in which the keys are data structures (don't use strings or ints for example), but ones that work."
   ]
  },
  {
   "cell_type": "code",
   "execution_count": 39,
   "id": "western-providence",
   "metadata": {
    "deletable": false,
    "nbgrader": {
     "cell_type": "code",
     "checksum": "339d8e69390f7323c29969b488a621e1",
     "grade": false,
     "grade_id": "cell-45514ee84187b5cb",
     "locked": false,
     "schema_version": 3,
     "solution": true,
     "task": false
    }
   },
   "outputs": [
    {
     "name": "stdout",
     "output_type": "stream",
     "text": [
      "{(1, 2): 'orthoxylene', (1, 3): 'metaxylene', (1, 4): 'paraxylene'}\n"
     ]
    }
   ],
   "source": [
    "# YOUR CODE HERE\n",
    "xylene_isomers = {\n",
    "    (1, 2) : 'orthoxylene',\n",
    "    (1, 3) : 'metaxylene',\n",
    "    (1, 4): 'paraxylene'\n",
    "}\n",
    "\n",
    "print(xylene_isomers)"
   ]
  },
  {
   "cell_type": "code",
   "execution_count": 40,
   "id": "innocent-necessity",
   "metadata": {
    "deletable": false,
    "editable": false,
    "nbgrader": {
     "cell_type": "code",
     "checksum": "07f8dc3098777c2260be4e428696ed03",
     "grade": true,
     "grade_id": "cell-bfe12f7e0d2af965",
     "locked": true,
     "points": 4,
     "schema_version": 3,
     "solution": false,
     "task": false
    }
   },
   "outputs": [
    {
     "name": "stdout",
     "output_type": "stream",
     "text": [
      "xylene_isomers is a dictionary\n",
      "\n",
      "xylene_isomers has the right values\n",
      "\n",
      "For your keys, you seem to be using tuples, which we think is the best choice.\n",
      "\n",
      "Your keys have the correct values.\n",
      "\n",
      "4 out of 4\n"
     ]
    },
    {
     "data": {
      "text/plain": [
       "4"
      ]
     },
     "execution_count": 40,
     "metadata": {},
     "output_type": "execute_result"
    }
   ],
   "source": [
    "# 4 Marks\n",
    "# Do not try to delete this cell\n",
    "# Run this cell for grading\n",
    "_globals = globals()\n",
    "question2iia(_globals)"
   ]
  },
  {
   "cell_type": "markdown",
   "id": "transsexual-arkansas",
   "metadata": {
    "deletable": false,
    "editable": false,
    "nbgrader": {
     "cell_type": "markdown",
     "checksum": "0a8c9e58913790b9fe15de34a7bca47a",
     "grade": false,
     "grade_id": "cell-d7db084f35dcedad",
     "locked": true,
     "schema_version": 3,
     "solution": false,
     "task": false
    }
   },
   "source": [
    "(b) Which of the following data types and data structures can serve as the keys in a dictionary? Type your answer as a set.\n",
    "\n",
    "<ol>\n",
    "    <li>floats;</li>\n",
    "    <li>ints;</li>\n",
    "    <li>complexes;</li>\n",
    "    <li>strings;</li>\n",
    "    <li>lists;</li>\n",
    "    <li>tuples;</li>\n",
    "    <li>NumPy arrays;</li>\n",
    "    <li>sets;</li>\n",
    "    <li>frozensets;</li>\n",
    "    <li>dictionaries.</li>\n",
    "</ol>"
   ]
  },
  {
   "cell_type": "code",
   "execution_count": 41,
   "id": "familiar-sentence",
   "metadata": {
    "deletable": false,
    "nbgrader": {
     "cell_type": "code",
     "checksum": "6f2c74702147345d6bdd45aa236a7bab",
     "grade": false,
     "grade_id": "cell-dda9e8f6cee7e834",
     "locked": false,
     "schema_version": 3,
     "solution": true,
     "task": false
    }
   },
   "outputs": [],
   "source": [
    "# YOUR CODE HERE\n",
    "\n",
    "question2iib_answer = {1, 2, 3, 4, 6, 9}"
   ]
  },
  {
   "cell_type": "code",
   "execution_count": 42,
   "id": "favorite-conservation",
   "metadata": {
    "deletable": false,
    "editable": false,
    "nbgrader": {
     "cell_type": "code",
     "checksum": "a6ebfc3995956b4a03a53ea4b7e8ca9e",
     "grade": true,
     "grade_id": "cell-d38702d62a5b38d6",
     "locked": true,
     "points": 1,
     "schema_version": 3,
     "solution": false,
     "task": false
    }
   },
   "outputs": [
    {
     "name": "stdout",
     "output_type": "stream",
     "text": [
      "test case passed!\n"
     ]
    }
   ],
   "source": [
    "# 1 Mark\n",
    "assert(question2iib_answer == question2iib())\n",
    "print('test case passed!')"
   ]
  },
  {
   "cell_type": "markdown",
   "id": "assigned-matter",
   "metadata": {
    "deletable": false,
    "editable": false,
    "nbgrader": {
     "cell_type": "markdown",
     "checksum": "c5913ed7ed2e5c524f2f503531587792",
     "grade": false,
     "grade_id": "cell-10fcbad9965fec82",
     "locked": true,
     "schema_version": 3,
     "solution": false,
     "task": false
    }
   },
   "source": [
    "(c) Which of the following data types and data structures can serve as the values in a dictionary? Type your answer as a set.\n",
    "\n",
    "<ol>\n",
    "    <li>floats;</li>\n",
    "    <li>ints;</li>\n",
    "    <li>complexes;</li>\n",
    "    <li>strings;</li>\n",
    "    <li>lists;</li>\n",
    "    <li>tuples;</li>\n",
    "    <li>NumPy arrays;</li>\n",
    "    <li>sets;</li>\n",
    "    <li>frozensets;</li>\n",
    "    <li>dictionaries.</li>\n",
    "</ol>"
   ]
  },
  {
   "cell_type": "code",
   "execution_count": 43,
   "id": "ruled-water",
   "metadata": {
    "deletable": false,
    "nbgrader": {
     "cell_type": "code",
     "checksum": "99490fb61dd9aedfe8b5c2969f6193e2",
     "grade": false,
     "grade_id": "cell-2d4bd5bb56172f4b",
     "locked": false,
     "schema_version": 3,
     "solution": true,
     "task": false
    }
   },
   "outputs": [],
   "source": [
    "\n",
    "question2iic_answer = {1, 2, 3, 4, 5, 6, 7, 8, 9, 10}"
   ]
  },
  {
   "cell_type": "code",
   "execution_count": 44,
   "id": "detected-utility",
   "metadata": {
    "deletable": false,
    "editable": false,
    "nbgrader": {
     "cell_type": "code",
     "checksum": "eae27f8be00162d81109cc8a36741581",
     "grade": true,
     "grade_id": "cell-164cdda160462d87",
     "locked": true,
     "points": 1,
     "schema_version": 3,
     "solution": false,
     "task": false
    }
   },
   "outputs": [
    {
     "name": "stdout",
     "output_type": "stream",
     "text": [
      "test case passed!\n"
     ]
    }
   ],
   "source": [
    "# 1 Mark\n",
    "assert(question2iic_answer == question2iic())\n",
    "print('test case passed!')"
   ]
  },
  {
   "cell_type": "markdown",
   "id": "backed-treaty",
   "metadata": {
    "deletable": false,
    "editable": false,
    "nbgrader": {
     "cell_type": "markdown",
     "checksum": "7df60fd40f24d321f8f396eab7d1ab0a",
     "grade": false,
     "grade_id": "cell-23cbd7a149530c71",
     "locked": true,
     "schema_version": 3,
     "solution": false,
     "task": false
    }
   },
   "source": [
    "## Question 3\n",
    "\n",
    "Write and test a function called `power_set` which takes as its argument a set, and returns the set of that set's subsets (each subset being represented as a frozenset). So, for example, \n",
    "```python\n",
    "power_set({0,1})\n",
    "```\n",
    "should return `{frozenset(), frozenset({1}), frozenset({0}), frozenset({0, 1})}`.\n",
    "\n",
    "(I think this is a naturally <b>recursive</b> task. I also think this is quite tricky.)"
   ]
  },
  {
   "cell_type": "code",
   "execution_count": 2,
   "id": "incoming-messenger",
   "metadata": {
    "deletable": false,
    "nbgrader": {
     "cell_type": "code",
     "checksum": "221904ca148d439aff5b9a88a1e72e7d",
     "grade": false,
     "grade_id": "cell-7fc4f6ccc3b3f268",
     "locked": false,
     "schema_version": 3,
     "solution": true,
     "task": false
    }
   },
   "outputs": [],
   "source": [
    "def power_set(this_set):\n",
    "    \"\"\"\n",
    "    Returns the power set of this_set, the various subsets being\n",
    "    represented as frozensets\n",
    "    \"\"\"\n",
    "    if this_set == set() or this_set == {}:\n",
    "        return {frozenset({})}\n",
    "    # recursion step\n",
    "    else:        \n",
    "        # remove an element\n",
    "        el = this_set.pop()\n",
    "        \n",
    "        # power set of that set\n",
    "        short_power_set = power_set(this_set)\n",
    "        \n",
    "        # copy with the last element appended to each\n",
    "        short_power_set2 = {subset | frozenset({el}) for subset in short_power_set}\n",
    "        \n",
    "        # union of the two is returned\n",
    "        return short_power_set | short_power_set2"
   ]
  },
  {
   "cell_type": "code",
   "execution_count": 3,
   "id": "significant-mouth",
   "metadata": {
    "deletable": false,
    "editable": false,
    "nbgrader": {
     "cell_type": "code",
     "checksum": "a64638fa21d87ca6975b0b657ae969a5",
     "grade": true,
     "grade_id": "cell-18689f9543ab4e90",
     "locked": true,
     "points": 4,
     "schema_version": 3,
     "solution": false,
     "task": false
    }
   },
   "outputs": [
    {
     "name": "stdout",
     "output_type": "stream",
     "text": [
      "power_set({0, 1}) returns the correct value\n",
      "power_set({'a','b','c','d'}) returns the correct value\n",
      "power_set({7}) returns the correct value\n",
      "power_set({}) returns the correct value\n",
      "\n",
      "4 out of 4\n"
     ]
    },
    {
     "data": {
      "text/plain": [
       "4"
      ]
     },
     "execution_count": 3,
     "metadata": {},
     "output_type": "execute_result"
    }
   ],
   "source": [
    "# 4 Marks\n",
    "# Do not try to delete this cell\n",
    "# Run this cell for grading\n",
    "_globals = globals()\n",
    "question3(_globals)"
   ]
  },
  {
   "cell_type": "markdown",
   "id": "biological-destiny",
   "metadata": {
    "deletable": false,
    "editable": false,
    "nbgrader": {
     "cell_type": "markdown",
     "checksum": "7658f983bb99a92d8e24d5d7d10e613b",
     "grade": false,
     "grade_id": "cell-6793af10fb8d978a",
     "locked": true,
     "schema_version": 3,
     "solution": false,
     "task": false
    }
   },
   "source": [
    "## Question 4\n",
    "(a) Take your `xylene_isomers` dictionary, as corrected, and convert it into a string, `xylene_isomers_string`."
   ]
  },
  {
   "cell_type": "code",
   "execution_count": 56,
   "id": "pursuant-country",
   "metadata": {
    "deletable": false,
    "nbgrader": {
     "cell_type": "code",
     "checksum": "81555212dfb211b7b1797e5aabeed46b",
     "grade": false,
     "grade_id": "cell-de31117e983b3356",
     "locked": false,
     "schema_version": 3,
     "solution": true,
     "task": false
    }
   },
   "outputs": [
    {
     "name": "stdout",
     "output_type": "stream",
     "text": [
      "{(1, 2): 'orthoxylene', (1, 3): 'metaxylene', (1, 4): 'paraxylene'}\n"
     ]
    }
   ],
   "source": [
    "# YOUR CODE HERE\n",
    "xylene_isomers_string = str(xylene_isomers)\n",
    "\n",
    "print(xylene_isomers_string)"
   ]
  },
  {
   "cell_type": "code",
   "execution_count": 57,
   "id": "offensive-xerox",
   "metadata": {
    "deletable": false,
    "editable": false,
    "nbgrader": {
     "cell_type": "code",
     "checksum": "18a18fd4ce35b1fd17ee69ea99dd7f79",
     "grade": true,
     "grade_id": "cell-a2b91a558fe53dbb",
     "locked": true,
     "points": 1,
     "schema_version": 3,
     "solution": false,
     "task": false
    }
   },
   "outputs": [
    {
     "name": "stdout",
     "output_type": "stream",
     "text": [
      "xylene_isomers_string is correct\n",
      "Test passed!\n"
     ]
    },
    {
     "data": {
      "text/plain": [
       "1"
      ]
     },
     "execution_count": 57,
     "metadata": {},
     "output_type": "execute_result"
    }
   ],
   "source": [
    "# 1 Mark\n",
    "# Do not try to delete this cell\n",
    "# Run this cell for grading\n",
    "_globals = globals()\n",
    "question4a(_globals)"
   ]
  },
  {
   "cell_type": "markdown",
   "id": "thorough-museum",
   "metadata": {
    "deletable": false,
    "editable": false,
    "nbgrader": {
     "cell_type": "markdown",
     "checksum": "6160fefaf0cad31059908bb9105ed4e6",
     "grade": false,
     "grade_id": "cell-2176742dffbbb23f",
     "locked": true,
     "schema_version": 3,
     "solution": false,
     "task": false
    }
   },
   "source": [
    "(b) Write this string to an external file called `xylene_isomers.txt`. Autograding can't help you here!"
   ]
  },
  {
   "cell_type": "code",
   "execution_count": 89,
   "id": "asian-forward",
   "metadata": {
    "deletable": false,
    "nbgrader": {
     "cell_type": "code",
     "checksum": "e410f4176d2d942e4da851b402c030d6",
     "grade": false,
     "grade_id": "cell-0ed1707326f6838b",
     "locked": false,
     "schema_version": 3,
     "solution": true,
     "task": false
    }
   },
   "outputs": [],
   "source": [
    "txt = open('xylene_isomers.txt', 'w')\n",
    "txt.write(xylene_isomers_string)\n",
    "txt.close()"
   ]
  },
  {
   "cell_type": "markdown",
   "id": "united-hawaii",
   "metadata": {
    "deletable": false,
    "editable": false,
    "nbgrader": {
     "cell_type": "markdown",
     "checksum": "3a7f96471210e16d2c512e7a2f054219",
     "grade": false,
     "grade_id": "cell-ebd5f0421cbcf5b0",
     "locked": true,
     "schema_version": 3,
     "solution": false,
     "task": false
    }
   },
   "source": [
    "(c) Read in your external file as a string, `xylene_isomers_string2`."
   ]
  },
  {
   "cell_type": "code",
   "execution_count": 90,
   "id": "cooked-professor",
   "metadata": {
    "deletable": false,
    "nbgrader": {
     "cell_type": "code",
     "checksum": "081b344efb2113eb671cabaa6be2b321",
     "grade": false,
     "grade_id": "cell-23cccfc73b453766",
     "locked": false,
     "schema_version": 3,
     "solution": true,
     "task": false
    }
   },
   "outputs": [
    {
     "name": "stdout",
     "output_type": "stream",
     "text": [
      "{(1, 2): 'orthoxylene', (1, 3): 'metaxylene', (1, 4): 'paraxylene'}\n"
     ]
    }
   ],
   "source": [
    "# YOUR CODE HERE\n",
    "txt2 = open('xylene_isomers.txt', 'r')\n",
    "xylene_isomers_string2 = txt2.read()\n",
    "txt2.close()\n",
    "\n",
    "print(xylene_isomers_string2)"
   ]
  },
  {
   "cell_type": "code",
   "execution_count": 91,
   "id": "experienced-cabinet",
   "metadata": {
    "deletable": false,
    "editable": false,
    "nbgrader": {
     "cell_type": "code",
     "checksum": "7e8c3460a1e998b548ac222ade5f447c",
     "grade": true,
     "grade_id": "cell-d7d9639e634f1bbc",
     "locked": true,
     "points": 1,
     "schema_version": 3,
     "solution": false,
     "task": false
    }
   },
   "outputs": [
    {
     "name": "stdout",
     "output_type": "stream",
     "text": [
      "xylene_isomers_string2 is correct\n",
      "Test passed!\n"
     ]
    },
    {
     "data": {
      "text/plain": [
       "1"
      ]
     },
     "execution_count": 91,
     "metadata": {},
     "output_type": "execute_result"
    }
   ],
   "source": [
    "# 1 Mark\n",
    "# Do not try to delete this cell\n",
    "# Run this cell for grading\n",
    "_globals = globals()\n",
    "question4c(_globals)"
   ]
  },
  {
   "cell_type": "markdown",
   "id": "fourth-disaster",
   "metadata": {
    "deletable": false,
    "editable": false,
    "nbgrader": {
     "cell_type": "markdown",
     "checksum": "41a842f743b9616359b2c427cd42bed3",
     "grade": false,
     "grade_id": "cell-41d22d4d4f22758e",
     "locked": true,
     "schema_version": 3,
     "solution": false,
     "task": false
    }
   },
   "source": [
    "(d) Convert this string back into a dictionary, `xylene_isomers2`."
   ]
  },
  {
   "cell_type": "code",
   "execution_count": 92,
   "id": "detailed-dream",
   "metadata": {
    "deletable": false,
    "nbgrader": {
     "cell_type": "code",
     "checksum": "8848abcb7d1bee38d5729035f2a7c3c7",
     "grade": false,
     "grade_id": "cell-a35bcdc8e815203b",
     "locked": false,
     "schema_version": 3,
     "solution": true,
     "task": false
    }
   },
   "outputs": [
    {
     "name": "stdout",
     "output_type": "stream",
     "text": [
      "{(1, 2): 'orthoxylene', (1, 3): 'metaxylene', (1, 4): 'paraxylene'}\n"
     ]
    }
   ],
   "source": [
    "# YOUR CODE HERE\n",
    "\n",
    "xylene_isomers2 = eval(xylene_isomers_string2)\n",
    "\n",
    "print(xylene_isomers2)"
   ]
  },
  {
   "cell_type": "code",
   "execution_count": 93,
   "id": "neural-embassy",
   "metadata": {
    "deletable": false,
    "editable": false,
    "nbgrader": {
     "cell_type": "code",
     "checksum": "70e32f17c0bee06505478a57d14836a1",
     "grade": true,
     "grade_id": "cell-2646ba379df0ad0b",
     "locked": true,
     "points": 1,
     "schema_version": 3,
     "solution": false,
     "task": false
    }
   },
   "outputs": [
    {
     "name": "stdout",
     "output_type": "stream",
     "text": [
      "xylene_isomers2 is correct\n",
      "Test passed!\n"
     ]
    },
    {
     "data": {
      "text/plain": [
       "1"
      ]
     },
     "execution_count": 93,
     "metadata": {},
     "output_type": "execute_result"
    }
   ],
   "source": [
    "# 1 Mark\n",
    "# Do not try to delete this cell\n",
    "# Run this cell for grading\n",
    "_globals = globals()\n",
    "question4d(_globals)"
   ]
  },
  {
   "cell_type": "markdown",
   "id": "nutritional-modem",
   "metadata": {
    "deletable": false,
    "editable": false,
    "nbgrader": {
     "cell_type": "markdown",
     "checksum": "4aa7025372875a938e952813d6846a08",
     "grade": false,
     "grade_id": "cell-a661f76b861537d2",
     "locked": true,
     "schema_version": 3,
     "solution": false,
     "task": false
    }
   },
   "source": [
    "(e) Take your `xylene_isomers` dictionary, as corrected, and pickle it as `xylene_isomers.pickle`. Autograding can't help here!"
   ]
  },
  {
   "cell_type": "code",
   "execution_count": 94,
   "id": "spoken-surfing",
   "metadata": {
    "deletable": false,
    "nbgrader": {
     "cell_type": "code",
     "checksum": "8e8ed574696cecb3fee9ddafa71b9fbd",
     "grade": false,
     "grade_id": "cell-44ce9d96abd7ed04",
     "locked": false,
     "schema_version": 3,
     "solution": true,
     "task": false
    }
   },
   "outputs": [],
   "source": [
    "pic = open('xylene_isomers.pickle', 'wb')\n",
    "pickle.dump(xylene_isomers, pic)\n",
    "pic.close()"
   ]
  },
  {
   "cell_type": "markdown",
   "id": "specified-order",
   "metadata": {
    "deletable": false,
    "editable": false,
    "nbgrader": {
     "cell_type": "markdown",
     "checksum": "89c415a7c050e7b4442a33bc140261c5",
     "grade": false,
     "grade_id": "cell-eb0eaf44d08a78bf",
     "locked": true,
     "schema_version": 3,
     "solution": false,
     "task": false
    }
   },
   "source": [
    "(f) Unpickle this file as `xylene_isomers3`."
   ]
  },
  {
   "cell_type": "code",
   "execution_count": 95,
   "id": "occupational-jamaica",
   "metadata": {
    "deletable": false,
    "nbgrader": {
     "cell_type": "code",
     "checksum": "5630f0393ca7916b54f0601e460c72ba",
     "grade": false,
     "grade_id": "cell-dde568c125cd5488",
     "locked": false,
     "schema_version": 3,
     "solution": true,
     "task": false
    }
   },
   "outputs": [
    {
     "data": {
      "text/plain": [
       "{(1, 2): 'orthoxylene', (1, 3): 'metaxylene', (1, 4): 'paraxylene'}"
      ]
     },
     "execution_count": 95,
     "metadata": {},
     "output_type": "execute_result"
    }
   ],
   "source": [
    "# YOUR CODE HERE\n",
    "pic2 = open('xylene_isomers.pickle', 'rb')\n",
    "xylene_isomers3 = pickle.load(pic2)\n",
    "pic.close()\n",
    "\n",
    "xylene_isomers3"
   ]
  },
  {
   "cell_type": "code",
   "execution_count": 96,
   "id": "coral-intention",
   "metadata": {
    "deletable": false,
    "editable": false,
    "nbgrader": {
     "cell_type": "code",
     "checksum": "2b76c9ee3f997d35ad654977ba8f22bd",
     "grade": true,
     "grade_id": "cell-72571ecba9ebed63",
     "locked": true,
     "points": 1,
     "schema_version": 3,
     "solution": false,
     "task": false
    }
   },
   "outputs": [
    {
     "name": "stdout",
     "output_type": "stream",
     "text": [
      "xylene_isomers3 is correct\n",
      "Test passed!\n"
     ]
    },
    {
     "data": {
      "text/plain": [
       "1"
      ]
     },
     "execution_count": 96,
     "metadata": {},
     "output_type": "execute_result"
    }
   ],
   "source": [
    "# 1 Mark\n",
    "# Do not try to delete this cell\n",
    "# Run this cell for grading\n",
    "_globals = globals()\n",
    "question4f(_globals)"
   ]
  },
  {
   "cell_type": "markdown",
   "id": "anticipated-senior",
   "metadata": {
    "deletable": false,
    "editable": false,
    "nbgrader": {
     "cell_type": "markdown",
     "checksum": "80a6e57efd2b2bd0ae4ebc9bf3a159a8",
     "grade": false,
     "grade_id": "cell-14c498f4fa1372ac",
     "locked": true,
     "schema_version": 3,
     "solution": false,
     "task": false
    }
   },
   "source": [
    "(g) Pickle the `cos` function from `math`, and unpickle it as `new_cos`. Test it."
   ]
  },
  {
   "cell_type": "code",
   "execution_count": 99,
   "id": "earlier-ownership",
   "metadata": {
    "deletable": false,
    "nbgrader": {
     "cell_type": "code",
     "checksum": "f7b63a1c917730059f5620f09cc3fa87",
     "grade": false,
     "grade_id": "cell-b67b7fd7dda67d98",
     "locked": false,
     "schema_version": 3,
     "solution": true,
     "task": false
    }
   },
   "outputs": [
    {
     "name": "stdout",
     "output_type": "stream",
     "text": [
      "-1.0\n"
     ]
    }
   ],
   "source": [
    "#pic = open('cos.pickle', 'wb')\n",
    "#pickle.dump(math.cos, pic)\n",
    "#pic.close\n",
    "\n",
    "pic = open('cos.pickle', 'rb')\n",
    "new_cos = pickle.load(pic)\n",
    "pic.close()\n",
    "\n",
    "\n",
    "print(new_cos(math.pi))"
   ]
  },
  {
   "cell_type": "code",
   "execution_count": 100,
   "id": "convenient-celtic",
   "metadata": {
    "deletable": false,
    "editable": false,
    "nbgrader": {
     "cell_type": "code",
     "checksum": "d3779351b7458970fe060db016f6f66f",
     "grade": true,
     "grade_id": "cell-581fb821b12fb1c7",
     "locked": true,
     "points": 1,
     "schema_version": 3,
     "solution": false,
     "task": false
    }
   },
   "outputs": [
    {
     "name": "stdout",
     "output_type": "stream",
     "text": [
      "new_cos is correct\n",
      "Test passed!\n"
     ]
    },
    {
     "data": {
      "text/plain": [
       "1"
      ]
     },
     "execution_count": 100,
     "metadata": {},
     "output_type": "execute_result"
    }
   ],
   "source": [
    "# 1 Mark\n",
    "# Do not try to delete this cell\n",
    "# Run this cell for grading\n",
    "_globals = globals()\n",
    "question4g(_globals)"
   ]
  },
  {
   "cell_type": "markdown",
   "id": "brown-spring",
   "metadata": {
    "deletable": false,
    "editable": false,
    "nbgrader": {
     "cell_type": "markdown",
     "checksum": "2202479328b414b9666878efff511297",
     "grade": false,
     "grade_id": "cell-aaa1a259a8df0858",
     "locked": true,
     "schema_version": 3,
     "solution": false,
     "task": false
    }
   },
   "source": [
    "(h) Pickle your `power_set` function, and unpickle it as `new_power_set`. Test it."
   ]
  },
  {
   "cell_type": "code",
   "execution_count": null,
   "id": "developed-mystery",
   "metadata": {
    "deletable": false,
    "nbgrader": {
     "cell_type": "code",
     "checksum": "6f8bf80d4ded529c1bba1177705d661f",
     "grade": false,
     "grade_id": "cell-b05283bfcdf07066",
     "locked": false,
     "schema_version": 3,
     "solution": true,
     "task": false
    }
   },
   "outputs": [],
   "source": [
    "# YOUR CODE HERE\n",
    "raise NotImplementedError()\n",
    "\n",
    "print(new_power_set({0, 1, 2}))"
   ]
  },
  {
   "cell_type": "code",
   "execution_count": null,
   "id": "fossil-threat",
   "metadata": {
    "deletable": false,
    "editable": false,
    "nbgrader": {
     "cell_type": "code",
     "checksum": "4f58366c507c4f5bd823384e8515c4e6",
     "grade": true,
     "grade_id": "cell-e2b127a78684912f",
     "locked": true,
     "points": 1,
     "schema_version": 3,
     "solution": false,
     "task": false
    }
   },
   "outputs": [],
   "source": [
    "# 1 Mark\n",
    "# Do not try to delete this cell\n",
    "# Run this cell for grading\n",
    "_globals = globals()\n",
    "question4h(_globals)"
   ]
  },
  {
   "cell_type": "markdown",
   "id": "nuclear-substitute",
   "metadata": {
    "deletable": false,
    "editable": false,
    "nbgrader": {
     "cell_type": "markdown",
     "checksum": "2c711829877e574b0ad91c01661334d6",
     "grade": false,
     "grade_id": "cell-e2817f77dae68bb4",
     "locked": true,
     "schema_version": 3,
     "solution": false,
     "task": false
    }
   },
   "source": [
    "## Question 5\n",
    "\n",
    "Here is a listing of the `OperatorExpression` class we developed in the video lectures and the course notes, complete with the methods `__init__`, `prefixForm`, `infixOperator`, `infixForm`, `subs` and `evaluate`."
   ]
  },
  {
   "cell_type": "code",
   "execution_count": 4,
   "id": "cheap-laser",
   "metadata": {
    "deletable": false,
    "editable": false,
    "nbgrader": {
     "cell_type": "code",
     "checksum": "2649466bf90093de8ee3d4a2b5830d8c",
     "grade": false,
     "grade_id": "cell-6fdc1c27c2d2bf0d",
     "locked": true,
     "schema_version": 3,
     "solution": false,
     "task": false
    }
   },
   "outputs": [],
   "source": [
    "class OperatorExpression(object):\n",
    "    \"\"\"Expression of the form a <operator> b, where <operator> is\n",
    "    +, -, *, /, //, ** or %\"\"\"\n",
    "    \n",
    "    def __init__(self, root, left, right):\n",
    "        self.contents = (root, left, right)\n",
    "        \n",
    "    def prefixForm(self):\n",
    "        \"Method: returns string in the form root(left, right)\"\n",
    "        root, left, right = self.contents[0], self.contents[1], \\\n",
    "self.contents[2]\n",
    "        return root+'('+str(left)+', '+str(right)+')'\n",
    "    \n",
    "    def infixOperator(self):\n",
    "        \"\"\"Method: returns the infix operator \n",
    "        associated with the root node\"\"\"\n",
    "        root = self.contents[0]\n",
    "        if root == 'plus':\n",
    "            return '+'\n",
    "        elif root == 'subtract':\n",
    "            return '-'\n",
    "        elif root == 'times':\n",
    "            return '*'\n",
    "        elif root == 'divide':\n",
    "            return '/'\n",
    "        elif root == 'intdivide':\n",
    "            return '//'\n",
    "        elif root == 'power':\n",
    "            return '**'\n",
    "        elif root == 'mod':\n",
    "            return '%'\n",
    "    \n",
    "    def infixForm(self):\n",
    "        \"\"\"Method: returns string in the form (left) op (right) where \n",
    "        op is the infix operator associated with the root node\"\"\"\n",
    "        root, left, right = self.contents[0], self.contents[1], \\\n",
    "self.contents[2]\n",
    "        return \\\n",
    "    '('+str(left)+') '+self.infixOperator()+' ('+str(right)+')'\n",
    "    \n",
    "    def subs(self, var, val):\n",
    "        \"\"\"Method: returns an OperatorExpression \n",
    "        with var substituted for val\"\"\"\n",
    "        root, left, right = self.contents[0], self.contents[1], \\\n",
    "self.contents[2]\n",
    "        if left == var and right == var:\n",
    "            # variable present on both sides of the expression\n",
    "            return OperatorExpression(root, val, val)\n",
    "        elif left == var:\n",
    "            # variable present on the left hand side only\n",
    "            return OperatorExpression(root, val, right)\n",
    "        elif right == var:\n",
    "            # variable present on the right hand side only\n",
    "            return OperatorExpression(root, left, val)\n",
    "        else:\n",
    "            # variable not present\n",
    "            return self\n",
    "\n",
    "    def evaluate(self):\n",
    "        \"Method: returns the numerical value of an OperatorExpression\"\n",
    "        root, left, right = self.contents[0], self.contents[1], \\\n",
    "self.contents[2]\n",
    "        if root == 'plus':\n",
    "            return left + right\n",
    "        elif root == 'subtract':\n",
    "            return left - right\n",
    "        elif root == 'times':\n",
    "            return left * right\n",
    "        elif root == 'divide':\n",
    "            return left / right\n",
    "        elif root == 'intdivide':\n",
    "            return left // right\n",
    "        elif root == 'power':\n",
    "            return left ** right\n",
    "        elif root == 'mod':\n",
    "            return left % right"
   ]
  },
  {
   "cell_type": "markdown",
   "id": "adjusted-rider",
   "metadata": {
    "deletable": false,
    "editable": false,
    "nbgrader": {
     "cell_type": "markdown",
     "checksum": "8ba21e48bc24639939f9b2829f5906e7",
     "grade": false,
     "grade_id": "cell-b7c67e8a76c0255f",
     "locked": true,
     "schema_version": 3,
     "solution": false,
     "task": false
    }
   },
   "source": [
    "### (i)\n",
    "\n",
    "(a) Create an `OperatorExpression`, `expr1`, that represents the expression `3 ** x`."
   ]
  },
  {
   "cell_type": "code",
   "execution_count": 5,
   "id": "approximate-melbourne",
   "metadata": {
    "deletable": false,
    "nbgrader": {
     "cell_type": "code",
     "checksum": "2b774cd2c75caaabab53152a99e82b18",
     "grade": false,
     "grade_id": "cell-746b8f65f0245fc9",
     "locked": false,
     "schema_version": 3,
     "solution": true,
     "task": false
    }
   },
   "outputs": [
    {
     "name": "stdout",
     "output_type": "stream",
     "text": [
      "('power', 3, 'x')\n"
     ]
    }
   ],
   "source": [
    "# YOUR CODE HERE\n",
    "expr1 = OperatorExpression('power', 3, 'x')\n",
    "\n",
    "print(expr1.contents)"
   ]
  },
  {
   "cell_type": "code",
   "execution_count": 6,
   "id": "silver-transmission",
   "metadata": {
    "deletable": false,
    "editable": false,
    "nbgrader": {
     "cell_type": "code",
     "checksum": "88b6e0b5e348e708ea0c8efefed9c3be",
     "grade": true,
     "grade_id": "cell-da391cca9a9030bf",
     "locked": true,
     "points": 1,
     "schema_version": 3,
     "solution": false,
     "task": false
    }
   },
   "outputs": [
    {
     "name": "stdout",
     "output_type": "stream",
     "text": [
      "expr1 is correct\n",
      "Test passed!\n"
     ]
    },
    {
     "data": {
      "text/plain": [
       "1"
      ]
     },
     "execution_count": 6,
     "metadata": {},
     "output_type": "execute_result"
    }
   ],
   "source": [
    "# 1 Mark\n",
    "# Do not try to delete this cell\n",
    "# Run this cell for grading\n",
    "_globals = globals()\n",
    "question5ia(_globals)"
   ]
  },
  {
   "cell_type": "markdown",
   "id": "progressive-bacon",
   "metadata": {
    "deletable": false,
    "editable": false,
    "nbgrader": {
     "cell_type": "markdown",
     "checksum": "307b5de5aea7477e76f375b0321b4700",
     "grade": false,
     "grade_id": "cell-bcecae72ae68f953",
     "locked": true,
     "schema_version": 3,
     "solution": false,
     "task": false
    }
   },
   "source": [
    "(b) Using the `subs` method, create an `OperatorExpression`, `expr1subs`, with the value 6 substituted for `x`."
   ]
  },
  {
   "cell_type": "code",
   "execution_count": 7,
   "id": "hidden-representation",
   "metadata": {
    "deletable": false,
    "nbgrader": {
     "cell_type": "code",
     "checksum": "7f407e06557008d572b1742151a7a5df",
     "grade": false,
     "grade_id": "cell-95c4a6334c2a2645",
     "locked": false,
     "schema_version": 3,
     "solution": true,
     "task": false
    }
   },
   "outputs": [
    {
     "name": "stdout",
     "output_type": "stream",
     "text": [
      "('power', 3, 6)\n"
     ]
    }
   ],
   "source": [
    "# YOUR CODE HERE\n",
    "expr1subs = expr1.subs('x', 6)\n",
    "\n",
    "print(expr1subs.contents)"
   ]
  },
  {
   "cell_type": "code",
   "execution_count": 8,
   "id": "homeless-bones",
   "metadata": {
    "deletable": false,
    "editable": false,
    "nbgrader": {
     "cell_type": "code",
     "checksum": "d2913f2466aa5de7f4ccfa725b3a7a41",
     "grade": true,
     "grade_id": "cell-18f685a2a1646e88",
     "locked": true,
     "points": 1,
     "schema_version": 3,
     "solution": false,
     "task": false
    }
   },
   "outputs": [
    {
     "name": "stdout",
     "output_type": "stream",
     "text": [
      "expr1subs is correct\n",
      "Test passed!\n"
     ]
    },
    {
     "data": {
      "text/plain": [
       "1"
      ]
     },
     "execution_count": 8,
     "metadata": {},
     "output_type": "execute_result"
    }
   ],
   "source": [
    "# 1 Mark\n",
    "# Do not try to delete this cell\n",
    "# Run this cell for grading\n",
    "_globals = globals()\n",
    "question5ib(_globals)"
   ]
  },
  {
   "cell_type": "markdown",
   "id": "higher-rover",
   "metadata": {
    "deletable": false,
    "editable": false,
    "nbgrader": {
     "cell_type": "markdown",
     "checksum": "1f8b9bdf80f977ff955842649b784985",
     "grade": false,
     "grade_id": "cell-ab02b48e52122d07",
     "locked": true,
     "schema_version": 3,
     "solution": false,
     "task": false
    }
   },
   "source": [
    "(c) Using the `evaluate` method, calculate the value of `expr1subs`, `val1`."
   ]
  },
  {
   "cell_type": "code",
   "execution_count": 9,
   "id": "offshore-portuguese",
   "metadata": {
    "deletable": false,
    "nbgrader": {
     "cell_type": "code",
     "checksum": "ecf628db15df564e646119d2068be5d9",
     "grade": false,
     "grade_id": "cell-4ebe94fc246285a9",
     "locked": false,
     "schema_version": 3,
     "solution": true,
     "task": false
    }
   },
   "outputs": [
    {
     "name": "stdout",
     "output_type": "stream",
     "text": [
      "729\n"
     ]
    }
   ],
   "source": [
    "# YOUR CODE HERE\n",
    "val1 = expr1subs.evaluate()\n",
    "\n",
    "print(val1)"
   ]
  },
  {
   "cell_type": "code",
   "execution_count": 10,
   "id": "interracial-detector",
   "metadata": {
    "deletable": false,
    "editable": false,
    "nbgrader": {
     "cell_type": "code",
     "checksum": "b3043d6e82f9628024cb0bddb99249c1",
     "grade": true,
     "grade_id": "cell-1e4d75a29f02f49f",
     "locked": true,
     "points": 1,
     "schema_version": 3,
     "solution": false,
     "task": false
    }
   },
   "outputs": [
    {
     "name": "stdout",
     "output_type": "stream",
     "text": [
      "val1 is correct\n",
      "Test passed!\n"
     ]
    },
    {
     "data": {
      "text/plain": [
       "1"
      ]
     },
     "execution_count": 10,
     "metadata": {},
     "output_type": "execute_result"
    }
   ],
   "source": [
    "# 1 Mark\n",
    "# Do not try to delete this cell\n",
    "# Run this cell for grading\n",
    "_globals = globals()\n",
    "question5ic(_globals)"
   ]
  },
  {
   "cell_type": "markdown",
   "id": "distinct-hacker",
   "metadata": {
    "deletable": false,
    "editable": false,
    "nbgrader": {
     "cell_type": "markdown",
     "checksum": "eae3178786e3ba74fb2b1474d4e6172b",
     "grade": false,
     "grade_id": "cell-ae3cc5c55f3ffb3e",
     "locked": true,
     "schema_version": 3,
     "solution": false,
     "task": false
    }
   },
   "source": [
    "Here is a listing, so far, of the `ExpressionTree` class that we began developing in the video lectures and the course notes, complete with the `__init__` and `prefixForm` methods."
   ]
  },
  {
   "cell_type": "code",
   "execution_count": 11,
   "id": "governmental-popularity",
   "metadata": {
    "deletable": false,
    "editable": false,
    "nbgrader": {
     "cell_type": "code",
     "checksum": "32323c6e5f4ea1873af0879dbb638e34",
     "grade": false,
     "grade_id": "cell-0a0aeba90389304a",
     "locked": true,
     "schema_version": 3,
     "solution": false,
     "task": false
    }
   },
   "outputs": [],
   "source": [
    "class ExpressionTree(OperatorExpression):\n",
    "    \"A compound tree built from OperatorExpressions\"\n",
    "    \n",
    "    def __init__(self, root, left=None, right=None):\n",
    "        if left==None or right==None:\n",
    "            # default: childless tree, contents consist of a 1-tuple\n",
    "            self.contents = (root,)\n",
    "        else:\n",
    "            # parent tree, contents consist of a 3-tuple\n",
    "            self.contents = (root, left, right)\n",
    "\n",
    "\n",
    "    def prefixForm(self):\n",
    "        \"Method: returns string consisting of nested expressions\"\n",
    "        if len(self.contents) == 1:\n",
    "            # childless tree: return the root node as a string\n",
    "            return str(self.contents[0])\n",
    "        else:\n",
    "            # parent tree: recurse down the structure\n",
    "            root, left, right = self.contents[0], self.contents[1], \\\n",
    "self.contents[2]\n",
    "            return \\\n",
    "        root+'('+left.prefixForm()+', '+right.prefixForm()+')'    "
   ]
  },
  {
   "cell_type": "markdown",
   "id": "structured-musical",
   "metadata": {
    "deletable": false,
    "editable": false,
    "nbgrader": {
     "cell_type": "markdown",
     "checksum": "02b1282dce82d0ed2a6f116cd57d45c4",
     "grade": false,
     "grade_id": "cell-8b87fd0725790f40",
     "locked": true,
     "schema_version": 3,
     "solution": false,
     "task": false
    }
   },
   "source": [
    "### (ii)\n",
    "\n",
    "(a) Set up childless `ExpressionTrees` `expr1`, `expr2`, `expr3` and `expr4`, representing `5`, `3`, `x` and `y`."
   ]
  },
  {
   "cell_type": "code",
   "execution_count": 12,
   "id": "aggressive-native",
   "metadata": {
    "deletable": false,
    "nbgrader": {
     "cell_type": "code",
     "checksum": "dd01aa34258112148b01477cf54d67df",
     "grade": false,
     "grade_id": "cell-70f6484d74613e22",
     "locked": false,
     "schema_version": 3,
     "solution": true,
     "task": false
    }
   },
   "outputs": [
    {
     "name": "stdout",
     "output_type": "stream",
     "text": [
      "(5,)\n",
      "(3,)\n",
      "('x',)\n",
      "('y',)\n"
     ]
    }
   ],
   "source": [
    "# YOUR CODE HERE\n",
    "expr1 = ExpressionTree(5)\n",
    "expr2 = ExpressionTree(3)\n",
    "expr3 = ExpressionTree('x')\n",
    "expr4 = ExpressionTree('y')\n",
    "\n",
    "print(expr1.contents)\n",
    "print(expr2.contents)\n",
    "print(expr3.contents)\n",
    "print(expr4.contents)"
   ]
  },
  {
   "cell_type": "code",
   "execution_count": 13,
   "id": "dirty-xerox",
   "metadata": {
    "deletable": false,
    "editable": false,
    "nbgrader": {
     "cell_type": "code",
     "checksum": "3007b91b3b180d12dee3a2c24a030e86",
     "grade": true,
     "grade_id": "cell-52e08683922c4c9a",
     "locked": true,
     "points": 1,
     "schema_version": 3,
     "solution": false,
     "task": false
    }
   },
   "outputs": [
    {
     "name": "stdout",
     "output_type": "stream",
     "text": [
      "expr1 is correct\n",
      "expr2 is correct\n",
      "expr3 is correct\n",
      "expr4 is correct\n",
      "Test passed!\n"
     ]
    },
    {
     "data": {
      "text/plain": [
       "1"
      ]
     },
     "execution_count": 13,
     "metadata": {},
     "output_type": "execute_result"
    }
   ],
   "source": [
    "# 1 Mark\n",
    "# Do not try to delete this cell\n",
    "# Run this cell for grading\n",
    "_globals = globals()\n",
    "question5iia(_globals)"
   ]
  },
  {
   "cell_type": "markdown",
   "id": "given-boxing",
   "metadata": {
    "deletable": false,
    "editable": false,
    "nbgrader": {
     "cell_type": "markdown",
     "checksum": "0bed4bc8d8c157c1cc21105fec975b52",
     "grade": false,
     "grade_id": "cell-25c1ae91fabb64a9",
     "locked": true,
     "schema_version": 3,
     "solution": false,
     "task": false
    }
   },
   "source": [
    "(b) Set up `expr5`, `expr6` and `expr7`, representing, respectively, `3 ** x`, `5 * (3 ** x)` and `5 * (3 ** x) - y`. Test them using the `prefixForm` method."
   ]
  },
  {
   "cell_type": "code",
   "execution_count": 14,
   "id": "vanilla-auckland",
   "metadata": {
    "deletable": false,
    "nbgrader": {
     "cell_type": "code",
     "checksum": "a7cd1f7a48f14770e0db62392cfef4d5",
     "grade": false,
     "grade_id": "cell-ef9201392d68ab75",
     "locked": false,
     "schema_version": 3,
     "solution": true,
     "task": false
    }
   },
   "outputs": [
    {
     "name": "stdout",
     "output_type": "stream",
     "text": [
      "power(3, x)\n",
      "times(5, power(3, x))\n",
      "subtract(times(5, power(3, x)), y)\n"
     ]
    }
   ],
   "source": [
    "# YOUR CODE HERE\n",
    "expr5 = ExpressionTree('power', expr2, expr3)\n",
    "expr6 = ExpressionTree('times', expr1, expr5)\n",
    "expr7 = ExpressionTree('subtract', expr6, expr4)\n",
    "\n",
    "print(expr5.prefixForm())\n",
    "print(expr6.prefixForm())\n",
    "print(expr7.prefixForm())"
   ]
  },
  {
   "cell_type": "code",
   "execution_count": 15,
   "id": "optical-occurrence",
   "metadata": {
    "deletable": false,
    "editable": false,
    "nbgrader": {
     "cell_type": "code",
     "checksum": "14105d4854bb99dce586ba307c430a95",
     "grade": true,
     "grade_id": "cell-88941c22c45174da",
     "locked": true,
     "points": 3,
     "schema_version": 3,
     "solution": false,
     "task": false
    }
   },
   "outputs": [
    {
     "name": "stdout",
     "output_type": "stream",
     "text": [
      "expr5 is correct\n",
      "expr6 is correct\n",
      "expr7 is correct\n",
      "\n",
      "3 out of 3\n"
     ]
    },
    {
     "data": {
      "text/plain": [
       "3"
      ]
     },
     "execution_count": 15,
     "metadata": {},
     "output_type": "execute_result"
    }
   ],
   "source": [
    "# 3 Marks\n",
    "# Do not try to delete this cell\n",
    "# Run this cell for grading\n",
    "_globals = globals()\n",
    "question5iib(_globals)"
   ]
  },
  {
   "cell_type": "markdown",
   "id": "figured-canyon",
   "metadata": {
    "deletable": false,
    "editable": false,
    "nbgrader": {
     "cell_type": "markdown",
     "checksum": "176b21c3e8647cdc895512e2c2b5264d",
     "grade": false,
     "grade_id": "cell-8f65780119ce474a",
     "locked": true,
     "schema_version": 3,
     "solution": false,
     "task": false
    }
   },
   "source": [
    "### (iii)\n",
    "\n",
    "The next few questions are fairly challenging, I think.\n",
    "\n",
    "(a) Write an `infixForm` method for `ExpressionTree`, and add it to the code for this class (it will need to be in the same cell; apologies for any copy-pasting that may be necessary!) A recursive implementation may work well here.\n",
    "\n",
    "Redefine `expr1` to `expr7` using your new class (you'll need to do this, or they'll still be instances of the old one).\n",
    "\n",
    "Test your new function on `expr5`, `expr6` and `expr7`: you should get, respectively\n",
    "```\n",
    "(3) ** (x)\n",
    "(5) * ((3) ** (x))\n",
    "((5) * ((3) ** (x))) - (y)\n",
    "```"
   ]
  },
  {
   "cell_type": "code",
   "execution_count": 21,
   "id": "collected-frost",
   "metadata": {
    "deletable": false,
    "nbgrader": {
     "cell_type": "code",
     "checksum": "c41e485ac83bfda9ad130270cfd307c7",
     "grade": false,
     "grade_id": "cell-0c1b5f6c27714822",
     "locked": false,
     "schema_version": 3,
     "solution": true,
     "task": false
    }
   },
   "outputs": [],
   "source": [
    "# cell for the new class, complete with the infixForm method\n",
    "class ExpressionTree(OperatorExpression):\n",
    "    # YOUR CODE HERE\n",
    "    \"A compound tree built from OperatorExpressions\"\n",
    "    \n",
    "    def __init__(self, root, left=None, right=None):\n",
    "        if left==None or right==None:\n",
    "            # default: childless tree, contents consist of a 1-tuple\n",
    "            self.contents = (root,)\n",
    "        else:\n",
    "            # parent tree, contents consist of a 3-tuple\n",
    "            self.contents = (root, left, right)\n",
    "\n",
    "\n",
    "    def prefixForm(self):\n",
    "        \"Method: returns string consisting of nested expressions\"\n",
    "        if len(self.contents) == 1:\n",
    "            # childless tree: return the root node as a string\n",
    "            return str(self.contents[0])\n",
    "        else:\n",
    "            # parent tree: recurse down the structure\n",
    "            root, left, right = self.contents[0], self.contents[1], \\\n",
    "self.contents[2]\n",
    "            return \\\n",
    "        root+'('+left.prefixForm()+', '+right.prefixForm()+')'  \n",
    "        \n",
    "    def infixForm(self):\n",
    "        if len(self.contents) == 1:\n",
    "            return self.contents[0]\n",
    "        else:\n",
    "            root, left, right = self.contents[0], self.contents[1], self.contents[2]\n",
    "            return \"({0}) {1} {2}\".format(left.infixForm(), self.infixOperator(), right.infixForm())"
   ]
  },
  {
   "cell_type": "code",
   "execution_count": 22,
   "id": "downtown-enemy",
   "metadata": {
    "deletable": false,
    "nbgrader": {
     "cell_type": "code",
     "checksum": "7df5a79a85c12189ed81c8464382515f",
     "grade": false,
     "grade_id": "cell-c4ca5c62b171de47",
     "locked": false,
     "schema_version": 3,
     "solution": true,
     "task": false
    }
   },
   "outputs": [
    {
     "name": "stdout",
     "output_type": "stream",
     "text": [
      "(3) ** x\n",
      "(5) * (3) ** x\n",
      "((5) * (3) ** x) - y\n"
     ]
    }
   ],
   "source": [
    "# cell for testing\n",
    "\n",
    "# YOUR CODE HERE\n",
    "expr1 = ExpressionTree(5)\n",
    "expr2 = ExpressionTree(3)\n",
    "expr3 = ExpressionTree('x')\n",
    "expr4 = ExpressionTree('y')\n",
    "expr5 = ExpressionTree('power', expr2, expr3)\n",
    "expr6 = ExpressionTree('times', expr1, expr5)\n",
    "expr7 = ExpressionTree('subtract', expr6, expr4)\n",
    "\n",
    "\n",
    "print(expr5.infixForm())\n",
    "print(expr6.infixForm())\n",
    "print(expr7.infixForm())"
   ]
  },
  {
   "cell_type": "code",
   "execution_count": 23,
   "id": "liberal-suspect",
   "metadata": {
    "deletable": false,
    "editable": false,
    "nbgrader": {
     "cell_type": "code",
     "checksum": "6bd27e598cb5206872b3e130a030e336",
     "grade": true,
     "grade_id": "cell-576bdd24398a0e5c",
     "locked": true,
     "points": 4,
     "schema_version": 3,
     "solution": false,
     "task": false
    }
   },
   "outputs": [
    {
     "name": "stdout",
     "output_type": "stream",
     "text": [
      "ExpressionTree is set up correctly\n",
      "expr5.infixForm() does not seem to return the correct output\n",
      "expr6.infixForm() does not seem to return the correct output\n",
      "expr7.infixForm() does not seem to return the correct output\n",
      "\n",
      "1 out of 4\n"
     ]
    },
    {
     "data": {
      "text/plain": [
       "1"
      ]
     },
     "execution_count": 23,
     "metadata": {},
     "output_type": "execute_result"
    }
   ],
   "source": [
    "# 4 Marks\n",
    "# Do not try to delete this cell\n",
    "# Run this cell for grading\n",
    "_globals = globals()\n",
    "question5iiia(_globals)"
   ]
  },
  {
   "cell_type": "markdown",
   "id": "experienced-penguin",
   "metadata": {
    "deletable": false,
    "editable": false,
    "nbgrader": {
     "cell_type": "markdown",
     "checksum": "3200fb4a6959e23c3c5bcb8fae33b43a",
     "grade": false,
     "grade_id": "cell-c885c0a62f96c6a7",
     "locked": true,
     "schema_version": 3,
     "solution": false,
     "task": false
    }
   },
   "source": [
    "(b) Write a `subs` method (probably recursive?) for `ExpressionTree`; again, you'll need to have everything in the same cell.\n",
    "\n",
    "Redefine `expr1` to `expr7` again (sorry!), and test your function by substituting $x=6$ into `expr5` and `expr6`, and $x=6,y=40$ into `expr7`."
   ]
  },
  {
   "cell_type": "code",
   "execution_count": 28,
   "id": "uniform-powder",
   "metadata": {
    "deletable": false,
    "nbgrader": {
     "cell_type": "code",
     "checksum": "fa68492493a657102c0e02acb5f4b22a",
     "grade": false,
     "grade_id": "cell-b253d76b07806f72",
     "locked": false,
     "schema_version": 3,
     "solution": true,
     "task": false
    }
   },
   "outputs": [],
   "source": [
    "# cell for the new class, complete with the infixForm \n",
    "# and subs methods\n",
    "class ExpressionTree(OperatorExpression):\n",
    "    # YOUR CODE HERE\n",
    "    \"A compound tree built from OperatorExpressions\"\n",
    "    \n",
    "    def __init__(self, root, left=None, right=None):\n",
    "        if left==None or right==None:\n",
    "            # default: childless tree, contents consist of a 1-tuple\n",
    "            self.contents = (root,)\n",
    "        else:\n",
    "            # parent tree, contents consist of a 3-tuple\n",
    "            self.contents = (root, left, right)\n",
    "\n",
    "\n",
    "    def prefixForm(self):\n",
    "        \"Method: returns string consisting of nested expressions\"\n",
    "        if len(self.contents) == 1:\n",
    "            # childless tree: return the root node as a string\n",
    "            return str(self.contents[0])\n",
    "        else:\n",
    "            # parent tree: recurse down the structure\n",
    "            root, left, right = self.contents[0], self.contents[1], \\\n",
    "self.contents[2]\n",
    "            return \\\n",
    "        root+'('+left.prefixForm()+', '+right.prefixForm()+')'  \n",
    "        \n",
    "    def infixForm(self):\n",
    "        \"Instance method: returns string representing the entire expression\"\n",
    "        if len(self.contents) == 1:\n",
    "            return self.contents[0]\n",
    "        else:\n",
    "            root, left, right = self.contents[0], self.contents[1], self.contents[2]\n",
    "            return \"({0}){1}{2}\".format(left.infixForm(), self.infixOperator(), right.infixForm())\n",
    "    \n",
    "    def subs(self, var, val):\n",
    "        \"\"\"\n",
    "        Returns Expression Tree, with var subbed with val\n",
    "        \"\"\"\n",
    "        if len(self.contents) == 1:\n",
    "            if self.contents[0] == var:\n",
    "                return ExpressionTree(val)\n",
    "            else:\n",
    "                return self\n",
    "        else:\n",
    "            root, left, right = self.contents[0], self.contents[1], self.contents[2]\n",
    "            return ExpressionTree(root, left.subs(var, val), right.subs(var, val))\n",
    "                \n",
    "        \n",
    "        "
   ]
  },
  {
   "cell_type": "code",
   "execution_count": 29,
   "id": "harmful-company",
   "metadata": {
    "deletable": false,
    "nbgrader": {
     "cell_type": "code",
     "checksum": "3bbd1188bd0e7b22b0581b913771a08d",
     "grade": false,
     "grade_id": "cell-0930bad21089cd7f",
     "locked": false,
     "schema_version": 3,
     "solution": true,
     "task": false
    }
   },
   "outputs": [
    {
     "name": "stdout",
     "output_type": "stream",
     "text": [
      "(3)**6\n",
      "(5)*(3)**6\n",
      "((5)*(3)**6)-40\n"
     ]
    }
   ],
   "source": [
    "# cell for testing\n",
    "\n",
    "expr1 = ExpressionTree(5)\n",
    "expr2 = ExpressionTree(3)\n",
    "expr3 = ExpressionTree('x')\n",
    "expr4 = ExpressionTree('y')\n",
    "expr5 = ExpressionTree('power', expr2, expr3)\n",
    "expr6 = ExpressionTree('times', expr1, expr5)\n",
    "expr7 = ExpressionTree('subtract', expr6, expr4)\n",
    "\n",
    "\n",
    "print(expr5.subs('x',6).infixForm())\n",
    "print(expr6.subs('x',6).infixForm())\n",
    "print(expr7.subs('x',6).subs('y',40).infixForm())"
   ]
  },
  {
   "cell_type": "code",
   "execution_count": 30,
   "id": "wrapped-puzzle",
   "metadata": {
    "deletable": false,
    "editable": false,
    "nbgrader": {
     "cell_type": "code",
     "checksum": "59e7db47e46769ceb59125d2f0aeae43",
     "grade": true,
     "grade_id": "cell-bf57417713f6075a",
     "locked": true,
     "points": 4,
     "schema_version": 3,
     "solution": false,
     "task": false
    }
   },
   "outputs": [
    {
     "name": "stdout",
     "output_type": "stream",
     "text": [
      "ExpressionTree is set up correctly\n",
      "\n",
      "expr5.subs('x',6).infixForm() does not seem to return the correct output\n",
      "\n",
      "expr6.subs('x',6).infixForm() does not seem to return the correct output\n",
      "\n",
      "expr7.subs('x',6).subs('y',40).infixForm() does not seem to return the correct output\n",
      "\n",
      "1 out of 4\n"
     ]
    },
    {
     "data": {
      "text/plain": [
       "1"
      ]
     },
     "execution_count": 30,
     "metadata": {},
     "output_type": "execute_result"
    }
   ],
   "source": [
    "# 4 Marks\n",
    "# Do not try to delete this cell\n",
    "# Run this cell for grading\n",
    "_globals = globals()\n",
    "question5iiib(_globals)"
   ]
  },
  {
   "cell_type": "markdown",
   "id": "listed-venue",
   "metadata": {
    "deletable": false,
    "editable": false,
    "nbgrader": {
     "cell_type": "markdown",
     "checksum": "6198462b9c530d2e12d6d00008aa7272",
     "grade": false,
     "grade_id": "cell-d7a74d45f5eee355",
     "locked": true,
     "schema_version": 3,
     "solution": false,
     "task": false
    }
   },
   "source": [
    "(c) Write an `evaluate` method (probably recursive?) for `ExpressionTree`; again, you'll need to have everything in the same cell.\n",
    "\n",
    "Redefine `expr1` to `expr7` again (sorry!), and test your function by substituting $x=6$ into `expr5` and `expr6`, and $x=6,y=40$ into `expr7`, then calculating the numerical values."
   ]
  },
  {
   "cell_type": "code",
   "execution_count": 42,
   "id": "expensive-albania",
   "metadata": {
    "deletable": false,
    "nbgrader": {
     "cell_type": "code",
     "checksum": "7de211c6f1c36b948abc83bca75a463a",
     "grade": false,
     "grade_id": "cell-a3821a25fd16fae4",
     "locked": false,
     "schema_version": 3,
     "solution": true,
     "task": false
    }
   },
   "outputs": [],
   "source": [
    "# cell for the new class, complete with the infixForm,\n",
    "# subs and evaluate methods\n",
    "class ExpressionTree(OperatorExpression):\n",
    "    # YOUR CODE HERE\n",
    "    \"A compound tree built from OperatorExpressions\"\n",
    "    \n",
    "    def __init__(self, root, left=None, right=None):\n",
    "        if left==None or right==None:\n",
    "            # default: childless tree, contents consist of a 1-tuple\n",
    "            self.contents = (root,)\n",
    "        else:\n",
    "            # parent tree, contents consist of a 3-tuple\n",
    "            self.contents = (root, left, right)\n",
    "\n",
    "\n",
    "    def prefixForm(self):\n",
    "        \"Method: returns string consisting of nested expressions\"\n",
    "        if len(self.contents) == 1:\n",
    "            # childless tree: return the root node as a string\n",
    "            return str(self.contents[0])\n",
    "        else:\n",
    "            # parent tree: recurse down the structure\n",
    "            root, left, right = self.contents[0], self.contents[1], \\\n",
    "self.contents[2]\n",
    "            return \\\n",
    "        root+'('+left.prefixForm()+', '+right.prefixForm()+')'  \n",
    "        \n",
    "    def infixForm(self):\n",
    "        \"Instance method: returns string representing the entire expression\"\n",
    "        if len(self.contents) == 1:\n",
    "            return self.contents[0]\n",
    "        else:\n",
    "            root, left, right = self.contents[0], self.contents[1], self.contents[2]\n",
    "            return \"({0}){1}{2}\".format(left.infixForm(), self.infixOperator(), right.infixForm())\n",
    "    \n",
    "    def subs(self, var, val):\n",
    "        \"\"\"\n",
    "        Returns Expression Tree, with var subbed with val\n",
    "        \"\"\"\n",
    "        if len(self.contents) == 1:\n",
    "            if self.contents[0] == var:\n",
    "                return ExpressionTree(val)\n",
    "            else:\n",
    "                return self\n",
    "        else:\n",
    "            root, left, right = self.contents[0], self.contents[1], self.contents[2]\n",
    "            return ExpressionTree(root, left.subs(var, val), right.subs(var, val))\n",
    "                \n",
    "    def evaluate(self):\n",
    "        if len(self.contents) == 1:\n",
    "            if isinstance(self.contents[0], str):\n",
    "                return eval(self.contents[0])\n",
    "            else:\n",
    "                return self.contents[0]\n",
    "        else:\n",
    "            root, left, right = self.contents[0], self.contents[1], self.contents[2]\n",
    "            if root == 'plus':\n",
    "                return left.evaluate() + right.evaluate()\n",
    "            elif root == 'subtract':\n",
    "                return left.evaluate() - right.evaluate()\n",
    "            elif root == 'times':\n",
    "                return left.evaluate() * right.evaluate()\n",
    "            elif root == 'divide':\n",
    "                return left.evaluate() / right.evaluate()\n",
    "            elif root == 'intdivide':\n",
    "                return left.evaluate // right.evaluate\n",
    "            elif root == 'power':\n",
    "                return left.evaluate() ** right.evaluate()\n",
    "            elif root == 'mod':\n",
    "                return left.evaluate() % right.evaluate()\n",
    "    "
   ]
  },
  {
   "cell_type": "code",
   "execution_count": 43,
   "id": "explicit-stable",
   "metadata": {
    "deletable": false,
    "nbgrader": {
     "cell_type": "code",
     "checksum": "107b4c9e7b013abc52b68f32afd87f57",
     "grade": false,
     "grade_id": "cell-aa2868a5f5800a77",
     "locked": false,
     "schema_version": 3,
     "solution": true,
     "task": false
    }
   },
   "outputs": [
    {
     "name": "stdout",
     "output_type": "stream",
     "text": [
      "729\n",
      "3645\n",
      "3605\n"
     ]
    }
   ],
   "source": [
    "# cell for testing\n",
    "\n",
    "### BEGIN SOLUTION\n",
    "expr1 = ExpressionTree(5)\n",
    "expr2 = ExpressionTree(3)\n",
    "expr3 = ExpressionTree('x')\n",
    "expr4 = ExpressionTree('y')\n",
    "expr5 = ExpressionTree('power', expr2, expr3)\n",
    "expr6 = ExpressionTree('times', expr1, expr5)\n",
    "expr7 = ExpressionTree('subtract', expr6, expr4)\n",
    "### END SOLUTION\n",
    "\n",
    "print(expr5.subs('x',6).evaluate())\n",
    "print(expr6.subs('x',6).evaluate())\n",
    "print(expr7.subs('x',6).subs('y',40).evaluate())"
   ]
  },
  {
   "cell_type": "code",
   "execution_count": 44,
   "id": "utility-muscle",
   "metadata": {
    "deletable": false,
    "editable": false,
    "nbgrader": {
     "cell_type": "code",
     "checksum": "c18c8a26b2186eba77198f2516ff050b",
     "grade": true,
     "grade_id": "cell-89a835da370d86d2",
     "locked": true,
     "points": 4,
     "schema_version": 3,
     "solution": false,
     "task": false
    }
   },
   "outputs": [
    {
     "name": "stdout",
     "output_type": "stream",
     "text": [
      "ExpressionTree is set up correctly\n",
      "\n",
      "expr5.subs('x',6).evaluate() returns the correct output\n",
      "expr6.subs('x',6).evaluate() returns the correct output\n",
      "expr7.subs('x',6).subs('y',40).evaluate() returns the correct output\n",
      "\n",
      "4 out of 4\n"
     ]
    },
    {
     "data": {
      "text/plain": [
       "4"
      ]
     },
     "execution_count": 44,
     "metadata": {},
     "output_type": "execute_result"
    }
   ],
   "source": [
    "# 4 Marks\n",
    "# Do not try to delete this cell\n",
    "# Run this cell for grading\n",
    "_globals = globals()\n",
    "question5iiic(_globals)"
   ]
  },
  {
   "cell_type": "markdown",
   "id": "elect-pendant",
   "metadata": {
    "deletable": false,
    "editable": false,
    "nbgrader": {
     "cell_type": "markdown",
     "checksum": "10fa6de2bca55e67bb4654eed593adb0",
     "grade": false,
     "grade_id": "cell-a2c8716425f48118",
     "locked": true,
     "schema_version": 3,
     "solution": false,
     "task": false
    }
   },
   "source": [
    "(d) Pickle your `ExpressionTree` class, and load them again as the class `NewExpressionTree`. Test your results."
   ]
  },
  {
   "cell_type": "code",
   "execution_count": 46,
   "id": "legal-adams",
   "metadata": {
    "deletable": false,
    "nbgrader": {
     "cell_type": "code",
     "checksum": "f3259e04b5b600ea781bba4c0789e4de",
     "grade": false,
     "grade_id": "cell-1d71eaa1187af827",
     "locked": false,
     "schema_version": 3,
     "solution": true,
     "task": false
    }
   },
   "outputs": [],
   "source": [
    "# YOUR CODE HERE\n",
    "etree = open(\"ExpressionTree.pickle\", 'wb')\n",
    "pickle.dump(ExpressionTree, etree)\n",
    "etree.close()\n",
    "\n",
    "etree = open(\"ExpressionTree.pickle\", 'rb')\n",
    "NewExpressionTree = pickle.load(etree)\n",
    "etree.close()"
   ]
  },
  {
   "cell_type": "code",
   "execution_count": 47,
   "id": "abandoned-memory",
   "metadata": {
    "deletable": false,
    "nbgrader": {
     "cell_type": "code",
     "checksum": "a8ca099c029868a8372189131de581f3",
     "grade": false,
     "grade_id": "cell-f7dcd943f0b3a3f3",
     "locked": false,
     "schema_version": 3,
     "solution": true,
     "task": false
    }
   },
   "outputs": [
    {
     "name": "stdout",
     "output_type": "stream",
     "text": [
      "729\n",
      "3645\n",
      "3605\n"
     ]
    }
   ],
   "source": [
    "# cell for testing: make sure to set up expr1 to expr7\n",
    "# as instances of NewExpressionTree\n",
    "\n",
    "# YOUR CODE HERE\n",
    "expr1 = NewExpressionTree(5)\n",
    "expr2 = NewExpressionTree(3)\n",
    "expr3 = NewExpressionTree('x')\n",
    "expr4 = NewExpressionTree('y')\n",
    "expr5 = NewExpressionTree('power', expr2, expr3)\n",
    "expr6 = NewExpressionTree('times', expr1, expr5)\n",
    "expr7 = NewExpressionTree('subtract', expr6, expr4)\n",
    "\n",
    "print(expr5.subs('x',6).evaluate())\n",
    "print(expr6.subs('x',6).evaluate())\n",
    "print(expr7.subs('x',6).subs('y',40).evaluate())"
   ]
  },
  {
   "cell_type": "code",
   "execution_count": 48,
   "id": "correct-bacon",
   "metadata": {
    "deletable": false,
    "editable": false,
    "nbgrader": {
     "cell_type": "code",
     "checksum": "6ac6e43fb5999a1cee2b7dfbd79f7746",
     "grade": true,
     "grade_id": "cell-b3acf5269258409a",
     "locked": true,
     "points": 3,
     "schema_version": 3,
     "solution": false,
     "task": false
    }
   },
   "outputs": [
    {
     "name": "stdout",
     "output_type": "stream",
     "text": [
      "NewExpressionTree is set up correctly\n",
      "\n",
      "The subs and infixForm methods do not seem to be working for this class.\n",
      "\n",
      "The evaluate method seems to be working for this class.\n",
      "\n",
      "2 out of 3\n"
     ]
    },
    {
     "data": {
      "text/plain": [
       "2"
      ]
     },
     "execution_count": 48,
     "metadata": {},
     "output_type": "execute_result"
    }
   ],
   "source": [
    "# 3 Marks\n",
    "# Do not try to delete this cell\n",
    "# Run this cell for grading\n",
    "_globals = globals()\n",
    "question5iiid(_globals)"
   ]
  },
  {
   "cell_type": "code",
   "execution_count": null,
   "id": "divided-healing",
   "metadata": {},
   "outputs": [],
   "source": []
  },
  {
   "cell_type": "code",
   "execution_count": null,
   "id": "numerous-hollywood",
   "metadata": {},
   "outputs": [],
   "source": []
  }
 ],
 "metadata": {
  "kernelspec": {
   "display_name": "Python 3",
   "language": "python",
   "name": "python3"
  },
  "language_info": {
   "codemirror_mode": {
    "name": "ipython",
    "version": 3
   },
   "file_extension": ".py",
   "mimetype": "text/x-python",
   "name": "python",
   "nbconvert_exporter": "python",
   "pygments_lexer": "ipython3",
   "version": "3.7.4"
  }
 },
 "nbformat": 4,
 "nbformat_minor": 5
}
