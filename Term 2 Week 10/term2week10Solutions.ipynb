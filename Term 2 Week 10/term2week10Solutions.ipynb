{
 "cells": [
  {
   "cell_type": "code",
   "execution_count": 4,
   "id": "abstract-stephen",
   "metadata": {},
   "outputs": [
    {
     "name": "stdout",
     "output_type": "stream",
     "text": [
      "Autograder loaded successfully!\n",
      "Remember to always restart and run all from the Kernel menu before submitting!\n"
     ]
    }
   ],
   "source": [
    "from autograder_term2week10 import *\n",
    "_globals = globals()\n",
    "import math\n",
    "from copy import copy\n",
    "import pickle"
   ]
  },
  {
   "cell_type": "markdown",
   "id": "capable-honolulu",
   "metadata": {
    "nbgrader": {
     "grade": false,
     "grade_id": "cell-e530836b0256fc73",
     "locked": true,
     "schema_version": 3,
     "solution": false,
     "task": false
    }
   },
   "source": [
    "# <center> Introduction to Mathematical Computing </center>\n",
    "### <center>Phil Ramsden, Boumediene Hamzi, Sam Brzezicki, Matt Woolway</center>\n",
    "\n",
    "# <center> Worksheet 12: Sets, Frozensets, Dictionaries; Files; Objects</center>"
   ]
  },
  {
   "cell_type": "markdown",
   "id": "polyphonic-chicken",
   "metadata": {
    "nbgrader": {
     "grade": false,
     "grade_id": "cell-15a4fdea8e29d5af",
     "locked": true,
     "schema_version": 3,
     "solution": false,
     "task": false
    }
   },
   "source": [
    "## Question 1\n",
    "\n",
    "### (i)\n",
    "\n",
    "(a) Create a list, a tuple, a set and a frozenset, each containing the odd integers between 13 and 103 inclusive."
   ]
  },
  {
   "cell_type": "code",
   "execution_count": null,
   "id": "asian-festival",
   "metadata": {
    "nbgrader": {
     "grade": false,
     "grade_id": "cell-5bad39258340d53f",
     "locked": false,
     "schema_version": 3,
     "solution": true,
     "task": false
    }
   },
   "outputs": [],
   "source": [
    "### BEGIN SOLUTION\n",
    "list1 = list(range(13,104,2))\n",
    "tuple1 = tuple(range(13,104,2))\n",
    "set1 = set(range(13,104,2))\n",
    "fs1 = frozenset(range(13,104,2))\n",
    "### END SOLUTION\n",
    "\n",
    "print(list1)\n",
    "print(tuple1)\n",
    "print(set1)\n",
    "print(fs1)"
   ]
  },
  {
   "cell_type": "code",
   "execution_count": null,
   "id": "athletic-roulette",
   "metadata": {
    "nbgrader": {
     "grade": true,
     "grade_id": "cell-985d45de372b4792",
     "locked": true,
     "points": 2,
     "schema_version": 3,
     "solution": false,
     "task": false
    }
   },
   "outputs": [],
   "source": [
    "# 2 Marks\n",
    "# Do not try to delete this cell\n",
    "# Run this cell for grading\n",
    "_globals = globals()\n",
    "question1ia(_globals)"
   ]
  },
  {
   "cell_type": "code",
   "execution_count": null,
   "id": "pregnant-calcium",
   "metadata": {},
   "outputs": [],
   "source": [
    "isinstance(fs1,frozenset)"
   ]
  },
  {
   "cell_type": "markdown",
   "id": "vocational-vessel",
   "metadata": {
    "nbgrader": {
     "grade": false,
     "grade_id": "cell-9c6eb76015336018",
     "locked": true,
     "schema_version": 3,
     "solution": false,
     "task": false
    }
   },
   "source": [
    "(b) Set up `list2`, identically equal to `list1`, and `list3`, a copy of `list1` created using the `copy` function.\n",
    "Also set up `set2`, identically equal to `set1`, and `set3`, a copy of `set1` created using the `copy` function."
   ]
  },
  {
   "cell_type": "code",
   "execution_count": null,
   "id": "metric-proxy",
   "metadata": {
    "nbgrader": {
     "grade": false,
     "grade_id": "cell-2c5a79c99b279f52",
     "locked": false,
     "schema_version": 3,
     "solution": true,
     "task": false
    }
   },
   "outputs": [],
   "source": [
    "### BEGIN SOLUTION\n",
    "list2 = list1\n",
    "list3 = copy(list1)\n",
    "set2 = set1\n",
    "set3 = copy(set1)\n",
    "### END SOLUTION\n",
    "\n",
    "print(list2)\n",
    "print(list3)\n",
    "print(set2)\n",
    "print(set3)"
   ]
  },
  {
   "cell_type": "code",
   "execution_count": null,
   "id": "defined-bradley",
   "metadata": {
    "nbgrader": {
     "grade": true,
     "grade_id": "cell-e2dc6aa11630389b",
     "locked": true,
     "points": 2,
     "schema_version": 3,
     "solution": false,
     "task": false
    }
   },
   "outputs": [],
   "source": [
    "# 2 Marks\n",
    "# Do not try to delete this cell\n",
    "# Run this cell for grading\n",
    "_globals = globals()\n",
    "question1ib(_globals)"
   ]
  },
  {
   "cell_type": "markdown",
   "id": "dietary-collection",
   "metadata": {
    "nbgrader": {
     "grade": false,
     "grade_id": "cell-c776f2bff06a399c",
     "locked": true,
     "schema_version": 3,
     "solution": false,
     "task": false
    }
   },
   "source": [
    "(c) Introduce the element 105 to `list1` using the `append` method, and introduce the element 105 to `set1` using the `add` method. "
   ]
  },
  {
   "cell_type": "code",
   "execution_count": null,
   "id": "broke-johnston",
   "metadata": {
    "nbgrader": {
     "grade": false,
     "grade_id": "cell-db56a67357ca11dd",
     "locked": false,
     "schema_version": 3,
     "solution": true,
     "task": false
    }
   },
   "outputs": [],
   "source": [
    "### BEGIN SOLUTION\n",
    "list1.append(105)\n",
    "set1.add(105)\n",
    "### END SOLUTION\n",
    "\n",
    "print(list1)\n",
    "print(set1)"
   ]
  },
  {
   "cell_type": "code",
   "execution_count": null,
   "id": "italian-giant",
   "metadata": {
    "nbgrader": {
     "grade": true,
     "grade_id": "cell-6dcd5a8637a9e567",
     "locked": true,
     "points": 2,
     "schema_version": 3,
     "solution": false,
     "task": false
    }
   },
   "outputs": [],
   "source": [
    "# 2 Marks\n",
    "# Do not try to delete this cell\n",
    "# Run this cell for grading\n",
    "_globals = globals()\n",
    "question1ic(_globals)"
   ]
  },
  {
   "cell_type": "markdown",
   "id": "bored-introduction",
   "metadata": {
    "nbgrader": {
     "grade": false,
     "grade_id": "cell-7d2d3d37364f39ba",
     "locked": true,
     "schema_version": 3,
     "solution": false,
     "task": false
    }
   },
   "source": [
    "(d) Check the values of `list2`, `list3`, `set2` and `set3`. Which of the following is true?\n",
    "\n",
    "<ol>\n",
    "    <li>The values of <code>list2</code>, <code>list3</code>, <code>set2</code> and <code>set3</code> have all changed.</li>\n",
    "    <li>The values of <code>list2</code>, <code>list3</code>, <code>set2</code> and <code>set3</code> have all stayed the same.</li>\n",
    "    <li>The values of <code>list2</code> and <code>set2</code> have changed, but the values of <code>list3</code> and <code>set3</code> have stayed the same.</li>\n",
    "    <li>The values of <code>list3</code> and <code>set3</code> have changed, but the values of <code>list2</code> and <code>set2</code> have stayed the same.</li>\n",
    "    <li>Only<code>list2</code> has changed; the rest have have stayed the same.</li>\n",
    "    <li>Only<code>set2</code> has changed; the rest have have stayed the same.</li>\n",
    "</ol>"
   ]
  },
  {
   "cell_type": "code",
   "execution_count": null,
   "id": "grand-butler",
   "metadata": {
    "nbgrader": {
     "grade": false,
     "grade_id": "cell-6db2e1ccdd6aed11",
     "locked": false,
     "schema_version": 3,
     "solution": true,
     "task": false
    }
   },
   "outputs": [],
   "source": [
    "print(list2)\n",
    "print(list3)\n",
    "print(set2)\n",
    "print(set3)\n",
    "\n",
    "### BEGIN SOLUTION\n",
    "question1id_answer = 3\n",
    "### END SOLUTION\n",
    "\n",
    "question1id_answer = # (insert one of 1, 2, 3, 4, 5, or 6)"
   ]
  },
  {
   "cell_type": "code",
   "execution_count": null,
   "id": "stone-administrator",
   "metadata": {
    "nbgrader": {
     "grade": true,
     "grade_id": "cell-79f6b308a520727c",
     "locked": true,
     "points": 1,
     "schema_version": 3,
     "solution": false,
     "task": false
    }
   },
   "outputs": [],
   "source": [
    "# 1 Mark\n",
    "assert(question1id_answer == question1id())\n",
    "print('test case passed!')"
   ]
  },
  {
   "cell_type": "markdown",
   "id": "labeled-torture",
   "metadata": {
    "nbgrader": {
     "grade": false,
     "grade_id": "cell-d7b037ff997517ab",
     "locked": true,
     "schema_version": 3,
     "solution": false,
     "task": false
    }
   },
   "source": [
    "(e) Again, introduce the element 105 to `list1` using the `append` method, and introduce the element 105 to `set1` using the `add` method."
   ]
  },
  {
   "cell_type": "code",
   "execution_count": null,
   "id": "distinct-liechtenstein",
   "metadata": {
    "nbgrader": {
     "grade": false,
     "grade_id": "cell-53dbb31f38cee238",
     "locked": false,
     "schema_version": 3,
     "solution": true,
     "task": false
    }
   },
   "outputs": [],
   "source": [
    "### BEGIN SOLUTION\n",
    "list1.append(105)\n",
    "set1.add(105)\n",
    "### END SOLUTION\n",
    "\n",
    "print(list1)\n",
    "print(set1)"
   ]
  },
  {
   "cell_type": "code",
   "execution_count": null,
   "id": "unavailable-stewart",
   "metadata": {
    "nbgrader": {
     "grade": true,
     "grade_id": "cell-2b3879d9477c0181",
     "locked": true,
     "points": 2,
     "schema_version": 3,
     "solution": false,
     "task": false
    }
   },
   "outputs": [],
   "source": [
    "# 2 Marks\n",
    "# Do not try to delete this cell\n",
    "# Run this cell for grading\n",
    "_globals = globals()\n",
    "question1ie(_globals)"
   ]
  },
  {
   "cell_type": "markdown",
   "id": "fewer-working",
   "metadata": {
    "nbgrader": {
     "grade": false,
     "grade_id": "cell-2ca37bff4def768c",
     "locked": true,
     "schema_version": 3,
     "solution": false,
     "task": false
    }
   },
   "source": [
    "(f) Once more, check the values of `list2`, `list3`, `set2` and `set3`. Which of the following is true?\n",
    "\n",
    "<ol>\n",
    "    <li>The values of <code>list2</code>, <code>list3</code>, <code>set2</code> and <code>set3</code> have all changed.</li>\n",
    "    <li>The values of <code>list2</code>, <code>list3</code>, <code>set2</code> and <code>set3</code> have all stayed the same.</li>\n",
    "    <li>The values of <code>list2</code> and <code>set2</code> have changed, but the values of <code>list3</code> and <code>set3</code> have stayed the same.</li>\n",
    "    <li>The values of <code>list3</code> and <code>set3</code> have changed, but the values of <code>list2</code> and <code>set2</code> have stayed the same.</li>\n",
    "    <li>Only<code>list2</code> has changed; the rest have have stayed the same.</li>\n",
    "    <li>Only<code>set2</code> has changed; the rest have have stayed the same.</li>\n",
    "</ol>"
   ]
  },
  {
   "cell_type": "code",
   "execution_count": null,
   "id": "cardiac-intersection",
   "metadata": {
    "nbgrader": {
     "grade": false,
     "grade_id": "cell-27214580e10d517e",
     "locked": false,
     "schema_version": 3,
     "solution": true,
     "task": false
    }
   },
   "outputs": [],
   "source": [
    "print(list2)\n",
    "print(list3)\n",
    "print(set2)\n",
    "print(set3)\n",
    "\n",
    "### BEGIN SOLUTION\n",
    "question1if_answer = 5\n",
    "### END SOLUTION\n",
    "\n",
    "question1if_answer = # (insert one of 1, 2, 3, 4, 5, or 6)"
   ]
  },
  {
   "cell_type": "code",
   "execution_count": null,
   "id": "coordinate-duration",
   "metadata": {
    "nbgrader": {
     "grade": true,
     "grade_id": "cell-bcc127bfac5cdadc",
     "locked": true,
     "points": 1,
     "schema_version": 3,
     "solution": false,
     "task": false
    }
   },
   "outputs": [],
   "source": [
    "# 1 Mark\n",
    "assert(question1if_answer == question1if())\n",
    "print('test case passed!')"
   ]
  },
  {
   "cell_type": "markdown",
   "id": "greatest-humor",
   "metadata": {
    "nbgrader": {
     "grade": false,
     "grade_id": "cell-1e88e3393cb313b4",
     "locked": true,
     "schema_version": 3,
     "solution": false,
     "task": false
    }
   },
   "source": [
    "(g) Redefine `list1` as the list of multiples of 5 between 1005 and 1305 inclusive, and redefine `set1` as the set of multiples of 5 between 1005 and 1305 inclusive."
   ]
  },
  {
   "cell_type": "code",
   "execution_count": null,
   "id": "instant-enterprise",
   "metadata": {
    "nbgrader": {
     "grade": false,
     "grade_id": "cell-b4e82724652a1d66",
     "locked": false,
     "schema_version": 3,
     "solution": true,
     "task": false
    }
   },
   "outputs": [],
   "source": [
    "### BEGIN SOLUTION\n",
    "list1 = list(range(1005,1310,5))\n",
    "set1 = set(range(1005,1310,5))\n",
    "### END SOLUTION\n",
    "\n",
    "print(list1)\n",
    "print(set1)"
   ]
  },
  {
   "cell_type": "code",
   "execution_count": null,
   "id": "convertible-event",
   "metadata": {
    "nbgrader": {
     "grade": true,
     "grade_id": "cell-352b4f20ea015272",
     "locked": true,
     "points": 2,
     "schema_version": 3,
     "solution": false,
     "task": false
    }
   },
   "outputs": [],
   "source": [
    "# 2 Marks\n",
    "# Do not try to delete this cell\n",
    "# Run this cell for grading\n",
    "_globals = globals()\n",
    "question1ig(_globals)"
   ]
  },
  {
   "cell_type": "markdown",
   "id": "nonprofit-template",
   "metadata": {
    "nbgrader": {
     "grade": false,
     "grade_id": "cell-b1641ca376a4fe60",
     "locked": true,
     "schema_version": 3,
     "solution": false,
     "task": false
    }
   },
   "source": [
    "(h) For a third time, check the values of `list2`, `list3`, `set2` and `set3`. Which of the following is true?\n",
    "\n",
    "<ol>\n",
    "    <li>The values of <code>list2</code>, <code>list3</code>, <code>set2</code> and <code>set3</code> have all changed.</li>\n",
    "    <li>The values of <code>list2</code>, <code>list3</code>, <code>set2</code> and <code>set3</code> have all stayed the same.</li>\n",
    "    <li>The values of <code>list2</code> and <code>set2</code> have changed, but the values of <code>list3</code> and <code>set3</code> have stayed the same.</li>\n",
    "    <li>The values of <code>list3</code> and <code>set3</code> have changed, but the values of <code>list2</code> and <code>set2</code> have stayed the same.</li>\n",
    "    <li>Only<code>list2</code> has changed; the rest have have stayed the same.</li>\n",
    "    <li>Only<code>set2</code> has changed; the rest have have stayed the same.</li>\n",
    "</ol>"
   ]
  },
  {
   "cell_type": "code",
   "execution_count": null,
   "id": "adult-trial",
   "metadata": {
    "nbgrader": {
     "grade": false,
     "grade_id": "cell-f483f5b86d2c05d2",
     "locked": false,
     "schema_version": 3,
     "solution": true,
     "task": false
    }
   },
   "outputs": [],
   "source": [
    "print(list2)\n",
    "print(list3)\n",
    "print(set2)\n",
    "print(set3)\n",
    "\n",
    "### BEGIN SOLUTION\n",
    "question1ih_answer = 2\n",
    "### END SOLUTION\n",
    "\n",
    "question1ih_answer = # (insert one of 1, 2, 3, 4, 5, or 6)"
   ]
  },
  {
   "cell_type": "code",
   "execution_count": null,
   "id": "robust-vaccine",
   "metadata": {
    "nbgrader": {
     "grade": true,
     "grade_id": "cell-881cc6b1f89ed9af",
     "locked": true,
     "points": 1,
     "schema_version": 3,
     "solution": false,
     "task": false
    }
   },
   "outputs": [],
   "source": [
    "# 1 Mark\n",
    "assert(question1ih_answer == question1ih())\n",
    "print('test case passed!')"
   ]
  },
  {
   "cell_type": "markdown",
   "id": "charged-acting",
   "metadata": {
    "nbgrader": {
     "grade": false,
     "grade_id": "cell-f69c9e20c2644684",
     "locked": true,
     "schema_version": 3,
     "solution": false,
     "task": false
    }
   },
   "source": [
    "### (ii)\n",
    "\n",
    "(a) Define `row1` as `[1, 3, 5]`, `row2` as `[1, 4, 7]` and `row3` as `[1, 5, 9]`, and define `list_of_lists1` as `[row1, row2, row3]`.\n",
    "\n",
    "Set up `list_of_lists2` as identical to `list_of_lists1`, and `list_of_lists3` as a copy of it."
   ]
  },
  {
   "cell_type": "code",
   "execution_count": null,
   "id": "appreciated-situation",
   "metadata": {
    "nbgrader": {
     "grade": false,
     "grade_id": "cell-3385361e6bb5e74d",
     "locked": false,
     "schema_version": 3,
     "solution": true,
     "task": false
    }
   },
   "outputs": [],
   "source": [
    "### BEGIN SOLUTION\n",
    "row1 = [1, 3, 5]\n",
    "row2 = [1, 4, 7]\n",
    "row3 = [1, 5, 9]\n",
    "\n",
    "list_of_lists1 = [row1, row2, row3]\n",
    "list_of_lists2 = list_of_lists1\n",
    "list_of_lists3 = copy(list_of_lists1)\n",
    "### END SOLUTION\n",
    "\n",
    "print(list_of_lists1)\n",
    "print(list_of_lists2)\n",
    "print(list_of_lists3)"
   ]
  },
  {
   "cell_type": "code",
   "execution_count": null,
   "id": "seven-truth",
   "metadata": {
    "nbgrader": {
     "grade": true,
     "grade_id": "cell-5ed214164dad5d2a",
     "locked": true,
     "points": 3,
     "schema_version": 3,
     "solution": false,
     "task": false
    }
   },
   "outputs": [],
   "source": [
    "# 3 Marks\n",
    "# Do not try to delete this cell\n",
    "# Run this cell for grading\n",
    "_globals = globals()\n",
    "question1iia(_globals)"
   ]
  },
  {
   "cell_type": "markdown",
   "id": "classical-session",
   "metadata": {
    "nbgrader": {
     "grade": false,
     "grade_id": "cell-66f03d4d7c66a961",
     "locked": true,
     "schema_version": 3,
     "solution": false,
     "task": false
    }
   },
   "source": [
    "(b) Type \n",
    "```python\n",
    "list_of_lists1[1][1] = 400\n",
    "```\n",
    "\n",
    "Check the values of `list_of_lists2` and `list_of_lists3`. Which of the following is true?\n",
    "\n",
    "<ol>\n",
    "    <li>The values of <code>list_of_lists2</code> and <code>list_of_lists3</code> have both changed.</li>\n",
    "    <li>The values of <code>list_of_lists2</code> and <code>list_of_lists3</code> have both stayed the same.</li>\n",
    "    <li>The value of <code>list_of_lists2</code> has changed, but that of <code>list_of_lists3</code> has stayed the same.</li>\n",
    "    <li>The value of <code>list_of_lists3</code> has changed, but that of <code>list_of_lists2</code> has stayed the same.</li>\n",
    "</ol>"
   ]
  },
  {
   "cell_type": "code",
   "execution_count": null,
   "id": "restricted-oregon",
   "metadata": {
    "nbgrader": {
     "grade": false,
     "grade_id": "cell-24d681b71db986bf",
     "locked": false,
     "schema_version": 3,
     "solution": true,
     "task": false
    }
   },
   "outputs": [],
   "source": [
    "### BEGIN SOLUTION\n",
    "list_of_lists1[1][1] = 400\n",
    "\n",
    "print(list_of_lists1)\n",
    "print(list_of_lists2)\n",
    "print(list_of_lists3)\n",
    "\n",
    "question1iib_answer = 1\n",
    "### END SOLUTION\n",
    "\n",
    "question1iib_answer = # (delete, and insert one of 1, 2, 3 or 4)"
   ]
  },
  {
   "cell_type": "code",
   "execution_count": null,
   "id": "numerous-belly",
   "metadata": {
    "nbgrader": {
     "grade": true,
     "grade_id": "cell-cf69c20d7081cea7",
     "locked": true,
     "points": 1,
     "schema_version": 3,
     "solution": false,
     "task": false
    }
   },
   "outputs": [],
   "source": [
    "# 1 Mark\n",
    "assert(question1iib_answer == question1iib())\n",
    "print('test case passed!')"
   ]
  },
  {
   "cell_type": "markdown",
   "id": "tribal-resident",
   "metadata": {
    "nbgrader": {
     "grade": false,
     "grade_id": "cell-0c1fde0b8feb9ef3",
     "locked": true,
     "schema_version": 3,
     "solution": false,
     "task": false
    }
   },
   "source": [
    "(c) Redefine `row1`, `row2`, `row3` and `list_of_lists1` as in (a) above. \n",
    "\n",
    "Create an object, `list_of_lists4`, that is a <b>deep</b> copy of `list_of_lists1`: that is, not only is it itself a copy, but all three of the elements that make it up are copies of the corresponding elements of `list_of_lists1`. It should remain the same in the face of changes to any of the numbers that form part of `list_of_lists1`.\n",
    "\n",
    "<b>Note</b>: don't do this just by repeating the definition of `list_of_lists1`; find a smarter way! There are at least two ways of doing this task. One uses a comprehension, and the other uses another function from the `copy` module, whose name you might be able to guess (and which is in any case available on the Internet...)"
   ]
  },
  {
   "cell_type": "code",
   "execution_count": null,
   "id": "proved-amendment",
   "metadata": {
    "nbgrader": {
     "grade": false,
     "grade_id": "cell-49d7b1d42a394359",
     "locked": false,
     "schema_version": 3,
     "solution": true,
     "task": false
    }
   },
   "outputs": [],
   "source": [
    "### BEGIN SOLUTION\n",
    "row1 = [1, 3, 5]\n",
    "row2 = [1, 4, 7]\n",
    "row3 = [1, 5, 9]\n",
    "\n",
    "list_of_lists1 = [row1, row2, row3]\n",
    "from copy import deepcopy\n",
    "list_of_lists4 = deepcopy(list_of_lists1)\n",
    "### END SOLUTION\n",
    "\n",
    "print(list_of_lists1)\n",
    "print(list_of_lists4)"
   ]
  },
  {
   "cell_type": "code",
   "execution_count": null,
   "id": "rising-canvas",
   "metadata": {
    "nbgrader": {
     "grade": true,
     "grade_id": "cell-9d44c0503ab37154",
     "locked": true,
     "points": 4,
     "schema_version": 3,
     "solution": false,
     "task": false
    }
   },
   "outputs": [],
   "source": [
    "# 4 Marks\n",
    "# Do not try to delete this cell\n",
    "# Run this cell for grading\n",
    "_globals = globals()\n",
    "question1iic(_globals)"
   ]
  },
  {
   "cell_type": "markdown",
   "id": "juvenile-vulnerability",
   "metadata": {
    "nbgrader": {
     "grade": false,
     "grade_id": "cell-47dbbcf3caa94a49",
     "locked": true,
     "schema_version": 3,
     "solution": false,
     "task": false
    }
   },
   "source": [
    "(d) Can you find the other method, calling your second deep copy `list_of_lists5?` (Autograding won't be able to tell if you've \"cheated\" here by doing the same thing twice; but you'll know!)"
   ]
  },
  {
   "cell_type": "code",
   "execution_count": null,
   "id": "aboriginal-choice",
   "metadata": {
    "nbgrader": {
     "grade": false,
     "grade_id": "cell-8797c7cf90bbc928",
     "locked": false,
     "schema_version": 3,
     "solution": true,
     "task": false
    }
   },
   "outputs": [],
   "source": [
    "### BEGIN SOLUTION\n",
    "row1 = [1, 3, 5]\n",
    "row2 = [1, 4, 7]\n",
    "row3 = [1, 5, 9]\n",
    "\n",
    "list_of_lists1 = [row1, row2, row3]\n",
    "list_of_lists5 = [copy(row) for row in list_of_lists1]\n",
    "### END SOLUTION\n",
    "\n",
    "print(list_of_lists1)\n",
    "print(list_of_lists5)"
   ]
  },
  {
   "cell_type": "code",
   "execution_count": null,
   "id": "dangerous-classification",
   "metadata": {
    "nbgrader": {
     "grade": true,
     "grade_id": "cell-4e03943b224f0325",
     "locked": true,
     "points": 4,
     "schema_version": 3,
     "solution": false,
     "task": false
    }
   },
   "outputs": [],
   "source": [
    "# 4 Marks\n",
    "# Do not try to delete this cell\n",
    "# Run this cell for grading\n",
    "_globals = globals()\n",
    "question1iid(_globals)"
   ]
  },
  {
   "cell_type": "markdown",
   "id": "logical-pilot",
   "metadata": {
    "nbgrader": {
     "grade": false,
     "grade_id": "cell-221bc9193be12a80",
     "locked": true,
     "schema_version": 3,
     "solution": false,
     "task": false
    }
   },
   "source": [
    "## Question 2\n",
    "\n",
    "### (i)\n",
    "\n",
    "The following data consists of:\n",
    "<ul>\n",
    "    <li>Eight dictionaries, each with the same three keys: <code>'radius'</code>,  <code>'mass'</code> and <code>'escape_velocity'</code>; the value associated with each key is a float.</li>\n",
    "    <li>One \"master dictionary\", consisting of eight keys corresponding to the names of the planets in our solar system; the value associated with each key is a dictionary.</li>\n",
    "</ul>"
   ]
  },
  {
   "cell_type": "code",
   "execution_count": null,
   "id": "incredible-cowboy",
   "metadata": {
    "nbgrader": {
     "grade": false,
     "grade_id": "cell-1f0d6373a702142b",
     "locked": true,
     "schema_version": 3,
     "solution": false,
     "task": false
    }
   },
   "outputs": [],
   "source": [
    "mercury_data = {'radius' : 2.4e6, 'mass' : 3.3e23, \n",
    "    'escape_velocity' : 4.3e3}\n",
    "venus_data = {'radius' : 6.1e6, 'mass' : 4.9e24, \n",
    "    'escape_velocity' : 1.0e4}\n",
    "earth_data = {'radius' : 6.3e6, 'mass' : 6.0e24, \n",
    "    'escape_velocity' : 1.1e4}\n",
    "mars_data = {'radius' : 3.4e6, 'mass' : 6.4e23, \n",
    "    'escape_velocity' : 5.0e3}\n",
    "jupiter_data = {'radius' : 6.9e7, 'mass' : 1.9e27, \n",
    "    'escape_velocity' : 6.0e4}\n",
    "saturn_data = {'radius' : 5.7e7, 'mass' : 5.6e26, \n",
    "    'escape_velocity' : 3.6e4}\n",
    "uranus_data = {'radius' : 2.5e7, 'mass' : 8.7e25, \n",
    "    'escape_velocity' : 2.2e4}\n",
    "neptune_data = {'radius' : 2.5e7, 'mass' : 1.0e26, \n",
    "    'escape_velocity' : 2.4e4}\n",
    "planet_data = {\n",
    "    'mercury': mercury_data,\n",
    "    'venus': venus_data,\n",
    "    'earth': earth_data,\n",
    "    'mars': mars_data,\n",
    "    'jupiter': jupiter_data,\n",
    "    'saturn': saturn_data,\n",
    "    'uranus': uranus_data,\n",
    "    'neptune': neptune_data,\n",
    "}"
   ]
  },
  {
   "cell_type": "markdown",
   "id": "lyric-donor",
   "metadata": {
    "nbgrader": {
     "grade": false,
     "grade_id": "cell-b822e63b69238f72",
     "locked": true,
     "schema_version": 3,
     "solution": false,
     "task": false
    }
   },
   "source": [
    "(a) Using a comprehension, create a <b>list</b> `radius_list` containing all the planetary radii."
   ]
  },
  {
   "cell_type": "code",
   "execution_count": null,
   "id": "declared-institution",
   "metadata": {
    "nbgrader": {
     "grade": false,
     "grade_id": "cell-feef8e594c7c7108",
     "locked": false,
     "schema_version": 3,
     "solution": true,
     "task": false
    }
   },
   "outputs": [],
   "source": [
    "### BEGIN SOLUTION\n",
    "radius_list = [x['radius'] for x in planet_data.values()]\n",
    "### END SOLUTION\n",
    "\n",
    "print(radius_list)"
   ]
  },
  {
   "cell_type": "code",
   "execution_count": null,
   "id": "smaller-flooring",
   "metadata": {
    "nbgrader": {
     "grade": true,
     "grade_id": "cell-b930ad8d3f909ab9",
     "locked": true,
     "points": 1,
     "schema_version": 3,
     "solution": false,
     "task": false
    }
   },
   "outputs": [],
   "source": [
    "# 1 Mark\n",
    "# Do not try to delete this cell\n",
    "# Run this cell for grading\n",
    "_globals = globals()\n",
    "question2ia(_globals)"
   ]
  },
  {
   "cell_type": "markdown",
   "id": "ranging-century",
   "metadata": {
    "nbgrader": {
     "grade": false,
     "grade_id": "cell-c8ed6a2921a5f9ac",
     "locked": true,
     "schema_version": 3,
     "solution": false,
     "task": false
    }
   },
   "source": [
    "(b) Using a comprehension, create a <b>set</b> `mass_set` containing all the planetary masses."
   ]
  },
  {
   "cell_type": "code",
   "execution_count": null,
   "id": "electoral-geneva",
   "metadata": {
    "nbgrader": {
     "grade": false,
     "grade_id": "cell-d57b551cbb142ba2",
     "locked": false,
     "schema_version": 3,
     "solution": true,
     "task": false
    }
   },
   "outputs": [],
   "source": [
    "### BEGIN SOLUTION\n",
    "mass_set = {x['mass'] for x in planet_data.values()}\n",
    "### END SOLUTION\n",
    "\n",
    "print(mass_set)"
   ]
  },
  {
   "cell_type": "code",
   "execution_count": null,
   "id": "nominated-municipality",
   "metadata": {
    "nbgrader": {
     "grade": true,
     "grade_id": "cell-ab71aab9394ec18c",
     "locked": true,
     "points": 1,
     "schema_version": 3,
     "solution": false,
     "task": false
    }
   },
   "outputs": [],
   "source": [
    "# 1 Mark\n",
    "# Do not try to delete this cell\n",
    "# Run this cell for grading\n",
    "_globals = globals()\n",
    "question2ib(_globals)"
   ]
  },
  {
   "cell_type": "markdown",
   "id": "sized-thirty",
   "metadata": {
    "nbgrader": {
     "grade": false,
     "grade_id": "cell-9a0a34c1781ac172",
     "locked": true,
     "schema_version": 3,
     "solution": false,
     "task": false
    }
   },
   "source": [
    "(c) Create a <b>set</b> `name_set` containing all the names of the planets; this can be done without using a comprehension."
   ]
  },
  {
   "cell_type": "code",
   "execution_count": null,
   "id": "worthy-disabled",
   "metadata": {
    "nbgrader": {
     "grade": false,
     "grade_id": "cell-121cbc171d4dbdbe",
     "locked": false,
     "schema_version": 3,
     "solution": true,
     "task": false
    }
   },
   "outputs": [],
   "source": [
    "### BEGIN SOLUTION\n",
    "name_set = set(planet_data)\n",
    "### END SOLUTION\n",
    "\n",
    "print(name_set)"
   ]
  },
  {
   "cell_type": "code",
   "execution_count": null,
   "id": "pressing-number",
   "metadata": {
    "nbgrader": {
     "grade": true,
     "grade_id": "cell-487b52adfcefaaf2",
     "locked": true,
     "points": 1,
     "schema_version": 3,
     "solution": false,
     "task": false
    }
   },
   "outputs": [],
   "source": [
    "# 1 Mark\n",
    "# Do not try to delete this cell\n",
    "# Run this cell for grading\n",
    "_globals = globals()\n",
    "question2ic(_globals)"
   ]
  },
  {
   "cell_type": "markdown",
   "id": "particular-publicity",
   "metadata": {
    "nbgrader": {
     "grade": false,
     "grade_id": "cell-9e2077d9a80f1188",
     "locked": true,
     "schema_version": 3,
     "solution": false,
     "task": false
    }
   },
   "source": [
    "(d) Using a comprehension, create a <b>dictionary</b> `ev_dict`, the keys of which are the names of the planets and the associated values of which are the escape velocities."
   ]
  },
  {
   "cell_type": "code",
   "execution_count": null,
   "id": "reported-popularity",
   "metadata": {
    "nbgrader": {
     "grade": false,
     "grade_id": "cell-c7f53923a0d38513",
     "locked": false,
     "schema_version": 3,
     "solution": true,
     "task": false
    }
   },
   "outputs": [],
   "source": [
    "### BEGIN SOLUTION\n",
    "ev_dict = {planet:data['escape_velocity'] \n",
    "           for planet, data in planet_data.items()}\n",
    "### END SOLUTION\n",
    "\n",
    "print(ev_dict)"
   ]
  },
  {
   "cell_type": "code",
   "execution_count": null,
   "id": "swedish-miller",
   "metadata": {
    "nbgrader": {
     "grade": true,
     "grade_id": "cell-0ceb196e018d19cc",
     "locked": true,
     "points": 1,
     "schema_version": 3,
     "solution": false,
     "task": false
    }
   },
   "outputs": [],
   "source": [
    "# 1 Mark\n",
    "# Do not try to delete this cell\n",
    "# Run this cell for grading\n",
    "_globals = globals()\n",
    "question2id(_globals)"
   ]
  },
  {
   "cell_type": "markdown",
   "id": "latin-offering",
   "metadata": {
    "nbgrader": {
     "grade": false,
     "grade_id": "cell-39ff7dc68a6572b7",
     "locked": true,
     "schema_version": 3,
     "solution": false,
     "task": false
    }
   },
   "source": [
    "### (ii)\n",
    "\n",
    "The following is an attempt to set up a little dictionary linking the IUPAC systematic and preferred designations of the isomers of xylene (dimethylbenzene). "
   ]
  },
  {
   "cell_type": "code",
   "execution_count": null,
   "id": "boxed-humanitarian",
   "metadata": {
    "nbgrader": {
     "grade": false,
     "grade_id": "cell-5ddbc0c2f19ba205",
     "locked": true,
     "schema_version": 3,
     "solution": false,
     "task": false
    }
   },
   "outputs": [],
   "source": [
    "xylene_isomers = {\n",
    "    [1, 2] : 'orthoxylene', \n",
    "    [1, 3] : 'metaxylene',\n",
    "    [1, 4] : 'paraxylene'}"
   ]
  },
  {
   "cell_type": "markdown",
   "id": "indie-listening",
   "metadata": {
    "nbgrader": {
     "grade": false,
     "grade_id": "cell-33e24c85931a2abb",
     "locked": true,
     "schema_version": 3,
     "solution": false,
     "task": false
    }
   },
   "source": [
    "The way it's meant to work is that since, for example, 1,2-dimethylbenzene is also known as orthoxylene, I can type\n",
    "```python\n",
    "xylene_isomers([1, 2])\n",
    "```\n",
    "and get the output `'orthoxylene'`.\n",
    "\n",
    "(a) However, it doesn't work. Fix it! Write a new version of `xylene_isomers` in which the keys are data structures (don't use strings or ints for example), but ones that work."
   ]
  },
  {
   "cell_type": "code",
   "execution_count": null,
   "id": "prerequisite-essex",
   "metadata": {
    "nbgrader": {
     "grade": false,
     "grade_id": "cell-45514ee84187b5cb",
     "locked": false,
     "schema_version": 3,
     "solution": true,
     "task": false
    }
   },
   "outputs": [],
   "source": [
    "### BEGIN SOLUTION\n",
    "xylene_isomers = {\n",
    "    (1, 2) : 'orthoxylene', \n",
    "    (1, 3) : 'metaxylene',\n",
    "    (1, 4) : 'paraxylene'}\n",
    "### END SOLUTION\n",
    "\n",
    "print(xylene_isomers)"
   ]
  },
  {
   "cell_type": "code",
   "execution_count": null,
   "id": "rotary-paradise",
   "metadata": {
    "nbgrader": {
     "grade": true,
     "grade_id": "cell-bfe12f7e0d2af965",
     "locked": true,
     "points": 4,
     "schema_version": 3,
     "solution": false,
     "task": false
    }
   },
   "outputs": [],
   "source": [
    "# 4 Marks\n",
    "# Do not try to delete this cell\n",
    "# Run this cell for grading\n",
    "_globals = globals()\n",
    "question2iia(_globals)"
   ]
  },
  {
   "cell_type": "markdown",
   "id": "exact-yesterday",
   "metadata": {
    "nbgrader": {
     "grade": false,
     "grade_id": "cell-d7db084f35dcedad",
     "locked": true,
     "schema_version": 3,
     "solution": false,
     "task": false
    }
   },
   "source": [
    "(b) Which of the following data types and data structures can serve as the keys in a dictionary? Type your answer as a set.\n",
    "\n",
    "<ol>\n",
    "    <li>floats;</li>\n",
    "    <li>ints;</li>\n",
    "    <li>complexes;</li>\n",
    "    <li>strings;</li>\n",
    "    <li>lists;</li>\n",
    "    <li>tuples;</li>\n",
    "    <li>NumPy arrays;</li>\n",
    "    <li>sets;</li>\n",
    "    <li>frozensets;</li>\n",
    "    <li>dictionaries.</li>\n",
    "</ol>"
   ]
  },
  {
   "cell_type": "code",
   "execution_count": null,
   "id": "native-insurance",
   "metadata": {
    "nbgrader": {
     "grade": false,
     "grade_id": "cell-dda9e8f6cee7e834",
     "locked": false,
     "schema_version": 3,
     "solution": true,
     "task": false
    }
   },
   "outputs": [],
   "source": [
    "### BEGIN SOLUTION\n",
    "question2iib_answer = {1,2,3,4,6,9}\n",
    "### END SOLUTION\n",
    "\n",
    "question2iib_answer = # insert a set of ints"
   ]
  },
  {
   "cell_type": "code",
   "execution_count": null,
   "id": "regional-adjustment",
   "metadata": {
    "nbgrader": {
     "grade": true,
     "grade_id": "cell-d38702d62a5b38d6",
     "locked": true,
     "points": 1,
     "schema_version": 3,
     "solution": false,
     "task": false
    }
   },
   "outputs": [],
   "source": [
    "# 1 Mark\n",
    "assert(question2iib_answer == question2iib())\n",
    "print('test case passed!')"
   ]
  },
  {
   "cell_type": "markdown",
   "id": "honest-setting",
   "metadata": {
    "nbgrader": {
     "grade": false,
     "grade_id": "cell-10fcbad9965fec82",
     "locked": true,
     "schema_version": 3,
     "solution": false,
     "task": false
    }
   },
   "source": [
    "(c) Which of the following data types and data structures can serve as the values in a dictionary? Type your answer as a set.\n",
    "\n",
    "<ol>\n",
    "    <li>floats;</li>\n",
    "    <li>ints;</li>\n",
    "    <li>complexes;</li>\n",
    "    <li>strings;</li>\n",
    "    <li>lists;</li>\n",
    "    <li>tuples;</li>\n",
    "    <li>NumPy arrays;</li>\n",
    "    <li>sets;</li>\n",
    "    <li>frozensets;</li>\n",
    "    <li>dictionaries.</li>\n",
    "</ol>"
   ]
  },
  {
   "cell_type": "code",
   "execution_count": null,
   "id": "tribal-growing",
   "metadata": {
    "nbgrader": {
     "grade": false,
     "grade_id": "cell-2d4bd5bb56172f4b",
     "locked": false,
     "schema_version": 3,
     "solution": true,
     "task": false
    }
   },
   "outputs": [],
   "source": [
    "### BEGIN SOLUTION\n",
    "question2iic_answer = {1,2,3,4,5,6,7,8,9,10}\n",
    "### END SOLUTION\n",
    "\n",
    "#question2iic_answer = # insert a set of ints"
   ]
  },
  {
   "cell_type": "code",
   "execution_count": null,
   "id": "quiet-delicious",
   "metadata": {
    "nbgrader": {
     "grade": true,
     "grade_id": "cell-164cdda160462d87",
     "locked": true,
     "points": 1,
     "schema_version": 3,
     "solution": false,
     "task": false
    }
   },
   "outputs": [],
   "source": [
    "# 1 Mark\n",
    "assert(question2iic_answer == question2iic())\n",
    "print('test case passed!')"
   ]
  },
  {
   "cell_type": "markdown",
   "id": "blank-mission",
   "metadata": {
    "nbgrader": {
     "grade": false,
     "grade_id": "cell-23cbd7a149530c71",
     "locked": true,
     "schema_version": 3,
     "solution": false,
     "task": false
    }
   },
   "source": [
    "## Question 3\n",
    "\n",
    "Write and test a function called `power_set` which takes as its argument a set, and returns the set of that set's subsets (each subset being represented as a frozenset). So, for example, \n",
    "```python\n",
    "power_set({0,1})\n",
    "```\n",
    "should return `{frozenset(), frozenset({1}), frozenset({0}), frozenset({0, 1})}`.\n",
    "\n",
    "(I think this is a naturally <b>recursive</b> task. I also think this is quite tricky.)"
   ]
  },
  {
   "cell_type": "code",
   "execution_count": 1,
   "id": "prepared-consistency",
   "metadata": {
    "nbgrader": {
     "grade": false,
     "grade_id": "cell-7fc4f6ccc3b3f268",
     "locked": false,
     "schema_version": 3,
     "solution": true,
     "task": false
    }
   },
   "outputs": [],
   "source": [
    "def power_set(this_set):\n",
    "    ### BEGIN SOLUTION\n",
    "    \"\"\"\n",
    "    Returns the power set of this_set, the various subsets being\n",
    "    represented as frozensets\n",
    "    \"\"\"\n",
    "    # base case\n",
    "    if this_set == set() or this_set == {}:\n",
    "        return {frozenset({})}\n",
    "    # recursion step\n",
    "    else:        \n",
    "        # remove an element\n",
    "        el = this_set.pop()\n",
    "        \n",
    "        # power set of that set\n",
    "        short_power_set = power_set(this_set)\n",
    "        \n",
    "        # copy with the last element appended to each\n",
    "        short_power_set2 = {subset | frozenset({el}) for subset in short_power_set}\n",
    "        \n",
    "        # union of the two is returned\n",
    "        return short_power_set | short_power_set2\n",
    "    ### END SOLUTION"
   ]
  },
  {
   "cell_type": "code",
   "execution_count": 2,
   "id": "cathedral-habitat",
   "metadata": {},
   "outputs": [
    {
     "data": {
      "text/plain": [
       "{frozenset(),\n",
       " frozenset({2}),\n",
       " frozenset({1}),\n",
       " frozenset({1, 2}),\n",
       " frozenset({0}),\n",
       " frozenset({0, 1}),\n",
       " frozenset({0, 2}),\n",
       " frozenset({0, 1, 2})}"
      ]
     },
     "execution_count": 2,
     "metadata": {},
     "output_type": "execute_result"
    }
   ],
   "source": [
    "power_set({0,1,2})"
   ]
  },
  {
   "cell_type": "code",
   "execution_count": null,
   "id": "detected-chester",
   "metadata": {
    "nbgrader": {
     "grade": true,
     "grade_id": "cell-18689f9543ab4e90",
     "locked": true,
     "points": 4,
     "schema_version": 3,
     "solution": false,
     "task": false
    }
   },
   "outputs": [],
   "source": [
    "# 4 Marks\n",
    "# Do not try to delete this cell\n",
    "# Run this cell for grading\n",
    "_globals = globals()\n",
    "question3(_globals)"
   ]
  },
  {
   "cell_type": "markdown",
   "id": "chronic-provider",
   "metadata": {
    "nbgrader": {
     "grade": false,
     "grade_id": "cell-6793af10fb8d978a",
     "locked": true,
     "schema_version": 3,
     "solution": false,
     "task": false
    }
   },
   "source": [
    "## Question 4\n",
    "(a) Take your `xylene_isomers` dictionary, as corrected, and convert it into a string, `xylene_isomers_string`."
   ]
  },
  {
   "cell_type": "code",
   "execution_count": null,
   "id": "checked-sharing",
   "metadata": {
    "nbgrader": {
     "grade": false,
     "grade_id": "cell-de31117e983b3356",
     "locked": false,
     "schema_version": 3,
     "solution": true,
     "task": false
    }
   },
   "outputs": [],
   "source": [
    "### BEGIN SOLUTION\n",
    "xylene_isomers_string = str(xylene_isomers)\n",
    "### END SOLUTION\n",
    "\n",
    "print(xylene_isomers_string)"
   ]
  },
  {
   "cell_type": "code",
   "execution_count": null,
   "id": "empirical-disposal",
   "metadata": {
    "nbgrader": {
     "grade": true,
     "grade_id": "cell-a2b91a558fe53dbb",
     "locked": true,
     "points": 1,
     "schema_version": 3,
     "solution": false,
     "task": false
    }
   },
   "outputs": [],
   "source": [
    "# 1 Mark\n",
    "# Do not try to delete this cell\n",
    "# Run this cell for grading\n",
    "_globals = globals()\n",
    "question4a(_globals)"
   ]
  },
  {
   "cell_type": "markdown",
   "id": "seventh-class",
   "metadata": {
    "nbgrader": {
     "grade": false,
     "grade_id": "cell-2176742dffbbb23f",
     "locked": true,
     "schema_version": 3,
     "solution": false,
     "task": false
    }
   },
   "source": [
    "(b) Write this string to an external file called `xylene_isomers.txt`. Autograding can't help you here!"
   ]
  },
  {
   "cell_type": "code",
   "execution_count": null,
   "id": "derived-interaction",
   "metadata": {
    "nbgrader": {
     "grade": false,
     "grade_id": "cell-0ed1707326f6838b",
     "locked": false,
     "schema_version": 3,
     "solution": true,
     "task": false
    }
   },
   "outputs": [],
   "source": [
    "### BEGIN SOLUTION\n",
    "fo = open('xylene_isomers.txt','w')\n",
    "fo.write(xylene_isomers_string)\n",
    "fo.close()\n",
    "### END SOLUTION"
   ]
  },
  {
   "cell_type": "markdown",
   "id": "alleged-killing",
   "metadata": {
    "nbgrader": {
     "grade": false,
     "grade_id": "cell-ebd5f0421cbcf5b0",
     "locked": true,
     "schema_version": 3,
     "solution": false,
     "task": false
    }
   },
   "source": [
    "(c) Read in your external file as a string, `xylene_isomers_string2`."
   ]
  },
  {
   "cell_type": "code",
   "execution_count": null,
   "id": "sufficient-better",
   "metadata": {
    "nbgrader": {
     "grade": false,
     "grade_id": "cell-23cccfc73b453766",
     "locked": false,
     "schema_version": 3,
     "solution": true,
     "task": false
    }
   },
   "outputs": [],
   "source": [
    "### BEGIN SOLUTION\n",
    "fo = open('xylene_isomers.txt', 'r')\n",
    "xylene_isomers_string2 = fo.read()\n",
    "fo.close\n",
    "### END SOLUTION\n",
    "\n",
    "print(xylene_isomers_string2)"
   ]
  },
  {
   "cell_type": "code",
   "execution_count": null,
   "id": "subsequent-invalid",
   "metadata": {
    "nbgrader": {
     "grade": true,
     "grade_id": "cell-d7d9639e634f1bbc",
     "locked": true,
     "points": 1,
     "schema_version": 3,
     "solution": false,
     "task": false
    }
   },
   "outputs": [],
   "source": [
    "# 1 Mark\n",
    "# Do not try to delete this cell\n",
    "# Run this cell for grading\n",
    "_globals = globals()\n",
    "question4c(_globals)"
   ]
  },
  {
   "cell_type": "markdown",
   "id": "faced-communications",
   "metadata": {
    "nbgrader": {
     "grade": false,
     "grade_id": "cell-41d22d4d4f22758e",
     "locked": true,
     "schema_version": 3,
     "solution": false,
     "task": false
    }
   },
   "source": [
    "(d) Convert this string back into a dictionary, `xylene_isomers2`."
   ]
  },
  {
   "cell_type": "code",
   "execution_count": null,
   "id": "mechanical-surprise",
   "metadata": {
    "nbgrader": {
     "grade": false,
     "grade_id": "cell-a35bcdc8e815203b",
     "locked": false,
     "schema_version": 3,
     "solution": true,
     "task": false
    }
   },
   "outputs": [],
   "source": [
    "### BEGIN SOLUTION\n",
    "xylene_isomers2 = eval(xylene_isomers_string2)\n",
    "### END SOLUTION\n",
    "print(xylene_isomers2)"
   ]
  },
  {
   "cell_type": "code",
   "execution_count": null,
   "id": "regulation-running",
   "metadata": {
    "nbgrader": {
     "grade": true,
     "grade_id": "cell-2646ba379df0ad0b",
     "locked": true,
     "points": 1,
     "schema_version": 3,
     "solution": false,
     "task": false
    }
   },
   "outputs": [],
   "source": [
    "# 1 Mark\n",
    "# Do not try to delete this cell\n",
    "# Run this cell for grading\n",
    "_globals = globals()\n",
    "question4d(_globals)"
   ]
  },
  {
   "cell_type": "markdown",
   "id": "intended-escape",
   "metadata": {
    "nbgrader": {
     "grade": false,
     "grade_id": "cell-a661f76b861537d2",
     "locked": true,
     "schema_version": 3,
     "solution": false,
     "task": false
    }
   },
   "source": [
    "(e) Take your `xylene_isomers` dictionary, as corrected, and pickle it as `xylene_isomers.pickle`. Autograding can't help here!"
   ]
  },
  {
   "cell_type": "code",
   "execution_count": null,
   "id": "specified-contractor",
   "metadata": {
    "nbgrader": {
     "grade": false,
     "grade_id": "cell-44ce9d96abd7ed04",
     "locked": false,
     "schema_version": 3,
     "solution": true,
     "task": false
    }
   },
   "outputs": [],
   "source": [
    "### BEGIN SOLUTION\n",
    "po = open('xylene_isomers.pickle', 'wb')\n",
    "pickle.dump(xylene_isomers, po)\n",
    "po.close()\n",
    "### END SOLUTION"
   ]
  },
  {
   "cell_type": "markdown",
   "id": "ruled-rider",
   "metadata": {
    "nbgrader": {
     "grade": false,
     "grade_id": "cell-eb0eaf44d08a78bf",
     "locked": true,
     "schema_version": 3,
     "solution": false,
     "task": false
    }
   },
   "source": [
    "(f) Unpickle this file as `xylene_isomers3`."
   ]
  },
  {
   "cell_type": "code",
   "execution_count": null,
   "id": "million-ireland",
   "metadata": {
    "nbgrader": {
     "grade": false,
     "grade_id": "cell-dde568c125cd5488",
     "locked": false,
     "schema_version": 3,
     "solution": true,
     "task": false
    }
   },
   "outputs": [],
   "source": [
    "### BEGIN SOLUTION\n",
    "po = open('xylene_isomers.pickle', 'rb')\n",
    "xylene_isomers3 = pickle.load(po)\n",
    "po.close()\n",
    "### END SOLUTION\n",
    "\n",
    "xylene_isomers3"
   ]
  },
  {
   "cell_type": "code",
   "execution_count": null,
   "id": "musical-shift",
   "metadata": {
    "nbgrader": {
     "grade": true,
     "grade_id": "cell-72571ecba9ebed63",
     "locked": true,
     "points": 1,
     "schema_version": 3,
     "solution": false,
     "task": false
    }
   },
   "outputs": [],
   "source": [
    "# 1 Mark\n",
    "# Do not try to delete this cell\n",
    "# Run this cell for grading\n",
    "_globals = globals()\n",
    "question4f(_globals)"
   ]
  },
  {
   "cell_type": "markdown",
   "id": "novel-conspiracy",
   "metadata": {
    "nbgrader": {
     "grade": false,
     "grade_id": "cell-14c498f4fa1372ac",
     "locked": true,
     "schema_version": 3,
     "solution": false,
     "task": false
    }
   },
   "source": [
    "(g) Pickle the `cos` function from `math`, and unpickle it as `new_cos`. Test it."
   ]
  },
  {
   "cell_type": "code",
   "execution_count": null,
   "id": "dominican-relative",
   "metadata": {
    "nbgrader": {
     "grade": false,
     "grade_id": "cell-b67b7fd7dda67d98",
     "locked": false,
     "schema_version": 3,
     "solution": true,
     "task": false
    }
   },
   "outputs": [],
   "source": [
    "### BEGIN SOLUTION\n",
    "po = open('cos.pickle', 'wb')\n",
    "pickle.dump(math.cos, po)\n",
    "po.close()\n",
    "\n",
    "po = open('cos.pickle', 'rb')\n",
    "new_cos = pickle.load(po)\n",
    "po.close()\n",
    "### END SOLUTION\n",
    "\n",
    "print(new_cos(math.pi))"
   ]
  },
  {
   "cell_type": "code",
   "execution_count": null,
   "id": "ambient-washington",
   "metadata": {
    "nbgrader": {
     "grade": true,
     "grade_id": "cell-581fb821b12fb1c7",
     "locked": true,
     "points": 1,
     "schema_version": 3,
     "solution": false,
     "task": false
    }
   },
   "outputs": [],
   "source": [
    "# 1 Mark\n",
    "# Do not try to delete this cell\n",
    "# Run this cell for grading\n",
    "_globals = globals()\n",
    "question4g(_globals)"
   ]
  },
  {
   "cell_type": "markdown",
   "id": "popular-biotechnology",
   "metadata": {
    "nbgrader": {
     "grade": false,
     "grade_id": "cell-aaa1a259a8df0858",
     "locked": true,
     "schema_version": 3,
     "solution": false,
     "task": false
    }
   },
   "source": [
    "(h) Pickle your `power_set` function, and unpickle it as `new_power_set`. Test it."
   ]
  },
  {
   "cell_type": "code",
   "execution_count": null,
   "id": "atlantic-intensity",
   "metadata": {
    "nbgrader": {
     "grade": false,
     "grade_id": "cell-b05283bfcdf07066",
     "locked": false,
     "schema_version": 3,
     "solution": true,
     "task": false
    }
   },
   "outputs": [],
   "source": [
    "### BEGIN SOLUTION\n",
    "po = open('power_set.pickle', 'wb')\n",
    "pickle.dump(power_set, po)\n",
    "po.close()\n",
    "\n",
    "po = open('power_set.pickle', 'rb')\n",
    "new_power_set = pickle.load(po)\n",
    "po.close()\n",
    "### END SOLUTION\n",
    "\n",
    "print(new_power_set({0, 1, 2}))"
   ]
  },
  {
   "cell_type": "code",
   "execution_count": null,
   "id": "elect-assault",
   "metadata": {
    "nbgrader": {
     "grade": true,
     "grade_id": "cell-e2b127a78684912f",
     "locked": true,
     "points": 1,
     "schema_version": 3,
     "solution": false,
     "task": false
    }
   },
   "outputs": [],
   "source": [
    "# 1 Mark\n",
    "# Do not try to delete this cell\n",
    "# Run this cell for grading\n",
    "_globals = globals()\n",
    "question4h(_globals)"
   ]
  },
  {
   "cell_type": "markdown",
   "id": "paperback-bride",
   "metadata": {
    "nbgrader": {
     "grade": false,
     "grade_id": "cell-e2817f77dae68bb4",
     "locked": true,
     "schema_version": 3,
     "solution": false,
     "task": false
    }
   },
   "source": [
    "## Question 5\n",
    "\n",
    "Here is a listing of the `OperatorExpression` class we developed in the video lectures and the course notes, complete with the methods `__init__`, `prefixForm`, `infixOperator`, `infixForm`, `subs` and `evaluate`."
   ]
  },
  {
   "cell_type": "code",
   "execution_count": 5,
   "id": "floating-citizenship",
   "metadata": {
    "nbgrader": {
     "grade": false,
     "grade_id": "cell-6fdc1c27c2d2bf0d",
     "locked": true,
     "schema_version": 3,
     "solution": false,
     "task": false
    }
   },
   "outputs": [],
   "source": [
    "class OperatorExpression(object):\n",
    "    \"\"\"Expression of the form a <operator> b, where <operator> is\n",
    "    +, -, *, /, //, ** or %\"\"\"\n",
    "    \n",
    "    def __init__(self, root, left, right):\n",
    "        self.contents = (root, left, right)\n",
    "        \n",
    "    def prefixForm(self):\n",
    "        \"Method: returns string in the form root(left, right)\"\n",
    "        root, left, right = self.contents[0], self.contents[1], \\\n",
    "self.contents[2]\n",
    "        return root+'('+str(left)+', '+str(right)+')'\n",
    "    \n",
    "    def infixOperator(self):\n",
    "        \"\"\"Method: returns the infix operator \n",
    "        associated with the root node\"\"\"\n",
    "        root = self.contents[0]\n",
    "        if root == 'plus':\n",
    "            return '+'\n",
    "        elif root == 'subtract':\n",
    "            return '-'\n",
    "        elif root == 'times':\n",
    "            return '*'\n",
    "        elif root == 'divide':\n",
    "            return '/'\n",
    "        elif root == 'intdivide':\n",
    "            return '//'\n",
    "        elif root == 'power':\n",
    "            return '**'\n",
    "        elif root == 'mod':\n",
    "            return '%'\n",
    "    \n",
    "    def infixForm(self):\n",
    "        \"\"\"Method: returns string in the form (left) op (right) where \n",
    "        op is the infix operator associated with the root node\"\"\"\n",
    "        root, left, right = self.contents[0], self.contents[1], \\\n",
    "self.contents[2]\n",
    "        return \\\n",
    "    '('+str(left)+') '+self.infixOperator()+' ('+str(right)+')'\n",
    "    \n",
    "    def subs(self, var, val):\n",
    "        \"\"\"Method: returns an OperatorExpression \n",
    "        with var substituted for val\"\"\"\n",
    "        root, left, right = self.contents[0], self.contents[1], \\\n",
    "self.contents[2]\n",
    "        if left == var and right == var:\n",
    "            # variable present on both sides of the expression\n",
    "            return OperatorExpression(root, val, val)\n",
    "        elif left == var:\n",
    "            # variable present on the left hand side only\n",
    "            return OperatorExpression(root, val, right)\n",
    "        elif right == var:\n",
    "            # variable present on the right hand side only\n",
    "            return OperatorExpression(root, left, val)\n",
    "        else:\n",
    "            # variable not present\n",
    "            return self\n",
    "\n",
    "    def evaluate(self):\n",
    "        \"Method: returns the numerical value of an OperatorExpression\"\n",
    "        root, left, right = self.contents[0], self.contents[1], \\\n",
    "self.contents[2]\n",
    "        if root == 'plus':\n",
    "            return left + right\n",
    "        elif root == 'subtract':\n",
    "            return left - right\n",
    "        elif root == 'times':\n",
    "            return left * right\n",
    "        elif root == 'divide':\n",
    "            return left / right\n",
    "        elif root == 'intdivide':\n",
    "            return left // right\n",
    "        elif root == 'power':\n",
    "            return left ** right\n",
    "        elif root == 'mod':\n",
    "            return left % right"
   ]
  },
  {
   "cell_type": "markdown",
   "id": "scenic-contribution",
   "metadata": {
    "nbgrader": {
     "grade": false,
     "grade_id": "cell-b7c67e8a76c0255f",
     "locked": true,
     "schema_version": 3,
     "solution": false,
     "task": false
    }
   },
   "source": [
    "### (i)\n",
    "\n",
    "(a) Create an `OperatorExpression`, `expr1`, that represents the expression `3 ** x`."
   ]
  },
  {
   "cell_type": "code",
   "execution_count": 6,
   "id": "mobile-harris",
   "metadata": {
    "nbgrader": {
     "grade": false,
     "grade_id": "cell-746b8f65f0245fc9",
     "locked": false,
     "schema_version": 3,
     "solution": true,
     "task": false
    }
   },
   "outputs": [
    {
     "name": "stdout",
     "output_type": "stream",
     "text": [
      "('power', 3, 'x')\n"
     ]
    }
   ],
   "source": [
    "### BEGIN SOLUTION\n",
    "expr1 = OperatorExpression('power', 3, 'x')\n",
    "### END SOLUTION\n",
    "\n",
    "print(expr1.contents)"
   ]
  },
  {
   "cell_type": "code",
   "execution_count": 7,
   "id": "stunning-transsexual",
   "metadata": {
    "nbgrader": {
     "grade": true,
     "grade_id": "cell-da391cca9a9030bf",
     "locked": true,
     "points": 1,
     "schema_version": 3,
     "solution": false,
     "task": false
    }
   },
   "outputs": [
    {
     "name": "stdout",
     "output_type": "stream",
     "text": [
      "expr1 is correct\n",
      "Test passed!\n"
     ]
    },
    {
     "data": {
      "text/plain": [
       "1"
      ]
     },
     "execution_count": 7,
     "metadata": {},
     "output_type": "execute_result"
    }
   ],
   "source": [
    "# 1 Mark\n",
    "# Do not try to delete this cell\n",
    "# Run this cell for grading\n",
    "_globals = globals()\n",
    "question5ia(_globals)"
   ]
  },
  {
   "cell_type": "markdown",
   "id": "correct-cooperation",
   "metadata": {
    "nbgrader": {
     "grade": false,
     "grade_id": "cell-bcecae72ae68f953",
     "locked": true,
     "schema_version": 3,
     "solution": false,
     "task": false
    }
   },
   "source": [
    "(b) Using the `subs` method, create an `OperatorExpression`, `expr1subs`, with the value 6 substituted for `x`."
   ]
  },
  {
   "cell_type": "code",
   "execution_count": 8,
   "id": "checked-logistics",
   "metadata": {
    "nbgrader": {
     "grade": false,
     "grade_id": "cell-95c4a6334c2a2645",
     "locked": false,
     "schema_version": 3,
     "solution": true,
     "task": false
    }
   },
   "outputs": [
    {
     "name": "stdout",
     "output_type": "stream",
     "text": [
      "('power', 3, 6)\n"
     ]
    }
   ],
   "source": [
    "### BEGIN SOLUTION\n",
    "expr1subs = expr1.subs('x', 6)\n",
    "### END SOLUTION\n",
    "\n",
    "print(expr1subs.contents)"
   ]
  },
  {
   "cell_type": "code",
   "execution_count": 9,
   "id": "incorporated-superintendent",
   "metadata": {
    "nbgrader": {
     "grade": true,
     "grade_id": "cell-18f685a2a1646e88",
     "locked": true,
     "points": 1,
     "schema_version": 3,
     "solution": false,
     "task": false
    }
   },
   "outputs": [
    {
     "name": "stdout",
     "output_type": "stream",
     "text": [
      "expr1subs is correct\n",
      "Test passed!\n"
     ]
    },
    {
     "data": {
      "text/plain": [
       "1"
      ]
     },
     "execution_count": 9,
     "metadata": {},
     "output_type": "execute_result"
    }
   ],
   "source": [
    "# 1 Mark\n",
    "# Do not try to delete this cell\n",
    "# Run this cell for grading\n",
    "_globals = globals()\n",
    "question5ib(_globals)"
   ]
  },
  {
   "cell_type": "markdown",
   "id": "adaptive-secret",
   "metadata": {
    "nbgrader": {
     "grade": false,
     "grade_id": "cell-ab02b48e52122d07",
     "locked": true,
     "schema_version": 3,
     "solution": false,
     "task": false
    }
   },
   "source": [
    "(c) Using the `evaluate` method, calculate the value of `expr1subs`, `val1`."
   ]
  },
  {
   "cell_type": "code",
   "execution_count": 10,
   "id": "invalid-chuck",
   "metadata": {
    "nbgrader": {
     "grade": false,
     "grade_id": "cell-4ebe94fc246285a9",
     "locked": false,
     "schema_version": 3,
     "solution": true,
     "task": false
    }
   },
   "outputs": [
    {
     "name": "stdout",
     "output_type": "stream",
     "text": [
      "729\n"
     ]
    }
   ],
   "source": [
    "### BEGIN SOLUTION\n",
    "val1 = expr1subs.evaluate()\n",
    "### END SOLUTION\n",
    "\n",
    "print(val1)"
   ]
  },
  {
   "cell_type": "code",
   "execution_count": 11,
   "id": "flush-computer",
   "metadata": {
    "nbgrader": {
     "grade": true,
     "grade_id": "cell-1e4d75a29f02f49f",
     "locked": true,
     "points": 1,
     "schema_version": 3,
     "solution": false,
     "task": false
    }
   },
   "outputs": [
    {
     "name": "stdout",
     "output_type": "stream",
     "text": [
      "val1 is correct\n",
      "Test passed!\n"
     ]
    },
    {
     "data": {
      "text/plain": [
       "1"
      ]
     },
     "execution_count": 11,
     "metadata": {},
     "output_type": "execute_result"
    }
   ],
   "source": [
    "# 1 Mark\n",
    "# Do not try to delete this cell\n",
    "# Run this cell for grading\n",
    "_globals = globals()\n",
    "question5ic(_globals)"
   ]
  },
  {
   "cell_type": "markdown",
   "id": "related-kitty",
   "metadata": {
    "nbgrader": {
     "grade": false,
     "grade_id": "cell-ae3cc5c55f3ffb3e",
     "locked": true,
     "schema_version": 3,
     "solution": false,
     "task": false
    }
   },
   "source": [
    "Here is a listing, so far, of the `ExpressionTree` class that we began developing in the video lectures and the course notes, complete with the `__init__` and `prefixForm` methods."
   ]
  },
  {
   "cell_type": "code",
   "execution_count": 12,
   "id": "willing-sessions",
   "metadata": {
    "nbgrader": {
     "grade": false,
     "grade_id": "cell-0a0aeba90389304a",
     "locked": true,
     "schema_version": 3,
     "solution": false,
     "task": false
    }
   },
   "outputs": [],
   "source": [
    "class ExpressionTree(OperatorExpression):\n",
    "    \"A compound tree built from OperatorExpressions\"\n",
    "    \n",
    "    def __init__(self, root, left=None, right=None):\n",
    "        if left==None or right==None:\n",
    "            # default: childless tree, contents consist of a 1-tuple\n",
    "            self.contents = (root,)\n",
    "        else:\n",
    "            # parent tree, contents consist of a 3-tuple\n",
    "            self.contents = (root, left, right)\n",
    "\n",
    "\n",
    "    def prefixForm(self):\n",
    "        \"Method: returns string consisting of nested expressions\"\n",
    "        if len(self.contents) == 1:\n",
    "            # childless tree: return the root node as a string\n",
    "            return str(self.contents[0])\n",
    "        else:\n",
    "            # parent tree: recurse down the structure\n",
    "            root, left, right = self.contents[0], self.contents[1], \\\n",
    "self.contents[2]\n",
    "            return \\\n",
    "        root+'('+left.prefixForm()+', '+right.prefixForm()+')'    "
   ]
  },
  {
   "cell_type": "markdown",
   "id": "proprietary-football",
   "metadata": {
    "nbgrader": {
     "grade": false,
     "grade_id": "cell-8b87fd0725790f40",
     "locked": true,
     "schema_version": 3,
     "solution": false,
     "task": false
    }
   },
   "source": [
    "### (ii)\n",
    "\n",
    "(a) Set up childless `ExpressionTrees` `expr1`, `expr2`, `expr3` and `expr4`, representing `5`, `3`, `x` and `y`."
   ]
  },
  {
   "cell_type": "code",
   "execution_count": 13,
   "id": "cooked-hydrogen",
   "metadata": {
    "nbgrader": {
     "grade": false,
     "grade_id": "cell-70f6484d74613e22",
     "locked": false,
     "schema_version": 3,
     "solution": true,
     "task": false
    }
   },
   "outputs": [
    {
     "name": "stdout",
     "output_type": "stream",
     "text": [
      "(5,)\n",
      "(3,)\n",
      "('x',)\n",
      "('y',)\n"
     ]
    }
   ],
   "source": [
    "### BEGIN SOLUTION\n",
    "expr1 = ExpressionTree(5)\n",
    "expr2 = ExpressionTree(3)\n",
    "expr3 = ExpressionTree('x')\n",
    "expr4 = ExpressionTree('y')\n",
    "### END SOLUTION\n",
    "\n",
    "print(expr1.contents)\n",
    "print(expr2.contents)\n",
    "print(expr3.contents)\n",
    "print(expr4.contents)"
   ]
  },
  {
   "cell_type": "code",
   "execution_count": 14,
   "id": "detected-ozone",
   "metadata": {
    "nbgrader": {
     "grade": true,
     "grade_id": "cell-52e08683922c4c9a",
     "locked": true,
     "points": 1,
     "schema_version": 3,
     "solution": false,
     "task": false
    }
   },
   "outputs": [
    {
     "name": "stdout",
     "output_type": "stream",
     "text": [
      "expr1 is correct\n",
      "expr2 is correct\n",
      "expr3 is correct\n",
      "expr4 is correct\n",
      "Test passed!\n"
     ]
    },
    {
     "data": {
      "text/plain": [
       "1"
      ]
     },
     "execution_count": 14,
     "metadata": {},
     "output_type": "execute_result"
    }
   ],
   "source": [
    "# 1 Mark\n",
    "# Do not try to delete this cell\n",
    "# Run this cell for grading\n",
    "_globals = globals()\n",
    "question5iia(_globals)"
   ]
  },
  {
   "cell_type": "markdown",
   "id": "educated-ceremony",
   "metadata": {
    "nbgrader": {
     "grade": false,
     "grade_id": "cell-25c1ae91fabb64a9",
     "locked": true,
     "schema_version": 3,
     "solution": false,
     "task": false
    }
   },
   "source": [
    "(b) Set up `expr5`, `expr6` and `expr7`, representing, respectively, `3 ** x`, `5 * (3 ** x)` and `5 * (3 ** x) - y`. Test them using the `prefixForm` method."
   ]
  },
  {
   "cell_type": "code",
   "execution_count": 12,
   "id": "judicial-philadelphia",
   "metadata": {
    "nbgrader": {
     "grade": false,
     "grade_id": "cell-ef9201392d68ab75",
     "locked": false,
     "schema_version": 3,
     "solution": true,
     "task": false
    }
   },
   "outputs": [
    {
     "name": "stdout",
     "output_type": "stream",
     "text": [
      "power(3, x)\n",
      "times(5, power(3, x))\n",
      "subtract(times(5, power(3, x)), y)\n"
     ]
    }
   ],
   "source": [
    "### BEGIN SOLUTION\n",
    "expr5 = ExpressionTree('power', expr2, expr3)\n",
    "expr6 = ExpressionTree('times', expr1, expr5)\n",
    "expr7 = ExpressionTree('subtract', expr6, expr4)\n",
    "### END SOLUTION\n",
    "\n",
    "print(expr5.prefixForm())\n",
    "print(expr6.prefixForm())\n",
    "print(expr7.prefixForm())"
   ]
  },
  {
   "cell_type": "code",
   "execution_count": 13,
   "id": "later-suicide",
   "metadata": {
    "nbgrader": {
     "grade": true,
     "grade_id": "cell-88941c22c45174da",
     "locked": true,
     "points": 3,
     "schema_version": 3,
     "solution": false,
     "task": false
    }
   },
   "outputs": [
    {
     "name": "stdout",
     "output_type": "stream",
     "text": [
      "expr5 is correct\n",
      "expr6 is correct\n",
      "expr7 is correct\n",
      "\n",
      "3 out of 3\n"
     ]
    },
    {
     "data": {
      "text/plain": [
       "3"
      ]
     },
     "execution_count": 13,
     "metadata": {},
     "output_type": "execute_result"
    }
   ],
   "source": [
    "# 3 Marks\n",
    "# Do not try to delete this cell\n",
    "# Run this cell for grading\n",
    "_globals = globals()\n",
    "question5iib(_globals)"
   ]
  },
  {
   "cell_type": "markdown",
   "id": "figured-treat",
   "metadata": {
    "nbgrader": {
     "grade": false,
     "grade_id": "cell-8f65780119ce474a",
     "locked": true,
     "schema_version": 3,
     "solution": false,
     "task": false
    }
   },
   "source": [
    "### (iii)\n",
    "\n",
    "The next few questions are fairly challenging, I think.\n",
    "\n",
    "(a) Write an `infixForm` method for `ExpressionTree`, and add it to the code for this class (it will need to be in the same cell; apologies for any copy-pasting that may be necessary!) A recursive implementation may work well here.\n",
    "\n",
    "Redefine `expr1` to `expr7` using your new class (you'll need to do this, or they'll still be instances of the old one).\n",
    "\n",
    "Test your new function on `expr5`, `expr6` and `expr7`: you should get, respectively\n",
    "```\n",
    "(3) ** (x)\n",
    "(5) * ((3) ** (x))\n",
    "((5) * ((3) ** (x))) - (y)\n",
    "```"
   ]
  },
  {
   "cell_type": "code",
   "execution_count": 15,
   "id": "billion-formula",
   "metadata": {
    "nbgrader": {
     "grade": false,
     "grade_id": "cell-0c1b5f6c27714822",
     "locked": false,
     "schema_version": 3,
     "solution": true,
     "task": false
    }
   },
   "outputs": [],
   "source": [
    "# cell for the new class, complete with the infixForm method\n",
    "class ExpressionTree(OperatorExpression):\n",
    "    \"A compound tree built from OperatorExpressions\"\n",
    "    ### BEGIN SOLUTION\n",
    "    \n",
    "    def __init__(self, root, left=None, right=None):\n",
    "        if left==None or right==None:\n",
    "            # default: childless tree, contents consist of a 1-tuple\n",
    "            self.contents = (root,)\n",
    "        else:\n",
    "            # parent tree, contents consist of a 3-tuple\n",
    "            self.contents = (root, left, right)\n",
    "\n",
    "\n",
    "    def prefixForm(self):\n",
    "        \"Method: returns string consisting of nested expressions\"\n",
    "        if len(self.contents) == 1:\n",
    "            # childless tree: return the root node as a string\n",
    "            return str(self.contents[0])\n",
    "        else:\n",
    "            # parent tree: recurse down the structure\n",
    "            root, left, right = self.contents[0], self.contents[1], \\\n",
    "self.contents[2]\n",
    "            return \\\n",
    "        root+'('+left.prefixForm()+', '+right.prefixForm()+')'       \n",
    "\n",
    "    def infixForm(self):\n",
    "        \"Method: returns string consisting of nested expressions in infix form\"\n",
    "        if len(self.contents) == 1:\n",
    "            return str(self.contents[0])\n",
    "        else:\n",
    "            root, left, right = self.contents[0], self.contents[1], \\\n",
    "self.contents[2]\n",
    "            return '('+left.infixForm()+') '+self.infixOperator()+' ('+\\\n",
    "right.infixForm()+')'  \n",
    "    ### END SOLUTION"
   ]
  },
  {
   "cell_type": "code",
   "execution_count": 16,
   "id": "unable-vaccine",
   "metadata": {
    "nbgrader": {
     "grade": false,
     "grade_id": "cell-c4ca5c62b171de47",
     "locked": false,
     "schema_version": 3,
     "solution": true,
     "task": false
    }
   },
   "outputs": [
    {
     "name": "stdout",
     "output_type": "stream",
     "text": [
      "(3) ** (x)\n",
      "(5) * ((3) ** (x))\n",
      "((5) * ((3) ** (x))) - (y)\n"
     ]
    }
   ],
   "source": [
    "# cell for testing\n",
    "\n",
    "### BEGIN SOLUTION\n",
    "expr1 = ExpressionTree(5)\n",
    "expr2 = ExpressionTree(3)\n",
    "expr3 = ExpressionTree('x')\n",
    "expr4 = ExpressionTree('y')\n",
    "expr5 = ExpressionTree('power', expr2, expr3)\n",
    "expr6 = ExpressionTree('times', expr1, expr5)\n",
    "expr7 = ExpressionTree('subtract', expr6, expr4)\n",
    "### END SOLUTION\n",
    "\n",
    "print(expr5.infixForm())\n",
    "print(expr6.infixForm())\n",
    "print(expr7.infixForm())"
   ]
  },
  {
   "cell_type": "code",
   "execution_count": 16,
   "id": "emerging-consultancy",
   "metadata": {
    "nbgrader": {
     "grade": true,
     "grade_id": "cell-576bdd24398a0e5c",
     "locked": true,
     "points": 4,
     "schema_version": 3,
     "solution": false,
     "task": false
    }
   },
   "outputs": [
    {
     "name": "stdout",
     "output_type": "stream",
     "text": [
      "ExpressionTree is set up correctly\n",
      "expr5.infixForm() returns the correct output\n",
      "expr6.infixForm() returns the correct output\n",
      "expr7.infixForm() returns the correct output\n",
      "\n",
      "4 out of 4\n"
     ]
    },
    {
     "data": {
      "text/plain": [
       "4"
      ]
     },
     "execution_count": 16,
     "metadata": {},
     "output_type": "execute_result"
    }
   ],
   "source": [
    "# 4 Marks\n",
    "# Do not try to delete this cell\n",
    "# Run this cell for grading\n",
    "_globals = globals()\n",
    "question5iiia(_globals)"
   ]
  },
  {
   "cell_type": "markdown",
   "id": "associate-criticism",
   "metadata": {
    "nbgrader": {
     "grade": false,
     "grade_id": "cell-c885c0a62f96c6a7",
     "locked": true,
     "schema_version": 3,
     "solution": false,
     "task": false
    }
   },
   "source": [
    "(b) Write a `subs` method (probably recursive?) for `ExpressionTree`; again, you'll need to have everything in the same cell.\n",
    "\n",
    "Redefine `expr1` to `expr7` again (sorry!), and test your function by substituting $x=6$ into `expr5` and `expr6`, and $x=6,y=40$ into `expr7`."
   ]
  },
  {
   "cell_type": "code",
   "execution_count": 17,
   "id": "endless-peripheral",
   "metadata": {
    "nbgrader": {
     "grade": false,
     "grade_id": "cell-b253d76b07806f72",
     "locked": false,
     "schema_version": 3,
     "solution": true,
     "task": false
    }
   },
   "outputs": [],
   "source": [
    "# cell for the new class, complete with the infixForm \n",
    "# and subs methods\n",
    "class ExpressionTree(OperatorExpression):\n",
    "    \"A compound tree built from OperatorExpressions\"\n",
    "    ### BEGIN SOLUTION\n",
    "    \n",
    "    def __init__(self, root, left=None, right=None):\n",
    "        if left==None or right==None:\n",
    "            # default: childless tree, contents consist of a 1-tuple\n",
    "            self.contents = (root,)\n",
    "        else:\n",
    "            # parent tree, contents consist of a 3-tuple\n",
    "            self.contents = (root, left, right)\n",
    "\n",
    "\n",
    "    def prefixForm(self):\n",
    "        \"Method: returns string consisting of nested expressions\"\n",
    "        if len(self.contents) == 1:\n",
    "            # childless tree: return the root node as a string\n",
    "            return str(self.contents[0])\n",
    "        else:\n",
    "            # parent tree: recurse down the structure\n",
    "            root, left, right = self.contents[0], self.contents[1], \\\n",
    "self.contents[2]\n",
    "            return \\\n",
    "        root+'('+left.prefixForm()+', '+right.prefixForm()+')'       \n",
    "\n",
    "    def infixForm(self):\n",
    "        \"Method: returns string consisting of nested expressions in infix form\"\n",
    "        if len(self.contents) == 1:\n",
    "            return str(self.contents[0])\n",
    "        else:\n",
    "            root, left, right = self.contents[0], self.contents[1], \\\n",
    "self.contents[2]\n",
    "            return '('+left.infixForm()+') '+self.infixOperator()+' ('+\\\n",
    "right.infixForm()+')' \n",
    "        \n",
    "    def subs(self, var, val):\n",
    "        \"\"\"Method: returns an ExpressionTree \n",
    "        with var substituted for val\"\"\"\n",
    "        if len(self.contents) == 1:\n",
    "            if self.contents[0] == var:\n",
    "                return ExpressionTree(val)\n",
    "            else:\n",
    "                return self\n",
    "        else:\n",
    "            root, left, right = self.contents[0], self.contents[1], \\\n",
    "self.contents[2]\n",
    "            return ExpressionTree(root, left.subs(var, val), \\\n",
    "right.subs(var, val))\n",
    "    ### END SOLUTION"
   ]
  },
  {
   "cell_type": "code",
   "execution_count": 18,
   "id": "verified-general",
   "metadata": {
    "nbgrader": {
     "grade": false,
     "grade_id": "cell-0930bad21089cd7f",
     "locked": false,
     "schema_version": 3,
     "solution": true,
     "task": false
    }
   },
   "outputs": [
    {
     "name": "stdout",
     "output_type": "stream",
     "text": [
      "(3) ** (6)\n",
      "(5) * ((3) ** (6))\n",
      "((5) * ((3) ** (6))) - (40)\n"
     ]
    }
   ],
   "source": [
    "# cell for testing\n",
    "\n",
    "### BEGIN SOLUTION\n",
    "expr1 = ExpressionTree(5)\n",
    "expr2 = ExpressionTree(3)\n",
    "expr3 = ExpressionTree('x')\n",
    "expr4 = ExpressionTree('y')\n",
    "expr5 = ExpressionTree('power', expr2, expr3)\n",
    "expr6 = ExpressionTree('times', expr1, expr5)\n",
    "expr7 = ExpressionTree('subtract', expr6, expr4)\n",
    "### END SOLUTION\n",
    "\n",
    "print(expr5.subs('x',6).infixForm())\n",
    "print(expr6.subs('x',6).infixForm())\n",
    "print(expr7.subs('x',6).subs('y',40).infixForm())"
   ]
  },
  {
   "cell_type": "code",
   "execution_count": 19,
   "id": "thermal-concert",
   "metadata": {
    "nbgrader": {
     "grade": true,
     "grade_id": "cell-bf57417713f6075a",
     "locked": true,
     "points": 4,
     "schema_version": 3,
     "solution": false,
     "task": false
    }
   },
   "outputs": [
    {
     "name": "stdout",
     "output_type": "stream",
     "text": [
      "ExpressionTree is set up correctly\n",
      "\n",
      "expr5.subs('x',6).infixForm() returns the correct output\n",
      "\n",
      "expr6.subs('x',6).infixForm() returns the correct output\n",
      "\n",
      "expr7.subs('x',6).subs('y',40).infixForm() returns the correct output\n",
      "\n",
      "4 out of 4\n"
     ]
    },
    {
     "data": {
      "text/plain": [
       "4"
      ]
     },
     "execution_count": 19,
     "metadata": {},
     "output_type": "execute_result"
    }
   ],
   "source": [
    "# 4 Marks\n",
    "# Do not try to delete this cell\n",
    "# Run this cell for grading\n",
    "_globals = globals()\n",
    "question5iiib(_globals)"
   ]
  },
  {
   "cell_type": "markdown",
   "id": "lightweight-pharmacology",
   "metadata": {
    "nbgrader": {
     "grade": false,
     "grade_id": "cell-d7a74d45f5eee355",
     "locked": true,
     "schema_version": 3,
     "solution": false,
     "task": false
    }
   },
   "source": [
    "(c) Write an `evaluate` method (probably recursive?) for `ExpressionTree`; again, you'll need to have everything in the same cell.\n",
    "\n",
    "Redefine `expr1` to `expr7` again (sorry!), and test your function by substituting $x=6$ into `expr5` and `expr6`, and $x=6,y=40$ into `expr7`, then calculating the numerical values."
   ]
  },
  {
   "cell_type": "code",
   "execution_count": 20,
   "id": "blond-hurricane",
   "metadata": {
    "nbgrader": {
     "grade": false,
     "grade_id": "cell-a3821a25fd16fae4",
     "locked": false,
     "schema_version": 3,
     "solution": true,
     "task": false
    }
   },
   "outputs": [],
   "source": [
    "# cell for the new class, complete with the infixForm,\n",
    "# subs and evaluate methods\n",
    "class ExpressionTree(OperatorExpression):\n",
    "    \"A compound tree built from OperatorExpressions\"\n",
    "    ### BEGIN SOLUTION\n",
    "    \n",
    "    def __init__(self, root, left=None, right=None):\n",
    "        if left==None or right==None:\n",
    "            # default: childless tree, contents consist of a 1-tuple\n",
    "            self.contents = (root,)\n",
    "        else:\n",
    "            # parent tree, contents consist of a 3-tuple\n",
    "            self.contents = (root, left, right)\n",
    "\n",
    "    def prefixForm(self):\n",
    "        \"Method: returns string consisting of nested expressions\"\n",
    "        if len(self.contents) == 1:\n",
    "            # childless tree: return the root node as a string\n",
    "            return str(self.contents[0])\n",
    "        else:\n",
    "            # parent tree: recurse down the structure\n",
    "            root, left, right = self.contents[0], self.contents[1], \\\n",
    "self.contents[2]\n",
    "            return \\\n",
    "        root+'('+left.prefixForm()+', '+right.prefixForm()+')'       \n",
    "\n",
    "    def infixForm(self):\n",
    "        \"Method: returns string consisting of nested expressions in infix form\"\n",
    "        if len(self.contents) == 1:\n",
    "            return str(self.contents[0])\n",
    "        else:\n",
    "            root, left, right = self.contents[0], self.contents[1], \\\n",
    "self.contents[2]\n",
    "            return '('+left.infixForm()+') '+self.infixOperator()+' ('+\\\n",
    "right.infixForm()+')' \n",
    "        \n",
    "    def subs(self, var, val):\n",
    "        \"\"\"Method: returns an ExpressionTree \n",
    "        with var substituted for val\"\"\"\n",
    "        if len(self.contents) == 1:\n",
    "            if self.contents[0] == var:\n",
    "                return ExpressionTree(val)\n",
    "            else:\n",
    "                return self\n",
    "        else:\n",
    "            root, left, right = self.contents[0], self.contents[1], \\\n",
    "self.contents[2]\n",
    "            return ExpressionTree(root, left.subs(var, val), \\\n",
    "right.subs(var, val))\n",
    "\n",
    "    def evaluate(self):\n",
    "        \"Method: returns the numerical value of an ExpressionTree\"\n",
    "        if len(self.contents) == 1:\n",
    "            if isinstance(self.contents[0], str):\n",
    "                return eval(self.contents[0])\n",
    "            else:\n",
    "                return self.contents[0]\n",
    "        else:\n",
    "            root, left, right = self.contents[0], self.contents[1], \\\n",
    "self.contents[2]\n",
    "            if root == 'plus':\n",
    "                return left.evaluate() + right.evaluate()\n",
    "            elif root == 'subtract':\n",
    "                return left.evaluate() - right.evaluate()\n",
    "            elif root == 'times':\n",
    "                return left.evaluate() * right.evaluate()\n",
    "            elif root == 'divide':\n",
    "                return left.evaluate() / right.evaluate()\n",
    "            elif root == 'intdivide':\n",
    "                return left.evaluate() // right.evaluate()\n",
    "            elif root == 'power':\n",
    "                return left.evaluate() ** right.evaluate()\n",
    "            elif root == 'mod':\n",
    "                return left.evaluate() % right.evaluate()    \n",
    "    \n",
    "    ### END SOLUTION"
   ]
  },
  {
   "cell_type": "code",
   "execution_count": 21,
   "id": "accomplished-techno",
   "metadata": {
    "nbgrader": {
     "grade": false,
     "grade_id": "cell-aa2868a5f5800a77",
     "locked": false,
     "schema_version": 3,
     "solution": true,
     "task": false
    }
   },
   "outputs": [
    {
     "name": "stdout",
     "output_type": "stream",
     "text": [
      "729\n",
      "3645\n",
      "3605\n"
     ]
    }
   ],
   "source": [
    "# cell for testing\n",
    "\n",
    "### BEGIN SOLUTION\n",
    "expr1 = ExpressionTree(5)\n",
    "expr2 = ExpressionTree(3)\n",
    "expr3 = ExpressionTree('x')\n",
    "expr4 = ExpressionTree('y')\n",
    "expr5 = ExpressionTree('power', expr2, expr3)\n",
    "expr6 = ExpressionTree('times', expr1, expr5)\n",
    "expr7 = ExpressionTree('subtract', expr6, expr4)\n",
    "### END SOLUTION\n",
    "\n",
    "print(expr5.subs('x',6).evaluate())\n",
    "print(expr6.subs('x',6).evaluate())\n",
    "print(expr7.subs('x',6).subs('y',40).evaluate())"
   ]
  },
  {
   "cell_type": "code",
   "execution_count": 22,
   "id": "welcome-teddy",
   "metadata": {
    "nbgrader": {
     "grade": true,
     "grade_id": "cell-89a835da370d86d2",
     "locked": true,
     "points": 4,
     "schema_version": 3,
     "solution": false,
     "task": false
    }
   },
   "outputs": [
    {
     "name": "stdout",
     "output_type": "stream",
     "text": [
      "ExpressionTree is set up correctly\n",
      "\n",
      "expr5.subs('x',6).evaluate() returns the correct output\n",
      "expr6.subs('x',6).evaluate() returns the correct output\n",
      "expr7.subs('x',6).subs('y',40).evaluate() returns the correct output\n",
      "\n",
      "4 out of 4\n"
     ]
    },
    {
     "data": {
      "text/plain": [
       "4"
      ]
     },
     "execution_count": 22,
     "metadata": {},
     "output_type": "execute_result"
    }
   ],
   "source": [
    "# 4 Marks\n",
    "# Do not try to delete this cell\n",
    "# Run this cell for grading\n",
    "_globals = globals()\n",
    "question5iiic(_globals)"
   ]
  },
  {
   "cell_type": "markdown",
   "id": "chicken-greensboro",
   "metadata": {
    "nbgrader": {
     "grade": false,
     "grade_id": "cell-a2c8716425f48118",
     "locked": true,
     "schema_version": 3,
     "solution": false,
     "task": false
    }
   },
   "source": [
    "(d) Pickle your `ExpressionTree` class, and load them again as the class `NewExpressionTree`. Test your results."
   ]
  },
  {
   "cell_type": "code",
   "execution_count": 23,
   "id": "removed-stylus",
   "metadata": {
    "nbgrader": {
     "grade": false,
     "grade_id": "cell-1d71eaa1187af827",
     "locked": false,
     "schema_version": 3,
     "solution": true,
     "task": false
    }
   },
   "outputs": [],
   "source": [
    "### cell for dumping and loading\n",
    "po = open(\"ExpressionTree.pickle\", \"wb\")\n",
    "pickle.dump(ExpressionTree, po)\n",
    "po.close()\n",
    "\n",
    "po = open(\"ExpressionTree.pickle\", \"rb\")\n",
    "NewExpressionTree = pickle.load(po)\n",
    "### END SOLUTION"
   ]
  },
  {
   "cell_type": "code",
   "execution_count": 24,
   "id": "tutorial-toolbox",
   "metadata": {
    "nbgrader": {
     "grade": false,
     "grade_id": "cell-f7dcd943f0b3a3f3",
     "locked": false,
     "schema_version": 3,
     "solution": true,
     "task": false
    }
   },
   "outputs": [
    {
     "name": "stdout",
     "output_type": "stream",
     "text": [
      "729\n",
      "3645\n",
      "3605\n"
     ]
    }
   ],
   "source": [
    "# cell for testing: make sure to set up expr1 to expr7\n",
    "# as instances of NewExpressionTree\n",
    "\n",
    "### BEGIN SOLUTION\n",
    "expr1 = NewExpressionTree(5)\n",
    "expr2 = NewExpressionTree(3)\n",
    "expr3 = NewExpressionTree('x')\n",
    "expr4 = NewExpressionTree('y')\n",
    "expr5 = NewExpressionTree('power', expr2, expr3)\n",
    "expr6 = NewExpressionTree('times', expr1, expr5)\n",
    "expr7 = NewExpressionTree('subtract', expr6, expr4)\n",
    "### END SOLUTION\n",
    "\n",
    "print(expr5.subs('x',6).evaluate())\n",
    "print(expr6.subs('x',6).evaluate())\n",
    "print(expr7.subs('x',6).subs('y',40).evaluate())"
   ]
  },
  {
   "cell_type": "code",
   "execution_count": 25,
   "id": "wired-journey",
   "metadata": {
    "nbgrader": {
     "grade": true,
     "grade_id": "cell-b3acf5269258409a",
     "locked": true,
     "points": 3,
     "schema_version": 3,
     "solution": false,
     "task": false
    }
   },
   "outputs": [
    {
     "name": "stdout",
     "output_type": "stream",
     "text": [
      "NewExpressionTree is set up correctly\n",
      "\n",
      "The subs and infixForm methods seems to be working for this class.\n",
      "\n",
      "The evaluate method seems to be working for this class.\n",
      "\n",
      "3 out of 3\n"
     ]
    },
    {
     "data": {
      "text/plain": [
       "3"
      ]
     },
     "execution_count": 25,
     "metadata": {},
     "output_type": "execute_result"
    }
   ],
   "source": [
    "# 3 Marks\n",
    "# Do not try to delete this cell\n",
    "# Run this cell for grading\n",
    "_globals = globals()\n",
    "question5iiid(_globals)"
   ]
  },
  {
   "cell_type": "code",
   "execution_count": null,
   "id": "finished-distribution",
   "metadata": {},
   "outputs": [],
   "source": []
  },
  {
   "cell_type": "code",
   "execution_count": null,
   "id": "useful-coupon",
   "metadata": {},
   "outputs": [],
   "source": []
  }
 ],
 "metadata": {
  "celltoolbar": "Create Assignment",
  "kernelspec": {
   "display_name": "Python 3",
   "language": "python",
   "name": "python3"
  },
  "language_info": {
   "codemirror_mode": {
    "name": "ipython",
    "version": 3
   },
   "file_extension": ".py",
   "mimetype": "text/x-python",
   "name": "python",
   "nbconvert_exporter": "python",
   "pygments_lexer": "ipython3",
   "version": "3.7.4"
  }
 },
 "nbformat": 4,
 "nbformat_minor": 5
}
