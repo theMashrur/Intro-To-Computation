{
 "cells": [
  {
   "cell_type": "code",
   "execution_count": 2,
   "metadata": {},
   "outputs": [
    {
     "output_type": "stream",
     "name": "stdout",
     "text": [
      "Autograder loaded successfully!\nRemember to always restart and run all from the Kernel menu before submitting!\n"
     ]
    }
   ],
   "source": [
    "from autograder_term2week9 import *\n",
    "_globals = globals()\n",
    "from copy import copy"
   ]
  },
  {
   "cell_type": "markdown",
   "metadata": {
    "deletable": false,
    "editable": false,
    "nbgrader": {
     "cell_type": "markdown",
     "checksum": "5690351842c4e6a8ec0f91c4b22f1b9a",
     "grade": false,
     "grade_id": "cell-627f2ce548e7c535",
     "locked": true,
     "schema_version": 3,
     "solution": false,
     "task": false
    }
   },
   "source": [
    "# <center> Introduction to Mathematical Computing </center>\n",
    "### <center>Phil Ramsden, Boumediene Hamzi, Sam Brzezicki, Matt Woolway</center>\n",
    "\n",
    "# <center> Worksheet 11: An Introduction to Algorithms and Complexity</center>\n",
    "\n",
    "**NOTE:** When answering a question, remember to remove the `raise NotImplementedError()` line."
   ]
  },
  {
   "cell_type": "markdown",
   "metadata": {
    "deletable": false,
    "editable": false,
    "nbgrader": {
     "cell_type": "markdown",
     "checksum": "ed1dfa6e018b921680ee5efc4d1c09e9",
     "grade": false,
     "grade_id": "cell-da2b26434377de37",
     "locked": true,
     "schema_version": 3,
     "solution": false,
     "task": false
    }
   },
   "source": [
    "This worksheet is all about different ways of sorting data. Often, we will be using the reference data list"
   ]
  },
  {
   "cell_type": "code",
   "execution_count": 6,
   "metadata": {
    "deletable": false,
    "editable": false,
    "nbgrader": {
     "cell_type": "code",
     "checksum": "339c2140e40111f07b063b406fc5a7bf",
     "grade": false,
     "grade_id": "cell-356d6b612b68d527",
     "locked": true,
     "schema_version": 3,
     "solution": false,
     "task": false
    }
   },
   "outputs": [],
   "source": [
    "masterData = [3, 34, 12, 22, 27, 17, 31, 29, 40, 24, 21, 19, 7, 18, 26, 5]"
   ]
  },
  {
   "cell_type": "markdown",
   "metadata": {
    "deletable": false,
    "editable": false,
    "nbgrader": {
     "cell_type": "markdown",
     "checksum": "0b87c03ba85010e941e3f442d98d0ad7",
     "grade": false,
     "grade_id": "cell-8363bbcbafd27416",
     "locked": true,
     "schema_version": 3,
     "solution": false,
     "task": false
    }
   },
   "source": [
    "of length 16.\n",
    "\n",
    "We'll be measuring <b>complexity</b> by counting, for each algorithm, the number of <b>comparisons between data items</b>. This is an imperfect measure, because sorting algorithms also include other things, such as moving data around! But the details of that can be language-dependent, whereas the number of comparisons is what it is, and is independent of language."
   ]
  },
  {
   "cell_type": "markdown",
   "metadata": {
    "deletable": false,
    "editable": false,
    "nbgrader": {
     "cell_type": "markdown",
     "checksum": "27b074ef58ccc62f83dda2dd8e82042f",
     "grade": false,
     "grade_id": "cell-b1ee373382158447",
     "locked": true,
     "schema_version": 3,
     "solution": false,
     "task": false
    }
   },
   "source": [
    "## Question 1\n",
    "\n",
    "This question is about <b>bubble sort</b>, one of the simplest sorting algorithms of all. For a data list of length 16, bubble sort proceeds as follows:\n",
    "<ul>\n",
    "    <li>Compare items 0 and 1, and if necessary swap them. Then compare items 1 and 2, again swapping if necessary; then 2 and 3, and so on up to 14 and 15. You can now guarantee the maximum element is in the 15 position.</li>\n",
    "    <li>Compare items 0 and 1, and if necessary swap them. Then compare items 1 and 2, again swapping if necessary; then 2 and 3, and so on up to 13 and 14. You can now guarantee the maximum element is in the 14 position.</li>\n",
    "    <li>...</li>\n",
    "    <li>Compare items 0 and 1, and if necessary swap them. Then compare items 1 and 2, again swapping if necessary.</li>\n",
    "    <li>Compare items 0 and 1, and if necessary swap them.</li>\n",
    "</ul>\n",
    "\n",
    "Animations are available to view on Blackboard."
   ]
  },
  {
   "cell_type": "markdown",
   "metadata": {
    "deletable": false,
    "editable": false,
    "nbgrader": {
     "cell_type": "markdown",
     "checksum": "d1399e8e93499192510522b90b07027a",
     "grade": false,
     "grade_id": "cell-e3249117b3ac43e1",
     "locked": true,
     "schema_version": 3,
     "solution": false,
     "task": false
    }
   },
   "source": [
    "### (i) \n",
    "\n",
    "Here is a listing of a simple bubble sort function."
   ]
  },
  {
   "cell_type": "code",
   "execution_count": 7,
   "metadata": {
    "deletable": false,
    "editable": false,
    "nbgrader": {
     "cell_type": "code",
     "checksum": "a8b5ea3d12c5f978fc0ecbdd697a7847",
     "grade": false,
     "grade_id": "cell-d35eba78357c07f8",
     "locked": true,
     "schema_version": 3,
     "solution": false,
     "task": false
    }
   },
   "outputs": [],
   "source": [
    "def bubble_sort_simple(data):\n",
    "    \"\"\"\n",
    "    Sorts data using the bubble sort algorithm, with no tracking\n",
    "    of orderedness\n",
    "    \"\"\"\n",
    "    \n",
    "    # number of data items\n",
    "    ndata = len(data)\n",
    "    \n",
    "    # end index goes down from ndata to 2\n",
    "    for end_index in range(ndata,1,-1):\n",
    "        # comparison index goes up from 0 to end index - 2\n",
    "        for comparison_index in range(0, end_index-1):\n",
    "            # if element is greater than its neighbour to the right, swap them\n",
    "            if data[comparison_index] > data[comparison_index+1]:\n",
    "                data[comparison_index], data[comparison_index+1] = \\\n",
    "                data[comparison_index+1], data[comparison_index]"
   ]
  },
  {
   "cell_type": "markdown",
   "metadata": {
    "deletable": false,
    "editable": false,
    "nbgrader": {
     "cell_type": "markdown",
     "checksum": "38b6b0a984e5292c4e12f785b84ced7f",
     "grade": false,
     "grade_id": "cell-d17b7cb88614a1ac",
     "locked": true,
     "schema_version": 3,
     "solution": false,
     "task": false
    }
   },
   "source": [
    "The function sorts data <em>in place</em>: that is, it returns nothing, but has the side-effect of sorting the list given to it as its argument."
   ]
  },
  {
   "cell_type": "markdown",
   "metadata": {
    "deletable": false,
    "editable": false,
    "nbgrader": {
     "cell_type": "markdown",
     "checksum": "52978799d06b90838867f641b946957c",
     "grade": false,
     "grade_id": "cell-a91609a91cd26541",
     "locked": true,
     "schema_version": 3,
     "solution": false,
     "task": false
    }
   },
   "source": [
    "(a) Use `copy`, imported above from the `copy` module, to create a copy of `masterData` called `data`."
   ]
  },
  {
   "cell_type": "code",
   "execution_count": 8,
   "metadata": {
    "deletable": false,
    "nbgrader": {
     "cell_type": "code",
     "checksum": "54efa468cf2fec1837fe853587c0598b",
     "grade": false,
     "grade_id": "cell-7f9747d7b626e328",
     "locked": false,
     "schema_version": 3,
     "solution": true,
     "task": false
    }
   },
   "outputs": [
    {
     "output_type": "stream",
     "name": "stdout",
     "text": [
      "[3, 34, 12, 22, 27, 17, 31, 29, 40, 24, 21, 19, 7, 18, 26, 5]\n"
     ]
    }
   ],
   "source": [
    "# YOUR CODE HERE\n",
    "data = copy(masterData)\n",
    "\n",
    "print(data)"
   ]
  },
  {
   "cell_type": "code",
   "execution_count": 9,
   "metadata": {
    "deletable": false,
    "editable": false,
    "nbgrader": {
     "cell_type": "code",
     "checksum": "34e7caaee9efe6c25b55fb6da1c0c195",
     "grade": true,
     "grade_id": "cell-5897e6f73013494c",
     "locked": true,
     "points": 2,
     "schema_version": 3,
     "solution": false,
     "task": false
    }
   },
   "outputs": [
    {
     "output_type": "stream",
     "name": "stdout",
     "text": [
      "data consists of the correct list\ndata is a separate object from masterData, which is correct\n2 out of 2\n"
     ]
    },
    {
     "output_type": "execute_result",
     "data": {
      "text/plain": [
       "2"
      ]
     },
     "metadata": {},
     "execution_count": 9
    }
   ],
   "source": [
    "# 2 Marks\n",
    "# Do not try to delete this cell\n",
    "# Run this cell for grading\n",
    "_globals = globals()\n",
    "question1ia(_globals)"
   ]
  },
  {
   "cell_type": "markdown",
   "metadata": {
    "deletable": false,
    "editable": false,
    "nbgrader": {
     "cell_type": "markdown",
     "checksum": "cff7a6f36df5e7e7913ab489c2780fbd",
     "grade": false,
     "grade_id": "cell-b510277fd8442c87",
     "locked": true,
     "schema_version": 3,
     "solution": false,
     "task": false
    }
   },
   "source": [
    "(b) Test `bubble_sort_simple` by sorting `data`."
   ]
  },
  {
   "cell_type": "code",
   "execution_count": 10,
   "metadata": {
    "deletable": false,
    "nbgrader": {
     "cell_type": "code",
     "checksum": "1ba30e1b2b9fb2b491a59d3c77e6b51e",
     "grade": false,
     "grade_id": "cell-d9492ddc080ee000",
     "locked": false,
     "schema_version": 3,
     "solution": true,
     "task": false
    }
   },
   "outputs": [
    {
     "output_type": "stream",
     "name": "stdout",
     "text": [
      "[3, 34, 12, 22, 27, 17, 31, 29, 40, 24, 21, 19, 7, 18, 26, 5]\n[3, 5, 7, 12, 17, 18, 19, 21, 22, 24, 26, 27, 29, 31, 34, 40]\n"
     ]
    }
   ],
   "source": [
    "# YOUR CODE HERE\n",
    "print(data)\n",
    "bubble_sort_simple(data)\n",
    "\n",
    "print(data)"
   ]
  },
  {
   "cell_type": "code",
   "execution_count": 11,
   "metadata": {
    "deletable": false,
    "editable": false,
    "nbgrader": {
     "cell_type": "code",
     "checksum": "2424fbfdfbf77d72dae2b6b7be44a7f3",
     "grade": true,
     "grade_id": "cell-33a351855e2a8177",
     "locked": true,
     "points": 1,
     "schema_version": 3,
     "solution": false,
     "task": false
    }
   },
   "outputs": [
    {
     "output_type": "stream",
     "name": "stdout",
     "text": [
      "data has been sorted correctly\nTest passed!\n"
     ]
    },
    {
     "output_type": "execute_result",
     "data": {
      "text/plain": [
       "1"
      ]
     },
     "metadata": {},
     "execution_count": 11
    }
   ],
   "source": [
    "# 1 Mark\n",
    "# Do not try to delete this cell\n",
    "# Run this cell for grading\n",
    "_globals = globals()\n",
    "question1ib(_globals)"
   ]
  },
  {
   "cell_type": "markdown",
   "metadata": {
    "deletable": false,
    "editable": false,
    "nbgrader": {
     "cell_type": "markdown",
     "checksum": "083898674c2f055bc108ecdaa5a1b179",
     "grade": false,
     "grade_id": "cell-596b463edec1ae30",
     "locked": true,
     "schema_version": 3,
     "solution": false,
     "task": false
    }
   },
   "source": [
    "Here is a listing of `bubble_sort_simple` to which a global variable called `comparison_count` has been added, which increments by 1 every time a comparison is made."
   ]
  },
  {
   "cell_type": "code",
   "execution_count": 12,
   "metadata": {
    "deletable": false,
    "editable": false,
    "nbgrader": {
     "cell_type": "code",
     "checksum": "6a71be5617e1df5dd8c53324aa057a89",
     "grade": false,
     "grade_id": "cell-c3846241a472bac9",
     "locked": true,
     "schema_version": 3,
     "solution": false,
     "task": false
    }
   },
   "outputs": [],
   "source": [
    "def bubble_sort_simple(data):\n",
    "    \"\"\"\n",
    "    Sorts data using the bubble sort algorithm, with no tracking\n",
    "    of orderedness\n",
    "    \"\"\"\n",
    "    \n",
    "    # comparison count\n",
    "    global comparison_count\n",
    "    \n",
    "    # number of data items\n",
    "    ndata = len(data)\n",
    "    \n",
    "    # end index goes down from ndata to 2\n",
    "    for end_index in range(ndata,1,-1):\n",
    "        # comparison index goes up from 0 to end index - 2\n",
    "        for comparison_index in range(0, end_index-1):\n",
    "            # if element is greater than its neighbour to the right, swap them\n",
    "            comparison_count += 1\n",
    "            if data[comparison_index] > data[comparison_index+1]:\n",
    "                data[comparison_index], data[comparison_index+1] = \\\n",
    "                data[comparison_index+1], data[comparison_index]"
   ]
  },
  {
   "cell_type": "markdown",
   "metadata": {
    "deletable": false,
    "editable": false,
    "nbgrader": {
     "cell_type": "markdown",
     "checksum": "b5ed4aa4f868b07b6a6dc7e0309c214a",
     "grade": false,
     "grade_id": "cell-9cd71d5849df01e7",
     "locked": true,
     "schema_version": 3,
     "solution": false,
     "task": false
    }
   },
   "source": [
    "(c) Define `data` as a copy of `masterData` again. Then set `comparison_count` to 0, and run `bubble_sort_simple`. Finally, check the new value of `comparison_count`."
   ]
  },
  {
   "cell_type": "code",
   "execution_count": 15,
   "metadata": {
    "deletable": false,
    "nbgrader": {
     "cell_type": "code",
     "checksum": "b0655790dfefa16bdf940094017e32e3",
     "grade": false,
     "grade_id": "cell-3f0ba9a511d2657a",
     "locked": false,
     "schema_version": 3,
     "solution": true,
     "task": false
    }
   },
   "outputs": [
    {
     "output_type": "stream",
     "name": "stdout",
     "text": [
      "[3, 5, 7, 12, 17, 18, 19, 21, 22, 24, 26, 27, 29, 31, 34, 40]\n120\n"
     ]
    }
   ],
   "source": [
    "# YOUR CODE HERE\n",
    "data = copy(masterData)\n",
    "comparison_count = 0\n",
    "bubble_sort_simple(data)\n",
    "\n",
    "print(data)\n",
    "print(comparison_count)"
   ]
  },
  {
   "cell_type": "code",
   "execution_count": 16,
   "metadata": {
    "deletable": false,
    "editable": false,
    "nbgrader": {
     "cell_type": "code",
     "checksum": "841b5ee86f14edc97a732f2afb8ff2fd",
     "grade": true,
     "grade_id": "cell-9745abfd9ac67e65",
     "locked": true,
     "points": 2,
     "schema_version": 3,
     "solution": false,
     "task": false
    }
   },
   "outputs": [
    {
     "output_type": "stream",
     "name": "stdout",
     "text": [
      "data has been sorted correctly\ncomparison_count is correct\n2 out of 2\n"
     ]
    },
    {
     "output_type": "execute_result",
     "data": {
      "text/plain": [
       "2"
      ]
     },
     "metadata": {},
     "execution_count": 16
    }
   ],
   "source": [
    "# 2 Marks\n",
    "# Do not try to delete this cell\n",
    "# Run this cell for grading\n",
    "_globals = globals()\n",
    "question1ic(_globals)"
   ]
  },
  {
   "cell_type": "markdown",
   "metadata": {
    "deletable": false,
    "editable": false,
    "nbgrader": {
     "cell_type": "markdown",
     "checksum": "30ab3979cddabf553ce660fd42eca096",
     "grade": false,
     "grade_id": "cell-9e5ed87729b763ec",
     "locked": true,
     "schema_version": 3,
     "solution": false,
     "task": false
    }
   },
   "source": [
    "(d) Experiment with sorting other data sets of length 16. If the value of `comparison_count` starts at zero each time, what is its final value?\n",
    "\n",
    "<ol>\n",
    "    <li>With a data set of length 16, the final value of <code>comparison_count</code> is always exactly 120.</li>\n",
    "    <li>With a data set of length 16, the final value of <code>comparison_count</code> is always at least 120, and sometimes more than that.</li>\n",
    "    <li>With a data set of length 16, the final value of <code>comparison_count</code> is always at most 120, and sometimes less than that.</li>\n",
    "    <li>With a data set of length 16, the final value of <code>comparison_count</code> is sometimes less than 120, sometimes more than 120, and sometimes exactly 120.</li>\n",
    "</ol>"
   ]
  },
  {
   "cell_type": "code",
   "execution_count": 17,
   "metadata": {
    "deletable": false,
    "nbgrader": {
     "cell_type": "code",
     "checksum": "58609f0395b99538f4aaf79a1134827f",
     "grade": false,
     "grade_id": "cell-f8040985612b2374",
     "locked": false,
     "schema_version": 3,
     "solution": true,
     "task": false
    }
   },
   "outputs": [
    {
     "output_type": "stream",
     "name": "stdout",
     "text": [
      "[0, 1, 2, 3, 4, 5, 6, 7, 8, 9, 10, 11, 12, 13, 14, 15] 120\n"
     ]
    }
   ],
   "source": [
    "# YOUR CODE HERE\n",
    "bruh = [num for num in range(16)]\n",
    "comparison_count = 0\n",
    "bubble_sort_simple(bruh)\n",
    "print(bruh, comparison_count)\n",
    "\n",
    "q1id_answer = 1"
   ]
  },
  {
   "cell_type": "code",
   "execution_count": 18,
   "metadata": {
    "deletable": false,
    "editable": false,
    "nbgrader": {
     "cell_type": "code",
     "checksum": "92f8690e134d4f569ac691a6b6e02a39",
     "grade": true,
     "grade_id": "cell-69343024e1dfbe39",
     "locked": true,
     "points": 1,
     "schema_version": 3,
     "solution": false,
     "task": false
    }
   },
   "outputs": [
    {
     "output_type": "stream",
     "name": "stdout",
     "text": [
      "test case passed!\n"
     ]
    }
   ],
   "source": [
    "# 1 Mark\n",
    "assert(q1id_answer == question1id())\n",
    "print('test case passed!')"
   ]
  },
  {
   "cell_type": "markdown",
   "metadata": {
    "deletable": false,
    "editable": false,
    "nbgrader": {
     "cell_type": "markdown",
     "checksum": "b991152ff7b85e856817363f0aae2864",
     "grade": false,
     "grade_id": "cell-9289baa650c0a61d",
     "locked": true,
     "schema_version": 3,
     "solution": false,
     "task": false
    }
   },
   "source": [
    "(e) Experiment with data sets of different lengths.\n",
    "\n",
    "Then, in the form of lambda-expressions, state the maximum and minimum number of comparisons carried out by `bubble_sort_simple` when the data set is of length `n`. So, for example, if you think the maximum number of comparisons is $n^2+4$ and the minimum is $n$, you'd type\n",
    "```python\n",
    "bubble_sort_simple_max = lambda n: n**2+4\n",
    "bubble_sort_simple_min = lambda n: n\n",
    "```\n",
    "Try to make sure the output from each of your lambda-expressions is always an int."
   ]
  },
  {
   "cell_type": "code",
   "execution_count": 19,
   "metadata": {
    "deletable": false,
    "nbgrader": {
     "cell_type": "code",
     "checksum": "3f5e42071ba4d710829eda446f274363",
     "grade": false,
     "grade_id": "cell-4a32972f7163af8d",
     "locked": false,
     "schema_version": 3,
     "solution": true,
     "task": false
    }
   },
   "outputs": [
    {
     "output_type": "stream",
     "name": "stdout",
     "text": [
      "120.0\n120.0\n"
     ]
    }
   ],
   "source": [
    "# YOUR CODE HERE\n",
    "bubble_sort_simple_max = lambda n: (n**2 - n)/2\n",
    "bubble_sort_simple_min = lambda n: (n**2 - n)/2\n",
    "\n",
    "# quick test\n",
    "print(bubble_sort_simple_max(16))\n",
    "print(bubble_sort_simple_min(16))"
   ]
  },
  {
   "cell_type": "code",
   "execution_count": 20,
   "metadata": {
    "deletable": false,
    "editable": false,
    "nbgrader": {
     "cell_type": "code",
     "checksum": "b1d76355f409e40678ab2fbbdd08c2e7",
     "grade": true,
     "grade_id": "cell-0f48fb8a641a5cec",
     "locked": true,
     "points": 2,
     "schema_version": 3,
     "solution": false,
     "task": false
    }
   },
   "outputs": [
    {
     "output_type": "stream",
     "name": "stdout",
     "text": [
      "The lambda-expression bubble_sort_simple_max seems to return the correct numbers\nThe lambda-expression bubble_sort_simple_max seems to return ints\nThe lambda-expression bubble_sort_simple_min seems to return the correct numbers\nThe lambda-expression bubble_sort_simple_min seems to return ints\n2 out of 2\n"
     ]
    },
    {
     "output_type": "execute_result",
     "data": {
      "text/plain": [
       "2"
      ]
     },
     "metadata": {},
     "execution_count": 20
    }
   ],
   "source": [
    "# 2 Marks\n",
    "# Do not try to delete this cell\n",
    "# Run this cell for grading\n",
    "_globals = globals()\n",
    "question1ie(_globals)"
   ]
  },
  {
   "cell_type": "markdown",
   "metadata": {
    "deletable": false,
    "editable": false,
    "nbgrader": {
     "cell_type": "markdown",
     "checksum": "596fb754c0b3a7532e3a5183e1c34b7d",
     "grade": false,
     "grade_id": "cell-5b70dc47fee88781",
     "locked": true,
     "schema_version": 3,
     "solution": false,
     "task": false
    }
   },
   "source": [
    "(f) Which of the following is true?\n",
    "\n",
    "<ol>\n",
    "    <li><code>bubble_sort_simple</code> is $O(n^2)$ and $\\Omega(n^2)$ and is therefore $\\Theta(n^2)$;</li>\n",
    "    <li><code>bubble_sort_simple</code> is $O(n^2)$ but not $\\Omega(n^2)$;</li>\n",
    "    <li><code>bubble_sort_simple</code> is $\\Omega(n^2)$ but not $O(n^2)$;</li>\n",
    "    <li><code>bubble_sort_simple</code> is neither $O(n^2)$ nor $\\Omega(n^2)$.</li>\n",
    "</ol>"
   ]
  },
  {
   "cell_type": "code",
   "execution_count": 21,
   "metadata": {
    "deletable": false,
    "nbgrader": {
     "cell_type": "code",
     "checksum": "5249df5e3cb0c72a28d9cb826ef0428c",
     "grade": false,
     "grade_id": "cell-08fd347e97ef866c",
     "locked": false,
     "schema_version": 3,
     "solution": true,
     "task": false
    }
   },
   "outputs": [],
   "source": [
    "# YOUR CODE HERE\n",
    "\n",
    "q1if_answer = 1"
   ]
  },
  {
   "cell_type": "code",
   "execution_count": 22,
   "metadata": {
    "deletable": false,
    "editable": false,
    "nbgrader": {
     "cell_type": "code",
     "checksum": "650e4a27f3cfddd57609a53a20a0d343",
     "grade": true,
     "grade_id": "cell-382e7382c2787323",
     "locked": true,
     "points": 1,
     "schema_version": 3,
     "solution": false,
     "task": false
    }
   },
   "outputs": [
    {
     "output_type": "stream",
     "name": "stdout",
     "text": [
      "test case passed!\n"
     ]
    }
   ],
   "source": [
    "# 1 Mark\n",
    "assert(q1if_answer == question1if())\n",
    "print('test case passed!')"
   ]
  },
  {
   "cell_type": "markdown",
   "metadata": {
    "deletable": false,
    "editable": false,
    "nbgrader": {
     "cell_type": "markdown",
     "checksum": "26b1fb92174250997406d3c804e9b030",
     "grade": false,
     "grade_id": "cell-7b704ca8a8998eea",
     "locked": true,
     "schema_version": 3,
     "solution": false,
     "task": false
    }
   },
   "source": [
    "### (ii)\n",
    "\n",
    "(a) Write a function called `bubble_sort_enhanced` that also sorts data in place using bubble sort, but with the following additional feature. \n",
    "\n",
    "On each pass through the data (that is, on each turn of the outer `for` loop), a record is kept of whether any swaps were necessary; if not, the data is regarded as sorted, and the process stops. (So if `data` were already sorted, only one pass would be necessary.)\n",
    "\n",
    "Make sure to give your function a global variable called `comparison_count` that goes up by 1 every time a comparison is made."
   ]
  },
  {
   "cell_type": "code",
   "execution_count": 23,
   "metadata": {
    "deletable": false,
    "nbgrader": {
     "cell_type": "code",
     "checksum": "d5ebd5ce1284314071afd143c8e07e90",
     "grade": false,
     "grade_id": "cell-2296e52df6b80511",
     "locked": false,
     "schema_version": 3,
     "solution": true,
     "task": false
    }
   },
   "outputs": [],
   "source": [
    "def bubble_sort_enhanced(data):\n",
    "    \"\"\"\n",
    "    Sorts data using the bubble sort algorithm,\n",
    "    but this time, it keeps a record of how many swaps\n",
    "    were necessary, and if there were none in a pass\n",
    "    it stops\n",
    "    \"\"\"\n",
    "    global comparison_count\n",
    "    \n",
    "    ndata = len(data)\n",
    "    \n",
    "    # end index goes down from ndata to 2\n",
    "    for end_index in range(ndata,1,-1):\n",
    "        swap_count = 0\n",
    "        for comparison_index in range(0, end_index-1):\n",
    "            comparison_count += 1\n",
    "            if data[comparison_index] > data[comparison_index+1]:\n",
    "                swap_count += 1\n",
    "                data[comparison_index], data[comparison_index+1] = \\\n",
    "                data[comparison_index+1], data[comparison_index]\n",
    "        if swap_count == 0:\n",
    "            break\n"
   ]
  },
  {
   "cell_type": "code",
   "execution_count": 24,
   "metadata": {
    "deletable": false,
    "editable": false,
    "nbgrader": {
     "cell_type": "code",
     "checksum": "6981691dd7a34c928287f85ee4985bf9",
     "grade": true,
     "grade_id": "cell-1d764dd6ddc55bd5",
     "locked": true,
     "points": 3,
     "schema_version": 3,
     "solution": false,
     "task": false
    }
   },
   "outputs": [
    {
     "output_type": "stream",
     "name": "stdout",
     "text": [
      "bubble_sort_enhanced seems to sort lists correctly\nYour function requires exactly the same number of comparisons as ours\nYour function seems to have a docstring\n3 out of 3\n"
     ]
    },
    {
     "output_type": "execute_result",
     "data": {
      "text/plain": [
       "3"
      ]
     },
     "metadata": {},
     "execution_count": 24
    }
   ],
   "source": [
    "# 3 Marks\n",
    "# Do not try to delete this cell\n",
    "# Run this cell for grading\n",
    "_globals = globals()\n",
    "question1iia(_globals)"
   ]
  },
  {
   "cell_type": "markdown",
   "metadata": {
    "deletable": false,
    "editable": false,
    "nbgrader": {
     "cell_type": "markdown",
     "checksum": "6941222b36d2181523c00d6057af8c86",
     "grade": false,
     "grade_id": "cell-c7c049a909de9aef",
     "locked": true,
     "schema_version": 3,
     "solution": false,
     "task": false
    }
   },
   "source": [
    "(b) Test your function on a copy of `masterData`."
   ]
  },
  {
   "cell_type": "code",
   "execution_count": 25,
   "metadata": {
    "deletable": false,
    "nbgrader": {
     "cell_type": "code",
     "checksum": "56185d92822e4cc8b8501ac3248b9c3d",
     "grade": false,
     "grade_id": "cell-66a9f56a544610a1",
     "locked": false,
     "schema_version": 3,
     "solution": true,
     "task": false
    }
   },
   "outputs": [
    {
     "output_type": "stream",
     "name": "stdout",
     "text": [
      "[3, 5, 7, 12, 17, 18, 19, 21, 22, 24, 26, 27, 29, 31, 34, 40]\n120\n"
     ]
    }
   ],
   "source": [
    "# YOUR CODE HERE\n",
    "comparison_count = 0\n",
    "data = copy(masterData)\n",
    "bubble_sort_enhanced(data)\n",
    "print(data)\n",
    "print(comparison_count)"
   ]
  },
  {
   "cell_type": "code",
   "execution_count": 26,
   "metadata": {
    "deletable": false,
    "editable": false,
    "nbgrader": {
     "cell_type": "code",
     "checksum": "9999cd7904c267ab8dc4b1b75ef57aa3",
     "grade": true,
     "grade_id": "cell-78f4dc871de0fc7a",
     "locked": true,
     "points": 2,
     "schema_version": 3,
     "solution": false,
     "task": false
    }
   },
   "outputs": [
    {
     "output_type": "stream",
     "name": "stdout",
     "text": [
      "data has been sorted correctly\nYour function requires exactly the same number of comparisons as ours\n2 out of 2\n"
     ]
    },
    {
     "output_type": "execute_result",
     "data": {
      "text/plain": [
       "2"
      ]
     },
     "metadata": {},
     "execution_count": 26
    }
   ],
   "source": [
    "# 2 Marks\n",
    "# Do not try to delete this cell\n",
    "# Run this cell for grading\n",
    "_globals = globals()\n",
    "question1iib(_globals)"
   ]
  },
  {
   "cell_type": "markdown",
   "metadata": {
    "deletable": false,
    "editable": false,
    "nbgrader": {
     "cell_type": "markdown",
     "checksum": "8c095a2c26c85ee4f3d9865ddca0a9d1",
     "grade": false,
     "grade_id": "cell-d4613a3594559eb8",
     "locked": true,
     "schema_version": 3,
     "solution": false,
     "task": false
    }
   },
   "source": [
    "(c) Experiment with your new function, using data sets of length 16. If the value of `comparison_count` starts at zero each time, what is its final value?\n",
    "\n",
    "<ol>\n",
    "    <li>With a data set of length 16, the final value of <code>comparison_count</code> is always exactly 120.</li>\n",
    "    <li>With a data set of length 16, the final value of <code>comparison_count</code> is always at least 120, and sometimes more than that.</li>\n",
    "    <li>With a data set of length 16, the final value of <code>comparison_count</code> is always at most 120, and sometimes less than that.</li>\n",
    "    <li>With a data set of length 16, the final value of <code>comparison_count</code> is sometimes less than 120, sometimes more than 120, and sometimes exactly 120.</li>\n",
    "</ol>"
   ]
  },
  {
   "cell_type": "code",
   "execution_count": 27,
   "metadata": {
    "deletable": false,
    "nbgrader": {
     "cell_type": "code",
     "checksum": "09d9a4cc33e7ffbfadc8a6ff91a6206c",
     "grade": false,
     "grade_id": "cell-e4e02775dd44384c",
     "locked": false,
     "schema_version": 3,
     "solution": true,
     "task": false
    }
   },
   "outputs": [
    {
     "output_type": "stream",
     "name": "stdout",
     "text": [
      "15\n"
     ]
    }
   ],
   "source": [
    "# YOUR CODE HERE\n",
    "comparison_count = 0\n",
    "bruh = [num for num in range(16)]\n",
    "bubble_sort_enhanced(bruh)\n",
    "print(comparison_count)\n",
    "q1iic_answer = 3"
   ]
  },
  {
   "cell_type": "code",
   "execution_count": 28,
   "metadata": {
    "deletable": false,
    "editable": false,
    "nbgrader": {
     "cell_type": "code",
     "checksum": "50028e459b185a573bfc3d54a21d329e",
     "grade": true,
     "grade_id": "cell-3015963ad8f74893",
     "locked": true,
     "points": 1,
     "schema_version": 3,
     "solution": false,
     "task": false
    }
   },
   "outputs": [
    {
     "output_type": "stream",
     "name": "stdout",
     "text": [
      "test case passed!\n"
     ]
    }
   ],
   "source": [
    "# 1 Mark\n",
    "assert(q1iic_answer == question1iic())\n",
    "print('test case passed!')"
   ]
  },
  {
   "cell_type": "markdown",
   "metadata": {
    "deletable": false,
    "editable": false,
    "nbgrader": {
     "cell_type": "markdown",
     "checksum": "8093f5b04c49f4828e9f7bd28e6194aa",
     "grade": false,
     "grade_id": "cell-2e537324f71713c1",
     "locked": true,
     "schema_version": 3,
     "solution": false,
     "task": false
    }
   },
   "source": [
    "(d) Experiment with data sets of different lengths. Then, in the form of lambda-expressions, state the maximum and minimum number of comparisons carried out by `bubble_sort_enhanced` when the data set is of length `n`. So, for example, if you think the maximum number of comparisons is $n^2+4$ and the minimum is $n$, you'd type\n",
    "```python\n",
    "bubble_sort_enhanced_max = lambda n: n**2+4\n",
    "bubble_sort_enhanced_min = lambda n: n\n",
    "```"
   ]
  },
  {
   "cell_type": "code",
   "execution_count": 29,
   "metadata": {
    "deletable": false,
    "nbgrader": {
     "cell_type": "code",
     "checksum": "dcb9e6d0812e9570a5784cb01d460bf0",
     "grade": false,
     "grade_id": "cell-8393bed1a818446e",
     "locked": false,
     "schema_version": 3,
     "solution": true,
     "task": false
    }
   },
   "outputs": [
    {
     "output_type": "stream",
     "name": "stdout",
     "text": [
      "120.0\n16\n"
     ]
    }
   ],
   "source": [
    "# YOUR CODE HERE\n",
    "bubble_sort_enhanced_max = lambda n: (n**2 - n)/2\n",
    "bubble_sort_enhanced_min = lambda n: n\n",
    "# quick test\n",
    "print(bubble_sort_enhanced_max(16))\n",
    "print(bubble_sort_enhanced_min(16))"
   ]
  },
  {
   "cell_type": "code",
   "execution_count": 30,
   "metadata": {
    "deletable": false,
    "editable": false,
    "nbgrader": {
     "cell_type": "code",
     "checksum": "830818c40c304820a59eef5deef4b141",
     "grade": true,
     "grade_id": "cell-e34997ca4e968f1c",
     "locked": true,
     "points": 2,
     "schema_version": 3,
     "solution": false,
     "task": false
    }
   },
   "outputs": [
    {
     "output_type": "stream",
     "name": "stdout",
     "text": [
      "The lambda-expression bubble_sort_enhanced_max seems to return the correct numbers\nThe lambda-expression bubble_sort_enhanced_max seems to return ints\nThe lambda-expression bubble_sort_enhanced_min seems not to return the correct numbers\nThe lambda-expression bubble_sort_enhanced_min seems to return ints\n1 out of 2\n"
     ]
    },
    {
     "output_type": "execute_result",
     "data": {
      "text/plain": [
       "1"
      ]
     },
     "metadata": {},
     "execution_count": 30
    }
   ],
   "source": [
    "# 2 Marks\n",
    "# Do not try to delete this cell\n",
    "# Run this cell for grading\n",
    "_globals = globals()\n",
    "question1iid(_globals)"
   ]
  },
  {
   "cell_type": "markdown",
   "metadata": {
    "deletable": false,
    "editable": false,
    "nbgrader": {
     "cell_type": "markdown",
     "checksum": "d497308fe7100315c20382bb6f1ac2ed",
     "grade": false,
     "grade_id": "cell-82d2c5e109b2bb25",
     "locked": true,
     "schema_version": 3,
     "solution": false,
     "task": false
    }
   },
   "source": [
    "(e) Which of the following is true?\n",
    "\n",
    "<ol>\n",
    "    <li><code>bubble_sort_enhanced</code> is $O(n^2)$ and $\\Omega(n^2)$ and is therefore $\\Theta(n^2)$;</li>\n",
    "    <li><code>bubble_sort_enhanced</code> is $O(n^2)$ but not $\\Omega(n^2)$;</li>\n",
    "    <li><code>bubble_sort_enhanced</code> is $\\Omega(n^2)$ but not $O(n^2)$;</li>\n",
    "    <li><code>bubble_sort_enhanced</code> is neither $O(n^2)$ nor $\\Omega(n^2)$.</li>\n",
    "</ol>"
   ]
  },
  {
   "cell_type": "code",
   "execution_count": 31,
   "metadata": {
    "deletable": false,
    "nbgrader": {
     "cell_type": "code",
     "checksum": "b0c97c071198bd667637f9d42072306c",
     "grade": false,
     "grade_id": "cell-e3da7eed97a107a2",
     "locked": false,
     "schema_version": 3,
     "solution": true,
     "task": false
    }
   },
   "outputs": [],
   "source": [
    "# YOUR CODE HERE\n",
    "\n",
    "q1iie_answer = 2"
   ]
  },
  {
   "cell_type": "code",
   "execution_count": 32,
   "metadata": {
    "deletable": false,
    "editable": false,
    "nbgrader": {
     "cell_type": "code",
     "checksum": "0ccf96f94e7c48fbed2dd1f870e92319",
     "grade": true,
     "grade_id": "cell-8345e676a61b091f",
     "locked": true,
     "points": 1,
     "schema_version": 3,
     "solution": false,
     "task": false
    }
   },
   "outputs": [
    {
     "output_type": "stream",
     "name": "stdout",
     "text": [
      "test case passed!\n"
     ]
    }
   ],
   "source": [
    "# 1 Mark\n",
    "assert(q1iie_answer == question1iie())\n",
    "print('test case passed!')"
   ]
  },
  {
   "cell_type": "markdown",
   "metadata": {
    "deletable": false,
    "editable": false,
    "nbgrader": {
     "cell_type": "markdown",
     "checksum": "f335b45bb94755e8a8f9cd7533d24226",
     "grade": false,
     "grade_id": "cell-b64867d10f67526b",
     "locked": true,
     "schema_version": 3,
     "solution": false,
     "task": false
    }
   },
   "source": [
    "## Question 2\n",
    "\n",
    "This question is about <b>insertion sort</b>, which proceeds as follows.\n",
    "\n",
    "At every stage, think of $a_0$ as the item in position 0, $a_1$ the item in position 1, and so on; the values of these $a$'s may change.\n",
    "\n",
    "<ul>\n",
    "    <li>Compare $a_1$ with $a_0$. If $a_1 \\ge a_0$, do nothing; the pass is finished. \n",
    "        \n",
    "Otherwise, insert $a_1$ in position $0$ and shift $a_0$ along to position 1. \n",
    "\n",
    "The list is now sorted from position 0 to position 1.</li>\n",
    "    <li>Compare $a_2$ with (the possibly new) $a_1$. If $a_2 \\ge a_1$, do nothing. Otherwise, compare $a_2$ with $a_0$. \n",
    "    \n",
    "If $a_2 \\ge a_0$, insert $a_2$ in position 1 and shift $a_1$ along to position 2; otherwise, insert $a_2$ in position 0 and shift $a_0$ and $a_1$ along to positions 1 and 2 respectively.  \n",
    "\n",
    "The list is now sorted from position 0 to position 2.</li>\n",
    "    <li>Compare $a_3$ with (the possibly new) $a_2$. If $a_3 \\ge a_2$, do nothing. Otherwise, compare $a_3$ with $a_1$. \n",
    "    \n",
    "If $a_3 \\ge a_1$, insert $a_3$ in position 2 and shift $a_2$ along to position 3; otherwise, compare $a_3$ with $a_0$. \n",
    "\n",
    "If $a_3 \\ge a_0$, insert $a_3$ in position 1 and shift $a_1$ and $a_2$ along to positions 2 and 3; otherwise, insert $a_3$ in position 0 and shift $a_0$, $a_1$ and $a_2$ along to positions 1, 2 and 3.  \n",
    "\n",
    "The list is now sorted from position 0 to position 3.</li>\n",
    "    <li>And so on: on each pass, compare $a_n$ with $a_{n-1}$, then with $a_{n-2}$, etc, until the correct position for $a_n$ is found; then insert it there, moving as many items to the right as necessary to make room for it.\n",
    "\n",
    "The list will then be sorted from position 0 to position $n$.\n",
    "\n",
    "Keep going until the final element.</li>\n",
    "</ul>\n",
    "\n",
    "You can view animations on Blackboard."
   ]
  },
  {
   "cell_type": "markdown",
   "metadata": {
    "deletable": false,
    "editable": false,
    "nbgrader": {
     "cell_type": "markdown",
     "checksum": "652930522f7cbb0ed882407754ca8b5d",
     "grade": false,
     "grade_id": "cell-ab6279826f98fdeb",
     "locked": true,
     "schema_version": 3,
     "solution": false,
     "task": false
    }
   },
   "source": [
    "(a) Write a function called `insertion_pass` which should take two arguments: a list, `data`, and a positive integer representing the length of the already sorted sublist, `already_sorted`. It should then make one pass of insertion sort, inserting the next element in the correct position and increasing the length of the already sorted sublist by one.\n",
    "\n",
    "Thus for example\n",
    "```python\n",
    "data = [3, 5, 9, 4, 7, 2, 1, 6]\n",
    "insertion_pass(data, 3)\n",
    "print(data)\n",
    "```\n",
    "should give `[3, 4, 5, 9, 7, 2, 1, 6]`.\n",
    "\n",
    "Take care that your function only performs such comparisons as are necessary, stopping as soon as it can. Do not at this stage keep a comparison count, though."
   ]
  },
  {
   "cell_type": "code",
   "execution_count": 33,
   "metadata": {
    "deletable": false,
    "nbgrader": {
     "cell_type": "code",
     "checksum": "f61468f626fb77313bce886929c2b8e1",
     "grade": false,
     "grade_id": "cell-03416a7da53b1633",
     "locked": false,
     "schema_version": 3,
     "solution": true,
     "task": false
    }
   },
   "outputs": [
    {
     "output_type": "stream",
     "name": "stdout",
     "text": [
      "[3, 4, 5, 9, 7, 2, 1, 6]\n"
     ]
    }
   ],
   "source": [
    "def insertion_pass(data, already_sorted):\n",
    "    \"\"\"\n",
    "    Takes list and positive int as arguments.\n",
    "    Performs one pass of the insertion sort\n",
    "    algorithm\n",
    "    \"\"\"\n",
    "    item = data.pop(already_sorted)\n",
    "    for index in range(already_sorted-1, -1, -1):\n",
    "        if item > data[index]:\n",
    "            data.insert(index+1, item)\n",
    "            break\n",
    "\n",
    "\n",
    "# quick test\n",
    "data = [3, 5, 9, 4, 7, 2, 1, 6]\n",
    "insertion_pass(data, 3)\n",
    "print(data)"
   ]
  },
  {
   "cell_type": "code",
   "execution_count": 34,
   "metadata": {
    "deletable": false,
    "editable": false,
    "nbgrader": {
     "cell_type": "code",
     "checksum": "3d29b52eea9242c1d8762568fd0e3a08",
     "grade": true,
     "grade_id": "cell-d29ef87c4e42e6f8",
     "locked": true,
     "points": 2,
     "schema_version": 3,
     "solution": false,
     "task": false
    }
   },
   "outputs": [
    {
     "output_type": "stream",
     "name": "stdout",
     "text": [
      "insertion_pass seems be working correctly\nYour function seems to have a docstring\n2 out of 2\n"
     ]
    },
    {
     "output_type": "execute_result",
     "data": {
      "text/plain": [
       "2"
      ]
     },
     "metadata": {},
     "execution_count": 34
    }
   ],
   "source": [
    "# 2 Marks\n",
    "# Do not try to delete this cell\n",
    "# Run this cell for grading\n",
    "_globals = globals()\n",
    "question2a(_globals)"
   ]
  },
  {
   "cell_type": "markdown",
   "metadata": {
    "deletable": false,
    "editable": false,
    "nbgrader": {
     "cell_type": "markdown",
     "checksum": "5019fd8526a672eb77f59600400410b8",
     "grade": false,
     "grade_id": "cell-005d279c98f7fd25",
     "locked": true,
     "schema_version": 3,
     "solution": false,
     "task": false
    }
   },
   "source": [
    "(b) Hence, write a function called `insertion_sort`, which sorts `data` in place using insertion sort."
   ]
  },
  {
   "cell_type": "code",
   "execution_count": 35,
   "metadata": {
    "deletable": false,
    "nbgrader": {
     "cell_type": "code",
     "checksum": "c948438796887fad0232e74a43bb588c",
     "grade": false,
     "grade_id": "cell-39fc3085c2b00537",
     "locked": false,
     "schema_version": 3,
     "solution": true,
     "task": false
    }
   },
   "outputs": [
    {
     "output_type": "stream",
     "name": "stdout",
     "text": [
      "[3, 34, 12, 22, 27, 17, 31, 29, 40, 24, 21, 19, 7, 18, 26, 5]\n[3, 5, 7, 12, 17, 18, 19, 21, 22, 24, 26, 27, 29, 31, 34, 40]\n"
     ]
    }
   ],
   "source": [
    "def insertion_sort(data):\n",
    "    \"\"\"\n",
    "    Uses insertion_pass to perform the\n",
    "    insertion sort algorithm\n",
    "    \"\"\"\n",
    "\n",
    "    n = len(data)\n",
    "    for num in range(1, n):\n",
    "        insertion_pass(data, num)\n",
    "\n",
    "\n",
    "lis = copy(masterData)\n",
    "print(lis)\n",
    "insertion_sort(lis)\n",
    "print(lis)"
   ]
  },
  {
   "cell_type": "code",
   "execution_count": 36,
   "metadata": {
    "deletable": false,
    "editable": false,
    "nbgrader": {
     "cell_type": "code",
     "checksum": "156c25e6998683eab72105e3344c5ea1",
     "grade": true,
     "grade_id": "cell-70e6a78021d7268b",
     "locked": true,
     "points": 2,
     "schema_version": 3,
     "solution": false,
     "task": false
    }
   },
   "outputs": [
    {
     "output_type": "stream",
     "name": "stdout",
     "text": [
      "insertion_sort does not seem to sort lists correctly\nYour function seems to have a docstring\n1 out of 2\n"
     ]
    },
    {
     "output_type": "execute_result",
     "data": {
      "text/plain": [
       "1"
      ]
     },
     "metadata": {},
     "execution_count": 36
    }
   ],
   "source": [
    "# 2 Marks\n",
    "# Do not try to delete this cell\n",
    "# Run this cell for grading\n",
    "_globals = globals()\n",
    "question2b(_globals)"
   ]
  },
  {
   "cell_type": "markdown",
   "metadata": {
    "deletable": false,
    "editable": false,
    "nbgrader": {
     "cell_type": "markdown",
     "checksum": "fe86627a0da67397c62b628bb6de1783",
     "grade": false,
     "grade_id": "cell-b70350533e82809d",
     "locked": true,
     "schema_version": 3,
     "solution": false,
     "task": false
    }
   },
   "source": [
    "(c) Test your new function on `data`, which should be a copy of `masterData`."
   ]
  },
  {
   "cell_type": "code",
   "execution_count": 37,
   "metadata": {
    "deletable": false,
    "nbgrader": {
     "cell_type": "code",
     "checksum": "3398df99682ddd2a04d0152e810a28f4",
     "grade": false,
     "grade_id": "cell-db412796a141c807",
     "locked": false,
     "schema_version": 3,
     "solution": true,
     "task": false
    }
   },
   "outputs": [
    {
     "output_type": "stream",
     "name": "stdout",
     "text": [
      "[3, 5, 7, 12, 17, 18, 19, 21, 22, 24, 26, 27, 29, 31, 34, 40]\n"
     ]
    }
   ],
   "source": [
    "# YOUR CODE HERE\n",
    "data = copy(masterData)\n",
    "insertion_sort(data)\n",
    "\n",
    "print(data)"
   ]
  },
  {
   "cell_type": "code",
   "execution_count": 38,
   "metadata": {
    "deletable": false,
    "editable": false,
    "nbgrader": {
     "cell_type": "code",
     "checksum": "722186f4f07e7dcc80eec52b06bb8a17",
     "grade": true,
     "grade_id": "cell-44dd959ce673b63d",
     "locked": true,
     "points": 1,
     "schema_version": 3,
     "solution": false,
     "task": false
    }
   },
   "outputs": [
    {
     "output_type": "stream",
     "name": "stdout",
     "text": [
      "data has been sorted correctly\nTest passed!\n"
     ]
    },
    {
     "output_type": "execute_result",
     "data": {
      "text/plain": [
       "1"
      ]
     },
     "metadata": {},
     "execution_count": 38
    }
   ],
   "source": [
    "# 1 Mark\n",
    "# Do not try to delete this cell\n",
    "# Run this cell for grading\n",
    "_globals = globals()\n",
    "question2c(_globals)"
   ]
  },
  {
   "cell_type": "markdown",
   "metadata": {
    "deletable": false,
    "editable": false,
    "nbgrader": {
     "cell_type": "markdown",
     "checksum": "d05ee092f1f830843a2ac29388ecb6c8",
     "grade": false,
     "grade_id": "cell-f8553df23164a3ce",
     "locked": true,
     "schema_version": 3,
     "solution": false,
     "task": false
    }
   },
   "source": [
    "(d) Try to think this through from first principles! With a data list of length 16, what is the maximum number of comparisons that are necessary for insertion sort, if on every pass it's necessary to compare $a_n$ with $a_{n-1}$, $a_{n-2}$, all the way down to $a_0$?"
   ]
  },
  {
   "cell_type": "code",
   "execution_count": 39,
   "metadata": {
    "deletable": false,
    "nbgrader": {
     "cell_type": "code",
     "checksum": "83251a9ba3d6b0399b18bb1d99c4c661",
     "grade": false,
     "grade_id": "cell-a0106c641a3c6e1f",
     "locked": false,
     "schema_version": 3,
     "solution": true,
     "task": false
    }
   },
   "outputs": [],
   "source": [
    "# YOUR CODE HERE\n",
    "\n",
    "q2d_answer = 120"
   ]
  },
  {
   "cell_type": "code",
   "execution_count": 40,
   "metadata": {
    "deletable": false,
    "editable": false,
    "nbgrader": {
     "cell_type": "code",
     "checksum": "a7dfc953da8457ce0556d8eebf2c8c4d",
     "grade": true,
     "grade_id": "cell-841d490288aa8680",
     "locked": true,
     "points": 1,
     "schema_version": 3,
     "solution": false,
     "task": false
    }
   },
   "outputs": [
    {
     "output_type": "stream",
     "name": "stdout",
     "text": [
      "test case passed!\n"
     ]
    }
   ],
   "source": [
    "# 1 Mark\n",
    "assert(q2d_answer == question2d())\n",
    "print('test case passed!')"
   ]
  },
  {
   "cell_type": "markdown",
   "metadata": {
    "deletable": false,
    "editable": false,
    "nbgrader": {
     "cell_type": "markdown",
     "checksum": "c5a47e1a7cad1cf027c6ba73c8082d23",
     "grade": false,
     "grade_id": "cell-fffa911c2f14f62b",
     "locked": true,
     "schema_version": 3,
     "solution": false,
     "task": false
    }
   },
   "source": [
    "(e) Give an example of a \"worst case\" data list of length 16 for which this many comparisons are necessary."
   ]
  },
  {
   "cell_type": "code",
   "execution_count": 43,
   "metadata": {
    "deletable": false,
    "nbgrader": {
     "cell_type": "code",
     "checksum": "861a161cb60473e25eadb8e41f93448f",
     "grade": false,
     "grade_id": "cell-cdbd5264310c1038",
     "locked": false,
     "schema_version": 3,
     "solution": true,
     "task": false
    }
   },
   "outputs": [
    {
     "output_type": "stream",
     "name": "stdout",
     "text": [
      "[16, 15, 14, 13, 12, 11, 10, 9, 8, 7, 6, 5, 4, 3, 2, 1]\n"
     ]
    }
   ],
   "source": [
    "# YOUR CODE HERE\n",
    "\n",
    "insertion_sort_length16_worstcase = list(range(16,0,-1))\n",
    "print(insertion_sort_length16_worstcase)"
   ]
  },
  {
   "cell_type": "code",
   "execution_count": 44,
   "metadata": {
    "deletable": false,
    "editable": false,
    "nbgrader": {
     "cell_type": "code",
     "checksum": "e0320ce8076c660c0ebca8243b14970a",
     "grade": true,
     "grade_id": "cell-31776121b072bf85",
     "locked": true,
     "points": 1,
     "schema_version": 3,
     "solution": false,
     "task": false
    }
   },
   "outputs": [
    {
     "output_type": "stream",
     "name": "stdout",
     "text": [
      "We agree: this seems to be a good 'worst case'\nTest passed!\n"
     ]
    },
    {
     "output_type": "execute_result",
     "data": {
      "text/plain": [
       "1"
      ]
     },
     "metadata": {},
     "execution_count": 44
    }
   ],
   "source": [
    "# 1 Mark\n",
    "# Do not try to delete this cell\n",
    "# Run this cell for grading\n",
    "_globals = globals()\n",
    "question2e(_globals)"
   ]
  },
  {
   "cell_type": "markdown",
   "metadata": {
    "deletable": false,
    "editable": false,
    "nbgrader": {
     "cell_type": "markdown",
     "checksum": "1e5bd4e02b5c71748ab806ded0de6bd2",
     "grade": false,
     "grade_id": "cell-795ac284b1d0827f",
     "locked": true,
     "schema_version": 3,
     "solution": false,
     "task": false
    }
   },
   "source": [
    "(f) Try to think this through from first principles! With a data list of length 16, what is the minimum number of comparisons that are necessary for insertion sort, if on every pass it's only necessary to compare $a_n$ with $a_{n-1}$?"
   ]
  },
  {
   "cell_type": "code",
   "execution_count": 45,
   "metadata": {
    "deletable": false,
    "nbgrader": {
     "cell_type": "code",
     "checksum": "1985f39150da849ac420862cb8274d35",
     "grade": false,
     "grade_id": "cell-691ac8cf4516f2c7",
     "locked": false,
     "schema_version": 3,
     "solution": true,
     "task": false
    }
   },
   "outputs": [],
   "source": [
    "# YOUR CODE HERE\n",
    "\n",
    "q2f_answer = 15"
   ]
  },
  {
   "cell_type": "code",
   "execution_count": 46,
   "metadata": {
    "deletable": false,
    "editable": false,
    "nbgrader": {
     "cell_type": "code",
     "checksum": "9f10daa29468bb09916a155b2b9ee699",
     "grade": true,
     "grade_id": "cell-b566cccf4417a613",
     "locked": true,
     "points": 1,
     "schema_version": 3,
     "solution": false,
     "task": false
    }
   },
   "outputs": [
    {
     "output_type": "stream",
     "name": "stdout",
     "text": [
      "test case passed!\n"
     ]
    }
   ],
   "source": [
    "# 1 Mark\n",
    "assert(q2f_answer == question2f())\n",
    "print('test case passed!')"
   ]
  },
  {
   "cell_type": "markdown",
   "metadata": {
    "deletable": false,
    "editable": false,
    "nbgrader": {
     "cell_type": "markdown",
     "checksum": "649b4521d74648090a7c3d00009201e4",
     "grade": false,
     "grade_id": "cell-33127564d0c73479",
     "locked": true,
     "schema_version": 3,
     "solution": false,
     "task": false
    }
   },
   "source": [
    "(g) Give an example of a \"best case\" data list of length 16 for which this many comparisons are necessary."
   ]
  },
  {
   "cell_type": "code",
   "execution_count": 47,
   "metadata": {
    "deletable": false,
    "nbgrader": {
     "cell_type": "code",
     "checksum": "dd6856ccbd4fa2114662b738a7e856c7",
     "grade": false,
     "grade_id": "cell-db849fdbc2093719",
     "locked": false,
     "schema_version": 3,
     "solution": true,
     "task": false
    }
   },
   "outputs": [],
   "source": [
    "# YOUR CODE HERE\n",
    "insertion_sort_length16_bestcase = [num for num in range(16)]"
   ]
  },
  {
   "cell_type": "code",
   "execution_count": 48,
   "metadata": {
    "deletable": false,
    "editable": false,
    "nbgrader": {
     "cell_type": "code",
     "checksum": "3dff4e04c6a5f992971a2907ac694927",
     "grade": true,
     "grade_id": "cell-1ea7a4fe94aef220",
     "locked": true,
     "points": 1,
     "schema_version": 3,
     "solution": false,
     "task": false
    }
   },
   "outputs": [
    {
     "output_type": "stream",
     "name": "stdout",
     "text": [
      "15\nWe agree: this seems to be a good 'best case'\nTest passed!\n"
     ]
    },
    {
     "output_type": "execute_result",
     "data": {
      "text/plain": [
       "1"
      ]
     },
     "metadata": {},
     "execution_count": 48
    }
   ],
   "source": [
    "# 1 Mark\n",
    "# Do not try to delete this cell\n",
    "# Run this cell for grading\n",
    "_globals = globals()\n",
    "question2g(_globals)"
   ]
  },
  {
   "cell_type": "markdown",
   "metadata": {
    "deletable": false,
    "editable": false,
    "nbgrader": {
     "cell_type": "markdown",
     "checksum": "d01a9d6b53634ef06fcd90faebdf84bd",
     "grade": false,
     "grade_id": "cell-64496bea95c1ce2d",
     "locked": true,
     "schema_version": 3,
     "solution": false,
     "task": false
    }
   },
   "source": [
    "(h) Introduce a global variable called `comparison_count` into your `insertion_pass` function, which should go up by 1 for each comparison it makes. (This might need some thought; depending on how your program works, it could be quite tricky.) \n",
    "\n",
    "Once you've done this, you will have no need to make any changes to `insertion_sort`; the count of comparisons will happen automatically.\n",
    "\n",
    "Use this feature to test your answers to (c), (d), (e) and (f).\n",
    "\n",
    "Test this feature too on a copy of `masterData`."
   ]
  },
  {
   "cell_type": "code",
   "execution_count": 50,
   "metadata": {
    "deletable": false,
    "nbgrader": {
     "cell_type": "code",
     "checksum": "1685e88a58921ef2ef3517e556b0257e",
     "grade": false,
     "grade_id": "cell-d60f031ae23949de",
     "locked": false,
     "schema_version": 3,
     "solution": true,
     "task": false
    }
   },
   "outputs": [],
   "source": [
    "# Cell for defining your function\n",
    "\n",
    "def insertion_pass(data, already_sorted):\n",
    "    # YOUR CODE HERE\n",
    "    \"\"\"\n",
    "    Takes list and positive int as arguments.\n",
    "    Performs one pass of the insertion sort\n",
    "    algorithm, but also counts how many comparisons\n",
    "    \"\"\"\n",
    "    global comparison_count\n",
    "    \n",
    "    item = data.pop(already_sorted)\n",
    "    for index in range(already_sorted-1, -1, -1):\n",
    "        if item > data[index]:\n",
    "            data.insert(index+1, item)\n",
    "            break\n",
    "        comparison_count += 1"
   ]
  },
  {
   "cell_type": "code",
   "execution_count": 70,
   "metadata": {
    "deletable": false,
    "editable": false,
    "nbgrader": {
     "cell_type": "code",
     "checksum": "24e7c87dee8ecf0cd1f03e3b4d7f3e5e",
     "grade": true,
     "grade_id": "cell-0c5de2505f5a39ea",
     "locked": true,
     "points": 3,
     "schema_version": 3,
     "solution": false,
     "task": false
    }
   },
   "outputs": [
    {
     "name": "stdout",
     "output_type": "stream",
     "text": [
      "insertion_sort does not seem to sort lists correctly\n",
      "Your function seems to be requiring too many comparisons\n",
      "Your function seems to have a docstring\n",
      "1 out of 3\n"
     ]
    },
    {
     "data": {
      "text/plain": [
       "1"
      ]
     },
     "execution_count": 70,
     "metadata": {},
     "output_type": "execute_result"
    }
   ],
   "source": [
    "# 3 Marks\n",
    "# Do not try to delete this cell\n",
    "# Run this cell for grading\n",
    "_globals = globals()\n",
    "question2hfunc(_globals)"
   ]
  },
  {
   "cell_type": "code",
   "execution_count": 51,
   "metadata": {
    "deletable": false,
    "nbgrader": {
     "cell_type": "code",
     "checksum": "307ae243f9207177477ee0787fab8513",
     "grade": false,
     "grade_id": "cell-07bb149de176d2bf",
     "locked": false,
     "schema_version": 3,
     "solution": true,
     "task": false
    }
   },
   "outputs": [
    {
     "output_type": "stream",
     "name": "stdout",
     "text": [
      "[3, 5, 7, 12, 17, 18, 19, 21, 22, 24, 26, 27, 29, 31, 34, 40]\n68\n"
     ]
    }
   ],
   "source": [
    "# cell for testing on a copy of masterData\n",
    "\n",
    "# YOUR CODE HERE\n",
    "comparison_count = 0\n",
    "data = copy(masterData)\n",
    "insertion_sort(data)\n",
    "\n",
    "print(data)\n",
    "print(comparison_count)"
   ]
  },
  {
   "cell_type": "code",
   "execution_count": 52,
   "metadata": {
    "deletable": false,
    "editable": false,
    "nbgrader": {
     "cell_type": "code",
     "checksum": "f4124adc19a6e64a47ec609406f4d046",
     "grade": true,
     "grade_id": "cell-e0a8eaee2d129964",
     "locked": true,
     "points": 2,
     "schema_version": 3,
     "solution": false,
     "task": false
    }
   },
   "outputs": [
    {
     "output_type": "stream",
     "name": "stdout",
     "text": [
      "data has been sorted correctly\n"
     ]
    },
    {
     "output_type": "error",
     "ename": "TypeError",
     "evalue": "'builtin_function_or_method' object is not subscriptable",
     "traceback": [
      "\u001b[1;31m---------------------------------------------------------------------------\u001b[0m",
      "\u001b[1;31mTypeError\u001b[0m                                 Traceback (most recent call last)",
      "\u001b[1;32m<ipython-input-52-6d105226265b>\u001b[0m in \u001b[0;36m<module>\u001b[1;34m\u001b[0m\n\u001b[0;32m      3\u001b[0m \u001b[1;31m# Run this cell for grading\u001b[0m\u001b[1;33m\u001b[0m\u001b[1;33m\u001b[0m\u001b[1;33m\u001b[0m\u001b[0m\n\u001b[0;32m      4\u001b[0m \u001b[0m_globals\u001b[0m \u001b[1;33m=\u001b[0m \u001b[0mglobals\u001b[0m\u001b[1;33m(\u001b[0m\u001b[1;33m)\u001b[0m\u001b[1;33m\u001b[0m\u001b[1;33m\u001b[0m\u001b[0m\n\u001b[1;32m----> 5\u001b[1;33m \u001b[0mquestion2htest\u001b[0m\u001b[1;33m(\u001b[0m\u001b[0m_globals\u001b[0m\u001b[1;33m)\u001b[0m\u001b[1;33m\u001b[0m\u001b[1;33m\u001b[0m\u001b[0m\n\u001b[0m",
      "\u001b[1;32mc:\\Users\\shafi\\OneDrive - Imperial College London\\Introduction to Computation\\Term 2 Week 9\\autograder_term2week9.py\u001b[0m in \u001b[0;36mquestion2htest\u001b[1;34m(_globals)\u001b[0m\n\u001b[0;32m    439\u001b[0m         \u001b[1;32mif\u001b[0m \u001b[0m_globals\u001b[0m\u001b[1;33m[\u001b[0m\u001b[1;34m'comparison_count'\u001b[0m\u001b[1;33m]\u001b[0m \u001b[1;33m==\u001b[0m \u001b[1;36m83\u001b[0m\u001b[1;33m:\u001b[0m\u001b[1;33m\u001b[0m\u001b[1;33m\u001b[0m\u001b[0m\n\u001b[0;32m    440\u001b[0m             \u001b[0mprint\u001b[0m\u001b[1;33m(\u001b[0m\u001b[1;34m\"Your function requires exactly the same number of comparisons as ours\"\u001b[0m\u001b[1;33m)\u001b[0m\u001b[1;33m\u001b[0m\u001b[1;33m\u001b[0m\u001b[0m\n\u001b[1;32m--> 441\u001b[1;33m         \u001b[1;32melif\u001b[0m \u001b[0mglobals\u001b[0m\u001b[1;33m[\u001b[0m\u001b[1;34m'comparison_count'\u001b[0m\u001b[1;33m]\u001b[0m \u001b[1;33m>\u001b[0m \u001b[1;36m83\u001b[0m\u001b[1;33m:\u001b[0m\u001b[1;33m\u001b[0m\u001b[1;33m\u001b[0m\u001b[0m\n\u001b[0m\u001b[0;32m    442\u001b[0m             \u001b[0mprint\u001b[0m\u001b[1;33m(\u001b[0m\u001b[1;34m\"Your function seems to require slightly more comparisons than ours; can it be further improved?\"\u001b[0m\u001b[1;33m)\u001b[0m\u001b[1;33m\u001b[0m\u001b[1;33m\u001b[0m\u001b[0m\n\u001b[0;32m    443\u001b[0m         \u001b[1;32melse\u001b[0m\u001b[1;33m:\u001b[0m\u001b[1;33m\u001b[0m\u001b[1;33m\u001b[0m\u001b[0m\n",
      "\u001b[1;31mTypeError\u001b[0m: 'builtin_function_or_method' object is not subscriptable"
     ]
    }
   ],
   "source": [
    "# 3 Marks\n",
    "# Do not try to delete this cell\n",
    "# Run this cell for grading\n",
    "_globals = globals()\n",
    "question2htest(_globals)"
   ]
  },
  {
   "cell_type": "markdown",
   "metadata": {
    "deletable": false,
    "editable": false,
    "nbgrader": {
     "cell_type": "markdown",
     "checksum": "352df51f33def47a11109b3166e7e795",
     "grade": false,
     "grade_id": "cell-d852ae35b85ac501",
     "locked": true,
     "schema_version": 3,
     "solution": false,
     "task": false
    }
   },
   "source": [
    "(j) Experiment. Which of the following seems to be true?\n",
    "\n",
    "<ol>\n",
    "    <li>Insertion sort outperforms bubble sort in the worst case and the best case, and seems to outperform it in the typical case.</li>\n",
    "    <li>Insertion sort outperforms bubble sort in the worst case, and seems to outperform it in the typical case, but performs exactly as well in the best case.</li>\n",
    "    <li>Insertion sort outperforms bubble sort in the best case, and seems to outperform it in the typical case, but performs exactly as well in the worst case.</li>\n",
    "    <li>Insertion sort seems to outperform bubble sort in the typical case, but performs exactly as well in the worst case and best case.</li>\n",
    "    <li>Insertion sort performs exactly as well as bubble sort in the worst case and best case, and roughly as well in the typical case.</li>\n",
    "</ol>"
   ]
  },
  {
   "cell_type": "code",
   "execution_count": 53,
   "metadata": {
    "deletable": false,
    "nbgrader": {
     "cell_type": "code",
     "checksum": "849cd2224638684aa1033625b282438d",
     "grade": false,
     "grade_id": "cell-e6188a6359fa00ca",
     "locked": false,
     "schema_version": 3,
     "solution": true,
     "task": false
    }
   },
   "outputs": [],
   "source": [
    "# YOUR CODE HERE\n",
    "\n",
    "q2j_answer = 4"
   ]
  },
  {
   "cell_type": "code",
   "execution_count": 54,
   "metadata": {
    "deletable": false,
    "editable": false,
    "nbgrader": {
     "cell_type": "code",
     "checksum": "c3c355f09cff2ed5490ce5473a365c67",
     "grade": true,
     "grade_id": "cell-99c353404a5c658e",
     "locked": true,
     "points": 1,
     "schema_version": 3,
     "solution": false,
     "task": false
    }
   },
   "outputs": [
    {
     "output_type": "stream",
     "name": "stdout",
     "text": [
      "test case passed!\n"
     ]
    }
   ],
   "source": [
    "# 1 Mark\n",
    "assert(q2j_answer == question2j())\n",
    "print('test case passed!')"
   ]
  },
  {
   "cell_type": "markdown",
   "metadata": {
    "deletable": false,
    "editable": false,
    "nbgrader": {
     "cell_type": "markdown",
     "checksum": "dc5613c1931881d2d9c0eef382b02a2a",
     "grade": false,
     "grade_id": "cell-ae4bdc93780638cd",
     "locked": true,
     "schema_version": 3,
     "solution": false,
     "task": false
    }
   },
   "source": [
    "## Question 3\n",
    "\n",
    "This question is about <b>merge sort</b>, which is a more sophisticated sorting algorithm than selection sort, bubble sort or insertion sort.\n",
    "\n",
    "### (i)\n",
    "\n",
    "At its core is the idea of merging the contents of two <b>buffers</b>, each of which is assumed to be itself already sorted. Before we get on to how the sort itself works, let's consider this merging operation.\n",
    "\n",
    "We start with two lists of length 3 and 4 respectively, which we'll call `left_buffer` and `right_buffer`, and a destination list called `data`, of length 7. Now, `data` can have any old junk in it as far as the merge operation is concerned, so let's fill it with zeros. So we start off like this:\n",
    "\n",
    "`left_buffer`: 3, 7, 8\n",
    "\n",
    "`right_buffer`: 2, 5, 9, 10\n",
    "\n",
    "`data`: 0, 0, 0, 0, 0, 0, 0\n",
    "\n",
    "Notice that `left_buffer` and `right_buffer` are already sorted.\n",
    "\n",
    "Our first move is to compare the position 0 elements of the two buffers: 3 and 2. The smaller is 2, so we choose that one, and place it in position 0 of data:\n",
    "\n",
    "`left_buffer`: 3, 7, 8\n",
    "\n",
    "`right_buffer`: <font color='gray'>2</font>, 5, 9, 10\n",
    "\n",
    "`data`: 2, 0, 0, 0, 0, 0, 0\n",
    "\n",
    "I've \"grayed out\" 2, as it's been used.\n",
    "\n",
    "Now we compare the position 0 element of `left_buffer` with the position 1 element of the partially used-up `right_buffer`: 3 and 5. The smaller is 3, so we use that:\n",
    "\n",
    "`left_buffer`: <font color='gray'>3</font>, 7, 8\n",
    "\n",
    "`right_buffer`: <font color='gray'>2</font>, 5, 9, 10\n",
    "\n",
    "`data`: 2, 3, 0, 0, 0, 0, 0\n",
    "\n",
    "Now we compare the position 1 elements in each buffer: 5 and 7. This gives\n",
    "\n",
    "`left_buffer`: <font color='gray'>3</font>, 7, 8\n",
    "\n",
    "`right_buffer`: <font color='gray'>2</font>, <font color='gray'>5</font>, 9, 10\n",
    "\n",
    "`data`: 2, 3, 5, 0, 0, 0, 0\n",
    "\n",
    "And so on. We eventually get to this situation:\n",
    "\n",
    "`left_buffer`: <font color='gray'>3</font>, <font color='gray'>7</font>, <font color='gray'>8</font>\n",
    "\n",
    "`right_buffer`: <font color='gray'>2</font>, <font color='gray'>5</font>, 9, 10\n",
    "\n",
    "`data`: 2, 3, 5, 7, 8, 0, 0\n",
    "\n",
    "At this point, with one of the buffers used up, we're done, and we can fill in the remaining data:\n",
    "\n",
    "`left_buffer`: <font color='gray'>3</font>, <font color='gray'>7</font>, <font color='gray'>8</font>\n",
    "\n",
    "`right_buffer`: <font color='gray'>2</font>, <font color='gray'>5</font>, <font color='gray'>9</font>, <font color='gray'>10</font>\n",
    "\n",
    "`data`: 2, 3, 5, 7, 8, 9, 10\n"
   ]
  },
  {
   "cell_type": "markdown",
   "metadata": {
    "deletable": false,
    "editable": false,
    "nbgrader": {
     "cell_type": "markdown",
     "checksum": "13a09737f81d4d558494953596fab902",
     "grade": false,
     "grade_id": "cell-6a6a76c9cb3d43d8",
     "locked": true,
     "schema_version": 3,
     "solution": false,
     "task": false
    }
   },
   "source": [
    "(a) Write a function called `merge`, which takes as its arguments three lists, `left_buffer`, `right_buffer` and `data`, and merges `left_buffer` and `right_buffer` into `data` in place (that is, as a side-effect; it should return no output).\n",
    "\n",
    "Try to make sure you carry out only such comparisons as are necessary, but don't at this stage include a comparison count.\n",
    "\n",
    "Test it: the following code\n",
    "```python\n",
    "left_buffer = [3, 7, 8]\n",
    "right_buffer = [2, 5, 9, 10]\n",
    "data = [0, 0, 0, 0, 0, 0, 0]\n",
    "merge(left_buffer, right_buffer, data)\n",
    "print(data)\n",
    "```\n",
    "\n",
    "should give `[2, 3, 5, 7, 8, 9, 10]`"
   ]
  },
  {
   "cell_type": "code",
   "execution_count": 55,
   "metadata": {
    "deletable": false,
    "nbgrader": {
     "cell_type": "code",
     "checksum": "7ed4ba971386eb71b106eddf6e8a64b2",
     "grade": false,
     "grade_id": "cell-5e22b2fe4863815c",
     "locked": false,
     "schema_version": 3,
     "solution": true,
     "task": false
    }
   },
   "outputs": [
    {
     "output_type": "stream",
     "name": "stdout",
     "text": [
      "[2, 3, 5, 7, 8, 9, 10]\n"
     ]
    }
   ],
   "source": [
    "def merge(left_buffer, right_buffer, data):\n",
    "    # YOUR CODE HERE\n",
    "    \"\"\"\n",
    "    Takes 2 arrays and merges them into a sorted\n",
    "    bigger array\n",
    "    \"\"\"\n",
    "    indexr = 0\n",
    "    indexl = 0\n",
    "    index = 0\n",
    "    while left_buffer and right_buffer:\n",
    "        data.pop(index)\n",
    "        if left_buffer[indexl] > right_buffer[indexr]:\n",
    "            data.insert(index, right_buffer.pop(indexr))\n",
    "        else:\n",
    "            data.insert(index, left_buffer.pop(indexl))\n",
    "        index += 1 \n",
    "    del data[index:]\n",
    "    if left_buffer:\n",
    "        data.extend(left_buffer)\n",
    "    else:\n",
    "        data.extend(right_buffer)\n",
    "    \n",
    "# quick test\n",
    "left_buffer = [3, 7, 8]\n",
    "right_buffer = [2, 5, 9, 10]\n",
    "data = [0, 0, 0, 0, 0, 0, 0]\n",
    "merge(left_buffer, right_buffer, data)\n",
    "print(data)"
   ]
  },
  {
   "cell_type": "code",
   "execution_count": 56,
   "metadata": {
    "deletable": false,
    "editable": false,
    "nbgrader": {
     "cell_type": "code",
     "checksum": "ddfc01e03de8c0cf11bef3f76e4a1557",
     "grade": true,
     "grade_id": "cell-02a6bb6d95db6df1",
     "locked": true,
     "points": 2,
     "schema_version": 3,
     "solution": false,
     "task": false
    }
   },
   "outputs": [
    {
     "output_type": "stream",
     "name": "stdout",
     "text": [
      "merge seems to be working correctly\nYour function seems to have a docstring\n2 out of 2\n"
     ]
    },
    {
     "output_type": "execute_result",
     "data": {
      "text/plain": [
       "2"
      ]
     },
     "metadata": {},
     "execution_count": 56
    }
   ],
   "source": [
    "# 2 Marks\n",
    "# Do not try to delete this cell\n",
    "# Run this cell for grading\n",
    "_globals = globals()\n",
    "question3ia(_globals)"
   ]
  },
  {
   "cell_type": "markdown",
   "metadata": {
    "deletable": false,
    "editable": false,
    "nbgrader": {
     "cell_type": "markdown",
     "checksum": "e95aeb1341dc09c23735475f429a182c",
     "grade": false,
     "grade_id": "cell-ca431ffaa503e965",
     "locked": true,
     "schema_version": 3,
     "solution": false,
     "task": false
    }
   },
   "source": [
    "(b) What is the least number of comparisons necessary in order to merge two sorted buffers of length 8 into a data list of length 16?"
   ]
  },
  {
   "cell_type": "code",
   "execution_count": 57,
   "metadata": {
    "deletable": false,
    "nbgrader": {
     "cell_type": "code",
     "checksum": "0469074628d865ec0e62df28e0942f9a",
     "grade": false,
     "grade_id": "cell-8ed0c9720cee139e",
     "locked": false,
     "schema_version": 3,
     "solution": true,
     "task": false
    }
   },
   "outputs": [],
   "source": [
    "# YOUR CODE HERE\n",
    "\n",
    "q3ib_answer = 8"
   ]
  },
  {
   "cell_type": "code",
   "execution_count": 58,
   "metadata": {
    "deletable": false,
    "editable": false,
    "nbgrader": {
     "cell_type": "code",
     "checksum": "e1b2ba0f83d53a8972b64cf35850f57e",
     "grade": true,
     "grade_id": "cell-433aefcb80f0a160",
     "locked": true,
     "points": 1,
     "schema_version": 3,
     "solution": false,
     "task": false
    }
   },
   "outputs": [
    {
     "output_type": "stream",
     "name": "stdout",
     "text": [
      "test case passed!\n"
     ]
    }
   ],
   "source": [
    "# 1 Mark\n",
    "assert(q3ib_answer == question3ib())\n",
    "print('test case passed!')"
   ]
  },
  {
   "cell_type": "markdown",
   "metadata": {},
   "source": [
    "(c) What is the greatest number of comparisons necessary in order to merge two sorted buffers of length 8 into a data list of length 16?"
   ]
  },
  {
   "cell_type": "code",
   "execution_count": 59,
   "metadata": {
    "deletable": false,
    "nbgrader": {
     "cell_type": "code",
     "checksum": "fa760c6afd3c8260aace7b5f6e09f71f",
     "grade": false,
     "grade_id": "cell-724c6fa937558218",
     "locked": false,
     "schema_version": 3,
     "solution": true,
     "task": false
    }
   },
   "outputs": [],
   "source": [
    "# YOUR CODE HERE\n",
    "\n",
    "q3ic_answer = 15"
   ]
  },
  {
   "cell_type": "code",
   "execution_count": 60,
   "metadata": {
    "deletable": false,
    "editable": false,
    "nbgrader": {
     "cell_type": "code",
     "checksum": "24a5212fe9c28948a02e80db3bfd429b",
     "grade": true,
     "grade_id": "cell-c4cd301632439d83",
     "locked": true,
     "points": 1,
     "schema_version": 3,
     "solution": false,
     "task": false
    }
   },
   "outputs": [
    {
     "output_type": "stream",
     "name": "stdout",
     "text": [
      "test case passed!\n"
     ]
    }
   ],
   "source": [
    "# 1 Mark\n",
    "assert(q3ic_answer == question3ic())\n",
    "print('test case passed!')"
   ]
  },
  {
   "cell_type": "markdown",
   "metadata": {
    "deletable": false,
    "editable": false,
    "nbgrader": {
     "cell_type": "markdown",
     "checksum": "960c086c35b62e1aa3522587201fae06",
     "grade": false,
     "grade_id": "cell-3eea479b25ee8b53",
     "locked": true,
     "schema_version": 3,
     "solution": false,
     "task": false
    }
   },
   "source": [
    "### (ii) \n",
    "\n",
    "One way to implement merge sort itself is <b>recursively</b>. The algorithm goes like this.\n",
    "\n",
    "To merge sort `data`:\n",
    "\n",
    "If `data` consists of only one element, do nothing. Otherwise,\n",
    "\n",
    "<ul>\n",
    "    <li>Let <code>half_length</code> be half the length of <code>data</code>.</li>\n",
    "    <li>Let <code>left_half</code> be <code>data[0:half_length]</code> and <code>right_half</code> the rest.</li>\n",
    "    <li>Merge sort <code>left_half</code>.</li>\n",
    "    <li>Merge sort <code>right_half</code>.</li>    \n",
    "    <li>Merge <code>left_half</code> and <code>right_half</code> into <code>data</code>.</li>\n",
    "</ul>\n",
    "\n",
    "(a) Write a function called `merge_sort` based on the above description, and test it on a variety of data lists."
   ]
  },
  {
   "cell_type": "code",
   "execution_count": 61,
   "metadata": {
    "deletable": false,
    "nbgrader": {
     "cell_type": "code",
     "checksum": "69d3ed11e65d716f7c2cea46c96490ae",
     "grade": false,
     "grade_id": "cell-0a0b52801a29d664",
     "locked": false,
     "schema_version": 3,
     "solution": true,
     "task": false
    }
   },
   "outputs": [
    {
     "output_type": "stream",
     "name": "stdout",
     "text": [
      "[3, 34, 12, 22, 27, 17, 31, 29, 40, 24, 21, 19, 7, 18, 26, 5]\n[3, 5, 7, 12, 17, 18, 19, 21, 22, 24, 26, 27, 29, 31, 34, 40]\n"
     ]
    }
   ],
   "source": [
    "def merge_sort(data):\n",
    "    # YOUR CODE HERE\n",
    "    \"\"\"\n",
    "    Uses recursion to implement the merge\n",
    "    sort algorithm.\n",
    "    \"\"\"\n",
    "    if len(data) == 1:\n",
    "        return data\n",
    "    half_length = len(data)//2\n",
    "    left_half = data[0:half_length]\n",
    "    right_half = data[half_length:]\n",
    "    merge_sort(left_half)\n",
    "    merge_sort(right_half)\n",
    "    merge(left_half, right_half, data)\n",
    "\n",
    "dat = copy(masterData)\n",
    "print(dat)\n",
    "merge_sort(dat)\n",
    "print(dat)"
   ]
  },
  {
   "cell_type": "code",
   "execution_count": 62,
   "metadata": {
    "deletable": false,
    "editable": false,
    "nbgrader": {
     "cell_type": "code",
     "checksum": "45ef9dbc9270bbaac375e98bc2b3f2e8",
     "grade": true,
     "grade_id": "cell-048ab5d080208523",
     "locked": true,
     "points": 2,
     "schema_version": 3,
     "solution": false,
     "task": false
    }
   },
   "outputs": [
    {
     "output_type": "stream",
     "name": "stdout",
     "text": [
      "merge_sort seems to sort lists correctly\nYour function seems to have a docstring\n2 out of 2\n"
     ]
    },
    {
     "output_type": "execute_result",
     "data": {
      "text/plain": [
       "2"
      ]
     },
     "metadata": {},
     "execution_count": 62
    }
   ],
   "source": [
    "# 2 Marks\n",
    "# Do not try to delete this cell\n",
    "# Run this cell for grading\n",
    "_globals = globals()\n",
    "question3iia(_globals)"
   ]
  },
  {
   "cell_type": "markdown",
   "metadata": {
    "deletable": false,
    "editable": false,
    "nbgrader": {
     "cell_type": "markdown",
     "checksum": "52819e1f26781fe85350cea465513e8c",
     "grade": false,
     "grade_id": "cell-a46ea7887ba74ff4",
     "locked": true,
     "schema_version": 3,
     "solution": false,
     "task": false
    }
   },
   "source": [
    "To merge sort a list of length 16, you must first merge sort two lists of length 8, then merge them; each list of length 8 has been created from two merge-sorted lists of length 4, and so on.\n",
    "\n",
    "(b) In the best case, how many comparisons are necessary in order to merge sort a list of length 16?"
   ]
  },
  {
   "cell_type": "code",
   "execution_count": 63,
   "metadata": {
    "deletable": false,
    "nbgrader": {
     "cell_type": "code",
     "checksum": "0e435e9258edeb1b56a499ad3f02bf2c",
     "grade": false,
     "grade_id": "cell-1f6f920745570a96",
     "locked": false,
     "schema_version": 3,
     "solution": true,
     "task": false
    }
   },
   "outputs": [],
   "source": [
    "# YOUR CODE HERE\n",
    "\n",
    "q3iib_answer = 32"
   ]
  },
  {
   "cell_type": "code",
   "execution_count": 64,
   "metadata": {
    "deletable": false,
    "editable": false,
    "nbgrader": {
     "cell_type": "code",
     "checksum": "53be168c5ce638d23ca69fa8e5470bfe",
     "grade": true,
     "grade_id": "cell-af5fbf8fd5ab73e9",
     "locked": true,
     "points": 1,
     "schema_version": 3,
     "solution": false,
     "task": false
    }
   },
   "outputs": [
    {
     "output_type": "stream",
     "name": "stdout",
     "text": [
      "test case passed!\n"
     ]
    }
   ],
   "source": [
    "# 1 Mark\n",
    "assert(q3iib_answer == question3iib())\n",
    "print('test case passed!')"
   ]
  },
  {
   "cell_type": "markdown",
   "metadata": {},
   "source": [
    "(c) In the worst case, how many comparisons are necessary in order to merge sort a list of length 16?"
   ]
  },
  {
   "cell_type": "code",
   "execution_count": 65,
   "metadata": {
    "deletable": false,
    "nbgrader": {
     "cell_type": "code",
     "checksum": "e4bec53f1cdb79e14a248a1c51733d48",
     "grade": false,
     "grade_id": "cell-fce1317ba6e870b5",
     "locked": false,
     "schema_version": 3,
     "solution": true,
     "task": false
    }
   },
   "outputs": [],
   "source": [
    "# YOUR CODE HERE\n",
    "\n",
    "q3iic_answer = 49# insert your answer here as an int"
   ]
  },
  {
   "cell_type": "code",
   "execution_count": 66,
   "metadata": {
    "deletable": false,
    "editable": false,
    "nbgrader": {
     "cell_type": "code",
     "checksum": "58999205ecd4adc1336801544844dc13",
     "grade": true,
     "grade_id": "cell-5ffd72f11f725263",
     "locked": true,
     "points": 1,
     "schema_version": 3,
     "solution": false,
     "task": false
    }
   },
   "outputs": [
    {
     "output_type": "stream",
     "name": "stdout",
     "text": [
      "test case passed!\n"
     ]
    }
   ],
   "source": [
    "# 1 Mark\n",
    "assert(q3iic_answer == question3iic())\n",
    "print('test case passed!')"
   ]
  },
  {
   "cell_type": "markdown",
   "metadata": {
    "deletable": false,
    "editable": false,
    "nbgrader": {
     "cell_type": "markdown",
     "checksum": "84579b94dc48cfccbf713bf774990eb1",
     "grade": false,
     "grade_id": "cell-3cb2d67e1256268e",
     "locked": true,
     "schema_version": 3,
     "solution": false,
     "task": false
    }
   },
   "source": [
    "(d) <b>This is genuinely tricky</b>. In the best case, how many comparisons are necessary in order to merge sort a list of length $2^m$? Give your answer as a lambda-expression called `merge_sort_min`."
   ]
  },
  {
   "cell_type": "code",
   "execution_count": 68,
   "metadata": {
    "deletable": false,
    "nbgrader": {
     "cell_type": "code",
     "checksum": "6ce790703661a1babb160873e1e5b0f0",
     "grade": false,
     "grade_id": "cell-6f326d0825f9f749",
     "locked": false,
     "schema_version": 3,
     "solution": true,
     "task": false
    }
   },
   "outputs": [
    {
     "output_type": "stream",
     "name": "stdout",
     "text": [
      "32\n"
     ]
    }
   ],
   "source": [
    "# YOUR CODE HERE\n",
    "merge_sort_min = lambda n: n*2**(n-1)\n",
    "\n",
    "# quick test\n",
    "print(merge_sort_min(4))"
   ]
  },
  {
   "cell_type": "code",
   "execution_count": 69,
   "metadata": {
    "deletable": false,
    "editable": false,
    "nbgrader": {
     "cell_type": "code",
     "checksum": "fe3e4a40104f9979623614ea33c5d040",
     "grade": true,
     "grade_id": "cell-69ef9e70d14bf4bc",
     "locked": true,
     "points": 1,
     "schema_version": 3,
     "solution": false,
     "task": false
    }
   },
   "outputs": [
    {
     "output_type": "stream",
     "name": "stdout",
     "text": [
      "The lambda-expression merge_sort_min seems to return the correct numbers\nThe lambda-expression merge_sort_min seems to return ints\nTest passed!\n"
     ]
    },
    {
     "output_type": "execute_result",
     "data": {
      "text/plain": [
       "1"
      ]
     },
     "metadata": {},
     "execution_count": 69
    }
   ],
   "source": [
    "# 1 Mark\n",
    "# Do not try to delete this cell\n",
    "# Run this cell for grading\n",
    "_globals = globals()\n",
    "question3iid(_globals)"
   ]
  },
  {
   "cell_type": "markdown",
   "metadata": {
    "deletable": false,
    "editable": false,
    "nbgrader": {
     "cell_type": "markdown",
     "checksum": "2a7502ee5dcc5f86bf05136de403e360",
     "grade": false,
     "grade_id": "cell-369b0227cc7ca871",
     "locked": true,
     "schema_version": 3,
     "solution": false,
     "task": false
    }
   },
   "source": [
    "(e) <b>This is also genuinely tricky</b>. In the worst case, how many comparisons are necessary in order to merge sort a list of length $2^m$? Give your answer as a lambda-expression called `merge_sort_max`."
   ]
  },
  {
   "cell_type": "code",
   "execution_count": 76,
   "metadata": {
    "deletable": false,
    "nbgrader": {
     "cell_type": "code",
     "checksum": "60f895cf1f0ed068e65900f82a31e545",
     "grade": false,
     "grade_id": "cell-bb524909efbae5a1",
     "locked": false,
     "schema_version": 3,
     "solution": true,
     "task": false
    }
   },
   "outputs": [
    {
     "output_type": "stream",
     "name": "stdout",
     "text": [
      "49\n"
     ]
    }
   ],
   "source": [
    "# YOUR CODE HERE\n",
    "merge_sort_max = lambda n: (n-1)*2**n+1\n",
    "\n",
    "# quick test\n",
    "print(merge_sort_max(4))"
   ]
  },
  {
   "cell_type": "code",
   "execution_count": 77,
   "metadata": {
    "deletable": false,
    "editable": false,
    "nbgrader": {
     "cell_type": "code",
     "checksum": "6bf7070ee8876200d4b034ec1d00849f",
     "grade": true,
     "grade_id": "cell-dfe1f9828a3d0f07",
     "locked": true,
     "points": 1,
     "schema_version": 3,
     "solution": false,
     "task": false
    }
   },
   "outputs": [
    {
     "output_type": "stream",
     "name": "stdout",
     "text": [
      "The lambda-expression merge_sort_max seems to return the correct numbers\nThe lambda-expression merge_sort_max seems to return ints\nTest passed!\n"
     ]
    },
    {
     "output_type": "execute_result",
     "data": {
      "text/plain": [
       "1"
      ]
     },
     "metadata": {},
     "execution_count": 77
    }
   ],
   "source": [
    "# 1 Mark\n",
    "# Do not try to delete this cell\n",
    "# Run this cell for grading\n",
    "_globals = globals()\n",
    "question3iie(_globals)"
   ]
  },
  {
   "cell_type": "markdown",
   "metadata": {
    "deletable": false,
    "editable": false,
    "nbgrader": {
     "cell_type": "markdown",
     "checksum": "2665772d392faf4e1339eacc00f209bc",
     "grade": false,
     "grade_id": "cell-5c4ff0615fa70858",
     "locked": true,
     "schema_version": 3,
     "solution": false,
     "task": false
    }
   },
   "source": [
    "(f) Which of the following is true:\n",
    "\n",
    "<ol>\n",
    "    <li>Merge sort is $\\Theta(n)$.</li>\n",
    "    <li>Merge sort is $\\Theta(n\\,\\log n)$.</li>\n",
    "    <li>Merge sort is $\\Theta(n^2)$.</li>\n",
    "    <li>Merge sort is $\\Theta(2^n)$.</li>\n",
    "    <li>Merge sort is $\\Theta(n\\times2^n)$.</li>\n",
    "    <li>None of the above.</li>\n",
    "</ol>"
   ]
  },
  {
   "cell_type": "code",
   "execution_count": 82,
   "metadata": {
    "deletable": false,
    "nbgrader": {
     "cell_type": "code",
     "checksum": "16d0186c81051f56c26d8f5742928338",
     "grade": false,
     "grade_id": "cell-06bca642bce2ff30",
     "locked": false,
     "schema_version": 3,
     "solution": true,
     "task": false
    }
   },
   "outputs": [],
   "source": [
    "# YOUR CODE HERE\n",
    "\n",
    "\n",
    "q3iif_answer = 2# insert one of 1, 2, 3, 4 or 5"
   ]
  },
  {
   "cell_type": "code",
   "execution_count": 83,
   "metadata": {
    "deletable": false,
    "editable": false,
    "nbgrader": {
     "cell_type": "code",
     "checksum": "10c01c1183eea4ca2615dab22cfb8097",
     "grade": true,
     "grade_id": "cell-e4c65eaa0651265b",
     "locked": true,
     "points": 1,
     "schema_version": 3,
     "solution": false,
     "task": false
    }
   },
   "outputs": [
    {
     "output_type": "stream",
     "name": "stdout",
     "text": [
      "test case passed!\n"
     ]
    }
   ],
   "source": [
    "# 1 Mark\n",
    "assert(q3iif_answer == question3iif())\n",
    "print('test case passed!')"
   ]
  },
  {
   "cell_type": "markdown",
   "metadata": {
    "deletable": false,
    "editable": false,
    "nbgrader": {
     "cell_type": "markdown",
     "checksum": "8c2119175867d8bf462c0c7c914f2e60",
     "grade": false,
     "grade_id": "cell-8fa478d7e948aa20",
     "locked": true,
     "schema_version": 3,
     "solution": false,
     "task": false
    }
   },
   "source": [
    "### (iii) \n",
    "\n",
    "(a) Introduce a `comparison_count` into your `merge` function, and use it to test your answers to (b), (c), (d), (e) and (f) above. (Autograding won't help with all that testing, sadly, but please do carry it out.)\n",
    "\n",
    "Be sure only to count actual comparisons of data items (and not, for example, index checks to test whether a buffer has been used up yet)."
   ]
  },
  {
   "cell_type": "code",
   "execution_count": 84,
   "metadata": {
    "deletable": false,
    "nbgrader": {
     "cell_type": "code",
     "checksum": "bc4048ccf1418325c22ddaeec8b2ad93",
     "grade": false,
     "grade_id": "cell-5e783663f1cad858",
     "locked": false,
     "schema_version": 3,
     "solution": true,
     "task": false
    }
   },
   "outputs": [],
   "source": [
    "# cell for defining your function\n",
    "\n",
    "def merge(left_buffer, right_buffer, data):\n",
    "    # YOUR CODE HERE\n",
    "    \"\"\"\n",
    "    Takes 2 arrays and merges them into a sorted\n",
    "    bigger array\n",
    "    \"\"\"\n",
    "    global comparison_count\n",
    "    indexr = 0\n",
    "    indexl = 0\n",
    "    index = 0\n",
    "    while left_buffer and right_buffer:\n",
    "        comparison_count +=1\n",
    "        data.pop(index)\n",
    "        if left_buffer[indexl] > right_buffer[indexr]:\n",
    "            data.insert(index, right_buffer.pop(indexr))\n",
    "        else:\n",
    "            data.insert(index, left_buffer.pop(indexl))\n",
    "        index += 1 \n",
    "    del data[index:]\n",
    "    if left_buffer:\n",
    "        data.extend(left_buffer)\n",
    "    else:\n",
    "        data.extend(right_buffer)\n"
   ]
  },
  {
   "cell_type": "code",
   "execution_count": 85,
   "metadata": {
    "deletable": false,
    "editable": false,
    "nbgrader": {
     "cell_type": "code",
     "checksum": "8105abd7b8537b5754f5c00836fbbbd0",
     "grade": true,
     "grade_id": "cell-d4d6ef12e4d93202",
     "locked": true,
     "points": 3,
     "schema_version": 3,
     "solution": false,
     "task": false
    }
   },
   "outputs": [
    {
     "output_type": "stream",
     "name": "stdout",
     "text": [
      "merge_sort seems to sort lists correctly\nYour function requires exactly the same number of comparisons as ours\nYour function seems to have a docstring\n3 out of 3\n"
     ]
    },
    {
     "output_type": "execute_result",
     "data": {
      "text/plain": [
       "3"
      ]
     },
     "metadata": {},
     "execution_count": 85
    }
   ],
   "source": [
    "# 3 Marks\n",
    "# Do not try to delete this cell\n",
    "# Run this cell for grading\n",
    "_globals = globals()\n",
    "question3iiiafunc(_globals)"
   ]
  },
  {
   "cell_type": "code",
   "execution_count": 86,
   "metadata": {
    "deletable": false,
    "nbgrader": {
     "cell_type": "code",
     "checksum": "e5f87f41be21d979e4a55960dfd243ab",
     "grade": false,
     "grade_id": "cell-9012d33cf5cfb424",
     "locked": false,
     "schema_version": 3,
     "solution": true,
     "task": false
    }
   },
   "outputs": [
    {
     "output_type": "stream",
     "name": "stdout",
     "text": [
      "[3, 5, 7, 12, 17, 18, 19, 21, 22, 24, 26, 27, 29, 31, 34, 40]\n47\n"
     ]
    }
   ],
   "source": [
    "# for testing on a copy of masterData\n",
    "# YOUR CODE HERE\n",
    "comparison_count = 0\n",
    "data = copy(masterData)\n",
    "merge_sort(data)\n",
    "\n",
    "\n",
    "print(data)\n",
    "print(comparison_count)"
   ]
  },
  {
   "cell_type": "code",
   "execution_count": 87,
   "metadata": {
    "deletable": false,
    "editable": false,
    "nbgrader": {
     "cell_type": "code",
     "checksum": "fdaf3c8a986ab5ba4023417286233582",
     "grade": true,
     "grade_id": "cell-b751a3fcb95b26c5",
     "locked": true,
     "points": 2,
     "schema_version": 3,
     "solution": false,
     "task": false
    }
   },
   "outputs": [
    {
     "output_type": "stream",
     "name": "stdout",
     "text": [
      "data has been sorted correctly\nYour function requires exactly the same number of comparisons as ours\n2 out of 2\n"
     ]
    },
    {
     "output_type": "execute_result",
     "data": {
      "text/plain": [
       "2"
      ]
     },
     "metadata": {},
     "execution_count": 87
    }
   ],
   "source": [
    "# 2 Marks\n",
    "# Do not try to delete this cell\n",
    "# Run this cell for grading\n",
    "_globals = globals()\n",
    "question3iiiatest(_globals)"
   ]
  },
  {
   "cell_type": "markdown",
   "metadata": {
    "deletable": false,
    "editable": false,
    "nbgrader": {
     "cell_type": "markdown",
     "checksum": "be542b9d7f310b1d7147e5e9cd4f5594",
     "grade": false,
     "grade_id": "cell-2c99726261eb0287",
     "locked": true,
     "schema_version": 3,
     "solution": false,
     "task": false
    }
   },
   "source": [
    "(b) Find an example of a data list of length 16 that needs the fewest possible comparisons using merge sort."
   ]
  },
  {
   "cell_type": "code",
   "execution_count": 88,
   "metadata": {
    "deletable": false,
    "nbgrader": {
     "cell_type": "code",
     "checksum": "d45753fdeb62d3d2609156bd268cfbeb",
     "grade": false,
     "grade_id": "cell-d88a0a548f05d8ab",
     "locked": false,
     "schema_version": 3,
     "solution": true,
     "task": false
    }
   },
   "outputs": [],
   "source": [
    "# YOUR CODE HERE\n",
    "\n",
    "merge_sort_length16_bestcase = list(range(16))"
   ]
  },
  {
   "cell_type": "code",
   "execution_count": 89,
   "metadata": {
    "deletable": false,
    "editable": false,
    "nbgrader": {
     "cell_type": "code",
     "checksum": "7c39d84a04788a6763cede6f67d3712d",
     "grade": true,
     "grade_id": "cell-dfed020fc8d336a2",
     "locked": true,
     "points": 1,
     "schema_version": 3,
     "solution": false,
     "task": false
    }
   },
   "outputs": [
    {
     "output_type": "stream",
     "name": "stdout",
     "text": [
      "We agree: this seems to be a good 'best case'\nTest passed!\n"
     ]
    },
    {
     "output_type": "execute_result",
     "data": {
      "text/plain": [
       "1"
      ]
     },
     "metadata": {},
     "execution_count": 89
    }
   ],
   "source": [
    "# 1 Mark\n",
    "# Do not try to delete this cell\n",
    "# Run this cell for grading\n",
    "_globals = globals()\n",
    "question3iiib(_globals)"
   ]
  },
  {
   "cell_type": "markdown",
   "metadata": {
    "deletable": false,
    "editable": false,
    "nbgrader": {
     "cell_type": "markdown",
     "checksum": "35c7ceb7d1fa4e46bacdd25519e8b8da",
     "grade": false,
     "grade_id": "cell-29f2ce7c00ed4586",
     "locked": true,
     "schema_version": 3,
     "solution": false,
     "task": false
    }
   },
   "source": [
    "(c) <b>Yet another genuinely tricky one</b>: find an example of a data list of length 16 that needs the most possible comparisons using merge sort."
   ]
  },
  {
   "cell_type": "code",
   "execution_count": null,
   "metadata": {
    "deletable": false,
    "nbgrader": {
     "cell_type": "code",
     "checksum": "5462618dcb0e50891eb62886b1ed824f",
     "grade": false,
     "grade_id": "cell-df8754ecb97b3316",
     "locked": false,
     "schema_version": 3,
     "solution": true,
     "task": false
    }
   },
   "outputs": [],
   "source": [
    "# YOUR CODE HERE\n",
    "raise NotImplementedError()\n",
    "\n",
    "merge_sort_length16_worstcase = \"Absolutely no clue mate\""
   ]
  },
  {
   "cell_type": "code",
   "execution_count": null,
   "metadata": {
    "deletable": false,
    "editable": false,
    "nbgrader": {
     "cell_type": "code",
     "checksum": "915fe806733db7bf5d26fd8b84058784",
     "grade": true,
     "grade_id": "cell-2d52fecafa3bcf81",
     "locked": true,
     "points": 1,
     "schema_version": 3,
     "solution": false,
     "task": false
    }
   },
   "outputs": [],
   "source": [
    "# 1 Mark\n",
    "# Do not try to delete this cell\n",
    "# Run this cell for grading\n",
    "_globals = globals()\n",
    "question3iiic(_globals)"
   ]
  },
  {
   "cell_type": "markdown",
   "metadata": {
    "deletable": false,
    "editable": false,
    "nbgrader": {
     "cell_type": "markdown",
     "checksum": "60f88e24bc7b3c7765f8d0b86a16c504",
     "grade": false,
     "grade_id": "cell-ce1dd34b0f3efef9",
     "locked": true,
     "schema_version": 3,
     "solution": false,
     "task": false
    }
   },
   "source": [
    "## Additional stuff to do if you get time.\n",
    "\n",
    "Try out your three sorting algorithms, plus selection sort, on genuinely large data lists, such as 10000 randomly-generated floats.\n",
    "\n",
    "Investigate `quicksort`, which you can also see an animation of: how does it work, what is its best-case and worst-case performance? Can you implement it?\n",
    "\n",
    "Investigate `shellsort`, for which there isn't an animation (I may manage one next year, but they take a while to design and build).\n",
    "\n",
    "Find out about Python's sort algorithm, `timsort`."
   ]
  },
  {
   "cell_type": "code",
   "execution_count": null,
   "metadata": {},
   "outputs": [],
   "source": []
  }
 ],
 "metadata": {
  "kernelspec": {
   "display_name": "Python 3",
   "language": "python",
   "name": "python3"
  },
  "language_info": {
   "codemirror_mode": {
    "name": "ipython",
    "version": 3
   },
   "file_extension": ".py",
   "mimetype": "text/x-python",
   "name": "python",
   "nbconvert_exporter": "python",
   "pygments_lexer": "ipython3",
   "version": "3.7.4-final"
  }
 },
 "nbformat": 4,
 "nbformat_minor": 5
}