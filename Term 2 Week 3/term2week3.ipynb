{
 "cells": [
  {
   "cell_type": "code",
   "execution_count": 7,
   "metadata": {},
   "outputs": [
    {
     "name": "stdout",
     "output_type": "stream",
     "text": [
      "Autograder loaded successfully!\n",
      "Remember to always restart and run all from the Kernel menu before submitting!\n"
     ]
    }
   ],
   "source": [
    "from autograder_term2week3 import *\n",
    "_globals = globals()"
   ]
  },
  {
   "cell_type": "markdown",
   "metadata": {
    "deletable": false,
    "editable": false,
    "nbgrader": {
     "cell_type": "markdown",
     "checksum": "1c2b48717bae3a4f6701f1721f3d2d2d",
     "grade": false,
     "grade_id": "cell-21cb00ee9730bb45",
     "locked": true,
     "schema_version": 3,
     "solution": false
    }
   },
   "source": [
    "# <center> Introduction to Mathematical Computing </center>\n",
    "### <center>Phil Ramsden, Boumediene Hamzi, Sam Brzezicki</center>\n",
    "\n",
    "# <center> Worksheet 6: More About Functions</center>\n",
    "\n",
    "**NOTE:** When answering a question, remember to remove the `raise NotImplementedError()` line."
   ]
  },
  {
   "cell_type": "markdown",
   "metadata": {
    "deletable": false,
    "editable": false,
    "nbgrader": {
     "cell_type": "markdown",
     "checksum": "8782800561cd003b935d46d7fc2176c3",
     "grade": false,
     "grade_id": "cell-91a340b279326c4c",
     "locked": true,
     "schema_version": 3,
     "solution": false
    }
   },
   "source": [
    "## Question 1\n",
    "\n",
    "For a planet or comet, the <b>mean anomaly</b>, $M$, is the time since the closest approach to the Sun, divided by the length of the year, multiplied by $2\\pi$ (so for example if one-quarter of the year has gone by, $M=\\pi/2$). The <b>eccentric anomaly</b>, $E$, is a quantity we use to locate the planet or comet on its orbit. \n",
    "    \n",
    "<b>Kepler's Equation</b> links the two. If the <b>orbital eccentricity</b> is $e$, then Kepler's Equation is\n",
    "$$M=E-e\\,\\sin E.$$\n",
    "\n",
    "(a) For a comet, the eccentricity $e$ can be quite large. Setting $e=0.95$ and $M=\\pi/2$, estimate the value of $E$ by iterating the function\n",
    "$$M+e\\,\\sin E$$\n",
    "10 times, starting from the value $E=M$, and <em>making sure to use a lambda-expression</em>.\n",
    "\n",
    "The function `nestlist` from the notes will be useful, and is supplied. Call your list of 11 iterates `Elist1`."
   ]
  },
  {
   "cell_type": "code",
   "execution_count": 18,
   "metadata": {
    "deletable": false,
    "nbgrader": {
     "cell_type": "code",
     "checksum": "8d44d02fa7a6d4cb6fb09bcd1420d6fb",
     "grade": false,
     "grade_id": "cell-f80e92e0900ca624",
     "locked": false,
     "schema_version": 3,
     "solution": true
    }
   },
   "outputs": [
    {
     "name": "stdout",
     "output_type": "stream",
     "text": [
      "[1.5707963267948966, 2.5207963267948967, 2.1233952617855856, 2.379401380369645, 2.2267790252052713, 2.3236228059783635, 2.264067672197098, 2.301497907757926, 2.2782673649466303, 2.292803843066782, 2.283752791950874]\n"
     ]
    }
   ],
   "source": [
    "from math import pi, sin, cos\n",
    "\n",
    "def nestlist(f, x0, n):\n",
    "    \"Returns iterates of x = f(x), x0, x1, ... xn\"\n",
    "    \n",
    "    # initialise variable and list\n",
    "    x = x0\n",
    "    xlist = [x0]\n",
    "    \n",
    "    # for loop\n",
    "    for r in range(n):\n",
    "        # update variable\n",
    "        x = f(x)\n",
    "        # append latest value to list\n",
    "        xlist.append(x)\n",
    "    \n",
    "    # return list\n",
    "    return xlist\n",
    "\n",
    "M, e = pi/2, 0.95\n",
    "Elist1 = nestlist(lambda E: M+e*sin(E), M, 10)\n",
    "print(Elist1)"
   ]
  },
  {
   "cell_type": "code",
   "execution_count": 10,
   "metadata": {
    "deletable": false,
    "editable": false,
    "nbgrader": {
     "cell_type": "code",
     "checksum": "ffcc61846c4b42241a418c2a8aeddf6f",
     "grade": true,
     "grade_id": "cell-53518b4701ec028d",
     "locked": true,
     "points": 1,
     "schema_version": 3,
     "solution": false
    }
   },
   "outputs": [
    {
     "name": "stdout",
     "output_type": "stream",
     "text": [
      "Test passed!\n"
     ]
    },
    {
     "data": {
      "text/plain": [
       "1"
      ]
     },
     "execution_count": 10,
     "metadata": {},
     "output_type": "execute_result"
    }
   ],
   "source": [
    "# 1 Mark\n",
    "# Do not try to delete this cell\n",
    "# Run this cell for grading\n",
    "_globals = globals()\n",
    "question1a(_globals)"
   ]
  },
  {
   "cell_type": "markdown",
   "metadata": {
    "deletable": false,
    "editable": false,
    "nbgrader": {
     "cell_type": "markdown",
     "checksum": "dd9a51527fdbabf5a2e868e5794cc459",
     "grade": false,
     "grade_id": "cell-2aeedec375c28434",
     "locked": true,
     "schema_version": 3,
     "solution": false
    }
   },
   "source": [
    "(b) Estimate the mean anomaly again, but this time by instead iterating\n",
    "$$\\frac{M+e\\,\\sin E + E}{2}$$\n",
    "10 times. Use the same eccentricity, $e=0.95$, the same mean anomaly, $M=\\pi/2$ and the same starting value, $E=M$. Once more, use a lambda-expression in your call to `nestlist`. This time, call the list of 11 iterates `Elist2`."
   ]
  },
  {
   "cell_type": "code",
   "execution_count": 17,
   "metadata": {
    "deletable": false,
    "nbgrader": {
     "cell_type": "code",
     "checksum": "f3d0153fa9ed6efd08b79c6d035762a9",
     "grade": false,
     "grade_id": "cell-f976fa3495d05ab2",
     "locked": false,
     "schema_version": 3,
     "solution": true
    }
   },
   "outputs": [
    {
     "name": "stdout",
     "output_type": "stream",
     "text": [
      "[1.5707963267948966, 2.0457963267948966, 2.2307103695659016, 2.2760246901225174, 2.285105692211478, 2.286835289752431, 2.2871613522757923, 2.28722270121186, 2.2872342398078462, 2.287236409852908, 2.2872368179644407]\n"
     ]
    }
   ],
   "source": [
    "M, e = pi/2, 0.95\n",
    "Elist2 = nestlist(lambda E: (M+e*sin(E)+E)/2, M, 10)\n",
    "print(Elist2)"
   ]
  },
  {
   "cell_type": "code",
   "execution_count": 12,
   "metadata": {
    "deletable": false,
    "editable": false,
    "nbgrader": {
     "cell_type": "code",
     "checksum": "757a99c6e2ce3ad56c13e7585323aadc",
     "grade": true,
     "grade_id": "cell-6b2f0edf42d38cab",
     "locked": true,
     "points": 1,
     "schema_version": 3,
     "solution": false,
     "task": false
    }
   },
   "outputs": [
    {
     "name": "stdout",
     "output_type": "stream",
     "text": [
      "Test passed!\n"
     ]
    },
    {
     "data": {
      "text/plain": [
       "1"
      ]
     },
     "execution_count": 12,
     "metadata": {},
     "output_type": "execute_result"
    }
   ],
   "source": [
    "# 1 Mark\n",
    "# Do not try to delete this cell\n",
    "# Run this cell for grading\n",
    "_globals = globals()\n",
    "question1b(_globals)"
   ]
  },
  {
   "cell_type": "markdown",
   "metadata": {
    "deletable": false,
    "editable": false,
    "nbgrader": {
     "cell_type": "markdown",
     "checksum": "52581f7bc5586c0d6379ee0c359a9700",
     "grade": false,
     "grade_id": "cell-06d6a82d4903ba7a",
     "locked": true,
     "schema_version": 3,
     "solution": false
    }
   },
   "source": [
    "(c) Estimate the mean anomaly a third time, but this time by instead iterating\n",
    "$$\\frac{M+e\\,\\sin E - E\\,e\\,\\cos E}{1- e\\,\\cos E}$$\n",
    "10 times. Use the same eccentricity, $e=0.95$, the same mean anomaly, $M=\\pi/2$ and the same starting value, $E=M$. Once more, use a lambda-expression in your call to `nestlist`. This time, call the list of 11 iterates `Elist3`."
   ]
  },
  {
   "cell_type": "code",
   "execution_count": 15,
   "metadata": {
    "deletable": false,
    "nbgrader": {
     "cell_type": "code",
     "checksum": "b121f544961a83ed9a5eeb3fc94a3be8",
     "grade": false,
     "grade_id": "cell-014d16016afd87ab",
     "locked": false,
     "schema_version": 3,
     "solution": true
    }
   },
   "outputs": [
    {
     "name": "stdout",
     "output_type": "stream",
     "text": [
      "[1.5707963267948966, 2.520796326794897, 2.296623574573425, 2.287256163407903, 2.287236912575581, 2.28723691249383, 2.28723691249383, 2.28723691249383, 2.28723691249383, 2.28723691249383, 2.28723691249383]\n"
     ]
    }
   ],
   "source": [
    "M, e = pi/2, 0.95\n",
    "Elist3 = nestlist(lambda E: (M+e*sin(E)-E*e*cos(E))/(1-e*cos(E)), M, 10)\n",
    "print(Elist3)"
   ]
  },
  {
   "cell_type": "code",
   "execution_count": 16,
   "metadata": {
    "deletable": false,
    "editable": false,
    "nbgrader": {
     "cell_type": "code",
     "checksum": "2dca178ec98f1d6975e7a2d9ebfbff68",
     "grade": true,
     "grade_id": "cell-f304b70d40d75159",
     "locked": true,
     "points": 1,
     "schema_version": 3,
     "solution": false,
     "task": false
    }
   },
   "outputs": [
    {
     "name": "stdout",
     "output_type": "stream",
     "text": [
      "Test passed!\n"
     ]
    },
    {
     "data": {
      "text/plain": [
       "1"
      ]
     },
     "execution_count": 16,
     "metadata": {},
     "output_type": "execute_result"
    }
   ],
   "source": [
    "# 1 Mark\n",
    "# Do not try to delete this cell\n",
    "# Run this cell for grading\n",
    "_globals = globals()\n",
    "question1c(_globals)"
   ]
  },
  {
   "cell_type": "markdown",
   "metadata": {
    "deletable": false,
    "editable": false,
    "nbgrader": {
     "cell_type": "markdown",
     "checksum": "b59b44981c9dc6e789f7bc3a610251b0",
     "grade": false,
     "grade_id": "cell-11dfed6f53956a3b",
     "locked": true,
     "schema_version": 3,
     "solution": false
    }
   },
   "source": [
    "(d) Write and test a function called `eccentric_anomaly`, which takes as its arguments floats $M$ and $e$, and a non-negative integer $M$, and returns, as a float, an estimate for the eccentric anomaly associated with mean anomaly $M$ and eccentricity $e$. This should be obtained from Kepler's equation by iterating $n$ times, starting with $E=M$, using the most rapidly converging of the three iterations above. You may assume that $0\\le e < 1$."
   ]
  },
  {
   "cell_type": "code",
   "execution_count": 32,
   "metadata": {
    "deletable": false,
    "nbgrader": {
     "cell_type": "code",
     "checksum": "32a216ac1828028042d784a063710a28",
     "grade": false,
     "grade_id": "cell-0edaadf7edf15359",
     "locked": false,
     "schema_version": 3,
     "solution": true
    }
   },
   "outputs": [],
   "source": [
    "def eccentric_anomaly(M, e, n):\n",
    "    from math import pi, sin, cos\n",
    "    \"\"\"\n",
    "    Returns an estimate for the eccentric anomaly associated\n",
    "    with mean anomaly M, and eccentricity e, obtained by n\n",
    "    iterations of a rapidly converging sequence\n",
    "    \"\"\"\n",
    "    lis = nestlist(lambda E: (M+e*sin(E)-E*e*cos(E))/(1-e*cos(E)), M, n)\n",
    "    return lis[-1]"
   ]
  },
  {
   "cell_type": "code",
   "execution_count": 33,
   "metadata": {
    "deletable": false,
    "editable": false,
    "nbgrader": {
     "cell_type": "code",
     "checksum": "3502360265e36cd53da05df1c642a0cd",
     "grade": true,
     "grade_id": "cell-4c4e58d7e8c3d46e",
     "locked": true,
     "points": 2,
     "schema_version": 3,
     "solution": false
    }
   },
   "outputs": [
    {
     "name": "stdout",
     "output_type": "stream",
     "text": [
      "Testing: typical case\n",
      "eccentric_anomaly(pi/2, 0.95, 5) returned the correct output\n",
      "\n",
      "Testing: edge cases\n",
      "eccentric_anomaly(pi/2, 0.95, 0) returned the correct output\n",
      "eccentric_anomaly(pi/2, 0, 5) returned the correct output\n",
      "\n",
      "Question 1d: 2 out of 2\n"
     ]
    },
    {
     "data": {
      "text/plain": [
       "2"
      ]
     },
     "execution_count": 33,
     "metadata": {},
     "output_type": "execute_result"
    }
   ],
   "source": [
    "# 2 Marks\n",
    "# Do not try to delete this cell\n",
    "# Run this cell for grading\n",
    "_globals = globals()\n",
    "question1d(_globals)"
   ]
  },
  {
   "cell_type": "markdown",
   "metadata": {
    "deletable": false,
    "editable": false,
    "nbgrader": {
     "cell_type": "markdown",
     "checksum": "8661656087bf2ca7f9300d06053f92f5",
     "grade": false,
     "grade_id": "cell-213e319a58ca71f2",
     "locked": true,
     "schema_version": 3,
     "solution": false
    }
   },
   "source": [
    "## Question 2\n",
    "\n",
    "(a) Write a function called <code>integer_digits</code>, which takes as its arguments <code>number</code> (an int greater than or equal to 0) and <code>base</code> (an int greater than 1), and returns, as a list, the digits of <code>number</code> in base <code>base</code>. \n",
    "\n",
    "Test your function: the commands <code>integer_digits(347, 10)</code> and <code>integer_digits(347, 2)</code> should return, respectively, <code>[3, 4, 7]</code> and <code>[1, 0, 1, 0, 1, 1, 0, 1, 1]</code>. If <code>number</code> is equal to zero, an empty list should be returned.\n",
    "\n",
    "Make sure your code also works if you call it using <b>keywords</b>: for example,\n",
    "\n",
    "```python\n",
    "integer_digits(number = 347, base = 10)\n",
    "```"
   ]
  },
  {
   "cell_type": "code",
   "execution_count": 50,
   "metadata": {
    "deletable": false,
    "nbgrader": {
     "cell_type": "code",
     "checksum": "714f88341b8830580bccd9ecc9b4094d",
     "grade": false,
     "grade_id": "cell-6c432b941e2929af",
     "locked": false,
     "schema_version": 3,
     "solution": true
    }
   },
   "outputs": [
    {
     "name": "stdout",
     "output_type": "stream",
     "text": [
      "147 0\n",
      "73 1\n",
      "36 1\n",
      "18 0\n",
      "9 0\n",
      "4 1\n",
      "2 0\n",
      "1 0\n",
      "0 1\n",
      "[0, 1, 1, 0, 0, 1, 0, 0, 1]\n",
      "173 1\n",
      "86 1\n",
      "43 0\n",
      "21 1\n",
      "10 1\n",
      "5 0\n",
      "2 1\n",
      "1 0\n",
      "0 1\n",
      "[1, 1, 0, 1, 1, 0, 1, 0, 1]\n"
     ]
    }
   ],
   "source": [
    "from math import ceil, log\n",
    "def integer_digits(number, base=10):\n",
    "    lis = []\n",
    "    res = number\n",
    "    rem = 0\n",
    "    for num in range(ceil(log(number, base))):\n",
    "        res, rem = divmod(res, base)\n",
    "        print(res, rem)\n",
    "        lis.append(rem)\n",
    "    if base == 10:\n",
    "        lis.reverse()\n",
    "    return lis\n",
    "        \n",
    "        \n",
    "        \n",
    "print(integer_digits(294, 2))\n",
    "print(integer_digits(347, 2))"
   ]
  },
  {
   "cell_type": "code",
   "execution_count": 49,
   "metadata": {
    "deletable": false,
    "editable": false,
    "nbgrader": {
     "cell_type": "code",
     "checksum": "adfdf32ae44397e973db701d84d33f14",
     "grade": true,
     "grade_id": "cell-f96bf7f1f098f4a6",
     "locked": true,
     "points": 0,
     "schema_version": 3,
     "solution": false
    }
   },
   "outputs": [
    {
     "name": "stdout",
     "output_type": "stream",
     "text": [
      "173 1\n",
      "86 1\n",
      "43 0\n",
      "21 1\n",
      "10 1\n",
      "5 0\n",
      "2 1\n",
      "1 0\n",
      "0 1\n"
     ]
    },
    {
     "ename": "AssertionError",
     "evalue": "",
     "output_type": "error",
     "traceback": [
      "\u001b[1;31m---------------------------------------------------------------------------\u001b[0m",
      "\u001b[1;31mAssertionError\u001b[0m                            Traceback (most recent call last)",
      "\u001b[1;32m<ipython-input-49-d54949c6fe29>\u001b[0m in \u001b[0;36m<module>\u001b[1;34m\u001b[0m\n\u001b[0;32m      2\u001b[0m \u001b[1;31m# Unit test\u001b[0m\u001b[1;33m\u001b[0m\u001b[1;33m\u001b[0m\u001b[1;33m\u001b[0m\u001b[0m\n\u001b[0;32m      3\u001b[0m \u001b[1;31m# 0 Marks\u001b[0m\u001b[1;33m\u001b[0m\u001b[1;33m\u001b[0m\u001b[1;33m\u001b[0m\u001b[0m\n\u001b[1;32m----> 4\u001b[1;33m \u001b[1;32massert\u001b[0m\u001b[1;33m(\u001b[0m\u001b[0minteger_digits\u001b[0m\u001b[1;33m(\u001b[0m\u001b[1;36m347\u001b[0m\u001b[1;33m,\u001b[0m\u001b[1;36m2\u001b[0m\u001b[1;33m)\u001b[0m \u001b[1;33m==\u001b[0m \u001b[1;33m[\u001b[0m\u001b[1;36m1\u001b[0m\u001b[1;33m,\u001b[0m \u001b[1;36m0\u001b[0m\u001b[1;33m,\u001b[0m \u001b[1;36m1\u001b[0m\u001b[1;33m,\u001b[0m \u001b[1;36m0\u001b[0m\u001b[1;33m,\u001b[0m \u001b[1;36m1\u001b[0m\u001b[1;33m,\u001b[0m \u001b[1;36m1\u001b[0m\u001b[1;33m,\u001b[0m \u001b[1;36m0\u001b[0m\u001b[1;33m,\u001b[0m \u001b[1;36m1\u001b[0m\u001b[1;33m,\u001b[0m \u001b[1;36m1\u001b[0m\u001b[1;33m]\u001b[0m\u001b[1;33m)\u001b[0m\u001b[1;33m\u001b[0m\u001b[1;33m\u001b[0m\u001b[0m\n\u001b[0m\u001b[0;32m      5\u001b[0m \u001b[0mprint\u001b[0m\u001b[1;33m(\u001b[0m\u001b[1;34m'Unit test passed! Run some of your own tests, making sure to try a variety of cases.'\u001b[0m\u001b[1;33m)\u001b[0m\u001b[1;33m\u001b[0m\u001b[1;33m\u001b[0m\u001b[0m\n",
      "\u001b[1;31mAssertionError\u001b[0m: "
     ]
    }
   ],
   "source": [
    "# Run this test cell to check your code\n",
    "# Unit test\n",
    "# 0 Marks\n",
    "assert(integer_digits(347,2) == [1, 0, 1, 0, 1, 1, 0, 1, 1])\n",
    "print('Unit test passed! Run some of your own tests, making sure to try a variety of cases.')"
   ]
  },
  {
   "cell_type": "code",
   "execution_count": 51,
   "metadata": {
    "deletable": false,
    "editable": false,
    "nbgrader": {
     "cell_type": "code",
     "checksum": "1c1071ccda4a27a0f175960ff49e2355",
     "grade": true,
     "grade_id": "cell-5922f55d871755cd",
     "locked": true,
     "points": 3,
     "schema_version": 3,
     "solution": false
    }
   },
   "outputs": [
    {
     "name": "stdout",
     "output_type": "stream",
     "text": [
      "Testing: arguments by position\n",
      "3 0\n",
      "1 1\n",
      "0 1\n",
      "integer_digits(6,2) returned the incorrect output\n",
      "173 1\n",
      "86 1\n",
      "43 0\n",
      "21 1\n",
      "10 1\n",
      "5 0\n",
      "2 1\n",
      "1 0\n",
      "0 1\n",
      "integer_digits(347,2) returned the incorrect output\n",
      "34 7\n",
      "3 4\n",
      "0 3\n",
      "integer_digits(347,10) returned the correct output\n",
      "\n",
      "Testing: arguments by keyword\n",
      "3 0\n",
      "1 1\n",
      "0 1\n",
      "integer_digits(number=6,base=2) returned the incorrect output\n",
      "173 1\n",
      "86 1\n",
      "43 0\n",
      "21 1\n",
      "10 1\n",
      "5 0\n",
      "2 1\n",
      "1 0\n",
      "0 1\n",
      "integer_digits(base=2,number=347) returned the incorrect output\n",
      "34 7\n",
      "3 4\n",
      "0 3\n",
      "integer_digits(number=347,base=10) returned the correct output\n",
      "\n",
      "Testing: edge cases\n",
      "integer_digits(1,2) returned the incorrect output\n",
      "integer_digits(base=7,number=1) returned the incorrect output\n",
      "integer_digits(0,10) returned the incorrect output\n"
     ]
    },
    {
     "ename": "AssertionError",
     "evalue": "Test failed!!",
     "output_type": "error",
     "traceback": [
      "\u001b[1;31m---------------------------------------------------------------------------\u001b[0m",
      "\u001b[1;31mAssertionError\u001b[0m                            Traceback (most recent call last)",
      "\u001b[1;32m<ipython-input-51-459f665e07b0>\u001b[0m in \u001b[0;36m<module>\u001b[1;34m\u001b[0m\n\u001b[0;32m      3\u001b[0m \u001b[1;31m# Run this cell for grading\u001b[0m\u001b[1;33m\u001b[0m\u001b[1;33m\u001b[0m\u001b[1;33m\u001b[0m\u001b[0m\n\u001b[0;32m      4\u001b[0m \u001b[0m_globals\u001b[0m \u001b[1;33m=\u001b[0m \u001b[0mglobals\u001b[0m\u001b[1;33m(\u001b[0m\u001b[1;33m)\u001b[0m\u001b[1;33m\u001b[0m\u001b[1;33m\u001b[0m\u001b[0m\n\u001b[1;32m----> 5\u001b[1;33m \u001b[0mquestion2a\u001b[0m\u001b[1;33m(\u001b[0m\u001b[0m_globals\u001b[0m\u001b[1;33m)\u001b[0m\u001b[1;33m\u001b[0m\u001b[1;33m\u001b[0m\u001b[0m\n\u001b[0m",
      "\u001b[1;32m~\\OneDrive - Imperial College London\\Introduction to Computation\\Week 6\\autograder_term2week3.py\u001b[0m in \u001b[0;36mquestion2a\u001b[1;34m(_globals)\u001b[0m\n\u001b[0;32m    175\u001b[0m         \u001b[1;32mreturn\u001b[0m \u001b[0mscore\u001b[0m\u001b[1;33m\u001b[0m\u001b[1;33m\u001b[0m\u001b[0m\n\u001b[0;32m    176\u001b[0m     \u001b[1;32melse\u001b[0m\u001b[1;33m:\u001b[0m\u001b[1;33m\u001b[0m\u001b[1;33m\u001b[0m\u001b[0m\n\u001b[1;32m--> 177\u001b[1;33m         \u001b[1;32mraise\u001b[0m \u001b[0mAssertionError\u001b[0m\u001b[1;33m(\u001b[0m\u001b[1;34m'Test failed!!'\u001b[0m\u001b[1;33m)\u001b[0m\u001b[1;33m\u001b[0m\u001b[1;33m\u001b[0m\u001b[0m\n\u001b[0m\u001b[0;32m    178\u001b[0m \u001b[1;33m\u001b[0m\u001b[0m\n\u001b[0;32m    179\u001b[0m \u001b[1;32mdef\u001b[0m \u001b[0mquestion2b\u001b[0m\u001b[1;33m(\u001b[0m\u001b[0m_globals\u001b[0m\u001b[1;33m)\u001b[0m\u001b[1;33m:\u001b[0m\u001b[1;33m\u001b[0m\u001b[1;33m\u001b[0m\u001b[0m\n",
      "\u001b[1;31mAssertionError\u001b[0m: Test failed!!"
     ]
    }
   ],
   "source": [
    "# 3 Marks\n",
    "# Do not try to delete this cell\n",
    "# Run this cell for grading\n",
    "_globals = globals()\n",
    "question2a(_globals)"
   ]
  },
  {
   "cell_type": "markdown",
   "metadata": {
    "deletable": false,
    "editable": false,
    "nbgrader": {
     "cell_type": "markdown",
     "checksum": "1b61cba65854e5d0040d3ecbc8eb72de",
     "grade": false,
     "grade_id": "cell-34d7c7eda0219df8",
     "locked": true,
     "schema_version": 3,
     "solution": false
    }
   },
   "source": [
    "(b) Adapt your <code>integer_digits</code> function so that the default value of <code>base</code> is 10. \n",
    "\n",
    "Test. If you've done it right, \n",
    "\n",
    "```python\n",
    "integer_digits(347, 10)\n",
    "integer_digits(347, 2)\n",
    "integer_digits(number 347, base = 10)\n",
    "```\n",
    "\n",
    "and\n",
    "\n",
    "```python\n",
    "integer_digits(base = 10, number = 347)\n",
    "```\n",
    "should all still work, but in addition, \n",
    "\n",
    "```python\n",
    "integer_digits(347)\n",
    "```\n",
    "\n",
    "and \n",
    "\n",
    "```python\n",
    "integer_digits(number = 347)\n",
    "```\n",
    "\n",
    "should both return <code>[3, 4, 7]</code>."
   ]
  },
  {
   "cell_type": "code",
   "execution_count": null,
   "metadata": {
    "deletable": false,
    "nbgrader": {
     "cell_type": "code",
     "checksum": "12a505ab166e9e99478f71cb84f653f3",
     "grade": false,
     "grade_id": "cell-b2b38ba00344d53d",
     "locked": false,
     "schema_version": 3,
     "solution": true
    }
   },
   "outputs": [],
   "source": [
    "# YOUR CODE HERE\n",
    "raise NotImplementedError()"
   ]
  },
  {
   "cell_type": "code",
   "execution_count": null,
   "metadata": {
    "deletable": false,
    "editable": false,
    "nbgrader": {
     "cell_type": "code",
     "checksum": "e40265dcf4c12436e763a203e7ad0008",
     "grade": true,
     "grade_id": "cell-a503a65776131ce2",
     "locked": true,
     "points": 0,
     "schema_version": 3,
     "solution": false
    }
   },
   "outputs": [],
   "source": [
    "# Run this test cell to check your code\n",
    "# Unit test\n",
    "# 0 Marks\n",
    "assert(integer_digits(347) == [3,4,7])\n",
    "print('Unit test passed! Run some of your own tests, making sure to try a variety of cases.')"
   ]
  },
  {
   "cell_type": "code",
   "execution_count": null,
   "metadata": {
    "deletable": false,
    "editable": false,
    "nbgrader": {
     "cell_type": "code",
     "checksum": "c91ada84ade535a4ef026f82ba6dfcc8",
     "grade": true,
     "grade_id": "cell-3a23b2de29ebc595",
     "locked": true,
     "points": 4,
     "schema_version": 3,
     "solution": false
    }
   },
   "outputs": [],
   "source": [
    "# 4 Marks\n",
    "# Do not try to delete this cell\n",
    "# Run this cell for grading\n",
    "_globals = globals()\n",
    "question2b(_globals)"
   ]
  },
  {
   "cell_type": "markdown",
   "metadata": {
    "deletable": false,
    "editable": false,
    "nbgrader": {
     "cell_type": "markdown",
     "checksum": "1a8d6d5a8a2a011ca3de3c3993677b53",
     "grade": false,
     "grade_id": "cell-7390568762b9bccf",
     "locked": true,
     "schema_version": 3,
     "solution": false
    }
   },
   "source": [
    "(c) Adapt your code further so that <code>base</code> is only accepted as a keyword argument, but <code>number</code> can be positional or keyword.\n",
    "\n",
    "If you've done it right, the following should work:\n",
    "\n",
    "```python\n",
    "integer_digits(347)\n",
    "integer_digits(number = 347)\n",
    "integer_digits(347, base = 2)\n",
    "integer_digits(number = 347, base = 2)\n",
    "integer_digits(base = 2, number = 347)\n",
    "```\n",
    "\n",
    "but \n",
    "\n",
    "```python\n",
    "integer_digits(347, 2)\n",
    "```\n",
    "\n",
    "should no longer work.\n",
    "\n",
    "Can you think of an advantage of this arrangement?"
   ]
  },
  {
   "cell_type": "code",
   "execution_count": null,
   "metadata": {
    "deletable": false,
    "nbgrader": {
     "cell_type": "code",
     "checksum": "fffeb7056d18af0d007ddcd94e0b7dba",
     "grade": false,
     "grade_id": "cell-fda6ae637f58982c",
     "locked": false,
     "schema_version": 3,
     "solution": true
    }
   },
   "outputs": [],
   "source": [
    "# YOUR CODE HERE\n",
    "raise NotImplementedError()"
   ]
  },
  {
   "cell_type": "code",
   "execution_count": null,
   "metadata": {
    "deletable": false,
    "editable": false,
    "nbgrader": {
     "cell_type": "code",
     "checksum": "7e780d54a594e92eefe4fed4dc2a96fd",
     "grade": true,
     "grade_id": "cell-70f2ba6cc7659b0a",
     "locked": true,
     "points": 2,
     "schema_version": 3,
     "solution": false
    }
   },
   "outputs": [],
   "source": [
    "# 2 Marks\n",
    "# Do not try to delete this cell\n",
    "# Run this cell for grading\n",
    "_globals = globals()\n",
    "question2c(_globals)"
   ]
  },
  {
   "cell_type": "markdown",
   "metadata": {
    "deletable": false,
    "editable": false,
    "nbgrader": {
     "cell_type": "markdown",
     "checksum": "25f3266e91b377052c8f11be6def3f4f",
     "grade": false,
     "grade_id": "cell-0a15838b7d4d3f2a",
     "locked": true,
     "schema_version": 3,
     "solution": false
    }
   },
   "source": [
    "## Question 3\n",
    "(a) Write and test a hailstone sequence function which uses the infinite loop\n",
    "\n",
    "```python\n",
    "    while True:\n",
    "```\n",
    "\n",
    "instead of a loop with a terminating condition. This function should terminate at the first occurrence of 1. \n",
    "\n",
    "An <code>hailstone_step</code> function is provided for you below.\n",
    "\n",
    "Note: autograding won't be able to tell whether you've used <code>while True</code>, but please do try."
   ]
  },
  {
   "cell_type": "code",
   "execution_count": 8,
   "metadata": {
    "deletable": false,
    "nbgrader": {
     "cell_type": "code",
     "checksum": "72fd3c06c37ba209e3fd3e59c44ffbad",
     "grade": false,
     "grade_id": "cell-74b97b68f8c335a0",
     "locked": false,
     "schema_version": 3,
     "solution": true
    }
   },
   "outputs": [
    {
     "name": "stdout",
     "output_type": "stream",
     "text": [
      "[11, 34, 17, 52, 26, 13, 40, 20, 10, 5, 16, 8, 4, 2, 1]\n",
      "[1]\n"
     ]
    }
   ],
   "source": [
    "def hailstone_step(a):\n",
    "    if a % 2 == 0:\n",
    "        return a//2\n",
    "    else:\n",
    "        return 3*a+1\n",
    "\n",
    "def hailstone_sequence(a):\n",
    "    if a==1:\n",
    "        return [1]\n",
    "    seq = [a]\n",
    "    num = hailstone_step(a)\n",
    "    seq.append(num)\n",
    "    while True:\n",
    "        if num == 1:\n",
    "            return seq\n",
    "        num = hailstone_step(num)\n",
    "        seq.append(num)\n",
    "        \n",
    "print(hailstone_sequence(11))\n",
    "print(hailstone_sequence(1))"
   ]
  },
  {
   "cell_type": "code",
   "execution_count": 9,
   "metadata": {
    "deletable": false,
    "editable": false,
    "nbgrader": {
     "cell_type": "code",
     "checksum": "921f40d8070f9b094522acfb96b81051",
     "grade": true,
     "grade_id": "cell-1f24b08e62f943b4",
     "locked": true,
     "points": 2,
     "schema_version": 3,
     "solution": false
    }
   },
   "outputs": [
    {
     "name": "stdout",
     "output_type": "stream",
     "text": [
      "Testing: typical case\n",
      "hailstone_sequence(11) returned the correct output\n",
      "\n",
      "Testing: edge case\n",
      "hailstone_sequence(1) returned the correct output\n",
      "\n",
      "Question 3a: 2 out of 2\n"
     ]
    },
    {
     "data": {
      "text/plain": [
       "2"
      ]
     },
     "execution_count": 9,
     "metadata": {},
     "output_type": "execute_result"
    }
   ],
   "source": [
    "# 2 Marks\n",
    "# Do not try to delete this cell\n",
    "# Run this cell for grading\n",
    "_globals = globals()\n",
    "question3a(_globals)"
   ]
  },
  {
   "cell_type": "markdown",
   "metadata": {
    "deletable": false,
    "editable": false,
    "nbgrader": {
     "cell_type": "markdown",
     "checksum": "922f159aa830a95dc661b00cd5da6a6e",
     "grade": false,
     "grade_id": "cell-29c5f4414e004b05",
     "locked": true,
     "schema_version": 3,
     "solution": false
    }
   },
   "source": [
    "(b) Write and test an <code>aliquot_chain</code> function, called <code>aliquot_chain</code> which uses the infinite loop\n",
    "\n",
    "```python\n",
    "    while True:\n",
    "```\n",
    "\n",
    "instead of a loop with a terminating condition. It should terminate at the first occurrence of a number that has already been seen. You may want to reuse your <code>factor_sum</code> function from earlier in the module."
   ]
  },
  {
   "cell_type": "code",
   "execution_count": 29,
   "metadata": {
    "deletable": false,
    "nbgrader": {
     "cell_type": "code",
     "checksum": "b1496c0bbac393665877525f1cb072e9",
     "grade": false,
     "grade_id": "cell-3d6fc02febf86f32",
     "locked": false,
     "schema_version": 3,
     "solution": true
    }
   },
   "outputs": [
    {
     "name": "stdout",
     "output_type": "stream",
     "text": [
      "1 30.0\n",
      "2 15.0\n",
      "3 10.0\n",
      "5 6.0\n",
      "6 5.0\n",
      "1 53.0\n",
      "1 1.0\n"
     ]
    },
    {
     "data": {
      "text/plain": [
       "[30, 53, 1, 0, 0]"
      ]
     },
     "execution_count": 29,
     "metadata": {},
     "output_type": "execute_result"
    }
   ],
   "source": [
    "from math import sqrt, ceil\n",
    "\n",
    "def factor_sum(a):\n",
    "    sum = 0\n",
    "    for r in range(1, ceil(sqrt(a))+1):\n",
    "        if a%r == 0 and r != int(a/r):\n",
    "            sum += r + int(a/r)\n",
    "            print(r, a/r)\n",
    "        elif r == sqrt(a):\n",
    "            sum += r\n",
    "            print(r, a/r)\n",
    "    return sum\n",
    "\n",
    "def aliquot_chain(a):\n",
    "    alist = [a]\n",
    "    while True:\n",
    "        a = factor_sum(a) - a\n",
    "        alist.append(a)\n",
    "        if a in alist[0:-1]:\n",
    "            return alist\n",
    "\n",
    "aliquot_chain(30)"
   ]
  },
  {
   "cell_type": "code",
   "execution_count": 30,
   "metadata": {
    "deletable": false,
    "editable": false,
    "nbgrader": {
     "cell_type": "code",
     "checksum": "ea13637f33186246ff88f2a2f3714a67",
     "grade": true,
     "grade_id": "cell-547043decd0b74d6",
     "locked": true,
     "points": 4,
     "schema_version": 3,
     "solution": false
    }
   },
   "outputs": [
    {
     "name": "stdout",
     "output_type": "stream",
     "text": [
      "Testing: typical case\n",
      "1 282.0\n",
      "2 141.0\n",
      "3 94.0\n",
      "6 47.0\n",
      "1 294.0\n",
      "2 147.0\n",
      "3 98.0\n",
      "6 49.0\n",
      "7 42.0\n",
      "14 21.0\n",
      "1 390.0\n",
      "2 195.0\n",
      "3 130.0\n",
      "5 78.0\n",
      "6 65.0\n",
      "10 39.0\n",
      "13 30.0\n",
      "15 26.0\n",
      "1 618.0\n",
      "2 309.0\n",
      "3 206.0\n",
      "6 103.0\n",
      "1 630.0\n",
      "2 315.0\n",
      "3 210.0\n",
      "5 126.0\n",
      "6 105.0\n",
      "7 90.0\n",
      "9 70.0\n",
      "10 63.0\n",
      "14 45.0\n",
      "15 42.0\n",
      "18 35.0\n",
      "21 30.0\n",
      "1 1242.0\n",
      "2 621.0\n",
      "3 414.0\n",
      "6 207.0\n",
      "9 138.0\n",
      "18 69.0\n",
      "23 54.0\n",
      "27 46.0\n",
      "1 1638.0\n",
      "2 819.0\n",
      "3 546.0\n",
      "6 273.0\n",
      "7 234.0\n",
      "9 182.0\n",
      "13 126.0\n",
      "14 117.0\n",
      "18 91.0\n",
      "21 78.0\n",
      "26 63.0\n",
      "39 42.0\n",
      "1 2730.0\n",
      "2 1365.0\n",
      "3 910.0\n",
      "5 546.0\n",
      "6 455.0\n",
      "7 390.0\n",
      "10 273.0\n",
      "13 210.0\n",
      "14 195.0\n",
      "15 182.0\n",
      "21 130.0\n",
      "26 105.0\n",
      "30 91.0\n",
      "35 78.0\n",
      "39 70.0\n",
      "42 65.0\n",
      "1 5334.0\n",
      "2 2667.0\n",
      "3 1778.0\n",
      "6 889.0\n",
      "7 762.0\n",
      "14 381.0\n",
      "21 254.0\n",
      "42 127.0\n",
      "1 6954.0\n",
      "2 3477.0\n",
      "3 2318.0\n",
      "6 1159.0\n",
      "19 366.0\n",
      "38 183.0\n",
      "57 122.0\n",
      "61 114.0\n",
      "1 7926.0\n",
      "2 3963.0\n",
      "3 2642.0\n",
      "6 1321.0\n",
      "1 7938.0\n",
      "2 3969.0\n",
      "3 2646.0\n",
      "6 1323.0\n",
      "7 1134.0\n",
      "9 882.0\n",
      "14 567.0\n",
      "18 441.0\n",
      "21 378.0\n",
      "27 294.0\n",
      "42 189.0\n",
      "49 162.0\n",
      "54 147.0\n",
      "63 126.0\n",
      "81 98.0\n",
      "1 12753.0\n",
      "3 4251.0\n",
      "9 1417.0\n",
      "13 981.0\n",
      "39 327.0\n",
      "109 117.0\n",
      "1 7267.0\n",
      "13 559.0\n",
      "43 169.0\n",
      "1 785.0\n",
      "5 157.0\n",
      "1 163.0\n",
      "1 1.0\n",
      "aliquot_chain(282) returned the correct output\n",
      "\n",
      "Testing: edge case\n",
      "aliquot_chain(0) returned the correct output\n",
      "\n",
      "Testing: perfect number\n",
      "1 28.0\n",
      "2 14.0\n",
      "4 7.0\n",
      "aliquot_chain(28) returned the correct output\n",
      "\n",
      "Testing: amicable pair\n",
      "1 284.0\n",
      "2 142.0\n",
      "4 71.0\n",
      "1 220.0\n",
      "2 110.0\n",
      "4 55.0\n",
      "5 44.0\n",
      "10 22.0\n",
      "11 20.0\n",
      "aliquot_chain(284) returned the correct output\n",
      "\n",
      "Question 3b: 4 out of 4\n"
     ]
    },
    {
     "data": {
      "text/plain": [
       "4"
      ]
     },
     "execution_count": 30,
     "metadata": {},
     "output_type": "execute_result"
    }
   ],
   "source": [
    "# 4 Marks\n",
    "# Do not try to delete this cell\n",
    "# Run this cell for grading\n",
    "_globals = globals()\n",
    "question3b(_globals)"
   ]
  },
  {
   "cell_type": "markdown",
   "metadata": {
    "deletable": false,
    "editable": false,
    "nbgrader": {
     "cell_type": "markdown",
     "checksum": "b083ee11fefb0411beb995e5b185f87f",
     "grade": false,
     "grade_id": "cell-e630564553dbeb4e",
     "locked": true,
     "schema_version": 3,
     "solution": false
    }
   },
   "source": [
    "(c) The following code is for a function called <code>power_of_two_divisor1</code>, which takes as its argument <code>n</code>, assumed to be a positive integer, and returns the highest value of <code>r</code> such that $2^r$ divides $n$; so for example\n",
    "\n",
    "```python\n",
    "power_of_two_divisor1(24)\n",
    "```\n",
    "\n",
    "returns 3, because $2^3$ divides 24."
   ]
  },
  {
   "cell_type": "code",
   "execution_count": 13,
   "metadata": {
    "deletable": false,
    "editable": false,
    "nbgrader": {
     "cell_type": "code",
     "checksum": "572398a19f2acbd901f225b24ceb1eb9",
     "grade": false,
     "grade_id": "cell-aaba81fd4e87358b",
     "locked": true,
     "schema_version": 3,
     "solution": false
    }
   },
   "outputs": [],
   "source": [
    "def power_of_two_divisor1(n):\n",
    "    # initialize r\n",
    "    r = 0\n",
    "    \n",
    "    # while loop, terminating when n becomes odd\n",
    "    while n % 2 == 0:\n",
    "        # increment n\n",
    "        r += 1\n",
    "        # divide n by 2\n",
    "        n = n // 2\n",
    "    \n",
    "    # return final value of r\n",
    "    return r"
   ]
  },
  {
   "cell_type": "markdown",
   "metadata": {
    "deletable": false,
    "editable": false,
    "nbgrader": {
     "cell_type": "markdown",
     "checksum": "c32d7525c652c438216daf092f960bd2",
     "grade": false,
     "grade_id": "cell-5f73c8ec66d9c796",
     "locked": true,
     "schema_version": 3,
     "solution": false
    }
   },
   "source": [
    "Test this function.\n",
    "\n",
    "Then, write and test a version of it called <code>power_of_two_divisor2</code> that doesn't use a while loop at all, but instead uses the infinite loop\n",
    "\n",
    "```python\n",
    "for r in count()\n",
    "```\n",
    "\n",
    "An outline is provided below."
   ]
  },
  {
   "cell_type": "code",
   "execution_count": 18,
   "metadata": {
    "deletable": false,
    "nbgrader": {
     "cell_type": "code",
     "checksum": "a32333808e890058af01035fb70f1ba5",
     "grade": false,
     "grade_id": "cell-7ca2fe4de8b88de3",
     "locked": false,
     "schema_version": 3,
     "solution": true
    }
   },
   "outputs": [
    {
     "name": "stdout",
     "output_type": "stream",
     "text": [
      "4\n"
     ]
    }
   ],
   "source": [
    "print(power_of_two_divisor1(112))\n",
    "\n",
    "\n",
    "\n",
    "def power_of_two_divisor2(n):\n",
    "    from itertools import count\n",
    "    # infinite for loop\n",
    "    for r in count():\n",
    "        pass\n"
   ]
  },
  {
   "cell_type": "code",
   "execution_count": null,
   "metadata": {
    "deletable": false,
    "editable": false,
    "nbgrader": {
     "cell_type": "code",
     "checksum": "6fe700690a427c06eb702cea3d281061",
     "grade": true,
     "grade_id": "cell-b763bf1de9d34a56",
     "locked": true,
     "points": 4,
     "schema_version": 3,
     "solution": false
    }
   },
   "outputs": [],
   "source": [
    "# 4 Marks\n",
    "# Do not try to delete this cell\n",
    "# Run this cell for grading\n",
    "_globals = globals()\n",
    "question3c(_globals)"
   ]
  },
  {
   "cell_type": "markdown",
   "metadata": {
    "deletable": false,
    "editable": false,
    "nbgrader": {
     "cell_type": "markdown",
     "checksum": "8453b992f76cae8da1eae9909df946b5",
     "grade": false,
     "grade_id": "cell-3b1f99c73f3a9ca3",
     "locked": true,
     "schema_version": 3,
     "solution": false
    }
   },
   "source": [
    "## Question 4\n",
    "\n",
    "(a) Complete the following factorial function, <code>my_factorial</code>, which works using <b>recursion</b>: that is, by calling itself. Test your function."
   ]
  },
  {
   "cell_type": "code",
   "execution_count": 2,
   "metadata": {
    "deletable": false,
    "nbgrader": {
     "cell_type": "code",
     "checksum": "d7e4ad34de5bf3b7a5e9228978b39a05",
     "grade": false,
     "grade_id": "cell-8e24c72afd376c6e",
     "locked": false,
     "schema_version": 3,
     "solution": true
    }
   },
   "outputs": [
    {
     "output_type": "execute_result",
     "data": {
      "text/plain": [
       "3628800"
      ]
     },
     "metadata": {},
     "execution_count": 2
    }
   ],
   "source": [
    "def my_factorial(n):\n",
    "    # base case\n",
    "    if n==1 or n==0:\n",
    "        return 1\n",
    "    # recursion step\n",
    "    else:\n",
    "        return n * my_factorial(n-1)\n",
    "my_factorial(10)"
   ]
  },
  {
   "cell_type": "code",
   "execution_count": null,
   "metadata": {
    "deletable": false,
    "editable": false,
    "nbgrader": {
     "cell_type": "code",
     "checksum": "8cdcd4257267ede141587637640277e5",
     "grade": true,
     "grade_id": "cell-d8620df67910e0fb",
     "locked": true,
     "points": 2,
     "schema_version": 3,
     "solution": false
    }
   },
   "outputs": [],
   "source": [
    "# 2 Marks\n",
    "# Do not try to delete this cell\n",
    "# Run this cell for grading\n",
    "_globals = globals()\n",
    "question4a(_globals)"
   ]
  },
  {
   "cell_type": "markdown",
   "metadata": {
    "deletable": false,
    "editable": false,
    "nbgrader": {
     "cell_type": "markdown",
     "checksum": "8574431100f2c0a68c183d97575e622c",
     "grade": false,
     "grade_id": "cell-5b84cb31d48b0155",
     "locked": true,
     "schema_version": 3,
     "solution": false
    }
   },
   "source": [
    "(b) Write and test a recursive version of your <code>hailstone_sequence</code> function, called <code>hailstone_sequence2</code>, which should work by calling itself instead of by a loop, and which should terminate at the first occurence of $1$. \n",
    "\n",
    "Autograding can't tell whether you've used recursion, but please do try!"
   ]
  },
  {
   "cell_type": "code",
   "execution_count": null,
   "metadata": {
    "deletable": false,
    "nbgrader": {
     "cell_type": "code",
     "checksum": "771239c9a9179f97afb8c81ef46c87b3",
     "grade": false,
     "grade_id": "cell-483675ae72e172f2",
     "locked": false,
     "schema_version": 3,
     "solution": true
    }
   },
   "outputs": [],
   "source": [
    "def hailstone_step(a):\n",
    "    if a % 2 == 0:\n",
    "        return a//2\n",
    "    else:\n",
    "        return 3*a+1\n",
    "\n",
    "def hailstone_sequence2(a):\n",
    "    if a == 1 or a == 0:\n",
    "        return lis.append(1)\n",
    "    else:\n",
    "        return"
   ]
  },
  {
   "cell_type": "code",
   "execution_count": null,
   "metadata": {
    "deletable": false,
    "editable": false,
    "nbgrader": {
     "cell_type": "code",
     "checksum": "83eeb8d9333f5abd03522f8345cd6312",
     "grade": true,
     "grade_id": "cell-5b9dff1d06c22cb3",
     "locked": true,
     "points": 2,
     "schema_version": 3,
     "solution": false
    }
   },
   "outputs": [],
   "source": [
    "# 2 Marks\n",
    "# Do not try to delete this cell\n",
    "# Run this cell for grading\n",
    "_globals = globals()\n",
    "question4b(_globals)"
   ]
  },
  {
   "cell_type": "markdown",
   "metadata": {
    "deletable": false,
    "editable": false,
    "nbgrader": {
     "cell_type": "markdown",
     "checksum": "b66efe973780d8817747f54dd7a3c881",
     "grade": false,
     "grade_id": "cell-90bb23841ea077aa",
     "locked": true,
     "schema_version": 3,
     "solution": false
    }
   },
   "source": [
    "(c) The following code defines an iterative function called <code>fibonacci</code>:"
   ]
  },
  {
   "cell_type": "code",
   "execution_count": null,
   "metadata": {
    "deletable": false,
    "editable": false,
    "nbgrader": {
     "cell_type": "code",
     "checksum": "559d62bad9da8cf454aae4a0c6c4d579",
     "grade": false,
     "grade_id": "cell-5904603ea61036b8",
     "locked": true,
     "schema_version": 3,
     "solution": false
    }
   },
   "outputs": [],
   "source": [
    "def fibonacci(n):\n",
    "    # initialize a and b\n",
    "    a, b = 1, 1\n",
    "    # the cases 1 and 2\n",
    "    if n==1 or n==2:\n",
    "        return 1\n",
    "    else:\n",
    "        # for loop\n",
    "        for r in range(3,n+1):\n",
    "            a, b = b, a + b\n",
    "        return b"
   ]
  },
  {
   "cell_type": "markdown",
   "metadata": {
    "deletable": false,
    "editable": false,
    "nbgrader": {
     "cell_type": "markdown",
     "checksum": "daaf7483e1f406d33653c95f45085119",
     "grade": false,
     "grade_id": "cell-d273461e9ed41671",
     "locked": true,
     "schema_version": 3,
     "solution": false
    }
   },
   "source": [
    "The following is an alternative, recursive version:"
   ]
  },
  {
   "cell_type": "code",
   "execution_count": null,
   "metadata": {
    "deletable": false,
    "editable": false,
    "nbgrader": {
     "cell_type": "code",
     "checksum": "4d71c595ed67a4774f5e3d9273553882",
     "grade": false,
     "grade_id": "cell-7abb16853428d1ad",
     "locked": true,
     "schema_version": 3,
     "solution": false
    }
   },
   "outputs": [],
   "source": [
    "def fibonacci2(n):\n",
    "    # base case\n",
    "    if n==1 or n==2:\n",
    "        return 1\n",
    "    # recursion step\n",
    "    else:\n",
    "        return fibonacci2(n-1) + fibonacci2(n-2)"
   ]
  },
  {
   "cell_type": "markdown",
   "metadata": {
    "deletable": false,
    "editable": false,
    "nbgrader": {
     "cell_type": "markdown",
     "checksum": "b3d8cc5a9d8ffe9834bd52c8d8a40a9b",
     "grade": false,
     "grade_id": "cell-d633358bbde7ec0f",
     "locked": true,
     "schema_version": 3,
     "solution": false
    }
   },
   "source": [
    "Test that these two functions return the same arguments for $n=0, 1, 2, 3, \\dots, 10$.\n",
    "\n",
    "Autograding can't tell whether you've done that or not, but please do!\n",
    "\n",
    "Calculate the 35th Fibonacci number using each of these two functions, then choose one of the following options:\n",
    "\n",
    "1. Both functions give the same output for $n=35$, in about the same time.\n",
    "2. Both functions give the same output for $n=35$, but <code>fibonacci</code> is the more efficient.\n",
    "3. Both functions give the same output for $n=35$, but <code>fibonacci2</code> is the more efficient.\n",
    "4. The two functions give different outputs for $n=35$, suggesting at least one of them has a bug."
   ]
  },
  {
   "cell_type": "code",
   "execution_count": null,
   "metadata": {
    "deletable": false,
    "nbgrader": {
     "cell_type": "code",
     "checksum": "b6a01fcade44fca96fc09045fb0f1e34",
     "grade": false,
     "grade_id": "cell-fe4c35facb2ba712",
     "locked": false,
     "schema_version": 3,
     "solution": true
    }
   },
   "outputs": [],
   "source": [
    "question4c_answer = # (delete, and fill in the value 1, 2, 3 or 4)\n",
    "# YOUR CODE HERE\n",
    "raise NotImplementedError()"
   ]
  },
  {
   "cell_type": "code",
   "execution_count": null,
   "metadata": {
    "deletable": false,
    "editable": false,
    "nbgrader": {
     "cell_type": "code",
     "checksum": "f5c053a5ea9bc1410076d5b48f25c98f",
     "grade": true,
     "grade_id": "cell-1b5a4c306b8824ef",
     "locked": true,
     "points": 1,
     "schema_version": 3,
     "solution": false
    }
   },
   "outputs": [],
   "source": [
    "# 1 Mark\n",
    "assert(question4c_answer == question4_c())\n",
    "print('test case passed!')"
   ]
  },
  {
   "cell_type": "markdown",
   "metadata": {
    "deletable": false,
    "editable": false,
    "nbgrader": {
     "cell_type": "markdown",
     "checksum": "8e098b34cae44b6cb19b37026e29d2a5",
     "grade": false,
     "grade_id": "cell-6dbdc908791ca337",
     "locked": true,
     "schema_version": 3,
     "solution": false
    }
   },
   "source": [
    "(d) Write and test a recursive function called <code>fibonacci_recpair</code> which takes as its argument <code>n</code>, assumed to be an integer greater than 1, and returns, as a 2-tuple, the $(n-1)$th and $n$th Fibonacci numbers. So, for example, \n",
    "\n",
    "```python\n",
    "fibonacci_recpair(10)\n",
    "```\n",
    "\n",
    "should return <code>(34, 55)</code>."
   ]
  },
  {
   "cell_type": "code",
   "execution_count": null,
   "metadata": {
    "deletable": false,
    "nbgrader": {
     "cell_type": "code",
     "checksum": "0173c6ac94aacd6fef9eb84d1be2e945",
     "grade": false,
     "grade_id": "cell-4e6a39f259575fb1",
     "locked": false,
     "schema_version": 3,
     "solution": true
    }
   },
   "outputs": [],
   "source": [
    "def fibonacci_recpair(n):\n",
    "    # YOUR CODE HERE\n",
    "    raise NotImplementedError()"
   ]
  },
  {
   "cell_type": "code",
   "execution_count": null,
   "metadata": {
    "deletable": false,
    "editable": false,
    "nbgrader": {
     "cell_type": "code",
     "checksum": "b0a422aa0b8792ebde0073d59f40653b",
     "grade": true,
     "grade_id": "cell-dc17b901d6f3b7f6",
     "locked": true,
     "points": 2,
     "schema_version": 3,
     "solution": false
    }
   },
   "outputs": [],
   "source": [
    "# 2 Marks\n",
    "# Do not try to delete this cell\n",
    "# Run this cell for grading\n",
    "_globals = globals()\n",
    "question4d(_globals)"
   ]
  },
  {
   "cell_type": "markdown",
   "metadata": {
    "deletable": false,
    "editable": false,
    "nbgrader": {
     "cell_type": "markdown",
     "checksum": "8c296349635ef9184e0d34c0f58c04db",
     "grade": false,
     "grade_id": "cell-56c8ba0b99c10e61",
     "locked": true,
     "schema_version": 3,
     "solution": false
    }
   },
   "source": [
    "(e) Write and test a function called <code>fibonacci3</code> which, by calling <code>fibonacci_recpair</code>, calculates the $n$th Fibonacci number. (This won't work for $n=1$, so you'll need to make a special case of that.)"
   ]
  },
  {
   "cell_type": "code",
   "execution_count": null,
   "metadata": {
    "deletable": false,
    "nbgrader": {
     "cell_type": "code",
     "checksum": "2170c9ab095eee20121d4e1ae013af44",
     "grade": false,
     "grade_id": "cell-2b18346684193918",
     "locked": false,
     "schema_version": 3,
     "solution": true
    }
   },
   "outputs": [],
   "source": [
    "def fibonacci3(n):\n",
    "    # YOUR CODE HERE\n",
    "    raise NotImplementedError()"
   ]
  },
  {
   "cell_type": "code",
   "execution_count": null,
   "metadata": {
    "deletable": false,
    "editable": false,
    "nbgrader": {
     "cell_type": "code",
     "checksum": "e94696e807d9412f8253eee43abe6e72",
     "grade": true,
     "grade_id": "cell-e258528bc9ebe868",
     "locked": true,
     "points": 2,
     "schema_version": 3,
     "solution": false
    }
   },
   "outputs": [],
   "source": [
    "# 2 Marks\n",
    "# Do not try to delete this cell\n",
    "# Run this cell for grading\n",
    "_globals = globals()\n",
    "question4e(_globals)"
   ]
  },
  {
   "cell_type": "markdown",
   "metadata": {
    "deletable": false,
    "editable": false,
    "nbgrader": {
     "cell_type": "markdown",
     "checksum": "357c6093e1efaff4dfe901facbf069f5",
     "grade": false,
     "grade_id": "cell-0eddc693d578232b",
     "locked": true,
     "schema_version": 3,
     "solution": false
    }
   },
   "source": [
    "(f) Test your code from part (e) on $n=35$, and perhaps on higher values, and then choose one of the following:\n",
    "\n",
    "1. Recursion can throw up problems with execution time when a function calls itself more than once; these problems can't generally be solved.\n",
    "2. Recursion can throw up problems with execution time when a function calls itself more than once, but it can be possible to find a clever work-around.\n",
    "3. Recursion doesn't generally throw up problems with execution time at all."
   ]
  },
  {
   "cell_type": "code",
   "execution_count": null,
   "metadata": {
    "deletable": false,
    "nbgrader": {
     "cell_type": "code",
     "checksum": "afe079eabdd81833643ed46217f59520",
     "grade": false,
     "grade_id": "cell-0ce7f31ea1a61fcb",
     "locked": false,
     "schema_version": 3,
     "solution": true
    }
   },
   "outputs": [],
   "source": [
    "question4f_answer = # (delete, and fill in the value 1, 2, 3 or 4)\n",
    "# YOUR CODE HERE\n",
    "raise NotImplementedError()"
   ]
  },
  {
   "cell_type": "code",
   "execution_count": null,
   "metadata": {
    "deletable": false,
    "editable": false,
    "nbgrader": {
     "cell_type": "code",
     "checksum": "8fba2d69a4a04bdc06e844ac70e58e1a",
     "grade": true,
     "grade_id": "cell-b0e5af91705dd496",
     "locked": true,
     "points": 1,
     "schema_version": 3,
     "solution": false
    }
   },
   "outputs": [],
   "source": [
    "# 1 Mark\n",
    "assert(question4f_answer == question4_f())\n",
    "print('test case passed!')"
   ]
  },
  {
   "cell_type": "markdown",
   "metadata": {
    "deletable": false,
    "editable": false,
    "nbgrader": {
     "cell_type": "markdown",
     "checksum": "f9669b25dd8ce2e9fefba0d819c84f65",
     "grade": false,
     "grade_id": "cell-de6bcc529800b449",
     "locked": true,
     "schema_version": 3,
     "solution": false
    }
   },
   "source": [
    "(g) Write and test a recursive implementation of your aliquot chain function, <code>aliquot_chain2</code>, which should terminate at the first occurrence of a number that has occurred before. You're likely to need your <code>factor_sum</code> function again.\n",
    "\n",
    "Note: this is tricky. One thing to consider is writing, as with part (e), a recursive \"inner\" function and an \"outer\" function that simply calls it. In this case, the \"inner\" function would need to take as its argument not a single value but a list of values; in this way, it has access to information concerning what numbers have already occurred."
   ]
  },
  {
   "cell_type": "code",
   "execution_count": null,
   "metadata": {
    "deletable": false,
    "nbgrader": {
     "cell_type": "code",
     "checksum": "4fa441c78f3707fadbd42f8afadab231",
     "grade": false,
     "grade_id": "cell-717274c920b3892e",
     "locked": false,
     "schema_version": 3,
     "solution": true
    }
   },
   "outputs": [],
   "source": [
    "def factor_sum(a):\n",
    "    # YOUR CODE HERE\n",
    "    raise NotImplementedError()\n",
    "\n",
    "def aliquot_chain_inner(list_so_far):\n",
    "    # YOUR CODE HERE\n",
    "    raise NotImplementedError()\n",
    "\n",
    "def aliquot_chain2(a):\n",
    "    # YOUR CODE HERE\n",
    "    raise NotImplementedError()"
   ]
  },
  {
   "cell_type": "code",
   "execution_count": null,
   "metadata": {
    "deletable": false,
    "editable": false,
    "nbgrader": {
     "cell_type": "code",
     "checksum": "43f3c1dbba17498d3e7580c19f2fdfcf",
     "grade": true,
     "grade_id": "cell-58522f35705ee5d9",
     "locked": true,
     "points": 4,
     "schema_version": 3,
     "solution": false
    }
   },
   "outputs": [],
   "source": [
    "# 4 Marks\n",
    "# Do not try to delete this cell\n",
    "# Run this cell for grading\n",
    "_globals = globals()\n",
    "question4g(_globals)"
   ]
  },
  {
   "cell_type": "markdown",
   "metadata": {
    "deletable": false,
    "editable": false,
    "nbgrader": {
     "cell_type": "markdown",
     "checksum": "20cfadf197b8431e7e7d8a432e0ab592",
     "grade": false,
     "grade_id": "cell-15d0b71249bf041d",
     "locked": true,
     "schema_version": 3,
     "solution": false,
     "task": false
    }
   },
   "source": [
    "## Question 5 (Bonus Question)\n",
    "\n",
    "The prime 41, can be written as the sum of six consecutive primes:\n",
    "$$\n",
    "41 = 2 + 3 + 5 + 7 + 11 + 13\n",
    "$$\n",
    "This is the longest sum of consecutive primes that adds to a prime below one-hundred. The longest sum of consecutive primes below one-thousand that adds to a prime contains 21 terms and is equal to 953. Write a function which takes in integer `n` and returns (i) the prime which corresponds to the longest sum of consecutive primes below `n`, and (ii) the length of this sum of primes. From our example above, if `n = 100`, then the function should return `(41, 6)`.\n",
    "\n",
    "**Hint:** Use the sieve developed for primes from the earlier lab. \n",
    "\n",
    "**Note:** The time limits for the varying sized inputs."
   ]
  },
  {
   "cell_type": "code",
   "execution_count": null,
   "metadata": {
    "deletable": false,
    "nbgrader": {
     "cell_type": "code",
     "checksum": "fb28fcb9e7a142c891010ccf4f65e15a",
     "grade": false,
     "grade_id": "cell-746a820ef58a23b4",
     "locked": false,
     "schema_version": 3,
     "solution": true,
     "task": false
    }
   },
   "outputs": [],
   "source": [
    "import numpy as np\n",
    "def prime_chain(n):\n",
    "    \"\"\"\n",
    "    Inputs: \n",
    "        n : the upper bound that the sequence of primes may not exceed - scalar\n",
    "    Output:\n",
    "        max_prime  : the maximum prime corresponding to the longest sum -scalar\n",
    "        max_length : the length of the sequence of primes - scalar\n",
    "    \"\"\"\n",
    "    # YOUR CODE HERE\n",
    "    raise NotImplementedError()"
   ]
  },
  {
   "cell_type": "code",
   "execution_count": null,
   "metadata": {
    "deletable": false,
    "editable": false,
    "nbgrader": {
     "cell_type": "code",
     "checksum": "258697105c50efed5bac08db4a87a271",
     "grade": true,
     "grade_id": "cell-677337a3ba85db4b",
     "locked": true,
     "points": 1,
     "schema_version": 3,
     "solution": false,
     "task": false
    }
   },
   "outputs": [],
   "source": [
    "# Run this test cell to check your code\n",
    "# Do not delete this cell\n",
    "# unit test\n",
    "# 1 Mark\n",
    "\n",
    "assert(41 == prime_chain(100)[0])\n",
    "assert(6 == prime_chain(100)[1])\n",
    "print('All Tests Passed!!!')\n"
   ]
  },
  {
   "cell_type": "code",
   "execution_count": null,
   "metadata": {
    "deletable": false,
    "editable": false,
    "nbgrader": {
     "cell_type": "code",
     "checksum": "835d2ca97e6b1a2e59f2c79c4d89b5f1",
     "grade": true,
     "grade_id": "cell-809ccc45c2022063",
     "locked": true,
     "points": 1,
     "schema_version": 3,
     "solution": false,
     "task": false
    }
   },
   "outputs": [],
   "source": [
    "# Run this test cell to check your code\n",
    "# Do not delete this cell\n",
    "# small input\n",
    "# 1 Marks\n",
    "\n",
    "assert(953 == prime_chain(1000)[0])\n",
    "assert(21 == prime_chain(1000)[1])\n",
    "print('All Tests Passed!!!')"
   ]
  },
  {
   "cell_type": "code",
   "execution_count": null,
   "metadata": {
    "deletable": false,
    "editable": false,
    "nbgrader": {
     "cell_type": "code",
     "checksum": "dcbd8fec876d7a09429248f3e3e1f677",
     "grade": true,
     "grade_id": "cell-18ec81e49e89b4ec",
     "locked": true,
     "points": 1,
     "schema_version": 3,
     "solution": false,
     "task": false
    }
   },
   "outputs": [],
   "source": [
    "# Run this test cell to check your code\n",
    "# Do not delete this cell\n",
    "# medium input\n",
    "#--------------------------\n",
    "# 15 second time limit\n",
    "#--------------------------\n",
    "# 1 Mark\n",
    "import time\n",
    "start      = time.time()\n",
    "time_limit = 15\n",
    "\n",
    "assert((9521, 65) == prime_chain(10000))\n",
    "if abs(time.time() - start) < time_limit:\n",
    "    print('All Tests Passed!!!')\n",
    "else:\n",
    "    raise AssertionError('Program Too Slow!!!')\n",
    " "
   ]
  },
  {
   "cell_type": "code",
   "execution_count": null,
   "metadata": {
    "deletable": false,
    "editable": false,
    "nbgrader": {
     "cell_type": "code",
     "checksum": "def3d1cafee1829fec5e3fe87c627810",
     "grade": true,
     "grade_id": "cell-d3223e3d75e6b1b6",
     "locked": true,
     "points": 1,
     "schema_version": 3,
     "solution": false,
     "task": false
    }
   },
   "outputs": [],
   "source": [
    "# Run this test cell to check your code\n",
    "# Do not delete this cell\n",
    "# large inputs\n",
    "#--------------------------\n",
    "# 30 second time limit\n",
    "#--------------------------\n",
    "# 1 Mark\n",
    "\n",
    "start      = time.time()\n",
    "time_limit = 30\n",
    "\n",
    "assert((92951, 183) == prime_chain(100000))\n",
    "if abs(time.time() - start) < time_limit:\n",
    "    print('All Tests Passed!!!')\n",
    "else:\n",
    "    raise AssertionError('Program Too Slow!!!')\n"
   ]
  },
  {
   "cell_type": "code",
   "execution_count": null,
   "metadata": {
    "deletable": false,
    "editable": false,
    "nbgrader": {
     "cell_type": "code",
     "checksum": "35a4d1ef375aabf6ebf577ebd9c434a6",
     "grade": true,
     "grade_id": "cell-5257d126ea8742c1",
     "locked": true,
     "points": 1,
     "schema_version": 3,
     "solution": false,
     "task": false
    }
   },
   "outputs": [],
   "source": [
    "# Run this test cell to check your code\n",
    "# Do not delete this cell\n",
    "# large inputs\n",
    "#--------------------------\n",
    "# 60 second time limit\n",
    "#--------------------------\n",
    "# 1 Mark\n",
    "\n",
    "start      = time.time()\n",
    "time_limit = 60\n",
    "\n",
    "assert((997651, 543) == prime_chain(1000000))\n",
    "if abs(time.time() - start) < time_limit:\n",
    "    print('All Tests Passed!!!')\n",
    "else:\n",
    "    raise AssertionError('Program Too Slow!!!')\n"
   ]
  },
  {
   "cell_type": "code",
   "execution_count": null,
   "metadata": {
    "deletable": false,
    "editable": false,
    "nbgrader": {
     "cell_type": "code",
     "checksum": "7b1147db852e58cedea55ebbd106154f",
     "grade": true,
     "grade_id": "cell-41ef14b1d6c0a03e",
     "locked": true,
     "points": 1,
     "schema_version": 3,
     "solution": false,
     "task": false
    }
   },
   "outputs": [],
   "source": [
    "# Run this test cell to check your code\n",
    "# Do not delete this cell\n",
    "#--------------------------\n",
    "# 60 second time limit\n",
    "#--------------------------\n",
    "# huge inputs\n",
    "# 2 Marks\n",
    "\n",
    "start      = time.time()\n",
    "time_limit = 60\n",
    "assert((9951191, 1587) == prime_chain(10000000))\n",
    "if abs(time.time() - start) < time_limit:\n",
    "    print('All Tests Passed!!!')\n",
    "else:\n",
    "    raise AssertionError('Program Too Slow!!!')\n"
   ]
  }
 ],
 "metadata": {
  "kernelspec": {
   "display_name": "Python 3",
   "language": "python",
   "name": "python3"
  },
  "language_info": {
   "codemirror_mode": {
    "name": "ipython",
    "version": 3
   },
   "file_extension": ".py",
   "mimetype": "text/x-python",
   "name": "python",
   "nbconvert_exporter": "python",
   "pygments_lexer": "ipython3",
   "version": "3.7.4-final"
  }
 },
 "nbformat": 4,
 "nbformat_minor": 4
}