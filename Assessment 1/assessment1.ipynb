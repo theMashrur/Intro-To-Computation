{
 "cells": [
  {
   "cell_type": "markdown",
   "metadata": {
    "deletable": false,
    "editable": false,
    "nbgrader": {
     "cell_type": "markdown",
     "checksum": "1efd47b0f81798a1ce62100c4d4d2db7",
     "grade": false,
     "grade_id": "cell-7768773a1cfc3752",
     "locked": true,
     "schema_version": 3,
     "solution": false
    }
   },
   "source": [
    "# M40006 In-Course Assessment\n",
    "\n",
    "# 17 December 2020, 9-11 am\n",
    "\n",
    "## Two Hours\n",
    "\n",
    "### Answer all questions, submitting your answers as a single Jupyter notebook."
   ]
  },
  {
   "cell_type": "markdown",
   "metadata": {
    "deletable": false,
    "editable": false,
    "nbgrader": {
     "cell_type": "markdown",
     "checksum": "9dc34281ca83f3f66fe20de57f67d2c3",
     "grade": false,
     "grade_id": "cell-2c3056a6124a5127",
     "locked": true,
     "schema_version": 3,
     "solution": false
    }
   },
   "source": [
    "To carry out this assignment, you may find useful, possibly amongst others:\n",
    "<ul>\n",
    "    <li>the core Python <code>pow</code> function;</li>\n",
    "    <li>the functions <code>asin</code>, <code>sqrt</code>, <code>log</code> and <code>gcd</code> from the <code>math</code> module;</li>\n",
    "    <li>the functions <code>asin</code> and <code>phase</code>, and the constant <code>pi</code>, from the <code>cmath</code> module;</li> \n",
    "    <li>the <code>plot</code> function from the <code>pyplot</code> module of <code>matplotlib</code>.\n",
    "</ul>\n",
    "\n",
    "It is recommended that you simply execute the following code cell:"
   ]
  },
  {
   "cell_type": "code",
   "execution_count": 1,
   "metadata": {
    "deletable": false,
    "editable": false,
    "nbgrader": {
     "cell_type": "code",
     "checksum": "4ee784fa8cdab59ce1aa899af85351ed",
     "grade": false,
     "grade_id": "cell-9d3af8ae7bbcd825",
     "locked": true,
     "schema_version": 3,
     "solution": false
    }
   },
   "outputs": [],
   "source": [
    "%matplotlib inline\n",
    "import math\n",
    "import cmath\n",
    "import matplotlib.pyplot as plt"
   ]
  },
  {
   "cell_type": "markdown",
   "metadata": {
    "deletable": false,
    "editable": false,
    "nbgrader": {
     "cell_type": "markdown",
     "checksum": "80a46ac7f43f98680c8c295debf7a0e0",
     "grade": false,
     "grade_id": "cell-3b0ada2b9a80bba9",
     "locked": true,
     "schema_version": 3,
     "solution": false
    }
   },
   "source": [
    "## Question 1 (20 marks)\n",
    "\n",
    "Using Python, and showing your code, calculate:"
   ]
  },
  {
   "cell_type": "markdown",
   "metadata": {
    "deletable": false,
    "editable": false,
    "nbgrader": {
     "cell_type": "markdown",
     "checksum": "1a4efb80e82e147742e87464c38e34cb",
     "grade": false,
     "grade_id": "cell-e3b16606adbbf31a",
     "locked": true,
     "schema_version": 3,
     "solution": false
    }
   },
   "source": [
    "(a) $353^{252}$ as an int."
   ]
  },
  {
   "cell_type": "code",
   "execution_count": 2,
   "metadata": {
    "deletable": false,
    "nbgrader": {
     "cell_type": "code",
     "checksum": "88b7a20e375c92f8c087140204cd8bfa",
     "grade": true,
     "grade_id": "cell-5283fe9b75424541",
     "locked": false,
     "points": 0,
     "schema_version": 3,
     "solution": true
    }
   },
   "outputs": [
    {
     "data": {
      "text/plain": [
       "1094525181486938052263142385875995566164139501832679376900068233455654406921903870962532424604454429594159713679971618406568610607335329886294606266808234581236569416700169174050218830573965399290349622256963444042806375677313330847263196482366987376839741029981450650736484796555453172217616841558602939565503842312840187433121449930376716718079067173448405066995892546425555015458143915595086481656598252087829452087524234757185572501199344705288850559092582241500612211119400126257644224481149421596461425617100879210182485233999106010391450836595744409444491060316007102888192990020366126940141901475695389750021901922029445861602830336641"
      ]
     },
     "execution_count": 2,
     "metadata": {},
     "output_type": "execute_result"
    }
   ],
   "source": [
    "353**252"
   ]
  },
  {
   "cell_type": "markdown",
   "metadata": {
    "deletable": false,
    "editable": false,
    "nbgrader": {
     "cell_type": "markdown",
     "checksum": "b0d19b0f199c4e90137e4da648e99067",
     "grade": false,
     "grade_id": "cell-ea7543901978045e",
     "locked": true,
     "schema_version": 3,
     "solution": false
    }
   },
   "source": [
    "(b) $35.0^{25.0}$ as an approximate float."
   ]
  },
  {
   "cell_type": "code",
   "execution_count": 3,
   "metadata": {
    "deletable": false,
    "nbgrader": {
     "cell_type": "code",
     "checksum": "ac67a7e2d920e24ff93656514ef91c19",
     "grade": true,
     "grade_id": "cell-f3ce9155e9d81a9c",
     "locked": false,
     "points": 0,
     "schema_version": 3,
     "solution": true
    }
   },
   "outputs": [
    {
     "data": {
      "text/plain": [
       "3.996695934724703e+38"
      ]
     },
     "execution_count": 3,
     "metadata": {},
     "output_type": "execute_result"
    }
   ],
   "source": [
    "35.0**25.0"
   ]
  },
  {
   "cell_type": "markdown",
   "metadata": {
    "deletable": false,
    "editable": false,
    "nbgrader": {
     "cell_type": "markdown",
     "checksum": "fb5a2074eebdd81beaf6755c0ccb698a",
     "grade": false,
     "grade_id": "cell-0260060628275456",
     "locked": true,
     "schema_version": 3,
     "solution": false
    }
   },
   "source": [
    "(c) The residue of $(353 \\times 252)$, modulo $555$."
   ]
  },
  {
   "cell_type": "code",
   "execution_count": 4,
   "metadata": {
    "deletable": false,
    "nbgrader": {
     "cell_type": "code",
     "checksum": "f1504181fdbed35ca490e652ba0573ed",
     "grade": true,
     "grade_id": "cell-a8e5ebbcdddbcd79",
     "locked": false,
     "points": 0,
     "schema_version": 3,
     "solution": true
    }
   },
   "outputs": [
    {
     "data": {
      "text/plain": [
       "156"
      ]
     },
     "execution_count": 4,
     "metadata": {},
     "output_type": "execute_result"
    }
   ],
   "source": [
    "(353*252)%555"
   ]
  },
  {
   "cell_type": "markdown",
   "metadata": {
    "deletable": false,
    "editable": false,
    "nbgrader": {
     "cell_type": "markdown",
     "checksum": "a4adf18083af34970a81cd7bb9b42e3f",
     "grade": false,
     "grade_id": "cell-99fb40e2b475fdc2",
     "locked": true,
     "schema_version": 3,
     "solution": false
    }
   },
   "source": [
    "(d) The residue of $353^{252}$, modulo $555$; there are some marks for doing this fairly efficiently."
   ]
  },
  {
   "cell_type": "code",
   "execution_count": 5,
   "metadata": {
    "deletable": false,
    "nbgrader": {
     "cell_type": "code",
     "checksum": "dce20eb3265cd74767913c49502405cc",
     "grade": true,
     "grade_id": "cell-b9b45249f78a7a43",
     "locked": false,
     "points": 0,
     "schema_version": 3,
     "solution": true
    }
   },
   "outputs": [
    {
     "data": {
      "text/plain": [
       "1"
      ]
     },
     "execution_count": 5,
     "metadata": {},
     "output_type": "execute_result"
    }
   ],
   "source": [
    "pow(353, 252, 555)"
   ]
  },
  {
   "cell_type": "markdown",
   "metadata": {
    "deletable": false,
    "editable": false,
    "nbgrader": {
     "cell_type": "markdown",
     "checksum": "86a204f8f9a2e570d2cfd86e792caae5",
     "grade": false,
     "grade_id": "cell-3744f46358c8eadf",
     "locked": true,
     "schema_version": 3,
     "solution": false
    }
   },
   "source": [
    "(e) $\\arcsin(0.5)$, as a float."
   ]
  },
  {
   "cell_type": "code",
   "execution_count": 6,
   "metadata": {
    "deletable": false,
    "nbgrader": {
     "cell_type": "code",
     "checksum": "450a028b5ee41e83c98d78bf1c87ccbe",
     "grade": true,
     "grade_id": "cell-a108cf0248f58238",
     "locked": false,
     "points": 0,
     "schema_version": 3,
     "solution": true
    }
   },
   "outputs": [
    {
     "data": {
      "text/plain": [
       "0.5235987755982989"
      ]
     },
     "execution_count": 6,
     "metadata": {},
     "output_type": "execute_result"
    }
   ],
   "source": [
    "math.asin(0.5)"
   ]
  },
  {
   "cell_type": "markdown",
   "metadata": {
    "deletable": false,
    "editable": false,
    "nbgrader": {
     "cell_type": "markdown",
     "checksum": "c354f0ec526b562ee131e2971022410f",
     "grade": false,
     "grade_id": "cell-47dd8a847b0bd23f",
     "locked": true,
     "schema_version": 3,
     "solution": false
    }
   },
   "source": [
    "(f) $\\arcsin(2\\,i)$, as a complex."
   ]
  },
  {
   "cell_type": "code",
   "execution_count": 7,
   "metadata": {
    "deletable": false,
    "nbgrader": {
     "cell_type": "code",
     "checksum": "a01324b04f5c16c6167ab161a2d8a45c",
     "grade": true,
     "grade_id": "cell-366a2c0ddd821e0a",
     "locked": false,
     "points": 0,
     "schema_version": 3,
     "solution": true
    }
   },
   "outputs": [
    {
     "data": {
      "text/plain": [
       "1.4436354751788103j"
      ]
     },
     "execution_count": 7,
     "metadata": {},
     "output_type": "execute_result"
    }
   ],
   "source": [
    "cmath.asin(2j)"
   ]
  },
  {
   "cell_type": "markdown",
   "metadata": {
    "deletable": false,
    "editable": false,
    "nbgrader": {
     "cell_type": "markdown",
     "checksum": "fad348ce7a532eca6930e6b2b5926213",
     "grade": false,
     "grade_id": "cell-98993209ca7533c8",
     "locked": true,
     "schema_version": 3,
     "solution": false
    }
   },
   "source": [
    "## Question 2 (20 marks)\n",
    "\n",
    "(a) The following double comprehension creates a list of complex numbers of the form $m + n\\,i$, where $m$ and $n$ are natural numbers:"
   ]
  },
  {
   "cell_type": "code",
   "execution_count": 8,
   "metadata": {
    "deletable": false,
    "editable": false,
    "nbgrader": {
     "cell_type": "code",
     "checksum": "605376e3c4e80eb50d8b3d9e2de5264a",
     "grade": false,
     "grade_id": "cell-215442553308eb1c",
     "locked": true,
     "schema_version": 3,
     "solution": false
    }
   },
   "outputs": [
    {
     "name": "stdout",
     "output_type": "stream",
     "text": [
      "[(2+1j), (3+1j), (3+2j), (4+1j), (4+2j), (4+3j), (5+1j), (5+2j), (5+3j), (5+4j), (6+1j), (6+2j), (6+3j), (6+4j), (6+5j), (7+1j), (7+2j), (7+3j), (7+4j), (7+5j), (7+6j), (8+1j), (8+2j), (8+3j), (8+4j), (8+5j), (8+6j), (8+7j), (9+1j), (9+2j), (9+3j), (9+4j), (9+5j), (9+6j), (9+7j), (9+8j), (10+1j), (10+2j), (10+3j), (10+4j), (10+5j), (10+6j), (10+7j), (10+8j), (10+9j)]\n"
     ]
    }
   ],
   "source": [
    "g_ints = [complex(m,n) for m in range(1,11) for n in range(1,m)]\n",
    "print(g_ints)"
   ]
  },
  {
   "cell_type": "markdown",
   "metadata": {
    "deletable": false,
    "editable": false,
    "nbgrader": {
     "cell_type": "markdown",
     "checksum": "9c1a97a2983d6a527477210503008270",
     "grade": false,
     "grade_id": "cell-21eceb02d1cfe144",
     "locked": true,
     "schema_version": 3,
     "solution": false
    }
   },
   "source": [
    "Describe as carefully as possible the location of these points in the complex plane."
   ]
  },
  {
   "cell_type": "markdown",
   "metadata": {
    "deletable": false,
    "nbgrader": {
     "cell_type": "markdown",
     "checksum": "f0f74792d16e6210e20cc724eeeac8b1",
     "grade": true,
     "grade_id": "cell-7b3e4bd6a257bf9c",
     "locked": false,
     "points": 0,
     "schema_version": 3,
     "solution": true
    }
   },
   "source": [
    "These points create a row of columns, from the real values 2 to 10, that are increasing in height. Each of these \"columns\" has n-1 points spaced out by units of 1(where n is the real integer value corresponding to the column). Ie for the column corresponding to 9 you have 8 points where you add i, 2i, 3i, etc. to get complex numbers all the way up to 9+8i."
   ]
  },
  {
   "cell_type": "markdown",
   "metadata": {
    "deletable": false,
    "editable": false,
    "nbgrader": {
     "cell_type": "markdown",
     "checksum": "3d2c84baf50c65b74286dbe63dc963b2",
     "grade": false,
     "grade_id": "cell-d5c6bc7408a302c7",
     "locked": true,
     "schema_version": 3,
     "solution": false
    }
   },
   "source": [
    "(b) The following filter comprehension selects only those members of `g_ints` whose argument (called \"phase\" in `cmath`) is greater than $\\pi/8$:"
   ]
  },
  {
   "cell_type": "code",
   "execution_count": 9,
   "metadata": {
    "deletable": false,
    "editable": false,
    "nbgrader": {
     "cell_type": "code",
     "checksum": "ed6e89cd1a71ea1b6ab3fcc2ac8a0426",
     "grade": false,
     "grade_id": "cell-3b52f58818ba83c5",
     "locked": true,
     "schema_version": 3,
     "solution": false
    }
   },
   "outputs": [
    {
     "name": "stdout",
     "output_type": "stream",
     "text": [
      "[(2+1j), (3+2j), (4+2j), (4+3j), (5+3j), (5+4j), (6+3j), (6+4j), (6+5j), (7+3j), (7+4j), (7+5j), (7+6j), (8+4j), (8+5j), (8+6j), (8+7j), (9+4j), (9+5j), (9+6j), (9+7j), (9+8j), (10+5j), (10+6j), (10+7j), (10+8j), (10+9j)]\n"
     ]
    }
   ],
   "source": [
    "g_ints2 = [z for z in g_ints if cmath.phase(z) > cmath.pi/8]\n",
    "print(g_ints2)"
   ]
  },
  {
   "cell_type": "markdown",
   "metadata": {
    "deletable": false,
    "editable": false,
    "nbgrader": {
     "cell_type": "markdown",
     "checksum": "c926d71591ba619d0d37aa46db838ab1",
     "grade": false,
     "grade_id": "cell-aa14c7ff170338cd",
     "locked": true,
     "schema_version": 3,
     "solution": false
    }
   },
   "source": [
    "Create and print a list called `g_ints3` consisting of all those elements of `g_ints2` whose absolute value is less than or equal to 10."
   ]
  },
  {
   "cell_type": "code",
   "execution_count": 10,
   "metadata": {
    "deletable": false,
    "nbgrader": {
     "cell_type": "code",
     "checksum": "bd924f036ccc516277da779c81154935",
     "grade": true,
     "grade_id": "cell-38e4c8fde77077e2",
     "locked": false,
     "points": 0,
     "schema_version": 3,
     "solution": true
    }
   },
   "outputs": [
    {
     "name": "stdout",
     "output_type": "stream",
     "text": [
      "[(2+1j), (3+2j), (4+2j), (4+3j), (5+3j), (5+4j), (6+3j), (6+4j), (6+5j), (7+3j), (7+4j), (7+5j), (7+6j), (8+4j), (8+5j), (8+6j), (9+4j)]\n"
     ]
    }
   ],
   "source": [
    "g_ints3 = [z for z in g_ints2 if abs(z) <= 10]\n",
    "print(g_ints3)"
   ]
  },
  {
   "cell_type": "markdown",
   "metadata": {
    "deletable": false,
    "editable": false,
    "nbgrader": {
     "cell_type": "markdown",
     "checksum": "0b2b7384658041cbb509943d4887090c",
     "grade": false,
     "grade_id": "cell-548ab2322bc3b6ac",
     "locked": true,
     "schema_version": 3,
     "solution": false
    }
   },
   "source": [
    "(c) Create and print a list called `squares` consisting of the squares of all the complex numbers in `g_ints3`."
   ]
  },
  {
   "cell_type": "code",
   "execution_count": 11,
   "metadata": {
    "deletable": false,
    "nbgrader": {
     "cell_type": "code",
     "checksum": "33d5e534442e7e520539098a884b5501",
     "grade": true,
     "grade_id": "cell-0609713398a83702",
     "locked": false,
     "points": 0,
     "schema_version": 3,
     "solution": true
    }
   },
   "outputs": [
    {
     "name": "stdout",
     "output_type": "stream",
     "text": [
      "[(3+4j), (5+12j), (12+16j), (7+24j), (16+30j), (9+40j), (27+36j), (20+48j), (11+60j), (40+42j), (33+56j), (24+70j), (13+84j), (48+64j), (39+80j), (28+96j), (65+72j)]\n"
     ]
    }
   ],
   "source": [
    "squares = [z**2 for z in g_ints3]\n",
    "print(squares)"
   ]
  },
  {
   "cell_type": "markdown",
   "metadata": {
    "deletable": false,
    "editable": false,
    "nbgrader": {
     "cell_type": "markdown",
     "checksum": "054c1b26f4c6a1cfa86c2a60b4927ba5",
     "grade": false,
     "grade_id": "cell-43a347e1f79d0922",
     "locked": true,
     "schema_version": 3,
     "solution": false
    }
   },
   "source": [
    "(d) Create and print a list called `triples` where each element is a tuple of length 3, consisting of the real part, imaginary part and absolute value of each of the elements of `squares`, <em>as ints</em>. Recall that the real and imaginary parts of, say, $3+4\\,i$ are given by\n",
    "```python\n",
    "(3+4j).real, (3+4j).imag\n",
    "```\n"
   ]
  },
  {
   "cell_type": "code",
   "execution_count": 12,
   "metadata": {
    "deletable": false,
    "nbgrader": {
     "cell_type": "code",
     "checksum": "85ac3c64b7d3d69f44881b818e38d27b",
     "grade": true,
     "grade_id": "cell-ab8190a7485c6be4",
     "locked": false,
     "points": 0,
     "schema_version": 3,
     "solution": true
    }
   },
   "outputs": [
    {
     "name": "stdout",
     "output_type": "stream",
     "text": [
      "[(3, 4, 5), (5, 12, 13), (12, 16, 20), (7, 24, 25), (16, 30, 34), (9, 40, 41), (27, 36, 45), (20, 48, 52), (11, 60, 61), (40, 42, 58), (33, 56, 65), (24, 70, 74), (13, 84, 85), (48, 64, 80), (39, 80, 89), (28, 96, 100), (65, 72, 97)]\n"
     ]
    }
   ],
   "source": [
    "triples = [(int(z.real), int(z.imag), int(abs(z))) for z in squares]\n",
    "print(triples)"
   ]
  },
  {
   "cell_type": "markdown",
   "metadata": {
    "deletable": false,
    "editable": false,
    "nbgrader": {
     "cell_type": "markdown",
     "checksum": "a5abf6be88433fe77e4ca26b5d46265b",
     "grade": false,
     "grade_id": "cell-516e4e7cd1d32430",
     "locked": true,
     "schema_version": 3,
     "solution": false
    }
   },
   "source": [
    "(e) Write some Python code to show that each of the elements of `triples`, your list from part (d), is a Pythagorean triple: that is, that each tuple `(a, b, c)` satisfies $a^2+b^2=c^2$."
   ]
  },
  {
   "cell_type": "code",
   "execution_count": 13,
   "metadata": {
    "deletable": false,
    "nbgrader": {
     "cell_type": "code",
     "checksum": "5d8c967ee3b4d7b1aa9acafe740dedbd",
     "grade": true,
     "grade_id": "cell-a32cb5574fa2690a",
     "locked": false,
     "points": 0,
     "schema_version": 3,
     "solution": true
    }
   },
   "outputs": [
    {
     "name": "stdout",
     "output_type": "stream",
     "text": [
      "3, 4, 5 is a Pythagorean Triple\n",
      "5, 12, 13 is a Pythagorean Triple\n",
      "12, 16, 20 is a Pythagorean Triple\n",
      "7, 24, 25 is a Pythagorean Triple\n",
      "16, 30, 34 is a Pythagorean Triple\n",
      "9, 40, 41 is a Pythagorean Triple\n",
      "27, 36, 45 is a Pythagorean Triple\n",
      "20, 48, 52 is a Pythagorean Triple\n",
      "11, 60, 61 is a Pythagorean Triple\n",
      "40, 42, 58 is a Pythagorean Triple\n",
      "33, 56, 65 is a Pythagorean Triple\n",
      "24, 70, 74 is a Pythagorean Triple\n",
      "13, 84, 85 is a Pythagorean Triple\n",
      "48, 64, 80 is a Pythagorean Triple\n",
      "39, 80, 89 is a Pythagorean Triple\n",
      "28, 96, 100 is a Pythagorean Triple\n",
      "65, 72, 97 is a Pythagorean Triple\n",
      "All items in triples are pythagorean triplets\n"
     ]
    }
   ],
   "source": [
    "count = 0\n",
    "for item in triples:\n",
    "    if item[0]**2 + item[1]**2 == item[2]**2:\n",
    "        print(\"{0}, {1}, {2} is a Pythagorean Triple\".format(item[0], item[1], item[2]))\n",
    "        count += 1\n",
    "\n",
    "if len(triples) == count:\n",
    "    print(\"All items in triples are pythagorean triplets\")"
   ]
  },
  {
   "cell_type": "markdown",
   "metadata": {
    "deletable": false,
    "editable": false,
    "nbgrader": {
     "cell_type": "markdown",
     "checksum": "a619db06d4b4535cd1bdefd931fc78f2",
     "grade": false,
     "grade_id": "cell-5fa7c9b5af4004aa",
     "locked": true,
     "schema_version": 3,
     "solution": false
    }
   },
   "source": [
    "## Question 3 (35 marks)\n",
    "\n",
    "The integer $23005543287841$ is the product of two distinct primes. The challenge is to find these primes.\n",
    "\n",
    "<b>Algorithm 1</b> works as follows.\n",
    "\n",
    "For values of $r$ greater than or equal to $2$, and less than or equal to the square root of $23005543287841$, check whether $r$ is a factor of $23005543287841$. If it is, print this value of $r$ and stop; otherwise continue the loop.\n",
    "\n",
    "(a) Here is some code that implements algorithm 1, using a `for` loop. By executing it, find one of the prime factors of $23005543287841$."
   ]
  },
  {
   "cell_type": "code",
   "execution_count": 14,
   "metadata": {
    "deletable": false,
    "editable": false,
    "nbgrader": {
     "cell_type": "code",
     "checksum": "ffa3c65a13407ddf6dc6bebf10d918fc",
     "grade": false,
     "grade_id": "cell-ba36e7e7dc40c251",
     "locked": true,
     "schema_version": 3,
     "solution": false
    }
   },
   "outputs": [
    {
     "name": "stdout",
     "output_type": "stream",
     "text": [
      "4483273\n"
     ]
    }
   ],
   "source": [
    "n = 23005543287841\n",
    "for r in range(2,int(math.sqrt(n))+1):\n",
    "    if n % r == 0:\n",
    "        print(r)\n",
    "        break"
   ]
  },
  {
   "cell_type": "markdown",
   "metadata": {
    "deletable": false,
    "editable": false,
    "nbgrader": {
     "cell_type": "markdown",
     "checksum": "90cfd5b51a6c6fab24a030d54dfc0a01",
     "grade": false,
     "grade_id": "cell-716c6019954e023f",
     "locked": true,
     "schema_version": 3,
     "solution": false
    }
   },
   "source": [
    "(b) Use Python to check that the number you've found really is a factor of $23005543287841$. Explain briefly how you know it must be prime."
   ]
  },
  {
   "cell_type": "code",
   "execution_count": 15,
   "metadata": {
    "deletable": false,
    "nbgrader": {
     "cell_type": "code",
     "checksum": "f4978125708394629fc02c869971556f",
     "grade": true,
     "grade_id": "cell-bca7db84f9713c17",
     "locked": false,
     "points": 0,
     "schema_version": 3,
     "solution": true
    }
   },
   "outputs": [
    {
     "name": "stdout",
     "output_type": "stream",
     "text": [
      "Verified factor!\n"
     ]
    }
   ],
   "source": [
    "if n%r == 0:\n",
    "    print(\"Verified factor!\")"
   ]
  },
  {
   "cell_type": "markdown",
   "metadata": {
    "deletable": false,
    "nbgrader": {
     "cell_type": "markdown",
     "checksum": "2dfb72b1bce13eca8ad024eb9509a31d",
     "grade": true,
     "grade_id": "cell-9b74add230df9fe4",
     "locked": false,
     "points": 0,
     "schema_version": 3,
     "solution": true
    }
   },
   "source": [
    "The number 23005543287841 is given to us as the product of two distinct primes. This means that these two primes are the only factors of the number, as, for there to be more, those two factors cannot be prime.\n",
    "The number found with algorithm 1 has to be prime, as it is a factor of 23005543287841, and therefore must be prime. \n"
   ]
  },
  {
   "cell_type": "markdown",
   "metadata": {
    "deletable": false,
    "editable": false,
    "nbgrader": {
     "cell_type": "markdown",
     "checksum": "7373e9095668ab4a22f9d3326c27ae3b",
     "grade": false,
     "grade_id": "cell-c0677e74909bc0ba",
     "locked": true,
     "schema_version": 3,
     "solution": false
    }
   },
   "source": [
    "(c) Find, as an int, the other prime factor of $23005543287841$."
   ]
  },
  {
   "cell_type": "code",
   "execution_count": 16,
   "metadata": {
    "deletable": false,
    "nbgrader": {
     "cell_type": "code",
     "checksum": "3d39160337b61b1eed153c935950829f",
     "grade": true,
     "grade_id": "cell-887fefb6c615feb0",
     "locked": false,
     "points": 0,
     "schema_version": 3,
     "solution": true
    }
   },
   "outputs": [
    {
     "data": {
      "text/plain": [
       "5131417"
      ]
     },
     "execution_count": 16,
     "metadata": {},
     "output_type": "execute_result"
    }
   ],
   "source": [
    "int(n/r)"
   ]
  },
  {
   "cell_type": "markdown",
   "metadata": {
    "deletable": false,
    "editable": false,
    "nbgrader": {
     "cell_type": "markdown",
     "checksum": "d2d59f7171af02ffd1b10cc85ae13153",
     "grade": false,
     "grade_id": "cell-e4d02f57b7eea586",
     "locked": true,
     "schema_version": 3,
     "solution": false
    }
   },
   "source": [
    "(d) Explain briefly why it is necessary to iterate only as far as, at most, the square root of $23005543287841$. How many iterations were in fact needed?"
   ]
  },
  {
   "cell_type": "markdown",
   "metadata": {
    "deletable": false,
    "nbgrader": {
     "cell_type": "markdown",
     "checksum": "438d1a8daaed6d1b8bca2f0373cb138c",
     "grade": true,
     "grade_id": "cell-dd6959ed91fa58d0",
     "locked": false,
     "points": 0,
     "schema_version": 3,
     "solution": true
    }
   },
   "source": [
    "YOUR ANSWER HERE"
   ]
  },
  {
   "cell_type": "markdown",
   "metadata": {
    "deletable": false,
    "editable": false,
    "nbgrader": {
     "cell_type": "markdown",
     "checksum": "99ad8a501c0877f3a2b7acc3184158fa",
     "grade": false,
     "grade_id": "cell-33b94fc5ece612be",
     "locked": true,
     "schema_version": 3,
     "solution": false
    }
   },
   "source": [
    "<b>Algorithm 2</b> actually isn't guaranteed to work in all cases, but it often works very quickly. It's defined like this.\n",
    "\n",
    "Define the function $g$ as follows: $g(x)$ is the residue of $x^2+1$, reduced modulo $23005543287841$.\n",
    "\n",
    "Set $x$ and $y$ equal to $2$, and set $d=1$.\n",
    "\n",
    "While $d$ is less than $23005543287841$, repeat the following steps:\n",
    "<ul>\n",
    "    <li>Set $x$ equal to $g(x)$.</li>\n",
    "    <li>Set $y$ equal to $g(g(y))$.</li>\n",
    "    <li>Set $d$ equal to $\\gcd(|x-y|,23005543287841)$.</li>\n",
    "    <li>If $1<d<23005543287841$, then $d$ is a suitable factor of $23005543287841$; print it and stop. Otherwise, continue the loop.</li>\n",
    "</ul>\n",
    "\n",
    "(f) Write some code that implements algorithm 2, and confirm that it finds one of the prime factors of $23005543287841$."
   ]
  },
  {
   "cell_type": "code",
   "execution_count": 17,
   "metadata": {
    "deletable": false,
    "nbgrader": {
     "cell_type": "code",
     "checksum": "3c5d157eb755b4320f82ed3ac9d3ec84",
     "grade": true,
     "grade_id": "cell-c2c00c5739691f81",
     "locked": false,
     "points": 0,
     "schema_version": 3,
     "solution": true
    }
   },
   "outputs": [
    {
     "name": "stdout",
     "output_type": "stream",
     "text": [
      "5131417\n",
      "Verified factor\n"
     ]
    }
   ],
   "source": [
    "g = lambda num: ((num**2)+1)%23005543287841\n",
    "\n",
    "x, y, d = 2, 2, 1\n",
    "while d < 23005543287841:\n",
    "    x = g(x)\n",
    "    y = g(g(y))\n",
    "    d = math.gcd(abs(x-y), 23005543287841)\n",
    "    if 1 < d and d < 23005543287841:\n",
    "        print(d)\n",
    "        break\n",
    "        \n",
    "if d == r or d == int(n/r):\n",
    "    print(\"Verified factor\")"
   ]
  },
  {
   "cell_type": "markdown",
   "metadata": {
    "deletable": false,
    "editable": false,
    "nbgrader": {
     "cell_type": "markdown",
     "checksum": "4b0d80889e7aceda705cba6d8d8a5064",
     "grade": false,
     "grade_id": "cell-dd1fbf14a2e44967",
     "locked": true,
     "schema_version": 3,
     "solution": false
    }
   },
   "source": [
    "(g) Amend your code in order to calculate the number of iterations necessary for finding a suitable factor of $23005543287841$ using algorithm 2."
   ]
  },
  {
   "cell_type": "code",
   "execution_count": 18,
   "metadata": {
    "deletable": false,
    "nbgrader": {
     "cell_type": "code",
     "checksum": "c14114ba55aa78d49ca8a84416efcc88",
     "grade": true,
     "grade_id": "cell-14f4c40ba0034d46",
     "locked": false,
     "points": 0,
     "schema_version": 3,
     "solution": true
    }
   },
   "outputs": [
    {
     "name": "stdout",
     "output_type": "stream",
     "text": [
      "5131417\n",
      "Verified factor\n",
      "2100\n"
     ]
    }
   ],
   "source": [
    "x, y, d = 2, 2, 1\n",
    "count = 0\n",
    "while d < 23005543287841:\n",
    "    x = g(x)\n",
    "    y = g(g(y))\n",
    "    d = math.gcd(abs(x-y), 23005543287841)\n",
    "    count += 1\n",
    "    if 1 < d and d < 23005543287841:\n",
    "        print(d)\n",
    "        break\n",
    "        \n",
    "if d == r or d == int(n/r):\n",
    "    print(\"Verified factor\")\n",
    "    \n",
    "print(count)"
   ]
  },
  {
   "cell_type": "markdown",
   "metadata": {
    "deletable": false,
    "editable": false,
    "nbgrader": {
     "cell_type": "markdown",
     "checksum": "22b3852abddc74494336e921627188bd",
     "grade": false,
     "grade_id": "cell-a8d5f8fe140b77a9",
     "locked": true,
     "schema_version": 3,
     "solution": false
    }
   },
   "source": [
    "## Question 4 (25 marks)\n",
    "\n",
    "(a) Write and test a Python function called `divisors` for calculating two proper divisors of a composite positive integer. Ideally, it should use algorithm 2, but if you weren't able to get that to work, use algorithm 1.\n",
    "\n",
    "Your function should take as its sole argument `n`, which may be assumed to be an int greater than 5, and to be composite. It should return two ints greater than 1, whose product must be `n`; it is not necessary that both be prime.\n",
    "\n",
    "Note that the divisors must be <em>returned</em>, and not merely <em>printed</em>.\n",
    "\n",
    "For full marks, your code should be suitably commented, and your function should include a one-line docstring.\n",
    "\n",
    "Make sure that you test on a variety of cases. (If you've used algorithm 2, you may find it occasionally fails; there are ways to deal with that, but for today, let's just put up with it! This failure should very much be the exception, if it occurs at all.)\n",
    "\n",
    "Make sure, too, that you show evidence of this testing."
   ]
  },
  {
   "cell_type": "code",
   "execution_count": 19,
   "metadata": {
    "deletable": false,
    "nbgrader": {
     "cell_type": "code",
     "checksum": "395b69a564cac990af2abcaf17873ec2",
     "grade": true,
     "grade_id": "cell-9e85fbeef9bcbcd8",
     "locked": false,
     "points": 0,
     "schema_version": 3,
     "solution": true
    }
   },
   "outputs": [
    {
     "name": "stdout",
     "output_type": "stream",
     "text": [
      "(2, 5)\n",
      "(3, 5)\n",
      "(3, 40)\n",
      "(3, 240)\n"
     ]
    }
   ],
   "source": [
    "def is_prime(n):\n",
    "    for i in range(2, math.ceil(math.sqrt(n))+1):\n",
    "        if n%i == 0:\n",
    "            return False\n",
    "    return True\n",
    "\n",
    "\n",
    "\n",
    "def divisors(n):\n",
    "    \"This function, using algorithm 2, returns two factors of the argument n\"\n",
    "    \"However if the argument is prime, simply n and 1 are returned\"\n",
    "    if is_prime(n): #uses function defined above to check whether number is prime\n",
    "        print(\"Your number is prime\")\n",
    "        return n, 1\n",
    "    x, y, d = 2, 2, 1      #initialise variables for the loop\n",
    "    g = lambda num: ((num**2)+1)%n     #create our g(x) function to be used in the algorithm\n",
    "    while d < n: #set condition for the while loop\n",
    "        x = g(x) # set x for the current iteration using g(x)\n",
    "        y = g(g(y)) # set y for the current iteration appplying g(x) twice to it\n",
    "        d = math.gcd(abs(x-y), n)  #find gcd of the absolute difference of x and y, and argument n\n",
    "        if 1 < d and d < n: #check whether this gcd is non-trivial (ie not equal to 1)\n",
    "            break #exit loop as we have found factor\n",
    "    return d, int(n/d)\n",
    "\n",
    "print(divisors(10))\n",
    "print(divisors(15))\n",
    "print(divisors(120))\n",
    "print(divisors(720))"
   ]
  },
  {
   "cell_type": "markdown",
   "metadata": {
    "deletable": false,
    "editable": false,
    "nbgrader": {
     "cell_type": "markdown",
     "checksum": "a0d5af798c59a43e47ba2c60554ffc00",
     "grade": false,
     "grade_id": "cell-ec2d23abb3035e50",
     "locked": true,
     "schema_version": 3,
     "solution": false
    }
   },
   "source": [
    "(b) How does your function deal with prime `n`? If necessary, amend your code so that it <b>prints</b> a string telling the user their `n` seems to be prime, and <b>returns</b> the divisors `n` and `1`. Test, showing evidence of this testing."
   ]
  },
  {
   "cell_type": "code",
   "execution_count": 20,
   "metadata": {
    "deletable": false,
    "nbgrader": {
     "cell_type": "code",
     "checksum": "265d6d83925c7ab0cdd7e14f60aaba46",
     "grade": true,
     "grade_id": "cell-32ed6d6c66de5ec8",
     "locked": false,
     "points": 0,
     "schema_version": 3,
     "solution": true
    }
   },
   "outputs": [
    {
     "name": "stdout",
     "output_type": "stream",
     "text": [
      "Your number is prime\n",
      "(11, 1)\n",
      "Your number is prime\n",
      "(31, 1)\n",
      "Your number is prime\n",
      "(5, 1)\n"
     ]
    }
   ],
   "source": [
    "# my function, as it orgininally was, was such that passing a prime to it made it loop infinitely\n",
    "\n",
    "print(divisors(11))\n",
    "print(divisors(31))\n",
    "print(divisors(5))"
   ]
  },
  {
   "cell_type": "markdown",
   "metadata": {
    "deletable": false,
    "editable": false,
    "nbgrader": {
     "cell_type": "markdown",
     "checksum": "f98bdcabf6388e2c0c1303d9004b6d5b",
     "grade": false,
     "grade_id": "cell-30883a41b40ac7f0",
     "locked": true,
     "schema_version": 3,
     "solution": false
    }
   },
   "source": [
    "(c) By amending your `divisors` function in a suitable way (and perhaps giving it a new name like `divisors_iteration_count`), calculate the number of iterations necessary to factorise each of the following integers, of increasing size.\n",
    "\n",
    "If your function uses algorithm 1, use the integers $25096579$, $1634498947$, $176792904703$, $23005543287841$ and $3004650884700271$. \n",
    "\n",
    "If your function uses algorithm 2, use the integers $23005543287841$, $3004650884700271$, $303919407802915297$, $36129009292372853471$ and $3449957987637480913651$.\n",
    "\n",
    "These have been given in a couple of lists in the cell below."
   ]
  },
  {
   "cell_type": "code",
   "execution_count": 21,
   "metadata": {
    "deletable": false,
    "editable": false,
    "nbgrader": {
     "cell_type": "code",
     "checksum": "f9d5569138a63a437832bbf63f942b6f",
     "grade": false,
     "grade_id": "cell-174d0bc549edf0e4",
     "locked": true,
     "schema_version": 3,
     "solution": false
    }
   },
   "outputs": [],
   "source": [
    "test_values_alg1 = [25096579, 1634498947, 176792904703, 23005543287841, 3004650884700271]\n",
    "test_values_alg2 = [23005543287841, 3004650884700271, 303919407802915297, 36129009292372853471, 3449957987637480913651]"
   ]
  },
  {
   "cell_type": "code",
   "execution_count": 22,
   "metadata": {
    "deletable": false,
    "nbgrader": {
     "cell_type": "code",
     "checksum": "e6fe95fae9d53d8449f486a576b36e13",
     "grade": false,
     "grade_id": "cell-7ae6b08b9a35e127",
     "locked": false,
     "schema_version": 3,
     "solution": true
    }
   },
   "outputs": [],
   "source": [
    "def divisors_wcount(n):\n",
    "    \"This function, using algorithm 2, returns two factors of the argument n\"\n",
    "    \"However if the argument is prime, simply n and 1 are returned\"\n",
    "    count = 0\n",
    "    if is_prime(n): #uses function defined above to check whether number is prime\n",
    "        return n, 1, count+1\n",
    "    x, y, d = 2, 2, 1      #initialise variables for the loop\n",
    "    g = lambda num: ((num**2)+1)%n     #create our g(x) function to be used in the algorithm\n",
    "    while d < n: #set condition for the while loop\n",
    "        x = g(x) # set x for the current iteration using g(x)\n",
    "        y = g(g(y)) # set y for the current iteration appplying g(x) twice to it\n",
    "        d = math.gcd(abs(x-y), n)  #find gcd of the absolute difference of x and y, and argument n\n",
    "        count += 1\n",
    "        if 1 < d and d < n: #check whether this gcd is non-trivial (ie not equal to 1)\n",
    "            break #exit loop as we have found factor\n",
    "    return d, int(n/d), count\n",
    "\n",
    "#for item in test_values_alg2:\n",
    "    #print(divisors_wcount(item)[2])\n",
    "    \n",
    "#I did use the test values given, however I've commented it out, as it took too long to run\n",
    "#As proof: the first number in the list takes 2100 iterations, the second is 7390, and the third 11712.\n",
    "#the last two take way too long to run with this algorithm"
   ]
  },
  {
   "cell_type": "markdown",
   "metadata": {
    "deletable": false,
    "editable": false,
    "nbgrader": {
     "cell_type": "markdown",
     "checksum": "eec418ed6fcfaaedeea01550a50739d1",
     "grade": false,
     "grade_id": "cell-4ce7dae2dff9f000",
     "locked": true,
     "schema_version": 3,
     "solution": false
    }
   },
   "source": [
    "(d) Create a point plot showing, on the vertical axis, the logarithm of the number of iterations necessary to find a factor of `n`, against, on the horizontal axis, the logarithm of `n`."
   ]
  },
  {
   "cell_type": "code",
   "execution_count": 23,
   "metadata": {
    "deletable": false,
    "nbgrader": {
     "cell_type": "code",
     "checksum": "3f6fc4ce572aa677dd909c71cd879ef7",
     "grade": true,
     "grade_id": "cell-5f5558d91eca680c",
     "locked": false,
     "points": 0,
     "schema_version": 3,
     "solution": true
    }
   },
   "outputs": [
    {
     "data": {
      "text/plain": [
       "Text(0, 0.5, 'Logarithm of iterations of n')"
      ]
     },
     "execution_count": 23,
     "metadata": {},
     "output_type": "execute_result"
    },
    {
     "data": {
      "image/png": "[encoded data removed]",
      "text/plain": [
       "<Figure size 432x288 with 1 Axes>"
      ]
     },
     "metadata": {
      "needs_background": "light"
     },
     "output_type": "display_data"
    }
   ],
   "source": [
    "%matplotlib inline\n",
    "x_axis = [math.log(n) for n in range(5, 100000)]\n",
    "y_axis = [math.log(divisors_wcount(n)[2]) for n in range(5, 100000)]\n",
    "plt.plot(x_axis, y_axis, '.')\n",
    "plt.xlabel(\"Logarithm of n\")\n",
    "plt.ylabel(\"Logarithm of iterations of n\")"
   ]
  },
  {
   "cell_type": "code",
   "execution_count": null,
   "metadata": {},
   "outputs": [],
   "source": []
  }
 ],
 "metadata": {
  "kernelspec": {
   "display_name": "Python 3",
   "language": "python",
   "name": "python3"
  },
  "language_info": {
   "codemirror_mode": {
    "name": "ipython",
    "version": 3
   },
   "file_extension": ".py",
   "mimetype": "text/x-python",
   "name": "python",
   "nbconvert_exporter": "python",
   "pygments_lexer": "ipython3",
   "version": "3.7.4"
  }
 },
 "nbformat": 4,
 "nbformat_minor": 4
}
