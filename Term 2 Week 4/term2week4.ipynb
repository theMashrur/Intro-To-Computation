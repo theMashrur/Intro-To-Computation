{
 "cells": [
  {
   "cell_type": "code",
   "execution_count": 1,
   "metadata": {},
   "outputs": [
    {
     "output_type": "stream",
     "name": "stdout",
     "text": [
      "Autograder loaded successfully!\nRemember to always restart and run all from the Kernel menu before submitting!\n"
     ]
    }
   ],
   "source": [
    "from autograder_term2week4 import *\n",
    "_globals = globals()\n",
    "import numpy as np\n",
    "import matplotlib.pyplot as plt\n",
    "%matplotlib inline"
   ]
  },
  {
   "cell_type": "markdown",
   "metadata": {
    "deletable": false,
    "editable": false,
    "nbgrader": {
     "cell_type": "markdown",
     "checksum": "53ef3151a15fe2f26b25a0e51ad7879c",
     "grade": false,
     "grade_id": "cell-00a64f1f98a89bd7",
     "locked": true,
     "schema_version": 3,
     "solution": false,
     "task": false
    }
   },
   "source": [
    "# <center> Introduction to Mathematical Computing </center>\n",
    "### <center>Phil Ramsden, Boumediene Hamzi, Sam Brzezicki</center>\n",
    "\n",
    "# <center> Worksheet 7: Yet More About Functions, and numpy</center>\n",
    "\n",
    "**NOTE:** When answering a question, remember to remove the `raise NotImplementedError()` line."
   ]
  },
  {
   "cell_type": "markdown",
   "metadata": {
    "deletable": false,
    "editable": false,
    "nbgrader": {
     "cell_type": "markdown",
     "checksum": "e3645923f24207cc6486185ac096d9aa",
     "grade": false,
     "grade_id": "cell-4c4f971c38fdd5b3",
     "locked": true,
     "schema_version": 3,
     "solution": false,
     "task": false
    }
   },
   "source": [
    "## Question 1\n",
    "\n",
    "(a) Write and test a function called <code>pop_min</code> that takes as its argument a non-empty list <code>num_list</code>, assumed to consist of ints and/or floats, and outputs its minimum value. However, your function should have the side-effect of removing this minimum value from <code>num_list</code>. \n",
    "\n",
    "Test your function. If you type\n",
    "\n",
    "```python\n",
    "this_list = [3, 5, 2, 7, 1, 2, 3, 1, 9]\n",
    "pop_min(this_list)\n",
    "```\n",
    "\n",
    "then you should get the output 1, and as a side-effect, the value of <code>this_list</code> should become\n",
    "\n",
    "<code>[3, 5, 2, 7, 2, 3, 1, 9]</code>."
   ]
  },
  {
   "cell_type": "code",
   "execution_count": 2,
   "metadata": {
    "deletable": false,
    "nbgrader": {
     "cell_type": "code",
     "checksum": "9fdcae39ad2c2523769ccc9103fd4032",
     "grade": false,
     "grade_id": "cell-1ae855be0b82fa0e",
     "locked": false,
     "schema_version": 3,
     "solution": true,
     "task": false
    }
   },
   "outputs": [
    {
     "output_type": "stream",
     "name": "stdout",
     "text": [
      "[3, 5, 2, 7, 2, 3, 1, 9]\n"
     ]
    }
   ],
   "source": [
    "def pop_min(num_list):\n",
    "    lmin = num_list[0]\n",
    "    for item in num_list:\n",
    "        if item < lmin:\n",
    "            lmin = item\n",
    "    return num_list.pop(num_list.index(lmin))\n",
    "\n",
    "lis = [3, 5, 2, 7, 1, 2, 3, 1, 9]\n",
    "pop_min(lis)\n",
    "print(lis)"
   ]
  },
  {
   "cell_type": "code",
   "execution_count": 3,
   "metadata": {
    "deletable": false,
    "editable": false,
    "nbgrader": {
     "cell_type": "code",
     "checksum": "71a4d0ef78b5f2155eb9f3fc0ab7c503",
     "grade": true,
     "grade_id": "cell-31d6d5b9b62d0a0c",
     "locked": true,
     "points": 0,
     "schema_version": 3,
     "solution": false,
     "task": false
    }
   },
   "outputs": [
    {
     "output_type": "stream",
     "name": "stdout",
     "text": [
      "Test passed!\n"
     ]
    }
   ],
   "source": [
    "# Function testing; not for marks\n",
    "this_list = [3, 5, 2, 7, 1, 2, 3, 1, 9]\n",
    "this_min = pop_min(this_list)\n",
    "try:\n",
    "    assert(this_min == 1)\n",
    "    assert(this_list == [3, 5, 2, 7, 2, 3, 1, 9])\n",
    "    print('Test passed!')\n",
    "except:\n",
    "    print('Test failed!')"
   ]
  },
  {
   "cell_type": "code",
   "execution_count": 4,
   "metadata": {
    "deletable": false,
    "editable": false,
    "nbgrader": {
     "cell_type": "code",
     "checksum": "de9dad3e12d3d17e8bb734f2765b3229",
     "grade": true,
     "grade_id": "cell-4b1a182e62d8ffcf",
     "locked": true,
     "points": 2,
     "schema_version": 3,
     "solution": false,
     "task": false
    }
   },
   "outputs": [
    {
     "output_type": "stream",
     "name": "stdout",
     "text": [
      "Testing: typical case\nTest passed!\n\nTesting: edge case\nTest passed!\n\n2 out of 2\n"
     ]
    },
    {
     "output_type": "execute_result",
     "data": {
      "text/plain": [
       "2"
      ]
     },
     "metadata": {},
     "execution_count": 4
    }
   ],
   "source": [
    "# 2 Marks\n",
    "# Do not try to delete this cell\n",
    "# Run this cell for grading\n",
    "_globals = globals()\n",
    "question1a(_globals)"
   ]
  },
  {
   "cell_type": "markdown",
   "metadata": {
    "deletable": false,
    "editable": false,
    "nbgrader": {
     "cell_type": "markdown",
     "checksum": "bebf00709512ce665782e824c0ab00c8",
     "grade": false,
     "grade_id": "cell-97893717d3b0867c",
     "locked": true,
     "schema_version": 3,
     "solution": false,
     "task": false
    }
   },
   "source": [
    "(b) Write and test a function called <code>simple_sort</code> that takes as its argument a list <code>num_list</code>, assumed to be numerical, and, by using <code>pop_min</code>, returns all the elements of <code>num_list</code>, in ascending order. "
   ]
  },
  {
   "cell_type": "code",
   "execution_count": 13,
   "metadata": {
    "deletable": false,
    "nbgrader": {
     "cell_type": "code",
     "checksum": "f6bd2ef51e269f9a48bdabc26738e95d",
     "grade": false,
     "grade_id": "cell-544ce6138c69ebf5",
     "locked": false,
     "schema_version": 3,
     "solution": true,
     "task": false
    }
   },
   "outputs": [
    {
     "output_type": "stream",
     "name": "stdout",
     "text": [
      "[]\n"
     ]
    }
   ],
   "source": [
    "def simple_sort(num_list):\n",
    "    new_list = []\n",
    "    length = len(num_list)\n",
    "    for num in range(length):\n",
    "        new_list.append(pop_min(num_list))\n",
    "    return new_list\n",
    "\n",
    "lis = [3, 5, 2, 7, 1, 2, 3, 1, 9]\n",
    "simple_sort(lis)\n",
    "print(lis)"
   ]
  },
  {
   "cell_type": "code",
   "execution_count": 14,
   "metadata": {
    "deletable": false,
    "editable": false,
    "nbgrader": {
     "cell_type": "code",
     "checksum": "64f780e989a8a168a22c77ec7f3f20c7",
     "grade": true,
     "grade_id": "cell-6e005ec6d0f955c4",
     "locked": true,
     "points": 2,
     "schema_version": 3,
     "solution": false,
     "task": false
    }
   },
   "outputs": [
    {
     "output_type": "stream",
     "name": "stdout",
     "text": [
      "Testing: typical case\nTest passed!\n\nTesting: edge case\nTest passed!\n\n2 out of 2\n"
     ]
    },
    {
     "output_type": "execute_result",
     "data": {
      "text/plain": [
       "2"
      ]
     },
     "metadata": {},
     "execution_count": 14
    }
   ],
   "source": [
    "# 2 Marks\n",
    "# Do not try to delete this cell\n",
    "# Run this cell for grading\n",
    "_globals = globals()\n",
    "question1b(_globals)"
   ]
  },
  {
   "cell_type": "markdown",
   "metadata": {
    "deletable": false,
    "editable": false,
    "nbgrader": {
     "cell_type": "markdown",
     "checksum": "0adc68d6b2eaff037b3875a32ff6442a",
     "grade": false,
     "grade_id": "cell-83b0f39cfd3d2ab2",
     "locked": true,
     "schema_version": 3,
     "solution": false,
     "task": false
    }
   },
   "source": [
    "(c) If your function doesn't already do this, amend it so that as well as returning the sorted list, it has the side-effect of making the original list <em>equal</em> to the sorted list. So that if you type \n",
    "\n",
    "```python\n",
    "this_list = [3, 5, 2, 7, 1, 2, 3, 1, 9]\n",
    "simple_sort(this_list)\n",
    "```\n",
    "\n",
    "then you should get the output <code>[1, 1, 2, 2, 3, 3, 5, 7, 9]</code>, and as a side-effect, the value of <code>this_list</code> should become\n",
    "\n",
    "<code>[1, 1, 2, 2, 3, 3, 5, 7, 9]</code>."
   ]
  },
  {
   "cell_type": "code",
   "execution_count": 23,
   "metadata": {
    "deletable": false,
    "nbgrader": {
     "cell_type": "code",
     "checksum": "4372428d90a4c4e24c2196d2bd5e8e60",
     "grade": false,
     "grade_id": "cell-d8a06ebb274f04d6",
     "locked": false,
     "schema_version": 3,
     "solution": true,
     "task": false
    }
   },
   "outputs": [
    {
     "output_type": "stream",
     "name": "stdout",
     "text": [
      "[1, 1, 2, 2, 3, 3, 5, 7, 9]\n"
     ]
    }
   ],
   "source": [
    "def simple_sort(num_list):\n",
    "    new_list = []\n",
    "    length = len(num_list)\n",
    "    for num in range(length):\n",
    "        new_list.append(pop_min(num_list))\n",
    "    num_list += new_list\n",
    "    return num_list\n",
    "\n",
    "this_list = [3, 5, 2, 7, 1, 2, 3, 1, 9]\n",
    "simple_sort(this_list)\n",
    "print(this_list)"
   ]
  },
  {
   "cell_type": "code",
   "execution_count": 24,
   "metadata": {
    "deletable": false,
    "editable": false,
    "nbgrader": {
     "cell_type": "code",
     "checksum": "81ab7e624605dc8a11b7587c216ec874",
     "grade": true,
     "grade_id": "cell-b3f8d41096690235",
     "locked": true,
     "points": 2,
     "schema_version": 3,
     "solution": false,
     "task": false
    }
   },
   "outputs": [
    {
     "output_type": "stream",
     "name": "stdout",
     "text": [
      "Testing: typical case\nSorted list returned correctly\nList sorted correctly in place\n\nTesting: edge case\nSorted list returned correctly\nList sorted correctly in place\n\n2 out of 2\n"
     ]
    },
    {
     "output_type": "execute_result",
     "data": {
      "text/plain": [
       "2"
      ]
     },
     "metadata": {},
     "execution_count": 24
    }
   ],
   "source": [
    "# 2 Marks\n",
    "# Do not try to delete this cell\n",
    "# Run this cell for grading\n",
    "_globals = globals()\n",
    "question1c(_globals)"
   ]
  },
  {
   "cell_type": "markdown",
   "metadata": {
    "deletable": false,
    "editable": false,
    "nbgrader": {
     "cell_type": "markdown",
     "checksum": "022be5077df36f697281693b9c8b1ed1",
     "grade": false,
     "grade_id": "cell-6dbf463d4ed697dd",
     "locked": true,
     "schema_version": 3,
     "solution": false,
     "task": false
    }
   },
   "source": [
    "(d) Adapt your <code>pop_min</code> function so that every time one element is compared with another, it increments by one a global variable called <code>comparison_count</code>. Hence if you type\n",
    "\n",
    "```python\n",
    "comparison_count = 0    \n",
    "pm = pop_min([3, 5, 2, 7, 1, 2, 3, 1, 9])\n",
    "comparison_count\n",
    "```\n",
    "\n",
    "you should get 9.\n",
    "\n",
    "Using this, calculate the total number of comparisons necessary to sort the list <code>[3, 5, 2, 7, 1, 2, 3, 1, 9]</code> using <code>simple_sort</code>. \n",
    "\n",
    "Do you think this is an efficient method of sorting?"
   ]
  },
  {
   "cell_type": "code",
   "execution_count": 27,
   "metadata": {
    "deletable": false,
    "nbgrader": {
     "cell_type": "code",
     "checksum": "56d38aa545a14f598f481ade638d5630",
     "grade": false,
     "grade_id": "cell-c05510e3a3d77323",
     "locked": false,
     "schema_version": 3,
     "solution": true,
     "task": false
    }
   },
   "outputs": [
    {
     "output_type": "error",
     "ename": "SyntaxError",
     "evalue": "invalid syntax (<ipython-input-27-93017bfd105e>, line 4)",
     "traceback": [
      "\u001b[1;36m  File \u001b[1;32m\"<ipython-input-27-93017bfd105e>\"\u001b[1;36m, line \u001b[1;32m4\u001b[0m\n\u001b[1;33m    global comparison_count = 0\u001b[0m\n\u001b[1;37m                            ^\u001b[0m\n\u001b[1;31mSyntaxError\u001b[0m\u001b[1;31m:\u001b[0m invalid syntax\n"
     ]
    }
   ],
   "source": [
    "comparison_count = 0\n",
    "lis = [3, 5, 2, 7, 1, 2, 3, 1, 9]\n",
    "def pop_min(num_list):\n",
    "    global comparison_count\n",
    "    \n",
    "    lmin = num_list[0]\n",
    "    for item in num_list:\n",
    "        if item < lmin:\n",
    "            lmin = item\n",
    "        comparison_count += 1\n",
    "    return num_list.pop(num_list.index(lmin))\n",
    "pop_min(lis)\n",
    "print(comparison_count)"
   ]
  },
  {
   "cell_type": "code",
   "execution_count": 26,
   "metadata": {
    "deletable": false,
    "editable": false,
    "nbgrader": {
     "cell_type": "code",
     "checksum": "e3259ca3459ddae7b55795d841081c0c",
     "grade": true,
     "grade_id": "cell-ded140af0df44312",
     "locked": true,
     "points": 2,
     "schema_version": 3,
     "solution": false,
     "task": false
    }
   },
   "outputs": [
    {
     "output_type": "stream",
     "name": "stdout",
     "text": [
      "Testing: typical case\nSorted list returned correctly\nList sorted correctly in place\nCorrect comparison count\n\nTesting: edge case\nSorted list returned correctly\nList sorted correctly in place\nCorrect comparison count\n\n2 out of 2\n"
     ]
    },
    {
     "output_type": "execute_result",
     "data": {
      "text/plain": [
       "2"
      ]
     },
     "metadata": {},
     "execution_count": 26
    }
   ],
   "source": [
    "# 2 Marks\n",
    "# Do not try to delete this cell\n",
    "# Run this cell for grading\n",
    "_globals = globals()\n",
    "comparison_count = 0\n",
    "question1d(_globals)"
   ]
  },
  {
   "cell_type": "markdown",
   "metadata": {
    "deletable": false,
    "editable": false,
    "nbgrader": {
     "cell_type": "markdown",
     "checksum": "09f844471062afe3abbaa0c1ebc4bc85",
     "grade": false,
     "grade_id": "cell-56034b39608031c6",
     "locked": true,
     "schema_version": 3,
     "solution": false,
     "task": false
    }
   },
   "source": [
    "## Question 2\n",
    "\n",
    "(i) Import the NumPy module, and then define three lists and three arrays as follows:"
   ]
  },
  {
   "cell_type": "code",
   "execution_count": 8,
   "metadata": {
    "deletable": false,
    "editable": false,
    "nbgrader": {
     "cell_type": "code",
     "checksum": "426dc6191f84159f86384bb68f20482c",
     "grade": false,
     "grade_id": "cell-f0e4fbe982c4a3be",
     "locked": true,
     "schema_version": 3,
     "solution": false,
     "task": false
    }
   },
   "outputs": [],
   "source": [
    "int_list = [1, 2, 3]\n",
    "float_list = [4.0, 5.0, 6.0]\n",
    "int_float_list = [7, 8, 9.0]\n",
    "int_list2 = [10, 11, 12]\n",
    "\n",
    "int_arr = np.array(int_list)\n",
    "float_arr = np.array(float_list)\n",
    "int_float_arr = np.array(int_float_list)\n",
    "int_arr2 = np.array(int_list2)"
   ]
  },
  {
   "cell_type": "markdown",
   "metadata": {
    "deletable": false,
    "editable": false,
    "nbgrader": {
     "cell_type": "markdown",
     "checksum": "3e5b68db50aae93e294a37178f6c16f9",
     "grade": false,
     "grade_id": "cell-f0b5253fc64af60f",
     "locked": true,
     "schema_version": 3,
     "solution": false,
     "task": false
    }
   },
   "source": [
    "Print each of your four arrays, and extract elements of them using, for example\n",
    "```python\n",
    "int_arr[0]\n",
    "```\n",
    "\n",
    "Then:\n",
    "\n",
    "(a) Complete the following statement:\n",
    "\n",
    "A NumPy array based on a list of ints contains \n",
    "\n",
    "<ol>\n",
    "    <li>only ints of some kind;</li>\n",
    "    <li>only floats of some kind;</li>\n",
    "    <li>both ints and floats.</li>\n",
    "</ol>"
   ]
  },
  {
   "cell_type": "code",
   "execution_count": 9,
   "metadata": {
    "deletable": false,
    "nbgrader": {
     "cell_type": "code",
     "checksum": "cb1a52d7187970b75acf11b0274ca111",
     "grade": false,
     "grade_id": "cell-251be60ac5fa1475",
     "locked": false,
     "schema_version": 3,
     "solution": true,
     "task": false
    }
   },
   "outputs": [],
   "source": [
    "question2ia_answer = 1"
   ]
  },
  {
   "cell_type": "code",
   "execution_count": 10,
   "metadata": {
    "deletable": false,
    "editable": false,
    "nbgrader": {
     "cell_type": "code",
     "checksum": "56346a5672ddb772a7d1fddb393d5e3b",
     "grade": true,
     "grade_id": "cell-dc93660e40f37238",
     "locked": true,
     "points": 1,
     "schema_version": 3,
     "solution": false,
     "task": false
    }
   },
   "outputs": [
    {
     "output_type": "stream",
     "name": "stdout",
     "text": [
      "test case passed!\n"
     ]
    }
   ],
   "source": [
    "# 1 Mark\n",
    "assert(question2ia_answer == question2_ia())\n",
    "print('test case passed!')"
   ]
  },
  {
   "cell_type": "markdown",
   "metadata": {
    "deletable": false,
    "editable": false,
    "nbgrader": {
     "cell_type": "markdown",
     "checksum": "2c6a8c5d3a2faf741be8d109464d8816",
     "grade": false,
     "grade_id": "cell-9a4bf1cddf1b6e44",
     "locked": true,
     "schema_version": 3,
     "solution": false,
     "task": false
    }
   },
   "source": [
    "(b) Complete the following statement: \n",
    "\n",
    "A NumPy array based on a list of floats contains \n",
    "\n",
    "<ol>\n",
    "    <li>only ints of some kind;</li>\n",
    "    <li>only floats of some kind;</li>\n",
    "    <li>both ints and floats.</li>\n",
    "</ol>"
   ]
  },
  {
   "cell_type": "code",
   "execution_count": 11,
   "metadata": {
    "deletable": false,
    "nbgrader": {
     "cell_type": "code",
     "checksum": "8f0ca72b84d1a0e71910fe4c2dacd8a1",
     "grade": false,
     "grade_id": "cell-81094386692ef9ea",
     "locked": false,
     "schema_version": 3,
     "solution": true,
     "task": false
    }
   },
   "outputs": [],
   "source": [
    "question2ib_answer = 2"
   ]
  },
  {
   "cell_type": "code",
   "execution_count": 12,
   "metadata": {
    "deletable": false,
    "editable": false,
    "nbgrader": {
     "cell_type": "code",
     "checksum": "fdbb321d2699d595af6eefd6e5549a38",
     "grade": true,
     "grade_id": "cell-b5ad06d8b696439b",
     "locked": true,
     "points": 1,
     "schema_version": 3,
     "solution": false,
     "task": false
    }
   },
   "outputs": [
    {
     "output_type": "stream",
     "name": "stdout",
     "text": [
      "test case passed!\n"
     ]
    }
   ],
   "source": [
    "# 1 Mark\n",
    "assert(question2ib_answer == question2_ib())\n",
    "print('test case passed!')"
   ]
  },
  {
   "cell_type": "markdown",
   "metadata": {
    "deletable": false,
    "editable": false,
    "nbgrader": {
     "cell_type": "markdown",
     "checksum": "89eb43e0a98a640892963c3483b1ff21",
     "grade": false,
     "grade_id": "cell-15b40e229321adac",
     "locked": true,
     "schema_version": 3,
     "solution": false,
     "task": false
    }
   },
   "source": [
    "(c) Complete the following statement: \n",
    "\n",
    "A NumPy array based on a list of ints and floats contains \n",
    "\n",
    "<ol>\n",
    "    <li>only ints of some kind;</li>\n",
    "    <li>only floats of some kind;</li>\n",
    "    <li>both ints and floats.</li>\n",
    "</ol>"
   ]
  },
  {
   "cell_type": "code",
   "execution_count": 13,
   "metadata": {
    "deletable": false,
    "nbgrader": {
     "cell_type": "code",
     "checksum": "819a9c0107dabcc22dc668ea4ff6605f",
     "grade": false,
     "grade_id": "cell-6e960ccc047fbc69",
     "locked": false,
     "schema_version": 3,
     "solution": true,
     "task": false
    }
   },
   "outputs": [],
   "source": [
    "question2ic_answer = 2"
   ]
  },
  {
   "cell_type": "code",
   "execution_count": 14,
   "metadata": {
    "deletable": false,
    "editable": false,
    "nbgrader": {
     "cell_type": "code",
     "checksum": "49ac6fc248644fb6667b15393c54f3d8",
     "grade": true,
     "grade_id": "cell-e2410de2feb52905",
     "locked": true,
     "points": 1,
     "schema_version": 3,
     "solution": false,
     "task": false
    }
   },
   "outputs": [
    {
     "output_type": "stream",
     "name": "stdout",
     "text": [
      "test case passed!\n"
     ]
    }
   ],
   "source": [
    "# 1 Mark\n",
    "assert(question2ic_answer == question2_ic())\n",
    "print('test case passed!')"
   ]
  },
  {
   "cell_type": "markdown",
   "metadata": {
    "deletable": false,
    "editable": false,
    "nbgrader": {
     "cell_type": "markdown",
     "checksum": "61d63bf282bfab1c4b2a9b97cd19ab77",
     "grade": false,
     "grade_id": "cell-6db26e4cf8240889",
     "locked": true,
     "schema_version": 3,
     "solution": false,
     "task": false
    }
   },
   "source": [
    "(ii) Define the following arrays:"
   ]
  },
  {
   "cell_type": "code",
   "execution_count": 15,
   "metadata": {
    "deletable": false,
    "editable": false,
    "nbgrader": {
     "cell_type": "code",
     "checksum": "6be4fb72dce183529e35009953d6aa4c",
     "grade": false,
     "grade_id": "cell-461b40e94bad3174",
     "locked": true,
     "schema_version": 3,
     "solution": false,
     "task": false
    }
   },
   "outputs": [],
   "source": [
    "int_float_complex_arr = np.array([1, 2.0, 3+0j])\n",
    "int_float_complex_string_arr = np.array([1, 2.0, 3+0j, 'four'])"
   ]
  },
  {
   "cell_type": "markdown",
   "metadata": {
    "deletable": false,
    "editable": false,
    "nbgrader": {
     "cell_type": "markdown",
     "checksum": "b37b7b9c759176a15cc25769340b7d14",
     "grade": false,
     "grade_id": "cell-fcfd0bfd866a35da",
     "locked": true,
     "schema_version": 3,
     "solution": false,
     "task": false
    }
   },
   "source": [
    "(a) Complete the following statement:\n",
    "\n",
    "A NumPy array based on a list of ints, floats and complexes contains \n",
    "\n",
    "<ol>\n",
    "    <li>only ints of some kind;</li>\n",
    "    <li>only floats of some kind;</li>\n",
    "    <li>only complexes of some kind;</li>\n",
    "    <li>a mixture of ints, floats and complexes.</li>\n",
    "</ol>"
   ]
  },
  {
   "cell_type": "code",
   "execution_count": 17,
   "metadata": {
    "deletable": false,
    "nbgrader": {
     "cell_type": "code",
     "checksum": "c18167a288663a1c77d6279c5001c1d4",
     "grade": false,
     "grade_id": "cell-44f872ebef2c7162",
     "locked": false,
     "schema_version": 3,
     "solution": true,
     "task": false
    }
   },
   "outputs": [
    {
     "output_type": "stream",
     "name": "stdout",
     "text": [
      "[1.+0.j 2.+0.j 3.+0.j]\n"
     ]
    }
   ],
   "source": [
    "question2iia_answer = 3\n",
    "print(int_float_complex_arr)"
   ]
  },
  {
   "cell_type": "code",
   "execution_count": 18,
   "metadata": {
    "deletable": false,
    "editable": false,
    "nbgrader": {
     "cell_type": "code",
     "checksum": "bd8cf62f70302b56319a63ca857d243b",
     "grade": true,
     "grade_id": "cell-77fb9047990820f7",
     "locked": true,
     "points": 1,
     "schema_version": 3,
     "solution": false,
     "task": false
    }
   },
   "outputs": [
    {
     "output_type": "stream",
     "name": "stdout",
     "text": [
      "test case passed!\n"
     ]
    }
   ],
   "source": [
    "# 1 Mark\n",
    "assert(question2iia_answer == question2_iia())\n",
    "print('test case passed!')"
   ]
  },
  {
   "cell_type": "markdown",
   "metadata": {
    "deletable": false,
    "editable": false,
    "nbgrader": {
     "cell_type": "markdown",
     "checksum": "c4d0358e58d7570e759fb5917cab1ef8",
     "grade": false,
     "grade_id": "cell-ed7d9b7656bce113",
     "locked": true,
     "schema_version": 3,
     "solution": false,
     "task": false
    }
   },
   "source": [
    "(b) Complete the following statement:\n",
    "\n",
    "A NumPy array based on a list of ints, floats, complexes and strings contains \n",
    "\n",
    "<ol>\n",
    "    <li>only ints of some kind;</li>\n",
    "    <li>only floats of some kind;</li>\n",
    "    <li>only complexes of some kind;</li>\n",
    "    <li>only strings of some kind;</li>\n",
    "    <li>a mixture of ints, floats, complexes and strings.</li>\n",
    "</ol>"
   ]
  },
  {
   "cell_type": "code",
   "execution_count": 21,
   "metadata": {
    "deletable": false,
    "nbgrader": {
     "cell_type": "code",
     "checksum": "be6f7a8b0c261b3b25457b1e793a66f8",
     "grade": false,
     "grade_id": "cell-3dd3bd52726607d0",
     "locked": false,
     "schema_version": 3,
     "solution": true,
     "task": false
    }
   },
   "outputs": [
    {
     "output_type": "stream",
     "name": "stdout",
     "text": [
      "['1' '2.0' '(3+0j)' 'four']\n"
     ]
    }
   ],
   "source": [
    "question2iib_answer = 4\n",
    "print(int_float_complex_string_arr)"
   ]
  },
  {
   "cell_type": "code",
   "execution_count": 22,
   "metadata": {
    "deletable": false,
    "editable": false,
    "nbgrader": {
     "cell_type": "code",
     "checksum": "c648d535c5fe441d188171e217e16f35",
     "grade": true,
     "grade_id": "cell-60903a4c7897151d",
     "locked": true,
     "points": 1,
     "schema_version": 3,
     "solution": false,
     "task": false
    }
   },
   "outputs": [
    {
     "output_type": "stream",
     "name": "stdout",
     "text": [
      "test case passed!\n"
     ]
    }
   ],
   "source": [
    "# 1 Mark\n",
    "assert(question2iib_answer == question2_iib())\n",
    "print('test case passed!')"
   ]
  },
  {
   "cell_type": "markdown",
   "metadata": {
    "deletable": false,
    "editable": false,
    "nbgrader": {
     "cell_type": "markdown",
     "checksum": "619946efc03952fe5459543ccb9e297b",
     "grade": false,
     "grade_id": "cell-c515f246417273d0",
     "locked": true,
     "schema_version": 3,
     "solution": false,
     "task": false
    }
   },
   "source": [
    "## Question 3\n",
    "\n",
    "(i) Calculate\n",
    "```python\n",
    "int_arr + float_arr\n",
    "```\n",
    "and similar \"array sums\". Then:\n",
    "\n",
    "(a) Complete the following statement:\n",
    "\n",
    "When you add two NumPy arrays together, you\n",
    "\n",
    "<ol>\n",
    "    <li>concatenate them (that is, join them head to tail, in the same way as lists or tuples);</li>\n",
    "    <li>add them component-by-component, as if they were vectors.</li>\n",
    "</ol>"
   ]
  },
  {
   "cell_type": "code",
   "execution_count": 24,
   "metadata": {
    "deletable": false,
    "nbgrader": {
     "cell_type": "code",
     "checksum": "5799914b389d2cdfad250bbac474b6f5",
     "grade": false,
     "grade_id": "cell-a4802571a7742aba",
     "locked": false,
     "schema_version": 3,
     "solution": true,
     "task": false
    }
   },
   "outputs": [
    {
     "output_type": "execute_result",
     "data": {
      "text/plain": [
       "array([2.+0.j, 4.+0.j, 6.+0.j])"
      ]
     },
     "metadata": {},
     "execution_count": 24
    }
   ],
   "source": [
    "question3ia_answer = 2\n",
    "int_arr + float_arr\n",
    "int_arr + int_float_complex_arr"
   ]
  },
  {
   "cell_type": "code",
   "execution_count": 25,
   "metadata": {
    "deletable": false,
    "editable": false,
    "nbgrader": {
     "cell_type": "code",
     "checksum": "07e9fc3c4213b41b007730f47d996459",
     "grade": true,
     "grade_id": "cell-1a957a83c20b93a8",
     "locked": true,
     "points": 1,
     "schema_version": 3,
     "solution": false,
     "task": false
    }
   },
   "outputs": [
    {
     "output_type": "stream",
     "name": "stdout",
     "text": [
      "test case passed!\n"
     ]
    }
   ],
   "source": [
    "# 1 Mark\n",
    "assert(question3ia_answer == question3_ia())\n",
    "print('test case passed!')"
   ]
  },
  {
   "cell_type": "markdown",
   "metadata": {
    "deletable": false,
    "editable": false,
    "nbgrader": {
     "cell_type": "markdown",
     "checksum": "f416f950276c640e93db4fc5ca47030c",
     "grade": false,
     "grade_id": "cell-44e3738e035c66d1",
     "locked": true,
     "schema_version": 3,
     "solution": false,
     "task": false
    }
   },
   "source": [
    "(b) Complete the following statement:\n",
    "\n",
    "The sum of an array of ints and an array of floats is\n",
    "\n",
    "<ol>\n",
    "    <li>an array of ints;</li>\n",
    "    <li>an array of floats;</li>\n",
    "    <li>an array containing both ints and floats.</li>\n",
    "</ol>"
   ]
  },
  {
   "cell_type": "code",
   "execution_count": 26,
   "metadata": {
    "deletable": false,
    "nbgrader": {
     "cell_type": "code",
     "checksum": "5a42d6e9c28d3f173f512b0eb4a7626b",
     "grade": false,
     "grade_id": "cell-ffe39e4933876bf7",
     "locked": false,
     "schema_version": 3,
     "solution": true,
     "task": false
    }
   },
   "outputs": [],
   "source": [
    "question3ib_answer = 2"
   ]
  },
  {
   "cell_type": "code",
   "execution_count": 27,
   "metadata": {
    "deletable": false,
    "editable": false,
    "nbgrader": {
     "cell_type": "code",
     "checksum": "7e5d5ad716d7054fafa30b69eb1fa49b",
     "grade": true,
     "grade_id": "cell-309bc99958fb8e3b",
     "locked": true,
     "points": 1,
     "schema_version": 3,
     "solution": false,
     "task": false
    }
   },
   "outputs": [
    {
     "output_type": "stream",
     "name": "stdout",
     "text": [
      "test case passed!\n"
     ]
    }
   ],
   "source": [
    "# 1 Mark\n",
    "assert(question3ib_answer == question3_ib())\n",
    "print('test case passed!')"
   ]
  },
  {
   "cell_type": "markdown",
   "metadata": {
    "deletable": false,
    "editable": false,
    "nbgrader": {
     "cell_type": "markdown",
     "checksum": "137e6c68facddd91a2bb6a129e3552ac",
     "grade": false,
     "grade_id": "cell-f49920e105b9ec8d",
     "locked": true,
     "schema_version": 3,
     "solution": false,
     "task": false
    }
   },
   "source": [
    "(c) Complete the following statement:\n",
    "\n",
    "When you add two one-dimensional NumPy arrays of different lengths,\n",
    "\n",
    "<ol>\n",
    "    <li>it works fine;</li>\n",
    "    <li>it generates an error message.</li>\n",
    "</ol>"
   ]
  },
  {
   "cell_type": "code",
   "execution_count": 29,
   "metadata": {
    "deletable": false,
    "nbgrader": {
     "cell_type": "code",
     "checksum": "00e0a06f9430b55b902676b7d3a8ec1d",
     "grade": false,
     "grade_id": "cell-8cb815a797c62fab",
     "locked": false,
     "schema_version": 3,
     "solution": true,
     "task": false
    }
   },
   "outputs": [
    {
     "output_type": "stream",
     "name": "stdout",
     "text": [
      "oops\n"
     ]
    }
   ],
   "source": [
    "question3ic_answer = 2\n",
    "try:\n",
    "    diff_arr = np.array([1, 2])\n",
    "    diff_arr + int_arr\n",
    "except:\n",
    "    print(\"oops\")"
   ]
  },
  {
   "cell_type": "code",
   "execution_count": 30,
   "metadata": {
    "deletable": false,
    "editable": false,
    "nbgrader": {
     "cell_type": "code",
     "checksum": "1401d7384eacded2480eff9775063921",
     "grade": true,
     "grade_id": "cell-d43f23b47e0b22e6",
     "locked": true,
     "points": 1,
     "schema_version": 3,
     "solution": false,
     "task": false
    }
   },
   "outputs": [
    {
     "output_type": "stream",
     "name": "stdout",
     "text": [
      "test case passed!\n"
     ]
    }
   ],
   "source": [
    "# 1 Mark\n",
    "assert(question3ic_answer == question3_ic())\n",
    "print('test case passed!')"
   ]
  },
  {
   "cell_type": "markdown",
   "metadata": {
    "deletable": false,
    "editable": false,
    "nbgrader": {
     "cell_type": "markdown",
     "checksum": "b380aeb7cfe3f6920b9cef46151b57bf",
     "grade": false,
     "grade_id": "cell-dba17f4be9a5f522",
     "locked": true,
     "schema_version": 3,
     "solution": false,
     "task": false
    }
   },
   "source": [
    "(ii) Experiment with using the other arithmetic operators, ```-```, ```*```, ```/```, ```//``` and ```**``` on scalars and 1D NumPy arrays. Then:\n",
    "\n",
    "(a) Complete the following statement:\n",
    "\n",
    "When you multiply a one-dimensional NumPy array by 3, you\n",
    "\n",
    "<ol>\n",
    "    <li>create three copies of the array, joined head to tail, as with lists or tuples;</li>\n",
    "    <li>multiply each of the elements of the array separately by 3;</li>\n",
    "    <li>multiply only the first element (that is, the element with index 0) by 3;</li>\n",
    "    <li>none of the above: there's an error message.</li>\n",
    "</ol>"
   ]
  },
  {
   "cell_type": "code",
   "execution_count": 32,
   "metadata": {
    "deletable": false,
    "nbgrader": {
     "cell_type": "code",
     "checksum": "707325289bb967162dae69c5daf2da2e",
     "grade": false,
     "grade_id": "cell-b1f4300e476618ed",
     "locked": false,
     "schema_version": 3,
     "solution": true,
     "task": false
    }
   },
   "outputs": [
    {
     "output_type": "stream",
     "name": "stdout",
     "text": [
      "[3 6 9]\n"
     ]
    }
   ],
   "source": [
    "print(int_arr * 3)\n",
    "\n",
    "question3iia_answer = 2"
   ]
  },
  {
   "cell_type": "code",
   "execution_count": 33,
   "metadata": {
    "deletable": false,
    "editable": false,
    "nbgrader": {
     "cell_type": "code",
     "checksum": "0f98704a2a4884c67bff9915011708e3",
     "grade": true,
     "grade_id": "cell-237e0bbc53d9d43e",
     "locked": true,
     "points": 1,
     "schema_version": 3,
     "solution": false,
     "task": false
    }
   },
   "outputs": [
    {
     "output_type": "stream",
     "name": "stdout",
     "text": [
      "test case passed!\n"
     ]
    }
   ],
   "source": [
    "# 1 Mark\n",
    "assert(question3iia_answer == question3_iia())\n",
    "print('test case passed!')"
   ]
  },
  {
   "cell_type": "markdown",
   "metadata": {
    "deletable": false,
    "editable": false,
    "nbgrader": {
     "cell_type": "markdown",
     "checksum": "74a7af01c88f0e80a5d6790d9e766822",
     "grade": false,
     "grade_id": "cell-18cb0cb42cbf39ec",
     "locked": true,
     "schema_version": 3,
     "solution": false,
     "task": false
    }
   },
   "source": [
    "(b) In which of the following circumstances can you use Python's arithmetic operators?\n",
    "\n",
    "I. To combine a scalar with a scalar.<br/>\n",
    "II. To combine a scalar with a 1D NumPy array of any length.<br/>\n",
    "III. To combine two 1D NumPy arrays of the same length.<br/>\n",
    "IV. To combine two 1D NumPy arrays of different lengths.\n",
    "\n",
    "<ol>\n",
    "    <li>All of them.</li>\n",
    "    <li>All of them except II.</li>\n",
    "    <li>All of them except IV.</li>\n",
    "    <li>All of them except II and IV.</li>\n",
    "</ol>"
   ]
  },
  {
   "cell_type": "code",
   "execution_count": 34,
   "metadata": {
    "deletable": false,
    "nbgrader": {
     "cell_type": "code",
     "checksum": "e284d0b650903c18f49b63627a5e4a7f",
     "grade": false,
     "grade_id": "cell-270dbaddd730484f",
     "locked": false,
     "schema_version": 3,
     "solution": true,
     "task": false
    }
   },
   "outputs": [],
   "source": [
    "question3iib_answer = 3"
   ]
  },
  {
   "cell_type": "code",
   "execution_count": 35,
   "metadata": {
    "deletable": false,
    "editable": false,
    "nbgrader": {
     "cell_type": "code",
     "checksum": "89fc0998ff6c22e5f220c1e06426d3ab",
     "grade": true,
     "grade_id": "cell-77c15fb7ccfeb3d6",
     "locked": true,
     "points": 1,
     "schema_version": 3,
     "solution": false,
     "task": false
    }
   },
   "outputs": [
    {
     "output_type": "stream",
     "name": "stdout",
     "text": [
      "test case passed!\n"
     ]
    }
   ],
   "source": [
    "# 1 Mark\n",
    "assert(question3iib_answer == question3_iib())\n",
    "print('test case passed!')"
   ]
  },
  {
   "cell_type": "markdown",
   "metadata": {
    "deletable": false,
    "editable": false,
    "nbgrader": {
     "cell_type": "markdown",
     "checksum": "9b966771e502fee180b909b1d47f474e",
     "grade": false,
     "grade_id": "cell-c121ec2ee40320ab",
     "locked": true,
     "schema_version": 3,
     "solution": false,
     "task": false
    }
   },
   "source": [
    "(iii) Create the 2D NumPy arrays"
   ]
  },
  {
   "cell_type": "code",
   "execution_count": 36,
   "metadata": {
    "deletable": false,
    "editable": false,
    "nbgrader": {
     "cell_type": "code",
     "checksum": "3858fa239dac8671fcd43c22909ed5ed",
     "grade": false,
     "grade_id": "cell-d2d032484873c7d5",
     "locked": true,
     "schema_version": 3,
     "solution": false,
     "task": false
    }
   },
   "outputs": [],
   "source": [
    "mat33 = np.array([[1,2,-1],[3,-4,0],[2,-1,1]])\n",
    "mat13 = np.array([[1,2,3]])\n",
    "mat31 = np.array([[1],[2],[3]])\n",
    "mat23 = np.array([[1,3,5],[1,2,4]])"
   ]
  },
  {
   "cell_type": "markdown",
   "metadata": {
    "deletable": false,
    "editable": false,
    "nbgrader": {
     "cell_type": "markdown",
     "checksum": "f665a0c4bb608e7cc23195ce142663ff",
     "grade": false,
     "grade_id": "cell-9da54432c45791c8",
     "locked": true,
     "schema_version": 3,
     "solution": false,
     "task": false
    }
   },
   "source": [
    "Experiment, and consider the following claims:\n",
    "\n",
    "(a) When a $3\\times 3$ NumPy array is added to a $1 \\times 3$ NumPy array:\n",
    "\n",
    "<ol>\n",
    "    <li>an error is generated;</li>\n",
    "    <li>it works, and the $1 \\times 3$ array is treated as if it were three repeated rows;</li>\n",
    "    <li>it works, and the $1 \\times 3$ array is treated as if it were three repeated columns.</li>\n",
    "</ol>"
   ]
  },
  {
   "cell_type": "code",
   "execution_count": 38,
   "metadata": {
    "deletable": false,
    "nbgrader": {
     "cell_type": "code",
     "checksum": "1048f526e6a7cfbe367bf64a4905cbe6",
     "grade": false,
     "grade_id": "cell-a0594c26e4e367f1",
     "locked": false,
     "schema_version": 3,
     "solution": true,
     "task": false
    }
   },
   "outputs": [
    {
     "output_type": "stream",
     "name": "stdout",
     "text": [
      "[[ 2  4  2]\n [ 4 -2  3]\n [ 3  1  4]]\n"
     ]
    }
   ],
   "source": [
    "print(mat33 + mat13)\n",
    "question3iiia_answer = 2"
   ]
  },
  {
   "cell_type": "code",
   "execution_count": 39,
   "metadata": {
    "deletable": false,
    "editable": false,
    "nbgrader": {
     "cell_type": "code",
     "checksum": "87c48884ef67e8e5dce7f420e5af2ea8",
     "grade": true,
     "grade_id": "cell-b4cf36b001d570fc",
     "locked": true,
     "points": 1,
     "schema_version": 3,
     "solution": false,
     "task": false
    }
   },
   "outputs": [
    {
     "output_type": "stream",
     "name": "stdout",
     "text": [
      "test case passed!\n"
     ]
    }
   ],
   "source": [
    "# 1 Mark\n",
    "assert(question3iiia_answer == question3_iiia())\n",
    "print('test case passed!')"
   ]
  },
  {
   "cell_type": "markdown",
   "metadata": {
    "deletable": false,
    "editable": false,
    "nbgrader": {
     "cell_type": "markdown",
     "checksum": "24bd37743b13d3d23de223b1c1474b42",
     "grade": false,
     "grade_id": "cell-a1f316935a940556",
     "locked": true,
     "schema_version": 3,
     "solution": false,
     "task": false
    }
   },
   "source": [
    "(b) When a $3\\times 3$ NumPy array is added to a $3 \\times 1$ NumPy array:\n",
    "\n",
    "<ol>\n",
    "    <li>an error is generated;</li>\n",
    "    <li>it works, and the $3 \\times 1$ array is treated as if it were three repeated rows;</li>\n",
    "    <li>it works, and the $3 \\times 1$ array is treated as if it were three repeated columns.</li>\n",
    "</ol>"
   ]
  },
  {
   "cell_type": "code",
   "execution_count": 42,
   "metadata": {
    "deletable": false,
    "nbgrader": {
     "cell_type": "code",
     "checksum": "da422856cedfcafaf006014e389dad84",
     "grade": false,
     "grade_id": "cell-d6767f4dcf44ca69",
     "locked": false,
     "schema_version": 3,
     "solution": true,
     "task": false
    }
   },
   "outputs": [
    {
     "output_type": "stream",
     "name": "stdout",
     "text": [
      "[[ 2  3  0]\n [ 5 -2  2]\n [ 5  2  4]]\n"
     ]
    }
   ],
   "source": [
    "print(mat33 + mat31)\n",
    "\n",
    "question3iiib_answer = 3"
   ]
  },
  {
   "cell_type": "code",
   "execution_count": 43,
   "metadata": {
    "deletable": false,
    "editable": false,
    "nbgrader": {
     "cell_type": "code",
     "checksum": "5ed8b16584437f3ef2bbc29277934315",
     "grade": true,
     "grade_id": "cell-47c7fa2c91873e9d",
     "locked": true,
     "points": 1,
     "schema_version": 3,
     "solution": false,
     "task": false
    }
   },
   "outputs": [
    {
     "output_type": "stream",
     "name": "stdout",
     "text": [
      "test case passed!\n"
     ]
    }
   ],
   "source": [
    "# 1 Mark\n",
    "assert(question3iiib_answer == question3_iiib())\n",
    "print('test case passed!')"
   ]
  },
  {
   "cell_type": "markdown",
   "metadata": {
    "deletable": false,
    "editable": false,
    "nbgrader": {
     "cell_type": "markdown",
     "checksum": "a97a2163b58e015a96533235823e8342",
     "grade": false,
     "grade_id": "cell-75991554aaabafc8",
     "locked": true,
     "schema_version": 3,
     "solution": false,
     "task": false
    }
   },
   "source": [
    "(c) When a $3\\times 3$ NumPy array is added to a $2 \\times 3$ NumPy array:\n",
    "\n",
    "<ol>\n",
    "    <li>an error is generated;</li>\n",
    "    <li>it works, with rows being repeated cyclically as necessary;</li>\n",
    "    <li>it works, with columns being repeated cyclically as necessary;</li>\n",
    "</ol>"
   ]
  },
  {
   "cell_type": "code",
   "execution_count": 45,
   "metadata": {
    "deletable": false,
    "nbgrader": {
     "cell_type": "code",
     "checksum": "9f6b3a4d64819792fc5fc1cce066c26b",
     "grade": false,
     "grade_id": "cell-f3e24333aa57f4e8",
     "locked": false,
     "schema_version": 3,
     "solution": true,
     "task": false
    }
   },
   "outputs": [
    {
     "output_type": "stream",
     "name": "stdout",
     "text": [
      "bruh\n"
     ]
    }
   ],
   "source": [
    "try:\n",
    "    print(mat33 + mat23)\n",
    "except:\n",
    "    print(\"bruh\")\n",
    "question3iiic_answer = 1"
   ]
  },
  {
   "cell_type": "code",
   "execution_count": 46,
   "metadata": {
    "deletable": false,
    "editable": false,
    "nbgrader": {
     "cell_type": "code",
     "checksum": "18e11e4c35e9612871e376d4a25c8de9",
     "grade": true,
     "grade_id": "cell-589aa4ba9057b080",
     "locked": true,
     "points": 1,
     "schema_version": 3,
     "solution": false,
     "task": false
    }
   },
   "outputs": [
    {
     "output_type": "stream",
     "name": "stdout",
     "text": [
      "test case passed!\n"
     ]
    }
   ],
   "source": [
    "# 1 Mark\n",
    "assert(question3iiic_answer == question3_iiic())\n",
    "print('test case passed!')"
   ]
  },
  {
   "cell_type": "markdown",
   "metadata": {
    "deletable": false,
    "editable": false,
    "nbgrader": {
     "cell_type": "markdown",
     "checksum": "e02d6b4c5e5fbc3a02b4211a781d5ca2",
     "grade": false,
     "grade_id": "cell-80eaec341dd8c8c9",
     "locked": true,
     "schema_version": 3,
     "solution": false,
     "task": false
    }
   },
   "source": [
    "(d) When a $3\\times 3$ NumPy array is added to a 1D array of length 3:\n",
    "\n",
    "<ol>\n",
    "    <li>an error is generated;</li>\n",
    "    <li>it works, and you get the same result as if the 1D array were a $1 \\times 3$ array;</li>\n",
    "    <li>it works, and you get the same result as if the 1D array were a $3 \\times 1$ array.</li>\n",
    "</ol>"
   ]
  },
  {
   "cell_type": "code",
   "execution_count": 48,
   "metadata": {
    "deletable": false,
    "nbgrader": {
     "cell_type": "code",
     "checksum": "bd2002fc7dd60cceb710ce4b43cb5dd6",
     "grade": false,
     "grade_id": "cell-6d3c2880efdacf91",
     "locked": false,
     "schema_version": 3,
     "solution": true,
     "task": false
    }
   },
   "outputs": [
    {
     "output_type": "stream",
     "name": "stdout",
     "text": [
      "[[ 2  4  2]\n [ 4 -2  3]\n [ 3  1  4]]\n"
     ]
    }
   ],
   "source": [
    "print(mat33 + int_arr)\n",
    "\n",
    "question3iiid_answer = 2"
   ]
  },
  {
   "cell_type": "code",
   "execution_count": 49,
   "metadata": {
    "deletable": false,
    "editable": false,
    "nbgrader": {
     "cell_type": "code",
     "checksum": "83cd773620c42aae70bb0e47986f75e0",
     "grade": true,
     "grade_id": "cell-5ef0a020bd7e8f5d",
     "locked": true,
     "points": 1,
     "schema_version": 3,
     "solution": false,
     "task": false
    }
   },
   "outputs": [
    {
     "output_type": "stream",
     "name": "stdout",
     "text": [
      "test case passed!\n"
     ]
    }
   ],
   "source": [
    "# 1 Mark\n",
    "assert(question3iiid_answer == question3_iiid())\n",
    "print('test case passed!')"
   ]
  },
  {
   "cell_type": "markdown",
   "metadata": {
    "deletable": false,
    "editable": false,
    "nbgrader": {
     "cell_type": "markdown",
     "checksum": "523fac3b2ba837750a658a669acdc7bb",
     "grade": false,
     "grade_id": "cell-b89125bebd675072",
     "locked": true,
     "schema_version": 3,
     "solution": false,
     "task": false
    }
   },
   "source": [
    "(iv) Experiment with commands like\n",
    "```python\n",
    "mat33 == mat33\n",
    "mat31 < mat33\n",
    "mat33 >= int_arr\n",
    "mat23 > mat33\n",
    "```\n",
    "and so on.\n",
    "\n",
    "Then:\n",
    "\n",
    "(a) Comparing two identical NumPy arrays using ```==```:\n",
    "\n",
    "<ol>\n",
    "    <li>creates the output <code>True</code>, just as if we were comparing lists or tuples;</li>\n",
    "    <li>creates an array with the same number of rows and columns, every entry of which is <code>True</code>;</li>\n",
    "    <li>generates an error message.</li>\n",
    "</ol>"
   ]
  },
  {
   "cell_type": "code",
   "execution_count": 61,
   "metadata": {
    "deletable": false,
    "nbgrader": {
     "cell_type": "code",
     "checksum": "dc7e7d8aecc3645cf76b63a5722d7192",
     "grade": false,
     "grade_id": "cell-7ad8b0120c388fca",
     "locked": false,
     "schema_version": 3,
     "solution": true,
     "task": false
    }
   },
   "outputs": [
    {
     "output_type": "stream",
     "name": "stdout",
     "text": [
      "[[ True  True  True]\n [ True  True  True]\n [ True  True  True]]\n[[False  True False]\n [ True False False]\n [False False False]]\n"
     ]
    }
   ],
   "source": [
    "question3iva_answer = 2\n",
    "\n",
    "print(mat33 == mat33)\n",
    "print(mat31 < mat33)"
   ]
  },
  {
   "cell_type": "code",
   "execution_count": 56,
   "metadata": {
    "deletable": false,
    "editable": false,
    "nbgrader": {
     "cell_type": "code",
     "checksum": "9016e05947930f574ec17bae57d3afab",
     "grade": true,
     "grade_id": "cell-48bfbbf9e696025f",
     "locked": true,
     "points": 1,
     "schema_version": 3,
     "solution": false,
     "task": false
    }
   },
   "outputs": [
    {
     "output_type": "stream",
     "name": "stdout",
     "text": [
      "test case passed!\n"
     ]
    }
   ],
   "source": [
    "# 1 Mark\n",
    "assert(question3iva_answer == question3_iva())\n",
    "print('test case passed!')"
   ]
  },
  {
   "cell_type": "markdown",
   "metadata": {
    "deletable": false,
    "editable": false,
    "nbgrader": {
     "cell_type": "markdown",
     "checksum": "59aa7fcd1d54b18cf79ea6c32724a837",
     "grade": false,
     "grade_id": "cell-da3bc6d116392b4a",
     "locked": true,
     "schema_version": 3,
     "solution": false,
     "task": false
    }
   },
   "source": [
    "(b) True or False: two numerical NumPy arrays can be compared using ```==```, ```<```, ```>```, ```<=``` or ```>=``` if and only if they can be combined using ```+```, ```-```, ```*```, ```/```, ```//``` or ```**```."
   ]
  },
  {
   "cell_type": "code",
   "execution_count": 59,
   "metadata": {
    "deletable": false,
    "nbgrader": {
     "cell_type": "code",
     "checksum": "a24d063f83becda5c28836578b7f6f16",
     "grade": false,
     "grade_id": "cell-da472d31bb8ebb72",
     "locked": false,
     "schema_version": 3,
     "solution": true,
     "task": false
    }
   },
   "outputs": [],
   "source": [
    "question3ivb_answer = True"
   ]
  },
  {
   "cell_type": "code",
   "execution_count": 60,
   "metadata": {
    "deletable": false,
    "editable": false,
    "nbgrader": {
     "cell_type": "code",
     "checksum": "f8d8597a2acae3acc5a99dc53a9b64ee",
     "grade": true,
     "grade_id": "cell-bacfe302970cbe90",
     "locked": true,
     "points": 1,
     "schema_version": 3,
     "solution": false,
     "task": false
    }
   },
   "outputs": [
    {
     "output_type": "stream",
     "name": "stdout",
     "text": [
      "test case passed!\n"
     ]
    }
   ],
   "source": [
    "# 1 Mark\n",
    "assert(question3ivb_answer == question3_ivb())\n",
    "print('test case passed!')"
   ]
  },
  {
   "cell_type": "markdown",
   "metadata": {
    "deletable": false,
    "editable": false,
    "nbgrader": {
     "cell_type": "markdown",
     "checksum": "b3858eada921b51914ff841a9041ccd3",
     "grade": false,
     "grade_id": "cell-70864ca3fb0c787d",
     "locked": true,
     "schema_version": 3,
     "solution": false,
     "task": false
    }
   },
   "source": [
    "## Question 4\n",
    "\n",
    "(a) Complete the following statement. Once NumPy has been imported as `np`, the values of\n",
    "```python\n",
    "np.linspace(7, 101, 95)\n",
    "```\n",
    "and\n",
    "```python\n",
    "np.arange(7, 102, 1)\n",
    "```\n",
    "are\n",
    "\n",
    "<ol>\n",
    "    <li>identical in every respect;</li>\n",
    "    <li>equal (in all components), but not quite identical;</li>\n",
    "    <li>neither equal nor identical.</li>\n",
    "</ol>"
   ]
  },
  {
   "cell_type": "code",
   "execution_count": 66,
   "metadata": {
    "deletable": false,
    "nbgrader": {
     "cell_type": "code",
     "checksum": "401668c8c7d61cf30ffb4818287886e2",
     "grade": false,
     "grade_id": "cell-62e2d095683626b7",
     "locked": false,
     "schema_version": 3,
     "solution": true,
     "task": false
    }
   },
   "outputs": [
    {
     "output_type": "execute_result",
     "data": {
      "text/plain": [
       "array([ True,  True,  True,  True,  True,  True,  True,  True,  True,\n",
       "        True,  True,  True,  True,  True,  True,  True,  True,  True,\n",
       "        True,  True,  True,  True,  True,  True,  True,  True,  True,\n",
       "        True,  True,  True,  True,  True,  True,  True,  True,  True,\n",
       "        True,  True,  True,  True,  True,  True,  True,  True,  True,\n",
       "        True,  True,  True,  True,  True,  True,  True,  True,  True,\n",
       "        True,  True,  True,  True,  True,  True,  True,  True,  True,\n",
       "        True,  True,  True,  True,  True,  True,  True,  True,  True,\n",
       "        True,  True,  True,  True,  True,  True,  True,  True,  True,\n",
       "        True,  True,  True,  True,  True,  True,  True,  True,  True,\n",
       "        True,  True,  True,  True,  True])"
      ]
     },
     "metadata": {},
     "execution_count": 66
    }
   ],
   "source": [
    "question4a_answer = 2\n",
    "\n",
    "np.linspace(7, 101, 95) == np.arange(7, 102, 1)"
   ]
  },
  {
   "cell_type": "code",
   "execution_count": 65,
   "metadata": {
    "deletable": false,
    "editable": false,
    "nbgrader": {
     "cell_type": "code",
     "checksum": "eee1e447acc10c4838c560ac3e4e0509",
     "grade": true,
     "grade_id": "cell-57aa3854b3070f04",
     "locked": true,
     "points": 1,
     "schema_version": 3,
     "solution": false,
     "task": false
    }
   },
   "outputs": [
    {
     "output_type": "stream",
     "name": "stdout",
     "text": [
      "test case passed!\n"
     ]
    }
   ],
   "source": [
    "# 1 Mark\n",
    "assert(question4a_answer == question4_a())\n",
    "print('test case passed!')"
   ]
  },
  {
   "cell_type": "markdown",
   "metadata": {
    "deletable": false,
    "editable": false,
    "nbgrader": {
     "cell_type": "markdown",
     "checksum": "bd2370d8b5b3d0f51685a1c610e8f038",
     "grade": false,
     "grade_id": "cell-896c49e7884c6c07",
     "locked": true,
     "schema_version": 3,
     "solution": false,
     "task": false
    }
   },
   "source": [
    "(b) Complete the following statement. Once NumPy has been imported as `np`, the values of\n",
    "```python\n",
    "np.sqrt(np.linspace(7, 101, 95))\n",
    "```\n",
    "and\n",
    "```python\n",
    "np.sqrt(np.arange(7, 102, 1))\n",
    "```\n",
    "are\n",
    "\n",
    "<ol>\n",
    "    <li>identical in every respect;</li>\n",
    "    <li>equal (in all components), but not quite identical;</li>\n",
    "    <li>neither equal nor identical.</li>\n",
    "</ol>"
   ]
  },
  {
   "cell_type": "code",
   "execution_count": 71,
   "metadata": {
    "deletable": false,
    "nbgrader": {
     "cell_type": "code",
     "checksum": "5264993350c92f068b550851b0f7d020",
     "grade": false,
     "grade_id": "cell-c97303140529b98e",
     "locked": false,
     "schema_version": 3,
     "solution": true,
     "task": false
    }
   },
   "outputs": [
    {
     "output_type": "execute_result",
     "data": {
      "text/plain": [
       "array([ True,  True,  True,  True,  True,  True,  True,  True,  True,\n",
       "        True,  True,  True,  True,  True,  True,  True,  True,  True,\n",
       "        True,  True,  True,  True,  True,  True,  True,  True,  True,\n",
       "        True,  True,  True,  True,  True,  True,  True,  True,  True,\n",
       "        True,  True,  True,  True,  True,  True,  True,  True,  True,\n",
       "        True,  True,  True,  True,  True,  True,  True,  True,  True,\n",
       "        True,  True,  True,  True,  True,  True,  True,  True,  True,\n",
       "        True,  True,  True,  True,  True,  True,  True,  True,  True,\n",
       "        True,  True,  True,  True,  True,  True,  True,  True,  True,\n",
       "        True,  True,  True,  True,  True,  True,  True,  True,  True,\n",
       "        True,  True,  True,  True,  True])"
      ]
     },
     "metadata": {},
     "execution_count": 71
    }
   ],
   "source": [
    "question4b_answer = 1\n",
    "\n",
    "np.sqrt(np.linspace(7, 101, 95)) == np.sqrt(np.arange(7, 102, 1))"
   ]
  },
  {
   "cell_type": "code",
   "execution_count": 72,
   "metadata": {
    "deletable": false,
    "editable": false,
    "nbgrader": {
     "cell_type": "code",
     "checksum": "7c8d78747e950e3a7f8c1eb876de3f74",
     "grade": true,
     "grade_id": "cell-d8ec207d1d90bfc5",
     "locked": true,
     "points": 1,
     "schema_version": 3,
     "solution": false,
     "task": false
    }
   },
   "outputs": [
    {
     "output_type": "stream",
     "name": "stdout",
     "text": [
      "test case passed!\n"
     ]
    }
   ],
   "source": [
    "# 1 Mark\n",
    "assert(question4b_answer == question4_b())\n",
    "print('test case passed!')"
   ]
  },
  {
   "cell_type": "markdown",
   "metadata": {
    "deletable": false,
    "editable": false,
    "nbgrader": {
     "cell_type": "markdown",
     "checksum": "afc1190215d1efed98c29284722702bd",
     "grade": false,
     "grade_id": "cell-92b73f311dcc60dc",
     "locked": true,
     "schema_version": 3,
     "solution": false,
     "task": false
    }
   },
   "source": [
    "(c) Using either `linspace` or `arange`, create a 1D NumPy array called `theta_array` consisting of 401 equally-spaced values between $0$ and $2\\,\\pi$.\n",
    "\n",
    "Then create another 1D NumPy array called `x_array` consisting of $\\cos(3\\,\\theta)$ for each $\\theta$ in `theta_array` (you shouldn't need to use a loop or a comprehension for this, though autograding won't be able to tell if you have).\n",
    "\n",
    "Create, too, a 1D NumPy array called `y_array` consisting of $\\sin(5\\,\\theta)$ for each $\\theta$ in `theta_array`.\n",
    "\n",
    "Finally, create a plot of `x_array` (on the horizontal axis) against `y_array` (on the vertical axis). Autograding won't be able to tell if you've done this right."
   ]
  },
  {
   "cell_type": "code",
   "execution_count": 73,
   "metadata": {
    "deletable": false,
    "nbgrader": {
     "cell_type": "code",
     "checksum": "d2946126148d56703ed894efd100a400",
     "grade": false,
     "grade_id": "cell-af56d68000c9fd5f",
     "locked": false,
     "schema_version": 3,
     "solution": true,
     "task": false
    }
   },
   "outputs": [
    {
     "output_type": "execute_result",
     "data": {
      "text/plain": [
       "[<matplotlib.lines.Line2D at 0x1d3752c3bc8>]"
      ]
     },
     "metadata": {},
     "execution_count": 73
    },
    {
     "output_type": "display_data",
     "data": {
      "text/plain": "<Figure size 432x288 with 1 Axes>",
      "image/svg+xml": "<?xml version=\"1.0\" encoding=\"utf-8\" standalone=\"no\"?>\r\n<!DOCTYPE svg PUBLIC \"-//W3C//DTD SVG 1.1//EN\"\r\n  \"http://www.w3.org/Graphics/SVG/1.1/DTD/svg11.dtd\">\r\n<!-- Created with matplotlib (https://matplotlib.org/) -->\r\n<svg height=\"248.518125pt\" version=\"1.1\" viewBox=\"0 0 386.845312 248.518125\" width=\"386.845312pt\" xmlns=\"http://www.w3.org/2000/svg\" xmlns:xlink=\"http://www.w3.org/1999/xlink\">\r\n <defs>\r\n  <style type=\"text/css\">\r\n*{stroke-linecap:butt;stroke-linejoin:round;}\r\n  </style>\r\n </defs>\r\n <g id=\"figure_1\">\r\n  <g id=\"patch_1\">\r\n   <path d=\"M 0 248.518125 \r\nL 386.845312 248.518125 \r\nL 386.845312 0 \r\nL 0 0 \r\nz\r\n\" style=\"fill:none;\"/>\r\n  </g>\r\n  <g id=\"axes_1\">\r\n   <g id=\"patch_2\">\r\n    <path d=\"M 44.845313 224.64 \r\nL 379.645313 224.64 \r\nL 379.645313 7.2 \r\nL 44.845313 7.2 \r\nz\r\n\" style=\"fill:#ffffff;\"/>\r\n   </g>\r\n   <g id=\"matplotlib.axis_1\">\r\n    <g id=\"xtick_1\">\r\n     <g id=\"line2d_1\">\r\n      <defs>\r\n       <path d=\"M 0 0 \r\nL 0 3.5 \r\n\" id=\"m5df700c407\" style=\"stroke:#000000;stroke-width:0.8;\"/>\r\n      </defs>\r\n      <g>\r\n       <use style=\"stroke:#000000;stroke-width:0.8;\" x=\"60.063494\" xlink:href=\"#m5df700c407\" y=\"224.64\"/>\r\n      </g>\r\n     </g>\r\n     <g id=\"text_1\">\r\n      <!-- −1.00 -->\r\n      <defs>\r\n       <path d=\"M 10.59375 35.5 \r\nL 73.1875 35.5 \r\nL 73.1875 27.203125 \r\nL 10.59375 27.203125 \r\nz\r\n\" id=\"DejaVuSans-8722\"/>\r\n       <path d=\"M 12.40625 8.296875 \r\nL 28.515625 8.296875 \r\nL 28.515625 63.921875 \r\nL 10.984375 60.40625 \r\nL 10.984375 69.390625 \r\nL 28.421875 72.90625 \r\nL 38.28125 72.90625 \r\nL 38.28125 8.296875 \r\nL 54.390625 8.296875 \r\nL 54.390625 0 \r\nL 12.40625 0 \r\nz\r\n\" id=\"DejaVuSans-49\"/>\r\n       <path d=\"M 10.6875 12.40625 \r\nL 21 12.40625 \r\nL 21 0 \r\nL 10.6875 0 \r\nz\r\n\" id=\"DejaVuSans-46\"/>\r\n       <path d=\"M 31.78125 66.40625 \r\nQ 24.171875 66.40625 20.328125 58.90625 \r\nQ 16.5 51.421875 16.5 36.375 \r\nQ 16.5 21.390625 20.328125 13.890625 \r\nQ 24.171875 6.390625 31.78125 6.390625 \r\nQ 39.453125 6.390625 43.28125 13.890625 \r\nQ 47.125 21.390625 47.125 36.375 \r\nQ 47.125 51.421875 43.28125 58.90625 \r\nQ 39.453125 66.40625 31.78125 66.40625 \r\nz\r\nM 31.78125 74.21875 \r\nQ 44.046875 74.21875 50.515625 64.515625 \r\nQ 56.984375 54.828125 56.984375 36.375 \r\nQ 56.984375 17.96875 50.515625 8.265625 \r\nQ 44.046875 -1.421875 31.78125 -1.421875 \r\nQ 19.53125 -1.421875 13.0625 8.265625 \r\nQ 6.59375 17.96875 6.59375 36.375 \r\nQ 6.59375 54.828125 13.0625 64.515625 \r\nQ 19.53125 74.21875 31.78125 74.21875 \r\nz\r\n\" id=\"DejaVuSans-48\"/>\r\n      </defs>\r\n      <g transform=\"translate(44.740838 239.238437)scale(0.1 -0.1)\">\r\n       <use xlink:href=\"#DejaVuSans-8722\"/>\r\n       <use x=\"83.789062\" xlink:href=\"#DejaVuSans-49\"/>\r\n       <use x=\"147.412109\" xlink:href=\"#DejaVuSans-46\"/>\r\n       <use x=\"179.199219\" xlink:href=\"#DejaVuSans-48\"/>\r\n       <use x=\"242.822266\" xlink:href=\"#DejaVuSans-48\"/>\r\n      </g>\r\n     </g>\r\n    </g>\r\n    <g id=\"xtick_2\">\r\n     <g id=\"line2d_2\">\r\n      <g>\r\n       <use style=\"stroke:#000000;stroke-width:0.8;\" x=\"98.108949\" xlink:href=\"#m5df700c407\" y=\"224.64\"/>\r\n      </g>\r\n     </g>\r\n     <g id=\"text_2\">\r\n      <!-- −0.75 -->\r\n      <defs>\r\n       <path d=\"M 8.203125 72.90625 \r\nL 55.078125 72.90625 \r\nL 55.078125 68.703125 \r\nL 28.609375 0 \r\nL 18.3125 0 \r\nL 43.21875 64.59375 \r\nL 8.203125 64.59375 \r\nz\r\n\" id=\"DejaVuSans-55\"/>\r\n       <path d=\"M 10.796875 72.90625 \r\nL 49.515625 72.90625 \r\nL 49.515625 64.59375 \r\nL 19.828125 64.59375 \r\nL 19.828125 46.734375 \r\nQ 21.96875 47.46875 24.109375 47.828125 \r\nQ 26.265625 48.1875 28.421875 48.1875 \r\nQ 40.625 48.1875 47.75 41.5 \r\nQ 54.890625 34.8125 54.890625 23.390625 \r\nQ 54.890625 11.625 47.5625 5.09375 \r\nQ 40.234375 -1.421875 26.90625 -1.421875 \r\nQ 22.3125 -1.421875 17.546875 -0.640625 \r\nQ 12.796875 0.140625 7.71875 1.703125 \r\nL 7.71875 11.625 \r\nQ 12.109375 9.234375 16.796875 8.0625 \r\nQ 21.484375 6.890625 26.703125 6.890625 \r\nQ 35.15625 6.890625 40.078125 11.328125 \r\nQ 45.015625 15.765625 45.015625 23.390625 \r\nQ 45.015625 31 40.078125 35.4375 \r\nQ 35.15625 39.890625 26.703125 39.890625 \r\nQ 22.75 39.890625 18.8125 39.015625 \r\nQ 14.890625 38.140625 10.796875 36.28125 \r\nz\r\n\" id=\"DejaVuSans-53\"/>\r\n      </defs>\r\n      <g transform=\"translate(82.786293 239.238437)scale(0.1 -0.1)\">\r\n       <use xlink:href=\"#DejaVuSans-8722\"/>\r\n       <use x=\"83.789062\" xlink:href=\"#DejaVuSans-48\"/>\r\n       <use x=\"147.412109\" xlink:href=\"#DejaVuSans-46\"/>\r\n       <use x=\"179.199219\" xlink:href=\"#DejaVuSans-55\"/>\r\n       <use x=\"242.822266\" xlink:href=\"#DejaVuSans-53\"/>\r\n      </g>\r\n     </g>\r\n    </g>\r\n    <g id=\"xtick_3\">\r\n     <g id=\"line2d_3\">\r\n      <g>\r\n       <use style=\"stroke:#000000;stroke-width:0.8;\" x=\"136.154403\" xlink:href=\"#m5df700c407\" y=\"224.64\"/>\r\n      </g>\r\n     </g>\r\n     <g id=\"text_3\">\r\n      <!-- −0.50 -->\r\n      <g transform=\"translate(120.831747 239.238437)scale(0.1 -0.1)\">\r\n       <use xlink:href=\"#DejaVuSans-8722\"/>\r\n       <use x=\"83.789062\" xlink:href=\"#DejaVuSans-48\"/>\r\n       <use x=\"147.412109\" xlink:href=\"#DejaVuSans-46\"/>\r\n       <use x=\"179.199219\" xlink:href=\"#DejaVuSans-53\"/>\r\n       <use x=\"242.822266\" xlink:href=\"#DejaVuSans-48\"/>\r\n      </g>\r\n     </g>\r\n    </g>\r\n    <g id=\"xtick_4\">\r\n     <g id=\"line2d_4\">\r\n      <g>\r\n       <use style=\"stroke:#000000;stroke-width:0.8;\" x=\"174.199858\" xlink:href=\"#m5df700c407\" y=\"224.64\"/>\r\n      </g>\r\n     </g>\r\n     <g id=\"text_4\">\r\n      <!-- −0.25 -->\r\n      <defs>\r\n       <path d=\"M 19.1875 8.296875 \r\nL 53.609375 8.296875 \r\nL 53.609375 0 \r\nL 7.328125 0 \r\nL 7.328125 8.296875 \r\nQ 12.9375 14.109375 22.625 23.890625 \r\nQ 32.328125 33.6875 34.8125 36.53125 \r\nQ 39.546875 41.84375 41.421875 45.53125 \r\nQ 43.3125 49.21875 43.3125 52.78125 \r\nQ 43.3125 58.59375 39.234375 62.25 \r\nQ 35.15625 65.921875 28.609375 65.921875 \r\nQ 23.96875 65.921875 18.8125 64.3125 \r\nQ 13.671875 62.703125 7.8125 59.421875 \r\nL 7.8125 69.390625 \r\nQ 13.765625 71.78125 18.9375 73 \r\nQ 24.125 74.21875 28.421875 74.21875 \r\nQ 39.75 74.21875 46.484375 68.546875 \r\nQ 53.21875 62.890625 53.21875 53.421875 \r\nQ 53.21875 48.921875 51.53125 44.890625 \r\nQ 49.859375 40.875 45.40625 35.40625 \r\nQ 44.1875 33.984375 37.640625 27.21875 \r\nQ 31.109375 20.453125 19.1875 8.296875 \r\nz\r\n\" id=\"DejaVuSans-50\"/>\r\n      </defs>\r\n      <g transform=\"translate(158.877202 239.238437)scale(0.1 -0.1)\">\r\n       <use xlink:href=\"#DejaVuSans-8722\"/>\r\n       <use x=\"83.789062\" xlink:href=\"#DejaVuSans-48\"/>\r\n       <use x=\"147.412109\" xlink:href=\"#DejaVuSans-46\"/>\r\n       <use x=\"179.199219\" xlink:href=\"#DejaVuSans-50\"/>\r\n       <use x=\"242.822266\" xlink:href=\"#DejaVuSans-53\"/>\r\n      </g>\r\n     </g>\r\n    </g>\r\n    <g id=\"xtick_5\">\r\n     <g id=\"line2d_5\">\r\n      <g>\r\n       <use style=\"stroke:#000000;stroke-width:0.8;\" x=\"212.245313\" xlink:href=\"#m5df700c407\" y=\"224.64\"/>\r\n      </g>\r\n     </g>\r\n     <g id=\"text_5\">\r\n      <!-- 0.00 -->\r\n      <g transform=\"translate(201.1125 239.238437)scale(0.1 -0.1)\">\r\n       <use xlink:href=\"#DejaVuSans-48\"/>\r\n       <use x=\"63.623047\" xlink:href=\"#DejaVuSans-46\"/>\r\n       <use x=\"95.410156\" xlink:href=\"#DejaVuSans-48\"/>\r\n       <use x=\"159.033203\" xlink:href=\"#DejaVuSans-48\"/>\r\n      </g>\r\n     </g>\r\n    </g>\r\n    <g id=\"xtick_6\">\r\n     <g id=\"line2d_6\">\r\n      <g>\r\n       <use style=\"stroke:#000000;stroke-width:0.8;\" x=\"250.290767\" xlink:href=\"#m5df700c407\" y=\"224.64\"/>\r\n      </g>\r\n     </g>\r\n     <g id=\"text_6\">\r\n      <!-- 0.25 -->\r\n      <g transform=\"translate(239.157955 239.238437)scale(0.1 -0.1)\">\r\n       <use xlink:href=\"#DejaVuSans-48\"/>\r\n       <use x=\"63.623047\" xlink:href=\"#DejaVuSans-46\"/>\r\n       <use x=\"95.410156\" xlink:href=\"#DejaVuSans-50\"/>\r\n       <use x=\"159.033203\" xlink:href=\"#DejaVuSans-53\"/>\r\n      </g>\r\n     </g>\r\n    </g>\r\n    <g id=\"xtick_7\">\r\n     <g id=\"line2d_7\">\r\n      <g>\r\n       <use style=\"stroke:#000000;stroke-width:0.8;\" x=\"288.336222\" xlink:href=\"#m5df700c407\" y=\"224.64\"/>\r\n      </g>\r\n     </g>\r\n     <g id=\"text_7\">\r\n      <!-- 0.50 -->\r\n      <g transform=\"translate(277.203409 239.238437)scale(0.1 -0.1)\">\r\n       <use xlink:href=\"#DejaVuSans-48\"/>\r\n       <use x=\"63.623047\" xlink:href=\"#DejaVuSans-46\"/>\r\n       <use x=\"95.410156\" xlink:href=\"#DejaVuSans-53\"/>\r\n       <use x=\"159.033203\" xlink:href=\"#DejaVuSans-48\"/>\r\n      </g>\r\n     </g>\r\n    </g>\r\n    <g id=\"xtick_8\">\r\n     <g id=\"line2d_8\">\r\n      <g>\r\n       <use style=\"stroke:#000000;stroke-width:0.8;\" x=\"326.381676\" xlink:href=\"#m5df700c407\" y=\"224.64\"/>\r\n      </g>\r\n     </g>\r\n     <g id=\"text_8\">\r\n      <!-- 0.75 -->\r\n      <g transform=\"translate(315.248864 239.238437)scale(0.1 -0.1)\">\r\n       <use xlink:href=\"#DejaVuSans-48\"/>\r\n       <use x=\"63.623047\" xlink:href=\"#DejaVuSans-46\"/>\r\n       <use x=\"95.410156\" xlink:href=\"#DejaVuSans-55\"/>\r\n       <use x=\"159.033203\" xlink:href=\"#DejaVuSans-53\"/>\r\n      </g>\r\n     </g>\r\n    </g>\r\n    <g id=\"xtick_9\">\r\n     <g id=\"line2d_9\">\r\n      <g>\r\n       <use style=\"stroke:#000000;stroke-width:0.8;\" x=\"364.427131\" xlink:href=\"#m5df700c407\" y=\"224.64\"/>\r\n      </g>\r\n     </g>\r\n     <g id=\"text_9\">\r\n      <!-- 1.00 -->\r\n      <g transform=\"translate(353.294318 239.238437)scale(0.1 -0.1)\">\r\n       <use xlink:href=\"#DejaVuSans-49\"/>\r\n       <use x=\"63.623047\" xlink:href=\"#DejaVuSans-46\"/>\r\n       <use x=\"95.410156\" xlink:href=\"#DejaVuSans-48\"/>\r\n       <use x=\"159.033203\" xlink:href=\"#DejaVuSans-48\"/>\r\n      </g>\r\n     </g>\r\n    </g>\r\n   </g>\r\n   <g id=\"matplotlib.axis_2\">\r\n    <g id=\"ytick_1\">\r\n     <g id=\"line2d_10\">\r\n      <defs>\r\n       <path d=\"M 0 0 \r\nL -3.5 0 \r\n\" id=\"m2d678f92a2\" style=\"stroke:#000000;stroke-width:0.8;\"/>\r\n      </defs>\r\n      <g>\r\n       <use style=\"stroke:#000000;stroke-width:0.8;\" x=\"44.845313\" xlink:href=\"#m2d678f92a2\" y=\"214.756364\"/>\r\n      </g>\r\n     </g>\r\n     <g id=\"text_10\">\r\n      <!-- −1.00 -->\r\n      <g transform=\"translate(7.2 218.555582)scale(0.1 -0.1)\">\r\n       <use xlink:href=\"#DejaVuSans-8722\"/>\r\n       <use x=\"83.789062\" xlink:href=\"#DejaVuSans-49\"/>\r\n       <use x=\"147.412109\" xlink:href=\"#DejaVuSans-46\"/>\r\n       <use x=\"179.199219\" xlink:href=\"#DejaVuSans-48\"/>\r\n       <use x=\"242.822266\" xlink:href=\"#DejaVuSans-48\"/>\r\n      </g>\r\n     </g>\r\n    </g>\r\n    <g id=\"ytick_2\">\r\n     <g id=\"line2d_11\">\r\n      <g>\r\n       <use style=\"stroke:#000000;stroke-width:0.8;\" x=\"44.845313\" xlink:href=\"#m2d678f92a2\" y=\"190.047273\"/>\r\n      </g>\r\n     </g>\r\n     <g id=\"text_11\">\r\n      <!-- −0.75 -->\r\n      <g transform=\"translate(7.2 193.846491)scale(0.1 -0.1)\">\r\n       <use xlink:href=\"#DejaVuSans-8722\"/>\r\n       <use x=\"83.789062\" xlink:href=\"#DejaVuSans-48\"/>\r\n       <use x=\"147.412109\" xlink:href=\"#DejaVuSans-46\"/>\r\n       <use x=\"179.199219\" xlink:href=\"#DejaVuSans-55\"/>\r\n       <use x=\"242.822266\" xlink:href=\"#DejaVuSans-53\"/>\r\n      </g>\r\n     </g>\r\n    </g>\r\n    <g id=\"ytick_3\">\r\n     <g id=\"line2d_12\">\r\n      <g>\r\n       <use style=\"stroke:#000000;stroke-width:0.8;\" x=\"44.845313\" xlink:href=\"#m2d678f92a2\" y=\"165.338182\"/>\r\n      </g>\r\n     </g>\r\n     <g id=\"text_12\">\r\n      <!-- −0.50 -->\r\n      <g transform=\"translate(7.2 169.137401)scale(0.1 -0.1)\">\r\n       <use xlink:href=\"#DejaVuSans-8722\"/>\r\n       <use x=\"83.789062\" xlink:href=\"#DejaVuSans-48\"/>\r\n       <use x=\"147.412109\" xlink:href=\"#DejaVuSans-46\"/>\r\n       <use x=\"179.199219\" xlink:href=\"#DejaVuSans-53\"/>\r\n       <use x=\"242.822266\" xlink:href=\"#DejaVuSans-48\"/>\r\n      </g>\r\n     </g>\r\n    </g>\r\n    <g id=\"ytick_4\">\r\n     <g id=\"line2d_13\">\r\n      <g>\r\n       <use style=\"stroke:#000000;stroke-width:0.8;\" x=\"44.845313\" xlink:href=\"#m2d678f92a2\" y=\"140.629091\"/>\r\n      </g>\r\n     </g>\r\n     <g id=\"text_13\">\r\n      <!-- −0.25 -->\r\n      <g transform=\"translate(7.2 144.42831)scale(0.1 -0.1)\">\r\n       <use xlink:href=\"#DejaVuSans-8722\"/>\r\n       <use x=\"83.789062\" xlink:href=\"#DejaVuSans-48\"/>\r\n       <use x=\"147.412109\" xlink:href=\"#DejaVuSans-46\"/>\r\n       <use x=\"179.199219\" xlink:href=\"#DejaVuSans-50\"/>\r\n       <use x=\"242.822266\" xlink:href=\"#DejaVuSans-53\"/>\r\n      </g>\r\n     </g>\r\n    </g>\r\n    <g id=\"ytick_5\">\r\n     <g id=\"line2d_14\">\r\n      <g>\r\n       <use style=\"stroke:#000000;stroke-width:0.8;\" x=\"44.845313\" xlink:href=\"#m2d678f92a2\" y=\"115.92\"/>\r\n      </g>\r\n     </g>\r\n     <g id=\"text_14\">\r\n      <!-- 0.00 -->\r\n      <g transform=\"translate(15.579688 119.719219)scale(0.1 -0.1)\">\r\n       <use xlink:href=\"#DejaVuSans-48\"/>\r\n       <use x=\"63.623047\" xlink:href=\"#DejaVuSans-46\"/>\r\n       <use x=\"95.410156\" xlink:href=\"#DejaVuSans-48\"/>\r\n       <use x=\"159.033203\" xlink:href=\"#DejaVuSans-48\"/>\r\n      </g>\r\n     </g>\r\n    </g>\r\n    <g id=\"ytick_6\">\r\n     <g id=\"line2d_15\">\r\n      <g>\r\n       <use style=\"stroke:#000000;stroke-width:0.8;\" x=\"44.845313\" xlink:href=\"#m2d678f92a2\" y=\"91.210909\"/>\r\n      </g>\r\n     </g>\r\n     <g id=\"text_15\">\r\n      <!-- 0.25 -->\r\n      <g transform=\"translate(15.579688 95.010128)scale(0.1 -0.1)\">\r\n       <use xlink:href=\"#DejaVuSans-48\"/>\r\n       <use x=\"63.623047\" xlink:href=\"#DejaVuSans-46\"/>\r\n       <use x=\"95.410156\" xlink:href=\"#DejaVuSans-50\"/>\r\n       <use x=\"159.033203\" xlink:href=\"#DejaVuSans-53\"/>\r\n      </g>\r\n     </g>\r\n    </g>\r\n    <g id=\"ytick_7\">\r\n     <g id=\"line2d_16\">\r\n      <g>\r\n       <use style=\"stroke:#000000;stroke-width:0.8;\" x=\"44.845313\" xlink:href=\"#m2d678f92a2\" y=\"66.501818\"/>\r\n      </g>\r\n     </g>\r\n     <g id=\"text_16\">\r\n      <!-- 0.50 -->\r\n      <g transform=\"translate(15.579688 70.301037)scale(0.1 -0.1)\">\r\n       <use xlink:href=\"#DejaVuSans-48\"/>\r\n       <use x=\"63.623047\" xlink:href=\"#DejaVuSans-46\"/>\r\n       <use x=\"95.410156\" xlink:href=\"#DejaVuSans-53\"/>\r\n       <use x=\"159.033203\" xlink:href=\"#DejaVuSans-48\"/>\r\n      </g>\r\n     </g>\r\n    </g>\r\n    <g id=\"ytick_8\">\r\n     <g id=\"line2d_17\">\r\n      <g>\r\n       <use style=\"stroke:#000000;stroke-width:0.8;\" x=\"44.845313\" xlink:href=\"#m2d678f92a2\" y=\"41.792727\"/>\r\n      </g>\r\n     </g>\r\n     <g id=\"text_17\">\r\n      <!-- 0.75 -->\r\n      <g transform=\"translate(15.579688 45.591946)scale(0.1 -0.1)\">\r\n       <use xlink:href=\"#DejaVuSans-48\"/>\r\n       <use x=\"63.623047\" xlink:href=\"#DejaVuSans-46\"/>\r\n       <use x=\"95.410156\" xlink:href=\"#DejaVuSans-55\"/>\r\n       <use x=\"159.033203\" xlink:href=\"#DejaVuSans-53\"/>\r\n      </g>\r\n     </g>\r\n    </g>\r\n    <g id=\"ytick_9\">\r\n     <g id=\"line2d_18\">\r\n      <g>\r\n       <use style=\"stroke:#000000;stroke-width:0.8;\" x=\"44.845313\" xlink:href=\"#m2d678f92a2\" y=\"17.083636\"/>\r\n      </g>\r\n     </g>\r\n     <g id=\"text_18\">\r\n      <!-- 1.00 -->\r\n      <g transform=\"translate(15.579688 20.882855)scale(0.1 -0.1)\">\r\n       <use xlink:href=\"#DejaVuSans-49\"/>\r\n       <use x=\"63.623047\" xlink:href=\"#DejaVuSans-46\"/>\r\n       <use x=\"95.410156\" xlink:href=\"#DejaVuSans-48\"/>\r\n       <use x=\"159.033203\" xlink:href=\"#DejaVuSans-48\"/>\r\n      </g>\r\n     </g>\r\n    </g>\r\n   </g>\r\n   <g id=\"line2d_19\">\r\n    <path clip-path=\"url(#p1130c11352)\" d=\"M 364.427131 115.92 \r\nL 364.25819 108.165388 \r\nL 363.751742 100.458586 \r\nL 362.908913 92.847109 \r\nL 361.731572 85.377884 \r\nL 360.222335 78.096961 \r\nL 358.384552 71.04923 \r\nL 356.222303 64.278142 \r\nL 353.740389 57.825443 \r\nL 350.94432 51.730917 \r\nL 347.840305 46.032137 \r\nL 344.435236 40.764239 \r\nL 340.736671 35.959702 \r\nL 336.752824 31.648147 \r\nL 332.492539 27.856155 \r\nL 327.965275 24.607107 \r\nL 323.181084 21.921032 \r\nL 318.150587 19.814493 \r\nL 312.884955 18.300476 \r\nL 307.395877 17.388316 \r\nL 301.695541 17.083636 \r\nL 295.796603 17.388316 \r\nL 289.712161 18.300476 \r\nL 283.455722 19.814493 \r\nL 277.041179 21.921032 \r\nL 270.482773 24.607107 \r\nL 263.795065 27.856155 \r\nL 256.992904 31.648147 \r\nL 250.091392 35.959702 \r\nL 243.105852 40.764239 \r\nL 236.051794 46.032137 \r\nL 228.944879 51.730917 \r\nL 221.800888 57.825443 \r\nL 214.635681 64.278142 \r\nL 207.465166 71.04923 \r\nL 200.305265 78.096961 \r\nL 193.171873 85.377884 \r\nL 186.080829 92.847109 \r\nL 179.047877 100.458586 \r\nL 165.218544 115.92 \r\nL 151.806624 131.381414 \r\nL 115.240971 174.014557 \r\nL 104.636517 185.807863 \r\nL 99.686908 191.075761 \r\nL 94.987206 195.880298 \r\nL 90.547847 200.191853 \r\nL 86.378687 203.983845 \r\nL 82.488982 207.232893 \r\nL 78.887369 209.918968 \r\nL 75.581843 212.025507 \r\nL 72.579745 213.539524 \r\nL 69.887739 214.451684 \r\nL 67.511803 214.756364 \r\nL 65.457211 214.451684 \r\nL 63.728525 213.539524 \r\nL 62.329584 212.025507 \r\nL 61.263493 209.918968 \r\nL 60.53262 207.232893 \r\nL 60.138587 203.983845 \r\nL 60.082269 200.191853 \r\nL 60.36379 195.880298 \r\nL 60.982527 191.075761 \r\nL 61.937105 185.807863 \r\nL 63.225405 180.109083 \r\nL 64.844566 174.014557 \r\nL 66.790994 167.561858 \r\nL 69.060366 160.79077 \r\nL 71.647645 153.743039 \r\nL 74.547087 146.462116 \r\nL 77.752252 138.992891 \r\nL 81.256026 131.381414 \r\nL 85.050629 123.674612 \r\nL 89.127635 115.92 \r\nL 93.477994 108.165388 \r\nL 98.092046 100.458586 \r\nL 102.959547 92.847109 \r\nL 108.069689 85.377884 \r\nL 113.411128 78.096961 \r\nL 118.972003 71.04923 \r\nL 124.739968 64.278142 \r\nL 130.702217 57.825443 \r\nL 136.845512 51.730917 \r\nL 143.156213 46.032137 \r\nL 149.620309 40.764239 \r\nL 156.223449 35.959702 \r\nL 162.950971 31.648147 \r\nL 169.787939 27.856155 \r\nL 176.719173 24.607107 \r\nL 183.729283 21.921032 \r\nL 190.802707 19.814493 \r\nL 197.923738 18.300476 \r\nL 205.076567 17.388316 \r\nL 212.245313 17.083636 \r\nL 219.414058 17.388316 \r\nL 226.566887 18.300476 \r\nL 233.687918 19.814493 \r\nL 240.761342 21.921032 \r\nL 247.771452 24.607107 \r\nL 254.702686 27.856155 \r\nL 261.539654 31.648147 \r\nL 268.267176 35.959702 \r\nL 274.870316 40.764239 \r\nL 281.334412 46.032137 \r\nL 287.645113 51.730917 \r\nL 293.788408 57.825443 \r\nL 299.750657 64.278142 \r\nL 305.518622 71.04923 \r\nL 311.079497 78.096961 \r\nL 316.420936 85.377884 \r\nL 321.531078 92.847109 \r\nL 326.398579 100.458586 \r\nL 331.012631 108.165388 \r\nL 335.36299 115.92 \r\nL 339.439996 123.674612 \r\nL 343.234599 131.381414 \r\nL 346.738373 138.992891 \r\nL 349.943538 146.462116 \r\nL 352.84298 153.743039 \r\nL 355.430259 160.79077 \r\nL 357.699631 167.561858 \r\nL 359.646059 174.014557 \r\nL 361.26522 180.109083 \r\nL 362.55352 185.807863 \r\nL 363.508098 191.075761 \r\nL 364.126835 195.880298 \r\nL 364.408356 200.191853 \r\nL 364.352038 203.983845 \r\nL 363.958005 207.232893 \r\nL 363.227132 209.918968 \r\nL 362.161041 212.025507 \r\nL 360.7621 213.539524 \r\nL 359.033414 214.451684 \r\nL 356.978822 214.756364 \r\nL 354.602886 214.451684 \r\nL 351.91088 213.539524 \r\nL 348.908782 212.025507 \r\nL 345.603256 209.918968 \r\nL 342.001643 207.232893 \r\nL 338.111938 203.983845 \r\nL 333.942778 200.191853 \r\nL 329.503419 195.880298 \r\nL 324.803717 191.075761 \r\nL 319.854108 185.807863 \r\nL 309.249654 174.014557 \r\nL 297.784183 160.79077 \r\nL 266.037757 123.674612 \r\nL 252.401993 108.165388 \r\nL 245.442748 100.458586 \r\nL 238.409796 92.847109 \r\nL 231.318752 85.377884 \r\nL 224.18536 78.096961 \r\nL 217.025459 71.04923 \r\nL 209.854944 64.278142 \r\nL 202.689737 57.825443 \r\nL 195.545746 51.730917 \r\nL 188.438831 46.032137 \r\nL 181.384773 40.764239 \r\nL 174.399233 35.959702 \r\nL 167.497721 31.648147 \r\nL 160.69556 27.856155 \r\nL 154.007852 24.607107 \r\nL 147.449446 21.921032 \r\nL 141.034903 19.814493 \r\nL 134.778464 18.300476 \r\nL 128.694022 17.388316 \r\nL 122.795084 17.083636 \r\nL 117.094748 17.388316 \r\nL 111.60567 18.300476 \r\nL 106.340038 19.814493 \r\nL 101.309541 21.921032 \r\nL 96.52535 24.607107 \r\nL 91.998086 27.856155 \r\nL 87.737801 31.648147 \r\nL 83.753954 35.959702 \r\nL 80.055389 40.764239 \r\nL 76.65032 46.032137 \r\nL 73.546305 51.730917 \r\nL 70.750236 57.825443 \r\nL 68.268322 64.278142 \r\nL 66.106073 71.04923 \r\nL 64.26829 78.096961 \r\nL 62.759053 85.377884 \r\nL 61.581712 92.847109 \r\nL 60.738883 100.458586 \r\nL 60.232435 108.165388 \r\nL 60.063494 115.92 \r\nL 60.232435 123.674612 \r\nL 60.738883 131.381414 \r\nL 61.581712 138.992891 \r\nL 62.759053 146.462116 \r\nL 64.26829 153.743039 \r\nL 66.106073 160.79077 \r\nL 68.268322 167.561858 \r\nL 70.750236 174.014557 \r\nL 73.546305 180.109083 \r\nL 76.65032 185.807863 \r\nL 80.055389 191.075761 \r\nL 83.753954 195.880298 \r\nL 87.737801 200.191853 \r\nL 91.998086 203.983845 \r\nL 96.52535 207.232893 \r\nL 101.309541 209.918968 \r\nL 106.340038 212.025507 \r\nL 111.60567 213.539524 \r\nL 117.094748 214.451684 \r\nL 122.795084 214.756364 \r\nL 128.694022 214.451684 \r\nL 134.778464 213.539524 \r\nL 141.034903 212.025507 \r\nL 147.449446 209.918968 \r\nL 154.007852 207.232893 \r\nL 160.69556 203.983845 \r\nL 167.497721 200.191853 \r\nL 174.399233 195.880298 \r\nL 181.384773 191.075761 \r\nL 188.438831 185.807863 \r\nL 195.545746 180.109083 \r\nL 202.689737 174.014557 \r\nL 209.854944 167.561858 \r\nL 217.025459 160.79077 \r\nL 224.18536 153.743039 \r\nL 231.318752 146.462116 \r\nL 238.409796 138.992891 \r\nL 245.442748 131.381414 \r\nL 259.272081 115.92 \r\nL 272.684001 100.458586 \r\nL 309.249654 57.825443 \r\nL 319.854108 46.032137 \r\nL 324.803717 40.764239 \r\nL 329.503419 35.959702 \r\nL 333.942778 31.648147 \r\nL 338.111938 27.856155 \r\nL 342.001643 24.607107 \r\nL 345.603256 21.921032 \r\nL 348.908782 19.814493 \r\nL 351.91088 18.300476 \r\nL 354.602886 17.388316 \r\nL 356.978822 17.083636 \r\nL 359.033414 17.388316 \r\nL 360.7621 18.300476 \r\nL 362.161041 19.814493 \r\nL 363.227132 21.921032 \r\nL 363.958005 24.607107 \r\nL 364.352038 27.856155 \r\nL 364.408356 31.648147 \r\nL 364.126835 35.959702 \r\nL 363.508098 40.764239 \r\nL 362.55352 46.032137 \r\nL 361.26522 51.730917 \r\nL 359.646059 57.825443 \r\nL 357.699631 64.278142 \r\nL 355.430259 71.04923 \r\nL 352.84298 78.096961 \r\nL 349.943538 85.377884 \r\nL 346.738373 92.847109 \r\nL 343.234599 100.458586 \r\nL 339.439996 108.165388 \r\nL 335.36299 115.92 \r\nL 331.012631 123.674612 \r\nL 326.398579 131.381414 \r\nL 321.531078 138.992891 \r\nL 316.420936 146.462116 \r\nL 311.079497 153.743039 \r\nL 305.518622 160.79077 \r\nL 299.750657 167.561858 \r\nL 293.788408 174.014557 \r\nL 287.645113 180.109083 \r\nL 281.334412 185.807863 \r\nL 274.870316 191.075761 \r\nL 268.267176 195.880298 \r\nL 261.539654 200.191853 \r\nL 254.702686 203.983845 \r\nL 247.771452 207.232893 \r\nL 240.761342 209.918968 \r\nL 233.687918 212.025507 \r\nL 226.566887 213.539524 \r\nL 219.414058 214.451684 \r\nL 212.245313 214.756364 \r\nL 205.076567 214.451684 \r\nL 197.923738 213.539524 \r\nL 190.802707 212.025507 \r\nL 183.729283 209.918968 \r\nL 176.719173 207.232893 \r\nL 169.787939 203.983845 \r\nL 162.950971 200.191853 \r\nL 156.223449 195.880298 \r\nL 149.620309 191.075761 \r\nL 143.156213 185.807863 \r\nL 136.845512 180.109083 \r\nL 130.702217 174.014557 \r\nL 124.739968 167.561858 \r\nL 118.972003 160.79077 \r\nL 113.411128 153.743039 \r\nL 108.069689 146.462116 \r\nL 102.959547 138.992891 \r\nL 98.092046 131.381414 \r\nL 93.477994 123.674612 \r\nL 89.127635 115.92 \r\nL 85.050629 108.165388 \r\nL 81.256026 100.458586 \r\nL 77.752252 92.847109 \r\nL 74.547087 85.377884 \r\nL 71.647645 78.096961 \r\nL 69.060366 71.04923 \r\nL 66.790994 64.278142 \r\nL 64.844566 57.825443 \r\nL 63.225405 51.730917 \r\nL 61.937105 46.032137 \r\nL 60.982527 40.764239 \r\nL 60.36379 35.959702 \r\nL 60.082269 31.648147 \r\nL 60.138587 27.856155 \r\nL 60.53262 24.607107 \r\nL 61.263493 21.921032 \r\nL 62.329584 19.814493 \r\nL 63.728525 18.300476 \r\nL 65.457211 17.388316 \r\nL 67.511803 17.083636 \r\nL 69.887739 17.388316 \r\nL 72.579745 18.300476 \r\nL 75.581843 19.814493 \r\nL 78.887369 21.921032 \r\nL 82.488982 24.607107 \r\nL 86.378687 27.856155 \r\nL 90.547847 31.648147 \r\nL 94.987206 35.959702 \r\nL 99.686908 40.764239 \r\nL 104.636517 46.032137 \r\nL 115.240971 57.825443 \r\nL 126.706442 71.04923 \r\nL 158.452868 108.165388 \r\nL 172.088632 123.674612 \r\nL 179.047877 131.381414 \r\nL 186.080829 138.992891 \r\nL 193.171873 146.462116 \r\nL 200.305265 153.743039 \r\nL 207.465166 160.79077 \r\nL 214.635681 167.561858 \r\nL 221.800888 174.014557 \r\nL 228.944879 180.109083 \r\nL 236.051794 185.807863 \r\nL 243.105852 191.075761 \r\nL 250.091392 195.880298 \r\nL 256.992904 200.191853 \r\nL 263.795065 203.983845 \r\nL 270.482773 207.232893 \r\nL 277.041179 209.918968 \r\nL 283.455722 212.025507 \r\nL 289.712161 213.539524 \r\nL 295.796603 214.451684 \r\nL 301.695541 214.756364 \r\nL 307.395877 214.451684 \r\nL 312.884955 213.539524 \r\nL 318.150587 212.025507 \r\nL 323.181084 209.918968 \r\nL 327.965275 207.232893 \r\nL 332.492539 203.983845 \r\nL 336.752824 200.191853 \r\nL 340.736671 195.880298 \r\nL 344.435236 191.075761 \r\nL 347.840305 185.807863 \r\nL 350.94432 180.109083 \r\nL 353.740389 174.014557 \r\nL 356.222303 167.561858 \r\nL 358.384552 160.79077 \r\nL 360.222335 153.743039 \r\nL 361.731572 146.462116 \r\nL 362.908913 138.992891 \r\nL 363.751742 131.381414 \r\nL 364.25819 123.674612 \r\nL 364.427131 115.92 \r\nL 364.427131 115.92 \r\n\" style=\"fill:none;stroke:#1f77b4;stroke-linecap:square;stroke-width:1.5;\"/>\r\n   </g>\r\n   <g id=\"patch_3\">\r\n    <path d=\"M 44.845313 224.64 \r\nL 44.845313 7.2 \r\n\" style=\"fill:none;stroke:#000000;stroke-linecap:square;stroke-linejoin:miter;stroke-width:0.8;\"/>\r\n   </g>\r\n   <g id=\"patch_4\">\r\n    <path d=\"M 379.645313 224.64 \r\nL 379.645313 7.2 \r\n\" style=\"fill:none;stroke:#000000;stroke-linecap:square;stroke-linejoin:miter;stroke-width:0.8;\"/>\r\n   </g>\r\n   <g id=\"patch_5\">\r\n    <path d=\"M 44.845312 224.64 \r\nL 379.645313 224.64 \r\n\" style=\"fill:none;stroke:#000000;stroke-linecap:square;stroke-linejoin:miter;stroke-width:0.8;\"/>\r\n   </g>\r\n   <g id=\"patch_6\">\r\n    <path d=\"M 44.845312 7.2 \r\nL 379.645313 7.2 \r\n\" style=\"fill:none;stroke:#000000;stroke-linecap:square;stroke-linejoin:miter;stroke-width:0.8;\"/>\r\n   </g>\r\n  </g>\r\n </g>\r\n <defs>\r\n  <clipPath id=\"p1130c11352\">\r\n   <rect height=\"217.44\" width=\"334.8\" x=\"44.845313\" y=\"7.2\"/>\r\n  </clipPath>\r\n </defs>\r\n</svg>\r\n",
      "image/png": "[encoded data removed]"
     },
     "metadata": {
      "needs_background": "light"
     }
    }
   ],
   "source": [
    "%matplotlib inline\n",
    "import matplotlib.pyplot as plt\n",
    "\n",
    "theta_array = np.linspace(0, 2*np.pi, 401)\n",
    "x_array = np.cos(3*theta_array)\n",
    "y_array = np.sin(5*theta_array)\n",
    "plt.plot(x_array, y_array)"
   ]
  },
  {
   "cell_type": "code",
   "execution_count": 74,
   "metadata": {
    "deletable": false,
    "editable": false,
    "nbgrader": {
     "cell_type": "code",
     "checksum": "47a980d4c90de0cba1d903a4e866beb2",
     "grade": true,
     "grade_id": "cell-df35ac4da0a1a0fd",
     "locked": true,
     "points": 3,
     "schema_version": 3,
     "solution": false,
     "task": false
    }
   },
   "outputs": [
    {
     "output_type": "stream",
     "name": "stdout",
     "text": [
      "Correct value for theta_array\nCorrect value for x_array\nCorrect value for y_array\n3 out of 3\n"
     ]
    },
    {
     "output_type": "execute_result",
     "data": {
      "text/plain": [
       "3"
      ]
     },
     "metadata": {},
     "execution_count": 74
    }
   ],
   "source": [
    "# 3 Marks\n",
    "# Do not try to delete this cell\n",
    "# Run this cell for grading\n",
    "_globals = globals()\n",
    "question4c(_globals)"
   ]
  },
  {
   "cell_type": "markdown",
   "metadata": {
    "deletable": false,
    "editable": false,
    "nbgrader": {
     "cell_type": "markdown",
     "checksum": "5ab154a6ddfc8be493a1de9bcc5baff5",
     "grade": false,
     "grade_id": "cell-ab70d8c2d4c56067",
     "locked": true,
     "schema_version": 3,
     "solution": false,
     "task": false
    }
   },
   "source": [
    "## Question 5\n",
    "\n",
    "(i) Investigate expressions like\n",
    "```python\n",
    "np.dot(mat23, mat33)\n",
    "np.dot(mat33, mat31)\n",
    "np.dot(mat33, int_arr)\n",
    "np.dot(int_arr, int_arr2)\n",
    "```\n",
    "etc. Then:\n",
    "\n",
    "(a) The `dot` function in the NumPy module can be used to find\n",
    "\n",
    "<ol>\n",
    "    <li>the scalar product of two vectors represented as 1D arrays;</li>\n",
    "    <li>the matrix product of two matrices represented as 2D arrays;</li>\n",
    "    <li>both.</li>\n",
    "</ol>"
   ]
  },
  {
   "cell_type": "code",
   "execution_count": 76,
   "metadata": {
    "deletable": false,
    "nbgrader": {
     "cell_type": "code",
     "checksum": "a4038c98129ca1d34f9c40b8899651d7",
     "grade": false,
     "grade_id": "cell-b08d42f459524526",
     "locked": false,
     "schema_version": 3,
     "solution": true,
     "task": false
    }
   },
   "outputs": [
    {
     "output_type": "stream",
     "name": "stdout",
     "text": [
      "[[ 20 -15   4]\n [ 15 -10   3]]\n68\n"
     ]
    }
   ],
   "source": [
    "question5ia_answer = 3\n",
    "\n",
    "print(np.dot(mat23, mat33))\n",
    "print(np.dot(int_arr, int_arr2))"
   ]
  },
  {
   "cell_type": "code",
   "execution_count": 77,
   "metadata": {
    "deletable": false,
    "editable": false,
    "nbgrader": {
     "cell_type": "code",
     "checksum": "b7895b089be205b369736cbc80641c71",
     "grade": true,
     "grade_id": "cell-0c393b69be5aaeaf",
     "locked": true,
     "points": 1,
     "schema_version": 3,
     "solution": false,
     "task": false
    }
   },
   "outputs": [
    {
     "output_type": "stream",
     "name": "stdout",
     "text": [
      "test case passed!\n"
     ]
    }
   ],
   "source": [
    "# 1 Mark\n",
    "assert(question5ia_answer == question5_ia())\n",
    "print('test case passed!')"
   ]
  },
  {
   "cell_type": "markdown",
   "metadata": {
    "deletable": false,
    "editable": false,
    "nbgrader": {
     "cell_type": "markdown",
     "checksum": "a6c2b97f296a733610ba688279ab1019",
     "grade": false,
     "grade_id": "cell-1ee12a3c0bcdf0f2",
     "locked": true,
     "schema_version": 3,
     "solution": false,
     "task": false
    }
   },
   "source": [
    "(b) Which of the following work; that is, don't generate an error message? \n",
    "\n",
    "<ol>\n",
    "    <li><code>np.dot(mata, matb)</code>, where <code>mata</code> and <code>matb</code> are $3\\times 3$ matrices?</li>\n",
    "    <li><code>np.dot(mata, matb)</code>, where <code>mata</code> is a $3 \\times 3$ matrix and <code>matb</code> is a $3 \\times 1$ matrix?</li>\n",
    "    <li><code>np.dot(mata, matb)</code>, where <code>mata</code> is a $3 \\times 3$ matrix and <code>matb</code> is a $1 \\times 3$ matrix?</li>\n",
    "    <li><code>np.dot(mata, matb)</code>, where <code>mata</code> is a $1 \\times 3$ matrix and <code>matb</code> is a $3 \\times 3$ matrix?</li>\n",
    "    <li><code>np.dot(mata, matb)</code>, where <code>mata</code> is a $3 \\times 1$ matrix and <code>matb</code> is a $3 \\times 3$ matrix?</li>\n",
    "</ol>\n",
    "\n",
    "Type in your answers in curly brackets separated by commas; for example, if you think 1, 3 and 5 are the correct answers, type in `{1, 3, 5}`."
   ]
  },
  {
   "cell_type": "code",
   "execution_count": 81,
   "metadata": {
    "deletable": false,
    "nbgrader": {
     "cell_type": "code",
     "checksum": "b5de71f3b9e092f2e891677c0517dfcf",
     "grade": false,
     "grade_id": "cell-4b8f3784cbe2da4c",
     "locked": false,
     "schema_version": 3,
     "solution": true,
     "task": false
    }
   },
   "outputs": [],
   "source": [
    "question5ib_answer = {1, 2, 4}"
   ]
  },
  {
   "cell_type": "code",
   "execution_count": 82,
   "metadata": {
    "deletable": false,
    "editable": false,
    "nbgrader": {
     "cell_type": "code",
     "checksum": "2453d88fd086b23e6701175f6204e45d",
     "grade": true,
     "grade_id": "cell-9f915f532f6cf07c",
     "locked": true,
     "points": 1,
     "schema_version": 3,
     "solution": false,
     "task": false
    }
   },
   "outputs": [
    {
     "output_type": "stream",
     "name": "stdout",
     "text": [
      "test case passed!\n"
     ]
    }
   ],
   "source": [
    "# 1 Mark\n",
    "assert(question5ib_answer == question5_ib())\n",
    "print('test case passed!')"
   ]
  },
  {
   "cell_type": "markdown",
   "metadata": {
    "deletable": false,
    "editable": false,
    "nbgrader": {
     "cell_type": "markdown",
     "checksum": "103c2f8f03e78ebf532049d33a87f4cb",
     "grade": false,
     "grade_id": "cell-8581e7aa28afd3dc",
     "locked": true,
     "schema_version": 3,
     "solution": false,
     "task": false
    }
   },
   "source": [
    "(c) Suppose `mat` is a $3 \\times 3$ NumPy array and `vec` is a 1D array of length 3; numerical in each case. Then the expressions\n",
    "\n",
    "```python\n",
    "np.dot(mat, vec)\n",
    "np.dot(vec, mat)\n",
    "```\n",
    "\n",
    "<ol>\n",
    "    <li>both work, and generate the same output;</li>\n",
    "    <li>both work, and generate different output;</li>\n",
    "    <li>work in the first case, though the second generates an error message;</li>\n",
    "    <li>work in the second case, though the first generates an error message;</li>\n",
    "    <li>both fail, generating error messages.</li>"
   ]
  },
  {
   "cell_type": "code",
   "execution_count": 86,
   "metadata": {
    "deletable": false,
    "nbgrader": {
     "cell_type": "code",
     "checksum": "a0a8bed87044ee28e3cbc02b8be5433f",
     "grade": false,
     "grade_id": "cell-5be9b1a83a30a998",
     "locked": false,
     "schema_version": 3,
     "solution": true,
     "task": false
    }
   },
   "outputs": [
    {
     "output_type": "stream",
     "name": "stdout",
     "text": [
      "[13 -9  2]\n[ 2 -5  3]\n"
     ]
    }
   ],
   "source": [
    "question5ic_answer = 2\n",
    "\n",
    "print(np.dot(int_arr, mat33))\n",
    "print(np.dot(mat33, int_arr))"
   ]
  },
  {
   "cell_type": "code",
   "execution_count": 87,
   "metadata": {
    "deletable": false,
    "editable": false,
    "nbgrader": {
     "cell_type": "code",
     "checksum": "5bf295e826c29b71606453edecb66807",
     "grade": true,
     "grade_id": "cell-6980e868995ee762",
     "locked": true,
     "points": 1,
     "schema_version": 3,
     "solution": false,
     "task": false
    }
   },
   "outputs": [
    {
     "output_type": "stream",
     "name": "stdout",
     "text": [
      "test case passed!\n"
     ]
    }
   ],
   "source": [
    "# 1 Mark\n",
    "assert(question5ic_answer == question5_ic())\n",
    "print('test case passed!')"
   ]
  },
  {
   "cell_type": "markdown",
   "metadata": {
    "deletable": false,
    "editable": false,
    "nbgrader": {
     "cell_type": "markdown",
     "checksum": "5e3271531d089fe7edeffc4eeae4911e",
     "grade": false,
     "grade_id": "cell-cbb29ec67411ef54",
     "locked": true,
     "schema_version": 3,
     "solution": false,
     "task": false
    }
   },
   "source": [
    "(d) Suppose `mat` is a $3 \\times 3$ NumPy array and `vec` is a 1D array of length 3; numerical in each case. Then, in the expressions\n",
    "\n",
    "```python\n",
    "np.dot(mat, vec)\n",
    "np.dot(vec, mat)\n",
    "```\n",
    "\n",
    "the 1D array `vec` is interpreted by Python\n",
    "\n",
    "<ol>\n",
    "    <li>as a row vector in both cases;</li>\n",
    "    <li>as a column vector in both cases;</li>\n",
    "    <li>as a row vector in the first case and a column vector in the second case;</li>\n",
    "    <li>as a column vector in the first case and a row vector in the second case.</li> \n",
    "</ol>"
   ]
  },
  {
   "cell_type": "code",
   "execution_count": 88,
   "metadata": {
    "deletable": false,
    "nbgrader": {
     "cell_type": "code",
     "checksum": "683894d8e6b20a440c786ee865083db4",
     "grade": false,
     "grade_id": "cell-e4ba1626c13d76c0",
     "locked": false,
     "schema_version": 3,
     "solution": true,
     "task": false
    }
   },
   "outputs": [],
   "source": [
    "question5id_answer = 4"
   ]
  },
  {
   "cell_type": "code",
   "execution_count": 89,
   "metadata": {
    "deletable": false,
    "editable": false,
    "nbgrader": {
     "cell_type": "code",
     "checksum": "e0f3f423e1ee439f1f44d7b82ed0385c",
     "grade": true,
     "grade_id": "cell-b4fae0f7029c8219",
     "locked": true,
     "points": 1,
     "schema_version": 3,
     "solution": false,
     "task": false
    }
   },
   "outputs": [
    {
     "output_type": "stream",
     "name": "stdout",
     "text": [
      "test case passed!\n"
     ]
    }
   ],
   "source": [
    "# 1 Mark\n",
    "assert(question5id_answer == question5_id())\n",
    "print('test case passed!')"
   ]
  },
  {
   "cell_type": "markdown",
   "metadata": {
    "deletable": false,
    "editable": false,
    "nbgrader": {
     "cell_type": "markdown",
     "checksum": "bae4d67ca7787e48fb26fb1139b9ecaf",
     "grade": false,
     "grade_id": "cell-9aa105030c41367b",
     "locked": true,
     "schema_version": 3,
     "solution": false,
     "task": false
    }
   },
   "source": [
    "(ii) The matrix $A$ is defined by\n",
    "\n",
    "$$A = \\left(\\begin{array}{cccc}\n",
    "1&-3&2&2\\\\0&1&0&-1\\\\1&3&1&-2\\\\-2&0&-3&-2\n",
    "\\end{array}\\right)$$\n",
    "\n",
    "and the vector ${\\bf v}$ by\n",
    "\n",
    "$${\\bf v} = \\left(\\begin{array}{c}\n",
    "0\\\\-2\\\\-5\\\\-1\n",
    "\\end{array}\\right).$$\n",
    "\n",
    "(a) Set them up in Python as, respectively, a $4 \\times 4$ NumPy array and a 1D NumPy array of length 4."
   ]
  },
  {
   "cell_type": "code",
   "execution_count": 92,
   "metadata": {
    "deletable": false,
    "nbgrader": {
     "cell_type": "code",
     "checksum": "5bc7d20df9bc298c15a821b04e995f71",
     "grade": false,
     "grade_id": "cell-c73166e37cc04512",
     "locked": false,
     "schema_version": 3,
     "solution": true,
     "task": false
    }
   },
   "outputs": [],
   "source": [
    "A = np.array([[1, -3, 2, 2], [0, 1, 0, -1], [1, 3, 1, -2], [-2, 0, -3, -2]])\n",
    "v = np.array([0, -2, -5, -1])"
   ]
  },
  {
   "cell_type": "code",
   "execution_count": 93,
   "metadata": {
    "deletable": false,
    "editable": false,
    "nbgrader": {
     "cell_type": "code",
     "checksum": "6f368021a54c2df1dfa2d2d10beeccc7",
     "grade": true,
     "grade_id": "cell-4abdd3e56000e898",
     "locked": true,
     "points": 2,
     "schema_version": 3,
     "solution": false,
     "task": false
    }
   },
   "outputs": [
    {
     "output_type": "stream",
     "name": "stdout",
     "text": [
      "Correct value for A\nCorrect value for v\n2 out of 2\n"
     ]
    },
    {
     "output_type": "execute_result",
     "data": {
      "text/plain": [
       "2"
      ]
     },
     "metadata": {},
     "execution_count": 93
    }
   ],
   "source": [
    "# 2 Marks\n",
    "# Do not try to delete this cell\n",
    "# Run this cell for grading\n",
    "_globals = globals()\n",
    "question5iia(_globals)"
   ]
  },
  {
   "cell_type": "markdown",
   "metadata": {
    "deletable": false,
    "editable": false,
    "nbgrader": {
     "cell_type": "markdown",
     "checksum": "d6354188bc5b386bc19901dc0e2f22ed",
     "grade": false,
     "grade_id": "cell-969f59e4894d3d19",
     "locked": true,
     "schema_version": 3,
     "solution": false,
     "task": false
    }
   },
   "source": [
    "Import the `linalg` submodule of the NumPy module, and using functions from it, calculate:\n",
    "\n",
    "(b) The norm, or magnitude, of the vector ${\\bf v}$, $|{\\bf v}|$ (sometimes written $||{\\bf v}||$). Call this `normv`."
   ]
  },
  {
   "cell_type": "code",
   "execution_count": 95,
   "metadata": {
    "deletable": false,
    "nbgrader": {
     "cell_type": "code",
     "checksum": "85ffb82dafe3cd2b4b3bb4a8bdb43ab2",
     "grade": false,
     "grade_id": "cell-91f9867623ca4977",
     "locked": false,
     "schema_version": 3,
     "solution": true,
     "task": false
    }
   },
   "outputs": [
    {
     "output_type": "stream",
     "name": "stdout",
     "text": [
      "5.477225575051661\n"
     ]
    }
   ],
   "source": [
    "import numpy.linalg as la\n",
    "\n",
    "normv = la.norm(v)\n",
    "print(normv)"
   ]
  },
  {
   "cell_type": "code",
   "execution_count": 96,
   "metadata": {
    "deletable": false,
    "editable": false,
    "nbgrader": {
     "cell_type": "code",
     "checksum": "1ee9a3c87c7e49da2db6bbdded77ea45",
     "grade": true,
     "grade_id": "cell-ee2f35e08eee306a",
     "locked": true,
     "points": 1,
     "schema_version": 3,
     "solution": false,
     "task": false
    }
   },
   "outputs": [
    {
     "output_type": "stream",
     "name": "stdout",
     "text": [
      "Correct value for normv\n"
     ]
    },
    {
     "output_type": "execute_result",
     "data": {
      "text/plain": [
       "1"
      ]
     },
     "metadata": {},
     "execution_count": 96
    }
   ],
   "source": [
    "# 1 Mark\n",
    "# Do not try to delete this cell\n",
    "# Run this cell for grading\n",
    "_globals = globals()\n",
    "question5iib(_globals)"
   ]
  },
  {
   "cell_type": "markdown",
   "metadata": {
    "deletable": false,
    "editable": false,
    "nbgrader": {
     "cell_type": "markdown",
     "checksum": "e082f9f2f9623684411355b70808ab35",
     "grade": false,
     "grade_id": "cell-f9e6ea0cc656ba1f",
     "locked": true,
     "schema_version": 3,
     "solution": false,
     "task": false
    }
   },
   "source": [
    "(c) The 1-norm of ${\\bf v}$, $||{\\bf v}||_1$, equal to the sum of the absolute values of ${\\bf v}$'s components. Call this `norm1v`."
   ]
  },
  {
   "cell_type": "code",
   "execution_count": 97,
   "metadata": {
    "deletable": false,
    "nbgrader": {
     "cell_type": "code",
     "checksum": "f454018ea4fd2c7b8a9fce301e618260",
     "grade": false,
     "grade_id": "cell-f13390acb597945e",
     "locked": false,
     "schema_version": 3,
     "solution": true,
     "task": false
    }
   },
   "outputs": [],
   "source": [
    "norm1v = la.norm(v, ord=1)"
   ]
  },
  {
   "cell_type": "code",
   "execution_count": 98,
   "metadata": {
    "deletable": false,
    "editable": false,
    "nbgrader": {
     "cell_type": "code",
     "checksum": "d42ef0aa0bb4f4ff497af12c2605eefe",
     "grade": true,
     "grade_id": "cell-debc459b8c1d3bfd",
     "locked": true,
     "points": 1,
     "schema_version": 3,
     "solution": false,
     "task": false
    }
   },
   "outputs": [
    {
     "output_type": "stream",
     "name": "stdout",
     "text": [
      "Correct value for norm1v\n"
     ]
    },
    {
     "output_type": "execute_result",
     "data": {
      "text/plain": [
       "1"
      ]
     },
     "metadata": {},
     "execution_count": 98
    }
   ],
   "source": [
    "# 1 Mark\n",
    "# Do not try to delete this cell\n",
    "# Run this cell for grading\n",
    "_globals = globals()\n",
    "question5iic(_globals)"
   ]
  },
  {
   "cell_type": "markdown",
   "metadata": {
    "deletable": false,
    "editable": false,
    "nbgrader": {
     "cell_type": "markdown",
     "checksum": "a166cefc295891776506bf559b142b11",
     "grade": false,
     "grade_id": "cell-0f5290d50abcdc2e",
     "locked": true,
     "schema_version": 3,
     "solution": false,
     "task": false
    }
   },
   "source": [
    "(d) The $\\infty$-norm of ${\\bf v}$, $||{\\bf v}||_\\infty$, equal to the maximum absolute value of ${\\bf v}$'s components. Call this `norminfv`."
   ]
  },
  {
   "cell_type": "code",
   "execution_count": 100,
   "metadata": {
    "deletable": false,
    "nbgrader": {
     "cell_type": "code",
     "checksum": "c60464974279d768bf2da914ccce8dcc",
     "grade": false,
     "grade_id": "cell-93aadf5cb000e879",
     "locked": false,
     "schema_version": 3,
     "solution": true,
     "task": false
    }
   },
   "outputs": [
    {
     "output_type": "stream",
     "name": "stdout",
     "text": [
      "5.0\n"
     ]
    }
   ],
   "source": [
    "norminfv = la.norm(v, ord=np.inf)\n",
    "print(norminfv)"
   ]
  },
  {
   "cell_type": "code",
   "execution_count": 101,
   "metadata": {
    "deletable": false,
    "editable": false,
    "nbgrader": {
     "cell_type": "code",
     "checksum": "80c680a73697e85f4d172873efbd25f6",
     "grade": true,
     "grade_id": "cell-19a9351daa840d32",
     "locked": true,
     "points": 1,
     "schema_version": 3,
     "solution": false,
     "task": false
    }
   },
   "outputs": [
    {
     "output_type": "stream",
     "name": "stdout",
     "text": [
      "Correct value for norminfv\n"
     ]
    },
    {
     "output_type": "execute_result",
     "data": {
      "text/plain": [
       "1"
      ]
     },
     "metadata": {},
     "execution_count": 101
    }
   ],
   "source": [
    "# 1 Mark\n",
    "# Do not try to delete this cell\n",
    "# Run this cell for grading\n",
    "_globals = globals()\n",
    "question5iid(_globals)"
   ]
  },
  {
   "cell_type": "markdown",
   "metadata": {
    "deletable": false,
    "editable": false,
    "nbgrader": {
     "cell_type": "markdown",
     "checksum": "80cf61775bd6ce6721b1c7f2f9f9c00d",
     "grade": false,
     "grade_id": "cell-eb433fb2263278a5",
     "locked": true,
     "schema_version": 3,
     "solution": false,
     "task": false
    }
   },
   "source": [
    "(e) The determinant of $A$. Call this `detA`."
   ]
  },
  {
   "cell_type": "code",
   "execution_count": 102,
   "metadata": {
    "deletable": false,
    "nbgrader": {
     "cell_type": "code",
     "checksum": "f844b012ba90f57fa4054761407582e8",
     "grade": false,
     "grade_id": "cell-937de8cbc2599027",
     "locked": false,
     "schema_version": 3,
     "solution": true,
     "task": false
    }
   },
   "outputs": [
    {
     "output_type": "stream",
     "name": "stdout",
     "text": [
      "2.0\n"
     ]
    }
   ],
   "source": [
    "detA = la.det(A)\n",
    "print(detA)"
   ]
  },
  {
   "cell_type": "code",
   "execution_count": 103,
   "metadata": {
    "deletable": false,
    "editable": false,
    "nbgrader": {
     "cell_type": "code",
     "checksum": "5c8afe39c3be37477f09b67a4a5a5031",
     "grade": true,
     "grade_id": "cell-569be2cbbb9eed1d",
     "locked": true,
     "points": 1,
     "schema_version": 3,
     "solution": false,
     "task": false
    }
   },
   "outputs": [
    {
     "output_type": "stream",
     "name": "stdout",
     "text": [
      "Correct value for detA\n"
     ]
    },
    {
     "output_type": "execute_result",
     "data": {
      "text/plain": [
       "1"
      ]
     },
     "metadata": {},
     "execution_count": 103
    }
   ],
   "source": [
    "# 1 Mark\n",
    "# Do not try to delete this cell\n",
    "# Run this cell for grading\n",
    "_globals = globals()\n",
    "question5iie(_globals)"
   ]
  },
  {
   "cell_type": "markdown",
   "metadata": {
    "deletable": false,
    "editable": false,
    "nbgrader": {
     "cell_type": "markdown",
     "checksum": "7e982e9e3d925cb664fc579005aa18b4",
     "grade": false,
     "grade_id": "cell-8dd540ac6f01a2cb",
     "locked": true,
     "schema_version": 3,
     "solution": false,
     "task": false
    }
   },
   "source": [
    "(f) The inverse matrix of $A$. Call this `invA`."
   ]
  },
  {
   "cell_type": "code",
   "execution_count": 104,
   "metadata": {
    "deletable": false,
    "nbgrader": {
     "cell_type": "code",
     "checksum": "ee601a1a5add442e031fd426a769d4a2",
     "grade": false,
     "grade_id": "cell-7219a649ec63e886",
     "locked": false,
     "schema_version": 3,
     "solution": true,
     "task": false
    }
   },
   "outputs": [
    {
     "output_type": "stream",
     "name": "stdout",
     "text": [
      "[[ 0.5 -9.   3.5  1.5]\n [-0.5  1.  -0.5 -0.5]\n [ 0.   6.  -2.  -1. ]\n [-0.5 -0.  -0.5 -0.5]]\n"
     ]
    }
   ],
   "source": [
    "invA = la.inv(A)\n",
    "print(invA)"
   ]
  },
  {
   "cell_type": "code",
   "execution_count": 105,
   "metadata": {
    "deletable": false,
    "editable": false,
    "nbgrader": {
     "cell_type": "code",
     "checksum": "73394f0c39a8b602ec18d472e968807b",
     "grade": true,
     "grade_id": "cell-90c1abd85cc154bd",
     "locked": true,
     "points": 1,
     "schema_version": 3,
     "solution": false,
     "task": false
    }
   },
   "outputs": [
    {
     "output_type": "stream",
     "name": "stdout",
     "text": [
      "Correct value for invA\n"
     ]
    },
    {
     "output_type": "execute_result",
     "data": {
      "text/plain": [
       "1"
      ]
     },
     "metadata": {},
     "execution_count": 105
    }
   ],
   "source": [
    "# 1 Mark\n",
    "# Do not try to delete this cell\n",
    "# Run this cell for grading\n",
    "_globals = globals()\n",
    "question5iif(_globals)"
   ]
  },
  {
   "cell_type": "markdown",
   "metadata": {
    "deletable": false,
    "editable": false,
    "nbgrader": {
     "cell_type": "markdown",
     "checksum": "356e81bd1bcb046eed4ab0634b236d0a",
     "grade": false,
     "grade_id": "cell-10e5294e3dac4ddb",
     "locked": true,
     "schema_version": 3,
     "solution": false,
     "task": false
    }
   },
   "source": [
    "(g) The eigenvalues of A. Call these `eigA`."
   ]
  },
  {
   "cell_type": "code",
   "execution_count": 108,
   "metadata": {
    "deletable": false,
    "nbgrader": {
     "cell_type": "code",
     "checksum": "1f8d8f4259c92277711cf65629cd1666",
     "grade": false,
     "grade_id": "cell-dab55830ccdc8281",
     "locked": false,
     "schema_version": 3,
     "solution": true,
     "task": false
    }
   },
   "outputs": [
    {
     "output_type": "stream",
     "name": "stdout",
     "text": [
      "[ 3.02385899 -2.28250615 -0.42429781  0.68294497]\n"
     ]
    }
   ],
   "source": [
    "eigA = la.eigvals(A)\n",
    "print(eigA)"
   ]
  },
  {
   "cell_type": "code",
   "execution_count": 109,
   "metadata": {
    "deletable": false,
    "editable": false,
    "nbgrader": {
     "cell_type": "code",
     "checksum": "4efd93b2ae215f4b3f0a7ee554a0d1dc",
     "grade": true,
     "grade_id": "cell-19e5bfce7227c277",
     "locked": true,
     "points": 1,
     "schema_version": 3,
     "solution": false,
     "task": false
    }
   },
   "outputs": [
    {
     "output_type": "stream",
     "name": "stdout",
     "text": [
      "Correct value for eigA\n"
     ]
    },
    {
     "output_type": "execute_result",
     "data": {
      "text/plain": [
       "1"
      ]
     },
     "metadata": {},
     "execution_count": 109
    }
   ],
   "source": [
    "# 1 Mark\n",
    "# Do not try to delete this cell\n",
    "# Run this cell for grading\n",
    "_globals = globals()\n",
    "question5iig(_globals)"
   ]
  },
  {
   "cell_type": "markdown",
   "metadata": {
    "deletable": false,
    "editable": false,
    "nbgrader": {
     "cell_type": "markdown",
     "checksum": "521c837a9e99a65ce71446ed04bae304",
     "grade": false,
     "grade_id": "cell-31cb454ef20faa14",
     "locked": true,
     "schema_version": 3,
     "solution": false,
     "task": false
    }
   },
   "source": [
    "(h) The value of $A^5$, where the power indicates repeated <em>matrix</em> multiplication. (You can do this using repeated applications of `dot`, and autograding won't be able to tell if you have, but try to do it using a function from the `linalg` submodule instead.) Call this `Apow5`."
   ]
  },
  {
   "cell_type": "code",
   "execution_count": 110,
   "metadata": {
    "deletable": false,
    "nbgrader": {
     "cell_type": "code",
     "checksum": "80517922066729c90f4b8a631727556f",
     "grade": false,
     "grade_id": "cell-b110c338a988e323",
     "locked": false,
     "schema_version": 3,
     "solution": true,
     "task": false
    }
   },
   "outputs": [
    {
     "output_type": "stream",
     "name": "stdout",
     "text": [
      "[[  13  -12   22   41]\n [  34   31   47  -31]\n [ 130   99  183  -75]\n [-109  -39 -161  -36]]\n"
     ]
    }
   ],
   "source": [
    "Apow5 = la.matrix_power(A, 5)\n",
    "print(Apow5)"
   ]
  },
  {
   "cell_type": "code",
   "execution_count": 111,
   "metadata": {
    "deletable": false,
    "editable": false,
    "nbgrader": {
     "cell_type": "code",
     "checksum": "db375be5db20a267e241d102e01c72dc",
     "grade": true,
     "grade_id": "cell-1f8920c55649c114",
     "locked": true,
     "points": 1,
     "schema_version": 3,
     "solution": false,
     "task": false
    }
   },
   "outputs": [
    {
     "output_type": "stream",
     "name": "stdout",
     "text": [
      "Correct value for Apow5\n"
     ]
    },
    {
     "output_type": "execute_result",
     "data": {
      "text/plain": [
       "1"
      ]
     },
     "metadata": {},
     "execution_count": 111
    }
   ],
   "source": [
    "# 1 Mark\n",
    "# Do not try to delete this cell\n",
    "# Run this cell for grading\n",
    "_globals = globals()\n",
    "question5iih(_globals)"
   ]
  },
  {
   "cell_type": "markdown",
   "metadata": {
    "deletable": false,
    "editable": false,
    "nbgrader": {
     "cell_type": "markdown",
     "checksum": "ddc23ba0d57f00745c1acf57f3031e1f",
     "grade": false,
     "grade_id": "cell-f37720c4a932751c",
     "locked": true,
     "schema_version": 3,
     "solution": false,
     "task": false
    }
   },
   "source": [
    "(j) (and I hope you can see why I've skipped part (i)...) The solution, ${\\bf x}$, of the linear equation system\n",
    "\n",
    "$$A\\,{\\bf x} = {\\bf v},$$\n",
    "\n",
    "as a 1D NumPy array. Call this `solution1`."
   ]
  },
  {
   "cell_type": "code",
   "execution_count": 112,
   "metadata": {
    "deletable": false,
    "nbgrader": {
     "cell_type": "code",
     "checksum": "483ec4bf807b2959fb12d970ee32e6ea",
     "grade": false,
     "grade_id": "cell-6fa6caf023f1ae4c",
     "locked": false,
     "schema_version": 3,
     "solution": true,
     "task": false
    }
   },
   "outputs": [
    {
     "output_type": "stream",
     "name": "stdout",
     "text": [
      "[-1.  1. -1.  3.]\n"
     ]
    }
   ],
   "source": [
    "solution1 = la.solve(A, v)\n",
    "print(solution1)"
   ]
  },
  {
   "cell_type": "code",
   "execution_count": 113,
   "metadata": {
    "deletable": false,
    "editable": false,
    "nbgrader": {
     "cell_type": "code",
     "checksum": "e165b8184a0dc76cf335874cfdfac63a",
     "grade": true,
     "grade_id": "cell-5f443bea88b9db25",
     "locked": true,
     "points": 1,
     "schema_version": 3,
     "solution": false,
     "task": false
    }
   },
   "outputs": [
    {
     "output_type": "stream",
     "name": "stdout",
     "text": [
      "Correct value for solution1\n"
     ]
    },
    {
     "output_type": "execute_result",
     "data": {
      "text/plain": [
       "1"
      ]
     },
     "metadata": {},
     "execution_count": 113
    }
   ],
   "source": [
    "# 1 Mark\n",
    "# Do not try to delete this cell\n",
    "# Run this cell for grading\n",
    "_globals = globals()\n",
    "question5iij(_globals)"
   ]
  },
  {
   "cell_type": "markdown",
   "metadata": {
    "deletable": false,
    "editable": false,
    "nbgrader": {
     "cell_type": "markdown",
     "checksum": "1c93ef38b69331c93788c3ced2d23b60",
     "grade": false,
     "grade_id": "cell-b9e96232cd9f7d0f",
     "locked": true,
     "schema_version": 3,
     "solution": false,
     "task": false
    }
   },
   "source": [
    "(k) The column vector ${\\bf w}$ is defined by\n",
    "\n",
    "$${\\bf w} = \\left(\\begin{array}{cccc}\n",
    "1&0&1&-1\n",
    "\\end{array}\\right).$$\n",
    "\n",
    "Find, as a 1D NumPy array, the solution ${\\bf y}$ of the linear equation system\n",
    "\n",
    "$${\\bf y} \\, A = {\\bf w}$$\n",
    "\n",
    "(this may take some thought). Call this `solution2`"
   ]
  },
  {
   "cell_type": "code",
   "execution_count": 117,
   "metadata": {
    "deletable": false,
    "nbgrader": {
     "cell_type": "code",
     "checksum": "378674430bf2f8f8e9b3bd4089e97577",
     "grade": false,
     "grade_id": "cell-48f16eda5eeeea84",
     "locked": false,
     "schema_version": 3,
     "solution": true,
     "task": false
    }
   },
   "outputs": [
    {
     "output_type": "stream",
     "name": "stdout",
     "text": [
      "[ 1. -3.  2.  1.]\n"
     ]
    }
   ],
   "source": [
    "w = np.array([1,0,1,-1])\n",
    "solution2 = \"something\"\n",
    "solution2 = la.solve(A.transpose(), w)\n",
    "print(solution2)"
   ]
  },
  {
   "cell_type": "code",
   "execution_count": 118,
   "metadata": {
    "deletable": false,
    "editable": false,
    "nbgrader": {
     "cell_type": "code",
     "checksum": "bdf2fd2040b2a478e9572c069b6800be",
     "grade": true,
     "grade_id": "cell-3fa9ca4d1f5124a8",
     "locked": true,
     "points": 1,
     "schema_version": 3,
     "solution": false,
     "task": false
    }
   },
   "outputs": [
    {
     "output_type": "stream",
     "name": "stdout",
     "text": [
      "Correct value for solution2\n"
     ]
    },
    {
     "output_type": "execute_result",
     "data": {
      "text/plain": [
       "1"
      ]
     },
     "metadata": {},
     "execution_count": 118
    }
   ],
   "source": [
    "# 1 Mark\n",
    "# Do not try to delete this cell\n",
    "# Run this cell for grading\n",
    "_globals = globals()\n",
    "question5iik(_globals)"
   ]
  },
  {
   "cell_type": "markdown",
   "metadata": {
    "deletable": false,
    "editable": false,
    "nbgrader": {
     "cell_type": "markdown",
     "checksum": "13ab90e74a9b3b5aff1d4573fa91d997",
     "grade": false,
     "grade_id": "cell-23ad535ac637e8ab",
     "locked": true,
     "schema_version": 3,
     "solution": false,
     "task": false
    }
   },
   "source": [
    "## Question 6\n",
    "\n",
    "(a) Define a `poly1d` object called `mypoly` corresponding to the quartic \n",
    "$$x^4-8\\,x^3-26\\,x^2+168\\,x-135.$$"
   ]
  },
  {
   "cell_type": "code",
   "execution_count": 119,
   "metadata": {
    "deletable": false,
    "nbgrader": {
     "cell_type": "code",
     "checksum": "2d11e5a45df3a6fed3be18a5d0e08521",
     "grade": false,
     "grade_id": "cell-04b63033fa05f1b4",
     "locked": false,
     "schema_version": 3,
     "solution": true,
     "task": false
    }
   },
   "outputs": [
    {
     "output_type": "stream",
     "name": "stdout",
     "text": [
      "   4     3      2\n1 x - 8 x - 26 x + 168 x - 135\n"
     ]
    }
   ],
   "source": [
    "mypoly = np.poly1d([1, -8, -26, 168, -135])\n",
    "print(mypoly)"
   ]
  },
  {
   "cell_type": "code",
   "execution_count": 120,
   "metadata": {
    "deletable": false,
    "editable": false,
    "nbgrader": {
     "cell_type": "code",
     "checksum": "76c307c4a9762a6748e475006e248ac4",
     "grade": true,
     "grade_id": "cell-1b66e2e68a6b981d",
     "locked": true,
     "points": 1,
     "schema_version": 3,
     "solution": false,
     "task": false
    }
   },
   "outputs": [
    {
     "output_type": "stream",
     "name": "stdout",
     "text": [
      "Correct value for mypoly\n"
     ]
    },
    {
     "output_type": "execute_result",
     "data": {
      "text/plain": [
       "1"
      ]
     },
     "metadata": {},
     "execution_count": 120
    }
   ],
   "source": [
    "# 1 Mark\n",
    "# Do not try to delete this cell\n",
    "# Run this cell for grading\n",
    "_globals = globals()\n",
    "question6a(_globals)"
   ]
  },
  {
   "cell_type": "markdown",
   "metadata": {
    "deletable": false,
    "editable": false,
    "nbgrader": {
     "cell_type": "markdown",
     "checksum": "aa65224323d9b2188b9c77dc111c1eab",
     "grade": false,
     "grade_id": "cell-96d52318a9212b32",
     "locked": true,
     "schema_version": 3,
     "solution": false,
     "task": false
    }
   },
   "source": [
    "(b) Calculate the values of `mypoly` at $x=-6,-5,-4,\\dots,8,9,10$, giving your answer in the form of a NumPy array called `mypolyvalues`."
   ]
  },
  {
   "cell_type": "code",
   "execution_count": 124,
   "metadata": {
    "deletable": false,
    "nbgrader": {
     "cell_type": "code",
     "checksum": "e326d09ab50af2d753b4e1e22f9319a3",
     "grade": false,
     "grade_id": "cell-1b241ac1c6841df4",
     "locked": false,
     "schema_version": 3,
     "solution": true,
     "task": false
    }
   },
   "outputs": [
    {
     "output_type": "stream",
     "name": "stdout",
     "text": [
      "[ 945    0 -455 -576 -495 -320 -135    0   49    0 -135 -320 -495 -576\n -455    0  945]\n"
     ]
    }
   ],
   "source": [
    "mypolyvalues = np.polyval(mypoly, [num for num in range(-6, 11)])\n",
    "print(mypolyvalues)"
   ]
  },
  {
   "cell_type": "code",
   "execution_count": 125,
   "metadata": {
    "deletable": false,
    "editable": false,
    "nbgrader": {
     "cell_type": "code",
     "checksum": "ca4ff3d7be7d61706fb58870918082d3",
     "grade": true,
     "grade_id": "cell-21da96f121ceef32",
     "locked": true,
     "points": 1,
     "schema_version": 3,
     "solution": false,
     "task": false
    }
   },
   "outputs": [
    {
     "output_type": "stream",
     "name": "stdout",
     "text": [
      "Correct value for mypolyvalues\n"
     ]
    },
    {
     "output_type": "execute_result",
     "data": {
      "text/plain": [
       "1"
      ]
     },
     "metadata": {},
     "execution_count": 125
    }
   ],
   "source": [
    "# 1 Mark\n",
    "# Do not try to delete this cell\n",
    "# Run this cell for grading\n",
    "_globals = globals()\n",
    "question6b(_globals)"
   ]
  },
  {
   "cell_type": "markdown",
   "metadata": {
    "deletable": false,
    "editable": false,
    "nbgrader": {
     "cell_type": "markdown",
     "checksum": "0a7a3bb65039b816a7db62d8635c92bf",
     "grade": false,
     "grade_id": "cell-0f12775070d705df",
     "locked": true,
     "schema_version": 3,
     "solution": false,
     "task": false
    }
   },
   "source": [
    "(c) Calculate the roots of `mypoly`, giving your answer in the form of a NumPy array called `mypolyroots`."
   ]
  },
  {
   "cell_type": "code",
   "execution_count": 126,
   "metadata": {
    "deletable": false,
    "nbgrader": {
     "cell_type": "code",
     "checksum": "2dc29707032e9576f6972dda21d888a2",
     "grade": false,
     "grade_id": "cell-eddd0657cedbaf6d",
     "locked": false,
     "schema_version": 3,
     "solution": true,
     "task": false
    }
   },
   "outputs": [
    {
     "output_type": "stream",
     "name": "stdout",
     "text": [
      "[ 9. -5.  3.  1.]\n"
     ]
    }
   ],
   "source": [
    "mypolyroots = np.roots(mypoly)\n",
    "print(mypolyroots)"
   ]
  },
  {
   "cell_type": "code",
   "execution_count": 127,
   "metadata": {
    "deletable": false,
    "editable": false,
    "nbgrader": {
     "cell_type": "code",
     "checksum": "e94f287c1f40b4aa9ba939b34bafca5c",
     "grade": true,
     "grade_id": "cell-7cdca97652b4de07",
     "locked": true,
     "points": 1,
     "schema_version": 3,
     "solution": false,
     "task": false
    }
   },
   "outputs": [
    {
     "output_type": "stream",
     "name": "stdout",
     "text": [
      "Correct value for mypolyroots\n"
     ]
    },
    {
     "output_type": "execute_result",
     "data": {
      "text/plain": [
       "1"
      ]
     },
     "metadata": {},
     "execution_count": 127
    }
   ],
   "source": [
    "# 1 Mark\n",
    "# Do not try to delete this cell\n",
    "# Run this cell for grading\n",
    "_globals = globals()\n",
    "question6c(_globals)"
   ]
  },
  {
   "cell_type": "markdown",
   "metadata": {
    "deletable": false,
    "editable": false,
    "nbgrader": {
     "cell_type": "markdown",
     "checksum": "8fdd0d90e2538d536700146025298e86",
     "grade": false,
     "grade_id": "cell-7a0c30b7b2c47f83",
     "locked": true,
     "schema_version": 3,
     "solution": false,
     "task": false
    }
   },
   "source": [
    "(d) Calculate the $x$- and $y$-coordinates of the stationary points of `mypoly`, giving your answers as NumPy arrays `spx` and `spy`."
   ]
  },
  {
   "cell_type": "code",
   "execution_count": 128,
   "metadata": {
    "deletable": false,
    "nbgrader": {
     "cell_type": "code",
     "checksum": "b50a6d0841aa3ba51fef95820c3a2b42",
     "grade": false,
     "grade_id": "cell-a7f7dfea33663a11",
     "locked": false,
     "schema_version": 3,
     "solution": true,
     "task": false
    }
   },
   "outputs": [
    {
     "output_type": "stream",
     "name": "stdout",
     "text": [
      "[ 7. -3.  2.]\n[-576. -576.   49.]\n"
     ]
    }
   ],
   "source": [
    "spx = np.roots(np.polyder(mypoly))\n",
    "spy = np.polyval(mypoly, spx)\n",
    "print(spx)\n",
    "print(spy)"
   ]
  },
  {
   "cell_type": "code",
   "execution_count": 129,
   "metadata": {
    "deletable": false,
    "editable": false,
    "nbgrader": {
     "cell_type": "code",
     "checksum": "18b3f5aa7fc84fe19a24f33b9e611930",
     "grade": true,
     "grade_id": "cell-785811b5247a03e3",
     "locked": true,
     "points": 2,
     "schema_version": 3,
     "solution": false,
     "task": false
    }
   },
   "outputs": [
    {
     "output_type": "stream",
     "name": "stdout",
     "text": [
      "Correct value for spx\nCorrect value for spy\n"
     ]
    },
    {
     "output_type": "execute_result",
     "data": {
      "text/plain": [
       "2"
      ]
     },
     "metadata": {},
     "execution_count": 129
    }
   ],
   "source": [
    "# 2 Marks\n",
    "# Do not try to delete this cell\n",
    "# Run this cell for grading\n",
    "_globals = globals()\n",
    "question6d(_globals)"
   ]
  },
  {
   "cell_type": "markdown",
   "metadata": {
    "deletable": false,
    "editable": false,
    "nbgrader": {
     "cell_type": "markdown",
     "checksum": "72c636a6acd6863d74942a63f4260acb",
     "grade": false,
     "grade_id": "cell-de16c4fa6dc14c75",
     "locked": true,
     "schema_version": 3,
     "solution": false,
     "task": false
    }
   },
   "source": [
    "(e) Create a plot of `mypoly` for $-6\\le x \\le 10$, showing the positions of the three stationary points you found above. Autograding will not be able to help you here!"
   ]
  },
  {
   "cell_type": "code",
   "execution_count": 131,
   "metadata": {
    "deletable": false,
    "nbgrader": {
     "cell_type": "code",
     "checksum": "0a1b4bd672abe1d0b18295d7ec5bd840",
     "grade": false,
     "grade_id": "cell-86800ef188199ebe",
     "locked": false,
     "schema_version": 3,
     "solution": true,
     "task": false
    }
   },
   "outputs": [
    {
     "output_type": "execute_result",
     "data": {
      "text/plain": [
       "[<matplotlib.lines.Line2D at 0x1d37e521848>]"
      ]
     },
     "metadata": {},
     "execution_count": 131
    },
    {
     "output_type": "display_data",
     "data": {
      "text/plain": "<Figure size 432x288 with 1 Axes>",
      "image/svg+xml": "<?xml version=\"1.0\" encoding=\"utf-8\" standalone=\"no\"?>\r\n<!DOCTYPE svg PUBLIC \"-//W3C//DTD SVG 1.1//EN\"\r\n  \"http://www.w3.org/Graphics/SVG/1.1/DTD/svg11.dtd\">\r\n<!-- Created with matplotlib (https://matplotlib.org/) -->\r\n<svg height=\"249.581636pt\" version=\"1.1\" viewBox=\"0 0 383.667187 249.581636\" width=\"383.667187pt\" xmlns=\"http://www.w3.org/2000/svg\" xmlns:xlink=\"http://www.w3.org/1999/xlink\">\r\n <defs>\r\n  <style type=\"text/css\">\r\n*{stroke-linecap:butt;stroke-linejoin:round;}\r\n  </style>\r\n </defs>\r\n <g id=\"figure_1\">\r\n  <g id=\"patch_1\">\r\n   <path d=\"M 0 249.581636 \r\nL 383.667187 249.581636 \r\nL 383.667187 0 \r\nL 0 0 \r\nz\r\n\" style=\"fill:none;\"/>\r\n  </g>\r\n  <g id=\"axes_1\">\r\n   <g id=\"patch_2\">\r\n    <path d=\"M 41.667188 225.703511 \r\nL 376.467188 225.703511 \r\nL 376.467188 8.263511 \r\nL 41.667188 8.263511 \r\nz\r\n\" style=\"fill:#ffffff;\"/>\r\n   </g>\r\n   <g id=\"matplotlib.axis_1\">\r\n    <g id=\"xtick_1\">\r\n     <g id=\"line2d_1\">\r\n      <defs>\r\n       <path d=\"M 0 0 \r\nL 0 3.5 \r\n\" id=\"mf75cb62ad2\" style=\"stroke:#000000;stroke-width:0.8;\"/>\r\n      </defs>\r\n      <g>\r\n       <use style=\"stroke:#000000;stroke-width:0.8;\" x=\"56.885369\" xlink:href=\"#mf75cb62ad2\" y=\"225.703511\"/>\r\n      </g>\r\n     </g>\r\n     <g id=\"text_1\">\r\n      <!-- −6 -->\r\n      <defs>\r\n       <path d=\"M 10.59375 35.5 \r\nL 73.1875 35.5 \r\nL 73.1875 27.203125 \r\nL 10.59375 27.203125 \r\nz\r\n\" id=\"DejaVuSans-8722\"/>\r\n       <path d=\"M 33.015625 40.375 \r\nQ 26.375 40.375 22.484375 35.828125 \r\nQ 18.609375 31.296875 18.609375 23.390625 \r\nQ 18.609375 15.53125 22.484375 10.953125 \r\nQ 26.375 6.390625 33.015625 6.390625 \r\nQ 39.65625 6.390625 43.53125 10.953125 \r\nQ 47.40625 15.53125 47.40625 23.390625 \r\nQ 47.40625 31.296875 43.53125 35.828125 \r\nQ 39.65625 40.375 33.015625 40.375 \r\nz\r\nM 52.59375 71.296875 \r\nL 52.59375 62.3125 \r\nQ 48.875 64.0625 45.09375 64.984375 \r\nQ 41.3125 65.921875 37.59375 65.921875 \r\nQ 27.828125 65.921875 22.671875 59.328125 \r\nQ 17.53125 52.734375 16.796875 39.40625 \r\nQ 19.671875 43.65625 24.015625 45.921875 \r\nQ 28.375 48.1875 33.59375 48.1875 \r\nQ 44.578125 48.1875 50.953125 41.515625 \r\nQ 57.328125 34.859375 57.328125 23.390625 \r\nQ 57.328125 12.15625 50.6875 5.359375 \r\nQ 44.046875 -1.421875 33.015625 -1.421875 \r\nQ 20.359375 -1.421875 13.671875 8.265625 \r\nQ 6.984375 17.96875 6.984375 36.375 \r\nQ 6.984375 53.65625 15.1875 63.9375 \r\nQ 23.390625 74.21875 37.203125 74.21875 \r\nQ 40.921875 74.21875 44.703125 73.484375 \r\nQ 48.484375 72.75 52.59375 71.296875 \r\nz\r\n\" id=\"DejaVuSans-54\"/>\r\n      </defs>\r\n      <g transform=\"translate(49.514276 240.301949)scale(0.1 -0.1)\">\r\n       <use xlink:href=\"#DejaVuSans-8722\"/>\r\n       <use x=\"83.789062\" xlink:href=\"#DejaVuSans-54\"/>\r\n      </g>\r\n     </g>\r\n    </g>\r\n    <g id=\"xtick_2\">\r\n     <g id=\"line2d_2\">\r\n      <g>\r\n       <use style=\"stroke:#000000;stroke-width:0.8;\" x=\"94.930824\" xlink:href=\"#mf75cb62ad2\" y=\"225.703511\"/>\r\n      </g>\r\n     </g>\r\n     <g id=\"text_2\">\r\n      <!-- −4 -->\r\n      <defs>\r\n       <path d=\"M 37.796875 64.3125 \r\nL 12.890625 25.390625 \r\nL 37.796875 25.390625 \r\nz\r\nM 35.203125 72.90625 \r\nL 47.609375 72.90625 \r\nL 47.609375 25.390625 \r\nL 58.015625 25.390625 \r\nL 58.015625 17.1875 \r\nL 47.609375 17.1875 \r\nL 47.609375 0 \r\nL 37.796875 0 \r\nL 37.796875 17.1875 \r\nL 4.890625 17.1875 \r\nL 4.890625 26.703125 \r\nz\r\n\" id=\"DejaVuSans-52\"/>\r\n      </defs>\r\n      <g transform=\"translate(87.55973 240.301949)scale(0.1 -0.1)\">\r\n       <use xlink:href=\"#DejaVuSans-8722\"/>\r\n       <use x=\"83.789062\" xlink:href=\"#DejaVuSans-52\"/>\r\n      </g>\r\n     </g>\r\n    </g>\r\n    <g id=\"xtick_3\">\r\n     <g id=\"line2d_3\">\r\n      <g>\r\n       <use style=\"stroke:#000000;stroke-width:0.8;\" x=\"132.976278\" xlink:href=\"#mf75cb62ad2\" y=\"225.703511\"/>\r\n      </g>\r\n     </g>\r\n     <g id=\"text_3\">\r\n      <!-- −2 -->\r\n      <defs>\r\n       <path d=\"M 19.1875 8.296875 \r\nL 53.609375 8.296875 \r\nL 53.609375 0 \r\nL 7.328125 0 \r\nL 7.328125 8.296875 \r\nQ 12.9375 14.109375 22.625 23.890625 \r\nQ 32.328125 33.6875 34.8125 36.53125 \r\nQ 39.546875 41.84375 41.421875 45.53125 \r\nQ 43.3125 49.21875 43.3125 52.78125 \r\nQ 43.3125 58.59375 39.234375 62.25 \r\nQ 35.15625 65.921875 28.609375 65.921875 \r\nQ 23.96875 65.921875 18.8125 64.3125 \r\nQ 13.671875 62.703125 7.8125 59.421875 \r\nL 7.8125 69.390625 \r\nQ 13.765625 71.78125 18.9375 73 \r\nQ 24.125 74.21875 28.421875 74.21875 \r\nQ 39.75 74.21875 46.484375 68.546875 \r\nQ 53.21875 62.890625 53.21875 53.421875 \r\nQ 53.21875 48.921875 51.53125 44.890625 \r\nQ 49.859375 40.875 45.40625 35.40625 \r\nQ 44.1875 33.984375 37.640625 27.21875 \r\nQ 31.109375 20.453125 19.1875 8.296875 \r\nz\r\n\" id=\"DejaVuSans-50\"/>\r\n      </defs>\r\n      <g transform=\"translate(125.605185 240.301949)scale(0.1 -0.1)\">\r\n       <use xlink:href=\"#DejaVuSans-8722\"/>\r\n       <use x=\"83.789062\" xlink:href=\"#DejaVuSans-50\"/>\r\n      </g>\r\n     </g>\r\n    </g>\r\n    <g id=\"xtick_4\">\r\n     <g id=\"line2d_4\">\r\n      <g>\r\n       <use style=\"stroke:#000000;stroke-width:0.8;\" x=\"171.021733\" xlink:href=\"#mf75cb62ad2\" y=\"225.703511\"/>\r\n      </g>\r\n     </g>\r\n     <g id=\"text_4\">\r\n      <!-- 0 -->\r\n      <defs>\r\n       <path d=\"M 31.78125 66.40625 \r\nQ 24.171875 66.40625 20.328125 58.90625 \r\nQ 16.5 51.421875 16.5 36.375 \r\nQ 16.5 21.390625 20.328125 13.890625 \r\nQ 24.171875 6.390625 31.78125 6.390625 \r\nQ 39.453125 6.390625 43.28125 13.890625 \r\nQ 47.125 21.390625 47.125 36.375 \r\nQ 47.125 51.421875 43.28125 58.90625 \r\nQ 39.453125 66.40625 31.78125 66.40625 \r\nz\r\nM 31.78125 74.21875 \r\nQ 44.046875 74.21875 50.515625 64.515625 \r\nQ 56.984375 54.828125 56.984375 36.375 \r\nQ 56.984375 17.96875 50.515625 8.265625 \r\nQ 44.046875 -1.421875 31.78125 -1.421875 \r\nQ 19.53125 -1.421875 13.0625 8.265625 \r\nQ 6.59375 17.96875 6.59375 36.375 \r\nQ 6.59375 54.828125 13.0625 64.515625 \r\nQ 19.53125 74.21875 31.78125 74.21875 \r\nz\r\n\" id=\"DejaVuSans-48\"/>\r\n      </defs>\r\n      <g transform=\"translate(167.840483 240.301949)scale(0.1 -0.1)\">\r\n       <use xlink:href=\"#DejaVuSans-48\"/>\r\n      </g>\r\n     </g>\r\n    </g>\r\n    <g id=\"xtick_5\">\r\n     <g id=\"line2d_5\">\r\n      <g>\r\n       <use style=\"stroke:#000000;stroke-width:0.8;\" x=\"209.067187\" xlink:href=\"#mf75cb62ad2\" y=\"225.703511\"/>\r\n      </g>\r\n     </g>\r\n     <g id=\"text_5\">\r\n      <!-- 2 -->\r\n      <g transform=\"translate(205.885937 240.301949)scale(0.1 -0.1)\">\r\n       <use xlink:href=\"#DejaVuSans-50\"/>\r\n      </g>\r\n     </g>\r\n    </g>\r\n    <g id=\"xtick_6\">\r\n     <g id=\"line2d_6\">\r\n      <g>\r\n       <use style=\"stroke:#000000;stroke-width:0.8;\" x=\"247.112642\" xlink:href=\"#mf75cb62ad2\" y=\"225.703511\"/>\r\n      </g>\r\n     </g>\r\n     <g id=\"text_6\">\r\n      <!-- 4 -->\r\n      <g transform=\"translate(243.931392 240.301949)scale(0.1 -0.1)\">\r\n       <use xlink:href=\"#DejaVuSans-52\"/>\r\n      </g>\r\n     </g>\r\n    </g>\r\n    <g id=\"xtick_7\">\r\n     <g id=\"line2d_7\">\r\n      <g>\r\n       <use style=\"stroke:#000000;stroke-width:0.8;\" x=\"285.158097\" xlink:href=\"#mf75cb62ad2\" y=\"225.703511\"/>\r\n      </g>\r\n     </g>\r\n     <g id=\"text_7\">\r\n      <!-- 6 -->\r\n      <g transform=\"translate(281.976847 240.301949)scale(0.1 -0.1)\">\r\n       <use xlink:href=\"#DejaVuSans-54\"/>\r\n      </g>\r\n     </g>\r\n    </g>\r\n    <g id=\"xtick_8\">\r\n     <g id=\"line2d_8\">\r\n      <g>\r\n       <use style=\"stroke:#000000;stroke-width:0.8;\" x=\"323.203551\" xlink:href=\"#mf75cb62ad2\" y=\"225.703511\"/>\r\n      </g>\r\n     </g>\r\n     <g id=\"text_8\">\r\n      <!-- 8 -->\r\n      <defs>\r\n       <path d=\"M 31.78125 34.625 \r\nQ 24.75 34.625 20.71875 30.859375 \r\nQ 16.703125 27.09375 16.703125 20.515625 \r\nQ 16.703125 13.921875 20.71875 10.15625 \r\nQ 24.75 6.390625 31.78125 6.390625 \r\nQ 38.8125 6.390625 42.859375 10.171875 \r\nQ 46.921875 13.96875 46.921875 20.515625 \r\nQ 46.921875 27.09375 42.890625 30.859375 \r\nQ 38.875 34.625 31.78125 34.625 \r\nz\r\nM 21.921875 38.8125 \r\nQ 15.578125 40.375 12.03125 44.71875 \r\nQ 8.5 49.078125 8.5 55.328125 \r\nQ 8.5 64.0625 14.71875 69.140625 \r\nQ 20.953125 74.21875 31.78125 74.21875 \r\nQ 42.671875 74.21875 48.875 69.140625 \r\nQ 55.078125 64.0625 55.078125 55.328125 \r\nQ 55.078125 49.078125 51.53125 44.71875 \r\nQ 48 40.375 41.703125 38.8125 \r\nQ 48.828125 37.15625 52.796875 32.3125 \r\nQ 56.78125 27.484375 56.78125 20.515625 \r\nQ 56.78125 9.90625 50.3125 4.234375 \r\nQ 43.84375 -1.421875 31.78125 -1.421875 \r\nQ 19.734375 -1.421875 13.25 4.234375 \r\nQ 6.78125 9.90625 6.78125 20.515625 \r\nQ 6.78125 27.484375 10.78125 32.3125 \r\nQ 14.796875 37.15625 21.921875 38.8125 \r\nz\r\nM 18.3125 54.390625 \r\nQ 18.3125 48.734375 21.84375 45.5625 \r\nQ 25.390625 42.390625 31.78125 42.390625 \r\nQ 38.140625 42.390625 41.71875 45.5625 \r\nQ 45.3125 48.734375 45.3125 54.390625 \r\nQ 45.3125 60.0625 41.71875 63.234375 \r\nQ 38.140625 66.40625 31.78125 66.40625 \r\nQ 25.390625 66.40625 21.84375 63.234375 \r\nQ 18.3125 60.0625 18.3125 54.390625 \r\nz\r\n\" id=\"DejaVuSans-56\"/>\r\n      </defs>\r\n      <g transform=\"translate(320.022301 240.301949)scale(0.1 -0.1)\">\r\n       <use xlink:href=\"#DejaVuSans-56\"/>\r\n      </g>\r\n     </g>\r\n    </g>\r\n    <g id=\"xtick_9\">\r\n     <g id=\"line2d_9\">\r\n      <g>\r\n       <use style=\"stroke:#000000;stroke-width:0.8;\" x=\"361.249006\" xlink:href=\"#mf75cb62ad2\" y=\"225.703511\"/>\r\n      </g>\r\n     </g>\r\n     <g id=\"text_9\">\r\n      <!-- 10 -->\r\n      <defs>\r\n       <path d=\"M 12.40625 8.296875 \r\nL 28.515625 8.296875 \r\nL 28.515625 63.921875 \r\nL 10.984375 60.40625 \r\nL 10.984375 69.390625 \r\nL 28.421875 72.90625 \r\nL 38.28125 72.90625 \r\nL 38.28125 8.296875 \r\nL 54.390625 8.296875 \r\nL 54.390625 0 \r\nL 12.40625 0 \r\nz\r\n\" id=\"DejaVuSans-49\"/>\r\n      </defs>\r\n      <g transform=\"translate(354.886506 240.301949)scale(0.1 -0.1)\">\r\n       <use xlink:href=\"#DejaVuSans-49\"/>\r\n       <use x=\"63.623047\" xlink:href=\"#DejaVuSans-48\"/>\r\n      </g>\r\n     </g>\r\n    </g>\r\n   </g>\r\n   <g id=\"matplotlib.axis_2\">\r\n    <g id=\"ytick_1\">\r\n     <g id=\"line2d_10\">\r\n      <defs>\r\n       <path d=\"M 0 0 \r\nL -3.5 0 \r\n\" id=\"m207309fa7c\" style=\"stroke:#000000;stroke-width:0.8;\"/>\r\n      </defs>\r\n      <g>\r\n       <use style=\"stroke:#000000;stroke-width:0.8;\" x=\"41.667188\" xlink:href=\"#m207309fa7c\" y=\"218.938971\"/>\r\n      </g>\r\n     </g>\r\n     <g id=\"text_10\">\r\n      <!-- −600 -->\r\n      <g transform=\"translate(7.2 222.73819)scale(0.1 -0.1)\">\r\n       <use xlink:href=\"#DejaVuSans-8722\"/>\r\n       <use x=\"83.789062\" xlink:href=\"#DejaVuSans-54\"/>\r\n       <use x=\"147.412109\" xlink:href=\"#DejaVuSans-48\"/>\r\n       <use x=\"211.035156\" xlink:href=\"#DejaVuSans-48\"/>\r\n      </g>\r\n     </g>\r\n    </g>\r\n    <g id=\"ytick_2\">\r\n     <g id=\"line2d_11\">\r\n      <g>\r\n       <use style=\"stroke:#000000;stroke-width:0.8;\" x=\"41.667188\" xlink:href=\"#m207309fa7c\" y=\"192.946502\"/>\r\n      </g>\r\n     </g>\r\n     <g id=\"text_11\">\r\n      <!-- −400 -->\r\n      <g transform=\"translate(7.2 196.745721)scale(0.1 -0.1)\">\r\n       <use xlink:href=\"#DejaVuSans-8722\"/>\r\n       <use x=\"83.789062\" xlink:href=\"#DejaVuSans-52\"/>\r\n       <use x=\"147.412109\" xlink:href=\"#DejaVuSans-48\"/>\r\n       <use x=\"211.035156\" xlink:href=\"#DejaVuSans-48\"/>\r\n      </g>\r\n     </g>\r\n    </g>\r\n    <g id=\"ytick_3\">\r\n     <g id=\"line2d_12\">\r\n      <g>\r\n       <use style=\"stroke:#000000;stroke-width:0.8;\" x=\"41.667188\" xlink:href=\"#m207309fa7c\" y=\"166.954033\"/>\r\n      </g>\r\n     </g>\r\n     <g id=\"text_12\">\r\n      <!-- −200 -->\r\n      <g transform=\"translate(7.2 170.753252)scale(0.1 -0.1)\">\r\n       <use xlink:href=\"#DejaVuSans-8722\"/>\r\n       <use x=\"83.789062\" xlink:href=\"#DejaVuSans-50\"/>\r\n       <use x=\"147.412109\" xlink:href=\"#DejaVuSans-48\"/>\r\n       <use x=\"211.035156\" xlink:href=\"#DejaVuSans-48\"/>\r\n      </g>\r\n     </g>\r\n    </g>\r\n    <g id=\"ytick_4\">\r\n     <g id=\"line2d_13\">\r\n      <g>\r\n       <use style=\"stroke:#000000;stroke-width:0.8;\" x=\"41.667188\" xlink:href=\"#m207309fa7c\" y=\"140.961564\"/>\r\n      </g>\r\n     </g>\r\n     <g id=\"text_13\">\r\n      <!-- 0 -->\r\n      <g transform=\"translate(28.304688 144.760783)scale(0.1 -0.1)\">\r\n       <use xlink:href=\"#DejaVuSans-48\"/>\r\n      </g>\r\n     </g>\r\n    </g>\r\n    <g id=\"ytick_5\">\r\n     <g id=\"line2d_14\">\r\n      <g>\r\n       <use style=\"stroke:#000000;stroke-width:0.8;\" x=\"41.667188\" xlink:href=\"#m207309fa7c\" y=\"114.969095\"/>\r\n      </g>\r\n     </g>\r\n     <g id=\"text_14\">\r\n      <!-- 200 -->\r\n      <g transform=\"translate(15.579688 118.768314)scale(0.1 -0.1)\">\r\n       <use xlink:href=\"#DejaVuSans-50\"/>\r\n       <use x=\"63.623047\" xlink:href=\"#DejaVuSans-48\"/>\r\n       <use x=\"127.246094\" xlink:href=\"#DejaVuSans-48\"/>\r\n      </g>\r\n     </g>\r\n    </g>\r\n    <g id=\"ytick_6\">\r\n     <g id=\"line2d_15\">\r\n      <g>\r\n       <use style=\"stroke:#000000;stroke-width:0.8;\" x=\"41.667188\" xlink:href=\"#m207309fa7c\" y=\"88.976626\"/>\r\n      </g>\r\n     </g>\r\n     <g id=\"text_15\">\r\n      <!-- 400 -->\r\n      <g transform=\"translate(15.579688 92.775845)scale(0.1 -0.1)\">\r\n       <use xlink:href=\"#DejaVuSans-52\"/>\r\n       <use x=\"63.623047\" xlink:href=\"#DejaVuSans-48\"/>\r\n       <use x=\"127.246094\" xlink:href=\"#DejaVuSans-48\"/>\r\n      </g>\r\n     </g>\r\n    </g>\r\n    <g id=\"ytick_7\">\r\n     <g id=\"line2d_16\">\r\n      <g>\r\n       <use style=\"stroke:#000000;stroke-width:0.8;\" x=\"41.667188\" xlink:href=\"#m207309fa7c\" y=\"62.984157\"/>\r\n      </g>\r\n     </g>\r\n     <g id=\"text_16\">\r\n      <!-- 600 -->\r\n      <g transform=\"translate(15.579688 66.783376)scale(0.1 -0.1)\">\r\n       <use xlink:href=\"#DejaVuSans-54\"/>\r\n       <use x=\"63.623047\" xlink:href=\"#DejaVuSans-48\"/>\r\n       <use x=\"127.246094\" xlink:href=\"#DejaVuSans-48\"/>\r\n      </g>\r\n     </g>\r\n    </g>\r\n    <g id=\"ytick_8\">\r\n     <g id=\"line2d_17\">\r\n      <g>\r\n       <use style=\"stroke:#000000;stroke-width:0.8;\" x=\"41.667188\" xlink:href=\"#m207309fa7c\" y=\"36.991688\"/>\r\n      </g>\r\n     </g>\r\n     <g id=\"text_17\">\r\n      <!-- 800 -->\r\n      <g transform=\"translate(15.579688 40.790907)scale(0.1 -0.1)\">\r\n       <use xlink:href=\"#DejaVuSans-56\"/>\r\n       <use x=\"63.623047\" xlink:href=\"#DejaVuSans-48\"/>\r\n       <use x=\"127.246094\" xlink:href=\"#DejaVuSans-48\"/>\r\n      </g>\r\n     </g>\r\n    </g>\r\n    <g id=\"ytick_9\">\r\n     <g id=\"line2d_18\">\r\n      <g>\r\n       <use style=\"stroke:#000000;stroke-width:0.8;\" x=\"41.667188\" xlink:href=\"#m207309fa7c\" y=\"10.999219\"/>\r\n      </g>\r\n     </g>\r\n     <g id=\"text_18\">\r\n      <!-- 1000 -->\r\n      <g transform=\"translate(9.217188 14.798437)scale(0.1 -0.1)\">\r\n       <use xlink:href=\"#DejaVuSans-49\"/>\r\n       <use x=\"63.623047\" xlink:href=\"#DejaVuSans-48\"/>\r\n       <use x=\"127.246094\" xlink:href=\"#DejaVuSans-48\"/>\r\n       <use x=\"190.869141\" xlink:href=\"#DejaVuSans-48\"/>\r\n      </g>\r\n     </g>\r\n    </g>\r\n   </g>\r\n   <g id=\"line2d_19\">\r\n    <path clip-path=\"url(#pdae307f373)\" d=\"M 56.885369 18.147148 \r\nL 75.908097 140.961564 \r\nL 94.930824 200.094431 \r\nL 113.953551 215.819875 \r\nL 132.976278 205.292925 \r\nL 151.999006 182.549515 \r\nL 171.021733 158.506481 \r\nL 190.04446 140.961564 \r\nL 209.067187 134.593409 \r\nL 228.089915 140.961564 \r\nL 247.112642 158.506481 \r\nL 266.135369 182.549515 \r\nL 285.158097 205.292925 \r\nL 304.180824 215.819875 \r\nL 323.203551 200.094431 \r\nL 342.226278 140.961564 \r\nL 361.249006 18.147148 \r\n\" style=\"fill:none;stroke:#1f77b4;stroke-linecap:square;stroke-width:1.5;\"/>\r\n   </g>\r\n   <g id=\"patch_3\">\r\n    <path d=\"M 41.667188 225.703511 \r\nL 41.667188 8.263511 \r\n\" style=\"fill:none;stroke:#000000;stroke-linecap:square;stroke-linejoin:miter;stroke-width:0.8;\"/>\r\n   </g>\r\n   <g id=\"patch_4\">\r\n    <path d=\"M 376.467188 225.703511 \r\nL 376.467188 8.263511 \r\n\" style=\"fill:none;stroke:#000000;stroke-linecap:square;stroke-linejoin:miter;stroke-width:0.8;\"/>\r\n   </g>\r\n   <g id=\"patch_5\">\r\n    <path d=\"M 41.667188 225.703511 \r\nL 376.467188 225.703511 \r\n\" style=\"fill:none;stroke:#000000;stroke-linecap:square;stroke-linejoin:miter;stroke-width:0.8;\"/>\r\n   </g>\r\n   <g id=\"patch_6\">\r\n    <path d=\"M 41.667188 8.263511 \r\nL 376.467188 8.263511 \r\n\" style=\"fill:none;stroke:#000000;stroke-linecap:square;stroke-linejoin:miter;stroke-width:0.8;\"/>\r\n   </g>\r\n  </g>\r\n </g>\r\n <defs>\r\n  <clipPath id=\"pdae307f373\">\r\n   <rect height=\"217.44\" width=\"334.8\" x=\"41.667188\" y=\"8.263511\"/>\r\n  </clipPath>\r\n </defs>\r\n</svg>\r\n",
      "image/png": "[encoded data removed]"
     },
     "metadata": {
      "needs_background": "light"
     }
    }
   ],
   "source": [
    "x_val = [num for num in range(-6, 11)]\n",
    "y_val = np.polyval(mypoly, x_val)\n",
    "\n",
    "plt.plot(x_val, y_val)"
   ]
  },
  {
   "cell_type": "markdown",
   "metadata": {
    "deletable": false,
    "editable": false,
    "nbgrader": {
     "cell_type": "markdown",
     "checksum": "9d62782e24a3463a7d9a767524c9df80",
     "grade": false,
     "grade_id": "cell-3497e996eadbab03",
     "locked": true,
     "schema_version": 3,
     "solution": false,
     "task": false
    }
   },
   "source": [
    "## Bonus Question\n",
    "\n",
    "Write a function `root_finder`, which takes as inputs, the anonymous functions `f` and derivative `g`, the left and right endpoints `a` and `b` respectively. It should also take `xstar` an initial approximation and a tolerance `tol`. The function should implement BOTH the bisection method and Newton's method subject to the given inputs. It should return the final approximation to the root as well as the number of iterations required to achieve the approximation for each method (you can return `0.5*(a + b)` as the approximation for the bisection method). The returned values should be of the form: `bisection_approx, bisection_iterations, newton_approx, newton_iterations`. You **must** control the bisection method's tolerance with `abs(a - b)` and `abs(xnew - xold)` for Newton's method. The bisection search should return the midpoint of the final interval."
   ]
  },
  {
   "cell_type": "code",
   "execution_count": null,
   "metadata": {
    "deletable": false,
    "nbgrader": {
     "cell_type": "code",
     "checksum": "8b04f6c9e1bf4bf715cca3dc8cd0f961",
     "grade": false,
     "grade_id": "cell-82740cb38e52ea64",
     "locked": false,
     "schema_version": 3,
     "solution": true,
     "task": false
    }
   },
   "outputs": [],
   "source": [
    "def root_finder(f, g, a, b, xstar, tol):\n",
    "    # YOUR CODE HERE\n",
    "    raise NotImplementedError()\n"
   ]
  },
  {
   "cell_type": "code",
   "execution_count": null,
   "metadata": {
    "deletable": false,
    "editable": false,
    "nbgrader": {
     "cell_type": "code",
     "checksum": "1fbd88042e067d621c03336844a5cc0c",
     "grade": true,
     "grade_id": "cell-b261b86d49ae6b3c",
     "locked": true,
     "points": 1,
     "schema_version": 3,
     "solution": false,
     "task": false
    }
   },
   "outputs": [],
   "source": [
    "# Run this test cell to check your code\n",
    "# Do not delete this cell\n",
    "# 1 Mark\n",
    "f     = lambda x: x**2 - 1\n",
    "g     = lambda x: 2*x\n",
    "a     = 0\n",
    "b     = 3\n",
    "xstar = 3\n",
    "tol   = 1e-7\n",
    "npt.assert_almost_equal(0.9999999850988388, root_finder(f, g, a, b, xstar, tol)[0])\n",
    "print(\"Test case passed!!!\")"
   ]
  },
  {
   "cell_type": "code",
   "execution_count": null,
   "metadata": {
    "deletable": false,
    "editable": false,
    "nbgrader": {
     "cell_type": "code",
     "checksum": "2126edb78ffc5585558cb2eaf1efb0b1",
     "grade": true,
     "grade_id": "cell-c8cce025f525fa72",
     "locked": true,
     "points": 1,
     "schema_version": 3,
     "solution": false,
     "task": false
    }
   },
   "outputs": [],
   "source": [
    "# Run this test cell to check your code\n",
    "# Do not delete this cell\n",
    "# 1 Mark\n",
    "f     = lambda x: x**2 - 1\n",
    "g     = lambda x: 2*x\n",
    "a     = 0\n",
    "b     = 3\n",
    "xstar = 3\n",
    "tol   = 1e-7\n",
    "npt.assert_almost_equal(25, root_finder(f, g, a, b, xstar, tol)[1])\n",
    "print(\"Test case passed!!!\")"
   ]
  },
  {
   "cell_type": "code",
   "execution_count": null,
   "metadata": {
    "deletable": false,
    "editable": false,
    "nbgrader": {
     "cell_type": "code",
     "checksum": "2f61b4853d62ce5e4b63e0b6aaf023c8",
     "grade": true,
     "grade_id": "cell-1c15c3b7067120e0",
     "locked": true,
     "points": 1,
     "schema_version": 3,
     "solution": false,
     "task": false
    }
   },
   "outputs": [],
   "source": [
    "# Run this test cell to check your code\n",
    "# Do not delete this cell\n",
    "# 1 Mark\n",
    "f     = lambda x: x**2 - 1\n",
    "g     = lambda x: 2*x\n",
    "a     = 0\n",
    "b     = 3\n",
    "xstar = 3\n",
    "tol   = 1e-7\n",
    "npt.assert_almost_equal(1, root_finder(f, g, a, b, xstar, tol)[2])\n",
    "print(\"Test case passed!!!\")"
   ]
  },
  {
   "cell_type": "code",
   "execution_count": null,
   "metadata": {
    "deletable": false,
    "editable": false,
    "nbgrader": {
     "cell_type": "code",
     "checksum": "f67b87d043cb5ffa43943d1f5b0c1bfe",
     "grade": true,
     "grade_id": "cell-80848991afe48990",
     "locked": true,
     "points": 1,
     "schema_version": 3,
     "solution": false,
     "task": false
    }
   },
   "outputs": [],
   "source": [
    "# Run this test cell to check your code\n",
    "# Do not delete this cell\n",
    "# 1 Mark\n",
    "f     = lambda x: x**2 - 1\n",
    "g     = lambda x: 2*x\n",
    "a     = 0\n",
    "b     = 3\n",
    "xstar = 3\n",
    "tol   = 1e-7\n",
    "npt.assert_almost_equal(6, root_finder(f, g, a, b, xstar, tol)[3])\n",
    "print(\"Test case passed!!!\")"
   ]
  },
  {
   "cell_type": "code",
   "execution_count": null,
   "metadata": {
    "deletable": false,
    "editable": false,
    "nbgrader": {
     "cell_type": "code",
     "checksum": "0dcc9143cdaedffdb4e483c2a3456292",
     "grade": true,
     "grade_id": "cell-634a739d4cdb463a",
     "locked": true,
     "points": 1,
     "schema_version": 3,
     "solution": false,
     "task": false
    }
   },
   "outputs": [],
   "source": [
    "# Run this test cell to check your code\n",
    "# Do not delete this cell\n",
    "# 1 Mark\n",
    "f     = lambda x: x**2 - 1\n",
    "g     = lambda x: 2*x\n",
    "a     = 0\n",
    "b     = 3\n",
    "xstar = 3\n",
    "tol   = 1e-7\n",
    "npt.assert_almost_equal((0.9999999850988388, 25, 1.0, 6), root_finder(f, g, a, b, xstar, tol))\n",
    "print('Test case passed!!!')"
   ]
  },
  {
   "cell_type": "code",
   "execution_count": null,
   "metadata": {
    "deletable": false,
    "editable": false,
    "nbgrader": {
     "cell_type": "code",
     "checksum": "da28f0127c38074a2331e8e99f79b16b",
     "grade": true,
     "grade_id": "cell-30cbf63266ef19bd",
     "locked": true,
     "points": 2,
     "schema_version": 3,
     "solution": false,
     "task": false
    }
   },
   "outputs": [],
   "source": [
    "# Run this test cell to check your code\n",
    "# Do not delete this cell\n",
    "# 2 Marks"
   ]
  }
 ],
 "metadata": {
  "kernelspec": {
   "display_name": "Python 3",
   "language": "python",
   "name": "python3"
  },
  "language_info": {
   "codemirror_mode": {
    "name": "ipython",
    "version": 3
   },
   "file_extension": ".py",
   "mimetype": "text/x-python",
   "name": "python",
   "nbconvert_exporter": "python",
   "pygments_lexer": "ipython3",
   "version": "3.7.4-final"
  }
 },
 "nbformat": 4,
 "nbformat_minor": 5
}