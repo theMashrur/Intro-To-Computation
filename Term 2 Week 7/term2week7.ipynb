{
 "cells": [
  {
   "cell_type": "code",
   "execution_count": 1,
   "id": "realistic-mystery",
   "metadata": {},
   "outputs": [
    {
     "output_type": "stream",
     "name": "stdout",
     "text": [
      "Autograder loaded successfully!\nRemember to always restart and run all from the Kernel menu before submitting!\n"
     ]
    }
   ],
   "source": [
    "from autograder_term2week7 import *\n",
    "_globals = globals()\n",
    "import numpy as np\n",
    "import numpy.testing as npt\n",
    "import math\n",
    "import matplotlib.pyplot as plt\n",
    "%matplotlib inline"
   ]
  },
  {
   "cell_type": "markdown",
   "id": "sapphire-tulsa",
   "metadata": {
    "deletable": false,
    "editable": false,
    "nbgrader": {
     "cell_type": "markdown",
     "checksum": "5516d80e10b23bdefc078b03af221b09",
     "grade": false,
     "grade_id": "cell-681659d2c2f91666",
     "locked": true,
     "schema_version": 3,
     "solution": false,
     "task": false
    }
   },
   "source": [
    "# <center> Introduction to Mathematical Computing </center>\n",
    "### <center>Phil Ramsden, Boumediene Hamzi, Sam Brzezicki, Matt Woolway</center>\n",
    "\n",
    "# <center> Worksheet 9: Using numpy in Programming</center>\n",
    "\n",
    "**NOTE:** When answering a question, remember to remove the `raise NotImplementedError()` line."
   ]
  },
  {
   "cell_type": "markdown",
   "id": "indoor-welcome",
   "metadata": {
    "deletable": false,
    "editable": false,
    "nbgrader": {
     "cell_type": "markdown",
     "checksum": "7aa87d991854982d5d645ed3472a20f7",
     "grade": false,
     "grade_id": "cell-e6cff4b9e21316b7",
     "locked": true,
     "schema_version": 3,
     "solution": false,
     "task": false
    }
   },
   "source": [
    "## Question 1 (i)\n",
    "\n",
    "(a) Use the `range` function from \"core Python\" to create a `range` object called `myrange` containing the ints $97, 98, \\dots, 102$. Then create a list called `mylist` containing the same ints. Finally, use NumPy's `arange` function to create a one-dimensional NumPy array called `myarray` containing the same ints."
   ]
  },
  {
   "cell_type": "code",
   "execution_count": 2,
   "id": "forbidden-ethics",
   "metadata": {
    "deletable": false,
    "nbgrader": {
     "cell_type": "code",
     "checksum": "97cdb1009c8145c2be1730ee46c4d4f8",
     "grade": false,
     "grade_id": "cell-d95e5dc3c8888d91",
     "locked": false,
     "schema_version": 3,
     "solution": true,
     "task": false
    }
   },
   "outputs": [
    {
     "output_type": "stream",
     "name": "stdout",
     "text": [
      "range(97, 103)\n[97, 98, 99, 100, 101, 102]\n[ 97  98  99 100 101 102]\n"
     ]
    }
   ],
   "source": [
    "# YOUR CODE HERE\n",
    "myrange = range(97, 103)\n",
    "mylist = [num for num in myrange]\n",
    "myarray = np.arange(97, 103, 1)\n",
    "\n",
    "print(myrange)\n",
    "print(mylist)\n",
    "print(myarray)"
   ]
  },
  {
   "cell_type": "code",
   "execution_count": 3,
   "id": "excess-surgery",
   "metadata": {
    "deletable": false,
    "editable": false,
    "nbgrader": {
     "cell_type": "code",
     "checksum": "24398bf03a6cf44ba272e226a4b6c8b5",
     "grade": true,
     "grade_id": "cell-00ab6f202e921ef6",
     "locked": true,
     "points": 3,
     "schema_version": 3,
     "solution": false,
     "task": false
    }
   },
   "outputs": [
    {
     "output_type": "stream",
     "name": "stdout",
     "text": [
      "myrange contains the right numbers\nmyrange is a range\nFirst test passed!\n\nmylist contains the right numbers\nmylist is a list\nSecond test passed!\n\nmyarray contains the right numbers\nmyarray is a numpy array\nFinal test passed!\n\n3 out of 3\n"
     ]
    },
    {
     "output_type": "execute_result",
     "data": {
      "text/plain": [
       "3"
      ]
     },
     "metadata": {},
     "execution_count": 3
    }
   ],
   "source": [
    "# 3 Marks\n",
    "# Do not try to delete this cell\n",
    "# Run this cell for grading\n",
    "_globals = globals()\n",
    "question1ia(_globals)"
   ]
  },
  {
   "cell_type": "markdown",
   "id": "imperial-geology",
   "metadata": {
    "deletable": false,
    "editable": false,
    "nbgrader": {
     "cell_type": "markdown",
     "checksum": "0a65361f42d63a3aa0498c99ab819b2b",
     "grade": false,
     "grade_id": "cell-3973e5088e8161b2",
     "locked": true,
     "schema_version": 3,
     "solution": false,
     "task": false
    }
   },
   "source": [
    "(b) Write a `for` loop that iterates through `myrange`, printing the squares. Do the same for `mylist`, and attempt the same for `myarray`. Then state which of the following is true.\n",
    "\n",
    "<ol>\n",
    "    <li>You can iterate across <code>range</code> objects, Python lists and 1D NumPy arrays using a <code>for</code> loop, and afterwards, all three are unchanged.</li>\n",
    "    <li>You can iterate across <code>range</code> objects, Python lists and 1D NumPy arrays using a <code>for</code> loop, and afterwards, all three have become empty.</li>\n",
    "    <li>You can iterate across <code>range</code> objects, Python lists and 1D NumPy arrays using a <code>for</code> loop, and afterwards, only the NumPy array has become empty.</li>\n",
    "    <li>You can iterate across <code>range</code> objects and Python lists, but not 1D NumPy arrays, using a <code>for</code> loop.</li>\n",
    "</ol>"
   ]
  },
  {
   "cell_type": "code",
   "execution_count": 4,
   "id": "smooth-evolution",
   "metadata": {
    "deletable": false,
    "nbgrader": {
     "cell_type": "code",
     "checksum": "cb6e95eacd7078aefdb5e8fa574409f8",
     "grade": false,
     "grade_id": "cell-ecc421cc340c9ac1",
     "locked": false,
     "schema_version": 3,
     "solution": true,
     "task": false
    }
   },
   "outputs": [
    {
     "output_type": "stream",
     "name": "stdout",
     "text": [
      "9409\n9604\n9801\n10000\n10201\n10404\n9409\n9604\n9801\n10000\n10201\n10404\n9409\n9604\n9801\n10000\n10201\n10404\nrange(97, 103) [97, 98, 99, 100, 101, 102] [ 97  98  99 100 101 102]\n"
     ]
    }
   ],
   "source": [
    "# YOUR CODE HERE\n",
    "def sq_arr(arr):\n",
    "    for i in arr:\n",
    "        print(i**2)\n",
    "    return arr\n",
    "\n",
    "print(sq_arr(myrange), sq_arr(mylist), sq_arr(myarray))\n",
    "\n",
    "question1ib_answer = 1 # insert one of 1, 2, 3 or 4"
   ]
  },
  {
   "cell_type": "code",
   "execution_count": 5,
   "id": "amateur-battle",
   "metadata": {
    "deletable": false,
    "editable": false,
    "nbgrader": {
     "cell_type": "code",
     "checksum": "9f8e65a030339ac2be75d349e41d8566",
     "grade": true,
     "grade_id": "cell-2880fd28ceea31df",
     "locked": true,
     "points": 1,
     "schema_version": 3,
     "solution": false,
     "task": false
    }
   },
   "outputs": [
    {
     "output_type": "stream",
     "name": "stdout",
     "text": [
      "test case passed!\n"
     ]
    }
   ],
   "source": [
    "# 1 Mark\n",
    "assert(question1ib_answer == question1ib())\n",
    "print('test case passed!')"
   ]
  },
  {
   "cell_type": "markdown",
   "id": "bottom-northern",
   "metadata": {
    "deletable": false,
    "editable": false,
    "nbgrader": {
     "cell_type": "markdown",
     "checksum": "622fd882af3bc796f72e59bd47a1b7e4",
     "grade": false,
     "grade_id": "cell-8c51da12cd758ab8",
     "locked": true,
     "schema_version": 3,
     "solution": false,
     "task": false
    }
   },
   "source": [
    "(c) Write a list comprehension that iterates across `myrange`, generating a list of all the squares; call it `range_squares`. Do the same for `mylist` (call it `list_squares`), and attempt the same for `my_array` (call it `array_squares` if it works)."
   ]
  },
  {
   "cell_type": "code",
   "execution_count": 6,
   "id": "minus-fifty",
   "metadata": {
    "deletable": false,
    "nbgrader": {
     "cell_type": "code",
     "checksum": "022d7dac2f1fa7ae9551187bbe775715",
     "grade": false,
     "grade_id": "cell-e2cda711fe7b4091",
     "locked": false,
     "schema_version": 3,
     "solution": true,
     "task": false
    }
   },
   "outputs": [
    {
     "output_type": "stream",
     "name": "stdout",
     "text": [
      "[9409, 9604, 9801, 10000, 10201, 10404]\n[9409, 9604, 9801, 10000, 10201, 10404]\n[9409, 9604, 9801, 10000, 10201, 10404]\n"
     ]
    }
   ],
   "source": [
    "# YOUR CODE HERE\n",
    "range_squares = [num**2 for num in myrange]\n",
    "list_squares = [num**2 for num in mylist]\n",
    "array_squares = [num**2 for num in myarray]\n",
    "\n",
    "print(range_squares)\n",
    "print(list_squares)\n",
    "print(array_squares)"
   ]
  },
  {
   "cell_type": "code",
   "execution_count": 7,
   "id": "considered-symphony",
   "metadata": {
    "deletable": false,
    "editable": false,
    "nbgrader": {
     "cell_type": "code",
     "checksum": "63ceab0e7808c550799bd96b08652ac2",
     "grade": true,
     "grade_id": "cell-25df616fe295d313",
     "locked": true,
     "points": 3,
     "schema_version": 3,
     "solution": false,
     "task": false
    }
   },
   "outputs": [
    {
     "output_type": "stream",
     "name": "stdout",
     "text": [
      "range_squares contains the right numbers\nrange_squares is a list\nFirst test passed!\n\nlist_squares contains the right numbers\nlist_squares is a list\nSecond test passed!\n\nlist_squares contains the right numbers\narray_squares is a list\nFinal test passed!\n\n3 out of 3\n"
     ]
    },
    {
     "output_type": "execute_result",
     "data": {
      "text/plain": [
       "3"
      ]
     },
     "metadata": {},
     "execution_count": 7
    }
   ],
   "source": [
    "# 3 Marks\n",
    "# Do not try to delete this cell\n",
    "# Run this cell for grading\n",
    "_globals = globals()\n",
    "question1ic(_globals)"
   ]
  },
  {
   "cell_type": "markdown",
   "id": "first-ghost",
   "metadata": {
    "deletable": false,
    "editable": false,
    "nbgrader": {
     "cell_type": "markdown",
     "checksum": "e41f7bae09062dd4147e1474ce1c216b",
     "grade": false,
     "grade_id": "cell-aac2b1132e590420",
     "locked": true,
     "schema_version": 3,
     "solution": false,
     "task": false
    }
   },
   "source": [
    "(d) State which of the following is true.\n",
    "\n",
    "<ol>\n",
    "    <li>You can iterate across <code>range</code> objects, Python lists and 1D NumPy arrays using a comprehension, and afterwards, all three are unchanged.</li>\n",
    "    <li>You can iterate across <code>range</code> objects, Python lists and 1D NumPy arrays using a comprehension, and afterwards, all three have become empty.</li>\n",
    "    <li>You can iterate across <code>range</code> objects, Python lists and 1D NumPy arrays using a comprehension, and afterwards, only the NumPy array has become empty.</li>\n",
    "    <li>You can iterate across <code>range</code> objects and Python lists, but not 1D NumPy arrays, using a comprehension.</li>\n",
    "</ol>"
   ]
  },
  {
   "cell_type": "code",
   "execution_count": 8,
   "id": "bulgarian-information",
   "metadata": {
    "deletable": false,
    "nbgrader": {
     "cell_type": "code",
     "checksum": "93962c7c06359d50314cc720ae828785",
     "grade": false,
     "grade_id": "cell-c74c42776e88e283",
     "locked": false,
     "schema_version": 3,
     "solution": true,
     "task": false
    }
   },
   "outputs": [
    {
     "output_type": "stream",
     "name": "stdout",
     "text": [
      "range(97, 103) [97, 98, 99, 100, 101, 102] [ 97  98  99 100 101 102]\n"
     ]
    }
   ],
   "source": [
    "# YOUR CODE HERE\n",
    "print(myrange, mylist, myarray)\n",
    "\n",
    "question1id_answer = 1 # insert one of 1, 2, 3 or 4"
   ]
  },
  {
   "cell_type": "code",
   "execution_count": 9,
   "id": "sound-ocean",
   "metadata": {
    "deletable": false,
    "editable": false,
    "nbgrader": {
     "cell_type": "code",
     "checksum": "340d4c9aa63330af735dc7e26dc433ea",
     "grade": true,
     "grade_id": "cell-0f2922dc93503c01",
     "locked": true,
     "points": 1,
     "schema_version": 3,
     "solution": false,
     "task": false
    }
   },
   "outputs": [
    {
     "output_type": "stream",
     "name": "stdout",
     "text": [
      "test case passed!\n"
     ]
    }
   ],
   "source": [
    "# 1 Mark\n",
    "assert(question1id_answer == question1id())\n",
    "print('test case passed!')"
   ]
  },
  {
   "cell_type": "markdown",
   "id": "negative-image",
   "metadata": {
    "deletable": false,
    "editable": false,
    "nbgrader": {
     "cell_type": "markdown",
     "checksum": "e0449344f849f1b7587ecc670bc8ea5c",
     "grade": false,
     "grade_id": "cell-7ef7309ca0252305",
     "locked": true,
     "schema_version": 3,
     "solution": false,
     "task": false
    }
   },
   "source": [
    "(e) From `myarray`, create a NumPy array consisting of all the squares; call it `square_array`. Do this in the simplest way possible, without using a loop or a comprehension. (Autograding won't be able to tell whether you've done that, though.)"
   ]
  },
  {
   "cell_type": "code",
   "execution_count": 10,
   "id": "constant-endorsement",
   "metadata": {
    "deletable": false,
    "nbgrader": {
     "cell_type": "code",
     "checksum": "f7ee7751bb53d53f9bba26ba4963bc93",
     "grade": false,
     "grade_id": "cell-06e87771988d7b9c",
     "locked": false,
     "schema_version": 3,
     "solution": true,
     "task": false
    }
   },
   "outputs": [
    {
     "output_type": "stream",
     "name": "stdout",
     "text": [
      "[ 9409  9604  9801 10000 10201 10404]\n"
     ]
    }
   ],
   "source": [
    "# YOUR CODE HERE\n",
    "square_array = myarray**2\n",
    "\n",
    "print(square_array)"
   ]
  },
  {
   "cell_type": "code",
   "execution_count": 11,
   "id": "connected-ireland",
   "metadata": {
    "deletable": false,
    "editable": false,
    "nbgrader": {
     "cell_type": "code",
     "checksum": "70ede6d1e916e1e8905a70ba0e6903ab",
     "grade": true,
     "grade_id": "cell-fd7531034dc64ada",
     "locked": true,
     "points": 1,
     "schema_version": 3,
     "solution": false,
     "task": false
    }
   },
   "outputs": [
    {
     "output_type": "stream",
     "name": "stdout",
     "text": [
      "square_array contains the right numbers\nsquare_array is a numpy array\n\n1 out of 1\n"
     ]
    },
    {
     "output_type": "execute_result",
     "data": {
      "text/plain": [
       "1"
      ]
     },
     "metadata": {},
     "execution_count": 11
    }
   ],
   "source": [
    "# 1 Mark\n",
    "# Do not try to delete this cell\n",
    "# Run this cell for grading\n",
    "_globals = globals()\n",
    "question1ie(_globals)"
   ]
  },
  {
   "cell_type": "markdown",
   "id": "composite-district",
   "metadata": {
    "deletable": false,
    "editable": false,
    "nbgrader": {
     "cell_type": "markdown",
     "checksum": "577adb351924025aebf9f7e6e44a735f",
     "grade": false,
     "grade_id": "cell-556db96c420024e2",
     "locked": true,
     "schema_version": 3,
     "solution": false,
     "task": false
    }
   },
   "source": [
    "(ii) Here's a simple lambda-expression:"
   ]
  },
  {
   "cell_type": "code",
   "execution_count": 12,
   "id": "falling-emission",
   "metadata": {
    "deletable": false,
    "editable": false,
    "nbgrader": {
     "cell_type": "code",
     "checksum": "e5a235bcc5a1c72ecc574cf4c55e0458",
     "grade": false,
     "grade_id": "cell-0ff1acabb71bb83d",
     "locked": true,
     "schema_version": 3,
     "solution": false,
     "task": false
    }
   },
   "outputs": [],
   "source": [
    "add2 = lambda x, y : x + y"
   ]
  },
  {
   "cell_type": "markdown",
   "id": "scheduled-struggle",
   "metadata": {
    "deletable": false,
    "editable": false,
    "nbgrader": {
     "cell_type": "markdown",
     "checksum": "6287404b99ff61c105c8d0a590ee905b",
     "grade": false,
     "grade_id": "cell-258ef7c76e98f526",
     "locked": true,
     "schema_version": 3,
     "solution": false,
     "task": false
    }
   },
   "source": [
    "This should be read as \"Let add2 be the function of $x$ and $y$ that adds $x$ to $y$.\" Then \n",
    "\n",
    "```python\n",
    "add2(3, 4)\n",
    "```\n",
    "\n",
    "will return 7, and so on."
   ]
  },
  {
   "cell_type": "markdown",
   "id": "advanced-living",
   "metadata": {
    "deletable": false,
    "editable": false,
    "nbgrader": {
     "cell_type": "markdown",
     "checksum": "68a8b3736072da086e2b9e550602f875",
     "grade": false,
     "grade_id": "cell-eef72b94037dd2d3",
     "locked": true,
     "schema_version": 3,
     "solution": false,
     "task": false
    }
   },
   "source": [
    "(a) Use NumPy's `fromfunction` function, and the lambda-expression `add2` defined above, to create the 2d array `mat1`, which is equal to\n",
    "$$\\left(\n",
    "\\begin{array}{rrrr}\n",
    "0.0&1.0&2.0&3.0\\\\\n",
    "1.0&2.0&3.0&4.0\\\\\n",
    "2.0&3.0&4.0&5.0\n",
    "\\end{array}\\right).$$"
   ]
  },
  {
   "cell_type": "code",
   "execution_count": 13,
   "id": "impressive-cathedral",
   "metadata": {
    "deletable": false,
    "nbgrader": {
     "cell_type": "code",
     "checksum": "27c16672f5b96aede733b6dd12194dea",
     "grade": false,
     "grade_id": "cell-52765e48af5b8559",
     "locked": false,
     "schema_version": 3,
     "solution": true,
     "task": false
    }
   },
   "outputs": [
    {
     "output_type": "stream",
     "name": "stdout",
     "text": [
      "[[0. 1. 2. 3.]\n [1. 2. 3. 4.]\n [2. 3. 4. 5.]]\n"
     ]
    }
   ],
   "source": [
    "# YOUR CODE HERE\n",
    "mat1 = np.fromfunction(add2, (3, 4))\n",
    "\n",
    "print(mat1)"
   ]
  },
  {
   "cell_type": "code",
   "execution_count": 14,
   "id": "unknown-remainder",
   "metadata": {
    "deletable": false,
    "editable": false,
    "nbgrader": {
     "cell_type": "code",
     "checksum": "cc1678b96726910a30ff46f62e6dec65",
     "grade": true,
     "grade_id": "cell-4c06f03e0246899a",
     "locked": true,
     "points": 1,
     "schema_version": 3,
     "solution": false,
     "task": false
    }
   },
   "outputs": [
    {
     "output_type": "stream",
     "name": "stdout",
     "text": [
      "Test passed!\n\n1 out of 1\n"
     ]
    },
    {
     "output_type": "execute_result",
     "data": {
      "text/plain": [
       "1"
      ]
     },
     "metadata": {},
     "execution_count": 14
    }
   ],
   "source": [
    "# 1 Mark\n",
    "# Do not try to delete this cell\n",
    "# Run this cell for grading\n",
    "_globals = globals()\n",
    "question1iia(_globals)"
   ]
  },
  {
   "cell_type": "markdown",
   "id": "ordered-novelty",
   "metadata": {
    "deletable": false,
    "editable": false,
    "nbgrader": {
     "cell_type": "markdown",
     "checksum": "c2afeb1faeee81b033d73fab4b62bcad",
     "grade": false,
     "grade_id": "cell-38fc526f42e7550e",
     "locked": true,
     "schema_version": 3,
     "solution": false,
     "task": false
    }
   },
   "source": [
    "(b) Using NumPy's `nditer` function in a comprehension, create a list `squares1` of the squares of the entries of `mat1`, where the iteration is row-by-row; it should therefore begin\n",
    "\n",
    "```python\n",
    "[0.0, 1.0, 4.0, 9.0, 1.0, 4.0, ...\n",
    " ```"
   ]
  },
  {
   "cell_type": "code",
   "execution_count": 15,
   "id": "usual-magnet",
   "metadata": {
    "deletable": false,
    "nbgrader": {
     "cell_type": "code",
     "checksum": "3e913ffb3fd2590f3bf9b1b7adc76177",
     "grade": false,
     "grade_id": "cell-bdf21dec04463b22",
     "locked": false,
     "schema_version": 3,
     "solution": true,
     "task": false
    }
   },
   "outputs": [
    {
     "output_type": "stream",
     "name": "stdout",
     "text": [
      "[0.0, 1.0, 4.0, 9.0, 1.0, 4.0, 9.0, 16.0, 4.0, 9.0, 16.0, 25.0]\n"
     ]
    }
   ],
   "source": [
    "# YOUR CODE HERE\n",
    "squares1 = [n**2 for n in np.nditer(mat1)]\n",
    "\n",
    "print(squares1)"
   ]
  },
  {
   "cell_type": "code",
   "execution_count": 16,
   "id": "loaded-theology",
   "metadata": {
    "deletable": false,
    "editable": false,
    "nbgrader": {
     "cell_type": "code",
     "checksum": "e8cae60bc48529c88b09285dbe09f3db",
     "grade": true,
     "grade_id": "cell-2c3bf4d9dcee662f",
     "locked": true,
     "points": 1,
     "schema_version": 3,
     "solution": false,
     "task": false
    }
   },
   "outputs": [
    {
     "output_type": "stream",
     "name": "stdout",
     "text": [
      "Test passed!\n\n1 out of 1\n"
     ]
    },
    {
     "output_type": "execute_result",
     "data": {
      "text/plain": [
       "1"
      ]
     },
     "metadata": {},
     "execution_count": 16
    }
   ],
   "source": [
    "# 1 Mark\n",
    "# Do not try to delete this cell\n",
    "# Run this cell for grading\n",
    "_globals = globals()\n",
    "question1iib(_globals)"
   ]
  },
  {
   "cell_type": "markdown",
   "id": "opposed-parts",
   "metadata": {
    "deletable": false,
    "editable": false,
    "nbgrader": {
     "cell_type": "markdown",
     "checksum": "57e34eccd62349a4a8de8af795d789bf",
     "grade": false,
     "grade_id": "cell-17bb7e7d49572063",
     "locked": true,
     "schema_version": 3,
     "solution": false,
     "task": false
    }
   },
   "source": [
    "(c) Using NumPy's `nditer` function in a comprehension, create a list `squares2` of the squares of the entries of `mat1`, where the iteration is column-by-colum; it should therefore begin\n",
    "\n",
    "```python\n",
    "[0.0, 1.0, 4.0, 1.0, 4.0, 9.0, ...\n",
    " ```"
   ]
  },
  {
   "cell_type": "code",
   "execution_count": 17,
   "id": "important-disco",
   "metadata": {
    "deletable": false,
    "nbgrader": {
     "cell_type": "code",
     "checksum": "99796019840332740da3466528a3987e",
     "grade": false,
     "grade_id": "cell-01f244a2a47a38b6",
     "locked": false,
     "schema_version": 3,
     "solution": true,
     "task": false
    }
   },
   "outputs": [
    {
     "output_type": "stream",
     "name": "stdout",
     "text": [
      "[0.0, 1.0, 4.0, 1.0, 4.0, 9.0, 4.0, 9.0, 16.0, 9.0, 16.0, 25.0]\n"
     ]
    }
   ],
   "source": [
    "squares2 = [n**2 for n in np.nditer(mat1.T, order=\"C\")]\n",
    "\n",
    "print(squares2)"
   ]
  },
  {
   "cell_type": "code",
   "execution_count": 18,
   "id": "initial-cookie",
   "metadata": {
    "deletable": false,
    "editable": false,
    "nbgrader": {
     "cell_type": "code",
     "checksum": "aba197d45d2b0e60ae81c6cbf66f2963",
     "grade": true,
     "grade_id": "cell-95c2e6ff666ce56d",
     "locked": true,
     "points": 1,
     "schema_version": 3,
     "solution": false,
     "task": false
    }
   },
   "outputs": [
    {
     "output_type": "stream",
     "name": "stdout",
     "text": [
      "Test passed!\n\n1 out of 1\n"
     ]
    },
    {
     "output_type": "execute_result",
     "data": {
      "text/plain": [
       "1"
      ]
     },
     "metadata": {},
     "execution_count": 18
    }
   ],
   "source": [
    "# 1 Mark\n",
    "# Do not try to delete this cell\n",
    "# Run this cell for grading\n",
    "_globals = globals()\n",
    "question1iic(_globals)"
   ]
  },
  {
   "cell_type": "markdown",
   "id": "actual-eligibility",
   "metadata": {
    "deletable": false,
    "editable": false,
    "nbgrader": {
     "cell_type": "markdown",
     "checksum": "3a75f1198c8b82adfb3e979e473bb1ed",
     "grade": false,
     "grade_id": "cell-59bf83b6143b4995",
     "locked": true,
     "schema_version": 3,
     "solution": false,
     "task": false
    }
   },
   "source": [
    "(d) Using `fromfunction` with suitable lambda-expressions, create the 2d arrays `mat2`, `mat3` and `mat4`, respectively equal to\n",
    "\n",
    "$$\\left(\n",
    "\\begin{array}{rrrr}\n",
    "0.0&1.0&2.0&3.0\\\\\n",
    "1.0&0.0&1.0&2.0\\\\\n",
    "2.0&1.0&0.0&1.0\n",
    "\\end{array}\\right),\\left(\n",
    "\\begin{array}{rrrr}\n",
    "0.0&1.0&4.0&9.0\n",
    "\\end{array}\\right)\\mbox{ and }\\left(\n",
    "\\begin{array}{rrrr}\n",
    "0.0&1.0&4.0&9.0\\\\\n",
    "-1.0&0.0&3.0&8.0\\\\\n",
    "-4.0&-3.0&0.0&5.0\\\\\n",
    "-9.0&-8.0&-5.0&0.0\n",
    "\\end{array}\\right)$$"
   ]
  },
  {
   "cell_type": "code",
   "execution_count": 19,
   "id": "alpine-operations",
   "metadata": {
    "deletable": false,
    "nbgrader": {
     "cell_type": "code",
     "checksum": "4a9dcf6d0ae0dd2ace9a7b823dcc7b0e",
     "grade": false,
     "grade_id": "cell-1565566b19f8ccde",
     "locked": false,
     "schema_version": 3,
     "solution": true,
     "task": false
    }
   },
   "outputs": [
    {
     "output_type": "stream",
     "name": "stdout",
     "text": [
      "[[0. 1. 2. 3.]\n",
      " [1. 0. 1. 2.]\n",
      " [2. 1. 0. 1.]]\n",
      "[[0. 1. 4. 9.]]\n",
      "[[ 0. -1. -4. -9.]\n",
      " [ 1.  0. -3. -8.]\n",
      " [ 4.  3.  0. -5.]\n",
      " [ 9.  8.  5.  0.]]\n"
     ]
    }
   ],
   "source": [
    "# YOUR CODE HERE\n",
    "mat2 = np.fromfunction(lambda x,y : abs(x-y), (3,4))\n",
    "mat3 = np.fromfunction(lambda x, y : y**2, (1,4))\n",
    "mat4 = np.fromfunction(lambda x, y: x**2-y**2, (4, 4))\n",
    "\n",
    "print(mat2)\n",
    "print(mat3)\n",
    "print(mat4)"
   ]
  },
  {
   "cell_type": "code",
   "execution_count": 20,
   "id": "threaded-treasure",
   "metadata": {
    "deletable": false,
    "editable": false,
    "nbgrader": {
     "cell_type": "code",
     "checksum": "08ed23e021374756148d99dfae37c708",
     "grade": true,
     "grade_id": "cell-25147b5f92b638ed",
     "locked": true,
     "points": 3,
     "schema_version": 3,
     "solution": false,
     "task": false
    }
   },
   "outputs": [
    {
     "output_type": "stream",
     "name": "stdout",
     "text": [
      "mat2 is correct\n\nmat3 is correct\n\nmat4 is correct\n\n3 out of 3\n"
     ]
    },
    {
     "output_type": "execute_result",
     "data": {
      "text/plain": [
       "3"
      ]
     },
     "metadata": {},
     "execution_count": 20
    }
   ],
   "source": [
    "# 3 Marks\n",
    "# Do not try to delete this cell\n",
    "# Run this cell for grading\n",
    "_globals = globals()\n",
    "question1iid(_globals)"
   ]
  },
  {
   "cell_type": "markdown",
   "id": "joined-beads",
   "metadata": {
    "deletable": false,
    "editable": false,
    "nbgrader": {
     "cell_type": "markdown",
     "checksum": "0d82e051fd8ba8af89921a507268a6a8",
     "grade": false,
     "grade_id": "cell-c893f6562626b986",
     "locked": true,
     "schema_version": 3,
     "solution": false,
     "task": false
    }
   },
   "source": [
    "(e) Run the following code:"
   ]
  },
  {
   "cell_type": "code",
   "execution_count": 21,
   "id": "offshore-groove",
   "metadata": {
    "deletable": false,
    "editable": false,
    "nbgrader": {
     "cell_type": "code",
     "checksum": "fbbc3167f6ecf2faf1d67f5215cb963c",
     "grade": false,
     "grade_id": "cell-068b7d6c4b3c47f2",
     "locked": true,
     "schema_version": 3,
     "solution": false,
     "task": false
    }
   },
   "outputs": [
    {
     "output_type": "stream",
     "name": "stdout",
     "text": [
      "(0.0, 0.0, False)\n(1.0, 1.0, False)\n(2.0, 2.0, False)\n(3.0, 3.0, False)\n(1.0, 1.0, False)\n(2.0, 0.0, True)\n(3.0, 1.0, True)\n(4.0, 2.0, True)\n(2.0, 2.0, False)\n(3.0, 1.0, True)\n(4.0, 0.0, True)\n(5.0, 1.0, True)\n"
     ]
    }
   ],
   "source": [
    "for a, b in np.nditer((mat1, mat2)):\n",
    "    print((float(a), float(b), a > b))"
   ]
  },
  {
   "cell_type": "markdown",
   "id": "opening-individual",
   "metadata": {
    "deletable": false,
    "editable": false,
    "nbgrader": {
     "cell_type": "markdown",
     "checksum": "d479619be4094805f754c90beb54a85e",
     "grade": false,
     "grade_id": "cell-fb5c6779556dd2ff",
     "locked": true,
     "schema_version": 3,
     "solution": false,
     "task": false
    }
   },
   "source": [
    "Then attempt it using `mat3` and `mat4` in place of `mat2`. Then choose which of the following statements is true:\n",
    "\n",
    "<ol>\n",
    "    <li>The <code>nditer</code> function allows you to iterate across two 2d arrays at the same time, but only if they're the same shape.</li>\n",
    "    <li>The <code>nditer</code> function allows you to iterate across two 2d arrays at the same time, but only if their shapes are such that you could, for example, add them.</li>\n",
    "    <li>The <code>nditer</code> function does not support iteration across two 2d arrays at the same time.</li>\n",
    "</ol>"
   ]
  },
  {
   "cell_type": "code",
   "execution_count": 22,
   "id": "another-setting",
   "metadata": {
    "deletable": false,
    "nbgrader": {
     "cell_type": "code",
     "checksum": "abe3ed6339ea090f6df0da8a0ab04b78",
     "grade": false,
     "grade_id": "cell-f063e9d7858d8068",
     "locked": false,
     "schema_version": 3,
     "solution": true,
     "task": false
    }
   },
   "outputs": [
    {
     "output_type": "stream",
     "name": "stdout",
     "text": [
      "0.0 0.0 False\n1.0 1.0 False\n2.0 4.0 False\n3.0 9.0 False\n1.0 0.0 True\n2.0 1.0 True\n3.0 4.0 False\n4.0 9.0 False\n2.0 0.0 True\n3.0 1.0 True\n4.0 4.0 False\n5.0 9.0 False\n"
     ]
    }
   ],
   "source": [
    "# YOUR CODE HERE\n",
    "for a, b in np.nditer((mat1, mat3)):\n",
    "    print(float(a), float(b), a>b)\n",
    "#for a, b in np.nditer((mat1, mat4)):\n",
    "    #print(float(a), float(b), a>b)\n",
    "\n",
    "question1iie_answer = 2"
   ]
  },
  {
   "cell_type": "code",
   "execution_count": 23,
   "id": "inside-sucking",
   "metadata": {
    "deletable": false,
    "editable": false,
    "nbgrader": {
     "cell_type": "code",
     "checksum": "9f645f7f78b4917be46adef3d3e1d4b6",
     "grade": true,
     "grade_id": "cell-36049c0ab4bfb4d4",
     "locked": true,
     "points": 1,
     "schema_version": 3,
     "solution": false,
     "task": false
    }
   },
   "outputs": [
    {
     "output_type": "stream",
     "name": "stdout",
     "text": [
      "test case passed!\n"
     ]
    }
   ],
   "source": [
    "# 1 Mark\n",
    "assert(question1iie_answer == question1iie())\n",
    "print('test case passed!')"
   ]
  },
  {
   "cell_type": "markdown",
   "id": "exposed-webmaster",
   "metadata": {
    "deletable": false,
    "editable": false,
    "nbgrader": {
     "cell_type": "markdown",
     "checksum": "4e7a0e12eeea7c3f84bfbfa7aa5c40b7",
     "grade": false,
     "grade_id": "cell-fbf8771049b0604f",
     "locked": true,
     "schema_version": 3,
     "solution": false,
     "task": false
    }
   },
   "source": [
    "## Question 2\n",
    "\n",
    "(a) Write and test a function called `simpsons_rule1`. The function should take as its arguments:\n",
    "<ul>\n",
    "    <li>a function <code>func</code> from the reals to the reals;</li>\n",
    "    <li>a float, or int, <code>xmin</code>;</li>\n",
    "    <li>a float, or int, <code>xmax</code>;</li>\n",
    "    <li>a positive even int <code>n</code>, with default value 10.</li>\n",
    "</ul>\n",
    "\n",
    "It should then return an approximate value for the integral of <code>func(x)</code> with respect to <code>x</code> between <code>xmin</code> and <code>xmax</code>, obtained by using the Simpson's rule formula\n",
    "\n",
    "$$I \\approx \\frac{h}{3}\\,\\left(y_0 + 4\\,y_1 + 2\\,y_2 + \\dots + 2\\,y_{n-2}+4\\,y_{n-1} + y_n\\right),$$\n",
    "\n",
    "where $h$, the step size, is obtained by dividing the interval width by <code>n</code>.\n",
    "\n",
    "Your function should make no use of NumPy functionality, but should rely entirely either on loops, or on comprehensions, or both.\n",
    "\n",
    "Test your function: for example\n",
    "\n",
    "```python\n",
    "import math\n",
    "print(simpsons_rule1(math.sin, 0.0, math.pi/2))\n",
    "```\n",
    "should give something pretty close to 1.00000339."
   ]
  },
  {
   "cell_type": "code",
   "execution_count": 24,
   "id": "suffering-society",
   "metadata": {
    "deletable": false,
    "nbgrader": {
     "cell_type": "code",
     "checksum": "5c942c65f13800ed97e851b016747a5d",
     "grade": false,
     "grade_id": "cell-e8165e838fb79f9b",
     "locked": false,
     "schema_version": 3,
     "solution": true,
     "task": false
    }
   },
   "outputs": [
    {
     "output_type": "stream",
     "name": "stdout",
     "text": [
      "1.0000033922209004\n"
     ]
    }
   ],
   "source": [
    "def simpsons_rule1(func, xmin, xmax, n=10):\n",
    "    \"\"\"\n",
    "    We use core python functions and methods\n",
    "    to apply simpsons rule to calculate the definite \n",
    "    integral of a function passed as argument\n",
    "    \"\"\"\n",
    "    arr = []\n",
    "    h = (xmax-xmin)/n\n",
    "    total = (func(xmax) + func(xmin))\n",
    "    for i in range(1, n):\n",
    "        if i % 2 != 0:\n",
    "            coeff = 4\n",
    "        else:\n",
    "            coeff = 2\n",
    "        total += coeff*func(xmin + i*h)\n",
    "    return (h/3)*total\n",
    "\n",
    "import math\n",
    "print(simpsons_rule1(math.sin, 0.0, math.pi/2))\n",
    "    "
   ]
  },
  {
   "cell_type": "code",
   "execution_count": 25,
   "id": "prescribed-buffalo",
   "metadata": {
    "deletable": false,
    "editable": false,
    "nbgrader": {
     "cell_type": "code",
     "checksum": "bdcf0b79466af9cba28bec04caf1708a",
     "grade": true,
     "grade_id": "cell-6d0e30c9d4358887",
     "locked": true,
     "points": 0,
     "schema_version": 3,
     "solution": false,
     "task": false
    }
   },
   "outputs": [
    {
     "output_type": "stream",
     "name": "stdout",
     "text": [
      "Test passed!\n"
     ]
    }
   ],
   "source": [
    "# No marks: function test\n",
    "\n",
    "try:\n",
    "    assert(np.isclose(simpsons_rule1(math.sin, 0, math.pi/2), 1.00000339))\n",
    "except:\n",
    "    print('Test failed!')\n",
    "else:\n",
    "    print('Test passed!')"
   ]
  },
  {
   "cell_type": "code",
   "execution_count": 26,
   "id": "different-living",
   "metadata": {
    "deletable": false,
    "editable": false,
    "nbgrader": {
     "cell_type": "code",
     "checksum": "406130cc85e2b3c9046e6dfcc6c8b3dc",
     "grade": true,
     "grade_id": "cell-c16ea2f873c5ba2b",
     "locked": true,
     "points": 4,
     "schema_version": 3,
     "solution": false,
     "task": false
    }
   },
   "outputs": [
    {
     "output_type": "stream",
     "name": "stdout",
     "text": [
      "Test with positional value of n passed!\n\nTest with keyword value of n passed!\n\nTest with default value of n passed!\n\nThis function seems to have a docstring\n\n4 out of 4\n"
     ]
    },
    {
     "output_type": "execute_result",
     "data": {
      "text/plain": [
       "4"
      ]
     },
     "metadata": {},
     "execution_count": 26
    }
   ],
   "source": [
    "# 4 Marks\n",
    "# Do not try to delete this cell\n",
    "# Run this cell for grading\n",
    "_globals = globals()\n",
    "question2a(_globals)"
   ]
  },
  {
   "cell_type": "markdown",
   "id": "split-eleven",
   "metadata": {
    "deletable": false,
    "editable": false,
    "nbgrader": {
     "cell_type": "markdown",
     "checksum": "9d417335f561317bf550b485212a74b6",
     "grade": false,
     "grade_id": "cell-c030ea1fdffc8b3c",
     "locked": true,
     "schema_version": 3,
     "solution": false,
     "task": false
    }
   },
   "source": [
    "(b) Write a function called <code>simpsons_rule2</code> that takes the same arguments and defaults as <code>simpsons_rule1</code>, and also returns the Simpson's rule approximation to the integral, but uses no loops or comprehensions. Instead, it should use NumPy arrays, vectorized operations and the `sum` function.\n",
    "\n",
    "Test your function: for example\n",
    "\n",
    "```python\n",
    "import numpy as np\n",
    "print(simpsons_rule2(np.sin, 0.0, np.pi/2))\n",
    "```\n",
    "should give something pretty close to 1.00000339."
   ]
  },
  {
   "cell_type": "code",
   "execution_count": 27,
   "id": "naval-lighter",
   "metadata": {
    "deletable": false,
    "nbgrader": {
     "cell_type": "code",
     "checksum": "6a4e2e89f45a18c128cc1c7ba254db75",
     "grade": false,
     "grade_id": "cell-89ec0c6ad2d8f9fa",
     "locked": false,
     "schema_version": 3,
     "solution": true,
     "task": false
    }
   },
   "outputs": [
    {
     "output_type": "stream",
     "name": "stdout",
     "text": [
      "1.0000033922209004\n"
     ]
    }
   ],
   "source": [
    "def simpsons_rule2(func, xmin, xmax, n=10):\n",
    "    # YOUR CODE HERE\n",
    "    \"\"\"\n",
    "    Previous simpsons function functionality\n",
    "    but better\n",
    "    \"\"\"\n",
    "    h = (xmax - xmin)/n\n",
    "    oddx = xmin + h*np.arange(1, n, 2)\n",
    "    evenx = xmin + h*np.arange(2, n-1, 2)\n",
    "\n",
    "    return (h/3)*(func(xmin) + func(xmax) + 4*sum(func(oddx)) + 2*sum(func(evenx)))\n",
    "\n",
    "\n",
    "\n",
    "print(simpsons_rule2(np.sin, 0.0, np.pi/2))"
   ]
  },
  {
   "cell_type": "code",
   "execution_count": 28,
   "id": "early-subject",
   "metadata": {
    "deletable": false,
    "editable": false,
    "nbgrader": {
     "cell_type": "code",
     "checksum": "2c4f57bdcb44edc37e2fb52711dbf7ba",
     "grade": true,
     "grade_id": "cell-9019ca6df0e41e56",
     "locked": true,
     "points": 0,
     "schema_version": 3,
     "solution": false,
     "task": false
    }
   },
   "outputs": [
    {
     "output_type": "stream",
     "name": "stdout",
     "text": [
      "Test passed!\n"
     ]
    }
   ],
   "source": [
    "# No marks: function test\n",
    "\n",
    "try:\n",
    "    assert(np.isclose(simpsons_rule2(np.sin, 0, np.pi/2), 1.00000339))\n",
    "except:\n",
    "    print('Test failed!')\n",
    "else:\n",
    "    print('Test passed!')"
   ]
  },
  {
   "cell_type": "code",
   "execution_count": 29,
   "id": "norwegian-letter",
   "metadata": {
    "deletable": false,
    "editable": false,
    "nbgrader": {
     "cell_type": "code",
     "checksum": "6636880182d45ee2d86b20187a5c1b5f",
     "grade": true,
     "grade_id": "cell-8064ad50498daec1",
     "locked": true,
     "points": 4,
     "schema_version": 3,
     "solution": false,
     "task": false
    }
   },
   "outputs": [
    {
     "output_type": "stream",
     "name": "stdout",
     "text": [
      "Test with positional value of n passed!\n\nTest with keyword value of n passed!\n\nTest with default value of n passed!\n\nThis function seems to have a docstring\n\n4 out of 4\n"
     ]
    },
    {
     "output_type": "execute_result",
     "data": {
      "text/plain": [
       "4"
      ]
     },
     "metadata": {},
     "execution_count": 29
    }
   ],
   "source": [
    "# 4 Marks\n",
    "# Do not try to delete this cell\n",
    "# Run this cell for grading\n",
    "_globals = globals()\n",
    "question2b(_globals)"
   ]
  },
  {
   "cell_type": "markdown",
   "id": "assumed-regulation",
   "metadata": {
    "deletable": false,
    "editable": false,
    "nbgrader": {
     "cell_type": "markdown",
     "checksum": "e7f010ebba52fbf9f9023774f643753b",
     "grade": false,
     "grade_id": "cell-1a9c179800b3dba8",
     "locked": true,
     "schema_version": 3,
     "solution": false,
     "task": false
    }
   },
   "source": [
    "(c) Suppose\n",
    "\n",
    "```python\n",
    "f = lambda x: x**5 - x**4\n",
    "```\n",
    "\n",
    "Which of the following statements is true?\n",
    "\n",
    "<ol>\n",
    "    <li>Both of my Simpson's Rule functions work if <code>f</code> is a lambda-expression like this.</li>\n",
    "    <li>Only the first version, based on loops or comprehensions, works if <code>f</code> is a lambda-expression like this.</li>\n",
    "    <li>Only the second version, based on vectorization, works if <code>f</code> is a lambda-expression like this.</li>    \n",
    "    <li>Neither of my Simpson's Rule functions work if <code>f</code> is a lambda-expression like this.</li>\n",
    "</ol>"
   ]
  },
  {
   "cell_type": "code",
   "execution_count": 30,
   "id": "opened-missile",
   "metadata": {
    "deletable": false,
    "nbgrader": {
     "cell_type": "code",
     "checksum": "31932e699b20d34e6623f36b33be9f06",
     "grade": false,
     "grade_id": "cell-f26754aa5f6764b1",
     "locked": false,
     "schema_version": 3,
     "solution": true,
     "task": false
    }
   },
   "outputs": [
    {
     "output_type": "stream",
     "name": "stdout",
     "text": [
      "1541.6666666666665\n1541.6666666666665\n"
     ]
    }
   ],
   "source": [
    "# YOUR CODE HERE\n",
    "print(simpsons_rule1(lambda x: x**2, 15, 20))\n",
    "print(simpsons_rule2(lambda x: x**2, 15, 20))\n",
    "\n",
    "question2c_answer = 1"
   ]
  },
  {
   "cell_type": "code",
   "execution_count": 31,
   "id": "magnetic-athletics",
   "metadata": {
    "deletable": false,
    "editable": false,
    "nbgrader": {
     "cell_type": "code",
     "checksum": "a5d00d3cfe1d1ee26493176942a45b58",
     "grade": true,
     "grade_id": "cell-20f9a47628789e74",
     "locked": true,
     "points": 1,
     "schema_version": 3,
     "solution": false,
     "task": false
    }
   },
   "outputs": [
    {
     "output_type": "stream",
     "name": "stdout",
     "text": [
      "test case passed!\n"
     ]
    }
   ],
   "source": [
    "# 1 Mark\n",
    "assert(question2c_answer == question2c())\n",
    "print('test case passed!')"
   ]
  },
  {
   "cell_type": "markdown",
   "id": "center-search",
   "metadata": {
    "deletable": false,
    "editable": false,
    "nbgrader": {
     "cell_type": "markdown",
     "checksum": "f90b1258c3e77aeb732ba6db40692776",
     "grade": false,
     "grade_id": "cell-7f7cfc4307920b54",
     "locked": true,
     "schema_version": 3,
     "solution": false,
     "task": false
    }
   },
   "source": [
    "(d) Suppose\n",
    "\n",
    "```python\n",
    "f = math.sin\n",
    "```\n",
    "\n",
    "Which of the following statements is true?\n",
    "\n",
    "<ol>\n",
    "    <li>Both of my Simpson's Rule functions work if <code>f</code> is a <code>math</code> function like this.</li>\n",
    "    <li>Only the first version, based on loops or comprehensions, works if <code>f</code> is a <code>math</code> function like this.</li>\n",
    "    <li>Only the second version, based on vectorization, works if <code>f</code> is a <code>math</code> function like this.</li>    \n",
    "    <li>Neither of my Simpson's Rule functions work if <code>f</code> is a <code>math</code> function like this.</li>\n",
    "</ol>"
   ]
  },
  {
   "cell_type": "code",
   "execution_count": 32,
   "id": "leading-hudson",
   "metadata": {
    "deletable": false,
    "nbgrader": {
     "cell_type": "code",
     "checksum": "7151f7fe938f87bade7b5cf0239d0054",
     "grade": false,
     "grade_id": "cell-6e70447cf4a24ab7",
     "locked": false,
     "schema_version": 3,
     "solution": true,
     "task": false
    }
   },
   "outputs": [
    {
     "output_type": "stream",
     "name": "stdout",
     "text": [
      "1.7071067811868377\nBruh moment\n"
     ]
    }
   ],
   "source": [
    "import math\n",
    "print(simpsons_rule1(math.sin, math.pi/4, math.pi, 1000))\n",
    "try:\n",
    "    print(simpsons_rule2(math.sin, np.pi/4, np.pi, 1000))\n",
    "except:\n",
    "    print(\"Bruh moment\")\n",
    "\n",
    "question2d_answer = 2"
   ]
  },
  {
   "cell_type": "code",
   "execution_count": 33,
   "id": "improving-child",
   "metadata": {
    "deletable": false,
    "editable": false,
    "nbgrader": {
     "cell_type": "code",
     "checksum": "8b1936d6597b32f77c542268eff56d09",
     "grade": true,
     "grade_id": "cell-2d53b14c84cacf50",
     "locked": true,
     "points": 1,
     "schema_version": 3,
     "solution": false,
     "task": false
    }
   },
   "outputs": [
    {
     "output_type": "stream",
     "name": "stdout",
     "text": [
      "test case passed!\n"
     ]
    }
   ],
   "source": [
    "# 1 Mark\n",
    "assert(question2d_answer == question2d())\n",
    "print('test case passed!')"
   ]
  },
  {
   "cell_type": "markdown",
   "id": "demanding-pixel",
   "metadata": {
    "deletable": false,
    "editable": false,
    "nbgrader": {
     "cell_type": "markdown",
     "checksum": "eccd7a75519a28ff77d08a6a8bc7432e",
     "grade": false,
     "grade_id": "cell-9ca0d6004a391634",
     "locked": true,
     "schema_version": 3,
     "solution": false,
     "task": false
    }
   },
   "source": [
    "(e) Suppose\n",
    "\n",
    "```python\n",
    "f = np.sin\n",
    "```\n",
    "\n",
    "Which of the following statements is true?\n",
    "\n",
    "<ol>\n",
    "    <li>Both of my Simpson's Rule functions work if <code>f</code> is a NumPy function like this.</li>\n",
    "    <li>Only the first version, based on loops or comprehensions, works if <code>f</code> is a NumPy function like this.</li>\n",
    "    <li>Only the second version, based on vectorization, works if <code>f</code> is a NumPy function like this.</li>    \n",
    "    <li>Neither of my Simpson's Rule functions work if <code>f</code> is a NumPy function like this.</li>\n",
    "</ol>"
   ]
  },
  {
   "cell_type": "code",
   "execution_count": 34,
   "id": "beautiful-wheat",
   "metadata": {
    "deletable": false,
    "nbgrader": {
     "cell_type": "code",
     "checksum": "3885765071480d2eb68b73bbd9897da5",
     "grade": false,
     "grade_id": "cell-ff823037ad2d47a5",
     "locked": false,
     "schema_version": 3,
     "solution": true,
     "task": false
    }
   },
   "outputs": [
    {
     "output_type": "stream",
     "name": "stdout",
     "text": [
      "1.8205946920334642e-16\n1.7071067812393823\n"
     ]
    }
   ],
   "source": [
    "# YOUR CODE HERE\n",
    "print(simpsons_rule1(np.sin, np.pi, 3*np.pi, 1000))\n",
    "print(simpsons_rule2(np.sin, np.pi/4, 3*np.pi, 1000))\n",
    "\n",
    "question2e_answer = 1"
   ]
  },
  {
   "cell_type": "code",
   "execution_count": 35,
   "id": "departmental-aquatic",
   "metadata": {
    "deletable": false,
    "editable": false,
    "nbgrader": {
     "cell_type": "code",
     "checksum": "1e63f7ec6f4e5db7ec57f2c4487694f0",
     "grade": true,
     "grade_id": "cell-2448503a027accb7",
     "locked": true,
     "points": 1,
     "schema_version": 3,
     "solution": false,
     "task": false
    }
   },
   "outputs": [
    {
     "output_type": "stream",
     "name": "stdout",
     "text": [
      "test case passed!\n"
     ]
    }
   ],
   "source": [
    "# 1 Mark\n",
    "assert(question2e_answer == question2e())\n",
    "print('test case passed!')"
   ]
  },
  {
   "cell_type": "markdown",
   "id": "broadband-variation",
   "metadata": {
    "deletable": false,
    "editable": false,
    "nbgrader": {
     "cell_type": "markdown",
     "checksum": "c822d6e1f8adc92299efaea5177ad9a6",
     "grade": false,
     "grade_id": "cell-03022bb356226386",
     "locked": true,
     "schema_version": 3,
     "solution": false,
     "task": false
    }
   },
   "source": [
    "(f) Use both your functions to calculate an estimate for\n",
    "$$\\int_0^{\\pi/2}\\sin x\\,dx$$\n",
    "using `n = 5000000` (this is actually a silly thing to do, since rounding error soon mounts up and overwhelms any gains from using more sub-intervals).\n",
    "\n",
    "Use the `time` function from the `time` module to time both operations.\n",
    "\n",
    "Which of the following statements is true?\n",
    "<ol>\n",
    "    <li>Each of my Simpson's Rule functions executes in a similar time for large <code>n</code>.</li>\n",
    "    <li>The first version, based on loops or comprehensions, executes in a shorter time for large <code>n</code>.</li>\n",
    "    <li>The second version, based on vectorization, executes in a shorter time for large <code>n</code>.</li>\n",
    "</ol>"
   ]
  },
  {
   "cell_type": "code",
   "execution_count": 36,
   "id": "unique-proceeding",
   "metadata": {
    "deletable": false,
    "nbgrader": {
     "cell_type": "code",
     "checksum": "5c52273c8da5a5e9bf280c893ed7260d",
     "grade": false,
     "grade_id": "cell-8abba501a3d58d61",
     "locked": false,
     "schema_version": 3,
     "solution": true,
     "task": false
    }
   },
   "outputs": [
    {
     "output_type": "stream",
     "name": "stdout",
     "text": [
      "1.0000000000000602\n",
      "6.446422815322876\n",
      "1.000000000000047\n",
      "0.8197445869445801\n"
     ]
    }
   ],
   "source": [
    "# YOUR CODE HERE\n",
    "from time import time\n",
    "start = time()\n",
    "print(simpsons_rule1(np.sin, 0, np.pi/2, 5000000))\n",
    "print(time() - start)\n",
    "start = time()\n",
    "print(simpsons_rule2(np.sin, 0, np.pi/2, 5000000))\n",
    "print(time() - start)\n",
    "\n",
    "question2f_answer = 3"
   ]
  },
  {
   "cell_type": "code",
   "execution_count": 37,
   "id": "green-cleaners",
   "metadata": {
    "deletable": false,
    "editable": false,
    "nbgrader": {
     "cell_type": "code",
     "checksum": "955c04024e27e2b331d5bea256a11519",
     "grade": true,
     "grade_id": "cell-2f2acae932361545",
     "locked": true,
     "points": 1,
     "schema_version": 3,
     "solution": false,
     "task": false
    }
   },
   "outputs": [
    {
     "output_type": "stream",
     "name": "stdout",
     "text": [
      "test case passed!\n"
     ]
    }
   ],
   "source": [
    "# 1 Mark\n",
    "assert(question2f_answer == question2f())\n",
    "print('test case passed!')"
   ]
  },
  {
   "cell_type": "markdown",
   "id": "literary-simon",
   "metadata": {
    "deletable": false,
    "editable": false,
    "nbgrader": {
     "cell_type": "markdown",
     "checksum": "9af958ee3ad95ff1af469687f45ac3da",
     "grade": false,
     "grade_id": "cell-d5f550638e3e4621",
     "locked": true,
     "schema_version": 3,
     "solution": false,
     "task": false
    }
   },
   "source": [
    "## Question 3\n",
    "\n",
    "The <b>Arnol'd sine map</b> is a discrete-time dynamical model for the behaviour of certain types of nonlinear oscillator. It takes the form of a function of a variable $\\theta$:\n",
    "\n",
    "$$f_{\\Omega, K}(\\theta) = \\theta + \\Omega - \\frac{K}{2\\,\\pi}\\,\\sin(2\\,\\pi\\,\\theta).$$"
   ]
  },
  {
   "cell_type": "markdown",
   "id": "brilliant-edward",
   "metadata": {
    "deletable": false,
    "editable": false,
    "nbgrader": {
     "cell_type": "markdown",
     "checksum": "edebe0b60e2868dc77da54d67c42d739",
     "grade": false,
     "grade_id": "cell-39628829fa744f6e",
     "locked": true,
     "schema_version": 3,
     "solution": false,
     "task": false
    }
   },
   "source": [
    "(a) Write and test two versions of an Arnol'd sine map function, called `sine_map1` and `sine_map2`. Each should take as its arguments three floats, standing for values of $\\Omega$, $K$ and $\\theta$, and return a single float equal to $f_{\\Omega,K}(\\theta).$ The first should use only functions and constants from the `math` module, and the second only functions and constants from NumPy. \n",
    "\n",
    "Good values for $\\Omega$, $K$ and $\\theta$ are $0.3$, $1.0$ and $0.3$ respectively."
   ]
  },
  {
   "cell_type": "code",
   "execution_count": 38,
   "id": "matched-sharp",
   "metadata": {
    "deletable": false,
    "nbgrader": {
     "cell_type": "code",
     "checksum": "136a5ecc26d9e6c1dff477359f7ac20f",
     "grade": false,
     "grade_id": "cell-e4b4f219fda0a2da",
     "locked": false,
     "schema_version": 3,
     "solution": true,
     "task": false
    }
   },
   "outputs": [],
   "source": [
    "import math\n",
    "def sine_map1(omega, k, theta):\n",
    "    \"\"\"\n",
    "    This one can also handle numpy stuff it seems\n",
    "    \"\"\"\n",
    "    return theta + omega - (k/(2*math.pi))*math.sin(2*math.pi*theta)\n",
    "\n",
    "def sine_map2(omega, k, theta):\n",
    "    \"\"\"\n",
    "    This one can handle numpy stuff I think\n",
    "    \"\"\"\n",
    "    return theta + omega - (k/(2*np.pi))*np.sin(2*np.pi*theta)\n",
    "\n"
   ]
  },
  {
   "cell_type": "code",
   "execution_count": 39,
   "id": "promising-logan",
   "metadata": {
    "deletable": false,
    "editable": false,
    "nbgrader": {
     "cell_type": "code",
     "checksum": "f070a2f3618166f9a1f8fed3a3b5b708",
     "grade": true,
     "grade_id": "cell-58a1559519a47dc2",
     "locked": true,
     "points": 0,
     "schema_version": 3,
     "solution": false,
     "task": false
    }
   },
   "outputs": [
    {
     "output_type": "stream",
     "name": "stdout",
     "text": [
      "Test passed!\n"
     ]
    }
   ],
   "source": [
    "# No marks: test cell\n",
    "\n",
    "try:\n",
    "    assert(np.isclose(sine_map1(0.3, 1.0, 0.3), 0.6 - 1.0/(2*np.pi) * np.sin(2*np.pi*0.3)))\n",
    "    assert(np.isclose(sine_map2(0.3, 1.0, 0.3), 0.6 - 1.0/(2*np.pi) * np.sin(2*np.pi*0.3)))\n",
    "except:\n",
    "    print('Test failed!')\n",
    "else:\n",
    "    print('Test passed!')"
   ]
  },
  {
   "cell_type": "code",
   "execution_count": 40,
   "id": "negative-peter",
   "metadata": {
    "deletable": false,
    "editable": false,
    "nbgrader": {
     "cell_type": "code",
     "checksum": "9519cdfa85d24eae5ccea2243647c70f",
     "grade": true,
     "grade_id": "cell-7787ad54e7eb6eec",
     "locked": true,
     "points": 2,
     "schema_version": 3,
     "solution": false,
     "task": false
    }
   },
   "outputs": [
    {
     "output_type": "stream",
     "name": "stdout",
     "text": [
      "Test of sine_map1 passed!\n\nTest of sine_map2 passed!\n\n2 out of 2\n"
     ]
    },
    {
     "output_type": "execute_result",
     "data": {
      "text/plain": [
       "2"
      ]
     },
     "metadata": {},
     "execution_count": 40
    }
   ],
   "source": [
    "# 2 Marks\n",
    "# Do not try to delete this cell\n",
    "# Run this cell for grading\n",
    "_globals = globals()\n",
    "question3a(_globals)"
   ]
  },
  {
   "cell_type": "markdown",
   "id": "searching-endorsement",
   "metadata": {
    "deletable": false,
    "editable": false,
    "nbgrader": {
     "cell_type": "markdown",
     "checksum": "4f9154ed6f38f8cb9c543eff076f36cc",
     "grade": false,
     "grade_id": "cell-1a3fdc0df5a5e562",
     "locked": true,
     "schema_version": 3,
     "solution": false,
     "task": false
    }
   },
   "source": [
    "(b) Which of the following statements is true:\n",
    "\n",
    "<ol>\n",
    "    <li>If $K$ and $\\theta$ are floats, and $\\Omega$ is a one-dimensional NumPy array, both of my sine map functions work.</li>\n",
    "    <li>If $K$ and $\\theta$ are floats, and $\\Omega$ is a one-dimensional NumPy array, only the first version, based on <code>math</code> functions, works.</li>\n",
    "    <li>If $K$ and $\\theta$ are floats, and $\\Omega$ is a one-dimensional NumPy array, only the second version, based on NumPy functions, works.</li>\n",
    "    <li>If $K$ and $\\theta$ are floats, and $\\Omega$ is a one-dimensional NumPy array, neither of my sine map functions works.</li>\n",
    "</ol>"
   ]
  },
  {
   "cell_type": "code",
   "execution_count": 41,
   "id": "removable-joyce",
   "metadata": {
    "deletable": false,
    "nbgrader": {
     "cell_type": "code",
     "checksum": "ae9579a918f969d3e703988429311b92",
     "grade": false,
     "grade_id": "cell-04074d9bc4c731ad",
     "locked": false,
     "schema_version": 3,
     "solution": true,
     "task": false
    }
   },
   "outputs": [],
   "source": [
    "# YOUR CODE HERE\n",
    "sine_map2(0.3, 1.0, np.array([1, 2, 3, 4]))\n",
    "\n",
    "question3b_answer = 1 # insert one of 1, 2, 3 or 4"
   ]
  },
  {
   "cell_type": "code",
   "execution_count": 42,
   "id": "reduced-uncertainty",
   "metadata": {
    "deletable": false,
    "editable": false,
    "nbgrader": {
     "cell_type": "code",
     "checksum": "a1a3496401eea49d69bab6db465cd5e7",
     "grade": true,
     "grade_id": "cell-1c92c32f1c423af9",
     "locked": true,
     "points": 1,
     "schema_version": 3,
     "solution": false,
     "task": false
    }
   },
   "outputs": [
    {
     "output_type": "stream",
     "name": "stdout",
     "text": [
      "test case passed!\n"
     ]
    }
   ],
   "source": [
    "# 1 Mark\n",
    "assert(question3b_answer == question3b())\n",
    "print('test case passed!')"
   ]
  },
  {
   "cell_type": "markdown",
   "id": "attended-coaching",
   "metadata": {
    "deletable": false,
    "editable": false,
    "nbgrader": {
     "cell_type": "markdown",
     "checksum": "b0714c0fef730554c8e04c6f495d8ceb",
     "grade": false,
     "grade_id": "cell-3b1935f0363e1e0f",
     "locked": true,
     "schema_version": 3,
     "solution": false,
     "task": false
    }
   },
   "source": [
    "(c) Which of the following statements is true:\n",
    "\n",
    "<ol>\n",
    "    <li>If $\\Omega$ and $K$ are floats, and $\\theta$ is a one-dimensional NumPy array, both of my sine map functions work.</li>\n",
    "    <li>If $\\Omega$ and $K$ are floats, and $\\theta$ is a one-dimensional NumPy array, only the first version, based on <code>math</code> functions, works.</li>\n",
    "    <li>If $\\Omega$ and $K$ are floats, and $\\theta$ is a one-dimensional NumPy array, only the second version, based on NumPy functions, works.</li>\n",
    "    <li>If $\\Omega$ and $K$ are floats, and $\\theta$ is a one-dimensional NumPy array, neither of my sine map functions works.</li>\n",
    "</ol>"
   ]
  },
  {
   "cell_type": "code",
   "execution_count": 43,
   "id": "stainless-slovak",
   "metadata": {
    "deletable": false,
    "nbgrader": {
     "cell_type": "code",
     "checksum": "626d0e7ebd3a9a57e598dd6117f76ef2",
     "grade": false,
     "grade_id": "cell-ec549d0d6d9d6ab7",
     "locked": false,
     "schema_version": 3,
     "solution": true,
     "task": false
    }
   },
   "outputs": [],
   "source": [
    "# YOUR CODE HERE\n",
    "sine_map2(0.3, 1.0, np.array([1, 2, 3, 4]))\n",
    "\n",
    "question3c_answer = 3# insert one of 1, 2, 3 or 4"
   ]
  },
  {
   "cell_type": "code",
   "execution_count": 44,
   "id": "chinese-confidence",
   "metadata": {
    "deletable": false,
    "editable": false,
    "nbgrader": {
     "cell_type": "code",
     "checksum": "e9978e9db14a3d177a011e52d08053f2",
     "grade": true,
     "grade_id": "cell-bdae71a6aa59ad6d",
     "locked": true,
     "points": 1,
     "schema_version": 3,
     "solution": false,
     "task": false
    }
   },
   "outputs": [
    {
     "output_type": "stream",
     "name": "stdout",
     "text": [
      "test case passed!\n"
     ]
    }
   ],
   "source": [
    "# 1 Mark\n",
    "assert(question3c_answer == question3c())\n",
    "print('test case passed!')"
   ]
  },
  {
   "cell_type": "markdown",
   "id": "wrapped-choice",
   "metadata": {
    "deletable": false,
    "editable": false,
    "nbgrader": {
     "cell_type": "markdown",
     "checksum": "c5f684700196887e40f53eb79d71bb5b",
     "grade": false,
     "grade_id": "cell-298465893c6199b1",
     "locked": true,
     "schema_version": 3,
     "solution": false,
     "task": false
    }
   },
   "source": [
    "(d) The <b>rotation number</b> of the Arnol'd sine map, $\\omega_{\\Omega, K}(\\theta_0)$, can be defined to be\n",
    "$$\\lim_{n\\to\\infty}\\frac{\\theta_n-\\theta_0}{n},$$\n",
    "where $\\theta_0, \\theta_1, \\dots, \\theta_n$ are successive iterates of the sine map. An estimate for the rotation number can be obtained using the formula\n",
    "$$\\frac{\\theta_N-\\theta}{N},$$\n",
    "where $N$ is a large positive integer (sometimes quite a large value is necessary for a good approximation).\n",
    "\n",
    "Under suitable conditions, the rotation number can be shown to be independent of $\\theta_0$.\n",
    "\n",
    "Write and test functions called `rotation_number1` and `rotation_number2`. Each should take as its argument values of $\\Omega$, $K$ and $\\theta_0$, and a positive integer value of $N$, which should by default be 10000. Each should return a value of \n",
    "$$\\frac{\\theta_N-\\theta}{N}.$$\n",
    "The first should call only your `sine_map1` function, and the second only your `sine_map2` function."
   ]
  },
  {
   "cell_type": "code",
   "execution_count": 45,
   "id": "bored-trance",
   "metadata": {
    "deletable": false,
    "nbgrader": {
     "cell_type": "code",
     "checksum": "d6f2d85d6f4226fc782c99d4bd02cb38",
     "grade": false,
     "grade_id": "cell-9a9c8a3ed39b96d8",
     "locked": false,
     "schema_version": 3,
     "solution": true,
     "task": false
    }
   },
   "outputs": [],
   "source": [
    "# YOUR CODE HERE\n",
    "def rotation_number1(omega, k, theta0, N=10000):\n",
    "    \"\"\"\n",
    "    Uses sine_map1, which only uses the core\n",
    "    python math module for the Arnol'd sine map.\n",
    "    We iterate the function N times, and return \n",
    "    the estimate for the rotation number using the final\n",
    "    iterate\n",
    "    \"\"\"\n",
    "    theta = theta0\n",
    "    for i in range(N):\n",
    "        theta = sine_map1(omega, k, theta)\n",
    "    return (theta-theta0)/N\n",
    "\n",
    "def rotation_number2(omega, k, theta0, N=10000):\n",
    "    \"\"\"\n",
    "    Iterates sine_map2, which uses the numpy module\n",
    "    This also iterates N times (with a default value of 10,000)\n",
    "    \"\"\"\n",
    "    theta = theta0\n",
    "    for i in range(N):\n",
    "        theta = sine_map2(omega, k, theta)\n",
    "    return (theta-theta0)/N\n",
    "\n"
   ]
  },
  {
   "cell_type": "code",
   "execution_count": 46,
   "id": "downtown-measurement",
   "metadata": {
    "deletable": false,
    "editable": false,
    "nbgrader": {
     "cell_type": "code",
     "checksum": "e6c4309650df2c589202d5cef243156d",
     "grade": true,
     "grade_id": "cell-5db8aebad3b0b18a",
     "locked": true,
     "points": 8,
     "schema_version": 3,
     "solution": false,
     "task": false
    }
   },
   "outputs": [
    {
     "output_type": "stream",
     "name": "stdout",
     "text": [
      "Test of rotation_number1 with positional value of N passed!\n",
      "\n",
      "Test of rotation_number1 with keyword value of N passed!\n",
      "\n",
      "Test of rotation_number1 with default value of N passed!\n",
      "\n",
      "The function rotation_number1 seems to have a docstring\n",
      "\n",
      "Test of rotation_number2 with positional value of N passed!\n",
      "\n",
      "Test of rotation_number2 with keyword value of N passed!\n",
      "\n",
      "Test of rotation_number2 with default value of N passed!\n",
      "\n",
      "The function rotation_number2 seems to have a docstring\n",
      "\n",
      "8 out of 8\n"
     ]
    },
    {
     "output_type": "execute_result",
     "data": {
      "text/plain": [
       "8"
      ]
     },
     "metadata": {},
     "execution_count": 46
    }
   ],
   "source": [
    "# 8 Marks\n",
    "# Do not try to delete this cell\n",
    "# Run this cell for grading\n",
    "_globals = globals()\n",
    "question3d(_globals)"
   ]
  },
  {
   "cell_type": "markdown",
   "id": "talented-arkansas",
   "metadata": {
    "deletable": false,
    "editable": false,
    "nbgrader": {
     "cell_type": "markdown",
     "checksum": "7c54355a5c632348955d638395ebd7f3",
     "grade": false,
     "grade_id": "cell-06952eda20e38547",
     "locked": true,
     "schema_version": 3,
     "solution": false,
     "task": false
    }
   },
   "source": [
    "Whether both your functions work if $K$ and $\\theta$ are floats, $N$ is a positive int, and $\\Omega$ is a one-dimensional NumPy array will depend on your implementation; the second should reliably work, though. It should also work if $\\Omega$ and $K$ are floats, $N$ is a positive int, and $\\theta$ is a one-dimensional NumPy array.\n",
    "\n",
    "You might want to check these things!"
   ]
  },
  {
   "cell_type": "markdown",
   "id": "instrumental-resident",
   "metadata": {
    "deletable": false,
    "editable": false,
    "nbgrader": {
     "cell_type": "markdown",
     "checksum": "8f78adb879691c9c98e7eb5dd035f85e",
     "grade": false,
     "grade_id": "cell-870a3c4c7de5a498",
     "locked": true,
     "schema_version": 3,
     "solution": false,
     "task": false
    }
   },
   "source": [
    "For a suitable value of $K$ such as $1$, the plot of the rotation number of the sine map against $\\Omega$ is fascinating mathematically. It's an example of a so-called <b>Devil's staircase</b>, which is continuous everywhere, and differentiable with gradient zero <em>almost</em> everywhere (in a certain precise sense), and yet increases from 0 to 1 over the unit interval.\n",
    "\n",
    "(e) Write test a function called `rotation_number_list`. It should take as its arguments\n",
    "<ul>\n",
    "    <li>A list of values of $\\Omega$, <code>omega_list</code>.</li>\n",
    "    <li>Floats representing the values of $K$ and $\\theta_0$.</li>\n",
    "    <li>A positive int, $N$, by default equal to 10000.</li>\n",
    "</ul>\n",
    "\n",
    "It should then use your `rotation_number1` function in a suitable loop or comprehension, and return a list consisting of estimates for $\\omega_{\\Omega,K}(\\theta_0)$ for each value of $\\Omega$ in `omega_list`. It should make no use at all of NumPy functionality.\n",
    "\n",
    "In your tests, use fairly short lists of $\\Omega$-values and fairly small values of $N$."
   ]
  },
  {
   "cell_type": "code",
   "execution_count": 47,
   "id": "vital-hearing",
   "metadata": {
    "deletable": false,
    "nbgrader": {
     "cell_type": "code",
     "checksum": "b766aab9dfb50bc15fd62888cd768912",
     "grade": false,
     "grade_id": "cell-155fce44558c929a",
     "locked": false,
     "schema_version": 3,
     "solution": true,
     "task": false
    }
   },
   "outputs": [
    {
     "output_type": "stream",
     "name": "stdout",
     "text": [
      "[-1.9187173487074547e-05, -2.4913870311256033e-05, 0.49996999999999997, 0.2687236705645652]\n"
     ]
    },
    {
     "output_type": "execute_result",
     "data": {
      "text/plain": [
       "[-1.9187173487074547e-05,\n",
       " -2.4913870311256033e-05,\n",
       " 0.49996999999999997,\n",
       " 0.2687236705645652]"
      ]
     },
     "metadata": {},
     "execution_count": 47
    }
   ],
   "source": [
    "# YOUR CODE HERE\n",
    "def rotation_number_list1(omega_list, k, theta, N=10000):\n",
    "    lis = [rotation_number1(omega, k, theta, N) for omega in omega_list]\n",
    "    print(lis)\n",
    "    return lis\n",
    "\n",
    "rotation_number_list1([0.1, 0.05, 0.5, 0.3], 1.0, 0.3)"
   ]
  },
  {
   "cell_type": "code",
   "execution_count": 48,
   "id": "biological-terrorist",
   "metadata": {
    "deletable": false,
    "editable": false,
    "nbgrader": {
     "cell_type": "code",
     "checksum": "606d75d6ecfd731e2d62e6d845521e8a",
     "grade": true,
     "grade_id": "cell-b358d3a0bb82a9eb",
     "locked": true,
     "points": 3,
     "schema_version": 3,
     "solution": false,
     "task": false
    }
   },
   "outputs": [
    {
     "output_type": "stream",
     "name": "stdout",
     "text": [
      "[0.18652483708865758, 0.29232934281200235, 0.3974647501883852]\n",
      "Test of rotation_number_list1 with positional value of N passed!\n",
      "\n",
      "[0.18539904377078986, 0.2928263544305301, 0.3968885492490793]\n",
      "Test of rotation_number_list1 with keyword value of N passed!\n",
      "\n",
      "[0.1855252200450131, 0.2927373715587223, 0.39710384441275653]\n",
      "Test of rotation_number_list1 with default value of N passed!\n",
      "\n",
      "3 out of 3\n"
     ]
    },
    {
     "output_type": "execute_result",
     "data": {
      "text/plain": [
       "3"
      ]
     },
     "metadata": {},
     "execution_count": 48
    }
   ],
   "source": [
    "# 3 Marks\n",
    "# Do not try to delete this cell\n",
    "# Run this cell for grading\n",
    "_globals = globals()\n",
    "question3e(_globals)"
   ]
  },
  {
   "cell_type": "markdown",
   "id": "speaking-hypothetical",
   "metadata": {
    "deletable": false,
    "editable": false,
    "nbgrader": {
     "cell_type": "markdown",
     "checksum": "99277015efcbca3a2c71b184cbd15a9f",
     "grade": false,
     "grade_id": "cell-a7699756718f5bdb",
     "locked": true,
     "schema_version": 3,
     "solution": false,
     "task": false
    }
   },
   "source": [
    "(f) Use your `rotation_number_list` function to create a plot of estimated rotation number against $\\Omega$ for \n",
    "$$\\Omega = 0.00, 0.01, 0.02, \\dots , 1.00;$$\n",
    "use $K=1$, $\\theta_0=0.3$ and $N=1000$. Autograding won't be able to help!\n",
    "\n",
    "<b>Note:</b> you may want to enlarge your diagram by including the line\n",
    "```python\n",
    "plt.figure(figsize=(10,10))\n",
    "```\n",
    "before `plt.plot(...`"
   ]
  },
  {
   "cell_type": "code",
   "execution_count": 49,
   "id": "common-country",
   "metadata": {
    "deletable": false,
    "nbgrader": {
     "cell_type": "code",
     "checksum": "11dec5b63b393f9ab08dd2431aeeb354",
     "grade": false,
     "grade_id": "cell-6ad73ad008cb9314",
     "locked": false,
     "schema_version": 3,
     "solution": true,
     "task": false
    }
   },
   "outputs": [
    {
     "output_type": "stream",
     "name": "stdout",
     "text": [
      "[-0.0003, -0.00028989219643494647, -0.00027974333351206567, -0.00026951082591704725, -0.00025914887487440535, -0.00024860642284461963, -0.0002378244718793068, -0.00022673232385165897, -0.0002152419809652089, -0.00020323929271034446, -0.00019056901082222254, -0.00017700749548937072, -0.00016220750930922073, -0.00014556929097837552, -0.00012586316263434448, 0.000900487076333947, 0.02894471609162188, 0.06693748366482455, 0.09099121267675621, 0.11104451428025443, 0.13039173385241787, 0.14702363994153617, 0.16666022853856904, 0.17909923688690693, 0.19993841743426458, 0.20484042063406338, 0.22212878433642982, 0.23819050403447012, 0.24998282063698535, 0.2550011110970016, 0.27272237822301165, 0.28573376183804694, 0.30120585420954943, 0.3200004846090718, 0.3332529652555953, 0.33328043543296876, 0.3333123747940604, 0.35295099453716366, 0.3684847107933281, 0.3829796445928958, 0.399975979703943, 0.40588787739342325, 0.4221855070688938, 0.43545321629753847, 0.4511498278984868, 0.46912382549128046, 0.4995605399036842, 0.4996169718554487, 0.4996532311007441, 0.4996848031806357, 0.4997151968193642, 0.5002158217154589, 0.5002289676456383, 0.50025252749287, 0.5308677696172055, 0.5486068861756247, 0.5642981601590814, 0.5774883871927317, 0.5940620219625318, 0.5999836678351952, 0.6170103541334145, 0.6312942920925709, 0.6470188185842384, 0.6663331255392898, 0.6666889744495239, 0.6667516073921071, 0.6800174590397727, 0.6984538947836053, 0.7142201841818059, 0.7272442431720704, 0.7449973320846934, 0.7500926981136586, 0.7614673299779997, 0.7777040337534655, 0.7952788589797496, 0.8001115541866973, 0.8205332419413979, 0.8333451992922277, 0.8529485942908585, 0.869436954467653, 0.8886501024172907, 0.9091865716741645, 0.9333912909220973, 0.971437391676948, 0.9994995129236662, 0.9995258631626346, 0.9995455692909784, 0.9995622075093092, 0.9995770074954895, 0.9995905690108223, 0.9996032392927104, 0.9996152419809654, 0.9996267323238518, 0.9996378244718795, 0.9996486064228446, 0.9996591488748744, 0.999669510825917, 0.9996797433335123, 0.9996898921964349, 0.9997000000000001]\n"
     ]
    },
    {
     "output_type": "execute_result",
     "data": {
      "text/plain": [
       "[<matplotlib.lines.Line2D at 0x2a2f520a788>]"
      ]
     },
     "metadata": {},
     "execution_count": 49
    },
    {
     "output_type": "display_data",
     "data": {
      "text/plain": "<Figure size 720x720 with 1 Axes>",
      "image/svg+xml": "<?xml version=\"1.0\" encoding=\"utf-8\" standalone=\"no\"?>\r\n<!DOCTYPE svg PUBLIC \"-//W3C//DTD SVG 1.1//EN\"\r\n  \"http://www.w3.org/Graphics/SVG/1.1/DTD/svg11.dtd\">\r\n<!-- Created with matplotlib (https://matplotlib.org/) -->\r\n<svg height=\"578.178125pt\" version=\"1.1\" viewBox=\"0 0 598.803125 578.178125\" width=\"598.803125pt\" xmlns=\"http://www.w3.org/2000/svg\" xmlns:xlink=\"http://www.w3.org/1999/xlink\">\r\n <defs>\r\n  <style type=\"text/css\">\r\n*{stroke-linecap:butt;stroke-linejoin:round;}\r\n  </style>\r\n </defs>\r\n <g id=\"figure_1\">\r\n  <g id=\"patch_1\">\r\n   <path d=\"M -0 578.178125 \r\nL 598.803125 578.178125 \r\nL 598.803125 0 \r\nL -0 0 \r\nz\r\n\" style=\"fill:none;\"/>\r\n  </g>\r\n  <g id=\"axes_1\">\r\n   <g id=\"patch_2\">\r\n    <path d=\"M 30.103125 554.3 \r\nL 588.103125 554.3 \r\nL 588.103125 10.7 \r\nL 30.103125 10.7 \r\nz\r\n\" style=\"fill:#ffffff;\"/>\r\n   </g>\r\n   <g id=\"matplotlib.axis_1\">\r\n    <g id=\"xtick_1\">\r\n     <g id=\"line2d_1\">\r\n      <defs>\r\n       <path d=\"M 0 0 \r\nL 0 3.5 \r\n\" id=\"me12004f07b\" style=\"stroke:#000000;stroke-width:0.8;\"/>\r\n      </defs>\r\n      <g>\r\n       <use style=\"stroke:#000000;stroke-width:0.8;\" x=\"55.466761\" xlink:href=\"#me12004f07b\" y=\"554.3\"/>\r\n      </g>\r\n     </g>\r\n     <g id=\"text_1\">\r\n      <!-- 0.0 -->\r\n      <defs>\r\n       <path d=\"M 31.78125 66.40625 \r\nQ 24.171875 66.40625 20.328125 58.90625 \r\nQ 16.5 51.421875 16.5 36.375 \r\nQ 16.5 21.390625 20.328125 13.890625 \r\nQ 24.171875 6.390625 31.78125 6.390625 \r\nQ 39.453125 6.390625 43.28125 13.890625 \r\nQ 47.125 21.390625 47.125 36.375 \r\nQ 47.125 51.421875 43.28125 58.90625 \r\nQ 39.453125 66.40625 31.78125 66.40625 \r\nz\r\nM 31.78125 74.21875 \r\nQ 44.046875 74.21875 50.515625 64.515625 \r\nQ 56.984375 54.828125 56.984375 36.375 \r\nQ 56.984375 17.96875 50.515625 8.265625 \r\nQ 44.046875 -1.421875 31.78125 -1.421875 \r\nQ 19.53125 -1.421875 13.0625 8.265625 \r\nQ 6.59375 17.96875 6.59375 36.375 \r\nQ 6.59375 54.828125 13.0625 64.515625 \r\nQ 19.53125 74.21875 31.78125 74.21875 \r\nz\r\n\" id=\"DejaVuSans-48\"/>\r\n       <path d=\"M 10.6875 12.40625 \r\nL 21 12.40625 \r\nL 21 0 \r\nL 10.6875 0 \r\nz\r\n\" id=\"DejaVuSans-46\"/>\r\n      </defs>\r\n      <g transform=\"translate(47.515199 568.898438)scale(0.1 -0.1)\">\r\n       <use xlink:href=\"#DejaVuSans-48\"/>\r\n       <use x=\"63.623047\" xlink:href=\"#DejaVuSans-46\"/>\r\n       <use x=\"95.410156\" xlink:href=\"#DejaVuSans-48\"/>\r\n      </g>\r\n     </g>\r\n    </g>\r\n    <g id=\"xtick_2\">\r\n     <g id=\"line2d_2\">\r\n      <g>\r\n       <use style=\"stroke:#000000;stroke-width:0.8;\" x=\"156.921307\" xlink:href=\"#me12004f07b\" y=\"554.3\"/>\r\n      </g>\r\n     </g>\r\n     <g id=\"text_2\">\r\n      <!-- 0.2 -->\r\n      <defs>\r\n       <path d=\"M 19.1875 8.296875 \r\nL 53.609375 8.296875 \r\nL 53.609375 0 \r\nL 7.328125 0 \r\nL 7.328125 8.296875 \r\nQ 12.9375 14.109375 22.625 23.890625 \r\nQ 32.328125 33.6875 34.8125 36.53125 \r\nQ 39.546875 41.84375 41.421875 45.53125 \r\nQ 43.3125 49.21875 43.3125 52.78125 \r\nQ 43.3125 58.59375 39.234375 62.25 \r\nQ 35.15625 65.921875 28.609375 65.921875 \r\nQ 23.96875 65.921875 18.8125 64.3125 \r\nQ 13.671875 62.703125 7.8125 59.421875 \r\nL 7.8125 69.390625 \r\nQ 13.765625 71.78125 18.9375 73 \r\nQ 24.125 74.21875 28.421875 74.21875 \r\nQ 39.75 74.21875 46.484375 68.546875 \r\nQ 53.21875 62.890625 53.21875 53.421875 \r\nQ 53.21875 48.921875 51.53125 44.890625 \r\nQ 49.859375 40.875 45.40625 35.40625 \r\nQ 44.1875 33.984375 37.640625 27.21875 \r\nQ 31.109375 20.453125 19.1875 8.296875 \r\nz\r\n\" id=\"DejaVuSans-50\"/>\r\n      </defs>\r\n      <g transform=\"translate(148.969744 568.898438)scale(0.1 -0.1)\">\r\n       <use xlink:href=\"#DejaVuSans-48\"/>\r\n       <use x=\"63.623047\" xlink:href=\"#DejaVuSans-46\"/>\r\n       <use x=\"95.410156\" xlink:href=\"#DejaVuSans-50\"/>\r\n      </g>\r\n     </g>\r\n    </g>\r\n    <g id=\"xtick_3\">\r\n     <g id=\"line2d_3\">\r\n      <g>\r\n       <use style=\"stroke:#000000;stroke-width:0.8;\" x=\"258.375852\" xlink:href=\"#me12004f07b\" y=\"554.3\"/>\r\n      </g>\r\n     </g>\r\n     <g id=\"text_3\">\r\n      <!-- 0.4 -->\r\n      <defs>\r\n       <path d=\"M 37.796875 64.3125 \r\nL 12.890625 25.390625 \r\nL 37.796875 25.390625 \r\nz\r\nM 35.203125 72.90625 \r\nL 47.609375 72.90625 \r\nL 47.609375 25.390625 \r\nL 58.015625 25.390625 \r\nL 58.015625 17.1875 \r\nL 47.609375 17.1875 \r\nL 47.609375 0 \r\nL 37.796875 0 \r\nL 37.796875 17.1875 \r\nL 4.890625 17.1875 \r\nL 4.890625 26.703125 \r\nz\r\n\" id=\"DejaVuSans-52\"/>\r\n      </defs>\r\n      <g transform=\"translate(250.42429 568.898438)scale(0.1 -0.1)\">\r\n       <use xlink:href=\"#DejaVuSans-48\"/>\r\n       <use x=\"63.623047\" xlink:href=\"#DejaVuSans-46\"/>\r\n       <use x=\"95.410156\" xlink:href=\"#DejaVuSans-52\"/>\r\n      </g>\r\n     </g>\r\n    </g>\r\n    <g id=\"xtick_4\">\r\n     <g id=\"line2d_4\">\r\n      <g>\r\n       <use style=\"stroke:#000000;stroke-width:0.8;\" x=\"359.830398\" xlink:href=\"#me12004f07b\" y=\"554.3\"/>\r\n      </g>\r\n     </g>\r\n     <g id=\"text_4\">\r\n      <!-- 0.6 -->\r\n      <defs>\r\n       <path d=\"M 33.015625 40.375 \r\nQ 26.375 40.375 22.484375 35.828125 \r\nQ 18.609375 31.296875 18.609375 23.390625 \r\nQ 18.609375 15.53125 22.484375 10.953125 \r\nQ 26.375 6.390625 33.015625 6.390625 \r\nQ 39.65625 6.390625 43.53125 10.953125 \r\nQ 47.40625 15.53125 47.40625 23.390625 \r\nQ 47.40625 31.296875 43.53125 35.828125 \r\nQ 39.65625 40.375 33.015625 40.375 \r\nz\r\nM 52.59375 71.296875 \r\nL 52.59375 62.3125 \r\nQ 48.875 64.0625 45.09375 64.984375 \r\nQ 41.3125 65.921875 37.59375 65.921875 \r\nQ 27.828125 65.921875 22.671875 59.328125 \r\nQ 17.53125 52.734375 16.796875 39.40625 \r\nQ 19.671875 43.65625 24.015625 45.921875 \r\nQ 28.375 48.1875 33.59375 48.1875 \r\nQ 44.578125 48.1875 50.953125 41.515625 \r\nQ 57.328125 34.859375 57.328125 23.390625 \r\nQ 57.328125 12.15625 50.6875 5.359375 \r\nQ 44.046875 -1.421875 33.015625 -1.421875 \r\nQ 20.359375 -1.421875 13.671875 8.265625 \r\nQ 6.984375 17.96875 6.984375 36.375 \r\nQ 6.984375 53.65625 15.1875 63.9375 \r\nQ 23.390625 74.21875 37.203125 74.21875 \r\nQ 40.921875 74.21875 44.703125 73.484375 \r\nQ 48.484375 72.75 52.59375 71.296875 \r\nz\r\n\" id=\"DejaVuSans-54\"/>\r\n      </defs>\r\n      <g transform=\"translate(351.878835 568.898438)scale(0.1 -0.1)\">\r\n       <use xlink:href=\"#DejaVuSans-48\"/>\r\n       <use x=\"63.623047\" xlink:href=\"#DejaVuSans-46\"/>\r\n       <use x=\"95.410156\" xlink:href=\"#DejaVuSans-54\"/>\r\n      </g>\r\n     </g>\r\n    </g>\r\n    <g id=\"xtick_5\">\r\n     <g id=\"line2d_5\">\r\n      <g>\r\n       <use style=\"stroke:#000000;stroke-width:0.8;\" x=\"461.284943\" xlink:href=\"#me12004f07b\" y=\"554.3\"/>\r\n      </g>\r\n     </g>\r\n     <g id=\"text_5\">\r\n      <!-- 0.8 -->\r\n      <defs>\r\n       <path d=\"M 31.78125 34.625 \r\nQ 24.75 34.625 20.71875 30.859375 \r\nQ 16.703125 27.09375 16.703125 20.515625 \r\nQ 16.703125 13.921875 20.71875 10.15625 \r\nQ 24.75 6.390625 31.78125 6.390625 \r\nQ 38.8125 6.390625 42.859375 10.171875 \r\nQ 46.921875 13.96875 46.921875 20.515625 \r\nQ 46.921875 27.09375 42.890625 30.859375 \r\nQ 38.875 34.625 31.78125 34.625 \r\nz\r\nM 21.921875 38.8125 \r\nQ 15.578125 40.375 12.03125 44.71875 \r\nQ 8.5 49.078125 8.5 55.328125 \r\nQ 8.5 64.0625 14.71875 69.140625 \r\nQ 20.953125 74.21875 31.78125 74.21875 \r\nQ 42.671875 74.21875 48.875 69.140625 \r\nQ 55.078125 64.0625 55.078125 55.328125 \r\nQ 55.078125 49.078125 51.53125 44.71875 \r\nQ 48 40.375 41.703125 38.8125 \r\nQ 48.828125 37.15625 52.796875 32.3125 \r\nQ 56.78125 27.484375 56.78125 20.515625 \r\nQ 56.78125 9.90625 50.3125 4.234375 \r\nQ 43.84375 -1.421875 31.78125 -1.421875 \r\nQ 19.734375 -1.421875 13.25 4.234375 \r\nQ 6.78125 9.90625 6.78125 20.515625 \r\nQ 6.78125 27.484375 10.78125 32.3125 \r\nQ 14.796875 37.15625 21.921875 38.8125 \r\nz\r\nM 18.3125 54.390625 \r\nQ 18.3125 48.734375 21.84375 45.5625 \r\nQ 25.390625 42.390625 31.78125 42.390625 \r\nQ 38.140625 42.390625 41.71875 45.5625 \r\nQ 45.3125 48.734375 45.3125 54.390625 \r\nQ 45.3125 60.0625 41.71875 63.234375 \r\nQ 38.140625 66.40625 31.78125 66.40625 \r\nQ 25.390625 66.40625 21.84375 63.234375 \r\nQ 18.3125 60.0625 18.3125 54.390625 \r\nz\r\n\" id=\"DejaVuSans-56\"/>\r\n      </defs>\r\n      <g transform=\"translate(453.333381 568.898438)scale(0.1 -0.1)\">\r\n       <use xlink:href=\"#DejaVuSans-48\"/>\r\n       <use x=\"63.623047\" xlink:href=\"#DejaVuSans-46\"/>\r\n       <use x=\"95.410156\" xlink:href=\"#DejaVuSans-56\"/>\r\n      </g>\r\n     </g>\r\n    </g>\r\n    <g id=\"xtick_6\">\r\n     <g id=\"line2d_6\">\r\n      <g>\r\n       <use style=\"stroke:#000000;stroke-width:0.8;\" x=\"562.739489\" xlink:href=\"#me12004f07b\" y=\"554.3\"/>\r\n      </g>\r\n     </g>\r\n     <g id=\"text_6\">\r\n      <!-- 1.0 -->\r\n      <defs>\r\n       <path d=\"M 12.40625 8.296875 \r\nL 28.515625 8.296875 \r\nL 28.515625 63.921875 \r\nL 10.984375 60.40625 \r\nL 10.984375 69.390625 \r\nL 28.421875 72.90625 \r\nL 38.28125 72.90625 \r\nL 38.28125 8.296875 \r\nL 54.390625 8.296875 \r\nL 54.390625 0 \r\nL 12.40625 0 \r\nz\r\n\" id=\"DejaVuSans-49\"/>\r\n      </defs>\r\n      <g transform=\"translate(554.787926 568.898438)scale(0.1 -0.1)\">\r\n       <use xlink:href=\"#DejaVuSans-49\"/>\r\n       <use x=\"63.623047\" xlink:href=\"#DejaVuSans-46\"/>\r\n       <use x=\"95.410156\" xlink:href=\"#DejaVuSans-48\"/>\r\n      </g>\r\n     </g>\r\n    </g>\r\n   </g>\r\n   <g id=\"matplotlib.axis_2\">\r\n    <g id=\"ytick_1\">\r\n     <g id=\"line2d_7\">\r\n      <defs>\r\n       <path d=\"M 0 0 \r\nL -3.5 0 \r\n\" id=\"m61d58ab80f\" style=\"stroke:#000000;stroke-width:0.8;\"/>\r\n      </defs>\r\n      <g>\r\n       <use style=\"stroke:#000000;stroke-width:0.8;\" x=\"30.103125\" xlink:href=\"#m61d58ab80f\" y=\"529.442655\"/>\r\n      </g>\r\n     </g>\r\n     <g id=\"text_7\">\r\n      <!-- 0.0 -->\r\n      <g transform=\"translate(7.2 533.241873)scale(0.1 -0.1)\">\r\n       <use xlink:href=\"#DejaVuSans-48\"/>\r\n       <use x=\"63.623047\" xlink:href=\"#DejaVuSans-46\"/>\r\n       <use x=\"95.410156\" xlink:href=\"#DejaVuSans-48\"/>\r\n      </g>\r\n     </g>\r\n    </g>\r\n    <g id=\"ytick_2\">\r\n     <g id=\"line2d_8\">\r\n      <g>\r\n       <use style=\"stroke:#000000;stroke-width:0.8;\" x=\"30.103125\" xlink:href=\"#m61d58ab80f\" y=\"430.606291\"/>\r\n      </g>\r\n     </g>\r\n     <g id=\"text_8\">\r\n      <!-- 0.2 -->\r\n      <g transform=\"translate(7.2 434.40551)scale(0.1 -0.1)\">\r\n       <use xlink:href=\"#DejaVuSans-48\"/>\r\n       <use x=\"63.623047\" xlink:href=\"#DejaVuSans-46\"/>\r\n       <use x=\"95.410156\" xlink:href=\"#DejaVuSans-50\"/>\r\n      </g>\r\n     </g>\r\n    </g>\r\n    <g id=\"ytick_3\">\r\n     <g id=\"line2d_9\">\r\n      <g>\r\n       <use style=\"stroke:#000000;stroke-width:0.8;\" x=\"30.103125\" xlink:href=\"#m61d58ab80f\" y=\"331.769927\"/>\r\n      </g>\r\n     </g>\r\n     <g id=\"text_9\">\r\n      <!-- 0.4 -->\r\n      <g transform=\"translate(7.2 335.569146)scale(0.1 -0.1)\">\r\n       <use xlink:href=\"#DejaVuSans-48\"/>\r\n       <use x=\"63.623047\" xlink:href=\"#DejaVuSans-46\"/>\r\n       <use x=\"95.410156\" xlink:href=\"#DejaVuSans-52\"/>\r\n      </g>\r\n     </g>\r\n    </g>\r\n    <g id=\"ytick_4\">\r\n     <g id=\"line2d_10\">\r\n      <g>\r\n       <use style=\"stroke:#000000;stroke-width:0.8;\" x=\"30.103125\" xlink:href=\"#m61d58ab80f\" y=\"232.933564\"/>\r\n      </g>\r\n     </g>\r\n     <g id=\"text_10\">\r\n      <!-- 0.6 -->\r\n      <g transform=\"translate(7.2 236.732782)scale(0.1 -0.1)\">\r\n       <use xlink:href=\"#DejaVuSans-48\"/>\r\n       <use x=\"63.623047\" xlink:href=\"#DejaVuSans-46\"/>\r\n       <use x=\"95.410156\" xlink:href=\"#DejaVuSans-54\"/>\r\n      </g>\r\n     </g>\r\n    </g>\r\n    <g id=\"ytick_5\">\r\n     <g id=\"line2d_11\">\r\n      <g>\r\n       <use style=\"stroke:#000000;stroke-width:0.8;\" x=\"30.103125\" xlink:href=\"#m61d58ab80f\" y=\"134.0972\"/>\r\n      </g>\r\n     </g>\r\n     <g id=\"text_11\">\r\n      <!-- 0.8 -->\r\n      <g transform=\"translate(7.2 137.896419)scale(0.1 -0.1)\">\r\n       <use xlink:href=\"#DejaVuSans-48\"/>\r\n       <use x=\"63.623047\" xlink:href=\"#DejaVuSans-46\"/>\r\n       <use x=\"95.410156\" xlink:href=\"#DejaVuSans-56\"/>\r\n      </g>\r\n     </g>\r\n    </g>\r\n    <g id=\"ytick_6\">\r\n     <g id=\"line2d_12\">\r\n      <g>\r\n       <use style=\"stroke:#000000;stroke-width:0.8;\" x=\"30.103125\" xlink:href=\"#m61d58ab80f\" y=\"35.260836\"/>\r\n      </g>\r\n     </g>\r\n     <g id=\"text_12\">\r\n      <!-- 1.0 -->\r\n      <g transform=\"translate(7.2 39.060055)scale(0.1 -0.1)\">\r\n       <use xlink:href=\"#DejaVuSans-49\"/>\r\n       <use x=\"63.623047\" xlink:href=\"#DejaVuSans-46\"/>\r\n       <use x=\"95.410156\" xlink:href=\"#DejaVuSans-48\"/>\r\n      </g>\r\n     </g>\r\n    </g>\r\n   </g>\r\n   <g id=\"line2d_13\">\r\n    <path clip-path=\"url(#p860d5709c9)\" d=\"M 55.466761 529.590909 \r\nL 60.590728 529.585914 \r\nL 65.714695 529.580899 \r\nL 70.838662 529.575842 \r\nL 75.962629 529.570721 \r\nL 81.086596 529.565511 \r\nL 86.210563 529.560183 \r\nL 91.33453 529.554702 \r\nL 96.458497 529.549023 \r\nL 101.582464 529.543092 \r\nL 106.706431 529.53683 \r\nL 111.830398 529.530128 \r\nL 116.954365 529.522815 \r\nL 122.078332 529.514592 \r\nL 127.202299 529.504854 \r\nL 132.326265 528.99765 \r\nL 137.450232 515.138702 \r\nL 142.574199 496.363367 \r\nL 147.698166 484.476452 \r\nL 152.822133 474.566475 \r\nL 157.9461 465.00543 \r\nL 163.070067 456.786245 \r\nL 168.194034 447.0822 \r\nL 173.318001 440.935068 \r\nL 178.441968 430.636724 \r\nL 183.565935 428.214243 \r\nL 188.689902 419.670648 \r\nL 193.813869 411.733238 \r\nL 198.937836 405.90569 \r\nL 204.061803 403.425742 \r\nL 209.18577 394.668214 \r\nL 214.309737 388.238225 \r\nL 219.433704 380.592198 \r\nL 224.55767 371.304233 \r\nL 229.681637 364.755098 \r\nL 234.805604 364.741523 \r\nL 239.929571 364.725739 \r\nL 245.053538 355.02069 \r\nL 250.177505 347.34421 \r\nL 255.301472 340.181077 \r\nL 260.425439 331.781798 \r\nL 265.549406 328.860245 \r\nL 270.673373 320.806253 \r\nL 275.79734 314.249592 \r\nL 280.921307 306.492612 \r\nL 286.045274 297.61019 \r\nL 291.169241 282.568919 \r\nL 296.293208 282.541031 \r\nL 301.417175 282.523112 \r\nL 306.541142 282.50751 \r\nL 311.665108 282.49249 \r\nL 316.789075 282.24509 \r\nL 321.913042 282.238594 \r\nL 327.037009 282.226951 \r\nL 332.160976 267.097455 \r\nL 337.284943 258.331106 \r\nL 342.40891 250.576764 \r\nL 347.532877 244.058393 \r\nL 352.656844 235.868004 \r\nL 357.780811 232.941635 \r\nL 362.904778 224.527356 \r\nL 368.028745 217.468493 \r\nL 373.152712 209.697718 \r\nL 378.276679 200.152939 \r\nL 383.400646 199.977085 \r\nL 388.524613 199.946133 \r\nL 393.64858 193.39039 \r\nL 398.772546 184.279439 \r\nL 403.896513 176.488025 \r\nL 409.02048 170.051772 \r\nL 414.144447 161.278518 \r\nL 419.268414 158.760481 \r\nL 424.392381 153.139345 \r\nL 429.516348 145.115461 \r\nL 434.640315 136.430302 \r\nL 439.764282 134.042072 \r\nL 444.888249 123.950045 \r\nL 450.012216 117.618609 \r\nL 455.136183 107.930967 \r\nL 460.26015 99.78272 \r\nL 465.384117 90.287931 \r\nL 470.508084 80.139181 \r\nL 475.632051 68.177649 \r\nL 480.756018 49.375958 \r\nL 485.879985 35.508168 \r\nL 491.003951 35.495146 \r\nL 496.127918 35.485408 \r\nL 501.251885 35.477185 \r\nL 506.375852 35.469872 \r\nL 511.499819 35.46317 \r\nL 516.623786 35.456908 \r\nL 521.747753 35.450977 \r\nL 526.87172 35.445298 \r\nL 531.995687 35.439817 \r\nL 537.119654 35.434489 \r\nL 542.243621 35.429279 \r\nL 547.367588 35.424158 \r\nL 552.491555 35.419101 \r\nL 557.615522 35.414086 \r\nL 562.739489 35.409091 \r\n\" style=\"fill:none;stroke:#1f77b4;stroke-linecap:square;stroke-width:1.5;\"/>\r\n   </g>\r\n   <g id=\"patch_3\">\r\n    <path d=\"M 30.103125 554.3 \r\nL 30.103125 10.7 \r\n\" style=\"fill:none;stroke:#000000;stroke-linecap:square;stroke-linejoin:miter;stroke-width:0.8;\"/>\r\n   </g>\r\n   <g id=\"patch_4\">\r\n    <path d=\"M 588.103125 554.3 \r\nL 588.103125 10.7 \r\n\" style=\"fill:none;stroke:#000000;stroke-linecap:square;stroke-linejoin:miter;stroke-width:0.8;\"/>\r\n   </g>\r\n   <g id=\"patch_5\">\r\n    <path d=\"M 30.103125 554.3 \r\nL 588.103125 554.3 \r\n\" style=\"fill:none;stroke:#000000;stroke-linecap:square;stroke-linejoin:miter;stroke-width:0.8;\"/>\r\n   </g>\r\n   <g id=\"patch_6\">\r\n    <path d=\"M 30.103125 10.7 \r\nL 588.103125 10.7 \r\n\" style=\"fill:none;stroke:#000000;stroke-linecap:square;stroke-linejoin:miter;stroke-width:0.8;\"/>\r\n   </g>\r\n  </g>\r\n </g>\r\n <defs>\r\n  <clipPath id=\"p860d5709c9\">\r\n   <rect height=\"543.6\" width=\"558\" x=\"30.103125\" y=\"10.7\"/>\r\n  </clipPath>\r\n </defs>\r\n</svg>\r\n",
      "image/png": "[encoded data removed]"
     },
     "metadata": {
      "needs_background": "light"
     }
    }
   ],
   "source": [
    "# YOUR CODE HERE\n",
    "omegas = np.linspace(0, 1, 100)\n",
    "plt.figure(figsize=(10, 10))\n",
    "plt.plot(omegas, rotation_number_list1(omegas, 1, 0.3, 1000))"
   ]
  },
  {
   "cell_type": "markdown",
   "id": "cross-listening",
   "metadata": {
    "deletable": false,
    "editable": false,
    "nbgrader": {
     "cell_type": "markdown",
     "checksum": "2f39cf474bdd85e003a6887d416625f3",
     "grade": false,
     "grade_id": "cell-072e0c8e1429e6ef",
     "locked": true,
     "schema_version": 3,
     "solution": false,
     "task": false
    }
   },
   "source": [
    "(g) Directly use your `rotation_number2` function, which should work fine on 1D NumPy arrays of $\\Omega$-values, to create a plot of estimated rotation number against $\\Omega$ for \n",
    "$$\\Omega = 0.00, 0.01, 0.02, \\dots , 1.00;$$\n",
    "use $K=1$, $\\theta_0=0.3$ and $N=1000$. Again, autograding won't be able to help!"
   ]
  },
  {
   "cell_type": "code",
   "execution_count": 50,
   "id": "latter-prison",
   "metadata": {
    "deletable": false,
    "nbgrader": {
     "cell_type": "code",
     "checksum": "0d76b654285db563a255d2253105d4ab",
     "grade": false,
     "grade_id": "cell-f8aeaeda3163b281",
     "locked": false,
     "schema_version": 3,
     "solution": true,
     "task": false
    }
   },
   "outputs": [
    {
     "output_type": "execute_result",
     "data": {
      "text/plain": [
       "[<matplotlib.lines.Line2D at 0x2a2f52c2988>]"
      ]
     },
     "metadata": {},
     "execution_count": 50
    },
    {
     "output_type": "display_data",
     "data": {
      "text/plain": "<Figure size 720x720 with 1 Axes>",
      "image/svg+xml": "<?xml version=\"1.0\" encoding=\"utf-8\" standalone=\"no\"?>\r\n<!DOCTYPE svg PUBLIC \"-//W3C//DTD SVG 1.1//EN\"\r\n  \"http://www.w3.org/Graphics/SVG/1.1/DTD/svg11.dtd\">\r\n<!-- Created with matplotlib (https://matplotlib.org/) -->\r\n<svg height=\"578.178125pt\" version=\"1.1\" viewBox=\"0 0 598.803125 578.178125\" width=\"598.803125pt\" xmlns=\"http://www.w3.org/2000/svg\" xmlns:xlink=\"http://www.w3.org/1999/xlink\">\r\n <defs>\r\n  <style type=\"text/css\">\r\n*{stroke-linecap:butt;stroke-linejoin:round;}\r\n  </style>\r\n </defs>\r\n <g id=\"figure_1\">\r\n  <g id=\"patch_1\">\r\n   <path d=\"M -0 578.178125 \r\nL 598.803125 578.178125 \r\nL 598.803125 0 \r\nL -0 0 \r\nz\r\n\" style=\"fill:none;\"/>\r\n  </g>\r\n  <g id=\"axes_1\">\r\n   <g id=\"patch_2\">\r\n    <path d=\"M 30.103125 554.3 \r\nL 588.103125 554.3 \r\nL 588.103125 10.7 \r\nL 30.103125 10.7 \r\nz\r\n\" style=\"fill:#ffffff;\"/>\r\n   </g>\r\n   <g id=\"matplotlib.axis_1\">\r\n    <g id=\"xtick_1\">\r\n     <g id=\"line2d_1\">\r\n      <defs>\r\n       <path d=\"M 0 0 \r\nL 0 3.5 \r\n\" id=\"m1e8d4fd1eb\" style=\"stroke:#000000;stroke-width:0.8;\"/>\r\n      </defs>\r\n      <g>\r\n       <use style=\"stroke:#000000;stroke-width:0.8;\" x=\"55.466761\" xlink:href=\"#m1e8d4fd1eb\" y=\"554.3\"/>\r\n      </g>\r\n     </g>\r\n     <g id=\"text_1\">\r\n      <!-- 0.0 -->\r\n      <defs>\r\n       <path d=\"M 31.78125 66.40625 \r\nQ 24.171875 66.40625 20.328125 58.90625 \r\nQ 16.5 51.421875 16.5 36.375 \r\nQ 16.5 21.390625 20.328125 13.890625 \r\nQ 24.171875 6.390625 31.78125 6.390625 \r\nQ 39.453125 6.390625 43.28125 13.890625 \r\nQ 47.125 21.390625 47.125 36.375 \r\nQ 47.125 51.421875 43.28125 58.90625 \r\nQ 39.453125 66.40625 31.78125 66.40625 \r\nz\r\nM 31.78125 74.21875 \r\nQ 44.046875 74.21875 50.515625 64.515625 \r\nQ 56.984375 54.828125 56.984375 36.375 \r\nQ 56.984375 17.96875 50.515625 8.265625 \r\nQ 44.046875 -1.421875 31.78125 -1.421875 \r\nQ 19.53125 -1.421875 13.0625 8.265625 \r\nQ 6.59375 17.96875 6.59375 36.375 \r\nQ 6.59375 54.828125 13.0625 64.515625 \r\nQ 19.53125 74.21875 31.78125 74.21875 \r\nz\r\n\" id=\"DejaVuSans-48\"/>\r\n       <path d=\"M 10.6875 12.40625 \r\nL 21 12.40625 \r\nL 21 0 \r\nL 10.6875 0 \r\nz\r\n\" id=\"DejaVuSans-46\"/>\r\n      </defs>\r\n      <g transform=\"translate(47.515199 568.898438)scale(0.1 -0.1)\">\r\n       <use xlink:href=\"#DejaVuSans-48\"/>\r\n       <use x=\"63.623047\" xlink:href=\"#DejaVuSans-46\"/>\r\n       <use x=\"95.410156\" xlink:href=\"#DejaVuSans-48\"/>\r\n      </g>\r\n     </g>\r\n    </g>\r\n    <g id=\"xtick_2\">\r\n     <g id=\"line2d_2\">\r\n      <g>\r\n       <use style=\"stroke:#000000;stroke-width:0.8;\" x=\"156.921307\" xlink:href=\"#m1e8d4fd1eb\" y=\"554.3\"/>\r\n      </g>\r\n     </g>\r\n     <g id=\"text_2\">\r\n      <!-- 0.2 -->\r\n      <defs>\r\n       <path d=\"M 19.1875 8.296875 \r\nL 53.609375 8.296875 \r\nL 53.609375 0 \r\nL 7.328125 0 \r\nL 7.328125 8.296875 \r\nQ 12.9375 14.109375 22.625 23.890625 \r\nQ 32.328125 33.6875 34.8125 36.53125 \r\nQ 39.546875 41.84375 41.421875 45.53125 \r\nQ 43.3125 49.21875 43.3125 52.78125 \r\nQ 43.3125 58.59375 39.234375 62.25 \r\nQ 35.15625 65.921875 28.609375 65.921875 \r\nQ 23.96875 65.921875 18.8125 64.3125 \r\nQ 13.671875 62.703125 7.8125 59.421875 \r\nL 7.8125 69.390625 \r\nQ 13.765625 71.78125 18.9375 73 \r\nQ 24.125 74.21875 28.421875 74.21875 \r\nQ 39.75 74.21875 46.484375 68.546875 \r\nQ 53.21875 62.890625 53.21875 53.421875 \r\nQ 53.21875 48.921875 51.53125 44.890625 \r\nQ 49.859375 40.875 45.40625 35.40625 \r\nQ 44.1875 33.984375 37.640625 27.21875 \r\nQ 31.109375 20.453125 19.1875 8.296875 \r\nz\r\n\" id=\"DejaVuSans-50\"/>\r\n      </defs>\r\n      <g transform=\"translate(148.969744 568.898438)scale(0.1 -0.1)\">\r\n       <use xlink:href=\"#DejaVuSans-48\"/>\r\n       <use x=\"63.623047\" xlink:href=\"#DejaVuSans-46\"/>\r\n       <use x=\"95.410156\" xlink:href=\"#DejaVuSans-50\"/>\r\n      </g>\r\n     </g>\r\n    </g>\r\n    <g id=\"xtick_3\">\r\n     <g id=\"line2d_3\">\r\n      <g>\r\n       <use style=\"stroke:#000000;stroke-width:0.8;\" x=\"258.375852\" xlink:href=\"#m1e8d4fd1eb\" y=\"554.3\"/>\r\n      </g>\r\n     </g>\r\n     <g id=\"text_3\">\r\n      <!-- 0.4 -->\r\n      <defs>\r\n       <path d=\"M 37.796875 64.3125 \r\nL 12.890625 25.390625 \r\nL 37.796875 25.390625 \r\nz\r\nM 35.203125 72.90625 \r\nL 47.609375 72.90625 \r\nL 47.609375 25.390625 \r\nL 58.015625 25.390625 \r\nL 58.015625 17.1875 \r\nL 47.609375 17.1875 \r\nL 47.609375 0 \r\nL 37.796875 0 \r\nL 37.796875 17.1875 \r\nL 4.890625 17.1875 \r\nL 4.890625 26.703125 \r\nz\r\n\" id=\"DejaVuSans-52\"/>\r\n      </defs>\r\n      <g transform=\"translate(250.42429 568.898438)scale(0.1 -0.1)\">\r\n       <use xlink:href=\"#DejaVuSans-48\"/>\r\n       <use x=\"63.623047\" xlink:href=\"#DejaVuSans-46\"/>\r\n       <use x=\"95.410156\" xlink:href=\"#DejaVuSans-52\"/>\r\n      </g>\r\n     </g>\r\n    </g>\r\n    <g id=\"xtick_4\">\r\n     <g id=\"line2d_4\">\r\n      <g>\r\n       <use style=\"stroke:#000000;stroke-width:0.8;\" x=\"359.830398\" xlink:href=\"#m1e8d4fd1eb\" y=\"554.3\"/>\r\n      </g>\r\n     </g>\r\n     <g id=\"text_4\">\r\n      <!-- 0.6 -->\r\n      <defs>\r\n       <path d=\"M 33.015625 40.375 \r\nQ 26.375 40.375 22.484375 35.828125 \r\nQ 18.609375 31.296875 18.609375 23.390625 \r\nQ 18.609375 15.53125 22.484375 10.953125 \r\nQ 26.375 6.390625 33.015625 6.390625 \r\nQ 39.65625 6.390625 43.53125 10.953125 \r\nQ 47.40625 15.53125 47.40625 23.390625 \r\nQ 47.40625 31.296875 43.53125 35.828125 \r\nQ 39.65625 40.375 33.015625 40.375 \r\nz\r\nM 52.59375 71.296875 \r\nL 52.59375 62.3125 \r\nQ 48.875 64.0625 45.09375 64.984375 \r\nQ 41.3125 65.921875 37.59375 65.921875 \r\nQ 27.828125 65.921875 22.671875 59.328125 \r\nQ 17.53125 52.734375 16.796875 39.40625 \r\nQ 19.671875 43.65625 24.015625 45.921875 \r\nQ 28.375 48.1875 33.59375 48.1875 \r\nQ 44.578125 48.1875 50.953125 41.515625 \r\nQ 57.328125 34.859375 57.328125 23.390625 \r\nQ 57.328125 12.15625 50.6875 5.359375 \r\nQ 44.046875 -1.421875 33.015625 -1.421875 \r\nQ 20.359375 -1.421875 13.671875 8.265625 \r\nQ 6.984375 17.96875 6.984375 36.375 \r\nQ 6.984375 53.65625 15.1875 63.9375 \r\nQ 23.390625 74.21875 37.203125 74.21875 \r\nQ 40.921875 74.21875 44.703125 73.484375 \r\nQ 48.484375 72.75 52.59375 71.296875 \r\nz\r\n\" id=\"DejaVuSans-54\"/>\r\n      </defs>\r\n      <g transform=\"translate(351.878835 568.898438)scale(0.1 -0.1)\">\r\n       <use xlink:href=\"#DejaVuSans-48\"/>\r\n       <use x=\"63.623047\" xlink:href=\"#DejaVuSans-46\"/>\r\n       <use x=\"95.410156\" xlink:href=\"#DejaVuSans-54\"/>\r\n      </g>\r\n     </g>\r\n    </g>\r\n    <g id=\"xtick_5\">\r\n     <g id=\"line2d_5\">\r\n      <g>\r\n       <use style=\"stroke:#000000;stroke-width:0.8;\" x=\"461.284943\" xlink:href=\"#m1e8d4fd1eb\" y=\"554.3\"/>\r\n      </g>\r\n     </g>\r\n     <g id=\"text_5\">\r\n      <!-- 0.8 -->\r\n      <defs>\r\n       <path d=\"M 31.78125 34.625 \r\nQ 24.75 34.625 20.71875 30.859375 \r\nQ 16.703125 27.09375 16.703125 20.515625 \r\nQ 16.703125 13.921875 20.71875 10.15625 \r\nQ 24.75 6.390625 31.78125 6.390625 \r\nQ 38.8125 6.390625 42.859375 10.171875 \r\nQ 46.921875 13.96875 46.921875 20.515625 \r\nQ 46.921875 27.09375 42.890625 30.859375 \r\nQ 38.875 34.625 31.78125 34.625 \r\nz\r\nM 21.921875 38.8125 \r\nQ 15.578125 40.375 12.03125 44.71875 \r\nQ 8.5 49.078125 8.5 55.328125 \r\nQ 8.5 64.0625 14.71875 69.140625 \r\nQ 20.953125 74.21875 31.78125 74.21875 \r\nQ 42.671875 74.21875 48.875 69.140625 \r\nQ 55.078125 64.0625 55.078125 55.328125 \r\nQ 55.078125 49.078125 51.53125 44.71875 \r\nQ 48 40.375 41.703125 38.8125 \r\nQ 48.828125 37.15625 52.796875 32.3125 \r\nQ 56.78125 27.484375 56.78125 20.515625 \r\nQ 56.78125 9.90625 50.3125 4.234375 \r\nQ 43.84375 -1.421875 31.78125 -1.421875 \r\nQ 19.734375 -1.421875 13.25 4.234375 \r\nQ 6.78125 9.90625 6.78125 20.515625 \r\nQ 6.78125 27.484375 10.78125 32.3125 \r\nQ 14.796875 37.15625 21.921875 38.8125 \r\nz\r\nM 18.3125 54.390625 \r\nQ 18.3125 48.734375 21.84375 45.5625 \r\nQ 25.390625 42.390625 31.78125 42.390625 \r\nQ 38.140625 42.390625 41.71875 45.5625 \r\nQ 45.3125 48.734375 45.3125 54.390625 \r\nQ 45.3125 60.0625 41.71875 63.234375 \r\nQ 38.140625 66.40625 31.78125 66.40625 \r\nQ 25.390625 66.40625 21.84375 63.234375 \r\nQ 18.3125 60.0625 18.3125 54.390625 \r\nz\r\n\" id=\"DejaVuSans-56\"/>\r\n      </defs>\r\n      <g transform=\"translate(453.333381 568.898438)scale(0.1 -0.1)\">\r\n       <use xlink:href=\"#DejaVuSans-48\"/>\r\n       <use x=\"63.623047\" xlink:href=\"#DejaVuSans-46\"/>\r\n       <use x=\"95.410156\" xlink:href=\"#DejaVuSans-56\"/>\r\n      </g>\r\n     </g>\r\n    </g>\r\n    <g id=\"xtick_6\">\r\n     <g id=\"line2d_6\">\r\n      <g>\r\n       <use style=\"stroke:#000000;stroke-width:0.8;\" x=\"562.739489\" xlink:href=\"#m1e8d4fd1eb\" y=\"554.3\"/>\r\n      </g>\r\n     </g>\r\n     <g id=\"text_6\">\r\n      <!-- 1.0 -->\r\n      <defs>\r\n       <path d=\"M 12.40625 8.296875 \r\nL 28.515625 8.296875 \r\nL 28.515625 63.921875 \r\nL 10.984375 60.40625 \r\nL 10.984375 69.390625 \r\nL 28.421875 72.90625 \r\nL 38.28125 72.90625 \r\nL 38.28125 8.296875 \r\nL 54.390625 8.296875 \r\nL 54.390625 0 \r\nL 12.40625 0 \r\nz\r\n\" id=\"DejaVuSans-49\"/>\r\n      </defs>\r\n      <g transform=\"translate(554.787926 568.898438)scale(0.1 -0.1)\">\r\n       <use xlink:href=\"#DejaVuSans-49\"/>\r\n       <use x=\"63.623047\" xlink:href=\"#DejaVuSans-46\"/>\r\n       <use x=\"95.410156\" xlink:href=\"#DejaVuSans-48\"/>\r\n      </g>\r\n     </g>\r\n    </g>\r\n   </g>\r\n   <g id=\"matplotlib.axis_2\">\r\n    <g id=\"ytick_1\">\r\n     <g id=\"line2d_7\">\r\n      <defs>\r\n       <path d=\"M 0 0 \r\nL -3.5 0 \r\n\" id=\"m924298607b\" style=\"stroke:#000000;stroke-width:0.8;\"/>\r\n      </defs>\r\n      <g>\r\n       <use style=\"stroke:#000000;stroke-width:0.8;\" x=\"30.103125\" xlink:href=\"#m924298607b\" y=\"529.442655\"/>\r\n      </g>\r\n     </g>\r\n     <g id=\"text_7\">\r\n      <!-- 0.0 -->\r\n      <g transform=\"translate(7.2 533.241873)scale(0.1 -0.1)\">\r\n       <use xlink:href=\"#DejaVuSans-48\"/>\r\n       <use x=\"63.623047\" xlink:href=\"#DejaVuSans-46\"/>\r\n       <use x=\"95.410156\" xlink:href=\"#DejaVuSans-48\"/>\r\n      </g>\r\n     </g>\r\n    </g>\r\n    <g id=\"ytick_2\">\r\n     <g id=\"line2d_8\">\r\n      <g>\r\n       <use style=\"stroke:#000000;stroke-width:0.8;\" x=\"30.103125\" xlink:href=\"#m924298607b\" y=\"430.606291\"/>\r\n      </g>\r\n     </g>\r\n     <g id=\"text_8\">\r\n      <!-- 0.2 -->\r\n      <g transform=\"translate(7.2 434.40551)scale(0.1 -0.1)\">\r\n       <use xlink:href=\"#DejaVuSans-48\"/>\r\n       <use x=\"63.623047\" xlink:href=\"#DejaVuSans-46\"/>\r\n       <use x=\"95.410156\" xlink:href=\"#DejaVuSans-50\"/>\r\n      </g>\r\n     </g>\r\n    </g>\r\n    <g id=\"ytick_3\">\r\n     <g id=\"line2d_9\">\r\n      <g>\r\n       <use style=\"stroke:#000000;stroke-width:0.8;\" x=\"30.103125\" xlink:href=\"#m924298607b\" y=\"331.769927\"/>\r\n      </g>\r\n     </g>\r\n     <g id=\"text_9\">\r\n      <!-- 0.4 -->\r\n      <g transform=\"translate(7.2 335.569146)scale(0.1 -0.1)\">\r\n       <use xlink:href=\"#DejaVuSans-48\"/>\r\n       <use x=\"63.623047\" xlink:href=\"#DejaVuSans-46\"/>\r\n       <use x=\"95.410156\" xlink:href=\"#DejaVuSans-52\"/>\r\n      </g>\r\n     </g>\r\n    </g>\r\n    <g id=\"ytick_4\">\r\n     <g id=\"line2d_10\">\r\n      <g>\r\n       <use style=\"stroke:#000000;stroke-width:0.8;\" x=\"30.103125\" xlink:href=\"#m924298607b\" y=\"232.933564\"/>\r\n      </g>\r\n     </g>\r\n     <g id=\"text_10\">\r\n      <!-- 0.6 -->\r\n      <g transform=\"translate(7.2 236.732782)scale(0.1 -0.1)\">\r\n       <use xlink:href=\"#DejaVuSans-48\"/>\r\n       <use x=\"63.623047\" xlink:href=\"#DejaVuSans-46\"/>\r\n       <use x=\"95.410156\" xlink:href=\"#DejaVuSans-54\"/>\r\n      </g>\r\n     </g>\r\n    </g>\r\n    <g id=\"ytick_5\">\r\n     <g id=\"line2d_11\">\r\n      <g>\r\n       <use style=\"stroke:#000000;stroke-width:0.8;\" x=\"30.103125\" xlink:href=\"#m924298607b\" y=\"134.0972\"/>\r\n      </g>\r\n     </g>\r\n     <g id=\"text_11\">\r\n      <!-- 0.8 -->\r\n      <g transform=\"translate(7.2 137.896419)scale(0.1 -0.1)\">\r\n       <use xlink:href=\"#DejaVuSans-48\"/>\r\n       <use x=\"63.623047\" xlink:href=\"#DejaVuSans-46\"/>\r\n       <use x=\"95.410156\" xlink:href=\"#DejaVuSans-56\"/>\r\n      </g>\r\n     </g>\r\n    </g>\r\n    <g id=\"ytick_6\">\r\n     <g id=\"line2d_12\">\r\n      <g>\r\n       <use style=\"stroke:#000000;stroke-width:0.8;\" x=\"30.103125\" xlink:href=\"#m924298607b\" y=\"35.260836\"/>\r\n      </g>\r\n     </g>\r\n     <g id=\"text_12\">\r\n      <!-- 1.0 -->\r\n      <g transform=\"translate(7.2 39.060055)scale(0.1 -0.1)\">\r\n       <use xlink:href=\"#DejaVuSans-49\"/>\r\n       <use x=\"63.623047\" xlink:href=\"#DejaVuSans-46\"/>\r\n       <use x=\"95.410156\" xlink:href=\"#DejaVuSans-48\"/>\r\n      </g>\r\n     </g>\r\n    </g>\r\n   </g>\r\n   <g id=\"line2d_13\">\r\n    <path clip-path=\"url(#pc9c5aeda31)\" d=\"M 55.466761 529.590909 \r\nL 60.590728 529.585914 \r\nL 65.714695 529.580899 \r\nL 70.838662 529.575842 \r\nL 75.962629 529.570721 \r\nL 81.086596 529.565511 \r\nL 86.210563 529.560183 \r\nL 91.33453 529.554702 \r\nL 96.458497 529.549023 \r\nL 101.582464 529.543092 \r\nL 106.706431 529.53683 \r\nL 111.830398 529.530128 \r\nL 116.954365 529.522815 \r\nL 122.078332 529.514592 \r\nL 127.202299 529.504854 \r\nL 132.326265 528.99765 \r\nL 137.450232 515.138702 \r\nL 142.574199 496.363367 \r\nL 147.698166 484.476452 \r\nL 152.822133 474.566475 \r\nL 157.9461 465.00543 \r\nL 163.070067 456.786245 \r\nL 168.194034 447.0822 \r\nL 173.318001 440.935068 \r\nL 178.441968 430.636724 \r\nL 183.565935 428.214243 \r\nL 188.689902 419.670648 \r\nL 193.813869 411.733238 \r\nL 198.937836 405.90569 \r\nL 204.061803 403.425742 \r\nL 209.18577 394.668214 \r\nL 214.309737 388.238225 \r\nL 219.433704 380.592198 \r\nL 224.55767 371.304233 \r\nL 229.681637 364.755098 \r\nL 234.805604 364.741523 \r\nL 239.929571 364.725739 \r\nL 245.053538 355.02069 \r\nL 250.177505 347.34421 \r\nL 255.301472 340.181077 \r\nL 260.425439 331.781798 \r\nL 265.549406 328.860245 \r\nL 270.673373 320.806253 \r\nL 275.79734 314.249592 \r\nL 280.921307 306.492612 \r\nL 286.045274 297.61019 \r\nL 291.169241 282.568919 \r\nL 296.293208 282.541031 \r\nL 301.417175 282.523112 \r\nL 306.541142 282.50751 \r\nL 311.665108 282.49249 \r\nL 316.789075 282.24509 \r\nL 321.913042 282.238594 \r\nL 327.037009 282.226951 \r\nL 332.160976 267.097455 \r\nL 337.284943 258.331106 \r\nL 342.40891 250.576764 \r\nL 347.532877 244.058393 \r\nL 352.656844 235.868004 \r\nL 357.780811 232.941635 \r\nL 362.904778 224.527356 \r\nL 368.028745 217.468493 \r\nL 373.152712 209.697718 \r\nL 378.276679 200.152939 \r\nL 383.400646 199.977085 \r\nL 388.524613 199.946133 \r\nL 393.64858 193.39039 \r\nL 398.772546 184.279439 \r\nL 403.896513 176.488025 \r\nL 409.02048 170.051772 \r\nL 414.144447 161.278518 \r\nL 419.268414 158.760481 \r\nL 424.392381 153.139345 \r\nL 429.516348 145.115461 \r\nL 434.640315 136.430302 \r\nL 439.764282 134.042072 \r\nL 444.888249 123.950045 \r\nL 450.012216 117.618609 \r\nL 455.136183 107.930967 \r\nL 460.26015 99.78272 \r\nL 465.384117 90.287931 \r\nL 470.508084 80.139181 \r\nL 475.632051 68.177649 \r\nL 480.756018 49.375958 \r\nL 485.879985 35.508168 \r\nL 491.003951 35.495146 \r\nL 496.127918 35.485408 \r\nL 501.251885 35.477185 \r\nL 506.375852 35.469872 \r\nL 511.499819 35.46317 \r\nL 516.623786 35.456908 \r\nL 521.747753 35.450977 \r\nL 526.87172 35.445298 \r\nL 531.995687 35.439817 \r\nL 537.119654 35.434489 \r\nL 542.243621 35.429279 \r\nL 547.367588 35.424158 \r\nL 552.491555 35.419101 \r\nL 557.615522 35.414086 \r\nL 562.739489 35.409091 \r\n\" style=\"fill:none;stroke:#1f77b4;stroke-linecap:square;stroke-width:1.5;\"/>\r\n   </g>\r\n   <g id=\"patch_3\">\r\n    <path d=\"M 30.103125 554.3 \r\nL 30.103125 10.7 \r\n\" style=\"fill:none;stroke:#000000;stroke-linecap:square;stroke-linejoin:miter;stroke-width:0.8;\"/>\r\n   </g>\r\n   <g id=\"patch_4\">\r\n    <path d=\"M 588.103125 554.3 \r\nL 588.103125 10.7 \r\n\" style=\"fill:none;stroke:#000000;stroke-linecap:square;stroke-linejoin:miter;stroke-width:0.8;\"/>\r\n   </g>\r\n   <g id=\"patch_5\">\r\n    <path d=\"M 30.103125 554.3 \r\nL 588.103125 554.3 \r\n\" style=\"fill:none;stroke:#000000;stroke-linecap:square;stroke-linejoin:miter;stroke-width:0.8;\"/>\r\n   </g>\r\n   <g id=\"patch_6\">\r\n    <path d=\"M 30.103125 10.7 \r\nL 588.103125 10.7 \r\n\" style=\"fill:none;stroke:#000000;stroke-linecap:square;stroke-linejoin:miter;stroke-width:0.8;\"/>\r\n   </g>\r\n  </g>\r\n </g>\r\n <defs>\r\n  <clipPath id=\"pc9c5aeda31\">\r\n   <rect height=\"543.6\" width=\"558\" x=\"30.103125\" y=\"10.7\"/>\r\n  </clipPath>\r\n </defs>\r\n</svg>\r\n",
      "image/png": "[encoded data removed]"
     },
     "metadata": {
      "needs_background": "light"
     }
    }
   ],
   "source": [
    "# YOUR CODE HERE\n",
    "omegas = np.linspace(0, 1, 100)\n",
    "plt.figure(figsize=(10, 10))\n",
    "plt.plot(omegas, rotation_number2(omegas, 1, 0.3, 1000))"
   ]
  },
  {
   "cell_type": "markdown",
   "id": "regular-property",
   "metadata": {
    "deletable": false,
    "editable": false,
    "nbgrader": {
     "cell_type": "markdown",
     "checksum": "02bf6bf6454cce62bab2363eac43a300",
     "grade": false,
     "grade_id": "cell-d5941a0f1eb00edd",
     "locked": true,
     "schema_version": 3,
     "solution": false,
     "task": false
    }
   },
   "source": [
    "(h) Repeat parts (f) and (g), this time for \n",
    "$$\\Omega = 0.000, 0.001, 0.002, \\dots, 1.000$$\n",
    "and $N=10000$ (use the same values for $K$ and $\\theta_0$). Use the `time` function from the `time` module to time the operations. \n",
    "\n",
    "Which of the following statements is true?\n",
    "\n",
    "<ol>\n",
    "    <li>The first method, based entirely on comprehensions and loops, and the second method, using vectorization, execute this task in similar time.</li>\n",
    "    <li>The first method, based entirely on comprehensions and loops, executes this task faster than the second method, using vectorization.</li>\n",
    "    <li>The first method, based entirely on comprehensions and loops, executes this task slower than the second method, using vectorization.</li>\n",
    "</ol>"
   ]
  },
  {
   "cell_type": "code",
   "execution_count": 51,
   "id": "agreed-grocery",
   "metadata": {
    "deletable": false,
    "nbgrader": {
     "cell_type": "code",
     "checksum": "c0eeebeb35a55a1d121eeb1071929e44",
     "grade": false,
     "grade_id": "cell-135f4a4df99980ad",
     "locked": false,
     "schema_version": 3,
     "solution": true,
     "task": false
    }
   },
   "outputs": [
    {
     "output_type": "stream",
     "name": "stdout",
     "text": [
      "[-2.9999999999999997e-05, -2.8989219643494646e-05, -2.7974333351206566e-05, -2.6951082591704722e-05, -2.5914887487440535e-05, -2.4860642284461963e-05, -2.378244718793068e-05, -2.2673232385165897e-05, -2.1524198096520893e-05, -2.0323929271034446e-05, -1.9056901082222254e-05, -1.770074954893707e-05, -1.6220750930922073e-05, -1.4556929097837554e-05, -1.2586316263434447e-05, 9.00487076333947e-05, 0.028595721797455696, 0.06669374836648247, 0.09090566462605154, 0.11110445142802541, 0.13042354613932627, 0.14705429515435278, 0.166666022853857, 0.17922697067569232, 0.19999384174342646, 0.20473734849253994, 0.22221287843364304, 0.23829744169041145, 0.24999828206369853, 0.2550016514793276, 0.272715575682793, 0.2857097580794685, 0.30135429094523275, 0.3200000484609076, 0.3333252965255595, 0.3333280435432968, 0.33333123747940613, 0.35293340454850697, 0.3686201692069632, 0.3829803817554888, 0.3999975979703942, 0.40593023252702753, 0.42235379538944773, 0.4356286888590192, 0.4513199269059069, 0.469213867885099, 0.49995605399036847, 0.49996169718554473, 0.49996532311007424, 0.4999684803180637, 0.4999715196819365, 0.5000215821715459, 0.5000228967645638, 0.5000252527492869, 0.530783226641756, 0.5486493683201819, 0.5643414536120045, 0.5776253494351221, 0.5940373017532643, 0.5999983667835195, 0.617019753350584, 0.6313468831038205, 0.6470371407635792, 0.666633312553929, 0.6666688974449523, 0.6666751607392103, 0.6800017459039837, 0.6986272088851767, 0.7142666238161935, 0.7272526511821293, 0.7449725948630938, 0.7500092698113658, 0.7617045296628058, 0.7777704033753459, 0.7952435709598245, 0.8000111554186704, 0.8207414427161417, 0.8333345199292226, 0.8529376360058455, 0.8695459632629694, 0.8888650102417347, 0.9090655707098287, 0.9333391290922096, 0.9714418966668953, 0.9999499512923666, 0.9999525863162637, 0.999954556929098, 0.999956220750931, 0.999957700749549, 0.9999590569010823, 0.999960323929271, 0.9999615241980968, 0.9999626732323853, 0.9999637824471882, 0.9999648606422846, 0.9999659148874874, 0.9999669510825917, 0.9999679743333514, 0.9999689892196436, 0.99997]\n0.7967236042022705\n0.04303860664367676\n"
     ]
    }
   ],
   "source": [
    "# YOUR CODE HERE\n",
    "from time import time\n",
    "omegas = np.linspace(0, 1, 100)\n",
    "start = time()\n",
    "rotation_number_list1(omegas, 1, 0.3)\n",
    "print(time() - start)\n",
    "start = time()\n",
    "rotation_number2(omegas, 1, 0.3)\n",
    "print(time() - start)\n",
    "\n",
    "question3h_answer = 3"
   ]
  },
  {
   "cell_type": "code",
   "execution_count": 52,
   "id": "radical-thing",
   "metadata": {
    "deletable": false,
    "editable": false,
    "nbgrader": {
     "cell_type": "code",
     "checksum": "bd32571312ca78c5dc761df14a7c7f1e",
     "grade": true,
     "grade_id": "cell-0e2d33207cdcb7f8",
     "locked": true,
     "points": 1,
     "schema_version": 3,
     "solution": false,
     "task": false
    }
   },
   "outputs": [
    {
     "output_type": "stream",
     "name": "stdout",
     "text": [
      "test case passed!\n"
     ]
    }
   ],
   "source": [
    "# 1 Mark\n",
    "assert(question3h_answer == question3h())\n",
    "print('test case passed!')"
   ]
  },
  {
   "cell_type": "markdown",
   "id": "published-joyce",
   "metadata": {
    "deletable": false,
    "editable": false,
    "nbgrader": {
     "cell_type": "markdown",
     "checksum": "da8b91053e35dc6abaa32ba1f309bf17",
     "grade": false,
     "grade_id": "cell-f322390caad2dcb9",
     "locked": true,
     "schema_version": 3,
     "solution": false,
     "task": false
    }
   },
   "source": [
    "## Question 4\n",
    "\n",
    "(a) Create an array called `ints` containing all the integers between 2 and 30 inclusive."
   ]
  },
  {
   "cell_type": "code",
   "execution_count": 53,
   "id": "explicit-carbon",
   "metadata": {
    "deletable": false,
    "nbgrader": {
     "cell_type": "code",
     "checksum": "ce5f57b73cacd568e652c4c73e505ee5",
     "grade": false,
     "grade_id": "cell-eac09923cde5db3a",
     "locked": false,
     "schema_version": 3,
     "solution": true,
     "task": false
    }
   },
   "outputs": [
    {
     "output_type": "stream",
     "name": "stdout",
     "text": [
      "[ 2  3  4  5  6  7  8  9 10 11 12 13 14 15 16 17 18 19 20 21 22 23 24 25\n 26 27 28 29 30]\n"
     ]
    }
   ],
   "source": [
    "# YOUR CODE HERE\n",
    "ints = np.arange(2, 31, 1)\n",
    "\n",
    "print(ints)"
   ]
  },
  {
   "cell_type": "code",
   "execution_count": 54,
   "id": "increasing-effect",
   "metadata": {
    "deletable": false,
    "editable": false,
    "nbgrader": {
     "cell_type": "code",
     "checksum": "5b34d6517102bed016468c6d3f9881de",
     "grade": true,
     "grade_id": "cell-d52e44e778dc2558",
     "locked": true,
     "points": 2,
     "schema_version": 3,
     "solution": false,
     "task": false
    }
   },
   "outputs": [
    {
     "output_type": "stream",
     "name": "stdout",
     "text": [
      "ints contains the right numbers\nints is a numpy array\n\n2 out of 2\n"
     ]
    },
    {
     "output_type": "execute_result",
     "data": {
      "text/plain": [
       "2"
      ]
     },
     "metadata": {},
     "execution_count": 54
    }
   ],
   "source": [
    "# 2 Marks\n",
    "# Do not try to delete this cell\n",
    "# Run this cell for grading\n",
    "_globals = globals()\n",
    "question4a(_globals)"
   ]
  },
  {
   "cell_type": "markdown",
   "id": "common-earth",
   "metadata": {
    "deletable": false,
    "editable": false,
    "nbgrader": {
     "cell_type": "markdown",
     "checksum": "1bb2c3930db8cbfd3d3ddeffb7be7920",
     "grade": false,
     "grade_id": "cell-4881007ac42b4df4",
     "locked": true,
     "schema_version": 3,
     "solution": false,
     "task": false
    }
   },
   "source": [
    "(b) Create, in one line, without using a comprehension, a Boolean array `bool1` consisting of `True` wherever the corresponding element of `ints` is divisible by 5, and `False` everywhere else; it should thus begin, when printed,\n",
    "\n",
    "```\n",
    "[False False False  True ...\n",
    "```"
   ]
  },
  {
   "cell_type": "code",
   "execution_count": 55,
   "id": "chronic-calgary",
   "metadata": {
    "deletable": false,
    "nbgrader": {
     "cell_type": "code",
     "checksum": "971895fdc1fc0339221f9ef7f5ca648d",
     "grade": false,
     "grade_id": "cell-ecda2f6c00c81c7c",
     "locked": false,
     "schema_version": 3,
     "solution": true,
     "task": false
    }
   },
   "outputs": [
    {
     "output_type": "stream",
     "name": "stdout",
     "text": [
      "[[False False False  True False False False False  True False False False\n  False  True False False False False  True False False False False  True\n  False False False False  True]]\n"
     ]
    }
   ],
   "source": [
    "# YOUR CODE HERE\n",
    "bool1 = [ints % 5 == 0]\n",
    "bool1 = np.array(bool1)\n",
    "\n",
    "print(bool1)"
   ]
  },
  {
   "cell_type": "code",
   "execution_count": 56,
   "id": "acknowledged-boring",
   "metadata": {
    "deletable": false,
    "editable": false,
    "nbgrader": {
     "cell_type": "code",
     "checksum": "403f93e4c66bdaddb60f392c7be76de3",
     "grade": true,
     "grade_id": "cell-e1fabf84a9751575",
     "locked": true,
     "points": 2,
     "schema_version": 3,
     "solution": false,
     "task": false
    }
   },
   "outputs": [
    {
     "output_type": "stream",
     "name": "stdout",
     "text": [
      "bool1 contains the right truth values\nbool1 is a numpy array\n\n2 out of 2\n"
     ]
    },
    {
     "output_type": "execute_result",
     "data": {
      "text/plain": [
       "2"
      ]
     },
     "metadata": {},
     "execution_count": 56
    }
   ],
   "source": [
    "# 2 Marks\n",
    "# Do not try to delete this cell\n",
    "# Run this cell for grading\n",
    "_globals = globals()\n",
    "question4b(_globals)"
   ]
  },
  {
   "cell_type": "markdown",
   "id": "muslim-redhead",
   "metadata": {
    "deletable": false,
    "editable": false,
    "nbgrader": {
     "cell_type": "markdown",
     "checksum": "120af08c5563cc6597c868dd06444844",
     "grade": false,
     "grade_id": "cell-eb42110e2d01ca1f",
     "locked": true,
     "schema_version": 3,
     "solution": false,
     "task": false
    }
   },
   "source": [
    "(c) In one line, without using a comprehension, create an array `ints2` consisting of all those elements of `ints` that are not divisible by 5. "
   ]
  },
  {
   "cell_type": "code",
   "execution_count": 57,
   "id": "junior-nitrogen",
   "metadata": {
    "deletable": false,
    "nbgrader": {
     "cell_type": "code",
     "checksum": "96294622da4046413312e489de130e00",
     "grade": false,
     "grade_id": "cell-794f25e0bac35656",
     "locked": false,
     "schema_version": 3,
     "solution": true,
     "task": false
    }
   },
   "outputs": [
    {
     "output_type": "stream",
     "name": "stdout",
     "text": [
      "[ 2  3  4  6  7  8  9 11 12 13 14 16 17 18 19 21 22 23 24 26 27 28 29]\n"
     ]
    }
   ],
   "source": [
    "# YOUR CODE HERE\n",
    "ints2 = ints[ints % 5 != 0]\n",
    "\n",
    "print(ints2)"
   ]
  },
  {
   "cell_type": "code",
   "execution_count": 58,
   "id": "primary-grant",
   "metadata": {
    "deletable": false,
    "editable": false,
    "nbgrader": {
     "cell_type": "code",
     "checksum": "5c8ac72b6ee5ba64b1c290a63a821bef",
     "grade": true,
     "grade_id": "cell-190de25fd929f66e",
     "locked": true,
     "points": 2,
     "schema_version": 3,
     "solution": false,
     "task": false
    }
   },
   "outputs": [
    {
     "output_type": "stream",
     "name": "stdout",
     "text": [
      "ints2 contains the right numbers\nints2 is a numpy array\n\n2 out of 2\n"
     ]
    },
    {
     "output_type": "execute_result",
     "data": {
      "text/plain": [
       "2"
      ]
     },
     "metadata": {},
     "execution_count": 58
    }
   ],
   "source": [
    "# 2 Marks\n",
    "# Do not try to delete this cell\n",
    "# Run this cell for grading\n",
    "_globals = globals()\n",
    "question4c(_globals)"
   ]
  },
  {
   "cell_type": "markdown",
   "id": "random-harrison",
   "metadata": {
    "deletable": false,
    "editable": false,
    "nbgrader": {
     "cell_type": "markdown",
     "checksum": "56b88eae4a1a7e0e2409339272cc0e70",
     "grade": false,
     "grade_id": "cell-947a95bfa58cdece",
     "locked": true,
     "schema_version": 3,
     "solution": false,
     "task": false
    }
   },
   "source": [
    "(d) In one line, without using a comprehension, create an array `ints3` consisting of all those elements of `ints` that are divisible by neither 3 nor 4."
   ]
  },
  {
   "cell_type": "code",
   "execution_count": 59,
   "id": "dependent-stocks",
   "metadata": {
    "deletable": false,
    "nbgrader": {
     "cell_type": "code",
     "checksum": "20809e16321ab1bf2e3a15f14238b50d",
     "grade": false,
     "grade_id": "cell-2095db5e816b850c",
     "locked": false,
     "schema_version": 3,
     "solution": true,
     "task": false
    }
   },
   "outputs": [
    {
     "output_type": "stream",
     "name": "stdout",
     "text": [
      "[ 2  5  7 10 11 13 14 17 19 22 23 25 26 29]\n"
     ]
    }
   ],
   "source": [
    "# YOUR CODE HERE\n",
    "ints3 = ints[(ints % 3 != 0) & (ints % 4 != 0)]\n",
    "\n",
    "print(ints3)"
   ]
  },
  {
   "cell_type": "code",
   "execution_count": 60,
   "id": "advanced-basic",
   "metadata": {
    "deletable": false,
    "editable": false,
    "nbgrader": {
     "cell_type": "code",
     "checksum": "19785fe48cc8a9d01e239ca530d2cb52",
     "grade": true,
     "grade_id": "cell-7e9789685eae5a84",
     "locked": true,
     "points": 2,
     "schema_version": 3,
     "solution": false,
     "task": false
    }
   },
   "outputs": [
    {
     "output_type": "stream",
     "name": "stdout",
     "text": [
      "ints3 contains the right numbers\nints3 is a numpy array\n\n2 out of 2\n"
     ]
    },
    {
     "output_type": "execute_result",
     "data": {
      "text/plain": [
       "2"
      ]
     },
     "metadata": {},
     "execution_count": 60
    }
   ],
   "source": [
    "# 2 Marks\n",
    "# Do not try to delete this cell\n",
    "# Run this cell for grading\n",
    "_globals = globals()\n",
    "question4d(_globals)"
   ]
  },
  {
   "cell_type": "markdown",
   "id": "major-munich",
   "metadata": {
    "deletable": false,
    "editable": false,
    "nbgrader": {
     "cell_type": "markdown",
     "checksum": "68a80d12ab459b75c32b3d35f38a71b6",
     "grade": false,
     "grade_id": "cell-1ce045a5cb566b96",
     "locked": true,
     "schema_version": 3,
     "solution": false,
     "task": false
    }
   },
   "source": [
    "(e) In one line, without using a comprehension, create an array `ints4` consisting of all those elements of `ints` that are either equal to 2 or not divisible by 2."
   ]
  },
  {
   "cell_type": "code",
   "execution_count": 61,
   "id": "normal-venice",
   "metadata": {
    "deletable": false,
    "nbgrader": {
     "cell_type": "code",
     "checksum": "1d7d88273a01381ebd0463bd63324e9f",
     "grade": false,
     "grade_id": "cell-3b3d86d1a82f3819",
     "locked": false,
     "schema_version": 3,
     "solution": true,
     "task": false
    }
   },
   "outputs": [
    {
     "output_type": "stream",
     "name": "stdout",
     "text": [
      "[ 2  3  5  7  9 11 13 15 17 19 21 23 25 27 29]\n"
     ]
    }
   ],
   "source": [
    "# YOUR CODE HERE\n",
    "ints4 = ints[(ints == 2) | (ints % 2 != 0)]\n",
    "\n",
    "print(ints4)"
   ]
  },
  {
   "cell_type": "code",
   "execution_count": 62,
   "id": "pending-german",
   "metadata": {
    "deletable": false,
    "editable": false,
    "nbgrader": {
     "cell_type": "code",
     "checksum": "e29af5bdbebe86d99ace5f9c448800f4",
     "grade": true,
     "grade_id": "cell-9c8a2db5fa301d58",
     "locked": true,
     "points": 2,
     "schema_version": 3,
     "solution": false,
     "task": false
    }
   },
   "outputs": [
    {
     "output_type": "stream",
     "name": "stdout",
     "text": [
      "ints4 contains the right numbers\nints4 is a numpy array\n\n2 out of 2\n"
     ]
    },
    {
     "output_type": "execute_result",
     "data": {
      "text/plain": [
       "2"
      ]
     },
     "metadata": {},
     "execution_count": 62
    }
   ],
   "source": [
    "# 2 Marks\n",
    "# Do not try to delete this cell\n",
    "# Run this cell for grading\n",
    "_globals = globals()\n",
    "question4e(_globals)"
   ]
  },
  {
   "cell_type": "markdown",
   "id": "preceding-virgin",
   "metadata": {
    "deletable": false,
    "editable": false,
    "nbgrader": {
     "cell_type": "markdown",
     "checksum": "e577584e791e83a20beb3094a07eb73a",
     "grade": false,
     "grade_id": "cell-248aaa857c22b3eb",
     "locked": true,
     "schema_version": 3,
     "solution": false,
     "task": false
    }
   },
   "source": [
    "(f) Write and test a function called `my_primes2` that takes as its argument an int `n` greater than or equal to 2, and returns a NumPy array consisting of all the primes between 2 and `n` inclusive. Your function should use the Sieve of Eratosthenes, should work using Boolean arrays instead of comprehensions and should not use more iterations than are strictly necessary."
   ]
  },
  {
   "cell_type": "code",
   "execution_count": 63,
   "id": "homeless-blanket",
   "metadata": {
    "deletable": false,
    "nbgrader": {
     "cell_type": "code",
     "checksum": "1bb802d21e7903e106d8aa4c34200368",
     "grade": false,
     "grade_id": "cell-f3c52ab5aef547d6",
     "locked": false,
     "schema_version": 3,
     "solution": true,
     "task": false
    }
   },
   "outputs": [
    {
     "output_type": "execute_result",
     "data": {
      "text/plain": [
       "array([ 2,  3,  5,  7, 11, 13, 17, 19, 23, 29, 31, 37, 41, 43, 47, 53, 59])"
      ]
     },
     "metadata": {},
     "execution_count": 63
    }
   ],
   "source": [
    "def my_primes2(n):\n",
    "    \"\"\"\n",
    "    Uses the boolean properties of the numpy arrays\n",
    "     to apply the Sieve of Eratosthenes and get a list\n",
    "     of all the primes less than the argument n\n",
    "    \"\"\"\n",
    "    p = 2\n",
    "    i = 0\n",
    "    nums = np.arange(2, n+1, 1)\n",
    "    while p < np.sqrt(n):\n",
    "        i += 1\n",
    "        nums = nums[(nums <= p) | (nums % p != 0)]\n",
    "        p = nums[i]\n",
    "    return nums\n",
    "        \n",
    "my_primes2(60)"
   ]
  },
  {
   "cell_type": "code",
   "execution_count": 64,
   "id": "automotive-hardware",
   "metadata": {
    "deletable": false,
    "editable": false,
    "nbgrader": {
     "cell_type": "code",
     "checksum": "bdf5364485f1cd772b67eea273720523",
     "grade": true,
     "grade_id": "cell-0d8cd3336582ffe3",
     "locked": true,
     "points": 6,
     "schema_version": 3,
     "solution": false,
     "task": false
    }
   },
   "outputs": [
    {
     "output_type": "stream",
     "name": "stdout",
     "text": [
      "Testing with a non-square composite value of n:\nTest passed!\n\nTesting with a prime value of n:\nTest passed!\n\nTesting with a prime-squared value of n:\nTest failed!\n\nTesting edge case n = 2:\nTest passed!\n\nTesting output type (should be a numpy array):\nTest passed!\n\nTesting for the presence of a docstring:\nThe function my_primes2 seems to have a docstring\n\n\n5 out of 6\n"
     ]
    },
    {
     "output_type": "execute_result",
     "data": {
      "text/plain": [
       "5"
      ]
     },
     "metadata": {},
     "execution_count": 64
    }
   ],
   "source": [
    "# 6 Marks\n",
    "# Do not try to delete this cell\n",
    "# Run this cell for grading\n",
    "_globals = globals()\n",
    "question4f(_globals)"
   ]
  },
  {
   "cell_type": "markdown",
   "id": "palestinian-communications",
   "metadata": {
    "deletable": false,
    "editable": false,
    "nbgrader": {
     "cell_type": "markdown",
     "checksum": "f2d27b580ec757b9b538fd44b38ca05c",
     "grade": false,
     "grade_id": "cell-f72cf2864c0ff37a",
     "locked": true,
     "schema_version": 3,
     "solution": false,
     "task": false
    }
   },
   "source": [
    "(g) Write, or get from somewhere, a version called `my_primes1` which uses \"core\" Python lists instead, and filters using comprehensions instead of Boolean arrays. Test it."
   ]
  },
  {
   "cell_type": "code",
   "execution_count": 65,
   "id": "operating-passenger",
   "metadata": {
    "deletable": false,
    "nbgrader": {
     "cell_type": "code",
     "checksum": "8421c0292a49414a8aff454fab651035",
     "grade": false,
     "grade_id": "cell-5a61d3c0313b5e3e",
     "locked": false,
     "schema_version": 3,
     "solution": true,
     "task": false
    }
   },
   "outputs": [
    {
     "output_type": "execute_result",
     "data": {
      "text/plain": [
       "[2, 3, 5, 7, 11, 13, 17, 19, 23, 29, 31, 37, 41, 43, 47, 49]"
      ]
     },
     "metadata": {},
     "execution_count": 65
    }
   ],
   "source": [
    "def my_primes1(n):\n",
    "    \"\"\"\n",
    "    This function does the same thing but worse\n",
    "    \"\"\"\n",
    "    p = 2\n",
    "    i = 0\n",
    "    nums = [n for n in range(2, n+1)]\n",
    "    while p < np.sqrt(n):\n",
    "        i += 1\n",
    "        for item in nums:\n",
    "            if (item > p) and (item % p == 0):\n",
    "                nums.remove(item)\n",
    "        p = nums[i]\n",
    "    return nums\n",
    "\n",
    "my_primes1(49)"
   ]
  },
  {
   "cell_type": "code",
   "execution_count": 66,
   "id": "valid-blanket",
   "metadata": {
    "deletable": false,
    "editable": false,
    "nbgrader": {
     "cell_type": "code",
     "checksum": "567a9efe8f6fddca64d8462a2aceecf4",
     "grade": true,
     "grade_id": "cell-d2a98728ef5b8a8e",
     "locked": true,
     "points": 6,
     "schema_version": 3,
     "solution": false,
     "task": false
    }
   },
   "outputs": [
    {
     "output_type": "stream",
     "name": "stdout",
     "text": [
      "Testing with a non-square composite value of n:\nTest passed!\n\nTesting with a prime value of n:\nTest passed!\n\nTesting with a prime-squared value of n:\nTest failed!\n\nTesting edge case n = 2:\nTest passed!\n\nTesting output type (should be a list):\nTest passed!\n\nTesting for the presence of a docstring:\nThe function my_primes1 seems to have a docstring\n\n\n5 out of 6\n"
     ]
    },
    {
     "output_type": "execute_result",
     "data": {
      "text/plain": [
       "5"
      ]
     },
     "metadata": {},
     "execution_count": 66
    }
   ],
   "source": [
    "# 6 Marks\n",
    "# Do not try to delete this cell\n",
    "# Run this cell for grading\n",
    "_globals = globals()\n",
    "question4g(_globals)"
   ]
  },
  {
   "cell_type": "markdown",
   "id": "authorized-technique",
   "metadata": {
    "deletable": false,
    "editable": false,
    "nbgrader": {
     "cell_type": "markdown",
     "checksum": "1a04b173278fac030ca69e846fb87739",
     "grade": false,
     "grade_id": "cell-162ebbecbc6222e6",
     "locked": true,
     "schema_version": 3,
     "solution": false,
     "task": false
    }
   },
   "source": [
    "(h) You can probably guess by now whether this comprehension version, or the version using Boolean arrays, is likely to run quickest when asked to find the primes between 2 and one million; however, satisfy yourself that you're right about that using `time`! (I won't test you on it.)"
   ]
  },
  {
   "cell_type": "markdown",
   "id": "dedicated-hollywood",
   "metadata": {
    "deletable": false,
    "editable": false,
    "nbgrader": {
     "cell_type": "markdown",
     "checksum": "c7f4e5248c12a79ac3b73def60c556a7",
     "grade": false,
     "grade_id": "cell-cb196728662d736d",
     "locked": true,
     "schema_version": 3,
     "solution": false,
     "task": false
    }
   },
   "source": [
    "## Bonus Question 1\n",
    "\n",
    "Consider a list of integers denoting the positions of people queuing in a line, where the person in the front of the queue is integer 1, the second person 2, all the way to the last person in position $n$. In this queue, an individual can bribe the person directly in front of them and can at most make two bribes. Write a function that takes in an array of integers and determines the number of bribes required to get the queue into its current state. If the queue is not possible to achieve through the bribing mechanism described above, then the function should return the string `not possible`. \n",
    "\n",
    "**Example:**\n",
    "\n",
    "Given the input `[2, 1, 5, 3, 4]`, the function should return 3. This being the number of bribes to move from `[1, 2, 3, 4, 5]` to the given input."
   ]
  },
  {
   "cell_type": "code",
   "execution_count": 67,
   "id": "usual-bedroom",
   "metadata": {
    "deletable": false,
    "nbgrader": {
     "cell_type": "code",
     "checksum": "989814dc1b337ed92fbd7771ca86a82b",
     "grade": false,
     "grade_id": "cell-e67bfeb44c6ce07b",
     "locked": false,
     "schema_version": 3,
     "solution": true,
     "task": false
    }
   },
   "outputs": [],
   "source": [
    "def queue_bribe(q):\n",
    "    # YOUR CODE HERE\n",
    "    raise NotImplementedError()\n"
   ]
  },
  {
   "cell_type": "code",
   "execution_count": 68,
   "id": "contrary-remains",
   "metadata": {
    "deletable": false,
    "editable": false,
    "nbgrader": {
     "cell_type": "code",
     "checksum": "4464014581c65c98fd1cb1f9a8fa56d9",
     "grade": true,
     "grade_id": "cell-49a56ae5102a328e",
     "locked": true,
     "points": 1,
     "schema_version": 3,
     "solution": false,
     "task": false
    }
   },
   "outputs": [
    {
     "output_type": "error",
     "ename": "NotImplementedError",
     "evalue": "",
     "traceback": [
      "\u001b[1;31m---------------------------------------------------------------------------\u001b[0m",
      "\u001b[1;31mNotImplementedError\u001b[0m                       Traceback (most recent call last)",
      "\u001b[1;32m<ipython-input-68-02fa66ad1da3>\u001b[0m in \u001b[0;36m<module>\u001b[1;34m\u001b[0m\n\u001b[0;32m      5\u001b[0m \u001b[0mq\u001b[0m \u001b[1;33m=\u001b[0m \u001b[1;33m[\u001b[0m\u001b[1;36m2\u001b[0m\u001b[1;33m,\u001b[0m \u001b[1;36m1\u001b[0m\u001b[1;33m,\u001b[0m \u001b[1;36m5\u001b[0m\u001b[1;33m,\u001b[0m \u001b[1;36m3\u001b[0m\u001b[1;33m,\u001b[0m \u001b[1;36m4\u001b[0m\u001b[1;33m]\u001b[0m\u001b[1;33m\u001b[0m\u001b[1;33m\u001b[0m\u001b[0m\n\u001b[0;32m      6\u001b[0m \u001b[0mtans\u001b[0m \u001b[1;33m=\u001b[0m \u001b[1;36m3\u001b[0m\u001b[1;33m\u001b[0m\u001b[1;33m\u001b[0m\u001b[0m\n\u001b[1;32m----> 7\u001b[1;33m \u001b[1;32massert\u001b[0m\u001b[1;33m(\u001b[0m\u001b[0mqueue_bribe\u001b[0m\u001b[1;33m(\u001b[0m\u001b[0mq\u001b[0m\u001b[1;33m)\u001b[0m \u001b[1;33m==\u001b[0m \u001b[0mtans\u001b[0m\u001b[1;33m)\u001b[0m\u001b[1;33m\u001b[0m\u001b[1;33m\u001b[0m\u001b[0m\n\u001b[0m\u001b[0;32m      8\u001b[0m \u001b[0mprint\u001b[0m\u001b[1;33m(\u001b[0m\u001b[1;34m'Test case passed!!!'\u001b[0m\u001b[1;33m)\u001b[0m\u001b[1;33m\u001b[0m\u001b[1;33m\u001b[0m\u001b[0m\n",
      "\u001b[1;32m<ipython-input-67-47e235db25a4>\u001b[0m in \u001b[0;36mqueue_bribe\u001b[1;34m(q)\u001b[0m\n\u001b[0;32m      1\u001b[0m \u001b[1;32mdef\u001b[0m \u001b[0mqueue_bribe\u001b[0m\u001b[1;33m(\u001b[0m\u001b[0mq\u001b[0m\u001b[1;33m)\u001b[0m\u001b[1;33m:\u001b[0m\u001b[1;33m\u001b[0m\u001b[1;33m\u001b[0m\u001b[0m\n\u001b[0;32m      2\u001b[0m     \u001b[1;31m# YOUR CODE HERE\u001b[0m\u001b[1;33m\u001b[0m\u001b[1;33m\u001b[0m\u001b[1;33m\u001b[0m\u001b[0m\n\u001b[1;32m----> 3\u001b[1;33m     \u001b[1;32mraise\u001b[0m \u001b[0mNotImplementedError\u001b[0m\u001b[1;33m(\u001b[0m\u001b[1;33m)\u001b[0m\u001b[1;33m\u001b[0m\u001b[1;33m\u001b[0m\u001b[0m\n\u001b[0m",
      "\u001b[1;31mNotImplementedError\u001b[0m: "
     ]
    }
   ],
   "source": [
    "# Run this test cell to check your code\n",
    "# Do not delete this cell\n",
    "# 1 mark\n",
    "# Unit test\n",
    "q = [2, 1, 5, 3, 4]\n",
    "tans = 3\n",
    "assert(queue_bribe(q) == tans)\n",
    "print('Test case passed!!!')"
   ]
  },
  {
   "cell_type": "code",
   "execution_count": null,
   "id": "martial-combat",
   "metadata": {
    "deletable": false,
    "editable": false,
    "nbgrader": {
     "cell_type": "code",
     "checksum": "a8d4fd038d8886e9b8be493151664664",
     "grade": true,
     "grade_id": "cell-524990b60feebde8",
     "locked": true,
     "points": 1,
     "schema_version": 3,
     "solution": false,
     "task": false
    }
   },
   "outputs": [],
   "source": [
    "# Run this test cell to check your code\n",
    "# Do not delete this cell\n",
    "# 1 mark\n",
    "# Unit test\n",
    "q = [2, 5, 1, 3, 4]\n",
    "tans = 'not possible'\n",
    "assert(queue_bribe(q) == tans)\n",
    "print('Test case passed!!!')"
   ]
  },
  {
   "cell_type": "code",
   "execution_count": null,
   "id": "present-prague",
   "metadata": {
    "deletable": false,
    "editable": false,
    "nbgrader": {
     "cell_type": "code",
     "checksum": "a0904501db8a9fac1d6b52ec4bd62074",
     "grade": true,
     "grade_id": "cell-cefcc33ba8419206",
     "locked": true,
     "points": 3,
     "schema_version": 3,
     "solution": false,
     "task": false
    }
   },
   "outputs": [],
   "source": [
    "# Hidden test\n",
    "# No output will be produced\n",
    "# 3 marks"
   ]
  },
  {
   "cell_type": "markdown",
   "id": "humanitarian-anderson",
   "metadata": {
    "deletable": false,
    "editable": false,
    "nbgrader": {
     "cell_type": "markdown",
     "checksum": "3ffd3854678f5b7af439e87347e26360",
     "grade": false,
     "grade_id": "cell-83b612ad27c9ec79",
     "locked": true,
     "schema_version": 3,
     "solution": false,
     "task": false
    }
   },
   "source": [
    "## Bonus Question 2\n",
    "\n",
    "Write a function `first_deriv_approx_data`, which takes as inputs, a vector of data points `x` and its corresponding $f(x)$ values `y`. The function should return the best possible approximations possible using the forward, backward and central difference formulae, i.e. the function should use the most accurate formula for each and every point. Should `x` or `y` be empty, then the function should return the string, `'Insufficient Data'`."
   ]
  },
  {
   "cell_type": "code",
   "execution_count": null,
   "id": "conservative-ladder",
   "metadata": {
    "deletable": false,
    "nbgrader": {
     "cell_type": "code",
     "checksum": "653f0c3340e89a151de59e0740ab2dcf",
     "grade": false,
     "grade_id": "cell-78c093eca8a031a2",
     "locked": false,
     "schema_version": 3,
     "solution": true,
     "task": false
    }
   },
   "outputs": [],
   "source": [
    "def first_deriv_approx_data(x, y):\n",
    "    # YOUR CODE HERE\n",
    "    raise NotImplementedError()"
   ]
  },
  {
   "cell_type": "code",
   "execution_count": null,
   "id": "specified-accommodation",
   "metadata": {
    "deletable": false,
    "editable": false,
    "nbgrader": {
     "cell_type": "code",
     "checksum": "ed7b7c3f62426b1fb10d4b9b133015d7",
     "grade": true,
     "grade_id": "cell-9f6f6248ae8d7384",
     "locked": true,
     "points": 1,
     "schema_version": 3,
     "solution": false,
     "task": false
    }
   },
   "outputs": [],
   "source": [
    "# Run this test cell to check your code\n",
    "# Do not delete this cell\n",
    "# 1 Mark\n",
    "x = np.array([1.1, 1.2, 1.3, 1.4]) \n",
    "y = np.array([9.025013, 11.02318, 13.46374, 16.44465])\n",
    "npt.assert_array_almost_equal([22.193635, 27.10735 ], first_deriv_approx_data(x, y)[1:-1])\n",
    "print(\"Test case passed!!!\")"
   ]
  },
  {
   "cell_type": "code",
   "execution_count": null,
   "id": "artificial-singing",
   "metadata": {
    "deletable": false,
    "editable": false,
    "nbgrader": {
     "cell_type": "code",
     "checksum": "2bed1c3122560d4cf3d91f724a6b8c9d",
     "grade": true,
     "grade_id": "cell-9bb25c809ff8ad35",
     "locked": true,
     "points": 1,
     "schema_version": 3,
     "solution": false,
     "task": false
    }
   },
   "outputs": [],
   "source": [
    "# Run this test cell to check your code\n",
    "# Do not delete this cell\n",
    "# 1 Mark\n",
    "x = np.array([1.1, 1.2, 1.3, 1.4]) \n",
    "y = np.array([9.025013, 11.02318, 13.46374, 16.44465])\n",
    "npt.assert_almost_equal(19.98167000000003,  first_deriv_approx_data(x, y)[0])\n",
    "print(\"Test case passed!!!\")"
   ]
  },
  {
   "cell_type": "code",
   "execution_count": null,
   "id": "collective-angle",
   "metadata": {
    "deletable": false,
    "editable": false,
    "nbgrader": {
     "cell_type": "code",
     "checksum": "26bbf6762bcd632d22f812609f2974cc",
     "grade": true,
     "grade_id": "cell-d31fe351f5c21be5",
     "locked": true,
     "points": 1,
     "schema_version": 3,
     "solution": false,
     "task": false
    }
   },
   "outputs": [],
   "source": [
    "# Run this test cell to check your code\n",
    "# Do not delete this cell\n",
    "# 1 Mark\n",
    "x = np.array([1.1, 1.2, 1.3, 1.4]) \n",
    "y = np.array([9.025013, 11.02318, 13.46374, 16.44465])\n",
    "npt.assert_almost_equal(29.809100000000036,  first_deriv_approx_data(x, y)[-1])\n",
    "print(\"Test case passed!!!\")"
   ]
  },
  {
   "cell_type": "code",
   "execution_count": null,
   "id": "concerned-continuity",
   "metadata": {
    "deletable": false,
    "editable": false,
    "nbgrader": {
     "cell_type": "code",
     "checksum": "505709fa723a8f4be8dfb775496b8103",
     "grade": true,
     "grade_id": "cell-00d699649ac22417",
     "locked": true,
     "points": 1,
     "schema_version": 3,
     "solution": false,
     "task": false
    }
   },
   "outputs": [],
   "source": [
    "# Run this test cell to check your code\n",
    "# Do not delete this cell\n",
    "# 1 Mark\n",
    "x = np.array([1.1, 1.2, 1.3, 1.4]) \n",
    "y = np.array([9.025013, 11.02318, 13.46374, 16.44465])\n",
    "npt.assert_array_almost_equal(np.array([19.98167 , 22.193635, 27.10735 , 29.8091  ]), first_deriv_approx_data(x, y))\n",
    "print('Test case passed!!!')"
   ]
  },
  {
   "cell_type": "code",
   "execution_count": null,
   "id": "successful-affect",
   "metadata": {
    "deletable": false,
    "editable": false,
    "nbgrader": {
     "cell_type": "code",
     "checksum": "0866ba9537b106c002f6ed33a00668a1",
     "grade": true,
     "grade_id": "cell-1f683b0b030307d4",
     "locked": true,
     "points": 2,
     "schema_version": 3,
     "solution": false,
     "task": false
    }
   },
   "outputs": [],
   "source": [
    "# Run this test cell to check your code\n",
    "# Do not delete this cell\n",
    "# 2 Marks"
   ]
  },
  {
   "cell_type": "code",
   "execution_count": null,
   "id": "controlling-scale",
   "metadata": {
    "deletable": false,
    "editable": false,
    "nbgrader": {
     "cell_type": "code",
     "checksum": "403cd816575fdf465a4b435fbb259153",
     "grade": true,
     "grade_id": "cell-b6bfeddfb200994e",
     "locked": true,
     "points": 2,
     "schema_version": 3,
     "solution": false,
     "task": false
    }
   },
   "outputs": [],
   "source": [
    "# Run this test cell to check your code\n",
    "# Do not delete this cell\n",
    "# 2 Marks"
   ]
  }
 ],
 "metadata": {
  "kernelspec": {
   "display_name": "Python 3",
   "language": "python",
   "name": "python3"
  },
  "language_info": {
   "codemirror_mode": {
    "name": "ipython",
    "version": 3
   },
   "file_extension": ".py",
   "mimetype": "text/x-python",
   "name": "python",
   "nbconvert_exporter": "python",
   "pygments_lexer": "ipython3",
   "version": "3.7.4-final"
  }
 },
 "nbformat": 4,
 "nbformat_minor": 5
}